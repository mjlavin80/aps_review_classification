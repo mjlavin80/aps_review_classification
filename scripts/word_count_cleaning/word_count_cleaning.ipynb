{
 "cells": [
  {
   "cell_type": "code",
   "execution_count": 1,
   "metadata": {},
   "outputs": [],
   "source": [
    "txt1 = \"\"\"\n",
    "                                                                                                STAGE WHISPERS.                 The Wise Men of the Square and their j Crooked Lays. j                 Some New Cranks and Features of the Nasty Male and Female Coterie Who Rule the Drama.                 Every noodle wlio lion a fow dollars to  now needs no Injunction to \"fc**p hh .\" But the trouble Is that almost  Patience on lire Uegt Is  \"kept.\"                 The I/  Kir*~rs  ay f*nmh  will never  h morn! reputation until aho has played In the MnlloryN           1 Madlion Kquare Theatre. Judfrtnti from the ancient              there, we don't think UiPMtncilflcurfon  works very well, tea bred In .ne. Fued. Zimmerman had bettor go hack to Philadelphia at one?, He can t  our Dutchmen how to run a hour garden. Ill* place, tough on li to, la loo *    , and Its immorality Is the toned-down Phluc rf'-  that doesn't count In tbe metropolis at nlL Lct us make n . They couldn't  a       orchestra than they have In the Four*             ?t Tlirntrc at pre-unt. Why not fire it out oud haw *~m. thine  in its mood? Sayan  nf Jcw*. That out of deference to Clio ^- and u majority of the deadhead patrons. Mallohv N trying to got Laura Don Into  convent  with lier new ploy. Xo use. Doctor- Ijiura it too young to resign the wicked world yet; lite hits        uf Jolly  and many a Knap before tier yet. BhewlUJoin   when slit- 1 i-     * old, -il and played out, like the rwi of (ho daisies In your old Indies' and gentlemen s home. Doctor. Henry Iitvixo will brine; IiIh mistress with him on hi* American tour, ond will parade her on tho . In there- any other profession  a man   little * this? And yet we musi  there Is Immorality on the si age lert a [, who are all tarred w'.lli tin: same wick i only with a Kramer sort , nmy   ai the sive away\" of the \" TiiKMiily genuine and reliable modern work tn- drama isthe hook lately published by Richard K. Fux,  \"Urvat ArUsts of tbe AraericauSlogt*.\" This hook hits tbe merit of treating the ai lists fairly In lln critical vein, while tbe portraits are not only truthful bat are executed la a high  ot art that ts calculated to make even     photographers tarn i; with envy. For rale by all newsdealer*. Price Me. Jimmy  Kl*s doesn't worn to he Mich a great man a* he wan a season or two ago. Klxws don't count ' nny more- It's ( hove the. bourn now. If Jimmy could only persuade some of hi!  to ft I or ' part of Ihvlr underclothes Into a private box at the youn? blood*,  be would have hf  on nil the comic opem  ami  heir pt  prima donnas. Tnnt will  he hbi next move. You mutt keep moving with the times, Jimmy- your prime  have changed   locality. Salvini Is Rolng to have a tough time with the rival leading ladles who have been engaged to  him . Mlw Adelc Delmrde In  Italian, hut     Marie Prmcott    already up in Fri-nrh- and *-nnd \\*I1I probably mcke  understood 10 the doubly inx-at Italian. We'll hcl lie cannot  two American  In one       . nu  how t- he *          .-~s hot ween them. Hi* may be n  actor, hut we  great * on our stn;e- creat In all ways,  you may take them- and dont you forget II, Mr.Salvini. It Ik a very fine stand-ofT these Hebrew Khnrks nf HavcriyH nri* 3 ti*. They hove  B  , have they? Oli.! To ho Mire! And Mr. Chark-* Frobman baa gone         the  to bay out     Maitodon Mlnprtrels. Ofcouno! KverythlhK In thh country  be Intbobaudiof iho Jews. The creditors who put In  claims on Havrly, -, will (Inrt the Jew* In pox*. Thnt 11 the racket, don l      wk- thi- FrulimnuMlio Hiyninns and the Mannn ami _-!r -   nil In. Ifaverly nml his stock company nnt Tiih Etghtli street Theatre, In Philadelphia. hiw  In  to Uk actor*. The \"p.\" allege Hut WallN, tl nt  n!ik*  runner who calli himself a JuiirnnllM, Rot Into the             and. *-\"    * ofl on salary days hv divine them a of beer and n frw  route- probably the  \"i;it he used lo work n couple of yi-an ago wben he  lh^i to hone on the heel* of  newspaper men in  he might by *     ni  \"' on whom he liV t'  to prey. We con find no pity, bowi-ver, '~~r Any human  who Is n-*^ *h to hit d*? ~*.       a thins a^ DiM c!       -t KcaJpt- r Wullis. ^rvt-i ihc -tD -d       ' right If WallLs put -in In u hoU-. Tiikrk K a derided \".**\" in the \"* 1 it tury an-  to come  with            l'-r MaudGruiiRcr, who ts said    be . Surely 'i v    't pn-u-ml to my nhc Is not a member ol the l*-**fi-.~-on? Who gave her a Mart and  but A. l n:mer? And  l  actors in the pro\"i'.n   up successively and played nor fur :i!:-  . wo.,  Vital a dirty cant; they ai*toRo her now whr*n shi* h worn out. nml        her r. u f,.w .~       fr,,m ntt. aiu-cr-d actors fund. JiiM m. th*.iii:li: mi-an die * , with 1 r. t-nn--- in A. M. I--r and J*.hn MHIilnlit; f.,r-~~Ht\"iiI   they know nf vi-ry '~i I'-nl,        1 not    -r      . Haven't ri  ull   tt wu* h  ll*~5ii!~ 'M, -in    -  ri4,T\\ fund was u h- find a \"skin? -~v.-i,t we hvi-n horni- out in our *\"*? 1 -li. .'-.'rMT- '.f tht-  circuits X.-w v,,rk li..~ t In iii v.- the Jrfni; pull.-ry   f '~~!i:a!.i-' ni-w pl:.y. H ii it a.- *-'    -J. 1 [i, :,:j. i-i.nt;.(. t,t   TJ,\\v         *-in-   i:I..h, .-ri-.-t whu    -ixl  iii h!U Ixxinl     *~-ti ~~'-r.,r- ^,^~l -rt in town f.jr ft sun.uii-r .r;\" lie only scene U ; to by  Niw                 York gags tn reference to dally scene* among the Pokes on tbe Square, Mil there I* no  or   In It that worth your money. Voa know as, and no hire confidence In oar . It     b- , not worth  money. If we t were not no tamest In our Kirk* of oar  thousand readers oat of town we might   solid  \"the great Hatch comedian\" by lying a.* KTaccftillyftboathlmMthenwyfotnitandperfliBCtory \"\"do; but having started oat 10 tell the troth and to give food advice to the public, we are  in ; of everything and everybody. The truth we have promised anil the troth yoo shall have. A reporter for a daily paper give* away among his Intimate* the following  of cheek. He was taking the Damn of  and -ri at the Kccae of the accident to (be Long Branch train, w jen he was approached by a dapper, smirking little fellow In yellow trow* n and vest, blue coat of the extreme abbreviated \"cooler\" cut. \"A reporter-  b said thin scarecrow. \"Yw.\" \"Tttkln; names for publication?\" \"Yes.\" \"Well, ju.it put down Mr. Brook*, of the firm of Brooks A Mckson,  agents, of Sew York, who have the greatest  of shows in their hands of any firm In the world. Say he s bad both le*~ cut oft.\" \"Where Is be?\" \"lie Isn't here- It's only agog -don't you see* I'm the  for one of tbe shows and I want to eel (hem a good fiend off. I don't mind putting up lUo been.\" The agent got a good send oft- on hi* enr. The airs of Rainmy of the Entrails In booming bis play make many sensible people  that It had hern be Instead or the drama that had been \"Taken From Life.\" This fellow always had a \"gut\" In theatrical . He always found some ono or some thing lo support blm without  to himself from tbe time fifteen or twenty years oco when be wax tlic  of Slay Provost and sat his lazy flu corpus at the Iron*, door  s abandoned theatre In Brood way, Just below Broome street, and did all the pulling and Mowing and eating and  while she did ail the work on  that soon killed her. Then he took In hand her daughter Vloleita, by a previous marriage, and attempted to pot her forward as an opera sln?er  the design of making her the draught       to the triumphal car of old Entrails; bat Vlolcti* wait too fly. Hoe ran away and got married, and Sammy and bis chariot were left stalled and helpless In the mud. Lydla Thompson and her naked  him out at but, and be rolled on magnificently  for several years until she lost drawing power and Itc was left again. Now be has bit a new - blood and  English plays which are made  to bU rapport by the moat out  pold-for purls. This trash Is of no real merit, and It Is a shame to let this old fraud get up ft fictitious boom In New Tork to enable, him to ft) over tbo country  tbe winter taking; tbe money of people who are deceived by metropolitan \"runs.\" This old (raid has never dona anything for a living, and yet has  to get  on thn  of others. We propose to warn the people of the theatrical routes out of Now York that  English dram* dodge h  their confidence and their dollars. If they are willing to  their money after all, and support mich old humbugs as Sammy of tbe entrails, then we   to say. Having warned them to rave  money we feel that we hare dono our  duty. We are often asked tho agex of actn-sscs. Some of the alleged  critics are la  lt nf concealing their Ignorance by pretending to   - . been e- 03 a boiler that It U nobody*s  what tbe orp or on actress to. We . We see so many old   as  jtM* and  the young women from  Ilvlns that we think toe public Is Justified In Its curiosity nnd It3\"kkk.\" To toll the troth, a* we always Ou,   - have not tbe data of         of most of our -s. But what we know Is  to give them , i and with our  \"\" we  to ten it. Maggie Mitchell most be' near sixty. But     Hicr sbc b or not, she   o% a full Kn.wn  uSt.CharlfM'Theatn'. a little m-                               ,-~       Inim Say Kite was twenty . - li     fur yourself. Charlotte Thompson was a full grown woman In  of Laura Ketne lo New York In l*.\\\\ Charlotte Crabtrcc played iu a negro          Iq San Francisco In , and sht- wan no ** n\" then. dm Morris was a full grown adult r^IlrtRirl In *   and 'SB, In Cleveland, as John Ellsh-r -n. RoneCojblan .-  Ri    -n *in*  a brief  at Wallnrk'H  \"; on.\" Bbtrrameback   ir  -i af.cr and box been hero ever *lnc*.      wants us to forget the  visit and count only from the U**, which wp  to do. I. played the -; roli-^ In support or Forwa In IW.  billed as \"Mini LJI'k\\\" AKnex Booth wana ballet  Cuctloo in tYA. Funnlp Duvenport played    a woman on thf- Hooieyn Tlicutrv, In Iliooklyn. In I'd Hln-  m evidently tl , or   ^h in Imvc Mtaincd tier majority. Emily Hkl wan u  of * ': :n     \"j! \" at XlW..*t '.n 1-*^. JftTttyx I/.-wH was :i ^:    dei Idti lly  of ln-r \"\"  it  lf      nmc       England  E-  lil-            Street Ttiratrc bt-lure it fell into ttir hond.-iof tdr Jrn-s, who    * run it as an old do\" simp. Fanny Morant played -'loa-iln-,- hti\"ini*~- in WO. Tho Itn'hrtx irf Tirr^, In \"Fnlnt Il.-an    vi r Won Kiiir Ij'ly.\" mw   rule . Tiii- ~*i:i  an .,f h*-r  til  -. Alto- '~ates wa- a lull jr'.wn .    -i* liv  . wlw-n. in I1**. Urn ftatt^, n \"irt or I- lian=.-      of I hi* Xnrfi.lt. Vn..     *ra Hitux*    ;intf :'f- r\\..r. chanced to in wi-.t anJ found her. Id- -1 ii- r ~.i*. of   *r  obscurity, put bfr oj In\" 'T^  -~'.'1  Jt*r -  lip  , and iht- f I^jl-. bud no   It- d-ol  .  tri--'i:;i:i'.:y front  .- -o*- i.-;h;it.Tc ju-tio- Iruifi tlM- hands of an       ! pt.j.lf. name here u * of     - huo. *:i--\"-' ti.;\"i!tnn.hu\" Ii'iM  aV--Uifl- ZX A -i.-.~ he rt,    . -. Imviiit; i.-ut. i-~- r unit. Itnbftbiy.            .                 Ainu*.           ?ow tons *     this union, was sorely forty, If , when Jim Flik Imported her with CYllne Mon aland and Ihftt  Parisian crowd be   to ilo Optra  In Iho Grand Opera . IDat wma la U70-7I. Now ehc wsaU to ma^* m a   ? of *. Wltat do   Ukeoa lor?                         \"\"\""
   ]
  },
  {
   "cell_type": "code",
   "execution_count": 2,
   "metadata": {},
   "outputs": [],
   "source": [
    "txt2 = \"\"\"\n",
    "  Isopel Berners. By George Borrow. Edited                 by Thomas Seccombe. New York: Dodd, Mead & Co. $i.oo.                 The lovers of B6 are born, not made, and if one wishes to test his congenital qualifications for joining their circle he can do no better than to read the adventures of Lavengro in the dingle as presented in this volume. If he does not relish the fight with the Flaming Tinman, the debates with the Papish Spy and Isopel's lessons in Armenian, he need follow Borrow no further, no matter how humiliated he may be that he is not able to show the enthusiasm of his friends for the vagrant philologist. The introduction gives a very good account of the life of the author and his attempts at truthful autobiography.                 Collected Verses. By Alfred Cochrane. New                 York: Longmans, Green & Co.                 This is an exceptionally good collection of light and occasional verse. \" Herein are neither ' dancing stars,'                 Nor epic hymns of Life and Time: No Love, no Death, no 'giant wars,'                 No measures lofty or sublime....                 \" [But] country life, serene and sweet,                 A respite from the dust of town,                 The straggling, red-roofed village street,                 The wind that pipes across the down.                 \" Rose gardens, wet with morning dews,                 And April blackbirds in the lane, Gray churches, hid amid the yews,                 With saints and shields upon the pane.                 \"Then the old customs, lingering still,                 Amid the world s untrodden nooks, Old faiths, old fashions, if you will,                 Old prints, old bindings, and old books.\"                 A thorough simplicity of thought and versification, a  mood, a vein of quaintness, a touch of old-                 fashioned sentiment, a mild philosophic detachment from the immediate present, and a tendency to look at life through the spectacles of the past-such are the chief characteristics of these agreeable verses. Their humor, for the sum of all these qualities makes up a kind of humor in itself, is perhaps less American than English. It consists neither in the extravagance of the idea or of the statement, nor in the sudden disclosure of some violent absurdity, but rather in a sort of ambiguous balance between jest and earnest, together with a good natured conviction that there is at bottom very little to choose between human folly and a great deal that passes. for human wisdom.                 The Iberian. Anglo-Greek Play. By Osborn                 R. Lamb. With music by H. Claiborne Dixon. New York: Ames & Rollinson Press. $2.00.                 Old attempts to write Greek plays in English were never conspicuous for success. Nor is this one. Its plan (plot is a term it hardly deserves) is of the slenderest. The antique form has been followed in the unities of time, place and theme; and chorus and semi-chorus are employed for interludes of song. The conceit, as our forefathers would have called it, is rather daintily pretty in outline, and in the hands of a poet something beautiful might have been made of it. But the idea is somewhat crudely handled and the author s verse, while sufficiently varied in meter, is for the most part decidedly commonplace. H. Claiborne Dixon, a young English composer, has furnished incidental music, including a prelude and three choral hymns, which appears from the pianoforte arrangement printed with the play to be of about the same order of merit as Mr. Lamb's verse. It does not call for extended comment.                 Dictionary of Contemporary Quotations (English).                 By Helena Shaw. New York: E. P. Dutton & Co. $2.50.                 Those who wish to renew their stock of quotations will find this book  for that purpose, and any reader will enjoy looking it through. There are some 5,ooo quotations from British and American poets included, arranged topically, and well indexed. The word                 contemporary\" is liberally construed to include any poetry written since 1850, and even before. Every reader  wonder why some verses are included and why some are not, but the same objection could be raised against any quotation book, even one of the reader s own compilation when he reads it over after many years.                         \"\"\""
   ]
  },
  {
   "cell_type": "code",
   "execution_count": 3,
   "metadata": {},
   "outputs": [],
   "source": [
    "txt3 = \"\"\"\n",
    "  The Romance of Piscator. By H. W. Lanier                 New York: Henry Holt & Co. $I.25.                 Mr. Henry Wysham Lanier has written a book full of the light, color and breath of the springtime, when a young man s fancy lightly turns to love and to -fishing. In this romance Piscator is lured hither and thither, led alternately by the song of the reel and the twang of the heart-string. Away down in Vir-                 ginia a barefoot boy, who has been content to catch eels, mud-cats and minnows, sees an old black \" uncle \" yank up a fish longer than all the strings of finny fellows that he has ever hung to a hickory withe. The sight of that long fish made an ambitious angler of the boy. Years later, on a night by the Big Falls when the swamp sparrow fluted his reedy even-                 song, when the moonlight lay on the stream and the salmon leaped to the gray hackle, Piscator saw from his boat the Peri in her boat, and again he had met his destiny. The Peri had a marvelous way of drifting from good waters to better streams, never leaving an address, nor so much as a bent twig to show the way her errant fancy or her \"Angle-maniac \" father s fishing fever had borne her. Following her to Mount Desert, Piscator had there a piece of fisherman s luck (who ever before heard of a stolen kiss called by that name?) which made the Peri shyer than before of leaving addresses or broken twigs. Yet Piscator, with never a clue, began a pursuit which led him to Bangor, to Montreal, back to Maine (paying double duty on his tinned woodcock, a peace-offering to the Peri), to Meddyhemps, to Pocomoonshine, to Tomah, to Paskahegon, to Lake Pequaunemenapsakasassanagnog. After a summer-long chase Piscator came upon her, the Peri, on the shores of Little Basin. Then follows a happy winter in the city, ending in a lovers' quarrel. Then the tables are turned. The Peri, who must yield the palm to Piscator as being the better fisher of the two, has proved herself the better hunter, for her first journey brought her into a stone s throw of Piscator's camp beside the  streams of Newfoundland. Back to civilization and wedding bells.                         \"\"\""
   ]
  },
  {
   "cell_type": "code",
   "execution_count": 4,
   "metadata": {},
   "outputs": [],
   "source": [
    "txt4 = \"\"\"\n",
    "        Japan                 A YEAR S  PROGRESS                 I T is little more than a year since                 Japan was stricken by the earthquake and 'Tokio and Yokohama devas-                 tate(d. The Vyar since then has been one of remarkable progress toward , a progress  will remind Americans of the splendid recovery made by San Francisco, Baltimore and Galveston, when those cities suffered widespread destruction.                 An excellent review of Japan's reconstructive progress is given in the Septemnber  of J.apan. This issue is aptly calle(l the \"One Year After\" number. and contains photographs of the progress made as  as articles by 1eading Japanese in commercial and political life.                 Among these articles is one by Viscount Shibusawa describing the progressive steps by which Japan climbed to  present position as one of the great nations. Referring to the realm of finance his article says:                 OneI of the first necessities recognized by the awakening nation, was the need of a new  system, without which no business could be (. To study this Hiroblini Ito, liter Prince Ito, made an extensive tour of America where he studied thc principles of  which had been  there, and brought back the resuits of his  to Japan.                 \\  ins  and applying the principles of na,,X..g for the national system, the writer turned his thoughts to the needs of business. Ie realized that business, to   and international in character,                 imust have facilities for financing itself, and it was from this understanding that he                 - the idea of the first  lank. In 1783, therefore, lie founded the Dai Ichi Kokuritsu Ginko- the first national bank.                 Another article is by Manzo Kushid;                 Managing Director of the Mitsubishi Bank, Tokio, in which lie gives expression to the courageous and indomitable attitude of the Japanese business world. .After referring to the fact that the property loss in the earthquake ran to many millions of yen Mr. Kushida says:                 On the other hand, we must not concern ourselves so much with what was destroyed as with what will be required in order to put us on a new economic basis nearly equal to that prior to the disaster. We all know that the tremendous loss can not  be regained in a short period. We must realize that the loss can be made good only by many years of thrift and saving. WAe must be prepared to work steadily and patiently with greater efficiency and better . In other words we must make up our minds to produce more and consume less, for only by accumulating this surplus can we hope to get fresh capital for rebuilding of our capital city, making it more substantial in structure and even stronger ii economic resources.                 JAPANESE-AMERICAN ECONOMIC TIES                 Still another significant article is that contributed by Dr. Takuma Dan, the managing director of Mitsui Goani Kaisha, the holding company for all the varied and widespread Mitsui interests. Dr. Dan traces the great growth of economic relations between Japan and the United States and points out that the United States \"is bound to continue in supplying a larger part of reconstruction materials. . . . Japan i ill naturally want iron and steel as building materials which America can abui-                 supply. Besides these, the United States has also been principal supplier of cotton, machinery, motor vehicles and petroleum.\"                 Dr. Dan points out that whereas in 1893 the United States imports to Japan represented only 7.2 per cent. of total imports, in 1923 American imports represented 25.8 per cent. The growth in the last decade is shown by the fact that American imports to Japan in 1914 totaled 96,771,000 yen-in 1923 they totaled 551,977,000 yen, a gain in ten years of nearly 500 per cent.                         \"\"\""
   ]
  },
  {
   "cell_type": "code",
   "execution_count": 5,
   "metadata": {},
   "outputs": [],
   "source": [
    "txt5 = \"\"\"\n",
    " Other Publications                 Our journey Round the World, by Rev. Francis E. Clark, D. D., is a large, well printed, profusely illustrated and very interesting history of a year s travel through India, China, Japan, Australia, New Zealand, Palestine, Greece, Turkey, Italy, France, Spain, etc. Dr. Clark, who is President of the United Society of Christian Endeavor, was - invited by the societies in Australia, and by missionaries                 in other lands. to visit conventions and stations. As there                 was ample time between the meetings for sight-seeing, and as he had peculiar facilities for this, he studied the manners and customs of the countries, and has given a graphic account of them. Being \"personally conducted\" by resident friends in every country, he was able to avoid the well-worn ruts of travel and thus to see, not hurriedly, but in a leisurely way, many phases of life and national characteristics which are hidden from the ordinary tourist. About fifty pages of the work are by Mrs. Harriet E. Clark, of whom and Dr. Clark there are fine steel-plate portraits. (Hartford, Conn.: A. D. Worthington & Co. Pp. 635. Sold only to subscribers.)                 The Poetical Work of Robert Browning, Vol. 17. This volume completes the series of Browning's Poetical Works as published by Macmillans. Under the title \"Asolando,\" there are grouped thirty-one poems, covering about ioo                 pages. The rest of the book is devoted to the explanatory notes and the index which relate to the whole series. As a whole, the poems in this volume will justify the charge of hopeless obscurity which has often been brought against the poet. His admirers, of course, reply that their master s obscurity exists in the brains of those who, with too little \"gray matter,\" attempt to understand him. The chief worth of this volume is the excellent notes and the index which add greatly to the value of the entire series.                 Wimp/es and Crisping Pins, by Theodore Child, is a book of rare artistic and literary merit, in which are set forth the marvels and mysteries of feminine coiffure and ornamentation in all lands and ages, from the \"guinea-hen hamlet\" of Egypt, to the \"chignon\" of our day. The accompanying illustrations, being authentic, go far in interpreting the tastes and habits of contemporaneous times. \"Coiffure,\" says the author, \"is the chief of the decorative arts, inasmuch as its function is to adorn the most perfect of nature s works, the beauty of woman.\" The volume makes an appropriate ornament for the drawing-room table. (New York: Harper and Brothers.)                 Littell's Living- Age enters upon its fifty-second year in January. A number of this excellent magazine is one of the best advertisements it could have. From week to week it gives its readers the cream of foreign periodical literature, and thus saves them both time and money. We cannot conceive how its contents could be more discriminatingly selected. Its bound volumes make most valuable additions to a library, and a household that is fortunate enough to have a full set of them has a deep well of instruction and entertainment to draw from. The publishers offer to new subscribers the issues of the Living Age from Jan. I, I894, to the end of 1895 for $Io.                 A Sporting Pilgrimage, by Caspar W. Whitney, is an excellent account of the origin and history of the various sports practised in English universities and athletic clubs. In his preface the author says that \"to understand thoroughly the present condition and the object of modern games in the United States, it is necessary to study their past traditions and present systems in England.\" With the exception of football, however, no sport here described is of popular interest in this country. The book is finely illustrated and will doubtless find its way to the library of many a college athlete. (Harper& Brothers. 1895.)                 The Taber Art Company has published a photogravure reproduction of Darius Cobb's well-known painting of Christ Before Pilate. The size of the picture, which is printed on plate paper 28 X 38, is 20 X 27, and the quality of the work is all that. could be desired. Christ Before Pilate is Mr. Cobb's masterpiece, and this new reproduction of it will doubtless widely extend the circle of its admirers. The price of the artist s proofs is $5, and that of the plain prints, $3. Only a limited number of the prints will be issued.                 Irving's immortal Sketch-Book continues to be one of the most widely-read books ever written by an American author. The J. B. Lippincott Company, of Philadelphia, has issued a new edition of the classic in two volumes. It is finely illustrated by various hands, and will make a most appropriate Chriftmas gift.                         \"\"\""
   ]
  },
  {
   "cell_type": "code",
   "execution_count": 6,
   "metadata": {},
   "outputs": [],
   "source": [
    "txt6 = \"\"\"\n",
    "  THE SKETCH BOOK                 WHEN BJORNSON AND JONAS LIE KICKED OVER THE TRACES                 By Johan Bojer                 Translated by Julius Moritzen                 IT was at the time when Bj6rn-                 stjerne Bj6 and Jonas Lie lived in Paris and before either one of them had attained fame. On a certain day they were walking along the princi- pal thoroughfare, Bj6 in that heavy fashion characteristic of him, Lie sprightly and looking very small at the side of his formidable com- panion.                 A beggar approached them and both men involuntarily reached in their pockets. \"Lie, say, you give the man something,\" Bj6 broke out, \"I haven't a sou with me.\"                 \"Why, Bjbrnson, I am in the same fix. I was just going to ask you to give the fellow something. You won t find a penny in my clothes.\"                 The two writers came to a stop and looked at each other inquiringly.                 \"Why don't you have money about you, like other decent people?\" Bjorn- son viewed his companion - tively. \"Answer me, Jonas Lie.\"                 \"Well, that is what I should like to ask you. I don't see that you are so particularly well off in that respect.\"                 \"You see, in my case it is Karoline who, well you know ... . \"                 \"That's it! With me it is my Thomasine. She gives me no more than just carfare. She insists that I don't know a thing about taking care of money.\"                 Why, Jonas Lie! I'm surprised at                 you. You submit to such treatment?\" Bj6 blustered out.                 \"See here, you needn't talk. Are you any better off than I am?\"                 Bj6 had a very serious look in his eyes as he remarked: \"Isn't it curious? Yes, why do we submit to such treatment?\"                 \"When we study the situation\", said Lie in reply, \"it makes quite a differ- ence. We are being treated like just ordinary beings. Both of us can write, but when it comes to those women folk of ours, why they hold the reins.\"                 They continued on their walk, dis- cussing their downtrodden position and digging deeper and deeper into the problem with the view of solving it. Wasn't it about time that they became masters in their own homes?                 \"Of course,\" remarked Lie, \"we must realize that there is something back of all this.\"                 \"Something back of this ?\" Bj6rn- son queried'                 \"Man alive, it is as clear as day to me. When our wives find that we haven't any money about us they know that they can feel safe at home. There is no chance for us to do any cutting up.\"                 The other contracted his heavy eye- brows as he grumbled: \"I guess you see this thing better than I do.\" But from then on they were both fully conscious that they were being treated very badly by their other halves. But just wait until they returned home. They would show them . .                 Suddenly Lie turned to his friend with the exclamation: \"Bj6, let us go and have a good time. It's                 us for the best restaurant and for the finest lunch to be had.\"                 Bjarnson gazed wistfully at the clouds above his head. \"Do you know that as a matter of fact I am quite hungry?\"                 \"Of course\", Lie retorted. \"Both of us are undernourished. Now come along.\"                 They found the restaurant in the Champs Elysees, the finest of them all. For a moment they stood hesi- tating. It was such an expensive looking place and what were they but a couple of young poets?                 \"Vengeance!\" Lie spoke the word encouragingly. \"Remember that we are to have our revenge. You know, it is Karoline and Thomasine who will have to foot the bills.\"                 It was some lunch. If one is to let loose, let it be done properly. They began with oysters and champagne, and when their appetite had been aroused many other good things fol- lowed. Sitting there they felt their domestic chains drop from them, one by one.                 Your health, Jonas!\"                 \"And here s to you, Bjornstjerne1\" They continued in this fashion, pay- ing each other the choicest compli- ments.                 \"Jonas, you are the world s greatest genius.\"                 \"Bjdrnstjerne, you are the magic flute of Norway.\"                 When they got around to the coffee and the brandy they concluded that the day should wind up at the Folies- Bergere.                 Then came the waiter with the bill. Both of them reached into their pockets.                 Jonas, you please pay the bill.\"                 \"Pay, are you crazy? You knew I didn't have a sou in my clothes.\"                 But have you forgotten so soon                 that I never have a spare cent in my pockets\",          thundered.                 \"But it is all your fault, Bjbrn- stjerne . . . \"                 \"My fault, you say? Wasn't it you who got that bright idea that we should . . . \"                 \"That is old woman s talk. Well, what is to be done? I suppose we ll have to come back and pay up. What do you intend to tell your Thomasine?\"                 Lie looked disgusted: \"We shan t be able to get away from this place. They will fetch the police.\"                 \"You mean to tell me that they will go for the police, that there is to be a scandal ?\"                 \"When people order meals and don't pay for them that is usually done. They treat this the same as they do stealing. I assume they will march us both away to jail.\"                 Silence fell on the two for a mo- ment. At their elbows stood the waiter, reminding them of the unpaid bill. He was very busy, he remarked.                 Bj6 placed his big hand on the shoulder of the little Frenchman. \"My friend, I have left all my money at home\", speaking very confidently.                 \"Oh, and you?\" The waiter turned expectantly to Lie. Well he, too, had forgotten to take money with him from home.                 Both of you?\"                 Yes, both of them. \"You see,\" said Lie, \"it is a family failing, this neg- lecting to bring money from home. We are brothers, as you notice; both of us wearing spectacles.\"                 \"Why don't you tell him the truth?\" broke in Bj6 heatedly in Nor- . \"Tell him that our wives                 \"Now you just keep quiet\", Lie shot back quickly. \"Don't you understand that we ll be laughing stocks as it is?\"                 The waiter now brought the head                 waiter and the latter summoned the manager.                 \"Since you gentlemen have left your money at home everything will be all right, but I desire one of you to remain here while the other brings the money\", the manager said blandly.                 The two poets looked at each other inquiringly.                 \"Jonas, did you hear that? One of us must stay here.\"                 Well, Bj6, that means you.                 \"No, no, Jonas, you have a much more honest face. You stay.\"                 \"I am entirely too thin, Bjorn- stjerne. You are a much better se- curity.\"                 The long and the short of it was that Lie stayed. But when Bjtrnson, accompanied by the waiter, stormed into his home to get the cash, there was another story to tell.                         \"\"\""
   ]
  },
  {
   "cell_type": "markdown",
   "metadata": {},
   "source": [
    "### Goals:\n",
    "+ Exclude punctuation\n",
    "+ Rejoin hyphen/new line separated words\n",
    "+ Check for exceptionally poor quality"
   ]
  },
  {
   "cell_type": "code",
   "execution_count": 26,
   "metadata": {},
   "outputs": [],
   "source": [
    "import re\n",
    "import nltk\n",
    "from nltk.corpus import stopwords"
   ]
  },
  {
   "cell_type": "code",
   "execution_count": 8,
   "metadata": {},
   "outputs": [
    {
     "data": {
      "text/plain": [
       "True"
      ]
     },
     "execution_count": 8,
     "metadata": {},
     "output_type": "execute_result"
    }
   ],
   "source": [
    "import os\n",
    "\n",
    "from symspellpy.symspellpy import SymSpell, Verbosity \n",
    "\n",
    "# maximum edit distance per dictionary precalculation\n",
    "max_edit_distance_dictionary = 2\n",
    "prefix_length = 7\n",
    "# create object\n",
    "sym_spell = SymSpell(max_edit_distance_dictionary, prefix_length)\n",
    "# load dictionary\n",
    "dictionary_path = \"../frequency_dictionary_en_82_765.txt\"\n",
    "term_index = 0 \n",
    "count_index = 1\n",
    "sym_spell.load_dictionary(dictionary_path, term_index, count_index)"
   ]
  },
  {
   "cell_type": "code",
   "execution_count": 12,
   "metadata": {},
   "outputs": [],
   "source": [
    "def isWord(word):\n",
    "    try:\n",
    "        fake = sym_spell._words[word]\n",
    "        return True\n",
    "    except: \n",
    "        return False"
   ]
  },
  {
   "cell_type": "code",
   "execution_count": 9,
   "metadata": {},
   "outputs": [],
   "source": [
    "def cleanText(txt):\n",
    "    \"\"\"\n",
    "    Strips whitespace, removes sentence ending characters and quotes, removes whitespace again.\n",
    "    \"\"\"\n",
    "    stripped_txt = ' '.join(txt.split())\n",
    "    toks = re.split('[ .,;:!\\?\\'\\\"]', stripped_txt)\n",
    "    return [w.lower() for w in toks if w]"
   ]
  },
  {
   "cell_type": "code",
   "execution_count": 80,
   "metadata": {},
   "outputs": [],
   "source": [
    "def checkQuality(txt):\n",
    "    #lowercase, remove whitespace & sent ending punctuation\n",
    "    toks = cleanText(txt)\n",
    "    \n",
    "    #fix hyphenated word issues\n",
    "    toks = fixHyphenatedWords(toks)\n",
    "    \n",
    "    no_stop = [w for w in toks if w not in stopwords.words('english')]\n",
    "    real_words = [w for w in no_stop if isWord(w)]\n",
    "    \n",
    "    return len(real_words)/len(no_stop)"
   ]
  },
  {
   "cell_type": "code",
   "execution_count": 67,
   "metadata": {},
   "outputs": [],
   "source": [
    "def findDashes(toks):\n",
    "    dash_indices = [i for i, word in enumerate(toks) if (len(word)>1) and (word.endswith('-'))]\n",
    "    return dash_indices"
   ]
  },
  {
   "cell_type": "code",
   "execution_count": 68,
   "metadata": {},
   "outputs": [],
   "source": [
    "def fixHyphenatedWords(toks):\n",
    "    \"\"\"\n",
    "    Replaces hyphenated words with single word.\n",
    "    \"\"\"\n",
    "    dash_indices = findDashes(toks)\n",
    "    to_be_deleted = []\n",
    "    \n",
    "    for i in dash_indices:\n",
    "        #if neither are words, e.g. pieces of names or misspellings\n",
    "        if (isWord(toks[i][:-1])==False and isWord(toks[i+1])==False):\n",
    "            #replace first item with combined, delete second item\n",
    "            to_be_deleted.append(i+1)\n",
    "            toks[i] = (toks[i][:-1] + toks[i+1])\n",
    "        #if combined is a word\n",
    "        elif (isWord((toks[i][:-1] + toks[i+1]))):\n",
    "            to_be_deleted.append(i+1)\n",
    "            toks[i] = (toks[i][:-1] + toks[i+1])\n",
    "        else:\n",
    "            pass\n",
    "    \n",
    "    #do this after so u don't heck up the indices\n",
    "    toks = [w for i, w in enumerate(toks) if i not in to_be_deleted]\n",
    "    \n",
    "    return toks"
   ]
  },
  {
   "cell_type": "code",
   "execution_count": 69,
   "metadata": {},
   "outputs": [],
   "source": [
    "def getWordCount(txt):\n",
    "    #lowercase, remove whitespace & sent ending punctuation\n",
    "    toks = cleanText(txt)\n",
    "    \n",
    "    #fix hyphenated word issues\n",
    "    toks = fixHyphenatedWords(toks)\n",
    "    \n",
    "    return len(toks)"
   ]
  },
  {
   "cell_type": "code",
   "execution_count": 70,
   "metadata": {},
   "outputs": [
    {
     "data": {
      "text/plain": [
       "1165"
      ]
     },
     "execution_count": 70,
     "metadata": {},
     "output_type": "execute_result"
    }
   ],
   "source": [
    "getWordCount(txt6)"
   ]
  },
  {
   "cell_type": "code",
   "execution_count": 71,
   "metadata": {},
   "outputs": [],
   "source": [
    "import pandas as pd"
   ]
  },
  {
   "cell_type": "code",
   "execution_count": 72,
   "metadata": {},
   "outputs": [],
   "source": [
    "txt_df = pd.DataFrame()"
   ]
  },
  {
   "cell_type": "code",
   "execution_count": 73,
   "metadata": {},
   "outputs": [],
   "source": [
    "directory = \"../../aps_reviews_50/aps_reviews/\""
   ]
  },
  {
   "cell_type": "code",
   "execution_count": 74,
   "metadata": {},
   "outputs": [],
   "source": [
    "filenames = os.listdir(directory)"
   ]
  },
  {
   "cell_type": "code",
   "execution_count": 75,
   "metadata": {},
   "outputs": [],
   "source": [
    "txts = []\n",
    "for file in filenames:\n",
    "    with open(directory + file) as f:\n",
    "        txts.append(f.read())"
   ]
  },
  {
   "cell_type": "code",
   "execution_count": 76,
   "metadata": {},
   "outputs": [],
   "source": [
    "txt_df['texts'] = txts"
   ]
  },
  {
   "cell_type": "code",
   "execution_count": 77,
   "metadata": {},
   "outputs": [],
   "source": [
    "txt_df['id_num'] = filenames"
   ]
  },
  {
   "cell_type": "code",
   "execution_count": 78,
   "metadata": {},
   "outputs": [
    {
     "data": {
      "text/plain": [
       "887"
      ]
     },
     "execution_count": 78,
     "metadata": {},
     "output_type": "execute_result"
    }
   ],
   "source": [
    "getWordCount(txt_df.texts[0])"
   ]
  },
  {
   "cell_type": "code",
   "execution_count": 79,
   "metadata": {},
   "outputs": [],
   "source": [
    "txt_df['word_count'] = txt_df.texts.map(getWordCount)"
   ]
  },
  {
   "cell_type": "code",
   "execution_count": 82,
   "metadata": {},
   "outputs": [],
   "source": [
    "txt_df['percent_real_words'] = txt_df.texts.map(checkQuality)"
   ]
  },
  {
   "cell_type": "code",
   "execution_count": 84,
   "metadata": {},
   "outputs": [
    {
     "data": {
      "text/html": [
       "<div>\n",
       "<style scoped>\n",
       "    .dataframe tbody tr th:only-of-type {\n",
       "        vertical-align: middle;\n",
       "    }\n",
       "\n",
       "    .dataframe tbody tr th {\n",
       "        vertical-align: top;\n",
       "    }\n",
       "\n",
       "    .dataframe thead th {\n",
       "        text-align: right;\n",
       "    }\n",
       "</style>\n",
       "<table border=\"1\" class=\"dataframe\">\n",
       "  <thead>\n",
       "    <tr style=\"text-align: right;\">\n",
       "      <th></th>\n",
       "      <th>word_count</th>\n",
       "      <th>percent_real_words</th>\n",
       "    </tr>\n",
       "  </thead>\n",
       "  <tbody>\n",
       "    <tr>\n",
       "      <td>count</td>\n",
       "      <td>50.000000</td>\n",
       "      <td>50.000000</td>\n",
       "    </tr>\n",
       "    <tr>\n",
       "      <td>mean</td>\n",
       "      <td>955.060000</td>\n",
       "      <td>0.851915</td>\n",
       "    </tr>\n",
       "    <tr>\n",
       "      <td>std</td>\n",
       "      <td>924.771067</td>\n",
       "      <td>0.097266</td>\n",
       "    </tr>\n",
       "    <tr>\n",
       "      <td>min</td>\n",
       "      <td>129.000000</td>\n",
       "      <td>0.531915</td>\n",
       "    </tr>\n",
       "    <tr>\n",
       "      <td>25%</td>\n",
       "      <td>356.000000</td>\n",
       "      <td>0.804365</td>\n",
       "    </tr>\n",
       "    <tr>\n",
       "      <td>50%</td>\n",
       "      <td>644.000000</td>\n",
       "      <td>0.880147</td>\n",
       "    </tr>\n",
       "    <tr>\n",
       "      <td>75%</td>\n",
       "      <td>1094.750000</td>\n",
       "      <td>0.920948</td>\n",
       "    </tr>\n",
       "    <tr>\n",
       "      <td>max</td>\n",
       "      <td>4902.000000</td>\n",
       "      <td>0.965932</td>\n",
       "    </tr>\n",
       "  </tbody>\n",
       "</table>\n",
       "</div>"
      ],
      "text/plain": [
       "        word_count  percent_real_words\n",
       "count    50.000000           50.000000\n",
       "mean    955.060000            0.851915\n",
       "std     924.771067            0.097266\n",
       "min     129.000000            0.531915\n",
       "25%     356.000000            0.804365\n",
       "50%     644.000000            0.880147\n",
       "75%    1094.750000            0.920948\n",
       "max    4902.000000            0.965932"
      ]
     },
     "execution_count": 84,
     "metadata": {},
     "output_type": "execute_result"
    }
   ],
   "source": [
    "txt_df.describe()"
   ]
  },
  {
   "cell_type": "code",
   "execution_count": null,
   "metadata": {},
   "outputs": [],
   "source": []
  }
 ],
 "metadata": {
  "kernelspec": {
   "display_name": "Python 3",
   "language": "python",
   "name": "python3"
  },
  "language_info": {
   "codemirror_mode": {
    "name": "ipython",
    "version": 3
   },
   "file_extension": ".py",
   "mimetype": "text/x-python",
   "name": "python",
   "nbconvert_exporter": "python",
   "pygments_lexer": "ipython3",
   "version": "3.7.4"
  }
 },
 "nbformat": 4,
 "nbformat_minor": 2
}
