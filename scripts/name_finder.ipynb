{
 "cells": [
  {
   "cell_type": "markdown",
   "metadata": {},
   "source": [
    "# Finding names in book reviews"
   ]
  },
  {
   "cell_type": "code",
   "execution_count": 1,
   "metadata": {},
   "outputs": [
    {
     "name": "stdout",
     "output_type": "stream",
     "text": [
      "Pretty printing has been turned OFF\n"
     ]
    }
   ],
   "source": [
    "#import necessary packages\n",
    "import os\n",
    "import pandas as pd\n",
    "import re\n",
    "from collections import Counter\n",
    "import numpy as np\n",
    "import pickle\n",
    "from nltk.metrics import edit_distance\n",
    "%pprint"
   ]
  },
  {
   "cell_type": "code",
   "execution_count": 2,
   "metadata": {},
   "outputs": [],
   "source": [
    "from nltk.corpus import stopwords\n",
    "stopword_list = stopwords.words('english')"
   ]
  },
  {
   "cell_type": "code",
   "execution_count": 3,
   "metadata": {},
   "outputs": [],
   "source": [
    "# loading in files\n",
    "directory = \"../../aps_reviews_50/aps_reviews/\"\n",
    "filenames = os.listdir(directory)\n",
    "txts = []\n",
    "for file in filenames:\n",
    "    with open(directory + file) as f:\n",
    "        txts.append(f.read())"
   ]
  },
  {
   "cell_type": "code",
   "execution_count": 4,
   "metadata": {},
   "outputs": [],
   "source": [
    "df_all = pickle.load(open('author_title_df.pkl', 'rb'))"
   ]
  },
  {
   "cell_type": "code",
   "execution_count": 5,
   "metadata": {},
   "outputs": [],
   "source": [
    "authors_by_last_name = pickle.load(open('author_last_name_dict.pkl', 'rb'))"
   ]
  },
  {
   "cell_type": "markdown",
   "metadata": {},
   "source": [
    "### Step 1: Find names using titles and capitalization"
   ]
  },
  {
   "cell_type": "code",
   "execution_count": 6,
   "metadata": {},
   "outputs": [],
   "source": [
    "titles = \"\"\"Doctor,Dr,Mr,Mrs,Miss,Msgr,Monsignor,Rev,Reverend,Hon,Honorable,Honourable,Prof,Professor,Madame,Madam,Lady,Lord,Sir,Dame,Master,Mistress,Chancellor,Principal,President,Pres,Warden,Dean,Regent,Rector,Provost,Director\n",
    "\"\"\""
   ]
  },
  {
   "cell_type": "code",
   "execution_count": 7,
   "metadata": {},
   "outputs": [],
   "source": [
    "titles = titles.rstrip().split(',')"
   ]
  },
  {
   "cell_type": "code",
   "execution_count": 8,
   "metadata": {},
   "outputs": [],
   "source": [
    "#title_list = r\"\\.? .+? |\".join(titles)"
   ]
  },
  {
   "cell_type": "code",
   "execution_count": 9,
   "metadata": {},
   "outputs": [],
   "source": [
    "title_list = '.?\\s|'.join(titles)"
   ]
  },
  {
   "cell_type": "code",
   "execution_count": 10,
   "metadata": {},
   "outputs": [],
   "source": [
    "# test text\n",
    "mytext = \"\"\"\n",
    "    Missouri: A Bone of Contention '                 WE  aware that most of the States of the Union had their nicknames, more or less complimentary, but to name Missouri ' a bone of contention ' is a stroke of wit. It does, however, rightly describe the Missouri of the past, and vividly writes in a phrase her political history. Until the triumph of the Union armies and the close of the Civil War, Missouri was in the jaws of the watch-dogs of slavery and freedom. In war or in peace, the subiect of legislative com-                 promise or of military struggle, Missouri was an uncertain factor. Now, after -five years of national peace, her history may be calmly and impartially written. Indeed, the task has been done, and well done, and the , Lucien Carr of Harvard, may be congratulated upon his work,  is strong, unimpassioned, scholarly, and as impressed with the firm touch which comes of local knowledge as are the imprinted rocks in the cabinets at Cambridge. Long familiarity with the wealth of archaeology in the Peabody Museuml seems to have given him the power of comparison and generalization in the evolution of a commonwealth, while  acquaintance with living men enables him to blend the results of the study and the field in pleasing literary form. Five of his seventeen chapters give a luminous picture of the early French and Spanish discoveries and domination. Then follow three chapters treating of the                 Missouri. By Ldclen Carr. $ti... (American Commonwealths.) Boston:                 Itoughto., Sftfltn & Co.                 l , the compromise, and the  into the U nion of this State named after the great river which flows through it. In his treatment of the period from 1844 to i861, as well as that of war time, some readers may charge Mr. Carr with unduly favoring the Southern and even Confederate view; but to people living this side of the now-vanished Mason and Dixon's line, this is doubtless a benefit; for only when Northern people are able to ' put themselves in the place' of Southerners and see with Southern eyes, can they be sure that they have achieved that impartiality which is essential to the writing of final history. He shows that the Missourians were neither secessionists nor slavery propagandists. He both criticises and justifies the action of the second convention which, in the uncertain hours when other States  seceding and Missouri's Governor had been driven into exile, org  a provisional government, and  saved Missouri Irons ' the pit of political degradation into which the States in rebellion were sunk during the period of reconstruction.' Mr. Carr practically and almost abruptly ends his history at the close of the War, believing that the career of Missouri as a bone of contention ended with the abolition of slavery. The fifty years' struggle was over, the State recovered rapidly froni the wounds of the Civil War, wealth increased wonderfully, and the Negro was liberally dealt with in most if not all points relating to citizenship. Taken as a whole, this book, with its sustained interest, high average literary merit, and thorough treatment of the voluminous facts, fully justifies its place in the series of ' histories of such States as have exercised a positive influence in the shaping of the national Government, or have had a striking political - . . history.' Like the others, it has a good map and index.\"\"\"  "
   ]
  },
  {
   "cell_type": "code",
   "execution_count": 11,
   "metadata": {},
   "outputs": [
    {
     "data": {
      "text/plain": [
       "True"
      ]
     },
     "execution_count": 11,
     "metadata": {},
     "output_type": "execute_result"
    }
   ],
   "source": [
    "from symspellpy.symspellpy import SymSpell, Verbosity \n",
    "\n",
    "# maximum edit distance per dictionary precalculation\n",
    "max_edit_distance_dictionary = 2\n",
    "prefix_length = 7\n",
    "# create object\n",
    "first_name_symspell = SymSpell(max_edit_distance_dictionary, prefix_length)\n",
    "# load dictionary\n",
    "dictionary_path = \"name_freq_dict.txt\"\n",
    "term_index = 0 \n",
    "count_index = 1\n",
    "first_name_symspell.load_dictionary(dictionary_path, term_index, count_index, separator=\",\")"
   ]
  },
  {
   "cell_type": "code",
   "execution_count": 12,
   "metadata": {},
   "outputs": [],
   "source": [
    "authors_last_name_list = ','.join(list(authors_by_last_name.keys()))"
   ]
  },
  {
   "cell_type": "code",
   "execution_count": 13,
   "metadata": {},
   "outputs": [],
   "source": [
    "f = open(\"authors_last_name_list.txt\", \"w\")\n",
    "f.write(authors_last_name_list)\n",
    "f.close()"
   ]
  },
  {
   "cell_type": "code",
   "execution_count": 14,
   "metadata": {},
   "outputs": [
    {
     "data": {
      "text/plain": [
       "True"
      ]
     },
     "execution_count": 14,
     "metadata": {},
     "output_type": "execute_result"
    }
   ],
   "source": [
    "# maximum edit distance per dictionary precalculation\n",
    "max_edit_distance_dictionary = 2\n",
    "prefix_length = 7\n",
    "# create object\n",
    "author_surname_symspell = SymSpell()\n",
    "# load dictionary\n",
    "term_index = 0 \n",
    "count_index = 1\n",
    "author_surname_symspell.create_dictionary('authors_last_name_list.txt')"
   ]
  },
  {
   "cell_type": "code",
   "execution_count": 15,
   "metadata": {},
   "outputs": [
    {
     "data": {
      "text/plain": [
       "'!\"#$%&\\'()*+,-./:;<=>?@[\\\\]^_`{|}~'"
      ]
     },
     "execution_count": 15,
     "metadata": {},
     "output_type": "execute_result"
    }
   ],
   "source": [
    "from string import punctuation\n",
    "punctuation"
   ]
  },
  {
   "cell_type": "code",
   "execution_count": 16,
   "metadata": {},
   "outputs": [],
   "source": [
    "def cleanTextForNameSearch(txt):\n",
    "    \"\"\"\n",
    "    Removes all non-newline whitespace and adds spaces around commas, semicolons, and colons.\n",
    "    \"\"\"\n",
    "    #delete extra whitespace\n",
    "    txt = re.sub(' +',' ',txt)\n",
    "    \n",
    "    #delete characters that should never be in this dataset (i think)\n",
    "    txt = re.sub(\"\\\\'\\(\\)\\*/<=>@\\[\\]^_`\\|~\",\"\",txt)\n",
    "    \n",
    "    #adding space around certain punctuation\n",
    "    txt = re.sub(',',' , ',txt)\n",
    "    txt = re.sub(';',' ; ',txt)\n",
    "    txt = re.sub(':',' : ',txt)\n",
    "    txt = re.sub('\"',' \" ',txt)\n",
    "    txt = re.sub(\"'\",\" ' \" ,txt)\n",
    "    return txt"
   ]
  },
  {
   "cell_type": "markdown",
   "metadata": {},
   "source": [
    "notes:\n",
    "+ reduce names down to 1880-1900\n",
    "+ rule for 's"
   ]
  },
  {
   "cell_type": "code",
   "execution_count": 17,
   "metadata": {},
   "outputs": [],
   "source": [
    "def removePeriodsNotFollowingTitleOrInitial(name):\n",
    "    name_parts = name.split()\n",
    "    cleaned_name = []\n",
    "    for part in name_parts:\n",
    "        if (len(part)>2) and (part.endswith('.')) and (part[:-1] not in titles):\n",
    "            cleaned_name.append(part[:-1])\n",
    "        else:\n",
    "            cleaned_name.append(part)\n",
    "    return ' '.join(cleaned_name)"
   ]
  },
  {
   "cell_type": "code",
   "execution_count": 18,
   "metadata": {},
   "outputs": [],
   "source": [
    "def cleanIndices(index_tuple):\n",
    "    x = index_tuple[0]\n",
    "    y = index_tuple[1]\n",
    "    if y[-1] in '!\"#$%&\\'()*+,-/:;<=>?@[\\\\]^_`{|}~':\n",
    "        y = y[:-1]\n",
    "    return (x,y)"
   ]
  },
  {
   "cell_type": "code",
   "execution_count": 45,
   "metadata": {},
   "outputs": [],
   "source": [
    "def cleanName(name):\n",
    "    return ' '.join([word for word in name.split() if (word[0].isalpha())])"
   ]
  },
  {
   "cell_type": "code",
   "execution_count": 46,
   "metadata": {},
   "outputs": [],
   "source": [
    "def getNamesFollowingTitles(txt):\n",
    "    \"\"\"\n",
    "    Returns names following titles - specifically capitalized titles followed by capitalized names.\n",
    "    Names can be any number of words in length, and can include punctuation.\n",
    "    \"\"\"\n",
    "    names = []\n",
    "    \n",
    "    # iter only works once before emptying\n",
    "    iterx = re.finditer(title_list, txt)\n",
    "    indices = [(m.start(), m.group()) for m in iterx]\n",
    "    indices = [cleanIndices(m) for m in indices]\n",
    "    \n",
    "    for i, index in enumerate(indices):\n",
    "        if (i<len(indices)-1):\n",
    "            try:\n",
    "                match = re.match(indices[i][1] + '\\w{2,}[.,;:!\\?\\'\\\"]', txt[indices[i][0]:indices[i+1][0]])\n",
    "                names.append(match.group()[:-1])\n",
    "            except:\n",
    "                try:\n",
    "                    match = re.match(indices[i][1] + '.*? [a-z]|\\Z', \n",
    "                                     txt[indices[i][0]:indices[i+1][0]])\n",
    "                    names.append(match.group()[:-2])\n",
    "                except:\n",
    "                    pass\n",
    "        else:\n",
    "            try:\n",
    "                match = re.match(indices[i][1] + '\\w{2,}[.,;:!\\?\\'\\\"]', txt[indices[i][0]:])\n",
    "                names.append(match.group()[:-1])\n",
    "            except:\n",
    "                try:\n",
    "                    match = re.match(indices[i][1] + '.*? [a-z]|\\Z', \n",
    "                                     txt[indices[i][0]:])\n",
    "                    names.append(match.group()[:-2])\n",
    "                except:\n",
    "                    pass\n",
    "    \n",
    "    names = [word.replace(\"'s\", \"\") for word in names]\n",
    "    names = [removePeriodsNotFollowingTitleOrInitial(word) for word in names]\n",
    "    names = [cleanName(word) for word in names]\n",
    "    \n",
    "    return list(set(names))"
   ]
  },
  {
   "cell_type": "code",
   "execution_count": 21,
   "metadata": {},
   "outputs": [],
   "source": [
    "def removePunct(word):\n",
    "    return ''.join([x for x in word if (x.isalnum()) or (x == '-') or (x=='–')])"
   ]
  },
  {
   "cell_type": "code",
   "execution_count": 22,
   "metadata": {},
   "outputs": [],
   "source": [
    "def getCapitalizedWords(txt):\n",
    "    \"\"\"\n",
    "    Returns strings of capitalized words up 3 words long. \n",
    "    Removes words/phrases containing stopwords and words found later in the text lowercased.\n",
    "    \"\"\"\n",
    "    #listen idk why it won't just let me put in an optional repeat either\n",
    "    all_words = []\n",
    "    \n",
    "    #three words\n",
    "    all_words.extend([match for match in re.findall('[A-Z]\\S* [A-Z]\\S* [A-Z]\\S+', txt) if \n",
    "                      all([(removePunct(word).lower() not in stopword_list) for word in match.split()]) \n",
    "                      and all([(removePunct(word).lower() not in txt) for word in match.split()])])\n",
    "    \n",
    "    #two words\n",
    "    two_words = [match for match in re.findall('[A-Z]\\S* [A-Z]\\S+', txt) if \n",
    "                      all([(removePunct(word).lower() not in stopword_list) for word in match.split()]) \n",
    "                      and all([(removePunct(word).lower() not in txt) for word in match.split()])\n",
    "                      and all([match not in x for x in all_words])]\n",
    "    \n",
    "    all_words.extend(two_words)\n",
    "    \n",
    "    #one word\n",
    "    one_words = [match for match in re.findall('[A-Z]\\S+', txt) if \n",
    "                      (removePunct(match).lower() not in stopword_list) \n",
    "                      and (removePunct(match).lower() not in txt)\n",
    "                      and all([match not in x for x in all_words])]\n",
    "    \n",
    "    all_words.extend(one_words)\n",
    "    \n",
    "    return [word for word in [' '.join([removePunct(y) for y in x.split() if removePunct(y) not in titles]) \n",
    "                      for x in all_words] if (len(word)>1)]"
   ]
  },
  {
   "cell_type": "code",
   "execution_count": 23,
   "metadata": {},
   "outputs": [],
   "source": [
    "from nltk.metrics import edit_distance"
   ]
  },
  {
   "cell_type": "code",
   "execution_count": 24,
   "metadata": {},
   "outputs": [
    {
     "data": {
      "text/plain": [
       "1"
      ]
     },
     "execution_count": 24,
     "metadata": {},
     "output_type": "execute_result"
    }
   ],
   "source": [
    "edit_distance('voynich','voynicch')"
   ]
  },
  {
   "cell_type": "code",
   "execution_count": 47,
   "metadata": {
    "scrolled": true
   },
   "outputs": [],
   "source": [
    "exlist = getNamesFollowingTitles(cleanTextForNameSearch(txts[0]))"
   ]
  },
  {
   "cell_type": "code",
   "execution_count": 48,
   "metadata": {},
   "outputs": [
    {
     "data": {
      "text/plain": [
       "['Professor Thorold Rogers', 'Mrs. Browning', 'Mr. Julian Hawthorne', 'Mr. Vedder', 'Mr. Swinburne', 'President Andrew D. White', 'Dr. Geor6 Ebers', 'Mr. Julius Chambers', 'Professor E. Johnsou', 'Dr. William M. Taylor', 'Dr. Joseph Parktercontinueshiseipositionuin', 'Dr. i. B. Adams', 'Mr. Brander Matthews', 'Mr. Cushing', 'Dr. Herbert B. Adam', 'Mr. Charles Dudley Warner', 'Dr. Parker']"
      ]
     },
     "execution_count": 48,
     "metadata": {},
     "output_type": "execute_result"
    }
   ],
   "source": [
    "exlist"
   ]
  },
  {
   "cell_type": "code",
   "execution_count": 60,
   "metadata": {},
   "outputs": [
    {
     "name": "stdout",
     "output_type": "stream",
     "text": [
      "Professor Thorold Rogers 3\n",
      "Mrs. Browning 2\n",
      "Mr. Julian Hawthorne 3\n",
      "Mr. Vedder 2\n",
      "Mr. Swinburne 2\n",
      "President Andrew D. White 4\n",
      "Dr. Geor6 Ebers 3\n",
      "Mr. Julius Chambers 3\n",
      "Professor E. Johnsou 3\n",
      "Dr. William M. Taylor 4\n",
      "Dr. Joseph Parktercontinueshiseipositionuin 3\n",
      "Dr. i. B. Adams 4\n",
      "Mr. Brander Matthews 3\n",
      "Mr. Cushing 2\n",
      "Dr. Herbert B. Adam 4\n",
      "Mr. Charles Dudley Warner 4\n",
      "Dr. Parker 2\n"
     ]
    }
   ],
   "source": [
    "for x in exlist:\n",
    "    print(x, len(x.split()))"
   ]
  },
  {
   "cell_type": "code",
   "execution_count": 82,
   "metadata": {},
   "outputs": [],
   "source": [
    "longname = 'Mr. Charles E. B. Dudley Warner'.split()"
   ]
  },
  {
   "cell_type": "code",
   "execution_count": 84,
   "metadata": {},
   "outputs": [
    {
     "data": {
      "text/plain": [
       "[(False, 'Charles'), (True, 'E.'), (True, 'B.'), (False, 'Dudley')]"
      ]
     },
     "execution_count": 84,
     "metadata": {},
     "output_type": "execute_result"
    }
   ],
   "source": [
    "[(len(x)<3, x) for x in longname[1:-1]]"
   ]
  },
  {
   "cell_type": "code",
   "execution_count": 78,
   "metadata": {},
   "outputs": [
    {
     "data": {
      "text/plain": [
       "True"
      ]
     },
     "execution_count": 78,
     "metadata": {},
     "output_type": "execute_result"
    }
   ],
   "source": [
    "len('E.') < 3"
   ]
  },
  {
   "cell_type": "code",
   "execution_count": 62,
   "metadata": {},
   "outputs": [
    {
     "data": {
      "text/plain": [
       "'egg egg'"
      ]
     },
     "execution_count": 62,
     "metadata": {},
     "output_type": "execute_result"
    }
   ],
   "source": [
    "' '.join(['egg','egg'])"
   ]
  },
  {
   "cell_type": "code",
   "execution_count": 89,
   "metadata": {},
   "outputs": [],
   "source": [
    "egg = ''"
   ]
  },
  {
   "cell_type": "code",
   "execution_count": 90,
   "metadata": {},
   "outputs": [],
   "source": [
    "if egg:\n",
    "    print(x)"
   ]
  },
  {
   "cell_type": "code",
   "execution_count": 109,
   "metadata": {},
   "outputs": [],
   "source": [
    "class AuthName(str):\n",
    "    \"\"\"\n",
    "    I have never made a class before. I hope I'm doing this right.\n",
    "    \"\"\"\n",
    "    name_type = 'author'\n",
    "        \n",
    "    def __assign(self):\n",
    "        \n",
    "        # just title & last name\n",
    "        if self.name_part_count < 3:\n",
    "            pass\n",
    "        \n",
    "        # title, first name/initial, last name\n",
    "        elif self.name_part_count == 3:\n",
    "            if (len(self.name_parts[1])) < 3:\n",
    "                self.first_initial = self.name_parts[1]\n",
    "            else:\n",
    "                self.first_name = self.name_parts[1]\n",
    "        \n",
    "        elif self.name_part_count == 4:\n",
    "            if (len(self.name_parts[1])) < 3 and (len(self.name_parts[2])) < 3:\n",
    "                self.initials = ' '.join([self.name_parts[1], self.name_parts[1]])\n",
    "            else:\n",
    "                if (len(self.name_parts[1])) < 3:\n",
    "                    self.first_initial = self.name_parts[1]\n",
    "                    self.middle_name = self.name_parts[2]\n",
    "                else:\n",
    "                    self.first_name = self.name_parts[1]\n",
    "                    self.middle_initial = self.name_parts[2]\n",
    "                \n",
    "        elif self.name_part_count > 4:\n",
    "            \n",
    "            # all initials\n",
    "            if all([len(x)<3 for x in self.name_parts[1:-1]]):\n",
    "                initial_list = []\n",
    "                for x in self.name_parts[1:-1]:\n",
    "                    initial_list.append(x)\n",
    "                self.initials = ' '.join(initial_list)\n",
    "                \n",
    "            # all names\n",
    "            elif all([len(x)>2 for x in self.name_parts[1:-1]]):\n",
    "                self.first_name = self.name_parts[1]\n",
    "                middle_name_list = []\n",
    "                for x in self.name_parts[1:-1]:\n",
    "                    middle_name_list.append(x)\n",
    "                self.middle_name = ' '.join(middle_name_list)\n",
    "                \n",
    "            # first initial, middle names\n",
    "            elif (len(self.name_parts[1])<3 and all([len(x)>2 for x in self.name_parts[2:-1]])): \n",
    "                self.first_initial = self.name_parts[1]\n",
    "                middle_name_list = []\n",
    "                for x in self.name_parts[2:-1]:\n",
    "                    middle_name_list.append(x)\n",
    "                self.middle_name = ' '.join(middle_name_list)\n",
    "                \n",
    "            # first name, middle initials\n",
    "            elif (len(self.name_parts[1])>2 and all([len(x)<3 for x in self.name_parts[2:-1]])): \n",
    "                self.first_name = self.name_parts[1]\n",
    "                middle_initial_list = []\n",
    "                for x in self.name_parts[2:-1]:\n",
    "                    middle_initial_list.append(x)\n",
    "                self.middle_initial = ' '.join(middle_initial_list)\n",
    "                \n",
    "    def __generate(self):\n",
    "        if self.first_name:\n",
    "            self.first_initial = self.first_name[0]\n",
    "        if self.middle_name:\n",
    "            self.middle_initial = [x[0] for x in self.middle_name[0].split()]\n",
    "        if self.first_name and self.middle_name:\n",
    "            self.initials = [x[0] for x in self.name_parts[1:-1].split()]\n",
    "                \n",
    "    def __fixInitials(initials):\n",
    "        i_list = initials.split()\n",
    "        i_list = [cleanPunct(x) for x in i_list]\n",
    "        return ';'.join(i_list)\n",
    "                \n",
    "    def __reformat(self):\n",
    "        if self.initials:\n",
    "            self.initials = __fixInitials(self.initials)\n",
    "        if self.middle_initial:\n",
    "            self.middle_initial = __fixInitials(self.middle_initial)\n",
    "        if self.first_initial:\n",
    "            self.first_initial = __fixInitials(self.first_initial)\n",
    "            \n",
    "    def __init__(self, name):\n",
    "        self.full_name = name\n",
    "        self.name_parts = [x.lower() for x in self.full_name.split()]\n",
    "        self.title = self.name_parts[0]\n",
    "        self.last_name = self.name_parts[0]\n",
    "        self.name_part_count = len(self.name_parts)\n",
    "        \n",
    "        self.first_name = ''\n",
    "        self.first_initial = ''\n",
    "        self.middle_name = ''\n",
    "        self.middle_initial = ''\n",
    "        self.initials = ''\n",
    "        \n",
    "        self.__assign()\n",
    "        self.__generate()\n",
    "        self.__reformat()\n",
    "            \n",
    "                    \n",
    "    #__assign = assign\n",
    "    #__generate = generate\n",
    "    #__reformat = reformat\n",
    "        "
   ]
  },
  {
   "cell_type": "code",
   "execution_count": 106,
   "metadata": {},
   "outputs": [],
   "source": [
    "name = AuthName('Mr. Charles E. B. Dudley Warner')"
   ]
  },
  {
   "cell_type": "code",
   "execution_count": 107,
   "metadata": {},
   "outputs": [
    {
     "data": {
      "text/plain": [
       "''"
      ]
     },
     "execution_count": 107,
     "metadata": {},
     "output_type": "execute_result"
    }
   ],
   "source": [
    "name.first_name"
   ]
  },
  {
   "cell_type": "code",
   "execution_count": 52,
   "metadata": {},
   "outputs": [
    {
     "data": {
      "text/plain": [
       "'adams'"
      ]
     },
     "execution_count": 52,
     "metadata": {},
     "output_type": "execute_result"
    }
   ],
   "source": [
    "author_surname_symspell.lookup('adams', Verbosity.CLOSEST)[0]._term"
   ]
  },
  {
   "cell_type": "code",
   "execution_count": 54,
   "metadata": {},
   "outputs": [],
   "source": [
    "def getSetOfNames(txt):\n",
    "    \"\"\"\n",
    "    Returns sets of names matched by similarity.\n",
    "    \"\"\"\n",
    "    all_name_sets = []\n",
    "    \n",
    "    known_names = getNamesFollowingTitles(txt)\n",
    "    potential_names = getCapitalizedWords(txt)\n",
    "    \n",
    "    for known in known_names:\n",
    "        name_parts = [removePunct(x).lower() for x in known.split() if removePunct(x) not in titles]\n",
    "        name_set = []\n",
    "        name_set.append(known)\n",
    "\n",
    "        \n",
    "        try:\n",
    "            author_surname_symspell._words[name_parts[-1].lower()]\n",
    "            for n in potential_names:\n",
    "                lookup = author_surname_symspell.lookup(n.lower(), Verbosity.CLOSEST)\n",
    "                if (lookup):\n",
    "                    for i, x in enumerate(lookup):\n",
    "                        if (lookup[i]._term in name_parts):\n",
    "                            name_set.append(n)\n",
    "        \n",
    "        except:\n",
    "            for n in potential_names:\n",
    "                for p in name_parts:\n",
    "                    if (len(n)>4) and (len(p)>4):\n",
    "                        if (edit_distance(n,p)<3):\n",
    "                            name_set.append(n)\n",
    "        \n",
    "        all_name_sets.append(name_set)\n",
    "        \n",
    "    return all_name_sets"
   ]
  },
  {
   "cell_type": "code",
   "execution_count": 59,
   "metadata": {},
   "outputs": [
    {
     "data": {
      "text/plain": [
       "[['Professor Thorold Rogers'], ['Mrs. Browning', 'Browning'], ['Mr. Julian Hawthorne'], ['Mr. Vedder', 'Vedder'], ['Mr. Swinburne', 'Swinburne'], ['President Andrew D. White', 'White'], ['Dr. Geor6 Ebers', 'Ebers'], ['Mr. Julius Chambers'], ['Professor E. Johnsou', 'Johnsou'], ['Dr. William M. Taylor', 'Taylor'], ['Dr. Joseph Parktercontinueshiseipositionuin', 'Joseph', 'Parktercontinueshiseipositionuin'], ['Dr. i. B. Adams', 'Adams'], ['Mr. Brander Matthews'], ['Mr. Cushing', 'Cushing'], ['Dr. Herbert B. Adam', 'Herbert', 'Adam'], ['Mr. Charles Dudley Warner'], ['Dr. Parker', 'Parker']]"
      ]
     },
     "execution_count": 59,
     "metadata": {},
     "output_type": "execute_result"
    }
   ],
   "source": [
    "getSetOfNames(txts_cleaned[0])"
   ]
  },
  {
   "cell_type": "code",
   "execution_count": 56,
   "metadata": {},
   "outputs": [],
   "source": [
    "txts_cleaned = [cleanTextForNameSearch(x) for x in txts]"
   ]
  },
  {
   "cell_type": "markdown",
   "metadata": {},
   "source": [
    "if first part of shorter name is entirely contained in longer name\n",
    "fuzzy match to edit distance of two \n",
    "look at part of string length of shorter name - if those fuzzy match\n",
    "cut it off and group, check to see if second part is dictionary name"
   ]
  },
  {
   "cell_type": "markdown",
   "metadata": {},
   "source": [
    "match known publishers\n",
    "remove publishers\n",
    "regex with name & name & name"
   ]
  },
  {
   "cell_type": "code",
   "execution_count": 57,
   "metadata": {
    "scrolled": true
   },
   "outputs": [
    {
     "name": "stdout",
     "output_type": "stream",
     "text": [
      "Text #0\n",
      "['Professor Thorold Rogers']\n",
      "['Mrs. Browning', 'Browning']\n",
      "['Mr. Julian Hawthorne']\n",
      "['Mr. Vedder', 'Vedder']\n",
      "['Mr. Swinburne', 'Swinburne']\n",
      "['President Andrew D. White', 'White']\n",
      "['Dr. Geor6 Ebers', 'Ebers']\n",
      "['Mr. Julius Chambers']\n",
      "['Professor E. Johnsou', 'Johnsou']\n",
      "['Dr. William M. Taylor', 'Taylor']\n",
      "['Dr. Joseph Parktercontinueshiseipositionuin', 'Joseph', 'Parktercontinueshiseipositionuin']\n",
      "['Dr. i. B. Adams', 'Adams']\n",
      "['Mr. Brander Matthews']\n",
      "['Mr. Cushing', 'Cushing']\n",
      "['Dr. Herbert B. Adam', 'Herbert', 'Adam']\n",
      "['Mr. Charles Dudley Warner']\n",
      "['Dr. Parker', 'Parker']\n",
      "\n",
      "Text #1\n",
      "['Mr. E. L. Voynich', 'Voynich', 'VWynich', 'Voyniich']\n",
      "\n",
      "Text #2\n",
      "['Miss Peard', 'Peard', 'Peard']\n",
      "['Sir Henry Lancaster', 'Lancaster', 'Lancaster', 'Lancaster']\n",
      "['Miss HowAiD Is']\n",
      "['Lord Mttdhursm- Coming']\n",
      "['Miss s', 'Shp', 'S8', 'G0']\n",
      "['Mrs.']\n",
      "['Mrs. A. L. Wister', 'Wister', 'Ap-', 'L8', 'G0', 'G0']\n",
      "\n",
      "Text #3\n",
      "['Dr. Atwood', 'Atwood']\n",
      "\n",
      "Text #4\n",
      "\n",
      "Text #5\n",
      "['Lord']\n",
      "\n",
      "Text #6\n",
      "['Mr. Thomas A. Edison', 'Thomas', 'Edison']\n",
      "['Mr. Bixby', 'Bixby']\n",
      "['Mr. Tompkins', 'Tompkins']\n",
      "['Mr. Gillman', 'Gillman', 'TILLnAN', 'Tillman']\n",
      "['Lord Clive', 'Clive']\n",
      "['Mr. Cook', 'Cook', 'Cook']\n",
      "['Mr. Arthur Gillman', 'Gillman', 'TILLnAN', 'Tillman']\n",
      "['Prof. Tillman', 'Gillman', 'Tillman']\n",
      "['Mr. Haggard', 'HAGGARD', 'Haggard']\n",
      "['Mr. Alden', 'Alden']\n",
      "['Mr. Crane', 'Crane', 'CRANE']\n",
      "['Dr. Variot', 'Variot']\n",
      "['President of']\n",
      "['Dr. Brown-Sequard', 'Brown-Sequard', 'Brown-Sequard']\n",
      "\n",
      "Text #7\n",
      "['Mr. Swinburne Massinger', 'Swinburne', 'Massinger']\n",
      "['Mr. George Saintsbury The Dryden', 'Dryden', 'Dryden']\n",
      "['Mr. Havelock Ellis Hey-']\n",
      "['Mr. Parrish', 'Parrish']\n",
      "['Mr. A. Wilson Verity']\n",
      "['Mr. Maxfield Parrish A', 'Parrish', 'XV']\n",
      "['Mr. Kenneth Grahame']\n",
      "['Mr. Arthur Symons Ford', 'Ford']\n",
      "\n",
      "Text #8\n",
      "\n",
      "Text #9\n",
      "['Mr. Gallatin', 'Oallatir', 'Gallatin', 'Gailatin']\n",
      "['Mr. Lodge', 'Lodge']\n",
      "['Mr. Jefferson', 'Jefferson', 'Jeffersoim']\n",
      "['Mr. Stevens', 'Htevens', 'Stevens']\n",
      "['Mr. Clallatiiis', 'Clallatiiis']\n",
      "['Mr. Adams', 'Adams']\n",
      "['Mr. Morse', 'Morse']\n",
      "['Mr. Qallathi', 'Qallathi']\n",
      "['Mr. was']\n",
      "['Mr. Gailatin', 'Gallatin', 'Gailatin']\n",
      "['Mr. Oallatir', 'Oallatir', 'Gallatin']\n",
      "['Mr. Cabot Lodge', 'Lodge']\n",
      "['Mr. Htevens', 'Htevens', 'Stevens']\n",
      "\n",
      "Text #10\n",
      "['Mr Heyny', 'Heyny']\n",
      "\n",
      "Text #11\n",
      "['Professor of Structural Engineering University', 'University', 'University']\n",
      "\n",
      "Text #12\n",
      "['Mr. Rees']\n",
      "['Mr. Dawe', 'Dawe', 'Dawe', 'Dawe']\n",
      "['Miss Serjeant']\n",
      "['Mr. Ralph', 'Ralph']\n",
      "['Hong Kong']\n",
      "\n",
      "Text #13\n",
      "['Mr. Ilowolls', 'Ilowolls']\n",
      "['Mr. Ke-']\n",
      "\n",
      "Text #14\n",
      "['Dr Reeves']\n",
      "['Dr Reeve']\n",
      "['Mrs Francis Reeves']\n",
      "\n",
      "Text #15\n",
      "['Mrs. Goodwin', 'Goodwin']\n",
      "['Mrs. Wharton', 'Wharton']\n",
      "['Sir Christopher', 'Christopher', 'Christopher']\n",
      "['Mr. James', 'James']\n",
      "\n",
      "Text #16\n",
      "['Dr. Paul Sollier Paris Rabies', 'Sollier', 'Paris', 'Rabies', 'Paris']\n",
      "\n",
      "Text #17\n",
      "['Mr. John C. Van Dyke', 'John']\n",
      "['Mr. Van Dyke']\n",
      "['Mr. Chase', 'Chase']\n",
      "['Master and']\n",
      "['Mr. Hadow', 'Hadow', 'Hadow']\n",
      "['Miss Mary Thorn Carpenter', 'Carpenter', 'Carpenter', 'Carpenter']\n",
      "['Master and Men The']\n",
      "['Mr. Hamilton W. Mabie', 'Hamilton']\n",
      "['Miss Carpenter', 'Carpenter', 'Carpenter', 'Carpenter']\n",
      "['Mr. Mabie']\n",
      "['Mr. W. H. Hadow', 'Hadow', 'Hadow']\n",
      "\n",
      "Text #18\n",
      "['Mrs. Schuyler Van Rensselaer', 'Schuyler', 'Rensselaer']\n",
      "['Mr. Kipling', 'Kipling']\n",
      "['Mr. Vachel Lindsay']\n",
      "['President Lowell', 'Lowell']\n",
      "['Mrs. Wharton', 'Wharton']\n",
      "\n",
      "Text #19\n",
      "\n",
      "Text #20\n",
      "['Professor Brastow', 'Brastow']\n",
      "\n",
      "Text #21\n",
      "['Director']\n",
      "['Mr. Billious', 'Billious', 'Billious']\n",
      "['Mr. Lindsay', 'Lindsay', 'Lindsay']\n",
      "['Mrs. Billious', 'Billious', 'Billious']\n",
      "['Mr. Nich-', 'Nich-']\n",
      "['Mr. William Butler Yeats']\n",
      "\n",
      "Text #22\n",
      "\n",
      "Text #23\n",
      "['Dr. F. S. Billings', 'Billings']\n",
      "['Prof. A.']\n",
      "['Professor Patulsen', 'Patulsen']\n",
      "['Prof. N. M. Butler', 'Butler']\n",
      "['Dr. C. E. Stevens', 'Stevens']\n",
      "['Prof. E. D. Perry', 'Perry']\n",
      "['Dr. William Pepper', 'William', 'Pepper']\n",
      "['Mr. Richard Hovey', 'Hovey']\n",
      "['Mr. Hovey', 'Hovey']\n",
      "['Prof. Friedrich Paulsen', 'Patulsen']\n",
      "['Miss Edgeworth Scribe N. P. Willis Dickens', 'Edgeworth', 'Willis', 'Dickens']\n",
      "['Mr. Beazley', 'Beazley']\n",
      "['Professor Butler', 'Butler']\n",
      "\n",
      "Text #24\n",
      "['Master House Painters']\n",
      "\n",
      "Text #25\n",
      "['Miss Curtis', 'Curtis', 'Curtis', 'Cultis', 'Curtis', 'Curtis']\n",
      "['Mr. Kimhleni', 'Kimhleni']\n",
      "['Mr. Fordher', 'Fordher']\n",
      "['Miss Cultis', 'Curtis', 'Curtis', 'Cultis', 'Curtis', 'Curtis']\n",
      "['Mr. Kiiiiein', 'Kiiiiein']\n",
      "\n",
      "Text #26\n",
      "['Dr. Willi Ule']\n",
      "\n",
      "Text #27\n",
      "['Professor Josiah Royce']\n",
      "\n",
      "Text #28\n",
      "['Professor Hiram Cor-']\n",
      "['Professor Corson', 'Corson']\n",
      "\n",
      "Text #29\n",
      "['President Cleveland']\n",
      "\n",
      "Text #30\n",
      "['Professor Bergson', 'Bergson']\n",
      "['Professor Cooper']\n",
      "['Mr. Edward Carpenter']\n",
      "['Mr. Edward Lewis', 'Lewis']\n",
      "['Mr. Lewis', 'Lewis']\n",
      "['Professor Lane Cooper', 'Glance']\n",
      "\n",
      "Text #31\n",
      "['Mr. Harry Thurston Peck']\n",
      "['Dr. South']\n",
      "['Mr. Winthrop Packard']\n",
      "['Professor Peck']\n",
      "['Mrs. Stowe', 'Stowe']\n",
      "['Mrs. Brown', 'Brown']\n",
      "['Rev. P. H. Ditchfield', 'Ditchfield']\n",
      "['Professor of History']\n",
      "['Professor Johnson', 'Johnson', 'Johnson', 'Johnson']\n",
      "['Mr. Gar-']\n",
      "['Dr. Charles F. Johnson', 'Charles', 'Johnson', 'Johnson', 'Johnson', 'Charles']\n",
      "['Professor Bury']\n",
      "\n",
      "Text #32\n",
      "['Mr. Arnold']\n",
      "\n",
      "Text #33\n",
      "['Lord Beaconsfield', 'Beaconsfield', 'Beaconsfield']\n",
      "['Mr. Gladstone', 'Gladstone']\n",
      "['Lord Houghton', 'Houghton']\n",
      "['Mr. G. W. E. Russell) He', 'Russell']\n",
      "['Professor Moses Colt Tyler']\n",
      "\n",
      "Text #34\n",
      "['Professor of Therapeutics', 'Therapeutics']\n",
      "['Sir William Roberts', 'Roberts']\n",
      "['Dr Heitzmann']\n",
      "\n",
      "Text #35\n",
      "\n",
      "Text #36\n",
      "['Mr. Mill']\n",
      "['Dr. Campbell', 'Campbell']\n",
      "\n",
      "Text #37\n",
      "['Lord']\n",
      "['Mr. Gardner', 'Gardner']\n",
      "['Master In']\n",
      "['Dr. Peroy Gardner', 'Gardner']\n",
      "['Dr. Gardner', 'Gardner']\n",
      "\n",
      "Text #38\n",
      "['Mr. Herbert Page', 'Herbert']\n",
      "['Dr. Bramwell', 'Bramwell']\n",
      "\n",
      "Text #39\n",
      "['Mr. Yeats', 'Yeats', 'Yeats', 'Yeats']\n",
      "\n",
      "Text #40\n",
      "['Prof. Fisher', 'Fisher', 'Fisher']\n",
      "['Dr. Fisher', 'Fisher', 'Fisher']\n",
      "\n",
      "Text #41\n",
      "['Lord Beaconsfield', 'Beaconsfield']\n",
      "['Dean Stanley', 'Stanley']\n",
      "['Dr. Farrar', 'Farrar']\n",
      "['Dean']\n",
      "['Dr. Farrar I', 'Farrar']\n",
      "['Dean Farrar', 'Farrar']\n",
      "['Dr. Short Bishop', 'Bishop', 'Short', 'Bishop']\n",
      "['Dean of Canterbury', 'Canterbury']\n",
      "['Mr. Matthew Arnold Yet']\n",
      "['Mr.']\n",
      "\n",
      "Text #42\n",
      "['Dr. Lemoine', 'Lemoine', 'Lemoine', 'Lemoine', 'Lemoine', 'Lemoine']\n",
      "['Mr. Garnett', 'Garnett']\n",
      "['Dr. W. Koppen Second', 'Koppen']\n",
      "['Sir Alfred Lyall']\n",
      "['Dr. Waither', 'Waither']\n",
      "['Press New York The', 'Tne', 'York', 'York', 'Thus', 'York', 'Thou', 'York']\n",
      "['Lord my God']\n",
      "\n",
      "Text #43\n",
      "['Mr. Jewell', 'Jewell']\n",
      "['Mrs. Brathers', 'Brathers']\n",
      "\n",
      "Text #44\n",
      "\n",
      "Text #45\n",
      "['Miss Georgiana Hill', 'Hill']\n",
      "\n",
      "Text #46\n",
      "['President Colfax', 'Colfax']\n",
      "['Mrs. Stanton', 'Stanton']\n",
      "['Miss Anthony', 'Anthony', 'Anthony', 'Anthony']\n",
      "['President Hayes', 'Hayes']\n",
      "['Dr. HIenry Bellows']\n",
      "['President Garfield', 'Garfield']\n",
      "['President Moynier', 'Moynier', 'Moynier']\n",
      "['President Arthur', 'Arthur']\n",
      "['Miss Barton-our', 'Barton-our']\n",
      "['Miss Barton', 'BARTON']\n",
      "['Miss Barton You']\n",
      "['Miss Bar-']\n",
      "['President']\n",
      "['President Lincoln', 'Lincoln']\n",
      "['President Buchanan', 'Buchanan']\n",
      "\n",
      "Text #47\n",
      "['Mr. Symonds', 'Symonds']\n",
      "['Mr. Timayenis']\n",
      "\n",
      "Text #48\n",
      "['Mr. Tennnnttheeditor', 'Tennnnttheeditor']\n",
      "\n",
      "Text #49\n",
      "['Lady Sarah Bunbury']\n",
      "['Lord Percy']\n",
      "['Reverend Mather Byles', 'Byles']\n",
      "['Mr Austin Dobson', 'Austin', 'Dobson']\n",
      "['Mr. Murdock']\n",
      "['Press special']\n",
      "['Dr. Byles', 'Byles']\n",
      "['Mr. Stuart', 'Stuart']\n",
      "['Dr. Cauer', 'Cauer']\n",
      "['Mr. Vassall', 'Vassall']\n",
      "['Lord Holland', 'Holland', 'Hollanid']\n",
      "['Doctor Byles', 'Byles']\n",
      "['Dr. Goldsmith', 'Goldsmith', 'Goldsmith']\n",
      "['Lord Hollanid', 'Holland', 'Hollanid']\n",
      "['Mr. Pope', 'Pope']\n",
      "['Mr. PErCys B DINwB-TABLE By Harold Murdock Bos']\n",
      "\n"
     ]
    }
   ],
   "source": [
    "for num, txt in enumerate(txts_cleaned):\n",
    "    try:\n",
    "        print('Text #' + str(num))\n",
    "        for x in getSetOfNames(txt):\n",
    "            print(x)\n",
    "        print()\n",
    "    except:\n",
    "        print('Error')\n",
    "        print()"
   ]
  },
  {
   "cell_type": "code",
   "execution_count": null,
   "metadata": {},
   "outputs": [],
   "source": []
  }
 ],
 "metadata": {
  "kernelspec": {
   "display_name": "Python 3",
   "language": "python",
   "name": "python3"
  },
  "language_info": {
   "codemirror_mode": {
    "name": "ipython",
    "version": 3
   },
   "file_extension": ".py",
   "mimetype": "text/x-python",
   "name": "python",
   "nbconvert_exporter": "python",
   "pygments_lexer": "ipython3",
   "version": "3.7.4"
  }
 },
 "nbformat": 4,
 "nbformat_minor": 2
}
