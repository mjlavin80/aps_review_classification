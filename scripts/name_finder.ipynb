{
 "cells": [
  {
   "cell_type": "markdown",
   "metadata": {},
   "source": [
    "# Finding names in book reviews"
   ]
  },
  {
   "cell_type": "code",
   "execution_count": 1,
   "metadata": {},
   "outputs": [
    {
     "name": "stdout",
     "output_type": "stream",
     "text": [
      "Pretty printing has been turned OFF\n"
     ]
    }
   ],
   "source": [
    "#import necessary packages\n",
    "import os\n",
    "import pandas as pd\n",
    "import re\n",
    "from collections import Counter\n",
    "import numpy as np\n",
    "%pprint"
   ]
  },
  {
   "cell_type": "code",
   "execution_count": 2,
   "metadata": {},
   "outputs": [],
   "source": [
    "# loading in files\n",
    "directory = \"../../aps_reviews_50/aps_reviews/\"\n",
    "filenames = os.listdir(directory)\n",
    "txts = []\n",
    "for file in filenames:\n",
    "    with open(directory + file) as f:\n",
    "        txts.append(f.read())"
   ]
  },
  {
   "cell_type": "code",
   "execution_count": 3,
   "metadata": {},
   "outputs": [],
   "source": [
    "import pickle"
   ]
  },
  {
   "cell_type": "code",
   "execution_count": 4,
   "metadata": {},
   "outputs": [],
   "source": [
    "df_all = pickle.load(open('author_title_df.pkl', 'rb'))"
   ]
  },
  {
   "cell_type": "code",
   "execution_count": 5,
   "metadata": {},
   "outputs": [],
   "source": [
    "authors_by_last_name = pickle.load(open('author_last_name_dict.pkl', 'rb'))"
   ]
  },
  {
   "cell_type": "markdown",
   "metadata": {},
   "source": [
    "### Step 1: Find names using titles and capitalization"
   ]
  },
  {
   "cell_type": "code",
   "execution_count": 6,
   "metadata": {},
   "outputs": [],
   "source": [
    "titles = \"\"\"Doctor,Dr,Mr,Mrs,Ms,Miss,Msgr,Monsignor,Rev,Reverend,Hon,Honorable,Honourable,Prof,Professor,Madame,Madam,Lady,Lord,Sir,Dame,Master,Mistress,Chancellor,Principal,President,Pres,Warden,Dean,Regent,Rector,Provost,Director\n",
    "\"\"\""
   ]
  },
  {
   "cell_type": "code",
   "execution_count": 7,
   "metadata": {},
   "outputs": [],
   "source": [
    "titles = titles.rstrip().split(',')"
   ]
  },
  {
   "cell_type": "code",
   "execution_count": 8,
   "metadata": {},
   "outputs": [
    {
     "data": {
      "text/plain": [
       "True"
      ]
     },
     "execution_count": 8,
     "metadata": {},
     "output_type": "execute_result"
    }
   ],
   "source": [
    "'Doctor' in titles"
   ]
  },
  {
   "cell_type": "code",
   "execution_count": 9,
   "metadata": {},
   "outputs": [],
   "source": [
    "title_list = '.?\\s|'.join(titles)"
   ]
  },
  {
   "cell_type": "code",
   "execution_count": 10,
   "metadata": {},
   "outputs": [],
   "source": [
    "# test text\n",
    "mytext = \"\"\"\n",
    "    Missouri: A Bone of Contention '                 WE  aware that most of the States of the Union had their nicknames, more or less complimentary, but to name Missouri ' a bone of contention ' is a stroke of wit. It does, however, rightly describe the Missouri of the past, and vividly writes in a phrase her political history. Until the triumph of the Union armies and the close of the Civil War, Missouri was in the jaws of the watch-dogs of slavery and freedom. In war or in peace, the subiect of legislative com-                 promise or of military struggle, Missouri was an uncertain factor. Now, after -five years of national peace, her history may be calmly and impartially written. Indeed, the task has been done, and well done, and the , Lucien Carr of Harvard, may be congratulated upon his work,  is strong, unimpassioned, scholarly, and as impressed with the firm touch which comes of local knowledge as are the imprinted rocks in the cabinets at Cambridge. Long familiarity with the wealth of archaeology in the Peabody Museuml seems to have given him the power of comparison and generalization in the evolution of a commonwealth, while  acquaintance with living men enables him to blend the results of the study and the field in pleasing literary form. Five of his seventeen chapters give a luminous picture of the early French and Spanish discoveries and domination. Then follow three chapters treating of the                 Missouri. By Ldclen Carr. $ti... (American Commonwealths.) Boston:                 Itoughto., Sftfltn & Co.                 l , the compromise, and the  into the U nion of this State named after the great river which flows through it. In his treatment of the period from 1844 to i861, as well as that of war time, some readers may charge Mr. Carr with unduly favoring the Southern and even Confederate view; but to people living this side of the now-vanished Mason and Dixon's line, this is doubtless a benefit; for only when Northern people are able to ' put themselves in the place' of Southerners and see with Southern eyes, can they be sure that they have achieved that impartiality which is essential to the writing of final history. He shows that the Missourians were neither secessionists nor slavery propagandists. He both criticises and justifies the action of the second convention which, in the uncertain hours when other States  seceding and Missouri's Governor had been driven into exile, org  a provisional government, and  saved Missouri Irons ' the pit of political degradation into which the States in rebellion were sunk during the period of reconstruction.' Mr. Carr practically and almost abruptly ends his history at the close of the War, believing that the career of Missouri as a bone of contention ended with the abolition of slavery. The fifty years' struggle was over, the State recovered rapidly froni the wounds of the Civil War, wealth increased wonderfully, and the Negro was liberally dealt with in most if not all points relating to citizenship. Taken as a whole, this book, with its sustained interest, high average literary merit, and thorough treatment of the voluminous facts, fully justifies its place in the series of ' histories of such States as have exercised a positive influence in the shaping of the national Government, or have had a striking political - . . history.' Like the others, it has a good map and index.\"\"\"  "
   ]
  },
  {
   "cell_type": "code",
   "execution_count": 11,
   "metadata": {},
   "outputs": [
    {
     "data": {
      "text/plain": [
       "['Missouri:', 'A', 'Bone', 'of', 'Contention', \"'\", 'WE', 'aware', 'that', 'most', 'of', 'the', 'States', 'of', 'the', 'Union', 'had', 'their', 'nicknames,', 'more', 'or', 'less', 'complimentary,', 'but', 'to', 'name', 'Missouri', \"'\", 'a', 'bone', 'of', 'contention', \"'\", 'is', 'a', 'stroke', 'of', 'wit.', 'It', 'does,', 'however,', 'rightly', 'describe', 'the', 'Missouri', 'of', 'the', 'past,', 'and', 'vividly', 'writes', 'in', 'a', 'phrase', 'her', 'political', 'history.', 'Until', 'the', 'triumph', 'of', 'the', 'Union', 'armies', 'and', 'the', 'close', 'of', 'the', 'Civil', 'War,', 'Missouri', 'was', 'in', 'the', 'jaws', 'of', 'the', 'watch-dogs', 'of', 'slavery', 'and', 'freedom.', 'In', 'war', 'or', 'in', 'peace,', 'the', 'subiect', 'of', 'legislative', 'com-', 'promise', 'or', 'of', 'military', 'struggle,', 'Missouri', 'was', 'an', 'uncertain', 'factor.', 'Now,', 'after', '-five', 'years', 'of', 'national', 'peace,', 'her', 'history', 'may', 'be', 'calmly', 'and', 'impartially', 'written.', 'Indeed,', 'the', 'task', 'has', 'been', 'done,', 'and', 'well', 'done,', 'and', 'the', ',', 'Lucien', 'Carr', 'of', 'Harvard,', 'may', 'be', 'congratulated', 'upon', 'his', 'work,', 'is', 'strong,', 'unimpassioned,', 'scholarly,', 'and', 'as', 'impressed', 'with', 'the', 'firm', 'touch', 'which', 'comes', 'of', 'local', 'knowledge', 'as', 'are', 'the', 'imprinted', 'rocks', 'in', 'the', 'cabinets', 'at', 'Cambridge.', 'Long', 'familiarity', 'with', 'the', 'wealth', 'of', 'archaeology', 'in', 'the', 'Peabody', 'Museuml', 'seems', 'to', 'have', 'given', 'him', 'the', 'power', 'of', 'comparison', 'and', 'generalization', 'in', 'the', 'evolution', 'of', 'a', 'commonwealth,', 'while', 'acquaintance', 'with', 'living', 'men', 'enables', 'him', 'to', 'blend', 'the', 'results', 'of', 'the', 'study', 'and', 'the', 'field', 'in', 'pleasing', 'literary', 'form.', 'Five', 'of', 'his', 'seventeen', 'chapters', 'give', 'a', 'luminous', 'picture', 'of', 'the', 'early', 'French', 'and', 'Spanish', 'discoveries', 'and', 'domination.', 'Then', 'follow', 'three', 'chapters', 'treating', 'of', 'the', 'Missouri.', 'By', 'Ldclen', 'Carr.', '$ti...', '(American', 'Commonwealths.)', 'Boston:', 'Itoughto.,', 'Sftfltn', '&', 'Co.', 'l', ',', 'the', 'compromise,', 'and', 'the', 'into', 'the', 'U', 'nion', 'of', 'this', 'State', 'named', 'after', 'the', 'great', 'river', 'which', 'flows', 'through', 'it.', 'In', 'his', 'treatment', 'of', 'the', 'period', 'from', '1844', 'to', 'i861,', 'as', 'well', 'as', 'that', 'of', 'war', 'time,', 'some', 'readers', 'may', 'charge', 'Mr.', 'Carr', 'with', 'unduly', 'favoring', 'the', 'Southern', 'and', 'even', 'Confederate', 'view;', 'but', 'to', 'people', 'living', 'this', 'side', 'of', 'the', 'now-vanished', 'Mason', 'and', \"Dixon's\", 'line,', 'this', 'is', 'doubtless', 'a', 'benefit;', 'for', 'only', 'when', 'Northern', 'people', 'are', 'able', 'to', \"'\", 'put', 'themselves', 'in', 'the', \"place'\", 'of', 'Southerners', 'and', 'see', 'with', 'Southern', 'eyes,', 'can', 'they', 'be', 'sure', 'that', 'they', 'have', 'achieved', 'that', 'impartiality', 'which', 'is', 'essential', 'to', 'the', 'writing', 'of', 'final', 'history.', 'He', 'shows', 'that', 'the', 'Missourians', 'were', 'neither', 'secessionists', 'nor', 'slavery', 'propagandists.', 'He', 'both', 'criticises', 'and', 'justifies', 'the', 'action', 'of', 'the', 'second', 'convention', 'which,', 'in', 'the', 'uncertain', 'hours', 'when', 'other', 'States', 'seceding', 'and', \"Missouri's\", 'Governor', 'had', 'been', 'driven', 'into', 'exile,', 'org', 'a', 'provisional', 'government,', 'and', 'saved', 'Missouri', 'Irons', \"'\", 'the', 'pit', 'of', 'political', 'degradation', 'into', 'which', 'the', 'States', 'in', 'rebellion', 'were', 'sunk', 'during', 'the', 'period', 'of', \"reconstruction.'\", 'Mr.', 'Carr', 'practically', 'and', 'almost', 'abruptly', 'ends', 'his', 'history', 'at', 'the', 'close', 'of', 'the', 'War,', 'believing', 'that', 'the', 'career', 'of', 'Missouri', 'as', 'a', 'bone', 'of', 'contention', 'ended', 'with', 'the', 'abolition', 'of', 'slavery.', 'The', 'fifty', \"years'\", 'struggle', 'was', 'over,', 'the', 'State', 'recovered', 'rapidly', 'froni', 'the', 'wounds', 'of', 'the', 'Civil', 'War,', 'wealth', 'increased', 'wonderfully,', 'and', 'the', 'Negro', 'was', 'liberally', 'dealt', 'with', 'in', 'most', 'if', 'not', 'all', 'points', 'relating', 'to', 'citizenship.', 'Taken', 'as', 'a', 'whole,', 'this', 'book,', 'with', 'its', 'sustained', 'interest,', 'high', 'average', 'literary', 'merit,', 'and', 'thorough', 'treatment', 'of', 'the', 'voluminous', 'facts,', 'fully', 'justifies', 'its', 'place', 'in', 'the', 'series', 'of', \"'\", 'histories', 'of', 'such', 'States', 'as', 'have', 'exercised', 'a', 'positive', 'influence', 'in', 'the', 'shaping', 'of', 'the', 'national', 'Government,', 'or', 'have', 'had', 'a', 'striking', 'political', '-', '.', '.', \"history.'\", 'Like', 'the', 'others,', 'it', 'has', 'a', 'good', 'map', 'and', 'index.']"
      ]
     },
     "execution_count": 11,
     "metadata": {},
     "output_type": "execute_result"
    }
   ],
   "source": [
    "mytext.split()"
   ]
  },
  {
   "cell_type": "code",
   "execution_count": 12,
   "metadata": {},
   "outputs": [
    {
     "data": {
      "text/plain": [
       "True"
      ]
     },
     "execution_count": 12,
     "metadata": {},
     "output_type": "execute_result"
    }
   ],
   "source": [
    "from symspellpy.symspellpy import SymSpell, Verbosity \n",
    "\n",
    "# maximum edit distance per dictionary precalculation\n",
    "max_edit_distance_dictionary = 2\n",
    "prefix_length = 7\n",
    "# create object\n",
    "first_name_symspell = SymSpell(max_edit_distance_dictionary, prefix_length)\n",
    "# load dictionary\n",
    "dictionary_path = \"name_freq_dict.txt\"\n",
    "term_index = 0 \n",
    "count_index = 1\n",
    "first_name_symspell.load_dictionary(dictionary_path, term_index, count_index, separator=\",\")"
   ]
  },
  {
   "cell_type": "code",
   "execution_count": 13,
   "metadata": {},
   "outputs": [],
   "source": [
    "authors_last_name_list = ','.join(list(authors_by_last_name.keys()))"
   ]
  },
  {
   "cell_type": "code",
   "execution_count": 14,
   "metadata": {},
   "outputs": [],
   "source": [
    "f = open(\"authors_last_name_list.txt\", \"w\")\n",
    "f.write(authors_last_name_list)\n",
    "f.close()"
   ]
  },
  {
   "cell_type": "code",
   "execution_count": 15,
   "metadata": {},
   "outputs": [
    {
     "data": {
      "text/plain": [
       "True"
      ]
     },
     "execution_count": 15,
     "metadata": {},
     "output_type": "execute_result"
    }
   ],
   "source": [
    "# maximum edit distance per dictionary precalculation\n",
    "max_edit_distance_dictionary = 2\n",
    "prefix_length = 7\n",
    "# create object\n",
    "author_surname_symspell = SymSpell()\n",
    "# load dictionary\n",
    "term_index = 0 \n",
    "count_index = 1\n",
    "author_surname_symspell.create_dictionary('authors_last_name_list.txt')"
   ]
  },
  {
   "cell_type": "code",
   "execution_count": 16,
   "metadata": {},
   "outputs": [
    {
     "data": {
      "text/plain": [
       "2"
      ]
     },
     "execution_count": 16,
     "metadata": {},
     "output_type": "execute_result"
    }
   ],
   "source": [
    "author_surname_symspell._words['carr']"
   ]
  },
  {
   "cell_type": "code",
   "execution_count": 17,
   "metadata": {},
   "outputs": [
    {
     "data": {
      "text/plain": [
       "'carr'"
      ]
     },
     "execution_count": 17,
     "metadata": {},
     "output_type": "execute_result"
    }
   ],
   "source": [
    "author_surname_symspell.lookup('carm', Verbosity.CLOSEST)[0]._term"
   ]
  },
  {
   "cell_type": "code",
   "execution_count": 18,
   "metadata": {},
   "outputs": [],
   "source": [
    "from nltk.corpus import stopwords"
   ]
  },
  {
   "cell_type": "code",
   "execution_count": 19,
   "metadata": {},
   "outputs": [],
   "source": [
    "stopword_list = stopwords.words('english')"
   ]
  },
  {
   "cell_type": "code",
   "execution_count": 20,
   "metadata": {},
   "outputs": [
    {
     "data": {
      "text/plain": [
       "True"
      ]
     },
     "execution_count": 20,
     "metadata": {},
     "output_type": "execute_result"
    }
   ],
   "source": [
    "'by' in stopword_list"
   ]
  },
  {
   "cell_type": "code",
   "execution_count": 21,
   "metadata": {},
   "outputs": [
    {
     "data": {
      "text/plain": [
       "['Mr. ', 'Mr. ']"
      ]
     },
     "execution_count": 21,
     "metadata": {},
     "output_type": "execute_result"
    }
   ],
   "source": [
    "re.findall(title_list, mytext)"
   ]
  },
  {
   "cell_type": "code",
   "execution_count": 22,
   "metadata": {},
   "outputs": [],
   "source": [
    "iter = re.finditer(title_list, mytext)"
   ]
  },
  {
   "cell_type": "code",
   "execution_count": 23,
   "metadata": {},
   "outputs": [],
   "source": [
    "indices = [(m.start(), m.group()) for m in iter]\n",
    "# indices = [m.start(0) for m in iter]"
   ]
  },
  {
   "cell_type": "code",
   "execution_count": 24,
   "metadata": {},
   "outputs": [
    {
     "data": {
      "text/plain": [
       "'Mr. '"
      ]
     },
     "execution_count": 24,
     "metadata": {},
     "output_type": "execute_result"
    }
   ],
   "source": [
    "indices[0][1]"
   ]
  },
  {
   "cell_type": "code",
   "execution_count": 25,
   "metadata": {},
   "outputs": [
    {
     "name": "stdout",
     "output_type": "stream",
     "text": [
      "0 (1785, 'Mr. ')\n",
      "1 (2624, 'Mr. ')\n"
     ]
    }
   ],
   "source": [
    "for i, index in enumerate(indices):\n",
    "    print(i, index)"
   ]
  },
  {
   "cell_type": "code",
   "execution_count": 26,
   "metadata": {},
   "outputs": [
    {
     "data": {
      "text/plain": [
       "'Mr.'"
      ]
     },
     "execution_count": 26,
     "metadata": {},
     "output_type": "execute_result"
    }
   ],
   "source": [
    "re.match('Mr.', mytext[1785:]).group()"
   ]
  },
  {
   "cell_type": "code",
   "execution_count": 27,
   "metadata": {},
   "outputs": [
    {
     "data": {
      "text/plain": [
       "<re.Match object; span=(0, 10), match='Mr. Carr w'>"
      ]
     },
     "execution_count": 27,
     "metadata": {},
     "output_type": "execute_result"
    }
   ],
   "source": [
    "re.match(indices[0][1] + '.*? [^A-Z]', mytext[indices[0][0]:])"
   ]
  },
  {
   "cell_type": "code",
   "execution_count": 28,
   "metadata": {},
   "outputs": [],
   "source": [
    "ex_txt = 'Here is an example text that features a longer name. This name is Mr James Egg-Briggs and he is an author.'"
   ]
  },
  {
   "cell_type": "code",
   "execution_count": 29,
   "metadata": {},
   "outputs": [
    {
     "name": "stdout",
     "output_type": "stream",
     "text": [
      "(1785, 'Mr. ')\n"
     ]
    }
   ],
   "source": [
    "for i, index in enumerate(indices):\n",
    "    if i < len(indices)-1:\n",
    "        print(index)"
   ]
  },
  {
   "cell_type": "code",
   "execution_count": 30,
   "metadata": {},
   "outputs": [],
   "source": [
    "iterex = re.finditer(title_list, txts[0])"
   ]
  },
  {
   "cell_type": "code",
   "execution_count": 31,
   "metadata": {},
   "outputs": [],
   "source": [
    "indices = [(m.start(), m.group()) for m in iterex]"
   ]
  },
  {
   "cell_type": "code",
   "execution_count": 32,
   "metadata": {},
   "outputs": [
    {
     "data": {
      "text/plain": [
       "[(218, 'Mr. '), (325, 'Mr. '), (556, 'Professor '), (848, 'Mrs. '), (1020, 'Mr. '), (1052, 'Dr. '), (1631, 'Dr. '), (1927, 'Mr. '), (2086, 'Mr. '), (2706, 'Dr. '), (4147, 'Mr. '), (4460, 'Dr. '), (4599, 'President '), (5450, 'Mr. '), (5737, 'Dr. '), (5806, 'Professor '), (5917, 'Dr. '), (5930, 'Dr. ')]"
      ]
     },
     "execution_count": 32,
     "metadata": {},
     "output_type": "execute_result"
    }
   ],
   "source": [
    "indices"
   ]
  },
  {
   "cell_type": "code",
   "execution_count": 41,
   "metadata": {
    "scrolled": true
   },
   "outputs": [
    {
     "name": "stdout",
     "output_type": "stream",
     "text": [
      "Mr. Charles Dudley Warner\n",
      "Mr. Vedder's\n",
      "Professor Thorold Rogers\n",
      "Mrs. Browning\n",
      "Mr. Swinburne.\n",
      "Dr. William\n",
      "Dr. Geor6 Ebers'\n",
      "Mr. Julian Hawthorne\n",
      "Mr. Julius Chambers,\n",
      "Dr. \n",
      "Mr. Cushing\n",
      "Dr. Herbert B. Adam.\n",
      "President Andrew D. White.\n",
      "Mr. Brander Matthews,\n",
      "Dr. Joseph Parktercontinueshiseipositionuin\n",
      "Professor E. Johnsou\n"
     ]
    },
    {
     "ename": "AttributeError",
     "evalue": "'NoneType' object has no attribute 'group'",
     "output_type": "error",
     "traceback": [
      "\u001b[0;31m---------------------------------------------------------------------------\u001b[0m",
      "\u001b[0;31mAttributeError\u001b[0m                            Traceback (most recent call last)",
      "\u001b[0;32m<ipython-input-41-3b890b5abeac>\u001b[0m in \u001b[0;36m<module>\u001b[0;34m\u001b[0m\n\u001b[1;32m      1\u001b[0m \u001b[0;32mfor\u001b[0m \u001b[0mi\u001b[0m\u001b[0;34m,\u001b[0m \u001b[0mindex\u001b[0m \u001b[0;32min\u001b[0m \u001b[0menumerate\u001b[0m\u001b[0;34m(\u001b[0m\u001b[0mindices\u001b[0m\u001b[0;34m)\u001b[0m\u001b[0;34m:\u001b[0m\u001b[0;34m\u001b[0m\u001b[0;34m\u001b[0m\u001b[0m\n\u001b[1;32m      2\u001b[0m     \u001b[0;32mif\u001b[0m \u001b[0;34m(\u001b[0m\u001b[0mi\u001b[0m\u001b[0;34m<\u001b[0m\u001b[0mlen\u001b[0m\u001b[0;34m(\u001b[0m\u001b[0mindices\u001b[0m\u001b[0;34m)\u001b[0m\u001b[0;34m-\u001b[0m\u001b[0;36m1\u001b[0m\u001b[0;34m)\u001b[0m\u001b[0;34m:\u001b[0m\u001b[0;34m\u001b[0m\u001b[0;34m\u001b[0m\u001b[0m\n\u001b[0;32m----> 3\u001b[0;31m         \u001b[0mprint\u001b[0m\u001b[0;34m(\u001b[0m\u001b[0mre\u001b[0m\u001b[0;34m.\u001b[0m\u001b[0mmatch\u001b[0m\u001b[0;34m(\u001b[0m\u001b[0mindices\u001b[0m\u001b[0;34m[\u001b[0m\u001b[0mi\u001b[0m\u001b[0;34m]\u001b[0m\u001b[0;34m[\u001b[0m\u001b[0;36m1\u001b[0m\u001b[0;34m]\u001b[0m \u001b[0;34m+\u001b[0m \u001b[0;34m'.*? [^A-Z]|\\Z'\u001b[0m\u001b[0;34m,\u001b[0m \u001b[0mtxts\u001b[0m\u001b[0;34m[\u001b[0m\u001b[0;36m0\u001b[0m\u001b[0;34m]\u001b[0m\u001b[0;34m[\u001b[0m\u001b[0mindices\u001b[0m\u001b[0;34m[\u001b[0m\u001b[0mi\u001b[0m\u001b[0;34m]\u001b[0m\u001b[0;34m[\u001b[0m\u001b[0;36m0\u001b[0m\u001b[0;34m]\u001b[0m\u001b[0;34m:\u001b[0m\u001b[0mindices\u001b[0m\u001b[0;34m[\u001b[0m\u001b[0mi\u001b[0m\u001b[0;34m+\u001b[0m\u001b[0;36m1\u001b[0m\u001b[0;34m]\u001b[0m\u001b[0;34m[\u001b[0m\u001b[0;36m0\u001b[0m\u001b[0;34m]\u001b[0m\u001b[0;34m]\u001b[0m\u001b[0;34m)\u001b[0m\u001b[0;34m.\u001b[0m\u001b[0mgroup\u001b[0m\u001b[0;34m(\u001b[0m\u001b[0;34m)\u001b[0m\u001b[0;34m[\u001b[0m\u001b[0;34m:\u001b[0m\u001b[0;34m-\u001b[0m\u001b[0;36m2\u001b[0m\u001b[0;34m]\u001b[0m\u001b[0;34m)\u001b[0m\u001b[0;34m\u001b[0m\u001b[0;34m\u001b[0m\u001b[0m\n\u001b[0m",
      "\u001b[0;31mAttributeError\u001b[0m: 'NoneType' object has no attribute 'group'"
     ]
    }
   ],
   "source": [
    "for i, index in enumerate(indices):\n",
    "    if (i<len(indices)-1):\n",
    "        print(re.match(indices[i][1] + '.*? [^A-Z]', txts[0][indices[i][0]:indices[i+1][0]]).group()[:-2])"
   ]
  },
  {
   "cell_type": "code",
   "execution_count": 38,
   "metadata": {},
   "outputs": [],
   "source": [
    "def getNamesFollowingTitles(txt):\n",
    "    \"\"\"\n",
    "    Returns names following titles - specifically capitalized titles followed by capitalized names.\n",
    "    Names can be any number of words in length, and can include punctuation.\n",
    "    \"\"\"\n",
    "    names = []\n",
    "    \n",
    "    # iter only works once before emptying\n",
    "    iterx = re.finditer(title_list, txt)\n",
    "    indices = [(m.start(), m.group()) for m in iterx]\n",
    "    \n",
    "    for i, index in enumerate(indices):\n",
    "        if i < len(indices)-1:\n",
    "            names.append(re.match(indices[i][1] + '.*? [^A-Z]|/Z', txt[indices[i][0]:indices[i+1][0]]).group()[:-2])\n",
    "        else:\n",
    "            names.append(re.match(indices[i][1] + '.*? [^A-Z]|/Z', txt[indices[i][0]:]).group()[:-2])\n",
    "    \n",
    "    return list(set(names))"
   ]
  },
  {
   "cell_type": "code",
   "execution_count": 39,
   "metadata": {},
   "outputs": [
    {
     "ename": "AttributeError",
     "evalue": "'NoneType' object has no attribute 'group'",
     "output_type": "error",
     "traceback": [
      "\u001b[0;31m---------------------------------------------------------------------------\u001b[0m",
      "\u001b[0;31mAttributeError\u001b[0m                            Traceback (most recent call last)",
      "\u001b[0;32m<ipython-input-39-bc35286c21e9>\u001b[0m in \u001b[0;36m<module>\u001b[0;34m\u001b[0m\n\u001b[0;32m----> 1\u001b[0;31m \u001b[0mgetNamesFollowingTitles\u001b[0m\u001b[0;34m(\u001b[0m\u001b[0mtxts\u001b[0m\u001b[0;34m[\u001b[0m\u001b[0;36m0\u001b[0m\u001b[0;34m]\u001b[0m\u001b[0;34m)\u001b[0m\u001b[0;34m\u001b[0m\u001b[0;34m\u001b[0m\u001b[0m\n\u001b[0m",
      "\u001b[0;32m<ipython-input-38-6d9166b7e0cf>\u001b[0m in \u001b[0;36mgetNamesFollowingTitles\u001b[0;34m(txt)\u001b[0m\n\u001b[1;32m     12\u001b[0m     \u001b[0;32mfor\u001b[0m \u001b[0mi\u001b[0m\u001b[0;34m,\u001b[0m \u001b[0mindex\u001b[0m \u001b[0;32min\u001b[0m \u001b[0menumerate\u001b[0m\u001b[0;34m(\u001b[0m\u001b[0mindices\u001b[0m\u001b[0;34m)\u001b[0m\u001b[0;34m:\u001b[0m\u001b[0;34m\u001b[0m\u001b[0;34m\u001b[0m\u001b[0m\n\u001b[1;32m     13\u001b[0m         \u001b[0;32mif\u001b[0m \u001b[0mi\u001b[0m \u001b[0;34m<\u001b[0m \u001b[0mlen\u001b[0m\u001b[0;34m(\u001b[0m\u001b[0mindices\u001b[0m\u001b[0;34m)\u001b[0m\u001b[0;34m-\u001b[0m\u001b[0;36m1\u001b[0m\u001b[0;34m:\u001b[0m\u001b[0;34m\u001b[0m\u001b[0;34m\u001b[0m\u001b[0m\n\u001b[0;32m---> 14\u001b[0;31m             \u001b[0mnames\u001b[0m\u001b[0;34m.\u001b[0m\u001b[0mappend\u001b[0m\u001b[0;34m(\u001b[0m\u001b[0mre\u001b[0m\u001b[0;34m.\u001b[0m\u001b[0mmatch\u001b[0m\u001b[0;34m(\u001b[0m\u001b[0mindices\u001b[0m\u001b[0;34m[\u001b[0m\u001b[0mi\u001b[0m\u001b[0;34m]\u001b[0m\u001b[0;34m[\u001b[0m\u001b[0;36m1\u001b[0m\u001b[0;34m]\u001b[0m \u001b[0;34m+\u001b[0m \u001b[0;34m'.*? [^A-Z]|/Z'\u001b[0m\u001b[0;34m,\u001b[0m \u001b[0mtxt\u001b[0m\u001b[0;34m[\u001b[0m\u001b[0mindices\u001b[0m\u001b[0;34m[\u001b[0m\u001b[0mi\u001b[0m\u001b[0;34m]\u001b[0m\u001b[0;34m[\u001b[0m\u001b[0;36m0\u001b[0m\u001b[0;34m]\u001b[0m\u001b[0;34m:\u001b[0m\u001b[0mindices\u001b[0m\u001b[0;34m[\u001b[0m\u001b[0mi\u001b[0m\u001b[0;34m+\u001b[0m\u001b[0;36m1\u001b[0m\u001b[0;34m]\u001b[0m\u001b[0;34m[\u001b[0m\u001b[0;36m0\u001b[0m\u001b[0;34m]\u001b[0m\u001b[0;34m]\u001b[0m\u001b[0;34m)\u001b[0m\u001b[0;34m.\u001b[0m\u001b[0mgroup\u001b[0m\u001b[0;34m(\u001b[0m\u001b[0;34m)\u001b[0m\u001b[0;34m[\u001b[0m\u001b[0;34m:\u001b[0m\u001b[0;34m-\u001b[0m\u001b[0;36m2\u001b[0m\u001b[0;34m]\u001b[0m\u001b[0;34m)\u001b[0m\u001b[0;34m\u001b[0m\u001b[0;34m\u001b[0m\u001b[0m\n\u001b[0m\u001b[1;32m     15\u001b[0m         \u001b[0;32melse\u001b[0m\u001b[0;34m:\u001b[0m\u001b[0;34m\u001b[0m\u001b[0;34m\u001b[0m\u001b[0m\n\u001b[1;32m     16\u001b[0m             \u001b[0mnames\u001b[0m\u001b[0;34m.\u001b[0m\u001b[0mappend\u001b[0m\u001b[0;34m(\u001b[0m\u001b[0mre\u001b[0m\u001b[0;34m.\u001b[0m\u001b[0mmatch\u001b[0m\u001b[0;34m(\u001b[0m\u001b[0mindices\u001b[0m\u001b[0;34m[\u001b[0m\u001b[0mi\u001b[0m\u001b[0;34m]\u001b[0m\u001b[0;34m[\u001b[0m\u001b[0;36m1\u001b[0m\u001b[0;34m]\u001b[0m \u001b[0;34m+\u001b[0m \u001b[0;34m'.*? [^A-Z]|/Z'\u001b[0m\u001b[0;34m,\u001b[0m \u001b[0mtxt\u001b[0m\u001b[0;34m[\u001b[0m\u001b[0mindices\u001b[0m\u001b[0;34m[\u001b[0m\u001b[0mi\u001b[0m\u001b[0;34m]\u001b[0m\u001b[0;34m[\u001b[0m\u001b[0;36m0\u001b[0m\u001b[0;34m]\u001b[0m\u001b[0;34m:\u001b[0m\u001b[0;34m]\u001b[0m\u001b[0;34m)\u001b[0m\u001b[0;34m.\u001b[0m\u001b[0mgroup\u001b[0m\u001b[0;34m(\u001b[0m\u001b[0;34m)\u001b[0m\u001b[0;34m[\u001b[0m\u001b[0;34m:\u001b[0m\u001b[0;34m-\u001b[0m\u001b[0;36m2\u001b[0m\u001b[0;34m]\u001b[0m\u001b[0;34m)\u001b[0m\u001b[0;34m\u001b[0m\u001b[0;34m\u001b[0m\u001b[0m\n",
      "\u001b[0;31mAttributeError\u001b[0m: 'NoneType' object has no attribute 'group'"
     ]
    }
   ],
   "source": [
    "getNamesFollowingTitles(txts[0])"
   ]
  },
  {
   "cell_type": "code",
   "execution_count": 43,
   "metadata": {},
   "outputs": [],
   "source": [
    "# potential one word names\n",
    "one_words = [match for match in re.findall('[A-Z]\\S+', mytext) if (removePunct(match).lower() not in stopword_list) \n",
    "             and (removePunct(match).lower() not in mytext)]"
   ]
  },
  {
   "cell_type": "code",
   "execution_count": 44,
   "metadata": {},
   "outputs": [
    {
     "data": {
      "text/plain": [
       "['Missouri:', 'States', 'Union', 'Missouri', 'Missouri', 'Union', 'Civil', 'Missouri', 'Missouri', 'Indeed,', 'Lucien', 'Carr', 'Harvard,', 'Cambridge.', 'Long', 'Peabody', 'Museuml', 'French', 'Spanish', 'Missouri.', 'Ldclen', 'Carr.', 'American', 'Commonwealths.)', 'Boston:', 'Itoughto.,', 'Sftfltn', 'State', 'Mr.', 'Carr', 'Southern', 'Confederate', 'Mason', \"Dixon's\", 'Northern', 'Southerners', 'Southern', 'Missourians', 'States', \"Missouri's\", 'Governor', 'Missouri', 'Irons', 'States', 'Mr.', 'Carr', 'Missouri', 'State', 'Civil', 'Negro', 'Taken', 'States', 'Like']"
      ]
     },
     "execution_count": 44,
     "metadata": {},
     "output_type": "execute_result"
    }
   ],
   "source": [
    "one_words"
   ]
  },
  {
   "cell_type": "code",
   "execution_count": 28,
   "metadata": {},
   "outputs": [],
   "source": [
    "# potential two word and three word names\n",
    "two_words = re.findall('[A-Z]\\S* [A-Z]\\S+', mytext)\n",
    "three_words = re.findall('[A-Z]\\S* [A-Z]\\S* [A-Z]\\S+', mytext)"
   ]
  },
  {
   "cell_type": "code",
   "execution_count": 29,
   "metadata": {},
   "outputs": [
    {
     "name": "stdout",
     "output_type": "stream",
     "text": [
      "['A Bone', 'Civil War,', 'Lucien Carr', 'Cambridge. Long', 'Peabody Museuml', 'Missouri. By', 'Ldclen Carr.', 'American Commonwealths.)', 'Itoughto., Sftfltn', 'Mr. Carr', \"Missouri's Governor\", 'Missouri Irons', 'Mr. Carr', 'Civil War,']\n",
      "['Missouri: A Bone', 'Civil War, Missouri', 'Missouri. By Ldclen', 'American Commonwealths.) Boston:']\n"
     ]
    }
   ],
   "source": [
    "print(two_words)\n",
    "print(three_words)"
   ]
  },
  {
   "cell_type": "code",
   "execution_count": 34,
   "metadata": {},
   "outputs": [],
   "source": [
    "def removePunct(word):\n",
    "    return ''.join([x for x in word if (x.isalpha()) or (x == '-') or (x=='–')])"
   ]
  },
  {
   "cell_type": "code",
   "execution_count": 35,
   "metadata": {},
   "outputs": [
    {
     "data": {
      "text/plain": [
       "'Egg-Briggs'"
      ]
     },
     "execution_count": 35,
     "metadata": {},
     "output_type": "execute_result"
    }
   ],
   "source": [
    "removePunct('Egg-Briggs.')"
   ]
  },
  {
   "cell_type": "code",
   "execution_count": 80,
   "metadata": {},
   "outputs": [
    {
     "data": {
      "text/plain": [
       "<re.Match object; span=(5, 21), match='Missouri: A Bone'>"
      ]
     },
     "execution_count": 80,
     "metadata": {},
     "output_type": "execute_result"
    }
   ],
   "source": [
    "re.search('([A-Z]\\S* )*[A-Z]\\S*', mytext)"
   ]
  },
  {
   "cell_type": "code",
   "execution_count": 95,
   "metadata": {},
   "outputs": [],
   "source": [
    "ex = 'Missouri'"
   ]
  },
  {
   "cell_type": "code",
   "execution_count": 94,
   "metadata": {},
   "outputs": [],
   "source": [
    "ex_list = [\"Missouri's Governor\",\"Egg\"]"
   ]
  },
  {
   "cell_type": "code",
   "execution_count": 98,
   "metadata": {},
   "outputs": [
    {
     "data": {
      "text/plain": [
       "[True, False]"
      ]
     },
     "execution_count": 98,
     "metadata": {},
     "output_type": "execute_result"
    }
   ],
   "source": [
    "[ex in x for x in ex_list]"
   ]
  },
  {
   "cell_type": "code",
   "execution_count": 231,
   "metadata": {},
   "outputs": [],
   "source": [
    "def getCapitalizedWords(txt):\n",
    "    \"\"\"\n",
    "    Returns strings of capitalized words up 3 words long. \n",
    "    Removes words/phrases containing stopwords and words found later in the text lowercased.\n",
    "    \"\"\"\n",
    "    #listen idk why it won't just let me put in an optional repeat either\n",
    "    all_words = []\n",
    "    \n",
    "    #three words\n",
    "    all_words.extend([match for match in re.findall('[A-Z]\\S* [A-Z]\\S* [A-Z]\\S+', txt) if \n",
    "                      all([(removePunct(word).lower() not in stopword_list) for word in match.split()]) \n",
    "                      and all([(removePunct(word).lower() not in txt) for word in match.split()])])\n",
    "    \n",
    "    #two words\n",
    "    two_words = [match for match in re.findall('[A-Z]\\S* [A-Z]\\S+', txt) if \n",
    "                      all([(removePunct(word).lower() not in stopword_list) for word in match.split()]) \n",
    "                      and all([(removePunct(word).lower() not in txt) for word in match.split()])\n",
    "                      and all([match not in x for x in all_words])]\n",
    "    \n",
    "    all_words.extend(two_words)\n",
    "    \n",
    "    #one word\n",
    "    one_words = [match for match in re.findall('[A-Z]\\S+', txt) if \n",
    "                      (removePunct(match).lower() not in stopword_list) \n",
    "                      and (removePunct(match).lower() not in txt)\n",
    "                      and all([match not in x for x in all_words])]\n",
    "    \n",
    "    all_words.extend(one_words)\n",
    "    \n",
    "    return [word for word in [' '.join([removePunct(y) for y in x.split() if removePunct(y) not in titles]) \n",
    "                      for x in all_words] if (len(word)>0)]"
   ]
  },
  {
   "cell_type": "code",
   "execution_count": 227,
   "metadata": {},
   "outputs": [
    {
     "data": {
      "text/plain": [
       "['Doctor', 'Dr', 'Mr', 'Mrs', 'Ms', 'Miss', 'Msgr', 'Monsignor', 'Rev', 'Reverend', 'Hon', 'Honorable', 'Honourable', 'Prof', 'Professor', 'Madame', 'Madam', 'Lady', 'Lord', 'Sir', 'Dame', 'Master', 'Mistress', 'Chancellor', 'Principal', 'President', 'Pres', 'Warden', 'Dean', 'Regent', 'Rector', 'Provost', 'Director']"
      ]
     },
     "execution_count": 227,
     "metadata": {},
     "output_type": "execute_result"
    }
   ],
   "source": [
    "titles"
   ]
  },
  {
   "cell_type": "code",
   "execution_count": 228,
   "metadata": {},
   "outputs": [
    {
     "data": {
      "text/plain": [
       "['American Commonwealths Boston', 'Lucien Carr', 'Cambridge Long', 'Peabody Museuml', 'Ldclen Carr', 'Itoughto Sftfltn', 'Carr', 'Missouris Governor', 'Missouri Irons', 'Carr', 'Missouri', 'States', 'Union', 'Union', 'Civil', 'Indeed', 'Harvard', 'French', 'Spanish', 'Missouri', 'State', 'Southern', 'Confederate', 'Mason', 'Dixons', 'Northern', 'Southerners', 'Southern', 'Missourians', 'States', 'States', 'State', 'Civil', 'Negro', 'Taken', 'States', 'Like']"
      ]
     },
     "execution_count": 228,
     "metadata": {},
     "output_type": "execute_result"
    }
   ],
   "source": [
    "getCapitalizedWords(mytext)"
   ]
  },
  {
   "cell_type": "code",
   "execution_count": 202,
   "metadata": {},
   "outputs": [],
   "source": [
    "from nltk.metrics import edit_distance"
   ]
  },
  {
   "cell_type": "code",
   "execution_count": 203,
   "metadata": {},
   "outputs": [
    {
     "data": {
      "text/plain": [
       "1"
      ]
     },
     "execution_count": 203,
     "metadata": {},
     "output_type": "execute_result"
    }
   ],
   "source": [
    "edit_distance('voynich','voynicch')"
   ]
  },
  {
   "cell_type": "code",
   "execution_count": 240,
   "metadata": {},
   "outputs": [],
   "source": [
    "def getSetOfNames(txt):\n",
    "    \"\"\"\n",
    "    Returns sets of names matched by similarity.\n",
    "    \"\"\"\n",
    "    all_name_sets = []\n",
    "    \n",
    "    known_names = getNamesFollowingTitles(txt)\n",
    "    potential_names = getCapitalizedWords(txt)\n",
    "    \n",
    "    for known in known_names:\n",
    "        name_set = []\n",
    "        name_set.append(known)\n",
    "        name_parts = [removePunct(x).lower() for x in known.split() if removePunct(x) not in titles]\n",
    "        \n",
    "        try:\n",
    "            author_surname_symspell._words[name_parts[-1].lower()]\n",
    "            for n in potential_names:\n",
    "                lookup = author_surname_symspell.lookup(n.lower(), Verbosity.CLOSEST)\n",
    "                if (lookup):\n",
    "                    for i, x in enumerate(lookup):\n",
    "                        if (lookup[i]._term in name_parts):\n",
    "                            name_set.append(n)\n",
    "        \n",
    "        except:\n",
    "            for n in potential_names:\n",
    "                for p in name_parts:\n",
    "                    if (len(n)>5) and (len(p)>5):\n",
    "                        if (edit_distance(n,p)<3):\n",
    "                            name_set.append(n)\n",
    "        \n",
    "        all_name_sets.append(name_set)\n",
    "        \n",
    "    return all_name_sets"
   ]
  },
  {
   "cell_type": "code",
   "execution_count": 241,
   "metadata": {},
   "outputs": [
    {
     "data": {
      "text/plain": [
       "[['Dr. Herbert B. Adam.', 'Herbert', 'Adam'], [\"Dr. Geor6 Ebers'\", 'Ebers'], ['Mr. Cushing', 'Cushing'], ['Mr. Julian Hawthorne'], ['Mr. Swinburne.', 'Swinburne'], ['Dr. Malaren, Dr. Parker,', 'Parker'], ['President Andrew D. White.', 'White'], ['Mrs. Browning', 'Browning'], ['Professor E. Johnsou', 'Johnsou'], ['Dr. William'], ['Mr. Charles Dudley Warner'], [\"Mr. Vedder's\", 'Vedders'], ['Dr. Parker,', 'Parker'], ['Mr. Brander Matthews,'], ['Professor Thorold Rogers'], ['Dr. '], ['Mr. Julius Chambers,'], ['Dr. Joseph Parktercontinueshiseipositionuin', 'Joseph', 'Parktercontinueshiseipositionuin']]"
      ]
     },
     "execution_count": 241,
     "metadata": {},
     "output_type": "execute_result"
    }
   ],
   "source": [
    "getSetOfNames(txts[0])"
   ]
  },
  {
   "cell_type": "code",
   "execution_count": 162,
   "metadata": {},
   "outputs": [
    {
     "data": {
      "text/plain": [
       "True"
      ]
     },
     "execution_count": 162,
     "metadata": {},
     "output_type": "execute_result"
    }
   ],
   "source": [
    "'L' in title_list"
   ]
  },
  {
   "cell_type": "code",
   "execution_count": 164,
   "metadata": {},
   "outputs": [],
   "source": [
    "name_partsx = [x for x in known_names[0].split() if removePunct(x) not in titles]"
   ]
  },
  {
   "cell_type": "code",
   "execution_count": 168,
   "metadata": {},
   "outputs": [
    {
     "data": {
      "text/plain": [
       "1"
      ]
     },
     "execution_count": 168,
     "metadata": {},
     "output_type": "execute_result"
    }
   ],
   "source": [
    "author_surname_symspell._words[name_partsx[-1].lower()]"
   ]
  },
  {
   "cell_type": "code",
   "execution_count": 199,
   "metadata": {},
   "outputs": [],
   "source": [
    "lookup = author_surname_symspell.lookup('Carrm'.lower(), Verbosity.CLOSEST)"
   ]
  },
  {
   "cell_type": "code",
   "execution_count": 200,
   "metadata": {},
   "outputs": [
    {
     "name": "stdout",
     "output_type": "stream",
     "text": [
      "x\n"
     ]
    }
   ],
   "source": [
    "if (lookup):\n",
    "    print('x')"
   ]
  },
  {
   "cell_type": "code",
   "execution_count": 201,
   "metadata": {},
   "outputs": [
    {
     "name": "stdout",
     "output_type": "stream",
     "text": [
      "carr\n",
      "carry\n"
     ]
    }
   ],
   "source": [
    "for i, x in enumerate(lookup):\n",
    "    print(lookup[i]._term)"
   ]
  },
  {
   "cell_type": "code",
   "execution_count": 187,
   "metadata": {},
   "outputs": [
    {
     "name": "stdout",
     "output_type": "stream",
     "text": [
      "carr\n",
      "cram\n",
      "calm\n",
      "cary\n",
      "car\n"
     ]
    }
   ],
   "source": [
    "for i, x in enumerate(author_surname_symspell.lookup('carm', Verbosity.CLOSEST)):\n",
    "    print(author_surname_symspell.lookup('carm', Verbosity.CLOSEST)[i]._term)"
   ]
  },
  {
   "cell_type": "code",
   "execution_count": 86,
   "metadata": {
    "collapsed": true
   },
   "outputs": [
    {
     "data": {
      "text/plain": [
       "'                                                                                                THE GADFLY.*                 DEARTH of good novels has been felt this year, so with unalloyed pleas-                 tire wve recognize in Mr. E. L. Voynich a new writer of exceptional ability, and in TYe Gaffy an intensely interesting and dramatic novel. Although not equal to Quo Vadfis, it is yet the most powerful story which has come to us since Sienkiewicz\\'s remarkable book.                 The scene of The         is laid in Italy, modern Italy, the Italy of Garibaldi, and there is much in the experiences of The Gadfly which recalls Garibaldi\\'s own ex- citing career. The fierce struggle between the eager young group of revolutionists and the ecclesiastical or conservative party- this is the leading motif of the book. Blut the reader s interest centers chiefly in two strong and original character s-The Gad- fly and the Padre Monticello.                 When we are first introduced to The Gadfly lie is an idealistic, sensitive young student called Arthur, sitting at the feet of his adored preceptor, Monticello, who is a priest famed for his nobility of character alld pureness of life. The political move- ments of the day awakened the young man s  enthusiasm, and his presence at cer- tain political gatherings caused his arrest. D)uring his imprisonment efforts were made to  hiid to betray his political friends -efforts  by torture,-but be was brave enough to keep their secrets.  released he found that words he bad uttered under the seal of the confessional had been the means of betraying his best friend. Weak and discouraged with long months in a dungeon, Arthur came out to find that the girl be loved-Gemnia-be- lieved him to be a coward, and that his adored Padre Monticello was the seducer of his mother, and that lie himself was only a child of shame. This accumulation of misfortunes drove him nearly out of his mind with grief and rage, the  world seemed to him a cheat, and God a gigantic fraud. Leaving behind him a bitter note                 \\'The Gadfly. By E. L. VWynich. Henry Holt & Co.                 for the Padre, the youth Arthur retires from the scene-sailing as stowaway on a steamer for South America.                 Thirteen years later there arrives in Italy a bitter and cynical man, reckless of his own life and regardless of the lives of others, \"a gentleman of many adventures and unknown antecedents,\" whose attitude toward the church and its priests, especially toward Monticello, is one of ineradicable hatred. Frightful sufferings both mental and phys- ical, sufferings  have scarred his body and. wrecked his nerves, have turned the, noble pure-minded youth into a - tive, heartless man.                 The weakest point in the novel is the transformation of Arthur into The Gadfly. Ought Lot the writer to have prepared the reader for this change of character by show- ing evil traits in the youth which might de- velop into wickedness in the man? Arthur is too virtuous to seem quite natural, and The Gadfly is too base. The laws which should govern the evolution of character are disregarded here, and circumstances are made responsible for all of The Gadfly\\'s sins.                 And what a remarkable, original charac- ter The Gadfly is! A perfect dare-devil! There is nothing wicked and cruel that the embittered atheist does not attempt. He has a courage born of a contempt for life. His desire for revenge is relentless. The love and tenderness that were in his heart have turned to gall and wormwood.                 The last half of the book is written with unusual dramatic power. It is full of novel adventure and incident. The Gadfly be- comes the leader of the Revolutionary party. He is constantly brought into association with Monticello and Gemma, but for a long time is not recognized. The account of his final capture and his death, with all its har- rowing details, is almost too painful to read. Some of the last scenes, the prison scenes, are exquisitely touching. The meetings be- tween the father and the son are bitter and passionate. The moment when Monticello recognizes in his insulting prisoner-who is before him awaiting his death sentence- his lon-lost and much sorrowed-for son, is an intensely thrilling one. The Gadfly tells the Padre to choose between his son and his God, and even at such a moment as this cannot forbear to denounce the church and its priests.                 The writer has a forceful style, an entirely original conception for his plot, a wealth of unhackneyed incidents, and several strong characters. Gemma\\'s calm and serene na- ture and breadth of view make of her a woman of a new and noble type. Even the gypsy woman, whom The Gadfly had attached to himself, is alive. With a few powerful lines Voyniich is able to portray living, breathing, human beings.                 In the last chapters we deplore a certain diffuseness in style, a lack of restraint, as if                 the writer did not know how to end his book artistically. Once The Gadfly disappears, the reader s interest wanes.                 It is a powerful and picturesque story, however-a canvas glowing with color and life -and the few striking characters stand out in firm, resolute outlines. We heartily commend Tue Gadfly as a clever, almost a brilliant, novel.                         '"
      ]
     },
     "execution_count": 86,
     "metadata": {},
     "output_type": "execute_result"
    }
   ],
   "source": [
    "txts[1]"
   ]
  },
  {
   "cell_type": "code",
   "execution_count": 232,
   "metadata": {},
   "outputs": [],
   "source": [
    "known_names = getNamesFollowingTitles(txts[1])\n",
    "potential_names = getCapitalizedWords(txts[1])"
   ]
  },
  {
   "cell_type": "code",
   "execution_count": 233,
   "metadata": {},
   "outputs": [
    {
     "data": {
      "text/plain": [
       "['Mr. E. L. Voynich']"
      ]
     },
     "execution_count": 233,
     "metadata": {},
     "output_type": "execute_result"
    }
   ],
   "source": [
    "known_names"
   ]
  },
  {
   "cell_type": "code",
   "execution_count": 234,
   "metadata": {},
   "outputs": [
    {
     "data": {
      "text/plain": [
       "['TYe Gaffy', 'Quo Vadfis', 'Padre Monticello', 'Padre Monticello', 'Henry Holt', 'South America', 'Tue Gadfly', 'GADFLY', 'DEARTH', 'Voynich', 'Although', 'Sienkiewiczs', 'Italy', 'Italy', 'Italy', 'Garibaldi', 'Garibaldis', 'Blut', 'Gad-', 'Arthur', 'Monticello', 'Arthur', 'Gemnia-be-', 'God', 'Leaving', 'Gadfly', 'VWynich', 'Padre', 'Arthur', 'Thirteen', 'Italy', 'Monticello', 'Frightful', 'Arthur', 'Gadfly', 'Arthur', 'Gadflys', 'Revolutionary', 'Gemma', 'God', 'Gemmas', 'Voyniich']"
      ]
     },
     "execution_count": 234,
     "metadata": {},
     "output_type": "execute_result"
    }
   ],
   "source": [
    "potential_names"
   ]
  },
  {
   "cell_type": "code",
   "execution_count": 235,
   "metadata": {},
   "outputs": [
    {
     "data": {
      "text/plain": [
       "['Voynich']"
      ]
     },
     "execution_count": 235,
     "metadata": {},
     "output_type": "execute_result"
    }
   ],
   "source": [
    "[x for x in potential_names if x in known_names[0]]"
   ]
  },
  {
   "cell_type": "code",
   "execution_count": null,
   "metadata": {},
   "outputs": [],
   "source": []
  }
 ],
 "metadata": {
  "kernelspec": {
   "display_name": "Python 3",
   "language": "python",
   "name": "python3"
  },
  "language_info": {
   "codemirror_mode": {
    "name": "ipython",
    "version": 3
   },
   "file_extension": ".py",
   "mimetype": "text/x-python",
   "name": "python",
   "nbconvert_exporter": "python",
   "pygments_lexer": "ipython3",
   "version": "3.7.4"
  }
 },
 "nbformat": 4,
 "nbformat_minor": 2
}
