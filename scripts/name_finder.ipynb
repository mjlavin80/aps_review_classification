{
 "cells": [
  {
   "cell_type": "markdown",
   "metadata": {},
   "source": [
    "# Finding names in book reviews"
   ]
  },
  {
   "cell_type": "code",
   "execution_count": 1,
   "metadata": {},
   "outputs": [
    {
     "name": "stdout",
     "output_type": "stream",
     "text": [
      "Pretty printing has been turned OFF\n"
     ]
    }
   ],
   "source": [
    "#import necessary packages\n",
    "import os\n",
    "import pandas as pd\n",
    "import re\n",
    "from collections import Counter\n",
    "import numpy as np\n",
    "import pickle\n",
    "from nltk.metrics import edit_distance\n",
    "%pprint"
   ]
  },
  {
   "cell_type": "code",
   "execution_count": 2,
   "metadata": {},
   "outputs": [],
   "source": [
    "from nltk.corpus import stopwords\n",
    "stopword_list = stopwords.words('english')"
   ]
  },
  {
   "cell_type": "code",
   "execution_count": 3,
   "metadata": {},
   "outputs": [],
   "source": [
    "from nltk.metrics import edit_distance"
   ]
  },
  {
   "cell_type": "code",
   "execution_count": 4,
   "metadata": {},
   "outputs": [],
   "source": [
    "# loading in files\n",
    "directory = \"../../aps_reviews_50/aps_reviews/\"\n",
    "filenames = os.listdir(directory)\n",
    "txts = []\n",
    "for file in filenames:\n",
    "    with open(directory + file) as f:\n",
    "        txts.append(f.read())"
   ]
  },
  {
   "cell_type": "markdown",
   "metadata": {},
   "source": [
    "this is the review_id"
   ]
  },
  {
   "cell_type": "code",
   "execution_count": 131,
   "metadata": {},
   "outputs": [
    {
     "data": {
      "text/plain": [
       "['136726613', '90142613', '90390665', '124486140', '126315326', '136992742', '137651039', '89668273', '136971619', '90313218', '128376070', '124688361', '124882533', '89639059', '88461015', '124190789', '136902134', '90180084', '137244878', '88721263', '137412078', '89675095', '760950213', '124217248', '853770606', '137195890', '125727674', '88797650', '89649761', '90967694', '89672866', '89674750', '89635917', '124196531', '128176513', '88477095', '125715359', '124189638', '136887509', '90554411', '90186165', '125502663', '125724646', '124740955', '124707428', '89644579', '137072896', '136685639', '126788760', '89671107']"
      ]
     },
     "execution_count": 131,
     "metadata": {},
     "output_type": "execute_result"
    }
   ],
   "source": [
    "[x.split('.')[0] for x in filenames]"
   ]
  },
  {
   "cell_type": "code",
   "execution_count": 5,
   "metadata": {},
   "outputs": [],
   "source": [
    "df_all = pickle.load(open('author_title_df.pkl', 'rb'))"
   ]
  },
  {
   "cell_type": "code",
   "execution_count": 6,
   "metadata": {},
   "outputs": [],
   "source": [
    "authors_by_last_name = pickle.load(open('author_last_name_dict.pkl', 'rb'))"
   ]
  },
  {
   "cell_type": "code",
   "execution_count": 125,
   "metadata": {},
   "outputs": [],
   "source": [
    "class ReviewNameObj(str):\n",
    "    review_id = ''\n",
    "    review_loc = ''"
   ]
  },
  {
   "cell_type": "markdown",
   "metadata": {},
   "source": [
    "### Step 1: Finding publishers"
   ]
  },
  {
   "cell_type": "code",
   "execution_count": 8,
   "metadata": {},
   "outputs": [],
   "source": [
    "known_publishers = [\"Charles Scribner's Sons\",\"Scribner\",\"Macmillan\",\"Funk & Wagnalls\",\"McClure, Philips\",\"Houghton Mifflin\",\"G.P. Putnam's Sons\", \"G.P. Putnam\",\n",
    " \"Harper & Brothers\",\"Harper\",\"J.B. Lippincott\",\"J. B. Lippincott\", \"Doubleday, Page\",\"Doubleday\",\"D. Appleton\",\"Longmans, Green\",\n",
    " \"Longman\",\"Henry Holt\",\"Holt\",\"Adam & Charles Black\"]"
   ]
  },
  {
   "cell_type": "code",
   "execution_count": 9,
   "metadata": {},
   "outputs": [],
   "source": [
    "pub_ends = ['company','co','incorporated','inc','firm','press','group','publishers','publishing',\n",
    "                    'publications','pub','books','ltd','limited','society','house','associates']"
   ]
  },
  {
   "cell_type": "code",
   "execution_count": 10,
   "metadata": {},
   "outputs": [],
   "source": [
    "pub_ends_str = '|'.join(pub_ends)"
   ]
  },
  {
   "cell_type": "code",
   "execution_count": 11,
   "metadata": {},
   "outputs": [],
   "source": [
    "pub_list = []\n",
    "for pub in known_publishers:\n",
    "    for end in pub_ends:\n",
    "        pub_list.append(pub+' '+end)"
   ]
  },
  {
   "cell_type": "code",
   "execution_count": 12,
   "metadata": {},
   "outputs": [],
   "source": [
    "pub_list_str = '|'.join(pub_list)"
   ]
  },
  {
   "cell_type": "code",
   "execution_count": 13,
   "metadata": {},
   "outputs": [],
   "source": [
    "pub_associates = ['sons','son','brother','brothers']"
   ]
  },
  {
   "cell_type": "code",
   "execution_count": 14,
   "metadata": {},
   "outputs": [],
   "source": [
    "# use this to sort out paper names for non-book reviews\n",
    "paper_names = ['register','sentinel','times','post','review','gazette','daily','journal','tribune','chronicle',\n",
    "               'news','chronicle','record']"
   ]
  },
  {
   "cell_type": "code",
   "execution_count": 16,
   "metadata": {},
   "outputs": [],
   "source": [
    "def removePunct(word, dash = True):\n",
    "    if dash == True:\n",
    "        return ''.join([x for x in word if (x.isalnum()) or (x == '-') or (x=='–')])"
   ]
  },
  {
   "cell_type": "code",
   "execution_count": 134,
   "metadata": {},
   "outputs": [],
   "source": [
    "class PublisherName(ReviewNameObj):\n",
    "    \"\"\"\n",
    "    Object type for publisher names. Inherits string functions.\n",
    "    \n",
    "    Parameters\n",
    "    ----------\n",
    "    self.full_name : full name passed to the original init\n",
    "    self.pub_count : number of names (inc. all full names, last names, sons, brothers)\n",
    "    self.pub_type : type of publisher if found in pub_ends\n",
    "    self.pub_names : all names (inc. all full names, last names - not including sons, brothers)\n",
    "    self.pub_associates : son(s)/brother(s)\n",
    "    \n",
    "    \"\"\"\n",
    "    name_type = 'publisher'\n",
    "    \n",
    "    def __assign(self):\n",
    "        self.pub_count = ''\n",
    "        self.pub_type = ''\n",
    "        self.pub_names = ''\n",
    "        self.pub_associates = ''\n",
    "        \n",
    "        if removePunct(self.name_parts[-1]) in pub_ends:\n",
    "            self.pub_type = self.name_parts[-1]\n",
    "            self.pub_count = len(self.name_parts[:-1])\n",
    "            self.pub_associates = [x for x in self.name_parts if x in pub_associates]\n",
    "            self.pub_names = ';'.join([word.replace(\"'s\", \"\") for word in self.name_parts[:-1]])\n",
    "        else:\n",
    "            self.pub_count = len(self.name_parts)\n",
    "            self.pub_associates = [x for x in self.name_parts if x in pub_associates]\n",
    "            self.pub_names = ';'.join([word.replace(\"'s\", \"\") for word in self.name_parts[:-1]])\n",
    "        \n",
    "    def __find_variations(self):\n",
    "        # in the future i will set this up to autogenerate variations inc. various pub ends \n",
    "        self.potential_variations = ''  \n",
    "        \n",
    "    def __init__(self, name):\n",
    "        self.full_name = name\n",
    "        self.name_parts = [x.lower() for x in self.full_name.split('&|and|And')]\n",
    "        self.__assign()"
   ]
  },
  {
   "cell_type": "code",
   "execution_count": 18,
   "metadata": {},
   "outputs": [
    {
     "data": {
      "text/plain": [
       "'Company\\\\.?(?!\\\\w)|Co\\\\.?(?!\\\\w)|Incorporated\\\\.?(?!\\\\w)|Inc\\\\.?(?!\\\\w)|Firm\\\\.?(?!\\\\w)|Press\\\\.?(?!\\\\w)|Group\\\\.?(?!\\\\w)|Publishers\\\\.?(?!\\\\w)|Publishing\\\\.?(?!\\\\w)|Publications\\\\.?(?!\\\\w)|Pub\\\\.?(?!\\\\w)|Books\\\\.?(?!\\\\w)|Ltd\\\\.?(?!\\\\w)|Limited\\\\.?(?!\\\\w)|Society\\\\.?(?!\\\\w)|House\\\\.?(?!\\\\w)|Associates\\\\.?(?!\\\\w)'"
      ]
     },
     "execution_count": 18,
     "metadata": {},
     "output_type": "execute_result"
    }
   ],
   "source": [
    "pub_ends_list = '|'.join([x.capitalize()+'\\.?(?!\\w)' for x in pub_ends])\n",
    "pub_ends_list"
   ]
  },
  {
   "cell_type": "code",
   "execution_count": 19,
   "metadata": {},
   "outputs": [],
   "source": [
    "p_iter = re.finditer(pub_ends_list, txts[0])"
   ]
  },
  {
   "cell_type": "code",
   "execution_count": 20,
   "metadata": {},
   "outputs": [
    {
     "data": {
      "text/plain": [
       "[(452, 'Co.'), (766, 'Co.'), (2351, 'Co.'), (2844, 'Co.'), (3915, 'Co.'), (4331, 'Society'), (5380, 'Society')]"
      ]
     },
     "execution_count": 20,
     "metadata": {},
     "output_type": "execute_result"
    }
   ],
   "source": [
    "p_indices = [(m.end(), m.group()) for m in p_iter]\n",
    "p_indices\n",
    "#p_indices = [cleanIndices(m) for m in k_indices]"
   ]
  },
  {
   "cell_type": "code",
   "execution_count": 21,
   "metadata": {},
   "outputs": [
    {
     "data": {
      "text/plain": [
       "'                                                                                                LITERARY NOTES.                 -The Chautauqua department of \" Wide Awake\" is now published separately.                 -Mr. Charles Dudley Warner has written for\"The North American Review \" a paper on prison .                 -Mr. Vedder\\'s illustrations of the \"Rubfilyfit\" have found a great admirer in the Queen of Italy.                 -Cassell & Co. '"
      ]
     },
     "execution_count": 21,
     "metadata": {},
     "output_type": "execute_result"
    }
   ],
   "source": [
    "txts[0][:p_indices[0][0] + 1]"
   ]
  },
  {
   "cell_type": "code",
   "execution_count": 22,
   "metadata": {},
   "outputs": [
    {
     "data": {
      "text/plain": [
       "'Co.'"
      ]
     },
     "execution_count": 22,
     "metadata": {},
     "output_type": "execute_result"
    }
   ],
   "source": [
    "p_indices[0][1]"
   ]
  },
  {
   "cell_type": "code",
   "execution_count": 23,
   "metadata": {},
   "outputs": [
    {
     "name": "stdout",
     "output_type": "stream",
     "text": [
      "Cassell & Co. \n"
     ]
    }
   ],
   "source": [
    "for i in re.finditer(\"[A-Z]\\S+? (and|&) .+\", txts[0][:p_indices[0][0] + 1]):\n",
    "    print(i.group())"
   ]
  },
  {
   "cell_type": "code",
   "execution_count": 135,
   "metadata": {},
   "outputs": [],
   "source": [
    "def cleanIndices(index_tuple):\n",
    "    \"\"\"\n",
    "    Removes all non-period punctuation from the string component of an index tuple.\n",
    "    \"\"\"\n",
    "    x = index_tuple[0]\n",
    "    y = index_tuple[1]\n",
    "    if y[-1] in '!\"#$%&\\'()*+,-/:;<=>?@[\\\\]^_`{|}~':\n",
    "        y = y[:-1]\n",
    "    return (x,y)"
   ]
  },
  {
   "cell_type": "code",
   "execution_count": 25,
   "metadata": {},
   "outputs": [],
   "source": [
    "def removeDashForPub(pub_match):\n",
    "    return re.sub(r'(?<!/w)-(?!/w)', '', pub_match)"
   ]
  },
  {
   "cell_type": "code",
   "execution_count": 26,
   "metadata": {},
   "outputs": [
    {
     "data": {
      "text/plain": [
       "'E. P. Dutton & Cov'"
      ]
     },
     "execution_count": 26,
     "metadata": {},
     "output_type": "execute_result"
    }
   ],
   "source": [
    "removeDashForPub('-E. P. Dutton & Cov')"
   ]
  },
  {
   "cell_type": "code",
   "execution_count": 57,
   "metadata": {},
   "outputs": [],
   "source": [
    "def cleanPubMatches(match_list):\n",
    "    #print('cleaning', match_list, '...')\n",
    "    cleaned_matches = []\n",
    "    for match in match_list:\n",
    "        index_to_start = 0\n",
    "        for i, x in enumerate(match[1].split()):\n",
    "            if x[0].islower() and x[0]!='&':\n",
    "                index_to_start = i+1\n",
    "        cleaned_matches.append(' '.join(match[1].split()[index_to_start:]))\n",
    "    return cleaned_matches"
   ]
  },
  {
   "cell_type": "code",
   "execution_count": 64,
   "metadata": {
    "scrolled": false
   },
   "outputs": [
    {
     "name": "stdout",
     "output_type": "stream",
     "text": [
      "\n",
      "['E. P. Dutton & Co.']\n",
      "\n",
      "['A. S. Barnes & Co.']\n",
      "\n",
      "['Ginn, Heath & Co.']\n",
      "\n",
      "['E. P. Dutton & Cov', 'Thomas Y. Crowell & Co.']\n",
      "\n",
      "['American Historical Society']\n",
      "\n",
      "['Dunlap Society']\n",
      "\n"
     ]
    }
   ],
   "source": [
    "for i, index in enumerate(p_indices):\n",
    "    try:\n",
    "        if (i<len(p_indices)+1):\n",
    "            match = re.finditer(\"(?<= [^A-Z&\\.])[\\S]{,10} ?[A-Z][\\w&. ]*?\" + index[1] + '(?!\\w)', \n",
    "                                txts[0][p_indices[i-1][0]:(p_indices[i][0] + 1)])\n",
    "            all_matches = [(m.end(), removeDashForPub(m.group())) for m in match]\n",
    "            if len(all_matches) > 0: \n",
    "                print(cleanPubMatches(all_matches))\n",
    "            print()\n",
    "    except:\n",
    "        pass"
   ]
  },
  {
   "cell_type": "code",
   "execution_count": 59,
   "metadata": {},
   "outputs": [
    {
     "data": {
      "text/plain": [
       "'                                                                                                LITERARY NOTES.                 -The Chautauqua department of \" Wide Awake\" is now published separately.                 -Mr. Charles Dudley Warner has written for\"The North American Review \" a paper on prison .                 -Mr. Vedder\\'s illustrations of the \"Rubfilyfit\" have found a great admirer i'"
      ]
     },
     "execution_count": 59,
     "metadata": {},
     "output_type": "execute_result"
    }
   ],
   "source": [
    "txts[0][:400]"
   ]
  },
  {
   "cell_type": "code",
   "execution_count": 127,
   "metadata": {},
   "outputs": [],
   "source": [
    "def getPublishers(txt):\n",
    "    \"\"\"\n",
    "    Returns a list of potential publishers. Searches using pub_ends, capitalization, and associates.\n",
    "    \n",
    "    For reference:\n",
    "    -------------\n",
    "    pub_ends = ['co','company','inc','incorporated','firm','press','group', 'pub','publishers','publishing',\n",
    "                    'publications','books','ltd','limited','society','house','associates']\n",
    "                    \n",
    "    pub_associates = ['sons','son','brother','brothers']\n",
    "    \n",
    "    \"\"\"\n",
    "    \n",
    "    pubs = []\n",
    "    \n",
    "    # iter only works once before emptying\n",
    "    p_iter = re.finditer(pub_ends_list, txts[0])\n",
    "    p_indices = [(m.end(), m.group()) for m in p_iter]\n",
    "    \n",
    "    for i, index in enumerate(p_indices):\n",
    "        try:\n",
    "            if (i<len(p_indices)+1):\n",
    "                match = re.finditer(\"(?<= [^A-Z&\\.])[\\S]{,10} ?[A-Z][\\w&. ]*?\" + index[1] + '(?!\\w)', \n",
    "                                txts[0][p_indices[i-1][0]:(p_indices[i][0] + 1)])\n",
    "                all_matches = [(m.end(), removeDashForPub(m.group())) for m in match]\n",
    "                if len(all_matches) > 0: \n",
    "                    pubs.extend(cleanPubMatches(all_matches))\n",
    "        except:\n",
    "            pass\n",
    "\n",
    "    pubs = [PublisherName(word) for word in pubs]\n",
    "    \n",
    "    return list(set(pubs))"
   ]
  },
  {
   "cell_type": "code",
   "execution_count": 128,
   "metadata": {},
   "outputs": [
    {
     "data": {
      "text/plain": [
       "''"
      ]
     },
     "execution_count": 128,
     "metadata": {},
     "output_type": "execute_result"
    }
   ],
   "source": [
    "getPublishers(txts[0])[0].review_loc"
   ]
  },
  {
   "cell_type": "markdown",
   "metadata": {},
   "source": [
    "### Step 2: Find names using titles and capitalization"
   ]
  },
  {
   "cell_type": "code",
   "execution_count": 66,
   "metadata": {},
   "outputs": [],
   "source": [
    "titles = \"\"\"Doctor,Dr,Mr,Mrs,Miss,Msgr,Monsignor,Rev,Reverend,Hon,Honorable,Honourable,Prof,Professor,Madame,Madam,Lady,Lord,Sir,Dame,Master,Mistress,Princess,Prince,Duke,Duchess,Baron,Father,Chancellor,Principal,President,Pres,Warden,Dean,Regent,Rector,Provost,Director\n",
    "\"\"\""
   ]
  },
  {
   "cell_type": "code",
   "execution_count": 67,
   "metadata": {},
   "outputs": [],
   "source": [
    "titles = titles.rstrip().split(',')"
   ]
  },
  {
   "cell_type": "code",
   "execution_count": 68,
   "metadata": {},
   "outputs": [],
   "source": [
    "title_list = '.?\\s|'.join(titles)"
   ]
  },
  {
   "cell_type": "code",
   "execution_count": 69,
   "metadata": {},
   "outputs": [],
   "source": [
    "# test text\n",
    "mytext = \"\"\"\n",
    "    Missouri: A Bone of Contention '                 WE  aware that most of the States of the Union had their nicknames, more or less complimentary, but to name Missouri ' a bone of contention ' is a stroke of wit. It does, however, rightly describe the Missouri of the past, and vividly writes in a phrase her political history. Until the triumph of the Union armies and the close of the Civil War, Missouri was in the jaws of the watch-dogs of slavery and freedom. In war or in peace, the subiect of legislative com-                 promise or of military struggle, Missouri was an uncertain factor. Now, after -five years of national peace, her history may be calmly and impartially written. Indeed, the task has been done, and well done, and the , Lucien Carr of Harvard, may be congratulated upon his work,  is strong, unimpassioned, scholarly, and as impressed with the firm touch which comes of local knowledge as are the imprinted rocks in the cabinets at Cambridge. Long familiarity with the wealth of archaeology in the Peabody Museuml seems to have given him the power of comparison and generalization in the evolution of a commonwealth, while  acquaintance with living men enables him to blend the results of the study and the field in pleasing literary form. Five of his seventeen chapters give a luminous picture of the early French and Spanish discoveries and domination. Then follow three chapters treating of the                 Missouri. By Ldclen Carr. $ti... (American Commonwealths.) Boston:                 Itoughto., Sftfltn & Co.                 l , the compromise, and the  into the U nion of this State named after the great river which flows through it. In his treatment of the period from 1844 to i861, as well as that of war time, some readers may charge Mr. Carr with unduly favoring the Southern and even Confederate view; but to people living this side of the now-vanished Mason and Dixon's line, this is doubtless a benefit; for only when Northern people are able to ' put themselves in the place' of Southerners and see with Southern eyes, can they be sure that they have achieved that impartiality which is essential to the writing of final history. He shows that the Missourians were neither secessionists nor slavery propagandists. He both criticises and justifies the action of the second convention which, in the uncertain hours when other States  seceding and Missouri's Governor had been driven into exile, org  a provisional government, and  saved Missouri Irons ' the pit of political degradation into which the States in rebellion were sunk during the period of reconstruction.' Mr. Carr practically and almost abruptly ends his history at the close of the War, believing that the career of Missouri as a bone of contention ended with the abolition of slavery. The fifty years' struggle was over, the State recovered rapidly froni the wounds of the Civil War, wealth increased wonderfully, and the Negro was liberally dealt with in most if not all points relating to citizenship. Taken as a whole, this book, with its sustained interest, high average literary merit, and thorough treatment of the voluminous facts, fully justifies its place in the series of ' histories of such States as have exercised a positive influence in the shaping of the national Government, or have had a striking political - . . history.' Like the others, it has a good map and index.\"\"\"  "
   ]
  },
  {
   "cell_type": "code",
   "execution_count": 70,
   "metadata": {},
   "outputs": [
    {
     "data": {
      "text/plain": [
       "True"
      ]
     },
     "execution_count": 70,
     "metadata": {},
     "output_type": "execute_result"
    }
   ],
   "source": [
    "from symspellpy.symspellpy import SymSpell, Verbosity \n",
    "\n",
    "# maximum edit distance per dictionary precalculation\n",
    "max_edit_distance_dictionary = 2\n",
    "prefix_length = 7\n",
    "# create object\n",
    "first_name_symspell = SymSpell(max_edit_distance_dictionary, prefix_length)\n",
    "# load dictionary\n",
    "dictionary_path = \"name_freq_dict.txt\"\n",
    "term_index = 0 \n",
    "count_index = 1\n",
    "first_name_symspell.load_dictionary(dictionary_path, term_index, count_index, separator=\",\")"
   ]
  },
  {
   "cell_type": "code",
   "execution_count": 71,
   "metadata": {},
   "outputs": [],
   "source": [
    "authors_last_name_list = ','.join(list(authors_by_last_name.keys()))"
   ]
  },
  {
   "cell_type": "code",
   "execution_count": 72,
   "metadata": {},
   "outputs": [],
   "source": [
    "f = open(\"authors_last_name_list.txt\", \"w\")\n",
    "f.write(authors_last_name_list)\n",
    "f.close()"
   ]
  },
  {
   "cell_type": "code",
   "execution_count": 73,
   "metadata": {},
   "outputs": [
    {
     "data": {
      "text/plain": [
       "True"
      ]
     },
     "execution_count": 73,
     "metadata": {},
     "output_type": "execute_result"
    }
   ],
   "source": [
    "# maximum edit distance per dictionary precalculation\n",
    "max_edit_distance_dictionary = 2\n",
    "prefix_length = 7\n",
    "# create object\n",
    "author_surname_symspell = SymSpell()\n",
    "# load dictionary\n",
    "term_index = 0 \n",
    "count_index = 1\n",
    "author_surname_symspell.create_dictionary('authors_last_name_list.txt')"
   ]
  },
  {
   "cell_type": "code",
   "execution_count": 74,
   "metadata": {},
   "outputs": [],
   "source": [
    "def fixInitials(initials):\n",
    "    i_list = initials.split()\n",
    "    i_list = [removePunct(x) for x in i_list]\n",
    "    return ';'.join(i_list)"
   ]
  },
  {
   "cell_type": "code",
   "execution_count": 117,
   "metadata": {},
   "outputs": [],
   "source": [
    "class AuthName(ReviewNameObj):\n",
    "    \"\"\"\n",
    "    Object type for author names. Inherits string functions.\n",
    "    \n",
    "    Parameters\n",
    "    ----------\n",
    "    .full_name : full name originally passed to original init\n",
    "    .name_parts : all name parts\n",
    "    .title : title\n",
    "    .first_name : first name\n",
    "    .first_initial : first initial, can be autogenerated from first name\n",
    "    .middle_name : middle name\n",
    "    .middle_initial : middle initial(s), can be autogenerated from middle name(s)\n",
    "    .initials : first and middle initial(s), can be autogenerated from first/middle name(s)\n",
    "    .last_name : last name\n",
    "    .name_part_count : total number of name parts passed to the original init\n",
    "    \n",
    "    \n",
    "    \"\"\"\n",
    "    name_type = 'author'\n",
    "        \n",
    "    def __assign(self):\n",
    "        self.first_name = ''\n",
    "        self.first_initial = ''\n",
    "        self.middle_name = ''\n",
    "        self.middle_initial = ''\n",
    "        self.initials = ''\n",
    "        \n",
    "        # just title & last name\n",
    "        if self.name_part_count < 3:\n",
    "            pass\n",
    "        \n",
    "        # title, first name/initial, last name\n",
    "        elif self.name_part_count == 3:\n",
    "            if (len(self.name_parts[1])) < 3:\n",
    "                self.first_initial = self.name_parts[1]\n",
    "            else:\n",
    "                self.first_name = self.name_parts[1]\n",
    "        \n",
    "        # title, first name/initial, middle name/initial, last name\n",
    "        elif self.name_part_count == 4:\n",
    "            if (len(self.name_parts[1])) < 3 and (len(self.name_parts[2])) < 3:\n",
    "                self.first_initial = self.name_parts[1]\n",
    "                self.middle_initial = self.name_parts[2]\n",
    "            else:\n",
    "                if (len(self.name_parts[1])) < 3:\n",
    "                    self.first_initial = self.name_parts[1]\n",
    "                    self.middle_name = self.name_parts[2]\n",
    "                elif (len(self.name_parts[2])) < 3:\n",
    "                    self.first_name = self.name_parts[1]\n",
    "                    self.middle_initial = self.name_parts[2]\n",
    "                else:\n",
    "                    self.first_name = self.name_parts[1]\n",
    "                    self.middle_name = self.name_parts[2]\n",
    "                \n",
    "        elif self.name_part_count > 4:\n",
    "            \n",
    "            # all initials\n",
    "            if all([len(x)<3 for x in self.name_parts[1:-1]]):\n",
    "                initial_list = []\n",
    "                for x in self.name_parts[1:-1]:\n",
    "                    initial_list.append(x)\n",
    "                self.initials = ' '.join(initial_list)\n",
    "                \n",
    "            # all names\n",
    "            elif all([len(x)>2 for x in self.name_parts[1:-1]]):\n",
    "                self.first_name = self.name_parts[1]\n",
    "                middle_name_list = []\n",
    "                for x in self.name_parts[1:-1]:\n",
    "                    middle_name_list.append(x)\n",
    "                self.middle_name = ' '.join(middle_name_list)\n",
    "                \n",
    "            # first initial, middle names\n",
    "            elif (len(self.name_parts[1])<3 and all([len(x)>2 for x in self.name_parts[2:-1]])): \n",
    "                self.first_initial = self.name_parts[1]\n",
    "                middle_name_list = []\n",
    "                for x in self.name_parts[2:-1]:\n",
    "                    middle_name_list.append(x)\n",
    "                self.middle_name = ' '.join(middle_name_list)\n",
    "                \n",
    "            # first name, middle initials\n",
    "            elif (len(self.name_parts[1])>2 and all([len(x)<3 for x in self.name_parts[2:-1]])): \n",
    "                self.first_name = self.name_parts[1]\n",
    "                middle_initial_list = []\n",
    "                for x in self.name_parts[2:-1]:\n",
    "                    middle_initial_list.append(x)\n",
    "                self.middle_initial = ' '.join(middle_initial_list)\n",
    "                \n",
    "    def __generate(self):\n",
    "        if self.first_name:\n",
    "            self.first_initial = self.first_name[0]\n",
    "            if self.middle_name:\n",
    "                self.initials = ' '.join([x[0] for x in self.name_parts[1:-1]])\n",
    "                self.middle_initial = ' '.join([x[0] for x in self.middle_name.split()])\n",
    "            if self.middle_initial:\n",
    "                self.initials = ' '.join([x[0] for x in self.name_parts[1:-1]])\n",
    "        elif self.first_initial and self.middle_initial:\n",
    "            self.initials = ' '.join([x[0] for x in self.name_parts[1:-1]])   \n",
    "        else:\n",
    "            if self.middle_name:\n",
    "                self.middle_initial = ' '.join([x[0] for x in self.middle_name.split()])          \n",
    "                \n",
    "    def __reformat(self):\n",
    "        if self.initials:\n",
    "            self.initials = fixInitials(self.initials)\n",
    "        if self.middle_initial:\n",
    "            self.middle_initial = fixInitials(self.middle_initial)\n",
    "        if self.first_initial:\n",
    "            self.first_initial = fixInitials(self.first_initial)\n",
    "            \n",
    "    def __init__(self, name):\n",
    "        self.full_name = name\n",
    "        self.name_parts = [x.lower() for x in self.full_name.split()]\n",
    "        self.title = self.name_parts[0]\n",
    "        self.last_name = self.name_parts[-1]\n",
    "        self.name_part_count = len(self.name_parts)\n",
    "        \n",
    "        self.__assign()\n",
    "        self.__generate()\n",
    "        self.__reformat()\n",
    "        \n",
    "    #def combine(authname, authname):\n",
    "        #pass\n",
    "        \n",
    "    def __repr__(self):\n",
    "        #add in APS id\n",
    "        return self.full_name\n",
    "        \n",
    "        #another useful thing to add: title gender\n",
    "                    \n",
    "    #__assign = assign\n",
    "    #__generate = generate\n",
    "    #__reformat = reformat"
   ]
  },
  {
   "cell_type": "code",
   "execution_count": 103,
   "metadata": {},
   "outputs": [],
   "source": [
    "def cleanTextForNameSearch(txt):\n",
    "    \"\"\"\n",
    "    Removes all non-newline whitespace and adds spaces around commas, semicolons, and colons.\n",
    "    \"\"\"\n",
    "    #delete extra whitespace\n",
    "    txt = re.sub(' +',' ',txt)\n",
    "    \n",
    "    #delete characters that should never be in this dataset (i think)\n",
    "    txt = re.sub(\"\\\\'\\(\\)\\*/<=>@\\[\\]^_`\\|~\",\"\",txt)\n",
    "    \n",
    "    #adding space around certain punctuation\n",
    "    txt = re.sub(',',' , ',txt)\n",
    "    txt = re.sub(';',' ; ',txt)\n",
    "    txt = re.sub(':',' : ',txt)\n",
    "    txt = re.sub('\"',' \" ',txt)\n",
    "    txt = re.sub(\"'\",\" ' \" ,txt)\n",
    "    return txt"
   ]
  },
  {
   "cell_type": "markdown",
   "metadata": {},
   "source": [
    "notes:\n",
    "+ reduce names down to 1880-1900\n",
    "+ rule for 's"
   ]
  },
  {
   "cell_type": "code",
   "execution_count": 104,
   "metadata": {},
   "outputs": [],
   "source": [
    "def removePeriodsNotFollowingTitleOrInitial(name):\n",
    "    name_parts = name.split()\n",
    "    cleaned_name = []\n",
    "    for part in name_parts:\n",
    "        if (len(part)>2) and (part.endswith('.')) and (part[:-1] not in titles):\n",
    "            cleaned_name.append(part[:-1])\n",
    "        else:\n",
    "            cleaned_name.append(part)\n",
    "    return ' '.join(cleaned_name)"
   ]
  },
  {
   "cell_type": "code",
   "execution_count": 105,
   "metadata": {},
   "outputs": [],
   "source": [
    "def cleanName(name):\n",
    "    return ' '.join([word for word in name.split() if (word[0].isalpha())])"
   ]
  },
  {
   "cell_type": "code",
   "execution_count": 106,
   "metadata": {},
   "outputs": [],
   "source": [
    "def getNamesFollowingTitles(txt):\n",
    "    \"\"\"\n",
    "    Returns names following titles - specifically capitalized titles followed by capitalized names.\n",
    "    Names can be any number of words in length, and can include punctuation.\n",
    "    \n",
    "    object factory\n",
    "    potentially add index from original text in dict\n",
    "    \n",
    "    \"\"\"\n",
    "    names = []\n",
    "    \n",
    "    # iter only works once before emptying\n",
    "    iterx = re.finditer(title_list, txt)\n",
    "    indices = [(m.start(), m.group()) for m in iterx]\n",
    "    indices = [cleanIndices(m) for m in indices]\n",
    "    \n",
    "    for i, index in enumerate(indices):\n",
    "        if (i<len(indices)-1):\n",
    "            try:\n",
    "                match = re.match(indices[i][1] + '\\w{2,}[.,;:!\\?\\'\\\"]', txt[indices[i][0]:indices[i+1][0]])\n",
    "                names.append(match.group()[:-1])\n",
    "            except:\n",
    "                try:\n",
    "                    match = re.match(indices[i][1] + '.*? [a-z]|\\Z', \n",
    "                                     txt[indices[i][0]:indices[i+1][0]])\n",
    "                    names.append(match.group()[:-2])\n",
    "                except:\n",
    "                    pass\n",
    "        else:\n",
    "            try:\n",
    "                match = re.match(indices[i][1] + '\\w{2,}[.,;:!\\?\\'\\\"]', txt[indices[i][0]:])\n",
    "                names.append(match.group()[:-1])\n",
    "            except:\n",
    "                try:\n",
    "                    match = re.match(indices[i][1] + '.*? [a-z]|\\Z', \n",
    "                                     txt[indices[i][0]:])\n",
    "                    names.append(match.group()[:-2])\n",
    "                except:\n",
    "                    pass\n",
    "    \n",
    "    names = [word.replace(\"'s\", \"\") for word in names]\n",
    "    names = [removePeriodsNotFollowingTitleOrInitial(word) for word in names]\n",
    "    names = [AuthName(cleanName(word)) for word in names]\n",
    "    \n",
    "    return list(set(names))"
   ]
  },
  {
   "cell_type": "code",
   "execution_count": 107,
   "metadata": {},
   "outputs": [],
   "source": [
    "def getCapitalizedWords(txt):\n",
    "    \"\"\"\n",
    "    Returns strings of capitalized words up 3 words long. \n",
    "    Removes words/phrases containing stopwords and words found later in the text lowercased.\n",
    "    \"\"\"\n",
    "    #listen idk why it won't just let me put in an optional repeat either\n",
    "    all_words = []\n",
    "    \n",
    "    #three words\n",
    "    all_words.extend([match for match in re.findall('[A-Z]\\S* [A-Z]\\S* [A-Z]\\S+', txt) if \n",
    "                      all([(removePunct(word).lower() not in stopword_list) for word in match.split()]) \n",
    "                      and all([(removePunct(word).lower() not in txt) for word in match.split()])])\n",
    "    \n",
    "    #two words\n",
    "    two_words = [match for match in re.findall('[A-Z]\\S* [A-Z]\\S+', txt) if \n",
    "                      all([(removePunct(word).lower() not in stopword_list) for word in match.split()]) \n",
    "                      and all([(removePunct(word).lower() not in txt) for word in match.split()])\n",
    "                      and all([match not in x for x in all_words])]\n",
    "    \n",
    "    all_words.extend(two_words)\n",
    "    \n",
    "    #one word\n",
    "    one_words = [match for match in re.findall('[A-Z]\\S+', txt) if \n",
    "                      (removePunct(match).lower() not in stopword_list) \n",
    "                      and (removePunct(match).lower() not in txt)\n",
    "                      and all([match not in x for x in all_words])]\n",
    "    \n",
    "    all_words.extend(one_words)\n",
    "    \n",
    "    return [word for word in [' '.join([removePunct(y) for y in x.split() if removePunct(y) not in titles]) \n",
    "                      for x in all_words] if (len(word)>1)]"
   ]
  },
  {
   "cell_type": "code",
   "execution_count": 108,
   "metadata": {},
   "outputs": [],
   "source": [
    "def consolidateNames(name_list):\n",
    "    \"\"\"\n",
    "    Takes list of AuthNames and returns list of lists, consolidating by likely identical authors.\n",
    "    \"\"\"\n",
    "    name_set = []\n",
    "    used_indices = []\n",
    "    last_names = sorted([name.last_name for name in name_list], key=len)\n",
    "    \n",
    "    for i, name in enumerate(last_names):\n",
    "        if i not in used_indices:\n",
    "            full_name = [x for x in name_list if x.last_name == name][0]\n",
    "            name_holder = [full_name]\n",
    "            for j, name2 in enumerate(last_names):\n",
    "                full_name2 = [x for x in name_list if x.last_name == name2][0]\n",
    "                if (i < (len(last_names) - 1)) and (i!=j):\n",
    "                    if (edit_distance(name, name2[:len(name)+1]) < 2) and (j not in used_indices):\n",
    "                        if (full_name.first_initial==full_name2.first_initial and full_name.middle_initial==full_name2.middle_initial or full_name.title==full_name2.title) or (full_name.first_initial==full_name2.first_initial or full_name.middle_initial==full_name2.middle_initial and full_name.title==full_name2.title):\n",
    "                            name_holder.append(full_name2)\n",
    "                            used_indices.append(j)\n",
    "            used_indices.append(i)\n",
    "            name_set.append(name_holder)\n",
    "    \n",
    "    return name_set                  "
   ]
  },
  {
   "cell_type": "code",
   "execution_count": 109,
   "metadata": {},
   "outputs": [],
   "source": [
    "def getSetOfNames(txt):\n",
    "    \"\"\"\n",
    "    Returns sets of names matched by similarity.\n",
    "    \"\"\"\n",
    "    all_name_sets = []\n",
    "    \n",
    "    known_names = getNamesFollowingTitles(txt)\n",
    "    known_names = consolidateNames(known_names)\n",
    "    potential_names = getCapitalizedWords(txt)\n",
    "    \n",
    "    for known in known_names:\n",
    "        name_parts = known[0].name_parts\n",
    "        name_set = []\n",
    "        name_set.extend(known)\n",
    "   \n",
    "        try:\n",
    "            author_surname_symspell._words[name_parts[-1].lower()]\n",
    "            for n in potential_names:\n",
    "                lookup = author_surname_symspell.lookup(n.lower(), Verbosity.CLOSEST)\n",
    "                if (lookup):\n",
    "                    for i, x in enumerate(lookup):\n",
    "                        if (lookup[i]._term in name_parts):\n",
    "                            name_set.append(n)\n",
    "        \n",
    "        except:\n",
    "            for n in potential_names:\n",
    "                for p in name_parts:\n",
    "                    if (len(n)>4) and (len(p)>4):\n",
    "                        if (edit_distance(n,p)<3):\n",
    "                            name_set.append(n)\n",
    "        \n",
    "        all_name_sets.append(name_set)\n",
    "        \n",
    "    return all_name_sets"
   ]
  },
  {
   "cell_type": "code",
   "execution_count": 110,
   "metadata": {},
   "outputs": [],
   "source": [
    "txts_cleaned = [cleanTextForNameSearch(x) for x in txts]"
   ]
  },
  {
   "cell_type": "code",
   "execution_count": 115,
   "metadata": {},
   "outputs": [
    {
     "data": {
      "text/plain": [
       "[[Dr. Herbert B. Adam, Dr. i. B. Adams, 'Herbert', 'Adam'], [President Andrew D. White, 'White'], [Dr. Geor6 Ebers, 'Ebers'], [Mr. Vedder, 'Vedder'], [Professor Thorold Rogers], [Mr. Charles Dudley Warner], [Dr. Parker, Dr. Joseph Parktercontinueshiseipositionuin, 'Parker'], [Dr. William M. Taylor, 'Taylor'], [Professor E. Johnsou, 'Johnsou'], [Mr. Cushing, 'Cushing'], [Mrs. Browning, 'Browning'], [Mr. Julius Chambers], [Mr. Brander Matthews], [Mr. Julian Hawthorne], [Mr. Swinburne, 'Swinburne']]"
      ]
     },
     "execution_count": 115,
     "metadata": {},
     "output_type": "execute_result"
    }
   ],
   "source": [
    "getSetOfNames(txts_cleaned[0])"
   ]
  },
  {
   "cell_type": "markdown",
   "metadata": {},
   "source": [
    "if first part of shorter name is entirely contained in longer name\n",
    "fuzzy match to edit distance of two \n",
    "look at part of string length of shorter name - if those fuzzy match\n",
    "cut it off and group, check to see if second part is dictionary name"
   ]
  },
  {
   "cell_type": "markdown",
   "metadata": {},
   "source": [
    "match known publishers\n",
    "remove publishers\n",
    "regex with name & name & name"
   ]
  },
  {
   "cell_type": "code",
   "execution_count": 100,
   "metadata": {
    "scrolled": true
   },
   "outputs": [
    {
     "name": "stdout",
     "output_type": "stream",
     "text": [
      "Text #0\n",
      "[Dr. Herbert B. Adam, Dr. i. B. Adams, 'Herbert', 'Adam']\n",
      "[President Andrew D. White, 'White']\n",
      "[Dr. Geor6 Ebers, 'Ebers']\n",
      "[Mr. Vedder, 'Vedder']\n",
      "[Professor Thorold Rogers]\n",
      "[Mr. Charles Dudley Warner]\n",
      "[Dr. Parker, Dr. Joseph Parktercontinueshiseipositionuin, 'Parker']\n",
      "[Dr. William M. Taylor, 'Taylor']\n",
      "[Professor E. Johnsou, 'Johnsou']\n",
      "[Mr. Cushing, 'Cushing']\n",
      "[Mrs. Browning, 'Browning']\n",
      "[Mr. Julius Chambers]\n",
      "[Mr. Brander Matthews]\n",
      "[Mr. Julian Hawthorne]\n",
      "[Mr. Swinburne, 'Swinburne']\n",
      "\n",
      "Text #1\n",
      "[Mr. E. L. Voynich, 'Voynich', 'VWynich', 'Voyniich']\n",
      "\n",
      "Text #2\n",
      "[Miss s, Miss HowAiD Is, 'Shp', 'S8', 'G0']\n",
      "[Mrs.]\n",
      "[Miss Peard, 'Peard', 'Peard']\n",
      "[Mrs. A. L. Wister, 'Wister']\n",
      "[Lord Mttdhursm- Coming]\n",
      "[Princess Mercedes, 'Mercedes']\n",
      "[Sir Henry Lancaster, 'Shp', 'Lancaster', 'Lancaster', 'Lancaster', 'Lira']\n",
      "\n",
      "Text #3\n",
      "[Dr. Atwood, 'Atwood']\n",
      "\n",
      "Text #4\n",
      "\n",
      "Text #5\n",
      "[Lord]\n",
      "\n",
      "Text #6\n",
      "[President of]\n",
      "[Mr. Cook, 'Cook', 'Cook']\n",
      "[Mr. Alden, 'Alden']\n",
      "[Lord Clive, 'Clive']\n",
      "[Mr. Crane, 'Crane', 'CRANE']\n",
      "[Mr. Bixby, 'Bixby']\n",
      "[Mr. Thomas A. Edison, 'Thomas', 'Edison']\n",
      "[Dr. Variot, 'Variot']\n",
      "[Prof. Tillman, 'Gillman', 'Tillman']\n",
      "[Mr. Arthur Gillman, Mr. Arthur Gillman, 'Gillman', 'TILLnAN', 'Tillman']\n",
      "[Mr. Haggard, 'HAGGARD', 'Haggard']\n",
      "[Mr. Tompkins, 'Tompkins']\n",
      "[Dr. Brown-Sequard, 'Brown-Sequard', 'Brown-Sequard']\n",
      "\n",
      "Text #7\n",
      "[Mr. Maxfield Parrish A, Mr. Parrish, Mr. Swinburne Massinger, 'Parrish', 'XV']\n",
      "[Mr. Havelock Ellis Hey-]\n",
      "[Mr. Arthur Symons Ford, 'Ford']\n",
      "[Mr. George Saintsbury The Dryden, 'Dryden', 'Dryden']\n",
      "[Mr. A. Wilson Verity]\n",
      "[Mr. Kenneth Grahame]\n",
      "\n",
      "Text #8\n",
      "\n",
      "Text #9\n",
      "[Mr. was]\n",
      "[Mr. Adams, 'Adams']\n",
      "[Mr. Cabot Lodge, Mr. Cabot Lodge, 'Lodge']\n",
      "[Mr. Morse, 'Morse']\n",
      "[Mr. Stevens, Mr. Htevens, 'Htevens', 'Stevens']\n",
      "[Mr. Oallatir, 'Oallatir', 'Gallatin']\n",
      "[Mr. Gallatin, Mr. Gailatin, 'Oallatir', 'Gallatin', 'Gailatin']\n",
      "[Mr. Qallathi, 'Qallathi']\n",
      "[Mr. Jefferson, 'Jefferson', 'Jeffersoim']\n",
      "[Mr. Clallatiiis, 'Clallatiiis']\n",
      "\n",
      "Text #10\n",
      "[Mr Heyny, 'Heyny']\n",
      "\n",
      "Text #11\n",
      "[Professor of Structural Engineering University, 'University', 'University']\n",
      "\n",
      "Text #12\n",
      "[Mr. Rees]\n",
      "[Mr. Dawe, 'Dawe', 'Dawe', 'Dawe']\n",
      "[Hong Kong]\n",
      "[Mr. Ralph, 'Ralph']\n",
      "[Miss Serjeant]\n",
      "\n",
      "Text #13\n",
      "[Mr. Ke-]\n",
      "[Mr. Ilowolls, 'Ilowolls']\n",
      "\n",
      "Text #14\n",
      "[Dr Reeve]\n",
      "[Mrs Francis Reeves, Mrs Francis Reeves]\n",
      "\n",
      "Text #15\n",
      "[Mr. James, 'James']\n",
      "[Mrs. Wharton, 'Wharton']\n",
      "[Mrs. Goodwin, 'Goodwin']\n",
      "[Sir Christopher, 'Christopher', 'Christopher']\n",
      "\n",
      "Text #16\n",
      "[Dr. Paul Sollier Paris Rabies, 'Sollier', 'Paris', 'Rabies', 'Paris']\n",
      "\n",
      "Text #17\n",
      "[Master and]\n",
      "[Master and Men The]\n",
      "[Mr. Van Dyke, Mr. Van Dyke]\n",
      "[Mr. Chase, 'Chase']\n",
      "[Mr. Mabie, Mr. Mabie]\n",
      "[Mr. Hadow, Mr. Hadow, 'Hadow', 'Hadow']\n",
      "[Miss Mary Thorn Carpenter, Miss Mary Thorn Carpenter, 'Carpenter', 'Carpenter', 'Carpenter']\n",
      "\n",
      "Text #18\n",
      "[President Lowell, 'Lowell']\n",
      "[Mr. Kipling, 'Kipling']\n",
      "[Mrs. Wharton, 'Wharton']\n",
      "[Mr. Vachel Lindsay]\n",
      "[Mrs. Schuyler Van Rensselaer, 'Schuyler', 'Rensselaer']\n",
      "\n",
      "Text #19\n",
      "\n",
      "Text #20\n",
      "[Professor Brastow, 'Brastow']\n",
      "\n",
      "Text #21\n",
      "[Mr. William Butler Yeats]\n",
      "[Mr. Nich-, 'Nich-']\n",
      "[Mr. Lindsay, 'Lindsay', 'Lindsay']\n",
      "[Mr. Billious, Mr. Billious, 'Billious', 'Billious']\n",
      "[Director]\n",
      "\n",
      "Text #22\n",
      "\n",
      "Text #23\n",
      "[Prof. A.]\n",
      "[Mr. Richard Hovey, Mr. Richard Hovey, 'Hovey']\n",
      "[Prof. E. D. Perry, 'Perry']\n",
      "[Prince Henry, 'Henry']\n",
      "[Professor Butler, Professor Butler, 'Butler']\n",
      "[Prince]\n",
      "[Dr. William Pepper, 'William', 'Pepper']\n",
      "[Mr. Beazley, 'Beazly', 'Beazley']\n",
      "[Miss Edgeworth Scribe N. P. Willis Dickens, 'Edgeworth', 'Willis', 'Dickens']\n",
      "[Prof. Friedrich Paulsen, 'Patulsen']\n",
      "[Dr. C. E. Stevens, 'Stevens']\n",
      "[Dr. F. S. Billings, 'Billings']\n",
      "[Professor Patulsen, 'Patulsen']\n",
      "\n",
      "Text #24\n",
      "[Master House Painters]\n",
      "\n",
      "Text #25\n",
      "[Miss Cultis, Miss Curtis, 'Curtis', 'Curtis', 'Cultis', 'Curtis', 'Curtis']\n",
      "[Mr. Fordher, 'Fordher']\n",
      "[Mr. Kimhleni, 'Kimhleni']\n",
      "[Mr. Kiiiiein, 'Kiiiiein']\n",
      "\n",
      "Text #26\n",
      "[Dr. Willi Ule]\n",
      "\n",
      "Text #27\n",
      "[Professor Josiah Royce]\n",
      "\n",
      "Text #28\n",
      "[Professor Hiram Cor-]\n",
      "[Professor Corson, 'Corson']\n",
      "\n",
      "Text #29\n",
      "[President Cleveland]\n",
      "\n",
      "Text #30\n",
      "[Mr. Lewis, Mr. Lewis, 'Lewis']\n",
      "[Professor Lane Cooper, Professor Lane Cooper, 'Glance']\n",
      "[Professor Bergson, 'Bergson']\n",
      "[Mr. Edward Carpenter]\n",
      "\n",
      "Text #31\n",
      "[Professor Peck, Professor Peck]\n",
      "[Mr. Gar-]\n",
      "[Professor Bury]\n",
      "[Mrs. Brown, 'Brown']\n",
      "[Dr. South]\n",
      "[Mrs. Stowe, 'Stowe']\n",
      "[Dr. Charles F. Johnson, Dr. Charles F. Johnson, 'Charles', 'Johnson', 'Johnson', 'Johnson', 'Charles']\n",
      "[Mr. Winthrop Packard]\n",
      "[Professor of History]\n",
      "[Rev. P. H. Ditchfield, 'Ditchfield']\n",
      "\n",
      "Text #32\n",
      "[Mr. Arnold]\n",
      "\n",
      "Text #33\n",
      "[Mr. G. W. E. Russell) He]\n",
      "[Professor Moses Colt Tyler]\n",
      "[Lord Houghton, 'Houghton']\n",
      "[Mr. Gladstone, 'Gladstone']\n",
      "[Lord Beaconsfield, 'Beaconsfield', 'Beaconsfield']\n",
      "\n",
      "Text #34\n",
      "[Sir William Roberts, 'Roberts']\n",
      "[Dr Heitzmann]\n",
      "[Professor of Therapeutics, 'Therapeutics']\n",
      "\n",
      "Text #35\n",
      "\n",
      "Text #36\n",
      "[Mr. Mill]\n",
      "[Dr. Campbell, 'Campbell']\n",
      "\n",
      "Text #37\n",
      "[Master In]\n",
      "[Lord]\n",
      "[Mr. Gardner, Mr. Gardner, Mr. Gardner, 'Gardner']\n",
      "\n",
      "Text #38\n",
      "[Mr. Herbert Page, 'Herbert']\n",
      "[Dr. Bramwell, 'Bramwell']\n",
      "\n",
      "Text #39\n",
      "[Mr. Yeats, 'Yeats', 'Yeats', 'Yeats']\n",
      "\n",
      "Text #40\n",
      "[Prof. Fisher, Prof. Fisher, 'Fisher', 'Fisher']\n",
      "\n",
      "Text #41\n",
      "[Dr. Farrar I, Dr. Short Bishop, 'Farrar']\n",
      "[Mr. Matthew Arnold Yet]\n",
      "[Mr.]\n",
      "[Dean]\n",
      "[Dr. Farrar, Dr. Farrar, 'Farrar']\n",
      "[Dean Stanley, 'Stanley']\n",
      "[Dean of Canterbury, 'Canterbury']\n",
      "[Lord Beaconsfield, 'Beaconsfield']\n",
      "\n",
      "Text #42\n",
      "[Press New York The, 'Tne', 'York', 'York', 'Thus', 'York', 'Thou', 'York']\n",
      "[Lord my God]\n",
      "[Sir Alfred Lyall, 'Sr']\n",
      "[Dr. W. Koppen Second, 'Koppen']\n",
      "[Dr. Lemoine, 'Lemoine', 'Lemoine', 'Lemoine', 'Lemoine', 'Lemoine']\n",
      "[Dr. Waither, 'Waither']\n",
      "[Mr. Garnett, 'Garnett']\n",
      "\n",
      "Text #43\n",
      "[Mr. Jewell, 'Jewell']\n",
      "[Mrs. Brathers, 'Brathers']\n",
      "\n",
      "Text #44\n",
      "\n",
      "Text #45\n",
      "[Miss Georgiana Hill, 'Hill']\n",
      "[Father]\n",
      "[Duchess of Newcastle, 'Newcastle']\n",
      "\n",
      "Text #46\n",
      "[Miss Barton You]\n",
      "[Miss Bar-]\n",
      "[President Hayes, 'Hayes']\n",
      "[Duchess of Baden Red Cross, 'Re8', 'Baden', 'Baden']\n",
      "[President Colfax, 'Colfax']\n",
      "[Miss Barton, Miss Barton-our, 'BARTON']\n",
      "[President Arthur, 'Arthur']\n",
      "[Mrs. Stanton, 'Stanton']\n",
      "[President Moynier, 'Moynier', 'Moynier']\n",
      "[Dr. HIenry Bellows]\n",
      "[Prince of Armenia, 'France', 'Armenia']\n",
      "[Miss Anthony, 'Anthony', 'Anthony', 'Anthony']\n",
      "[President Lincoln, 'Lincoln']\n",
      "[President Buchanan, 'Buchanan']\n",
      "[President Garfield, 'Garfield']\n",
      "[President]\n",
      "\n",
      "Text #47\n",
      "[Mr. Symonds, 'Symonds']\n",
      "[Mr. Timayenis]\n",
      "\n",
      "Text #48\n",
      "[Mr. Tennnnttheeditor, 'Tennnnttheeditor']\n",
      "\n",
      "Text #49\n",
      "[Mr. PErCys B DINwB-TABLE By Harold Murdock Bos]\n",
      "[Mr. Pope, 'Pope']\n",
      "[Reverend Mather Byles, Reverend Mather Byles, Reverend Mather Byles, 'Byles']\n",
      "[Dr. Cauer, 'Cauer']\n",
      "[Lord Percy]\n",
      "[Mr. Stuart, 'Stuart']\n",
      "[Mr Austin Dobson, 'Austin', 'Dobson']\n",
      "[Lord Holland, Lord Hollanid, 'Holland', 'Hollanid']\n",
      "[Lady Sarah Bunbury]\n",
      "[Mr. Vassall, 'Vassall']\n",
      "[Mr. Murdock]\n",
      "[Press special]\n",
      "[Dr. Goldsmith, 'Goldsmith', 'Goldsmith']\n",
      "[Prince of Brurnswick, 'Brurnswick']\n",
      "\n"
     ]
    }
   ],
   "source": [
    "for num, txt in enumerate(txts_cleaned):\n",
    "    try:\n",
    "        print('Text #' + str(num))\n",
    "        for x in getSetOfNames(txt):\n",
    "            print(x)\n",
    "        print()\n",
    "    except:\n",
    "        print('Error')\n",
    "        print()"
   ]
  },
  {
   "cell_type": "code",
   "execution_count": null,
   "metadata": {},
   "outputs": [],
   "source": []
  }
 ],
 "metadata": {
  "kernelspec": {
   "display_name": "Python 3",
   "language": "python",
   "name": "python3"
  },
  "language_info": {
   "codemirror_mode": {
    "name": "ipython",
    "version": 3
   },
   "file_extension": ".py",
   "mimetype": "text/x-python",
   "name": "python",
   "nbconvert_exporter": "python",
   "pygments_lexer": "ipython3",
   "version": "3.7.4"
  }
 },
 "nbformat": 4,
 "nbformat_minor": 2
}
