{
 "cells": [
  {
   "cell_type": "code",
   "execution_count": 1,
   "metadata": {},
   "outputs": [],
   "source": [
    "#import necessary packages\n",
    "import os\n",
    "import pandas as pd\n",
    "import re\n",
    "from collections import Counter"
   ]
  },
  {
   "cell_type": "code",
   "execution_count": 2,
   "metadata": {},
   "outputs": [],
   "source": [
    "# loading in files\n",
    "directory = \"../../aps_reviews_50/aps_reviews/\"\n",
    "filenames = os.listdir(directory)\n",
    "txts = []\n",
    "for file in filenames:\n",
    "    with open(directory + file) as f:\n",
    "        txts.append(f.read())"
   ]
  },
  {
   "cell_type": "code",
   "execution_count": 3,
   "metadata": {},
   "outputs": [],
   "source": [
    "def title_cleanup(string):\n",
    "    lowered = string.lower().split('|')[0]\n",
    "    new = \"\".join([u for u in lowered if u.isalpha() or u == ' '])\n",
    "    return \" \".join(new.split()[0:6])"
   ]
  },
  {
   "cell_type": "code",
   "execution_count": 4,
   "metadata": {},
   "outputs": [],
   "source": [
    "def author_cleanup(string):\n",
    "    lowered = string.lower().split('|')[0]\n",
    "    no_parens = re.sub(\"\\(.+?\\)\", \"\", lowered)\n",
    "    no_parens = no_parens.rstrip(',')\n",
    "    no_parens = no_parens.rstrip(' ')\n",
    "    no_parens = no_parens.replace('.', '')\n",
    "    no_parens = no_parens.replace('[', '')\n",
    "    no_parens = no_parens.replace(']', '')\n",
    "    #split on comma, make first last\n",
    "    split = no_parens.split(',')\n",
    "    if type(split) == list:\n",
    "        head = split[0:1]\n",
    "        tail = split[1:]\n",
    "\n",
    "        final = \" \".join(tail+head)\n",
    "    else:\n",
    "        final = split\n",
    "    return final "
   ]
  },
  {
   "cell_type": "code",
   "execution_count": 5,
   "metadata": {},
   "outputs": [],
   "source": [
    "def author_cleanup_last(string):\n",
    "    lowered = string.lower().split('|')[0]\n",
    "    no_parens = re.sub(\"\\(.+?\\)\", \"\", lowered)\n",
    "    no_parens = no_parens.rstrip(',')\n",
    "    no_parens = no_parens.rstrip(' ')\n",
    "    no_parens = no_parens.replace('.', '')\n",
    "    no_parens = no_parens.replace('[', '')\n",
    "    no_parens = no_parens.replace(']', '')\n",
    "    #split on comma, make first last\n",
    "    split = no_parens.split(',')\n",
    "    if type(split) == list:\n",
    "        \n",
    "        return split[0]\n",
    "    else:\n",
    "        return split"
   ]
  },
  {
   "cell_type": "code",
   "execution_count": 6,
   "metadata": {},
   "outputs": [],
   "source": [
    "def author_cleanup_first(string):\n",
    "    lowered = string.lower().split('|')[0]\n",
    "    no_parens = re.sub(\"\\(.+?\\)\", \"\", lowered)\n",
    "    no_parens = no_parens.rstrip(',')\n",
    "    no_parens = no_parens.rstrip(' ')\n",
    "    no_parens = no_parens.replace('.', '')\n",
    "    no_parens = no_parens.replace('[', '')\n",
    "    no_parens = no_parens.replace(']', '')\n",
    "    #split on comma, make first last\n",
    "    split = no_parens.split(',')\n",
    "    if type(split) == list:\n",
    "        first = split[-1].split()\n",
    "        try:\n",
    "            return first[0]\n",
    "        except:\n",
    "            return split[-1]\n",
    "    else:\n",
    "        return split"
   ]
  },
  {
   "cell_type": "code",
   "execution_count": 7,
   "metadata": {},
   "outputs": [
    {
     "name": "stderr",
     "output_type": "stream",
     "text": [
      "/Users/eva/opt/anaconda3/lib/python3.7/site-packages/pandas/core/frame.py:4223: SettingWithCopyWarning: \n",
      "A value is trying to be set on a copy of a slice from a DataFrame\n",
      "\n",
      "See the caveats in the documentation: http://pandas.pydata.org/pandas-docs/stable/user_guide/indexing.html#returning-a-view-versus-a-copy\n",
      "  return super().rename(**kwargs)\n"
     ]
    }
   ],
   "source": [
    "#get author and title list\n",
    "df_pre = pd.read_csv('fiction_metadata.csv', dtype={'oclc':'str','recordid':'str', 'datetype': 'str', 'startdate':'str' }).fillna('')\n",
    "df_pre = df_pre.loc[df_pre['date'].isin([str(u) for u in range(1878, 1926)])].reset_index(drop=True)\n",
    "\n",
    "df_post = pd.read_csv('fiction_metadata_post_1923.csv', dtype={'metadatasuspicious':'str'}).fillna('')\n",
    "df_post = df_post.loc[df_post['inferreddate'].isin([str(u) for u in range(1923, 1928)])].reset_index(drop=True)\n",
    "\n",
    "df_all = df_pre[['author', 'title', 'date']]\n",
    "df_post_new = df_post[['author', 'title', 'inferreddate']]\n",
    "df_post_new.rename(columns={'inferreddate':'date'}, inplace=True)\n",
    "df_all = df_all.append(df_post_new)"
   ]
  },
  {
   "cell_type": "code",
   "execution_count": 8,
   "metadata": {},
   "outputs": [],
   "source": [
    "#first five/six words, lowercase, remove special characters and punctuation\n",
    "df_all['title'] = df_all['title'].apply(title_cleanup)\n",
    "df_all['author_last'] = df_all['author'].apply(author_cleanup_last)\n",
    "df_all['author_first'] = df_all['author'].apply(author_cleanup_first)\n",
    "df_all['author_full'] = df_all['author'].apply(author_cleanup)"
   ]
  },
  {
   "cell_type": "code",
   "execution_count": 9,
   "metadata": {},
   "outputs": [],
   "source": [
    "#dedupe on author, title\n",
    "df_all = df_all.drop_duplicates(['author_full', 'title']).reset_index(drop=True)"
   ]
  },
  {
   "cell_type": "code",
   "execution_count": 10,
   "metadata": {},
   "outputs": [
    {
     "data": {
      "text/html": [
       "<div>\n",
       "<style scoped>\n",
       "    .dataframe tbody tr th:only-of-type {\n",
       "        vertical-align: middle;\n",
       "    }\n",
       "\n",
       "    .dataframe tbody tr th {\n",
       "        vertical-align: top;\n",
       "    }\n",
       "\n",
       "    .dataframe thead th {\n",
       "        text-align: right;\n",
       "    }\n",
       "</style>\n",
       "<table border=\"1\" class=\"dataframe\">\n",
       "  <thead>\n",
       "    <tr style=\"text-align: right;\">\n",
       "      <th></th>\n",
       "      <th>author</th>\n",
       "      <th>title</th>\n",
       "      <th>date</th>\n",
       "      <th>author_last</th>\n",
       "      <th>author_first</th>\n",
       "      <th>author_full</th>\n",
       "    </tr>\n",
       "  </thead>\n",
       "  <tbody>\n",
       "    <tr>\n",
       "      <td>0</td>\n",
       "      <td>McCarthy, Justin,</td>\n",
       "      <td>miss misanthrope</td>\n",
       "      <td>1878</td>\n",
       "      <td>mccarthy</td>\n",
       "      <td>justin</td>\n",
       "      <td>justin mccarthy</td>\n",
       "    </tr>\n",
       "    <tr>\n",
       "      <td>1</td>\n",
       "      <td>Braddon, M. E.</td>\n",
       "      <td>an open verdict</td>\n",
       "      <td>1878</td>\n",
       "      <td>braddon</td>\n",
       "      <td>m</td>\n",
       "      <td>m e braddon</td>\n",
       "    </tr>\n",
       "    <tr>\n",
       "      <td>2</td>\n",
       "      <td>Lee, Holme,</td>\n",
       "      <td>straightforward</td>\n",
       "      <td>1878</td>\n",
       "      <td>lee</td>\n",
       "      <td>holme</td>\n",
       "      <td>holme lee</td>\n",
       "    </tr>\n",
       "    <tr>\n",
       "      <td>3</td>\n",
       "      <td>Cooper, Katherine,</td>\n",
       "      <td>sebastian</td>\n",
       "      <td>1878</td>\n",
       "      <td>cooper</td>\n",
       "      <td>katherine</td>\n",
       "      <td>katherine cooper</td>\n",
       "    </tr>\n",
       "    <tr>\n",
       "      <td>4</td>\n",
       "      <td>Oliphant,</td>\n",
       "      <td>the primrose path</td>\n",
       "      <td>1878</td>\n",
       "      <td>oliphant</td>\n",
       "      <td>oliphant</td>\n",
       "      <td>oliphant</td>\n",
       "    </tr>\n",
       "  </tbody>\n",
       "</table>\n",
       "</div>"
      ],
      "text/plain": [
       "               author              title  date author_last author_first  \\\n",
       "0   McCarthy, Justin,   miss misanthrope  1878    mccarthy       justin   \n",
       "1      Braddon, M. E.    an open verdict  1878     braddon            m   \n",
       "2         Lee, Holme,    straightforward  1878         lee        holme   \n",
       "3  Cooper, Katherine,          sebastian  1878      cooper    katherine   \n",
       "4           Oliphant,  the primrose path  1878    oliphant     oliphant   \n",
       "\n",
       "         author_full  \n",
       "0    justin mccarthy  \n",
       "1        m e braddon  \n",
       "2          holme lee  \n",
       "3   katherine cooper  \n",
       "4           oliphant  "
      ]
     },
     "execution_count": 10,
     "metadata": {},
     "output_type": "execute_result"
    }
   ],
   "source": [
    "df_all.head()"
   ]
  },
  {
   "cell_type": "code",
   "execution_count": 11,
   "metadata": {},
   "outputs": [],
   "source": [
    "authors_by_last_name = {}\n",
    "\n",
    "#make a dictionary of lastnames\n",
    "for row in df_all.iterrows():\n",
    "    #make the value a list of first_names (ignore any that are one letter)\n",
    "    if len(row[1]['author_first']) > 2:\n",
    "        try:\n",
    "            author = authors_by_last_name[row[1]['author_last']]\n",
    "            if row[1]['author_first'] not in authors_by_last_name[row[1]['author_last']]:\n",
    "                if row[1]['author_first'] != row[1]['author_last']:\n",
    "                    authors_by_last_name[row[1]['author_last']].append(row[1]['author_first'])\n",
    "        except:\n",
    "            authors_by_last_name[row[1]['author_last']] = [row[1]['author_first']]"
   ]
  },
  {
   "cell_type": "code",
   "execution_count": 12,
   "metadata": {},
   "outputs": [],
   "source": [
    "solo_names = {}\n",
    "for name in authors_by_last_name.keys():\n",
    "    if len(authors_by_last_name[name]) == 1:\n",
    "        solo_names[name] = authors_by_last_name[name][0]"
   ]
  },
  {
   "cell_type": "code",
   "execution_count": 13,
   "metadata": {},
   "outputs": [],
   "source": [
    "def find_top_author(text, name_dict):\n",
    "    \"\"\" This function looks at a block of text, possibly a book review, and \n",
    "    uses a dictionary of names to find the top first name and last name pair \n",
    "    mentioned in the text. A statistical method for name inference would probably \n",
    "    be preferable to this method\"\"\"\n",
    "    #Note: this function needs a lot of work!!!\n",
    "\n",
    "    # 1. titles list is incomplete\n",
    "    # 2. assumes surname will be one word\n",
    "    # 3. returns empty if top last name not in author names dictionary \n",
    "    # 4. returns empty if the last name is found but the first name isn't\n",
    "    # 5. code to choose the most frequently mentioned last name / first name pair might be coded wrong\n",
    "    # 6. current not check \n",
    "    # 7. has no fuzziness ... in the example review we have \"Lucien Carr\", \"Mr. Carr\", \"and \"Ldclen Carr\"\n",
    "    # So the algorithm could theoretically resolve to Lucien Carr since that's a name and Ldclen isn't\n",
    "    # Lucien Carr isn't in the author names dictionary but we could program this to find top names not in the dict\n",
    "\n",
    "    #get the most frequent mr or mrs., miss, dr in the review \n",
    "    #and all the characters after the honorific until the next space (non-greedy)    \n",
    "    results = re.findall('dr\\. .+? |rev\\. .+? |miss .+? |mr\\..+? |mrs\\..+? ', text.lower())\n",
    "    \n",
    "    #remove possessives\n",
    "    results = [word.replace(\"'s\", \"\") for word in results]\n",
    "    print(results)\n",
    "\n",
    "    if len(results) > 0:\n",
    "        top = Counter(results).most_common(1)\n",
    "        \n",
    "        #oof, this is ugly\n",
    "        lastname = top[0][0].replace(',', '').replace('miss ', '').replace('mrs. ', '').replace('mr. ', '').replace('dr. ', '').replace('rev. ', '').replace('\"', '').replace('.', '').rstrip(\" \")    \n",
    "            \n",
    "        #get authors with same last name\n",
    "        first_name_results = []\n",
    "        try:\n",
    "            au_first_names = authors_by_last_name[lastname]\n",
    "            \n",
    "            for au_name in au_first_names:\n",
    "                first_name_matches = re.search(au_name, text.lower())\n",
    "                if first_name_matches:\n",
    "                    first_name_results.append(au_name)\n",
    "            if len(first_name_results) > 0:\n",
    "                topfirst = Counter(first_name_results).most_common(1)\n",
    "                \n",
    "                firstname = topfirst[0][0]\n",
    "                \n",
    "            else:\n",
    "                firstname = ''\n",
    "        except:\n",
    "            firstname = ''\n",
    "        if firstname == '':\n",
    "            for i in both:\n",
    "                first_name_matches = re.search(i, text.lower())\n",
    "                if first_name_matches:\n",
    "                    first_name_results.append(i)\n",
    "            \n",
    "        #match a first name or pass\n",
    "        if len(lastname) > 4:\n",
    "            return [lastname, firstname]\n",
    "        else:\n",
    "            return [\"no match\", \"no match\"]"
   ]
  },
  {
   "cell_type": "code",
   "execution_count": 14,
   "metadata": {},
   "outputs": [],
   "source": [
    "# test text\n",
    "mytext = \"\"\"\n",
    "    Missouri: A Bone of Contention '                 WE  aware that most of the States of the Union had their nicknames, more or less complimentary, but to name Missouri ' a bone of contention ' is a stroke of wit. It does, however, rightly describe the Missouri of the past, and vividly writes in a phrase her political history. Until the triumph of the Union armies and the close of the Civil War, Missouri was in the jaws of the watch-dogs of slavery and freedom. In war or in peace, the subiect of legislative com-                 promise or of military struggle, Missouri was an uncertain factor. Now, after -five years of national peace, her history may be calmly and impartially written. Indeed, the task has been done, and well done, and the , Lucien Carr of Harvard, may be congratulated upon his work,  is strong, unimpassioned, scholarly, and as impressed with the firm touch which comes of local knowledge as are the imprinted rocks in the cabinets at Cambridge. Long familiarity with the wealth of archaeology in the Peabody Museuml seems to have given him the power of comparison and generalization in the evolution of a commonwealth, while  acquaintance with living men enables him to blend the results of the study and the field in pleasing literary form. Five of his seventeen chapters give a luminous picture of the early French and Spanish discoveries and domination. Then follow three chapters treating of the                 Missouri. By Ldclen Carr. $ti... (American Commonwealths.) Boston:                 Itoughto., Sftfltn & Co.                 l , the compromise, and the  into the U nion of this State named after the great river which flows through it. In his treatment of the period from 1844 to i861, as well as that of war time, some readers may charge Mr. Carr with unduly favoring the Southern and even Confederate view; but to people living this side of the now-vanished Mason and Dixon's line, this is doubtless a benefit; for only when Northern people are able to ' put themselves in the place' of Southerners and see with Southern eyes, can they be sure that they have achieved that impartiality which is essential to the writing of final history. He shows that the Missourians were neither secessionists nor slavery propagandists. He both criticises and justifies the action of the second convention which, in the uncertain hours when other States  seceding and Missouri's Governor had been driven into exile, org  a provisional government, and  saved Missouri Irons ' the pit of political degradation into which the States in rebellion were sunk during the period of reconstruction.' Mr. Carr practically and almost abruptly ends his history at the close of the War, believing that the career of Missouri as a bone of contention ended with the abolition of slavery. The fifty years' struggle was over, the State recovered rapidly froni the wounds of the Civil War, wealth increased wonderfully, and the Negro was liberally dealt with in most if not all points relating to citizenship. Taken as a whole, this book, with its sustained interest, high average literary merit, and thorough treatment of the voluminous facts, fully justifies its place in the series of ' histories of such States as have exercised a positive influence in the shaping of the national Government, or have had a striking political - . . history.' Like the others, it has a good map and index.\"\"\"  "
   ]
  },
  {
   "cell_type": "code",
   "execution_count": 15,
   "metadata": {},
   "outputs": [
    {
     "name": "stdout",
     "output_type": "stream",
     "text": [
      "['mr. carr ', 'mr. carr ']\n"
     ]
    },
    {
     "ename": "NameError",
     "evalue": "name 'both' is not defined",
     "output_type": "error",
     "traceback": [
      "\u001b[0;31m---------------------------------------------------------------------------\u001b[0m",
      "\u001b[0;31mNameError\u001b[0m                                 Traceback (most recent call last)",
      "\u001b[0;32m<ipython-input-15-be0b0cfa03bd>\u001b[0m in \u001b[0;36m<module>\u001b[0;34m\u001b[0m\n\u001b[0;32m----> 1\u001b[0;31m \u001b[0mprint\u001b[0m\u001b[0;34m(\u001b[0m\u001b[0mfind_top_author\u001b[0m\u001b[0;34m(\u001b[0m\u001b[0mmytext\u001b[0m\u001b[0;34m,\u001b[0m \u001b[0mauthors_by_last_name\u001b[0m\u001b[0;34m)\u001b[0m\u001b[0;34m)\u001b[0m\u001b[0;34m\u001b[0m\u001b[0;34m\u001b[0m\u001b[0m\n\u001b[0m",
      "\u001b[0;32m<ipython-input-13-9d5a85321bb1>\u001b[0m in \u001b[0;36mfind_top_author\u001b[0;34m(text, name_dict)\u001b[0m\n\u001b[1;32m     49\u001b[0m             \u001b[0mfirstname\u001b[0m \u001b[0;34m=\u001b[0m \u001b[0;34m''\u001b[0m\u001b[0;34m\u001b[0m\u001b[0;34m\u001b[0m\u001b[0m\n\u001b[1;32m     50\u001b[0m         \u001b[0;32mif\u001b[0m \u001b[0mfirstname\u001b[0m \u001b[0;34m==\u001b[0m \u001b[0;34m''\u001b[0m\u001b[0;34m:\u001b[0m\u001b[0;34m\u001b[0m\u001b[0;34m\u001b[0m\u001b[0m\n\u001b[0;32m---> 51\u001b[0;31m             \u001b[0;32mfor\u001b[0m \u001b[0mi\u001b[0m \u001b[0;32min\u001b[0m \u001b[0mboth\u001b[0m\u001b[0;34m:\u001b[0m\u001b[0;34m\u001b[0m\u001b[0;34m\u001b[0m\u001b[0m\n\u001b[0m\u001b[1;32m     52\u001b[0m                 \u001b[0mfirst_name_matches\u001b[0m \u001b[0;34m=\u001b[0m \u001b[0mre\u001b[0m\u001b[0;34m.\u001b[0m\u001b[0msearch\u001b[0m\u001b[0;34m(\u001b[0m\u001b[0mi\u001b[0m\u001b[0;34m,\u001b[0m \u001b[0mtext\u001b[0m\u001b[0;34m.\u001b[0m\u001b[0mlower\u001b[0m\u001b[0;34m(\u001b[0m\u001b[0;34m)\u001b[0m\u001b[0;34m)\u001b[0m\u001b[0;34m\u001b[0m\u001b[0;34m\u001b[0m\u001b[0m\n\u001b[1;32m     53\u001b[0m                 \u001b[0;32mif\u001b[0m \u001b[0mfirst_name_matches\u001b[0m\u001b[0;34m:\u001b[0m\u001b[0;34m\u001b[0m\u001b[0;34m\u001b[0m\u001b[0m\n",
      "\u001b[0;31mNameError\u001b[0m: name 'both' is not defined"
     ]
    }
   ],
   "source": [
    "print(find_top_author(mytext, authors_by_last_name))"
   ]
  },
  {
   "cell_type": "code",
   "execution_count": null,
   "metadata": {},
   "outputs": [],
   "source": []
  }
 ],
 "metadata": {
  "kernelspec": {
   "display_name": "Python 3",
   "language": "python",
   "name": "python3"
  },
  "language_info": {
   "codemirror_mode": {
    "name": "ipython",
    "version": 3
   },
   "file_extension": ".py",
   "mimetype": "text/x-python",
   "name": "python",
   "nbconvert_exporter": "python",
   "pygments_lexer": "ipython3",
   "version": "3.7.4"
  }
 },
 "nbformat": 4,
 "nbformat_minor": 2
}
