{
 "cells": [
  {
   "cell_type": "markdown",
   "metadata": {},
   "source": [
    "ranked list of most likely names"
   ]
  },
  {
   "cell_type": "code",
   "execution_count": 1,
   "metadata": {},
   "outputs": [
    {
     "name": "stdout",
     "output_type": "stream",
     "text": [
      "Pretty printing has been turned OFF\n"
     ]
    }
   ],
   "source": [
    "#import necessary packages\n",
    "import os\n",
    "import pandas as pd\n",
    "import re\n",
    "from collections import Counter\n",
    "import numpy as np\n",
    "import pickle\n",
    "%pprint"
   ]
  },
  {
   "cell_type": "code",
   "execution_count": 2,
   "metadata": {},
   "outputs": [],
   "source": [
    "# loading in files\n",
    "directory = \"../../aps_reviews_50/aps_reviews/\"\n",
    "filenames = os.listdir(directory)\n",
    "txts = []\n",
    "for file in filenames:\n",
    "    with open(directory + file) as f:\n",
    "        txts.append(f.read())"
   ]
  },
  {
   "cell_type": "code",
   "execution_count": 3,
   "metadata": {},
   "outputs": [],
   "source": [
    "def title_cleanup(string):\n",
    "    lowered = string.lower().split('|')[0]\n",
    "    new = \"\".join([u for u in lowered if u.isalpha() or u == ' '])\n",
    "    return \" \".join(new.split()[0:6])"
   ]
  },
  {
   "cell_type": "code",
   "execution_count": 4,
   "metadata": {},
   "outputs": [],
   "source": [
    "def author_cleanup(string):\n",
    "    lowered = string.lower().split('|')[0]\n",
    "    no_parens = re.sub(\"\\(.+?\\)\", \"\", lowered)\n",
    "    no_parens = no_parens.rstrip(',')\n",
    "    no_parens = no_parens.rstrip(' ')\n",
    "    no_parens = no_parens.replace('.', '')\n",
    "    no_parens = no_parens.replace('[', '')\n",
    "    no_parens = no_parens.replace(']', '')\n",
    "    #split on comma, make first last\n",
    "    split = no_parens.split(',')\n",
    "    if type(split) == list:\n",
    "        head = split[0:1]\n",
    "        tail = split[1:]\n",
    "\n",
    "        final = \" \".join(tail+head)\n",
    "    else:\n",
    "        final = split\n",
    "    return final "
   ]
  },
  {
   "cell_type": "code",
   "execution_count": 5,
   "metadata": {},
   "outputs": [],
   "source": [
    "def author_cleanup_last(string):\n",
    "    lowered = string.lower().split('|')[0]\n",
    "    no_parens = re.sub(\"\\(.+?\\)\", \"\", lowered)\n",
    "    no_parens = no_parens.rstrip(',')\n",
    "    no_parens = no_parens.rstrip(' ')\n",
    "    no_parens = no_parens.replace('.', '')\n",
    "    no_parens = no_parens.replace('[', '')\n",
    "    no_parens = no_parens.replace(']', '')\n",
    "    #split on comma, make first last\n",
    "    split = no_parens.split(',')\n",
    "    if type(split) == list:\n",
    "        \n",
    "        return split[0]\n",
    "    else:\n",
    "        return split"
   ]
  },
  {
   "cell_type": "code",
   "execution_count": 6,
   "metadata": {},
   "outputs": [],
   "source": [
    "def author_cleanup_first(string):\n",
    "    lowered = string.lower().split('|')[0]\n",
    "    no_parens = re.sub(\"\\(.+?\\)\", \"\", lowered)\n",
    "    no_parens = no_parens.rstrip(',')\n",
    "    no_parens = no_parens.rstrip(' ')\n",
    "    no_parens = no_parens.replace('.', '')\n",
    "    no_parens = no_parens.replace('[', '')\n",
    "    no_parens = no_parens.replace(']', '')\n",
    "    #split on comma, make first last\n",
    "    split = no_parens.split(',')\n",
    "    if type(split) == list:\n",
    "        first = split[-1].split()\n",
    "        try:\n",
    "            return first[0]\n",
    "        except:\n",
    "            return split[-1]\n",
    "    else:\n",
    "        return split"
   ]
  },
  {
   "cell_type": "code",
   "execution_count": 7,
   "metadata": {},
   "outputs": [
    {
     "name": "stderr",
     "output_type": "stream",
     "text": [
      "/Users/eva/opt/anaconda3/lib/python3.7/site-packages/pandas/core/frame.py:4223: SettingWithCopyWarning: \n",
      "A value is trying to be set on a copy of a slice from a DataFrame\n",
      "\n",
      "See the caveats in the documentation: http://pandas.pydata.org/pandas-docs/stable/user_guide/indexing.html#returning-a-view-versus-a-copy\n",
      "  return super().rename(**kwargs)\n"
     ]
    }
   ],
   "source": [
    "#get author and title list\n",
    "df_pre = pd.read_csv('fiction_metadata.csv', dtype={'oclc':'str','recordid':'str', 'datetype': 'str', 'startdate':'str' }).fillna('')\n",
    "df_pre = df_pre.loc[df_pre['date'].isin([str(u) for u in range(1878, 1926)])].reset_index(drop=True)\n",
    "\n",
    "df_post = pd.read_csv('fiction_metadata_post_1923.csv', dtype={'metadatasuspicious':'str'}).fillna('')\n",
    "df_post = df_post.loc[df_post['inferreddate'].isin([str(u) for u in range(1923, 1928)])].reset_index(drop=True)\n",
    "\n",
    "df_all = df_pre[['author', 'title', 'date']]\n",
    "df_post_new = df_post[['author', 'title', 'inferreddate']]\n",
    "df_post_new.rename(columns={'inferreddate':'date'}, inplace=True)\n",
    "df_all = df_all.append(df_post_new)"
   ]
  },
  {
   "cell_type": "code",
   "execution_count": 8,
   "metadata": {},
   "outputs": [],
   "source": [
    "#first five/six words, lowercase, remove special characters and punctuation\n",
    "df_all['title'] = df_all['title'].apply(title_cleanup)\n",
    "df_all['author_last'] = df_all['author'].apply(author_cleanup_last)\n",
    "df_all['author_first'] = df_all['author'].apply(author_cleanup_first)\n",
    "df_all['author_full'] = df_all['author'].apply(author_cleanup)"
   ]
  },
  {
   "cell_type": "code",
   "execution_count": 9,
   "metadata": {},
   "outputs": [],
   "source": [
    "#dedupe on author, title\n",
    "df_all = df_all.drop_duplicates(['author_full', 'title']).reset_index(drop=True)"
   ]
  },
  {
   "cell_type": "code",
   "execution_count": 10,
   "metadata": {},
   "outputs": [
    {
     "data": {
      "text/html": [
       "<div>\n",
       "<style scoped>\n",
       "    .dataframe tbody tr th:only-of-type {\n",
       "        vertical-align: middle;\n",
       "    }\n",
       "\n",
       "    .dataframe tbody tr th {\n",
       "        vertical-align: top;\n",
       "    }\n",
       "\n",
       "    .dataframe thead th {\n",
       "        text-align: right;\n",
       "    }\n",
       "</style>\n",
       "<table border=\"1\" class=\"dataframe\">\n",
       "  <thead>\n",
       "    <tr style=\"text-align: right;\">\n",
       "      <th></th>\n",
       "      <th>author</th>\n",
       "      <th>title</th>\n",
       "      <th>date</th>\n",
       "      <th>author_last</th>\n",
       "      <th>author_first</th>\n",
       "      <th>author_full</th>\n",
       "    </tr>\n",
       "  </thead>\n",
       "  <tbody>\n",
       "    <tr>\n",
       "      <td>0</td>\n",
       "      <td>McCarthy, Justin,</td>\n",
       "      <td>miss misanthrope</td>\n",
       "      <td>1878</td>\n",
       "      <td>mccarthy</td>\n",
       "      <td>justin</td>\n",
       "      <td>justin mccarthy</td>\n",
       "    </tr>\n",
       "    <tr>\n",
       "      <td>1</td>\n",
       "      <td>Braddon, M. E.</td>\n",
       "      <td>an open verdict</td>\n",
       "      <td>1878</td>\n",
       "      <td>braddon</td>\n",
       "      <td>m</td>\n",
       "      <td>m e braddon</td>\n",
       "    </tr>\n",
       "    <tr>\n",
       "      <td>2</td>\n",
       "      <td>Lee, Holme,</td>\n",
       "      <td>straightforward</td>\n",
       "      <td>1878</td>\n",
       "      <td>lee</td>\n",
       "      <td>holme</td>\n",
       "      <td>holme lee</td>\n",
       "    </tr>\n",
       "    <tr>\n",
       "      <td>3</td>\n",
       "      <td>Cooper, Katherine,</td>\n",
       "      <td>sebastian</td>\n",
       "      <td>1878</td>\n",
       "      <td>cooper</td>\n",
       "      <td>katherine</td>\n",
       "      <td>katherine cooper</td>\n",
       "    </tr>\n",
       "    <tr>\n",
       "      <td>4</td>\n",
       "      <td>Oliphant,</td>\n",
       "      <td>the primrose path</td>\n",
       "      <td>1878</td>\n",
       "      <td>oliphant</td>\n",
       "      <td>oliphant</td>\n",
       "      <td>oliphant</td>\n",
       "    </tr>\n",
       "  </tbody>\n",
       "</table>\n",
       "</div>"
      ],
      "text/plain": [
       "               author              title  date author_last author_first  \\\n",
       "0   McCarthy, Justin,   miss misanthrope  1878    mccarthy       justin   \n",
       "1      Braddon, M. E.    an open verdict  1878     braddon            m   \n",
       "2         Lee, Holme,    straightforward  1878         lee        holme   \n",
       "3  Cooper, Katherine,          sebastian  1878      cooper    katherine   \n",
       "4           Oliphant,  the primrose path  1878    oliphant     oliphant   \n",
       "\n",
       "         author_full  \n",
       "0    justin mccarthy  \n",
       "1        m e braddon  \n",
       "2          holme lee  \n",
       "3   katherine cooper  \n",
       "4           oliphant  "
      ]
     },
     "execution_count": 10,
     "metadata": {},
     "output_type": "execute_result"
    }
   ],
   "source": [
    "df_all.head()"
   ]
  },
  {
   "cell_type": "code",
   "execution_count": 11,
   "metadata": {},
   "outputs": [],
   "source": [
    "pickle.dump(df_all, open('author_title_df.pkl', 'wb'))"
   ]
  },
  {
   "cell_type": "code",
   "execution_count": 12,
   "metadata": {},
   "outputs": [],
   "source": [
    "authors_by_last_name = {}\n",
    "\n",
    "#make a dictionary of lastnames\n",
    "for row in df_all.iterrows():\n",
    "    #make the value a list of first_names (ignore any that are one letter)\n",
    "    if len(row[1]['author_first']) > 2:\n",
    "        try:\n",
    "            author = authors_by_last_name[row[1]['author_last']]\n",
    "            if row[1]['author_first'] not in authors_by_last_name[row[1]['author_last']]:\n",
    "                if row[1]['author_first'] != row[1]['author_last']:\n",
    "                    authors_by_last_name[row[1]['author_last']].append(row[1]['author_first'])\n",
    "        except:\n",
    "            authors_by_last_name[row[1]['author_last']] = [row[1]['author_first']]"
   ]
  },
  {
   "cell_type": "code",
   "execution_count": 13,
   "metadata": {},
   "outputs": [],
   "source": [
    "solo_names = {}\n",
    "for name in authors_by_last_name.keys():\n",
    "    if len(authors_by_last_name[name]) == 1:\n",
    "        solo_names[name] = authors_by_last_name[name][0]"
   ]
  },
  {
   "cell_type": "code",
   "execution_count": 14,
   "metadata": {},
   "outputs": [
    {
     "data": {
      "text/plain": [
       "dict_keys(['payn', 'tallman', 'lanigan', 'thacker', 'bede', 'reuter', 'stowe', 'hugo', 'ingoldsby', 'castlemon', 'sylvain', 'streckfuss', 'coulson', 'alcott', 'burbank', 'ouida', 'auerbach', 'bynner', 'kettle', 'greg', 'de quincey', 'trafton', 'severance', 'mac kenna', 'raub', 'berkley', 'molesworth', 'brame', 'gift', 'desart', 'gréville', 'sadlier', 'mckeever', 'habberton', 'flemming', 'mcelgun', 'howells', 'higham', 'yonge', 'capron', 'legouvé', 'optic', 'dutcher', 'heyse', 'virgil', 'wakeman', 'wingfield', 'fr©♭mont', 'atwood', 'esmond', 'ruskin', 'sandeau', 'twells', 'pilgrim', 'bowker', 'cupples', 'vereker', 'vase', 'mongredien', 'armitt', 'glemham', 'monro', 'smart', 'orred', 'sejanus', 'thackeray', 'faber', 'diaz', 'de st andre', 'lamson', 'craigin', 'mcguffey', 'catherwood', 'goetschy', 'sertrew', 'brinkley', 'le sage', 'shillaber', 'tourgée', 'towle', 'homer', 'dekker', 'lamington', 'berthet', 'jefferies', 'wollstonecraft', 'betham-edwards', 'siegvolk', 'duchess', 'saint-pierre', 'defoe', 'shippen', 'cervantes saavedra', 'meynardie', 'trebor', 'dugan', 'rousselet', 'wildrick', 'putlitz', 'garvice', 'polk', 'chellis', 'hamley', 'keon', 'peard', 'aimard', 'tincker', 'burdette', 'boyesen', 'daudet', 'staats', 'pascoe', 'pansy', 'stretton', 'mexborough', 'newall', 'davus', 'tabor', 'pottinger', 'kickham', 'slenker', 'dempster', 'lonsdale', 'praed', 'gottschalk', 'brougham', 'takeda', 'twain', 'chaucer', 'belton', 'la motte-fouqué', 'maurice', 'tamenaga', 'angelo', 'franzos', 'jeffries', 'haslam', 'walford', 'paltock', 'aikin', 'wyss', 'landseer', 'somadeva bhaṭṭa', 'resident of the last three years', 'van wart', 'tharp', 'meriwether', 'lever', 'navery', 'clapp', 'kip', 'lamartine', 'sala', 'eblana', 'yeames', 'bloomfield', 'lucian', 'moodie', 'peppergrass', 'brabourne', 'currier', 'raimund', 'veley', 'van sommer', 'about', 'enault', 'feydeau', 'dixie', 'mcknight', 'allan-olney', 'bittersweet', 'du boisgobey', 'froissart', 'lyall', 'guernsey', 'prior', 'thorn', 'swisshelm', 'oldboy', 'forde', 'dumas', 'de fonblanque', 'bjørnson', 'gally', 'dalton', 'hogg', 'latimer', 'ségur', 'christie-murray', 'queen', 'colvill', 'tytler', 'clutton-brock', 'sartoris', 'doner', 'hillern', 'bunyan', 'garibaldi', 'marsham', 'libbey', 'fort', 'gillette', 'hassard', 'asbjørnsen', 'tibbles', 'staël', 'keane', 'vikelas', 'paddock', 'mcrobie', 'majendie', 'forney', 'nugent-bankes', 'oertel', 'solly', 'blinkhoolie', 'coffin', 'conyngham', 'roquette', 'curry', 'hepworth', 'greenough', 'grossi', 'ashleigh', 'cadwell', 'groome', 'dostoyevsky', 'fern', 'shapely', 'champney', 'sulieman', 'rita', 'blot', 'orme', 'flanders', 'marguerite', 'rochefort', 'boccaccio', 'howitt', 'harsha', 'grandmamma', 'cantacuzène-altiéri', 'gagneur', 'lewes', 'hervé', 'shakespeare', 'nox', 'ferrier', 'weiss', 'goethe', 'koehler', 'ambofilius', 'mcintosh', 'sparhawk', 'lugard', 'lean', 'middlemass', 'steinman', 'rodenberg', 'sand', 'angell', 'murasaki shikibu', 'abrantès', 'erwin', 'merivale', 'marsh-caldwell', 'woolson', 'munby', 'macchetta', 'fessler', 'hausrath', 'ouina ', 'burney', 'mcgloin', 'aguilar', 'aesop', 'wayde', 'pyrnelle', 'watterson', 'brine', 'youngman', 'twardowska', 'daunt', 'youngblood', 'burnaby', 'piccirillo', 'de mille', 'austen', 'claretie', 'rover', 'thomes', 'witherspoon', 'vervins', 'glascock', 'greey', 'heckford', 'hellis', 'strathesk', 'theal', 'hamerling', 'hauff', 'austen-leigh', 'glümer', 'corydon', 'monti', 'stimson', 'butterworth', 'de amicis', 'villars', 'westall', 'colomb', 'cambridge', 'eckstein', 'wilkie', 'macnie', 'krylov', 'niemojowski', 'turgenev', 'beckford', 'rydberg', 'thiusen', 'dahn', 'arnould', 'edgeworth', 'hockley', 'lucy', 'moreland', 'poe', 'southey', 'myrtle', 'branscom', 'kieffer', 'winthrop', 'dahlgren', 'doudney', 'hardinge', 'harlan', 'ericsson', 'boteler', 'handford', 'lukens', 'giberne', 'lyster', 'tod', 'feuillet', 'sarcey', 'wägner', 'ballantyne', 'phillips-wolley', 'middlemore', 'calverley', 'le blond', 'whately', 'conscience', 'pérez galdós', 'goodhue', 'sheip', 'hathaway', 'rockwell', 'riker', 'belot', 'elvester', 'greville', 'arena', 'bothmer', 'duffy', 'drewry', 'sherard', 'songman', 'macewen', 'author of cynthia', 'boussenard', 'witt', 'martineau', 'geldart', 'swynnerton', 'bethune', 'michener', 'munford', 'gibb', 'vernaleken', 'kirschner', 'mccray', \"o'rell\", 'langdon', 'hazlitt', 'naṭesạ ṣāstrī', 'redd', 'vosmaer', 'aziz efendi', 'gerrish', 'seabrook', 'wilmot', 'barrows', 'hazen', 'moira', 'arp', 'weling', 'bulfinch', 'dillwyn', 'hartranft', 'belt', 'cbs', 'bülow', 'picard', 'le row', 'victoria', 'bertz', 'gillham-thomsett', 'chatterji', 'boit', 'johonnot', 'geddie', 'ohnet', 'vandegrift', 'spyri', 'heine', 'elbon', 'sylva', 'clover', 'cary', 'wethered', 'pirkis', 'venn', 'sime', 'everett-green', 'whelpton', 'halsted', 'glaister', 'fielde', 'lablache', 'gaboriau', 'oberholtzer', 'pestalozzi', 'guiney', 'dobbins', 'simcox', 'pater', 'dante alighieri', 'kielland', 'custer', 'stroyer', 'nobile', 'frazar', 'keenan', 'paeon', 'wendell', 'anagnos', 'louisiana', 'magruder', 'gingold', 'badeau', 'banim', 'erckmann', 'hoes', 'carew', 'maistre', 'siringo', 'alcock', 'barras', 'surtees', 'victor', 'bunce', 'jackman', 'hillary', 'cottin', 'sangrée', 'breed', 'ellwood', 'helps', 'hollis', 'wiltse', 'colombi', 'houlding', 'orne', 'seely', 'walworth', \"d'avigdor\", 'brew', 'dafoe', 'lightner', 'corselius', 'cottier', 'cruikshank', 'drysdale', 'sidey', 'cockton', 'tebault', 'downs', 'wiseman', 'rexdale', 'chernyshevsky', 'zöge von manteuffel', 'vālmīki', 'leyland', 'palacio valdés', 'pellico', 'gatchell', 'brierley', \"o'donoghue\", 'riley', 'edler', \"m'laren\", 'elwes', 'fendall', 'berens', 'chetwynd', 'hálek', 'newhall', 'kirton', 'sturdy', 'rittenhouse', 'crowninshield', 'bridge', 'cruger', 'furst', 'keeling', 'leonhart', 'de longueville', 'corrie', 'alma-tadema', 'stables', 'loughead', 'swazey', 'macalpine', 'tidball', 'brinkerhoff', 'roskell', 'lesley', 'haris', 'blind', 'arnaud', 'sladen', 'cleadas', 'bloundelle-burton', 'stinde', 'frederic', 'waldy', 'rooper', 'eiffe', 'crofts', 'corelli', 'sealsfield', 'britts', 'givins', 'houssaye', 'vinton', 'harwood', 'needell', 'author of rare pale margaret', 'rowsell', \"o'hanlon\", 'tinsley', 'shand', 'boucher', 'hake', 'ley', 'downey', 'gotthelf', 'pérez escrich', 'hinman', 'mcqueen', 'reddall', 'hobart-hampden', 'devol', 'furniss', 'altgeld', 'de kroyft', 'thisted', 'féval', 'loti', 'wichert', 'vereshchagin', 'hartley m l', 'saltus', \"o'conor-eccles\", 'wertheimber', 'fontaine', 'musick', 'thanet', 'boyeson', 'damon', 'freytag', 'schmieden', 'draper', 'mcgehee', 'delitzsch', 'macduff', 'call', 'hoare', 'brodie', 'malot', 'cherbuliez', 'deulin', 'pillet', 'heermans', 'wotton', 'devey', 'crouch', 'layard', 'boissier', 'perey', 'gunter', 'greville-williams', 'volkmann', 'korolenko', 'norway', \"o'meara\", 'vīrēṣa-liṅgamu', 'mulholland', 'saxby', 'célières', 'hayens', 'willson', 'cliffe', 'wildenbruch', 'curtois', 'linskill', 'panton', 'mülbach', 'mérimée', 'whiteing', 'hedrick', 'collyer', 'lear', 'smedes', 'schreiner', 'churchward', 'wilbrandt', 'hanoum', 'perelaer', 'clough', 'uchard', 'jókai', 'châteauclair', 'veitch', 'schobert', 'trumble', 'ulbach', 'digges', 'cellini', 'yorke', 'baumbach', 'sardou', 'manuel', \"'alī 'azīz\", 'thornhill', 'warddel', 'lothrop', 'avon', 'curran', 'claytor', 'hutson', 'cracraft', 'clapperton', 'nobody', 'du bois-melly', 'piatt', 'ryan', 'florence', 'kercheval', 'carteret', 'fitts', 'cowley', 'worboise', 'messmer', 'hilts', 'hullah', 'waterloo', 'nye', 'maimon', 'pembroke', 'nitsch', 'iogo', 'goncourt', 'voltaire', 'temple', 'mariager', 'gorham', 'munsey', 'dionis', 'crawfurd', 'erroll', 'blackburne', 'soltera', 'leys', 'curwen', 'mcdonnel', 'wiggin', 'borrow', 'barnes emily r', 'savigny', 'stapleton', 'larcom', 'boldrewood', 'vogel', 'dolaro', 'folsom', 'laufer', 'michael', 'nutting', 'stepniak', 'sue', 'maupassant', 'vigny', 'froude', 'malden', 'nobles', 'gilliat', 'petersilea', 'denton', 'snorri sturluson', 'roseboom', 'apollonius', 'longworth', 'schubin', 'manzoni', 'munster', 'zschokke', 'jessop', 'mcgovern', 'hofsten', 'grousset', 'maclay', 'tasma', 'daintrey', 'prime-stevenson', 'queirós', 'firenzuola', 'aretino', 'clynton', 'wratislaw', 'slosson', 'omar khayyam', 'frere', 'cahun', 'mcfadden', 'torrey', 'pastnor', 'curtin', 'taunay', 'gunnison', 'van-anderson', 'prewitt', 'penn', 'snider', 'timsol', 'heaven', 'halse', 'rybot', 'fresneau', 'carette', 'sheeley', 'crowley', 'doremus', 'veney', 'leggett', 'bandello', 'monteiro', 'cleeve', 'hodgetts', 'leamy', 'frémont', 'carlson', 'kipling', 'painter', 'hartland', 'longus', 'moorehead', 'bellingham', 'quigg', 'calm', 'trelawny', 'verga', 'coppée', 'debans', 'darnell', 'clutterbuck', 'tillier', 'yendes', 'coignet', 'dering', 'toynbee', 'uncle lawrence', 'halévy', 'whitby', 'hacklaender', 'roby', 'scheffel', 'sudermann', 'gedney', 'ewyn', 'crocheron', 'tregellas', 'poynter', 'boothby', 'turnerelli', 'saʻdī', 'bandelier', 'sinués de marco', 'specht', 'ginisty', 'creyke', 'bettany', 'longard de longgarde', 'maccabe', 'maud', 'sheffield', 'steuart', 'pollok', 'delpit', 'bigot', 'seawell', 'peattie', 'holcombe', 'hetherington', 'gooch', 'wildwood', 'charlin', 'darley', 'fogazzaro', 'jeaffreson', 'bauer', 'wallberg', 'klopfer', 'hawtayne', 'malortie', 'eden', 'kraszewski', 'hofberg', 'sono', 'grand', 'pyat', 'macpherson', 'gardener', 'maclaren', 'leather', 'van der naillen', 'avery', 'schücking', 'phillpotts', 'kenney', 'boyne', \"d'aveline\", 'nomad', 'woollam', 'hetzel', 'pounds', 'worthey', 'paull', 'maylin', 'reaney', 'wood-seys', 'maartens', 'stutfield', 'folingsby', 'de concilio', 'heywood', 'conser', 'lie', 'alarcón', 'radcliffe', 'sienkiewicz', 'walters', 'bashkirtseff', 'grimwood', 'bouvet', 'gunsaulus', 'du maurier', 'houstoun', 'weyman', 'munkittrick', 'augustin', 'crim', 'hobbes', 'falconer', 'deleon', 'saint hilaire', 'rux', 'guérin', 'furney', 'ludlum', 'tautphoeus', 'cyr', 'herman', 'googins', 'caird', 'chads', 'nathusius', 'la brète', 'rabusson', 'bigelow', 'titterington', 'maximillian', 'finn', 'baldy', 'serao', 'monck', 'ruffini', 'bierce', 'saintsbury', 'potapenko', 'bouton', 'doran', 'munday', 'argyll', 'fulton', 'furguson', 'danilevsiïĭ', 'duras', 'hibbard', 'mary reginald', 'dowie', 'donelson', 'huguenin', 'macminn', 'segerstedt', 'wicks', 'burch', 'scofield', 'merrick', 'varty-smith', 'st aubyn', 'belgrave', 'larder', 'pardo bazán', 'sims', 'valera', 'hughson', 'blackall', 'baines', 'embe', 'dumond', 'besolow', 'heuston', 'farningham', 'pétis de la croix', 'krausé', 'brittingham', 'ulmer', 'jezewski', 'duval', 'neally', 'pain', 'chernilo', 'tautphœus', 'hyne', 'ellwanger', 'theodoli', 'ottolengui', 'repplier', 'wister', 'salaman', 'edmister', 'gosse', 'castro', 'ashbee', 'crofton', 'bacheller', 'acklan', 'proudfit', 'linthicum', 'sabine', 'marsden', 'fernald', 'milman', 'menand', 'staal', 'montesquieu', 'leighton', 'melville', 'murdoch', 'ayers', 'cuthell', 'ebner-eschenbach', 'theuriet', 'coloma', 'pullen', 'briscoe', 'harbert', 'huntley', 'tait', 'adee', 'polko', 'beattie', 'nisbet', 'wardon', 'casanova', 'aulnoy', 'le gallienne', 'cragin', 'toole', 'jewsbury', 'scarron', 'leffingwell', 'buntline', 'elmhirst', 'cherbonnel', 'drayson', 'growden', 'müller-casenov', 'bjursten', 'aylesworth', 'cobbleigh', 'freeley', 'stredder', 'jenkyns', 'calmettes', 'stempel', 'cavazza', 'crompton', 'birkmaier', 'bazin', 'cuninghame', 'kevill-davies', 'deccan', 'gatty', 'stephalius', 'proudfoot', 'scrimshaw', 'crepaz', 'pn̈e du bois', 'gueullette', 'langley', 'brimblecom', 'fezandie', 'ingreham', 'cuming', 'baitāl-pachīsī', 'filon', 'crackanthorpe', 'akunian', 'wedmore', 'edwords', 'vaders', 'peirce', 'snowden', 'frye', 'polevoĭ', 'drachmann', 'shrubsole', 'massinger', 'jocelyn', 'champfleury', 'bogy', 'vahle', 'jessopp', 'whishaw', 'fearing', 'battershall', 'picton', 'kirwan', 'lysaght', 'lees', 'mathew', 'egerton', 'barlow', 'aho', 'newberry', 'vanamee', 'castelar', 'poor', 'jacobus', 'knauff', 'symonds', 'blennerhassett', 'trumbull', 'basile', 'xavier', 'sherer', 'author of told in the verandah', 'osgood', 'mccrackin', 'wheatley', 'crichton', 'ellis-reifsnider', 'pentreath', 'danziger', 'hrussoczy', 'frapan', 'chamisso', 'sesselberg', 'harraden', 'rebek', 'isaacs', 'ashby-sterry', 'gascoigne', 'dowson', 'shipton', 'biart', 'pitt', 'erckmann-chatrian', 'peeke', 'thierry', 'adderley', 'schindler', 'hall-stevenson', 'chesson', 'biery', 'holden', 'jeffrey', 'lano', 'grahame', 'tynan', 'chopin', 'knower', 'meinhold', 'cantacuzène-altieri', 'mackie', 'sanda', 'hofland', 'eschstruth', 'custance', 'straparola', 'bickerdyke', 'watters', 'zubof', 'nipgen', 'hillhouse', 'becke', 'jersey', 'edes', 'mcculloch-williams', 'mcnulty', 'grimble', 'duggan', 'latto', 'allardyce', 'iota', 'blatchford', 'forster', 'koenig', 'stannard', 'phillipps-wolley', 'flammarion', 'bayard', 'meekins', 'monk', 'bodine', 'bill', 'mcmurry', 'marau', 'nodier', 'slayback-carper', 'christison', 'old sleuth', 'dehan', 'tissot', 'bech-meyer', 'fennimore', 'huth', 'murray-aaron', 'jesus christ', 'jenness', 'verdier', 'margaret', 'trégance', 'buckingham and chandos', 'lockwood', 'firebaugh', 'hird', 'gestefeld', 'brodhead', 'scammon', 'shuey', 'cid', 'christian', 'pryce', 'sacher-masoch', 'maeterlinck', 'stratemeyer', 'dillingham', 'vogüe', 'makower', 'smiley', 'fessenden', 'swettenham', 'munsell', 'nadal', 'chan-toon', 'nerval', 'burwell', 'tirebuck', 'heliodorus', 'nordau', 'hinton', \"d'arcy\", 'trevor-battye', 'holder', 'lundie', 'hoey', 'renan', 'du chaillu', 'montrésor', 'old salt', 'de koven', 'branch', 'bourgoin', 'mcilwraith', 'lord', 'lowry', 'plantz', 'mallon', 'gyp', 'pratt-chadwick', 'burk', 'guézenec', 'hargis', 'gorrell', 'rumbough', 'compton', 'lepelletier', 'prime', 'walbran', 'thaxter', 'andreae', 'la selle', 'bowyer', 'thurber', 'heeley', 'rydings', 'mccook', 'belden', 'gallichan', 'gaunt', 'beresford', 'machen', 'le queux', 'mcneill', 'bauder', 'cuellar', 'lynde', 'rood', 'hotchkiss', 'bonesteel', 'jebb', 'jarboe', 'wilkes', 'nikambè', 'breton', 'wesselhoeft', 'stearns', 'mccrackan', 'elmslie', 'crissey', 'abrant`es', 'marmontel', 'masuccio', 'carruth', 'hackman', 'selby', 'kompert', 'alec-tweedie', 'maël', 'northup', 'jane', 'sichel', 'van zile', 'spratt', 'compton-rickett', 'cromie', 'daggett', 'leffler', 'chapple', 'timlow', 'katzenberger', 'channing', 'parkes', 'rossiter', 'greener', 'pinero', 'upward', 'ibsen', 'couvreur', 'trueba', 'paston', 'rhoscomyl', 'tańska-hoffmanowa', 'hamer', 'michaels', 'nevinson', 'tangye', 'belknap', 'lemore', 'foa', 'péronne', 'storr', 'lutz', 'pallander', 'ade', 'brun', 'arndt', 'hardin', 'amory', 'boyer', 'smeaton', 'flaubert', 'jaccaci', 'chodzko', 'gras', 'comer', 'ruding', 'ticknor', 'canton', 'blossom', 'cossins', 'gribble', 'merington', 'antona', 'knocker', 'bethusy-huc', 'bellwood', 'favenc', 'le baron', 'ralph', 'shelburn', 'barbe', 'haxtun', 'brazzà', 'carrel', 'suffling', 'fonsegrive', 'stafford', 'kúnos', 'cheever', 'charrington', 'kinross', 'lyttelton', 'ledoux', 'birchenough', 'conney', 'ochiltree', 'searlelle', 'tarver', 'rod', \"d'annunzio\", 'le feuvre', 'furman', 'hemyng', 'hughs', 'whitmarsh', 'jelf', 'heney', 'dibdin', 'duysters', 'barkley', 'beckwith', 'henniker', 'graydon', 'skelton', 'la fontaine', 'bourdillon', 'brackel', 'saint-juirs', 'capes', 'kolson', 'hennessey', 'rutherford', 'cogswell', 'mcdermott', 'moncreiff', 'corkran', 'ackworth', 'pontoppidan', 'ike', 'platt', 'cahan', 'juan manuel', 'keightley', 'swett', 'rosewater', 'gurdon', 'marean', 'grinton', 'aubery', 'sun', 'felter', 'mackinnon', 'iliowizi', 'xenos', 'chavannes', 'morier', 'baucus', 'voynich', 'wyckoff', 'crackenthorpe', 'gilkes', 'macarthur', 'lush', \"o'riordan\", 'rivers', 'couperus', 'puddicombe', 'rodney', 'gellibrand', 'mörike', 'luce', 'earnshaw', 'roofer', 'wendt', 'hamblen', 'quigley', 'thirlmere', 'alien', 'cleary', 'gallon', 'setoun', 'cargill', 'glanville', 'leeds', 'loota', 'marchmont', 'coakley', 'volckhausen', 'peek', 'pinsent', 'risley', 'pryer', 'pope', 'storrs', 'horsman', 'hennessy', 'geppert', 'tainter', 'mace', 'coates', 'leonard', 'glasgow', 'altsheler', 'embree', 'ephtaliōtēs', 'berkekey', 'kupfer', 'dorée', 'dodsley', 'sanford', 'peel', 'hornibrook', 'wait', 'moscheles', 'judah', 'benham', 'milne', 'wehman', 'lumley', 'le conte', 'forsyth', 'cumming', 'levett-yeats', 'lyrienne', 'jatakas', 'aubrey', 'riddle', 'vernon', 'catlin', 'stine', 'rabelais', 'tyner', 'gilder', 'lanza', 'kerbey', 'riehl', 'stockham', 'nixon-roulet', 'hegner', 'wetzlau', 'matre', 'hanna', 'heinemann', 'stoker', 'voss', 'ollivant', 'gillman', 'sedgwick', 'munthe', 'riis', 'mckesson', 'baring-gould', 'binstead', 'glover', 'louvet de couvray', 'ari þorgilsson', 'le braz', 'goldscheid', 'markwick', 'crist', 'barrow', 'baskett', 'clews', 'evans-hansell', 'haggard', 'gull', 'hewlett', 'gleig', 'gorst', 'keats', 'roucolle', 'fortescue', 'strickland', 'sinnatamby', 'vivaria', 'willets', 'achard', 'oakley', 'skeel', 'veysey', 'sayre', 'scollard', 'ryley', 'kinkead', 'abrojai', 'hohler', 'bristol', 'falls', 'barksdale', 'warung', 'morvan', 'macfall', 'jokai', 'teit', 'gerrare', 'flowerdew', 'frazee', 'petronius arbiter', 'brailsford', 'mackubin', 'sutphen', 'margueritte', 'lombard', 'mcleish', 'remington', 'colman', 'armour', 'ide', 'hutchison', 'ballard', 'tschudi', 'tourneur', 'sleight', 'perlesvaus', 'farrow', 'coulter', 'ragozin', 'visscher', 'kenealy', 'dyson', 'trezevant', 'de la vergne', 'mundt', 'zollinger', 'bornier', 'rouse', 'marchant', 'rostand', 'courtilz de sandras', 'larminie', 'mullins', 'rau', 'yechton', 'pennington', 'satterthwait', 'birdsall', 'de cou', 'macdonnell', 'cisneros', 'two friends', 'decle', 'lyulph', 'preindlsberger-mrazović', 'mījatović', 'dumont', 'pottle', 'elderkin', 'cunliffe-owen', 'hundley', 'fréchette', 'reilly', 'hitchcock', 'bullen', 'von arnim', 'lighton', 'connor', 'loth', 'profugus', 'nazarbekean', 'chesnutt', 'bosher', 'hilzinger', 'dickson', '\"quin\"', 'reekie', 'nicholl', 'tyndale', 'lagerlöf', 'murger', 'macy', 'brantôme', 'graul', 'slow', 'merezhkovsky', 'jeanne', 'pennypacker', 'neish', 'baxley', 'bloomingdale', 'mclennan', 'maclure', 'magnay', 'birt', 'burchell', 'chant', 'doissy', 'oxenham', 'twitchell', 'luther', 'slee', 'shibley', 'morette', 'walkey', 'pulitzer', 'prindle', 'hilles', 'benning', 'kinsella', \"l'oiseau\", 'ludovici', 'logan', 'galdemar', 'serviez', 'rodway', 'tuer', 'methvin', 'winfield', 'waggaman', 'clayton', 'kuppord', 'beck', 'close', 'borlase', 'tarkington', 'gash', 'ganthony', 'maguire', 'saintine', 'rook', 'cyrano de bergerac', 'lust', 'quinn', 'snedden', 'watanna', 'rougemont', 'mcilwaine', 'montagnac', 'sprigge', 'ritter', 'giddings', 'bevan', 'brémont', 'link', 'waldstein', 'caton', 'blackburn', 'crooke', 'caunter', 'hamsun', 'skram', 'mendum', 'harrod', 'walk', 'macgrath', 'whistler', 'ormerod', 'blackfan', 'corry', 'bagot', 'didier', 'sargent', 'bayne', 'drannan', 'burdett', 'dressel', 'hauser', 'stableton', 'paulding', 'katherine', 'belloc', 'adachi', 'simonds', 'hollingshead', 'dye', 'israëls', 'rodziewiczówna', 'teignmouth', 'mirbeau', 'golschmann', 'hilditsch', 'malagodi', 'meyer-foerster', 'sieroszewski', 'moberg', 'standish', 'rockwood', 'peake', 'bradish', 'trueman', 'sabatini', 'how', 'munyon', 'stark', 'bindloss', 'philostratus', 'des echerolles', 'kirkman', 'brake', 'ditrichstein', 'chiles', 'dessar', 'harboe', 'laut', 'hussey', 'macilwaine', 'lewinson', 'lilly', 'gairdner', 'croly', 'delannoy', 'gwynn', 'reimers', 'hahn-hahn', 'walloth', 'warre cornish', 'teegan', 'chartres', 'lamey', 'stickney', 'maddux', 'shackleton', 'pidgin', 'masterson', 'osbourne', 'mynderse', 'vynne', 'mcaulay', 'grismer', 'flynt', 'haskins', 'hurd', 'levere', 'hague', 'stebbing', 'la flesche', 'calmerton', 'caddick', 'ayr', 'eric', 'des écherolles', 'kaisenberg', 'thormanby', 'gallaher', 'hallifax', 'rizal', 'edson', 'neufeld', 'campan', 'perrault', 'deeney', 'london', 'foskett', 'vielé', 'mikszáth', 'ducrest', 'ferry', 'winterburn', 'orléans', 'boyes', 'gard', 'abrams', 'pinson', 'holyoake', 'bonsal', 'cowie', 'keays', 'banfield', 'mackin', 'světlá', 'gottfried', 'true', 'fisk', 'newland', 'lay', 'mouton', 'hadselle', 'epley', 'woodroffe', 'stendhal', 'borders', 'boas', 'skeat', 'mulets', 'lefevre', 'sturt', 'percival', 'kraber', 'opper', 'goose', 'wetherell', 'northrup', 'voorhies', 'la hire', 'gorky', 'eiríkr magnússon', 'orzeszkowa', 'bron', 'foulke', 'kauffman', 'govion broglio solari', 'blum', 'erokmann', 'swinburne', 'kayme', 'baillie', 'menefee', 'hazelton', 'runkle', 'looney', 'lichtenstein', 'wolfenstein', 'rosegger', 'louttit', 'snyder', 'djurklou', 'rousseau', 'dunlap', 'fenollosa', 'thorson', 'blackstone', 'cairnes', 'emory', 'aicard', 'pokagon', 'eubank', 'northrop', 'birge', 'silberrad', 'tache', 'boylan', 'lamballe', 'olds', 'prune', 'creed', 'blissett', 'headlam', 'conder', 'harband', 'imhaus', 'zack', 'lawrance', 'langton', 'macfadden', 'marnan', 'begbie', 'finnemore', 'rynd', 'outhwaite', 'vizetelly', 'teskey', 'wills', 'wyllarde', 'humphry', 'neilson', 'orgain', 'sharts', 'presbrey', 'paxson', 'home', 'dendron', 'sherlock', 'feuvre', 'thruston', 'zitkala-s̈a', 'logie', 'brounoff', 'guyse', 'randall diehl', 'fenton', 'tichborne', 'humphreys', 'steevens', 'spearman', 'bonehill', 'hoopes', 'rolfe', 'judd', 'st clair', 'singleton', 'grace', 'rolleston', 'sykes', 'skirving', 'goodsell', 'lespinasse', 'elisabeth', 'mclaws', 'funck-brentano', 'dibble', 'colcock', 'ensign', 'bignell', 'onions', 'salzscheider', 'van praag', 'pennoyer', 'frothingham', 'robson', 'tresahar', 'zero', 'minot', 'heady', 'newbigging', 'bremer', 'boone', 'limerick', 'sundowner', 'giovanni fiorentino', 'cornplanter', 'devinne', 'leddy', 'terton', 'maclagan', 'mckee', 'allison', 'binney', 'saki', 'kock', 'wiechmann', 'sousa', 'bacci', 'crowe', 'noguchi', 'weld', 'huneker', 'dumbarton', 'crothers', 'datchet', 'huebner', 'pettibone', 'maclane', 'lippmann', 'eiloart', 'atwater', 'fisguill', 'calderon', 'barnes-grundy', 'whitton', 'prevost', 'corrothers', 'veblen', 'grenell', 'calvin', 'carrillo', 'burgundy', 'burrow', 'heddle', 'grier', 'herner', 'jacob', 'iddesleigh', 'angus', 'meldrum', 'moulder', 'morehead', 'baynton', 'templeman', 'overstolz', 'nicolls', 'loux', 'argyle', 'sidner', 'tilton', 'sangster', 'savile', 'whitehouse', 'whitlock', \"m'gaw\", 'taggart', 'de berard', 'du boys', 'thrasher', 'tileston', 'wetmore', 'eyster', 'lillibridge', 'brainerd', 'storm', 'goy', 'headland', 'tibbits', 'mccullough', 'sheard', 'sadler', 'dorman', 'circassiene', 'antrobus', 'gerberding', 'hutten zum stolzenberg', 'crapsey', 'shute', 'willey', 'creelman', 'isham', 'warfield', 'litsey', 'macgowan', 'haufe', 'heidenstam', 'hügel', 'glentworth', 'sabin', 'manning-brewer', 'meissner', 'muddock', 'mccardell', 'jarrold', 'daulton agnes mcclelland', 'dague', 'betts', 'older', 'pocock', 'filcher', 'slocum', 'owens', 'lampton', 'partlow', 'olnhausen', 'potocka', 'apuleius', 'grego', 'davids', 'hayashi', 'faqīr dihlavī', 'cronise', 'caṭṭopādhyāẏa', 'blumenthal', 'jethabhai', 'hulbert', 'weil', 'higginbotham', 'marriage', 'whitmore', 'abrey', 'puddefoot', 'purves', 'winnington', 'avary', 'armfield', 'westrup', 'corbin', 'alborn', 'madison', 'pettengill', 'sonnichsen', \"roseboro'\", 'epinay', 'hagerty', 'champagne', 'carman', 'milecete', 'carr-harris', 'allonby', 'fennell', 'stringer', 'wathen-bartlett', 'pugh', 'kinkaid', 'wrixon', 'mcvickar', 'tyson', 'quint', 'molineux', 'ricker', 'trask', 'mcchesney', 'lyman', 'mcfaul', 'mccain', 'woolworth', 'broaker', 'miner', 'syrett', 'rutter', 'nicholls', 'oxley', 'cowles', 'lee-hamilton', 'stratton-porter', 'makin', 'rudd', 'deeping', 'nimrod', 'collin', 'sholl', 'moffett', 'jeffery', 'dasent', 'tilford', 'carling', 'kildare', 'morehouse', 'boyce', 'hansell', 'greaves', 'vaizey', 'shubael', 'parson', 'kenton', 'beadles', 'bateson', 'cullum', 'boult', 'work', 'deloney', 'brain', 'herbst', 'bisland', 'meyer-förster', 'daingerfield', 'horne', 'sandys', 'pilate', 'broghton', 'nease', 'charlesworth', 'bretherton', 'la voie', 'hillis', 'buffalo bill', 'monckton', 'mabel', 'mcgary', 'groff', 'văcărescu', 'ketcham', 'brodsky', 'multatuli', 'gilfillan', 'sorabji', 'bilse', 'welcker', 'geake', 'godwin', 'lafargue', 'redall', 'surbridge', 'mukharji', 'izett', 'mumford', 'wieland', 'castaigne', 'rawnsley', 'connolly', 'dillon', 'joubert', 'rickert', 'collodi', 'vosburgh', 'brampton', 'williston', 'henning', 'koons', 'van gorden', 'waltz', 'laceby', 'darrow', 'severy', 'baudissin', 'bearne', 'leeth', 'bédier', 'hemstreet', 'mcgrath', 'morrissey', 'herring', 'hickman', 'yoes', 'chater', 'kirkpatrick', 'le poer', 'brebner', 'causton', 'derville', 'strang', 'sutcliffe', 'trafford-taunton', 'terry', 'malling', 'siegel', 'michelson', 'hack', 'peple', 'washburne', 'bianco', 'mccants', 'lyne', 'lonargan', 'goodridge roberts', 'lesser', 'macbean', 'baxendale', 'finch', 'tybout', 'rideing', 'millard', 'morison', 'hannan', 'brudno', 'thynne', 'gardenhire', 'dopp', 'hinds', 'eggar', 'replogle', 'theadorer', 'corbyn', 'horniman', 'whitechurch', 'newsom', 'archbald', \"gul'bat\", 'pickard', 'carradine', 'festing', 'beekman', 'free', 'mangan', 'senour', 'ennery', 'bachelor', 'snead', 'stansbury', 'alcoforado', 'keeler', 'cullaton', 'eckstorm', 'lovell', 'evelyn', 'schertz', 'burne-jones', 'hedin', 'brenholtz', 'wasson', 'voth', 'braley', 'swanton', 'corlies', 'hambly', 'st luz', 'drachman', 'forder', 'winkley', 'la baere', 'dodgson', 'bramah', 'rowson', 'frenssen', 'crow', 'fernández guardia', 'brigham', 'higgenbotham', 'lazarre', 'makepeace', 'behn', 'andreyev', 'bromby', 'cone', 'hoffmann', 'chamblin', 'duniway', 'birmingham', 'callaway', 'masefield', 'camden', 'wilson-barrett', 'cripps', 'selph', 'tate', 'nixon', 'vachell', 'aubert de gaspé', 'mertins', 'prindiville', 'pattee', 'waddel', 'sterling', 'stokely', 'satchell', 'firbank', 'myrick', 'beyerlein', 'sothene', 'westover', 'waggoner', 'droz', 'mcalilly', 'massa', 'harry', 'travis', 'gedalius', 'neera', 'mock', 'valentine', 'jervey', 'babbie the egyptian', 'capwell', 'eytinge', 'deppen', 'gąsiorowski', 'crewdson', 'bascom', 'friend', 'rush', 'shorter', 'ghosh', 'mcneil', 'haas', 'coom', 'berton', 'lyons', 'wittigschlager', 'deledda', 'ready', 'hanscome', 'coon', 'fariss', 'gallizier', 'mortalis', 'gapon', '880-01', 'gunn', 'ruland', 'dracott', 'giffin', 'vincens', 'shioya', 'murrell', 'buffum', 'fitzhugh', 'murai', 'goncharov', 'watrous', 'peretz', 'brandes', 'weymann', 'myall', 'low', 'louthan', 'hopper', 'gaborlau', 'allman', 'hornblow', 'faversham', 'quick', 'warde', 'menpes', 'tapp', 'hutten', 'ambrosi', 'charnwood', 'donnell', 'nesbit', 'somerset', 'des sulles', 'louÿs', 'braendle', 'gowdy', 'blankman', 'quimby', 'glossop', 'anichkova', 'buckingham', 'hinkley', 'alderman', 'blakeman', 'brinton', 'castlemen', 'coggins', 'berrien', 'bedford', 'duer', 'hawtrey', 'fox-davies', 'galsworthy', 'gilliam', 'grundy', 'hering', 'kingsbury', 'lowerison', 'machar', 'macphail', 'barter-snow', 'dalby', 'demorgan', 'charlton', 'findlater jane helen', 'straus', 'whitelaw', \"author of elizabeth's children\", 'fould', 'macvane', 'shotland', 'shaffner', 'woodcock-savage', 'schuyler', 'rennolds', 'walcott', 'hobbs', 'brace', 'lent', 'kramer', 'de boos', 'blowitz', 'harker', 'beckman', 'deakin', 'mcnaught', 'kelman', 'slatus', 'berman', 'anethan', 'macdermott', 'la bédollière', 'stovall', 'ewald', 'bayes', 'bump', 'rideout', 'ruhl', 'fittis', 'price-brown', 'silvani', 'emanuel', 'mccall', 'baillie-saunders', 'du bose', 'guerrazzi', 'edge', 'statemeyer', 'hawks', 'aspinwall', 'suttner', 'pushkin', 'pasteur', 'swayze', 'stuntz', 'bashford', \"l'ester\", 'newte', 'ruete', 'colum', 'peele', 'grayson', 'tarbell', 'delevante', 'kremmer', 'cipriani', 'washington', 'plunkett', 'hurt', 'prentis', 'bernhardt', 'dressler', 'mulford', 'mcandrew', 'mcgirt', 'obenchain', 'farnol', 'whiting', 'tateum', 'one who lived there', 'jacobi', 'penfield', 'bronson-howard', 'muri', 'herbin', 'blackwood', 'cuchulain', 'verhoeff', 'bowne', 'hewitt', 'tozier', 'wadham', 'rider', 'espy', 'hayllar', 'hueffer', 'hilliers', 'leverson', 'meadows', 'askew', 'dahlinger', 'de sélincourt', 'oldmeadow', 'vǎcǎrescu', 'whitcomb', 'pendexter', 'mantle', 'hannis', 'gourlay', 'kyle', 'borne', 'brewer', 'aitken', 'ambler', 'harkness', 'trubetskoĭ', 'covey', 'votaw', 'bloxam', 'isaman', 'neihardt', 'strobridge', 'constant', 'schofield', 'josaphare', 'rabb', 'van denburgh', 'halphide', 'colestock', 'steiner', 'halifax', 'goodkind', 'mccarter', 'dugger', 'dalziel', 'cleghorn', 'sabelberg', 'mcreynolds', 'carcano', 'ransome', 'hartmann', 'partrige', 'geen', 'kittrell', 'ewell', 'strachery', 'belasco', 'eeden', 'ager', 'loliée', 'dease', 'flecker', 'roulet', 'gowen', 'naṭeṣa ṣāstrī', 'mackey', 'jeanrenaud', 'paxton', 'scoble', 'winn', 'nirdlinger', 'augustine', 'gerry', 'strauss', 'plummer', 'wissler', 'summerhayes', 'bronson', 'howell', 'le rossignol', 'montespan', 'christine', 'gordon smith', 'abelard', 'hyatt', 'vorse', 'chekhov', 'tourtel', 'elckert', 'stollnitz', 'erauso', 'lilburn', 'abarbanell', 'kleiser', 'pettie', 'ruggles', 'bennet', 'corner', 'ayscough', 'waddington', 'winchevsky', 'viebig', 'barnaby', 'schwacofer', 'mordaunt', 'rinehart', 'speke', 'merrit', 'alsbury', 'rosenkrantz', 'mercedes', 'workman', 'zogbaum', 'bianchi', 'enright', 'dyar', 'durley', 'garrold', 'lansdowne', 'langbridge', 'spottiswoode', 'michael michaelowitch', 'mygatt', 'copping', 'freemantle', 'annesley', 'curties', 'dearmer', 'de saix', 'fitz-maurice', 'villiers-stuart', 'wales', 'fairman', 'wentworth-james', 'bascle de lagrèze', 'cena', 'nevin', 'lusk', 'megargel', 'sappington', 'pinkham', 'ridgely', 'royle', 'haselden', 'haywood', 'mccahan', 'oakstone', 'mcilhany', 'bausman', 'atkey', 'müller', 'dewey', 'theobald', 'guinan', 'kinkade', 'macbride', 'curwood', 'grimshaw', 'cayley', 'torrance', 'szymanowski', 'ryder', 'seagram', 'surev', 'stirling', 'neff', 'wenz', 'marrs', 'uncle milton', 'donworth', 'j©đkai', 'jørgensen', 'van westrum', 'magens', 'wilberforce', 'antrim', 'landa', 'goodridge', 'diver', 'raffalovich', 'houmas', 'klarmann', 'tatum', 'mcclung', 'molnár', 'maxwell-scott', 'solis-cohen', 'lewisohn', 'bojer', 'sindell', 'bayliss', 'elison', 'donahey', 'totten', 'weindel', 'bompas', 'ver beck', 'garity', 'harman', 'stanard', 'lowie', 'tibbetts', 'spargo', 'harney', 'küchler', 'glaspell', 'vaka', 'craufurd', 'gunder', 'grautoff', 'marcy', 'blasco ibáñez', 'wood-allen', 'narodny', 'patton', 'roundell', 'lemaître', 'kaye-smith', 'baring', 'dejeans', 'brokaw', 'mallory', 'catling', 'pinfold', 'frary', 'sandeman', 'strouse', 'biss', 'bickerstaffe-drew', 'dey', 'thoreau', 'turquan', 'calthrop', 'erckman', 'cottrell', 'teresa', 'broderick', 'famous', 'hindley', 'montenegro', 'ormond', 'dillin', 'dekay', 'crayon', 'klein', 'beeckman', 'colleton', 'estabrook', 'hackley', 'darby', 'dunning', 'courlander', 'düring', 'coulevain', 'tripp', 'spoth', 'mcneely', 'ronzone', 'henshaw', 'kimmell', 'stoll', 'allyn', 'earl', 'ely', 'vinson', 'spaulding', 'ross-johnson', 'sauntering silas', 'bailly', 'wason', 'varney', 'marny', 'nead', 'mitra', 'deverell', 'kaler', 'whitworth', 'verrall', 'bécquer', 'cramp', 'degruchè', 'singmaster', 'mantegazza', 'pasture', 'mirabeau', 'ingram', 'doudy', 'ivey', 'iglehart', 'edgerly', 'rothfield', 'winstanley', 'bogue', 'metour', 'chancellor', 'bohan', \"o'sheridan\", 'boucicault', 'somerville', 'cardigan and lancastre', 'de waters', 'whalley', 'bratten', 'giovanni', 'daring', 'betty', 'grattan', 'cléry', 'potts', 'eekhoud', 'henham', 'autié', 'shurter', 'sapir', 'dayrell', 'ragan', 'mixson', 'sampter', 'hartshorn', 'demeritt', 'jonhston', 'angle', 'lucia', 'quarrie', 'honeij', 'brokmeyer', 'orem', 'showerman', 'dunsany', 'niebuhr', 'macdougall', 'taki', 'cuppy', 'racovița', 'ganzhorn', 'jacques', 'lorey', 'cuthbertson', 'huntly', 'hatcher', 'sheets', 'sharber', 'holt-white', 'dáuvergne', 'lawler', 'neale', 'vorys', 'brazil', 'hoskier', 'malkiel', 'patchin', 'slevers', 'shedlock', 'wallin', 'melton', 'vivanti', 'eager', 'arkins', 'cleaves', 'breck', 'hammarström', 'waters', 'mathewson', 'grissom', 'bertelli', 'otterbein', 'corkey', 'constantini', 'byron', 'sterns', 'daviess', 'hersey', 'goodnow', 'ironside', 'landau', 'macbeth', 'bosworth', 'bushnell', 'boyles', 'dorrington', 'fenwick', 'stockley', 'tuck', 'mckishnie', 'merrow', 'mordecai', 'marcin', 'egleston-hinman', 'wattles', 'beyerle', 'hutchins', 'goldsborough', 'goldfrap', 'spooner', 'appleton', 'fillmore', 'claussen', 'zeigen', 'schell', 'binnie-clark', 'rolland', 'voorhees', 'fincher', 'bain', 'le plastrier', 'blunt', 'ranney', 'landis', 'pumphrey', 'racowitza', 'jamieson', 'warner-reitz', 'machray', 'de la mare', 'niven', 'schwann', 'orthwein', 'martyr', 'makino', 'northcliffe', 'creswick', 'soutar', 'sturdevant', 'schock', 'hawke', 'knipe', 'cupus', 'pilling', 'jones-bacon', 'whitman', 'woodbury', 'shoop', \"o'ryan\", 'price brown', 'pleasants', 'lounsberry', 'remick', 'leroux', 'gravice', 'cannan', 'plutarch', 'herkomer', 'hightower', 'canning', \"o'donnell\", 'paoli', 'macon', 'wellens', 'turtle', 'eggert', 'schäffer', 'winch', 'abraham', 'huff', 'toscana', 'scull', 'bagg', 'ferber', 'dreiser', 'borup', 'racoviţa', 'wedekind', 'rooks', 'soissons', 'salamon', 'blackman', 'wagentreiber', 'aix', 'malloch', 'severn', 'glass', 'husband', 'walston', 'dimitry', 'bunbury', 'warrack', 'richberg', 'bittenbender', 'nassau', 'figgis', 'arrighi', 'heyliger', 'rooker', 'gostling', 'job', 'byrum', 'zimmerman', 'ribeiro', 'dilley', 'bellinger', 'herbertson', 'kaup', 'brandane', 'moseley', 'callaghan', 'colvin', 'openshaw', 'serviss', 'vahey', 'boissiere', 'boissière', 'sangree', 'oyen', 'scala', 'penrose', 'pattulo', 'augusta', 'wherry', 'sale', 'sumerwell', 'hodge', 'gavf', 'hansbrough', 'janis', 'weitbrec', 'haworth', 'trepoff', 'kummer', 'michaëlis', 'angellotti', 'lawton', 'darlington', 'cash', 'takizawa', 'streatfeild', 'emmeline doulton of miramar', 'hobday', 'strunsky', 'vandercook', 'louise antoinette marie', 'chotzner', 'rushden', 'aimir', 'acorn', 'sarver', 'castellane', 'whibley', 'snaith', 'teall', 'pattullo', 'pickett', 'stuyvesant', 'wishar', 'footner', 'valerga', 'denby', 'slattery', 'hassell', 'audoux', 'brockway', 'keyes', 'reeks', 'marsland', 'nevill', 'tudor', 'pawlowska', 'troly-curtin', 'paoli xavier', 'lemonnier', 'fleur de lys', 'gowans', 'wingate', 'tailor', 'bluff', 'serl', 'gillpatrick', 'antin', 'blythe', 'brinsmade', 'hile', 'grundtvig', 'ishikawa', 'stawell', 'cudahy', 'biron', 'benn', 'leacock', 'randle', 'drain', 'macris', 'dowd', 'lockling', 'han', 'grimmelshausen', 'steinheil', 'lermontov', 'rossmore', 'gjellerup', 'dragoumē', 'cohn', 'böhme', 'gourmont', 'prabhat kumar mukerji', 'crutchley', 'slade', 'downie', 'viereck', 'woodbridge', 'stellwagen', 'ellett', 'hauptmann', 'esenwein', 'duffey', 'cocke', 'colcord', 'lambourne', 'hichborn', 'rhead', 'régnier', 'strindberg', 'frances', 'newbold', 'mug', 'bordeaux', 'jaques', 'dalrymple', 'genung', 'van sickle', 'treadwell', 'costantini', 'britt', 'magoun', 'dillenback', 'delano', 'chesterman', 'courtney', 'goldring', 'lipsett', 'marlin', 'weyant', 'burn', 'carry', 'alphonso', 'westermayr', 'châteaubriant', 'goron', 'prost', 'st leger', 'berkman', 'lowrie', 'simonton', 'maniates', 'hazeltine', 'wedge', 'quirk', 'munger', 'gillespie', 'jenison', 'wilby', 'mccauley', 'tootle', 'sherwen', 'krausz', 'knibbs', 'latta', 'kenniston', 'hamel', 'lauer', 'driant', 'searcy', 'tassart', 'herzog', 'whitehorn', 'poulsson', 'maynell', 'chesterton', 'barthez', 'st quintin', 'swain', 'lohde-boetticher', 'clarendon', 'zwilgmeyer', 'knights', 'tregarthen', 'spivey', 'reville', 'sandes', 'crosman', 'mackellar', 'wren', 'gerstenberg', 'buell', 'selous', 'gaulot', 'vazov', 'mcmurdy', 'léonard', 'hallett', 'swinnerton', 'knowles-foster', 'judith', 'duckworth', 'mudd', 'fee', 'popp', 'mountjoy', 'ostler', 'ralphson', 'shook', 'runa', 'brentwood', 'worden', 'weltmer', 'der ling', 'new car', 'hookham', 'hearle', 'franck', 'bryusov', 'stamper', 'steventon', 'tremearne', 'vansittart', 'childers', 'mayne', 'pringle', 'jarrell', 'woodard', 'studabaker', 'adcock', 'parish', 'zeyneb', 'gundelfinger', 'mccracken', 'macintyre', 'redman', 'de long', 'micheaux', 'heydrick', 'wallersee-larisch', 'steegmann', 'chrétien', 'andersen nexø', 'biggers', 'ryus', 'farnsworth', 'stoi͡anov', 'dames', 'dahlke', 'burks', 'hofmanowa', 'anthon', 'demetrios', 'crosthwaite', 'whelan', 'halloran', 'allinson', 'money-coutts', 'kratzer', 'tinayre', 'aldridge', 'gielow', 'rohmer', 'pepys', 'benda', 'dawley', 'farrington', 'de camp', 'mätter', 'doling', 'denny', 'chirm', 'dwight', 'goad', 'langer', 'mcevoy', 'horlick', 'keith fraser', 'marchand', 'manners', 'nethersole', 'blount', 'coke', 'quin', 'rittenberg', \"l'ermite\", 'dusserre', 'stiles', 'macharg', 'thaumazo', 'mulder', 'pitman', 'townes', 'prouty', 'turpin', 'trites', 'tapman', 'cressy', 'greenberg', 'lerrigo', 'kuhn', 'aplington', 'kelland', 'pittenger', 'turley', 'tearle', 'pu', 'mongiardini rembadi', 'hallé', 'meloney', 'schnitzler', 'howes', 'francke', 'holdenby', 'deamer', 'dinga', 'lowis', 'redgrave', 'nivedita', 'stanton', 'braby', 'montluc', 'brandt', 'engelbach', 'kyne', 'moroso', 'hine', 'elson', 'methley', 'van der goes', \"o'donovan\", 'danger', 'topham', 'dowdall', 'bax', 'canty', 'svensson', 'im', 'watt', 'gladden', 'mille', 'muñoz escámez', 'borden', 'walbourn', 'pedley', 'vale', 'van norman', 'colette', 'dunne', 'stauffer', 'gubbins', 'wollaston', 'radin', 'mackintosh', 'loring', 'callison', 'tagore', 'mccorkle', 'zanardi landi', 'lanham', 'flagg', 'spence', 'barbee', 'sly', 'mcdevitt', 'lunn', 'sukloff', 'ferrero', 'block', 'maxcy', 'guicciardi-fiastri', 'bloem', 'pim', 'henrey', 'wyndham', 'tressell', 'buffet', 'keate', 'tsanoff', 'sharman', 'mainwaring', 'hannett', 'wolzogen', 'starr', 'cheley', 'fall', 'carton', 'buckland', 'buford', 'covert', 'barcus', 'croy', 'girardeau', 'helston', 'mundy', 'bottome', 'cribb', 'curle', 'stacpoole', 'wallis', 'wild', 'purdon', 'van schaick', 'owings', 'schubert', 'pahlow', 'osmun', 'pulver', 'sterrett', 'stow', 'kingstandish', 'lauferty', 'jolsdorf', 'hartman', 'havens', 'stoothoff', 'leeson', 'kreymborg', 'braddock', 'griswold', 'reynès-monlaur', 'tolstoĭ', 'brooksbank', 'romains', \"o'hanrahan\", 'tooker', 'milligan', 'goodbird', 'jessen', 'urner', 'ulfers', 'hewett', 'macmunn', 'drouet', 'saxton', 'pillsbury', 'wende', 'hagedorn', 'holme', 'ashmun', 'seddon', 'prydz', 'cooper-mathieson', 'coutts', 'tremlett', 'skrine', 'ghosal', 'reagan', 'metelerkamp', 'buskett', 'millner', 'olcott', 'froest', 'shaler', 'concannon', 'la barre', 'dorchain', 'grogan', 'mallet', 'beggs', 'linderman', 'devi', 'scoville', 'gleason', 'girling', 'kephart', 'cockrum', 'gauss', 'whipple', 'guthrie', 'thorndike', 'baden-powell of gilwell', 'petrovitch', 'benecke', 'magnus', 'mcilvaine', 'de selincourt', 'steinberg', 'przybyszewski', 'kraft', 'mcvoy', 'dewar', 'voûte', 'cimino', 'officer of the \"die hards\"', 'veer', \"d'auvergne\", 'nemirovich-danchenko', 'hergesheimer', 'vollard', 'wight', 'buschlen', 'thorne-thomsen', 'suklov', 'mcalpine', 'younge', 'don-carlos', 'chambrun', 'clyde', 'elwood', 'drago', 'bamfylde', 'ruck', 'ostrander', 'worral', 'needham', 'tillinghast', 'reid-girardot', 'pelton', 'münsterberg', 'widdemer', 'strahan', 'bluntach', 'hallet', 'walther', 'walling', 'hendryx', 'gaillard', 'hueston', 'mcmaster', 'bleneau', 'megrue', 'grover', 'york', 'veselitskai͡a', 'harbord', 'makgill', 'barbeau', 'england', 'filkin', 'westerman', 'cornell', 'blundell', 'scherr', 'littlefair', 'keesing', 'van loan', 'ffoulkes', 'sargant', 'satterlee', 'roland', 'streuvels', 'sadleir', 'carhart', 'lynd', 'akin', 'proctor', 'buckle', 'bartimeus', 'ødegaard', 'gordon-cumming', 'selborne', 'strother', 'de benneville', 'lyles', 'huard', 'levinson', 'grendon', 'morlae', 'gallishaw', 'pente', 'meade', 'shawmeker', 'maxim', 'caswell', 'tryon', 'julius', 'tree', 'cranston', 'de loghe', 'pyke', 'berger', 'dupont', 'treble', 'pressey', 'stapp', 'meigs', 'mitchel', 'warr', 'stilgebauer', 'linebarger', 'colonel', 'zurcher', 'artsybashev', 'la motte', 'finaughty', 'horsfall', 'conradi', 'leathem', 'hubbell', 'dery', 'claiborne', 'blinn', 'burnet', 'hannah', 'harcourt', 'ellerbe', 'de meyer', 'mosby', 'corcoran', 'stottle', 'ó súilleabháin', 'flansburgh', 'boylesve', 'probyn', 'addams', 'stagg', 'nyburg', 'luehrmann', 'mcnealus', 'shapiro', 'meacham', 'seavy', 'swafford', 'hilton-turvey', 'lait', 'huston', 'swetnam', 'graeve', 'kline', 'kussy', 'olmstead', 'appel', 'whitehill', 'guptill', 'bear', 'creevey', 'barnum', 'dymow', 'gaëll', 'neogi', 'debogoriĭ-mokrïevich', 'de ryee', 'dupuy', 'stoughton holbourn', 'murry', 'turczynowicz', 'aumonier', 'saint-hilaire', 'marlow', 'tobenkin', 'titus', 'sapper', 'safroni-middleton', 'osmond', 'parlette', 'bairnsfather', 'lethbridge', 'miniter', 'taffrail', 'mclaurin', 'lardner', 'breitenbach', 'murtha', 'orr', 'macbrayne', 'aleksinskaia', 'pellett', 'mercy-argenteau', 'yard', 'torrence', 'coope', 'goltz', 'siddall', 'coussens', \"o'kane\", 'eyerman', 'leaverton', 'rességuier', 'nothwang', 'saltykov', 'pulman', 'baudiš', 'ridder', 'cockery', 'stuckenberg', 'mickiewicz', 'lappo-danilevskai͡a', 'mckenna', 'géraldy', 'lintier', 'ragsdale', 'ispirescu', 'creighton', 'bercovici', 'priestman', 'bilbro', 'rendall', 'portor', 'erichsen', 'bartley', 'martindale', 'mījatovīć', 'art͡ybashev', 'crownfield', 'kellerhouse', 'currey', 'rumsey', 'cade', 'hermes', 'applegarth', 'winlow', 'chidley', 'pettman', 'brill', 'müliër', 'crowell', 'cutler', 'gabriel', 'gorell', 'grant watson', 'keable', 'kerruish', 'abdullah', 'cumings', 'wadsley', 'vanzype', 'scandlin', 'stitzer', 'maddox', 'alla', 'zahn', 'musson', 'waste', 'hines', 'borofsky', 'garrison', 'hutchings', 'weston', 'willacy', 'kofoed', 'foucher', 'berkebile', 'closser', 'sancho', 'hankey', 'barbusse', 'barzini', 'gruelle', 'danilevskïĭ', 'hainsselin', 'squire', 'landtman', 'bogoras', 'elizabeth', 'gade', 'douie', 'farley', 'provost', 'corkery', 'bainbridge', 'brubaker', \"o'kelly\", 'childe', 'bjelke-petersen', 'altman', 'yeo', 'saylor', 'hemenway', 'duffield', 'farrère', 'inness', 'colver', 'freehoff', 'paget', 'mccaleb', 'shuler', 'firman', 'friedlander', 'lauler', 'duhamel', 'gipsy', 'hodson', 'mauran', 'klickmann', 'malherbe', 'whitehair', 'liveing', 'withey', 'gillilan', 'kehoe', 'mcmullen', 'mardiganian', 'depew', 'mouchanow', 'bagenal', 'gorgas', 'root', 'varley', 'proppèr', 'grow', 'badley', 'alsop', 'broun', 'frazer', 'vasili', 'stillwell', 'geer', 'richthofen', 'krunich', 'cassells', 'wolcott', 'iles', 'neal', 'boschère', 'mccormack', 'blest gana', 'cieza de león', 'lutes', 'segovia', 'schweikert', 'murrill', 'maccarthy', 'méléra', 'quackenbos', 'violette', 'schenkofsky', 'mathiews', 'shepherd', 'beecham', 'nadaud', '\"wings\"', 'silber', 'larrouy', 'fabre', 'isaacson', 'sites', 'bagnold', 'gore', 'wagnalls', 'vanardy', 'demens', 'beckley', 'dyke', 'deil', 'flatau', 'taft', 'pertwee', 'mahon', 'mcmillan', 'shields', 'bend', 'pace', 'will', 'hirsch', 'bowers', 'gatlin', 'gilbreath', 'goldsberry', 'theiss', 'aldis', 'royce', 'hofman', 'lamprey', 'lark', 'vallotton', 'new', 'empey', 'fahs', 'le roux', 'spin', 'therese', 'chaudhuri', 'hasanovitz', 'coster', 'boreham', 'taketomo', 'cramb', 'cox-mccormack', 'swayne', 'fetterless', 'levinger', 'guild', 'macfarlan', 'cronin', 'mccrae', 'leverage', 'cammaerts', 'hockin', 'guiches', 'omessa', 'pallen', 'wickwar', 'haigh', 'acosta', 'applegate', 'tweedale', 'thrift', 'muse', 'nordhoff', 'carlo', 'gass', 'purdy', 'lazar', 'straub', 'farré', 'shands', 'guttersen', 'ashford', 'cyriax', 'futabatei', 'bochkareva', 'sunity devee', 'spadoni', 'clemenceau', 'mapu', 'waddell', 'blankenhorn', 'ānanda āchārya', 'oemler', 'sleath', 'pedler', 'huzard', 'abdy', 'karsner', 'mcmasters', 'klecanda', 'arlen', 'beston', 'bidder', 'apjohn', 'etienne', 'de blácam', 'higley', 'ferraro', 'pelley', 'robey', 'dessauer', 'deprend', 'bruère', 'cohan', 'fauley', 'canby', 'byrd', 'creswell', 'slaney', 'bjelke petersen', 'winsor', 'bertrand', 'chauvelot', 'vandérem', 'conroy', 'mckowan', 'van slyke', 'chipperfield', 'neidig', 'sweet', 'fuessle', 'white birch', 'akins', 'achorn', 'laselle', 'frentz', 'acland', 'hólmfríður árnadóttir', 'yver', 'villa', 'gavit', 'trick', 'kreutz', 'des vignes rouges', 'sloane', 'iogolevitch', 'la varre', 'lorenzini', 'speigel von und zu peckelsheim', 'greening', 'pinski', 'deane', 'le roy', 'urquhart', 'weyl', 'boxwallah', 'maurois', 'agate', 'shaw fullilove', 'fortescue-brickdale', 'mcculley', \"o'duffy\", 'tillson', 'shanks', 'bullivant', 'roupnel', 'hichen', 'cookson', 'bolenius', 'mercier', 'hopford', 'haze', 'gauguin', 'wilbur', 'cadmus', 'laurie', 'parks', 'hapai', 'lenglen', 'mac kenzie', 'sanchez', 'center', 'rihbany', 'dos passos', 'aranha', 'hrbkova', 'carpentier', 'reymont', 'blanco-fombona', 'pérez de ayala', 'wassermann', 'eje', 'benoît', 'masters', 'moorman', 'warburton', 'jessup', 'schem', 'millin', 'mikels', 'grozier', 'tunnicliff', 'bryher', 'cull', 'harden', 'lyell', 'macmurchy', 'wildridge', 'schaeffer', 'mackall', 'herr', 'conval', 'carswell', 'castier', 'leadbitter', 'galway', 'patri', 'duganne', 'mcmichael', 'leach', 'klitgaard', 'linton', 'ovington', 'magnussen', 'seibe', 'ullman', 'dingle', 'clancy', 'crabb', 'conquest', 'hiram', 'evarts', 'jonas', 'mander', 'monkhouse', 'moult', 'nesbitt', 'brighouse', 'basset', 'binns', 'townshend', 'nylen', 'longstreth', 'loose', 'maule', 'roof', 'mix', 'ridsdale', 'wickham', 'hingston', 'ganachilly', 'lombardi', 'zimm', 'mcconn', 'levison', 'garth', 'ginther', 'havard', 'donald', 'werich', 'sadger', 'patch', 'benoît', 'lofting', 'sister of notre dame', 'bosschère', 'moton', 'rutzebeck', 'dobie', 'pearl', 'mcgibeny', 'romer', 'marx', 'maclysaght', 'sayce', 'woodworth', 'yezierska', 'matlack', 'de fremery', 'leevier', 'de laney', 'ganz', 'malins', 'juta', 'nałkowska', 'kalpashnikov', 'rising', 'frederick', 'salyer', 'mayran', 'rickards', 'withers', 'silvers', 'meiklejohn', 'chatham', 'tallemant des réaux', 'baylebridge', 'hodgson', 'buddhaghosa', 'towne', 'heming', 'fergus', 'corthell', 'tongue', 'sanger', 'strange', 'naayem', 'chappell', 'leisman', 'harmon', 'tanūkhī', 'alington', 'herodas', 'byng', 'kantakuzen', 'linnankoski', 'geijerstam', 'hémon', 'duran', 'tietjens', 'wadia', 'courtis', 'huxley', 'popović', 'van vechten', 'drinkwater', 'borley', 'casserly', 'davey', 'bibesco', 'hulit', 'van meter', 'tanner', 'wickes', 'fleuron', 'mcwilliams', 'kearney', 'hawes', 'hecht', 'pizarro', 'rein', 'batten', 'jordon', 'schoeler', 'barson', 'briarly', 'brent', 'fenger', 'chitwood', 'chown', 'broyles', 'molnar', 'baulsir', 'coles', 'burleson', 'ellsworth', 'howarth', 'durell', 'knittel', 'mcallister', 'mackail', 'noblitt', 'merrel', 'reyher', 'stayton', 'weigall', 'stair', 'minnigerode', 'pettee', 'plante', 'samuel', 'de plume', 'railey', 'hepburn', 'kahler', 'kafka', 'gelzer', 'hamill', 'hamby', 'hankins', 'heard', 'gue', 'waheenee', 'amy', 'fry', 'langford', \"o'neil\", 'dorgelès', 'krapp', 'rudwin', 'almond', 'baltzer', 'ó conaire', 'cronk', 'martínez sierra', 'branner', 'metternich-winneburg', 'aikman', 'alder', 'wick', 'newcomb', 'terrill', 'moorehouse', 'tozzi', 'fairfax', 'roper', 'debenham', 'duvernois', 'gwynne', 'gunnarsson', 'battersea', 'greenbie', 'omori', 'wilhelm', 'loveland', 'soskice', \"officer's wife\", 'goldin', 'herben', 'bradby', 'berend', 'immanuel', 'arène', 'weitzel', 'walkley', 'furphy', 'wightman', 'nankivell', 'scrymsour', 'firdawsī', 'gonzales', 'tubby', 'goodkin', 'mcatee', 'coward', 'monks', 'corby', 'untermeyer', 'spickler', 'creel', 'austrian', 'verrill', 'sandburg', 'gerhardie', 'proust', 'macklin', 'ossendowski', 'calvé', 'congreve', 'maran', 'eckenrode', 'dukes', 'prodgers', 'buchholtz', 'hallström', 'formont', 'franking', 'marquand', 'saint denis', 'chatterjee', 'björkman', 'kraemmer', 'squier', 'shane', 'mukerji', 'allan', 'aria', 'benchley', 'cotten', 'poate', 'dilg', 'robison', 'heilner', 'looms', 'nutter', 'fairbank', 'mallarmé', 'plüschow', 'dehn', 'kehler', 'burnette', 'sconce', 'musser', 'gilmer', 'zern', 'crutch', 'choquet', 'caskie', 'brummitt', 'beer', 'dorrance', 'goulding', 'lauriston', 'copplestone', 'milton', 'chipp', 'caven', 'dougherty', 'tremaine', 'treynor', 'escholier', 'pérochon', 'speare', 'waldron', 'stowell', 'gayton', 'gartland', 'watkins', 'macconnell', 'swasey', 'toohey', 'mcalister', 'hildebrand', 'guernon', 'friel', 'eby', 'bechdolt', 'purcell', 'newgeon', 'shetter', 'chilton', 'shearon', 'gate', 'labelle', 'lavell', 'echols', 'chimay', 'baiocco', 'dooley', 'pulling', 'fagan', 'grove', 'saint-rené taillandier', 'pence', 'powell-anderson', 'clementia', 'dallett', 'nihāl cand lāhaurī', 'carrick', 'matz', 'jaisohn', 'hemphill', 'bonsels', 'stradling', 'sebright', 'hills', 'vanderbilt', 'upright', 'brookes', \"o'conor\", 'anker', 'blunden', 'mcloughlin', 'blaker', 'pithouse', 'garvin', 'hallock', 'dinnis', 'schulkers', 'sītā debī', 'norwood', 'van brakkel', 'henney', 'afghan', 'durkin', 'baerlein', 'tallents', 'tuckerman', 'ashby', 'eyton', 'fønhus', 'fyleman', 'seth-smith', 'ressich', 'noland', 'de huff', 'walden', 'batley', 'mcalmon', 'speakman', 'mikkelsen', 'biggs', 'paulson', 'goodchild', 'gaul', 'adolph', 'caṭṭopādhyāya', 'stroebe', 'olivier', 'bromfield', 'hon', 'champneys', 'granberry', 'jeffers', 'grieg', 'coyle', 'lehmann', 'gunther', 'le may', 'tanizaki', \"o'flaherty\", 'ostenso', 'atkins', 'lagerlöf', 'von tempski', 'wylie', 'parmenter', 'dobrée', 'bang', 'verschoyle', 'komroff', 'gorman', 'deutsch', 'herron', 'de la roche', 'st johns', 'toksvig', 'natsume', 'werfel', 'undset', 'klabund', 'carco', 'earl of beaconsfield', 'arno', 'detzer', 'balint', 'leblond', 'andersen', 'salverson', 'augsburg', 'copeland', 'ertz', 'kimber', 'march', 'chute', 'corley', 'anet', 'busson', 'savi', 'thiess', 'peterkin', 'zweig', 'istrati', 'larsen', 'hummel', 'benefield', 'perutz', 'lim boon keng', 'napier', 'feuchtwanger', 'gobineau', 'crébillon', 'montherlant', 'sachs', 'wescott', 'daṇḍin', 'venkataramani', 'sheean', 'darion', 'riesenberg', 'coatsworth', 'thomason', 'mrs miln', 'beaton', \"o'shaughnessy\", 'cazotte', 'lenski', 'haldane', 'kallas', 'keymborg', 'mcpherson', 'royde-smith', 'calling himself marquis of pharnusa grosse', 'grosse', 'diderot', 'cendrars', 'morand', 'seldes', 'duchêne', 'aubry', 'bryner', 'giraudoux', 'kossak', 'voisenon', 'springs', 'mercer', 'restif de la bretonne', 'orton', 'mrs ralston', 'oyved', 'arny', 'fairgrieve', 'hornell', 'villadolid', 'raucat', 'faulkner', 'beauclerk', 'heyward', 'butts', 'matson', 'anker-larsen', 'zeitlin', 'benét', 'marshal', 'søiberg', 'martin du gard', 'farrère', 'earl of', 'chikamatsu', 'ganguli', 'hosken', 'cannon', 'barretto', 'eddison', 'sandy', 'sitwell', 'delteil', 'haraden', 'walrond', 'zùccoli', 'cauffman', 'azevedo', 'suckow', 'henriot', 'elser', 'bodenheim', 'plomer', 'bunin', 'duke', 'cankar', 'hormel', 'dixelius', 'gulick', 'santee', 'teixeira de mattos', 'mauthner', 'jegerlehner', 'pseud nadejda', 'nadejda', 'wembridge', 'hertzman', 'aldanov', 'sommi-picenardi', 'quevedo', 'palen', 'kim', 'topsell', 'akeley', 'stabell', 'keroubec', 'deitrick', 'younghusband', 'cobham', 'čapek', 'meherin', 'verona', 'lady', 'bullett', 'finger', 'oursler', 'golden', 'sparling', 'muilenburg', 'knevels', 'kellermann', 'oskison', 'chichester', 'ogawa', 'mrs larsen', 'mitchison', 'macclure', 'davison', 'marion', 'cline', 'omerod', 'sieveking', 'palacio valdés', 'arishima', 'galli de bibiena', 'bilby', 'woodward', 'la prade', 'chivas-baron', 'kilpatrick', 'schroeder', 'stallings', 'eiker', 'bryne', 'miró', 'cocteau', 'kagawa', 'pseud afghan', 'hamlin', 'loesch', 'selvidge', 'goodspeed', 'blasco ibáñez', 'guazzo', 'dirr', 'hurley', 'sugimoto', 'charrière', 'charrière', 'picken', 'la fayette', 'loos', 'grishina-givago', 'burlingame', 'esme', 'valle-inclán', 'heller', 'grew', 'colwell', 'hackett', 'timmermans', 'mcneile', 'hext', 'espina', 'asterisk', 'kinney', 'brlić-mažuranić', 'mardrus', 'bachmann', 'fellom', 'de france', 'june', 'mavity', 'baronne', 'macardle', 'stilson', 'zami͡atin', 'elvestad', 'borland', 'pascal', 'richter', 'lippincott', 'macorlan', 'alemán', 'merz', 'hémon', 'pilʹni͡ak', 'shenton', 'dunraven', 'bergman', 'seitz', 'mrs thorpe', 'rung', 'drayton', 'blakeborough', 'bonser', 'céard', 'adıvar', 'milburn', 'mrs chadwick', 'fauset', 'thoms', 'verhaeren', 'lhotzky', 'khwájah', 'brontë', 'frohne', 'anstruther-thomson', 'laclos', 'bellah', 'bourn', 'siwertz', 'broster', 'stettheimer', 'regis', 'bickley', 'mukherji', 'thévenin', 'pérochon', 'lascelles', 'sayers', ' thomas', 'adès', 'renard', 'borgese', 'trotsky', 'simon', 'cornyn', 'southon', 'latham', 'vildrac', 'traill', 'kilmer', '\"red heather\"', 'van santvoord', 'cobbold', 'libedinskiĭ', 'vail', 'ring', 'myles', 'stidger', 'shastid', 'southerns', 'kearton', 'achilles tatius', 'quiroga', 'jupp', 'gaylord', 'fales', 'banta'])"
      ]
     },
     "execution_count": 14,
     "metadata": {},
     "output_type": "execute_result"
    }
   ],
   "source": [
    "solo_names.keys()"
   ]
  },
  {
   "cell_type": "code",
   "execution_count": 15,
   "metadata": {},
   "outputs": [],
   "source": [
    "pickle.dump(authors_by_last_name,open('author_last_name_dict.pkl','wb'))"
   ]
  },
  {
   "cell_type": "code",
   "execution_count": 16,
   "metadata": {},
   "outputs": [],
   "source": [
    "#Note: this function needs a lot of work!!!\n",
    "\n",
    "# 1. titles list is incomplete\n",
    "# 2. assumes surname will be one word\n",
    "# 3. returns empty if top last name not in author names dictionary \n",
    "# 4. returns empty if the last name is found but the first name isn't\n",
    "# 5. code to choose the most frequently mentioned last name / first name pair might be coded wrong\n",
    "# 6. current not check \n",
    "# 7. has no fuzziness ... in the example review we have \"Lucien Carr\", \"Mr. Carr\", \"and \"Ldclen Carr\"\n",
    "# So the algorithm could theoretically resolve to Lucien Carr since that's a name and Ldclen isn't\n",
    "# Lucien Carr isn't in the author names dictionary but we could program this to find top names not in the dict"
   ]
  },
  {
   "cell_type": "markdown",
   "metadata": {},
   "source": [
    "### eva's edits round 1: trying symspell and names from the us census to correct OCR issues"
   ]
  },
  {
   "cell_type": "code",
   "execution_count": 17,
   "metadata": {},
   "outputs": [
    {
     "data": {
      "text/plain": [
       "140"
      ]
     },
     "execution_count": 17,
     "metadata": {},
     "output_type": "execute_result"
    }
   ],
   "source": [
    "# first i'm gonna need to combine the documents from every year\n",
    "name_dir = \"../../../Code_stuff/names/\"\n",
    "name_files = os.listdir(name_dir)\n",
    "len(name_files)"
   ]
  },
  {
   "cell_type": "code",
   "execution_count": 106,
   "metadata": {},
   "outputs": [],
   "source": [
    "name_files = [x for x in name_files if ('188' in x) or ('189' in x) or ('190' in x) or ('191' in x)]"
   ]
  },
  {
   "cell_type": "code",
   "execution_count": 107,
   "metadata": {},
   "outputs": [
    {
     "data": {
      "text/plain": [
       "40"
      ]
     },
     "execution_count": 107,
     "metadata": {},
     "output_type": "execute_result"
    }
   ],
   "source": [
    "len(name_files)"
   ]
  },
  {
   "cell_type": "code",
   "execution_count": 108,
   "metadata": {},
   "outputs": [],
   "source": [
    "name_lists = []\n",
    "for file in name_files:\n",
    "    with open(name_dir + file, encoding='latin-1') as f:\n",
    "        name_lists.extend(f.readlines())"
   ]
  },
  {
   "cell_type": "code",
   "execution_count": 109,
   "metadata": {},
   "outputs": [
    {
     "data": {
      "text/plain": [
       "['Mary,F,22848\\n', 'Helen,F,10479\\n', 'Margaret,F,8226\\n', 'Dorothy,F,7318\\n', 'Ruth,F,7212\\n', 'Anna,F,6436\\n', 'Elizabeth,F,5800\\n', 'Mildred,F,5692\\n', 'Marie,F,4790\\n', 'Alice,F,4671\\n', 'Frances,F,4448\\n', 'Florence,F,4282\\n', 'Ethel,F,4146\\n', 'Lillian,F,4127\\n', 'Gladys,F,3842\\n', 'Rose,F,3837\\n', 'Evelyn,F,3777\\n', 'Edna,F,3664\\n', 'Annie,F,3519\\n', 'Louise,F,3457\\n', 'Irene,F,3281\\n', 'Catherine,F,3161\\n', 'Grace,F,3145\\n', 'Hazel,F,3032\\n', 'Thelma,F,2976\\n', 'Gertrude,F,2932\\n', 'Ruby,F,2893\\n', 'Martha,F,2858\\n', 'Virginia,F,2855\\n', 'Josephine,F,2801\\n', 'Lucille,F,2692\\n', 'Clara,F,2665\\n', 'Bertha,F,2651\\n', 'Emma,F,2607\\n', 'Edith,F,2592\\n', 'Beatrice,F,2459\\n', 'Bessie,F,2392\\n', 'Esther,F,2378\\n', 'Pearl,F,2177\\n', 'Sarah,F,2173\\n', 'Agnes,F,2163\\n', 'Pauline,F,2153\\n', 'Myrtle,F,2145\\n', 'Elsie,F,2141\\n', 'Eva,F,2123\\n', 'Mabel,F,2123\\n', 'Ida,F,2107\\n', 'Viola,F,2090\\n', 'Julia,F,2074\\n', 'Minnie,F,1983\\n']"
      ]
     },
     "execution_count": 109,
     "metadata": {},
     "output_type": "execute_result"
    }
   ],
   "source": [
    "name_lists[:50]"
   ]
  },
  {
   "cell_type": "code",
   "execution_count": 110,
   "metadata": {},
   "outputs": [
    {
     "data": {
      "text/plain": [
       "169453"
      ]
     },
     "execution_count": 110,
     "metadata": {},
     "output_type": "execute_result"
    }
   ],
   "source": [
    "len(name_lists)"
   ]
  },
  {
   "cell_type": "code",
   "execution_count": 111,
   "metadata": {},
   "outputs": [
    {
     "data": {
      "text/plain": [
       "['Mary', 'F', '22848\\n']"
      ]
     },
     "execution_count": 111,
     "metadata": {},
     "output_type": "execute_result"
    }
   ],
   "source": [
    "name_lists[0].split(',')"
   ]
  },
  {
   "cell_type": "code",
   "execution_count": 112,
   "metadata": {},
   "outputs": [],
   "source": [
    "name_list = [x[:-1] for x in name_lists if len(x.split(','))==3]"
   ]
  },
  {
   "cell_type": "code",
   "execution_count": 113,
   "metadata": {},
   "outputs": [
    {
     "data": {
      "text/plain": [
       "169453"
      ]
     },
     "execution_count": 113,
     "metadata": {},
     "output_type": "execute_result"
    }
   ],
   "source": [
    "len(name_list)"
   ]
  },
  {
   "cell_type": "code",
   "execution_count": 114,
   "metadata": {},
   "outputs": [
    {
     "data": {
      "text/plain": [
       "True"
      ]
     },
     "execution_count": 114,
     "metadata": {},
     "output_type": "execute_result"
    }
   ],
   "source": [
    "name_list[0].split(',')[-1].isnumeric()"
   ]
  },
  {
   "cell_type": "code",
   "execution_count": 115,
   "metadata": {},
   "outputs": [],
   "source": [
    "name_list = [x for x in name_list if x.split(',')[-1].isnumeric()]"
   ]
  },
  {
   "cell_type": "code",
   "execution_count": 116,
   "metadata": {},
   "outputs": [
    {
     "data": {
      "text/plain": [
       "169453"
      ]
     },
     "execution_count": 116,
     "metadata": {},
     "output_type": "execute_result"
    }
   ],
   "source": [
    "len(name_list)"
   ]
  },
  {
   "cell_type": "code",
   "execution_count": 117,
   "metadata": {},
   "outputs": [],
   "source": [
    "name_list = [x for x in name_list if x.split(',')[0].isalpha()]"
   ]
  },
  {
   "cell_type": "code",
   "execution_count": 118,
   "metadata": {},
   "outputs": [
    {
     "data": {
      "text/plain": [
       "169453"
      ]
     },
     "execution_count": 118,
     "metadata": {},
     "output_type": "execute_result"
    }
   ],
   "source": [
    "len(name_list)"
   ]
  },
  {
   "cell_type": "code",
   "execution_count": 119,
   "metadata": {},
   "outputs": [],
   "source": [
    "name_list = [x for x in name_list if ''.join(x.split(',')).isalnum()]"
   ]
  },
  {
   "cell_type": "code",
   "execution_count": 120,
   "metadata": {},
   "outputs": [
    {
     "data": {
      "text/plain": [
       "169453"
      ]
     },
     "execution_count": 120,
     "metadata": {},
     "output_type": "execute_result"
    }
   ],
   "source": [
    "len(name_list)"
   ]
  },
  {
   "cell_type": "code",
   "execution_count": 130,
   "metadata": {},
   "outputs": [],
   "source": [
    "name_df = pd.DataFrame(name_lists, columns = ['name_txt'])"
   ]
  },
  {
   "cell_type": "code",
   "execution_count": 131,
   "metadata": {},
   "outputs": [
    {
     "data": {
      "text/html": [
       "<div>\n",
       "<style scoped>\n",
       "    .dataframe tbody tr th:only-of-type {\n",
       "        vertical-align: middle;\n",
       "    }\n",
       "\n",
       "    .dataframe tbody tr th {\n",
       "        vertical-align: top;\n",
       "    }\n",
       "\n",
       "    .dataframe thead th {\n",
       "        text-align: right;\n",
       "    }\n",
       "</style>\n",
       "<table border=\"1\" class=\"dataframe\">\n",
       "  <thead>\n",
       "    <tr style=\"text-align: right;\">\n",
       "      <th></th>\n",
       "      <th>name_txt</th>\n",
       "    </tr>\n",
       "  </thead>\n",
       "  <tbody>\n",
       "    <tr>\n",
       "      <td>0</td>\n",
       "      <td>Mary,F,22848\\n</td>\n",
       "    </tr>\n",
       "    <tr>\n",
       "      <td>1</td>\n",
       "      <td>Helen,F,10479\\n</td>\n",
       "    </tr>\n",
       "    <tr>\n",
       "      <td>2</td>\n",
       "      <td>Margaret,F,8226\\n</td>\n",
       "    </tr>\n",
       "    <tr>\n",
       "      <td>3</td>\n",
       "      <td>Dorothy,F,7318\\n</td>\n",
       "    </tr>\n",
       "    <tr>\n",
       "      <td>4</td>\n",
       "      <td>Ruth,F,7212\\n</td>\n",
       "    </tr>\n",
       "  </tbody>\n",
       "</table>\n",
       "</div>"
      ],
      "text/plain": [
       "            name_txt\n",
       "0     Mary,F,22848\\n\n",
       "1    Helen,F,10479\\n\n",
       "2  Margaret,F,8226\\n\n",
       "3   Dorothy,F,7318\\n\n",
       "4      Ruth,F,7212\\n"
      ]
     },
     "execution_count": 131,
     "metadata": {},
     "output_type": "execute_result"
    }
   ],
   "source": [
    "name_df.head()"
   ]
  },
  {
   "cell_type": "code",
   "execution_count": 132,
   "metadata": {},
   "outputs": [],
   "source": [
    "def justName(name):\n",
    "    name_parts = name[:-1].split(',')\n",
    "    return name_parts[0]\n",
    "def justCount(name):\n",
    "    name_parts = name[:-1].split(',')\n",
    "    try:\n",
    "        return int(name_parts[-1])\n",
    "    except:\n",
    "        return 0\n",
    "def justGender(name):\n",
    "    name_parts = name[:-1].split(',')\n",
    "    return name_parts[1]"
   ]
  },
  {
   "cell_type": "code",
   "execution_count": 133,
   "metadata": {},
   "outputs": [],
   "source": [
    "name_df['name'] = name_df.name_txt.map(justName)\n",
    "name_df['freq'] = name_df.name_txt.map(justCount)\n",
    "name_df['gender'] = name_df.name_txt.map(justGender)"
   ]
  },
  {
   "cell_type": "code",
   "execution_count": 134,
   "metadata": {},
   "outputs": [],
   "source": [
    "name_df = name_df[name_df.freq > 4][['name','freq','gender']]\n",
    "name_df = name_df[name_df['name'].apply(lambda x: x.isalpha())]"
   ]
  },
  {
   "cell_type": "code",
   "execution_count": 135,
   "metadata": {},
   "outputs": [
    {
     "data": {
      "text/html": [
       "<div>\n",
       "<style scoped>\n",
       "    .dataframe tbody tr th:only-of-type {\n",
       "        vertical-align: middle;\n",
       "    }\n",
       "\n",
       "    .dataframe tbody tr th {\n",
       "        vertical-align: top;\n",
       "    }\n",
       "\n",
       "    .dataframe thead th {\n",
       "        text-align: right;\n",
       "    }\n",
       "</style>\n",
       "<table border=\"1\" class=\"dataframe\">\n",
       "  <thead>\n",
       "    <tr style=\"text-align: right;\">\n",
       "      <th></th>\n",
       "      <th>name</th>\n",
       "      <th>freq</th>\n",
       "      <th>gender</th>\n",
       "    </tr>\n",
       "  </thead>\n",
       "  <tbody>\n",
       "    <tr>\n",
       "      <td>0</td>\n",
       "      <td>Mary</td>\n",
       "      <td>22848</td>\n",
       "      <td>F</td>\n",
       "    </tr>\n",
       "    <tr>\n",
       "      <td>1</td>\n",
       "      <td>Helen</td>\n",
       "      <td>10479</td>\n",
       "      <td>F</td>\n",
       "    </tr>\n",
       "    <tr>\n",
       "      <td>2</td>\n",
       "      <td>Margaret</td>\n",
       "      <td>8226</td>\n",
       "      <td>F</td>\n",
       "    </tr>\n",
       "    <tr>\n",
       "      <td>3</td>\n",
       "      <td>Dorothy</td>\n",
       "      <td>7318</td>\n",
       "      <td>F</td>\n",
       "    </tr>\n",
       "    <tr>\n",
       "      <td>4</td>\n",
       "      <td>Ruth</td>\n",
       "      <td>7212</td>\n",
       "      <td>F</td>\n",
       "    </tr>\n",
       "  </tbody>\n",
       "</table>\n",
       "</div>"
      ],
      "text/plain": [
       "       name   freq gender\n",
       "0      Mary  22848      F\n",
       "1     Helen  10479      F\n",
       "2  Margaret   8226      F\n",
       "3   Dorothy   7318      F\n",
       "4      Ruth   7212      F"
      ]
     },
     "execution_count": 135,
     "metadata": {},
     "output_type": "execute_result"
    }
   ],
   "source": [
    "name_df.head()"
   ]
  },
  {
   "cell_type": "code",
   "execution_count": 136,
   "metadata": {},
   "outputs": [
    {
     "data": {
      "text/plain": [
       "169453"
      ]
     },
     "execution_count": 136,
     "metadata": {},
     "output_type": "execute_result"
    }
   ],
   "source": [
    "len(name_df)"
   ]
  },
  {
   "cell_type": "code",
   "execution_count": 139,
   "metadata": {},
   "outputs": [],
   "source": [
    "m_grouped = name_df[name_df.gender == 'M'].groupby('name').aggregate(np.sum)\n",
    "f_grouped = name_df[name_df.gender == 'F'].groupby('name').aggregate(np.sum)"
   ]
  },
  {
   "cell_type": "code",
   "execution_count": 143,
   "metadata": {},
   "outputs": [
    {
     "data": {
      "text/html": [
       "<div>\n",
       "<style scoped>\n",
       "    .dataframe tbody tr th:only-of-type {\n",
       "        vertical-align: middle;\n",
       "    }\n",
       "\n",
       "    .dataframe tbody tr th {\n",
       "        vertical-align: top;\n",
       "    }\n",
       "\n",
       "    .dataframe thead th {\n",
       "        text-align: right;\n",
       "    }\n",
       "</style>\n",
       "<table border=\"1\" class=\"dataframe\">\n",
       "  <thead>\n",
       "    <tr style=\"text-align: right;\">\n",
       "      <th></th>\n",
       "      <th>freq</th>\n",
       "    </tr>\n",
       "    <tr>\n",
       "      <th>name</th>\n",
       "      <th></th>\n",
       "    </tr>\n",
       "  </thead>\n",
       "  <tbody>\n",
       "    <tr>\n",
       "      <td>Abbie</td>\n",
       "      <td>4027</td>\n",
       "    </tr>\n",
       "    <tr>\n",
       "      <td>Abby</td>\n",
       "      <td>280</td>\n",
       "    </tr>\n",
       "    <tr>\n",
       "      <td>Abigail</td>\n",
       "      <td>667</td>\n",
       "    </tr>\n",
       "    <tr>\n",
       "      <td>Ada</td>\n",
       "      <td>43157</td>\n",
       "    </tr>\n",
       "    <tr>\n",
       "      <td>Adabelle</td>\n",
       "      <td>65</td>\n",
       "    </tr>\n",
       "  </tbody>\n",
       "</table>\n",
       "</div>"
      ],
      "text/plain": [
       "           freq\n",
       "name           \n",
       "Abbie      4027\n",
       "Abby        280\n",
       "Abigail     667\n",
       "Ada       43157\n",
       "Adabelle     65"
      ]
     },
     "execution_count": 143,
     "metadata": {},
     "output_type": "execute_result"
    }
   ],
   "source": [
    "f_grouped.head()"
   ]
  },
  {
   "cell_type": "code",
   "execution_count": 144,
   "metadata": {},
   "outputs": [
    {
     "data": {
      "text/html": [
       "<div>\n",
       "<style scoped>\n",
       "    .dataframe tbody tr th:only-of-type {\n",
       "        vertical-align: middle;\n",
       "    }\n",
       "\n",
       "    .dataframe tbody tr th {\n",
       "        vertical-align: top;\n",
       "    }\n",
       "\n",
       "    .dataframe thead th {\n",
       "        text-align: right;\n",
       "    }\n",
       "</style>\n",
       "<table border=\"1\" class=\"dataframe\">\n",
       "  <thead>\n",
       "    <tr style=\"text-align: right;\">\n",
       "      <th></th>\n",
       "      <th>freq</th>\n",
       "    </tr>\n",
       "    <tr>\n",
       "      <th>name</th>\n",
       "      <th></th>\n",
       "    </tr>\n",
       "  </thead>\n",
       "  <tbody>\n",
       "    <tr>\n",
       "      <td>Aaron</td>\n",
       "      <td>7359</td>\n",
       "    </tr>\n",
       "    <tr>\n",
       "      <td>Abbie</td>\n",
       "      <td>82</td>\n",
       "    </tr>\n",
       "    <tr>\n",
       "      <td>Abbott</td>\n",
       "      <td>125</td>\n",
       "    </tr>\n",
       "    <tr>\n",
       "      <td>Abe</td>\n",
       "      <td>3618</td>\n",
       "    </tr>\n",
       "    <tr>\n",
       "      <td>Abel</td>\n",
       "      <td>905</td>\n",
       "    </tr>\n",
       "  </tbody>\n",
       "</table>\n",
       "</div>"
      ],
      "text/plain": [
       "        freq\n",
       "name        \n",
       "Aaron   7359\n",
       "Abbie     82\n",
       "Abbott   125\n",
       "Abe     3618\n",
       "Abel     905"
      ]
     },
     "execution_count": 144,
     "metadata": {},
     "output_type": "execute_result"
    }
   ],
   "source": [
    "m_grouped.head()"
   ]
  },
  {
   "cell_type": "code",
   "execution_count": 142,
   "metadata": {},
   "outputs": [],
   "source": [
    "m_grouped = m_grouped[m_grouped.freq > 50]\n",
    "f_grouped = f_grouped[f_grouped.freq > 50]"
   ]
  },
  {
   "cell_type": "code",
   "execution_count": 145,
   "metadata": {},
   "outputs": [
    {
     "data": {
      "text/plain": [
       "3714"
      ]
     },
     "execution_count": 145,
     "metadata": {},
     "output_type": "execute_result"
    }
   ],
   "source": [
    "len(f_grouped)"
   ]
  },
  {
   "cell_type": "code",
   "execution_count": 146,
   "metadata": {},
   "outputs": [
    {
     "data": {
      "text/plain": [
       "3108"
      ]
     },
     "execution_count": 146,
     "metadata": {},
     "output_type": "execute_result"
    }
   ],
   "source": [
    "len(m_grouped)"
   ]
  },
  {
   "cell_type": "code",
   "execution_count": 147,
   "metadata": {},
   "outputs": [],
   "source": [
    "m_grouped.to_csv('male_name_freq_dict.csv', index=False, header=False)\n",
    "f_grouped.to_csv('female_name_freq_dict.csv', index=False, header=False)"
   ]
  },
  {
   "cell_type": "code",
   "execution_count": 137,
   "metadata": {},
   "outputs": [],
   "source": [
    "grouped = name_df.groupby('name').aggregate(np.sum)"
   ]
  },
  {
   "cell_type": "code",
   "execution_count": 138,
   "metadata": {},
   "outputs": [
    {
     "data": {
      "text/plain": [
       "13751"
      ]
     },
     "execution_count": 138,
     "metadata": {},
     "output_type": "execute_result"
    }
   ],
   "source": [
    "len(grouped)"
   ]
  },
  {
   "cell_type": "code",
   "execution_count": 64,
   "metadata": {},
   "outputs": [],
   "source": [
    "grouped['freq'] = grouped.freq.apply(lambda x: round(x))"
   ]
  },
  {
   "cell_type": "code",
   "execution_count": 65,
   "metadata": {},
   "outputs": [],
   "source": [
    "grouped = grouped.reset_index()"
   ]
  },
  {
   "cell_type": "code",
   "execution_count": 70,
   "metadata": {},
   "outputs": [],
   "source": [
    "grouped = grouped[grouped.freq > 50]"
   ]
  },
  {
   "cell_type": "code",
   "execution_count": 71,
   "metadata": {},
   "outputs": [
    {
     "data": {
      "text/html": [
       "<div>\n",
       "<style scoped>\n",
       "    .dataframe tbody tr th:only-of-type {\n",
       "        vertical-align: middle;\n",
       "    }\n",
       "\n",
       "    .dataframe tbody tr th {\n",
       "        vertical-align: top;\n",
       "    }\n",
       "\n",
       "    .dataframe thead th {\n",
       "        text-align: right;\n",
       "    }\n",
       "</style>\n",
       "<table border=\"1\" class=\"dataframe\">\n",
       "  <thead>\n",
       "    <tr style=\"text-align: right;\">\n",
       "      <th></th>\n",
       "      <th>freq</th>\n",
       "    </tr>\n",
       "  </thead>\n",
       "  <tbody>\n",
       "    <tr>\n",
       "      <td>count</td>\n",
       "      <td>6176.000000</td>\n",
       "    </tr>\n",
       "    <tr>\n",
       "      <td>mean</td>\n",
       "      <td>4009.591159</td>\n",
       "    </tr>\n",
       "    <tr>\n",
       "      <td>std</td>\n",
       "      <td>23903.090755</td>\n",
       "    </tr>\n",
       "    <tr>\n",
       "      <td>min</td>\n",
       "      <td>51.000000</td>\n",
       "    </tr>\n",
       "    <tr>\n",
       "      <td>25%</td>\n",
       "      <td>100.000000</td>\n",
       "    </tr>\n",
       "    <tr>\n",
       "      <td>50%</td>\n",
       "      <td>228.000000</td>\n",
       "    </tr>\n",
       "    <tr>\n",
       "      <td>75%</td>\n",
       "      <td>861.500000</td>\n",
       "    </tr>\n",
       "    <tr>\n",
       "      <td>max</td>\n",
       "      <td>865860.000000</td>\n",
       "    </tr>\n",
       "  </tbody>\n",
       "</table>\n",
       "</div>"
      ],
      "text/plain": [
       "                freq\n",
       "count    6176.000000\n",
       "mean     4009.591159\n",
       "std     23903.090755\n",
       "min        51.000000\n",
       "25%       100.000000\n",
       "50%       228.000000\n",
       "75%       861.500000\n",
       "max    865860.000000"
      ]
     },
     "execution_count": 71,
     "metadata": {},
     "output_type": "execute_result"
    }
   ],
   "source": [
    "grouped.describe()"
   ]
  },
  {
   "cell_type": "code",
   "execution_count": 72,
   "metadata": {},
   "outputs": [],
   "source": [
    "grouped.to_csv('name_freq_dict.csv', index=False, header=False)"
   ]
  },
  {
   "cell_type": "code",
   "execution_count": 73,
   "metadata": {},
   "outputs": [
    {
     "data": {
      "text/plain": [
       "True"
      ]
     },
     "execution_count": 73,
     "metadata": {},
     "output_type": "execute_result"
    }
   ],
   "source": [
    "from symspellpy.symspellpy import SymSpell, Verbosity \n",
    "\n",
    "# maximum edit distance per dictionary precalculation\n",
    "max_edit_distance_dictionary = 2\n",
    "prefix_length = 7\n",
    "# create object\n",
    "sym_spell = SymSpell(max_edit_distance_dictionary, prefix_length)\n",
    "# load dictionary\n",
    "dictionary_path = \"name_freq_dict.txt\"\n",
    "term_index = 0 \n",
    "count_index = 1\n",
    "sym_spell.load_dictionary(dictionary_path, term_index, count_index, separator=\",\")"
   ]
  },
  {
   "cell_type": "code",
   "execution_count": 74,
   "metadata": {},
   "outputs": [],
   "source": [
    "suggestions = sym_spell.lookup(\"Ldclen\", Verbosity.CLOSEST,\n",
    "                               max_edit_distance=2, include_unknown=True)"
   ]
  },
  {
   "cell_type": "code",
   "execution_count": 75,
   "metadata": {},
   "outputs": [],
   "source": [
    "top = suggestions[0]._term"
   ]
  },
  {
   "cell_type": "code",
   "execution_count": 76,
   "metadata": {},
   "outputs": [
    {
     "data": {
      "text/plain": [
       "'Lucien'"
      ]
     },
     "execution_count": 76,
     "metadata": {},
     "output_type": "execute_result"
    }
   ],
   "source": [
    "top"
   ]
  },
  {
   "cell_type": "code",
   "execution_count": 77,
   "metadata": {},
   "outputs": [
    {
     "data": {
      "text/plain": [
       "32359"
      ]
     },
     "execution_count": 77,
     "metadata": {},
     "output_type": "execute_result"
    }
   ],
   "source": [
    "sym_spell._words['Emily']"
   ]
  },
  {
   "cell_type": "code",
   "execution_count": null,
   "metadata": {},
   "outputs": [],
   "source": [
    "# test text\n",
    "mytext = \"\"\"\n",
    "    Missouri: A Bone of Contention '                 WE  aware that most of the States of the Union had their nicknames, more or less complimentary, but to name Missouri ' a bone of contention ' is a stroke of wit. It does, however, rightly describe the Missouri of the past, and vividly writes in a phrase her political history. Until the triumph of the Union armies and the close of the Civil War, Missouri was in the jaws of the watch-dogs of slavery and freedom. In war or in peace, the subiect of legislative com-                 promise or of military struggle, Missouri was an uncertain factor. Now, after -five years of national peace, her history may be calmly and impartially written. Indeed, the task has been done, and well done, and the , Lucien Carr of Harvard, may be congratulated upon his work,  is strong, unimpassioned, scholarly, and as impressed with the firm touch which comes of local knowledge as are the imprinted rocks in the cabinets at Cambridge. Long familiarity with the wealth of archaeology in the Peabody Museuml seems to have given him the power of comparison and generalization in the evolution of a commonwealth, while  acquaintance with living men enables him to blend the results of the study and the field in pleasing literary form. Five of his seventeen chapters give a luminous picture of the early French and Spanish discoveries and domination. Then follow three chapters treating of the                 Missouri. By Ldclen Carr. $ti... (American Commonwealths.) Boston:                 Itoughto., Sftfltn & Co.                 l , the compromise, and the  into the U nion of this State named after the great river which flows through it. In his treatment of the period from 1844 to i861, as well as that of war time, some readers may charge Mr. Carr with unduly favoring the Southern and even Confederate view; but to people living this side of the now-vanished Mason and Dixon's line, this is doubtless a benefit; for only when Northern people are able to ' put themselves in the place' of Southerners and see with Southern eyes, can they be sure that they have achieved that impartiality which is essential to the writing of final history. He shows that the Missourians were neither secessionists nor slavery propagandists. He both criticises and justifies the action of the second convention which, in the uncertain hours when other States  seceding and Missouri's Governor had been driven into exile, org  a provisional government, and  saved Missouri Irons ' the pit of political degradation into which the States in rebellion were sunk during the period of reconstruction.' Mr. Carr practically and almost abruptly ends his history at the close of the War, believing that the career of Missouri as a bone of contention ended with the abolition of slavery. The fifty years' struggle was over, the State recovered rapidly froni the wounds of the Civil War, wealth increased wonderfully, and the Negro was liberally dealt with in most if not all points relating to citizenship. Taken as a whole, this book, with its sustained interest, high average literary merit, and thorough treatment of the voluminous facts, fully justifies its place in the series of ' histories of such States as have exercised a positive influence in the shaping of the national Government, or have had a striking political - . . history.' Like the others, it has a good map and index.\"\"\"  "
   ]
  },
  {
   "cell_type": "code",
   "execution_count": null,
   "metadata": {},
   "outputs": [],
   "source": [
    "results = re.findall('dr\\. .+? |rev\\. .+? |miss .+? |mr\\..+? |mrs\\..+? ', mytext.lower())"
   ]
  },
  {
   "cell_type": "code",
   "execution_count": null,
   "metadata": {},
   "outputs": [],
   "source": [
    "results = [word.replace(\"'s\", \"\") for word in results]\n",
    "results"
   ]
  },
  {
   "cell_type": "code",
   "execution_count": null,
   "metadata": {},
   "outputs": [],
   "source": [
    "if len(results) > 0:\n",
    "    top = Counter(results).most_common(1)"
   ]
  },
  {
   "cell_type": "code",
   "execution_count": null,
   "metadata": {},
   "outputs": [],
   "source": [
    "top"
   ]
  },
  {
   "cell_type": "code",
   "execution_count": null,
   "metadata": {},
   "outputs": [],
   "source": [
    "lastname = top[0][0].split('.')[-1].strip()"
   ]
  },
  {
   "cell_type": "code",
   "execution_count": null,
   "metadata": {},
   "outputs": [],
   "source": [
    "titles = \"\"\"Doctor,Dr,Mr,Mrs,Ms,Miss,Msgr,Monsignor,Rev,Reverend,Hon,Honorable,Honourable,Prof,Professor,Madame,Madam,Lady,Lord,Sir,Dame,Master,Mistress,Chancellor,Principal,President,Pres,Warden,Dean,Regent,Rector,Provost,Director\n",
    "\"\"\""
   ]
  },
  {
   "cell_type": "code",
   "execution_count": null,
   "metadata": {},
   "outputs": [],
   "source": [
    "titles = titles.lower().rstrip().split(',')"
   ]
  },
  {
   "cell_type": "code",
   "execution_count": null,
   "metadata": {},
   "outputs": [],
   "source": [
    "titles"
   ]
  },
  {
   "cell_type": "code",
   "execution_count": null,
   "metadata": {},
   "outputs": [],
   "source": [
    "title_list = r\"\\.? .+? |\".join(titles)"
   ]
  },
  {
   "cell_type": "code",
   "execution_count": null,
   "metadata": {},
   "outputs": [],
   "source": [
    "title_list"
   ]
  },
  {
   "cell_type": "code",
   "execution_count": null,
   "metadata": {},
   "outputs": [],
   "source": [
    "results=[]\n",
    "for x in titles:\n",
    "    query = r\"\\.? .+? \"\n",
    "    print(re.findall(x+query, mytext.lower()))\n"
   ]
  },
  {
   "cell_type": "code",
   "execution_count": null,
   "metadata": {},
   "outputs": [],
   "source": [
    "re.findall(title_list, mytext.lower())\n",
    "\n",
    "\n",
    "\n",
    "\n"
   ]
  },
  {
   "cell_type": "code",
   "execution_count": null,
   "metadata": {},
   "outputs": [],
   "source": [
    "def findLastName(text):\n",
    "    \"\"\"\n",
    "    Returns words following common \n",
    "    \"\"\"\n",
    "    results = re.findall('dr\\. .+? |rev\\. .+? |miss .+? |mr\\..+? |mrs\\..+? ', text.lower())\n",
    "    results = [word.replace(\"'s\", \"\") for word in results]\n",
    "    if len(results) > 0:\n",
    "        top = Counter(results).most_common(1)\n",
    "        return top[0][0].split('.')[-1].strip()\n",
    "    else:\n",
    "        raise Exception('no last names found')"
   ]
  },
  {
   "cell_type": "code",
   "execution_count": null,
   "metadata": {},
   "outputs": [],
   "source": [
    "findLastName(mytext)"
   ]
  },
  {
   "cell_type": "code",
   "execution_count": null,
   "metadata": {},
   "outputs": [],
   "source": [
    "def findFirstName(text, lastname):\n",
    "    results = re.findall('dr\\. .+? |rev\\. .+? |miss .+? |mr\\..+? |mrs\\..+? ', text.lower())"
   ]
  },
  {
   "cell_type": "code",
   "execution_count": null,
   "metadata": {},
   "outputs": [],
   "source": [
    "first_name_results = []\n",
    "\n",
    "au_first_names = authors_by_last_name[lastname]\n",
    "            \n",
    "for au_name in au_first_names:\n",
    "    first_name_matches = re.search(au_name, mytext.lower())\n",
    "    if first_name_matches:\n",
    "        first_name_results.append(au_name)"
   ]
  },
  {
   "cell_type": "code",
   "execution_count": null,
   "metadata": {},
   "outputs": [],
   "source": [
    "au_first_names"
   ]
  },
  {
   "cell_type": "code",
   "execution_count": null,
   "metadata": {},
   "outputs": [],
   "source": [
    "def find_top_author(text, name_dict):\n",
    "    \"\"\" This function looks at a block of text, possibly a book review, and \n",
    "    uses a dictionary of names to find the top first name and last name pair \n",
    "    mentioned in the text. A statistical method for name inference would probably \n",
    "    be preferable to this method\"\"\"\n",
    "\n",
    "    #get the most frequent mr or mrs., miss, dr in the review \n",
    "    #and all the characters after the honorific until the next space (non-greedy)    \n",
    "    results = re.findall('dr\\. .+? |rev\\. .+? |miss .+? |mr\\..+? |mrs\\..+? ', text.lower())\n",
    "    \n",
    "    #remove possessives\n",
    "    results = [word.replace(\"'s\", \"\") for word in results]\n",
    "    print(results)\n",
    "\n",
    "    if len(results) > 0:\n",
    "        top = Counter(results).most_common(1)\n",
    "\n",
    "        lastname = top[0][0].split('.')[-1].strip()\n",
    "            \n",
    "        #get authors with same last name\n",
    "        first_name_results = []\n",
    "        try:\n",
    "            au_first_names = authors_by_last_name[lastname]\n",
    "            \n",
    "            for au_name in au_first_names:\n",
    "                first_name_matches = re.search(au_name, text.lower())\n",
    "                if first_name_matches:\n",
    "                    first_name_results.append(au_name)\n",
    "            if len(first_name_results) > 0:\n",
    "                topfirst = Counter(first_name_results).most_common(1)\n",
    "                \n",
    "                firstname = topfirst[0][0]\n",
    "                \n",
    "            else:\n",
    "                firstname = ''\n",
    "        except:\n",
    "            firstname = ''\n",
    "        if firstname == '':\n",
    "            for i in both:\n",
    "                first_name_matches = re.search(i, text.lower())\n",
    "                if first_name_matches:\n",
    "                    first_name_results.append(i)\n",
    "            \n",
    "        #match a first name or pass\n",
    "        if len(lastname) > 4:\n",
    "            return [lastname, firstname]\n",
    "        else:\n",
    "            return [\"no match\", \"no match\"]"
   ]
  },
  {
   "cell_type": "code",
   "execution_count": null,
   "metadata": {},
   "outputs": [],
   "source": [
    "print(find_top_author(mytext, authors_by_last_name))"
   ]
  },
  {
   "cell_type": "markdown",
   "metadata": {},
   "source": [
    "### eva's edits round 2: trying to find words commonly preceding authors names"
   ]
  },
  {
   "cell_type": "code",
   "execution_count": null,
   "metadata": {},
   "outputs": [],
   "source": [
    "df_all.head()"
   ]
  },
  {
   "cell_type": "code",
   "execution_count": null,
   "metadata": {},
   "outputs": [],
   "source": [
    "txts[0][:300].lower().strip()"
   ]
  },
  {
   "cell_type": "code",
   "execution_count": null,
   "metadata": {},
   "outputs": [],
   "source": [
    "last_names = list(set(authors_by_last_name.keys()))[1:]"
   ]
  },
  {
   "cell_type": "code",
   "execution_count": null,
   "metadata": {},
   "outputs": [],
   "source": [
    "last_names[0]"
   ]
  },
  {
   "cell_type": "code",
   "execution_count": null,
   "metadata": {},
   "outputs": [],
   "source": [
    "'|'.join(titles)"
   ]
  },
  {
   "cell_type": "code",
   "execution_count": null,
   "metadata": {},
   "outputs": [],
   "source": [
    "title_poss = title_list + r\". (.+)*?\""
   ]
  },
  {
   "cell_type": "code",
   "execution_count": null,
   "metadata": {},
   "outputs": [],
   "source": [
    "title_poss"
   ]
  },
  {
   "cell_type": "code",
   "execution_count": null,
   "metadata": {},
   "outputs": [],
   "source": [
    "title_last_names = [title_poss+name for name in last_names]"
   ]
  },
  {
   "cell_type": "code",
   "execution_count": null,
   "metadata": {},
   "outputs": [],
   "source": [
    "title_last_names[-1]"
   ]
  },
  {
   "cell_type": "code",
   "execution_count": null,
   "metadata": {
    "scrolled": true
   },
   "outputs": [],
   "source": [
    "'|'.join(title_last_names)[:500]"
   ]
  },
  {
   "cell_type": "code",
   "execution_count": null,
   "metadata": {},
   "outputs": [],
   "source": [
    "pattern = '|'.join(title_last_names)"
   ]
  },
  {
   "cell_type": "code",
   "execution_count": null,
   "metadata": {},
   "outputs": [],
   "source": [
    "re.search(pattern,mytext)"
   ]
  },
  {
   "cell_type": "raw",
   "metadata": {},
   "source": [
    "results"
   ]
  },
  {
   "cell_type": "code",
   "execution_count": null,
   "metadata": {},
   "outputs": [],
   "source": [
    "for doc in [txt.lower().strip() for txt in txts]:\n",
    "    results = re.findall(pattern,doc)\n",
    "    print(results[0])"
   ]
  },
  {
   "cell_type": "code",
   "execution_count": null,
   "metadata": {},
   "outputs": [],
   "source": [
    "authors_by_last_name[lastname]"
   ]
  }
 ],
 "metadata": {
  "kernelspec": {
   "display_name": "Python 3",
   "language": "python",
   "name": "python3"
  },
  "language_info": {
   "codemirror_mode": {
    "name": "ipython",
    "version": 3
   },
   "file_extension": ".py",
   "mimetype": "text/x-python",
   "name": "python",
   "nbconvert_exporter": "python",
   "pygments_lexer": "ipython3",
   "version": "3.7.4"
  }
 },
 "nbformat": 4,
 "nbformat_minor": 2
}
