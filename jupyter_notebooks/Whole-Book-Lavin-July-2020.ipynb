{
 "cells": [
  {
   "cell_type": "code",
   "execution_count": null,
   "metadata": {},
   "outputs": [],
   "source": [
    "from database import *\n",
    "import database.models as models\n",
    "\n",
    "# load full text from db\n",
    "aps_details_single = models.Review().query.filter(models.Review.status.in_(('needs_crosscheck', 'done'))).filter(models.Review.review_type == 'single_focus').all()\n",
    "\n",
    "len(aps_details_single)"
   ]
  },
  {
   "cell_type": "code",
   "execution_count": 15,
   "metadata": {},
   "outputs": [
    {
     "data": {
      "text/plain": [
       "245"
      ]
     },
     "execution_count": 15,
     "metadata": {},
     "output_type": "execute_result"
    }
   ],
   "source": [
    "titles = [i.reviewed_book_title for i in aps_details_single]\n",
    "authors = [i.reviewed_author_name for i in aps_details_single]\n",
    "years = [i.year for i in aps_details_single]\n",
    "publishers = [i.reviewed_book_publisher for i in aps_details_single]\n",
    "author_viafs = [i.reviewed_author_viaf_match for i in aps_details_single ]\n",
    "publisher_viafs = [i.reviewed_book_publisher_viaf_match for i in aps_details_single]\n",
    "known_publishers = list(set([i for i in publishers if i != '' and i is not None]))\n",
    "len(known_publishers)"
   ]
  },
  {
   "cell_type": "code",
   "execution_count": 16,
   "metadata": {},
   "outputs": [],
   "source": [
    "from nltk import word_tokenize\n",
    "from nltk.corpus import stopwords\n",
    "from fuzzysearch import find_near_matches\n",
    "from collections import Counter\n",
    "import re\n",
    "import string\n",
    "\n",
    "def is_word(word):\n",
    "    \"\"\"\n",
    "    Returns true if word is found in sym_spell dictionary, otherwise returns false.\n",
    "    \"\"\"\n",
    "    try:\n",
    "        fake = sym_spell._words[word]\n",
    "        return True\n",
    "    except:\n",
    "        return False\n",
    "\n",
    "def is_surname(surname):\n",
    "    \"\"\"\n",
    "    Returns true if name is found in sym_spell author surname dictionary, otherwise returns false.\n",
    "    \"\"\"\n",
    "    try:\n",
    "        fake = author_surname_dict._words[surname.lower()]\n",
    "        return True\n",
    "    except:\n",
    "        return False\n",
    "\n",
    "def fix_hyphenated_words(toks):\n",
    "    \"\"\"\n",
    "    Replaces hyphenated words with single word.\n",
    "    \"\"\"\n",
    "    dash_indices = find_dashes(toks)\n",
    "    to_be_deleted = []\n",
    "    for i in dash_indices:\n",
    "        #if neither are words, e.g. pieces of names or misspellings\n",
    "        if (is_word(toks[i][:-1])==False or is_word(toks[i+1])==False):\n",
    "            #replace first item with combined, delete second item\n",
    "            to_be_deleted.append(i+1)\n",
    "            toks[i] = (toks[i][:-1] + toks[i+1])\n",
    "            #if combined is a word\n",
    "        elif (is_word((toks[i][:-1] + toks[i+1]))):\n",
    "            to_be_deleted.append(i+1)\n",
    "            toks[i] = (toks[i][:-1] + toks[i+1])\n",
    "        elif (is_surname((toks[i][:-1] + toks[i+1]))):\n",
    "            to_be_deleted.append(i+1)\n",
    "            toks[i] = (toks[i][:-1] + toks[i+1])\n",
    "        else:\n",
    "            pass\n",
    "    #do this after so u don't heck up the indices\n",
    "    toks = [w for i, w in enumerate(toks) if i not in to_be_deleted]\n",
    "    return toks\n",
    "\n",
    "def find_dashes(toks):\n",
    "    \"\"\"\n",
    "    Returns list of indices for words ending in dashes.\n",
    "    \"\"\"\n",
    "    dash_indices = [i for i, word in enumerate(toks) if (len(word)>1) and (word.endswith('-'))]\n",
    "    return dash_indices\n",
    "\n",
    "def remove_function_head(sequence):\n",
    "    if sequence:\n",
    "        if sequence[0][0].islower():\n",
    "            sequence.pop(0)\n",
    "            return remove_function_head(sequence)\n",
    "        else:\n",
    "            return sequence\n",
    "    else:\n",
    "        return None\n",
    "    \n",
    "def remove_function_tail(sequence):\n",
    "    if sequence: \n",
    "        if sequence[-1].lower() in stopwords.words('english'):\n",
    "            sequence.pop()\n",
    "            return remove_function_tail(sequence)\n",
    "        else:\n",
    "            return sequence\n",
    "    else:\n",
    "        return None\n",
    "\n",
    "def remove_honorifics(sequence):\n",
    "    honorifics = \"\"\"Doctor,Dr,Mr,Mrs,Miss,Msgr,Monsignor,Rev,Reverend,Hon,Honorable,Honourable,Prof,Professor,Madame,Madam,Lady,Lord,Sir,Dame,Master,Mistress,Princess,Prince,Duke,Duchess,Baron,Father,Chancellor,Principal,President,Pres,Warden,Dean,Regent,Rector,Provost,Director\"\"\"\n",
    "    honorific_list = honorifics.lower().split(',')\n",
    "    if sequence:\n",
    "        if len(sequence) == 1 and sequence[0].lower() in honorific_list:\n",
    "            return None\n",
    "        else:\n",
    "            return sequence\n",
    "    else:\n",
    "        return None\n",
    "        \n",
    "def cull_title(text_block, patterns):\n",
    "    for i in patterns:\n",
    "        text_block = text_block.replace(i, \"\")\n",
    "    culled_title_candidates = [list(),]\n",
    "    for token in word_tokenize(text_block):\n",
    "        if token[0].isupper() or token.lower() in stopwords.words('english') or token in string.punctuation:\n",
    "            if len(culled_title_candidates[-1]) > 0:\n",
    "                if token not in string.punctuation:\n",
    "                    culled_title_candidates[-1].append(token)\n",
    "            else:\n",
    "                if token[0].isupper():\n",
    "                    culled_title_candidates[-1].append(token)\n",
    "        else:\n",
    "            if len(culled_title_candidates[-1]) > 0:\n",
    "                culled_title_candidates.append(list())\n",
    "    # remove any culled_title_candidate if it's just an honorific\n",
    "    candidates_tidy = []\n",
    "    for sequence in culled_title_candidates:\n",
    "        \n",
    "        if len(sequence) > 0:\n",
    "            #remove lowercase function word heads and tails recursively\n",
    "            sequence = remove_function_tail(sequence)\n",
    "            sequence = remove_function_head(sequence)\n",
    "            sequence = remove_honorifics(sequence)\n",
    "            if sequence:\n",
    "                \n",
    "                candidates_tidy.append(\" \".join(sequence).lower())\n",
    "    return candidates_tidy\n",
    "\n",
    "class ReviewObject():\n",
    "    \"\"\"\n",
    "    object class for a book review, including variables for labels, full text, parsed entities, match data, etc.\n",
    "    tokens_raw (list)\n",
    "    tokens_tidy (list)\n",
    "    title_candidates {candidate_string: score, candidate_string: score}\n",
    "    author_candidates {candidate_string: score, candidate_string: score}\n",
    "    publisher_candidates {candidate_string: score, candidate_string: score}\n",
    "    candidate_mappings {\"authors\": { candidate_string: {match_string: match_score, match_string: match_score}}, \"titles\": None, \"publishers\": None}\n",
    "    \n",
    "    \"\"\"\n",
    "    def __init__(self, title, full_text, **kwargs):\n",
    "        # instantiate with metdata from db\n",
    "        self.title = title\n",
    "        self.full_text = full_text\n",
    "        self.__dict__.update(kwargs)\n",
    "        self.make_tokens()\n",
    "        self.make_tidy()\n",
    "        self.extract_title_candidates()\n",
    "        self.extract_author_candidates()\n",
    "        self.extract_publisher_candidates()\n",
    "        self.map_candidates_to_entities()\n",
    "        self.select_top_matches()\n",
    "        \n",
    "    def make_tokens(self):\n",
    "        self.tokens_raw = word_tokenize(self.full_text)\n",
    "\n",
    "    def make_tidy(self):\n",
    "        #adding space around certain problem punctuation\n",
    "        txt = re.sub(',',' , ',self.full_text)\n",
    "        txt = re.sub(';',' ; ',txt)\n",
    "        txt = re.sub(':',' : ',txt)\n",
    "        txt = re.sub('\"',' \" ',txt)\n",
    "        txt = re.sub('&',' & ',txt)\n",
    "        txt = re.sub(\"'(?!s)\",\" ' \" ,txt)\n",
    "        # remove extra whitespace\n",
    "        txt = re.sub(' +',' ',txt)\n",
    "        # fix hyphenated words\n",
    "        txt = ' '.join(fix_hyphenated_words(txt.split()))\n",
    "        #putting space back\n",
    "        txt = re.sub(' , ',', ',txt)\n",
    "        txt = re.sub(' ; ','; ',txt)\n",
    "        txt = re.sub(' : ',': ',txt)\n",
    "        #and fixing hyphen issues\n",
    "        txt = re.sub('-(?!\\w)',' - ',txt)\n",
    "        self.text_tidy = re.sub('(?<!\\w)-',' - ',txt)\n",
    "        self.tokens_tidy = word_tokenize(self.text_tidy)\n",
    "        \n",
    "        self.text_tidy_lower = self.text_tidy.lower()\n",
    "        self.tokens_tidy_lower = word_tokenize(self.text_tidy_lower)\n",
    "        \n",
    "    \n",
    "    def extract_title_candidates(self):\n",
    "        \"\"\"\n",
    "        1. Look for capitalized string in review title\n",
    "        2. Look for before and after cues, get capitalized strings\n",
    "        3. If no cues, look for capitalized strings\n",
    "        4. Cull obvious false positives \n",
    "        \"\"\"\n",
    "        patterns = [\"chapter of\", \"chapters of\", \"latest\", \"book called\", \"volume called\", \"novel called\", \"volume of\", \"edition of\", \"novel\", \\\n",
    "                    \"study of\", \"entitled\", \"the author of\", \"with the title\", \"the manner in which\" \\\n",
    "                    \"book\", \"story\", \"life of\"]\n",
    "        \n",
    "        title_candidates = []\n",
    "        if self.record_title:\n",
    "            title_candidates.extend(re.findall(\"\\\".+\\\"\", self.record_title))\n",
    "            title_candidates.extend(re.findall(\"\\'.+\\'\", self.record_title))\n",
    "            \n",
    "        culled_title_candidates_all = []\n",
    "        for text_block in title_candidates:\n",
    "            culled_title_candidates_all.extend(cull_title(text_block, patterns))\n",
    "                \n",
    "        if len(culled_title_candidates_all) == 0:\n",
    "            title_candidates.append(self.record_title)\n",
    "            culled_title_candidates_all = []\n",
    "            for text_block in title_candidates:\n",
    "                culled_title_candidates_all.extend(cull_title(text_block, patterns))\n",
    "\n",
    "            for i in patterns:\n",
    "                pattern = \"\".join([i, \".+?\\.\"])\n",
    "                title_candidates.extend(re.findall(pattern, self.text_tidy))\n",
    "\n",
    "\n",
    "            for text_block in title_candidates:\n",
    "                culled_title_candidates_all.extend(cull_title(text_block, patterns))\n",
    "        \n",
    "        self.title_candidates = Counter(culled_title_candidates_all)\n",
    "    \n",
    "    def extract_author_candidates(self):\n",
    "        \"\"\"\n",
    "        1. Look for honorifics, try to extrapolate surnames\n",
    "        2. Look for surnames in review title\n",
    "        2. Look for before and after cues + surnames in text\n",
    "        3. If no cues, look for capitalized N-grams ending with surnames\n",
    "        4. Score each candidate entry based on how it was found\n",
    "        \"\"\"\n",
    "        titles = \"\"\"Doctor,Dr,Mr,Mrs,Miss,Msgr,Monsignor,Rev,Reverend,Hon,Honorable,Honourable,Prof,Professor,Madame,Madam,Lady,Lord,Sir,Dame,Master,Mistress,Princess,Prince,Duke,Duchess,Baron,Father,Chancellor,Principal,President,Pres,Warden,Dean,Regent,Rector,Provost,Director\"\"\"\n",
    "        titles = titles.split(',')\n",
    "\n",
    "        full_names = {}\n",
    "\n",
    "        for e,i in enumerate(self.tokens_tidy):\n",
    "            maybe_title = \"\".join([z for z in i if z.isalpha()])\n",
    "            if maybe_title in titles:\n",
    "\n",
    "                surname = []\n",
    "                for p in [e+1, e+2, e+3]:\n",
    "                    try:\n",
    "                        if text[p][0].isupper():\n",
    "                            surname.append(text[p])\n",
    "                    except:\n",
    "                        pass\n",
    "                if len(surname) > 0:\n",
    "                    surname = \" \".join(surname).replace(\"'s\", \"\")\n",
    "                    surname_cleaned = []\n",
    "                    for s in surname:\n",
    "                        if s not in '!\"#$%&\\'()*+,-/:;<=>?@[\\\\]^_`{|}~':\n",
    "                            surname_cleaned.append(s)\n",
    "                    surname_cleaned = \"\".join(surname_cleaned)\n",
    "                    try:\n",
    "                        check = full_names[surname]\n",
    "                    except:\n",
    "                        full_names[surname] = {}\n",
    "                    try:\n",
    "                        full_names[surname]['title'].append(maybe_title)\n",
    "                    except:\n",
    "                        full_names[surname]['title'] = [maybe_title,]\n",
    "                    try:\n",
    "                        full_names[surname]['surname_cleaned'].append(surname_cleaned)\n",
    "                    except:\n",
    "                        full_names[surname]['surname_cleaned'] = [surname_cleaned,]\n",
    "\n",
    "        for surname in full_names.keys():\n",
    "            s = surname.split()\n",
    "            for e, i in enumerate(text):\n",
    "                if text[e:e+len(s)] == s:\n",
    "                    forename = \"\".join([x for x in text[e-1] if x.isalpha()])\n",
    "                    if forename.istitle() and forename not in titles:\n",
    "                        try:\n",
    "                            full_names[surname]['forename'].append(forename)\n",
    "                        except:\n",
    "                            full_names[surname]['forename'] = [forename,]\n",
    "                try:\n",
    "                    forenames = full_names[surname]['forename']\n",
    "                except:\n",
    "                    full_names[surname]['forename'] = []\n",
    "\n",
    "        for name in full_names.keys():\n",
    "            for i in full_names[name]['forename']:\n",
    "                try: \n",
    "                    full_names[name]['full_name'].append(i + \" \" + name)\n",
    "                except:\n",
    "                    full_names[name]['full_name'] = [i + \" \" + name,]\n",
    "            try:\n",
    "                full = full_names[surname]['full_name']\n",
    "            except:\n",
    "                full_names[name]['full_name'] = []\n",
    "        \n",
    "        full_name_candidates = {}\n",
    "\n",
    "        for n in full_names.keys():\n",
    "            for f in full_names[n]['full_name']:\n",
    "                try:\n",
    "                    full_name_candidates[f] += 1\n",
    "                except:\n",
    "                    full_name_candidates[f] = 1\n",
    "        \n",
    "        author_surname_candidates = {}\n",
    "        \n",
    "        # add title and surnames\n",
    "        for n,o in full_names.items():\n",
    "            for i in o['surname_cleaned']:\n",
    "                try:\n",
    "                    author_surname_candidates[i] +=1\n",
    "                except:\n",
    "                    author_surname_candidates[i] =1\n",
    "                \n",
    "                # check if surname in a full name\n",
    "                name_part = False\n",
    "                for full in full_name_candidates.keys():\n",
    "                    if i in full:\n",
    "                        name_part = True\n",
    "                if not name_part:\n",
    "                    try: \n",
    "                        full_name_candidates[i] += 1\n",
    "                    except:\n",
    "                        full_name_candidates[i] = 1\n",
    "                        \n",
    "        self.author_candidates = full_name_candidates\n",
    "        self.author_surname_candidates = author_surname_candidates\n",
    "    \n",
    "    def extract_publisher_candidates(self):\n",
    "        \"\"\"\n",
    "        1. Fuzzy match against known publishers, and count mentions\n",
    "        2. If no matches, look for pub ends and capitalization, and count each candidate\n",
    "        \"\"\"\n",
    "        pub_ends = ['company','co','incorporated','inc','firm','press','group','publishers','publishing', \\\n",
    "            'publications','pub','books','ltd','limited','society','house','associates', 'book', 'university']\n",
    "        \n",
    "        self.publisher_candidates = {}\n",
    "        \n",
    "        #this list is defined outside the class\n",
    "        for p in known_publishers:\n",
    "            #base fuzziness on length of pubname\n",
    "            if len(p) < 6:\n",
    "                fuzz=0\n",
    "            elif len(p) > 5 and len(p) < 10:\n",
    "                fuzz=1\n",
    "            elif len(p) > 9 and len(p) < 15:\n",
    "                fuzz=2\n",
    "            else:\n",
    "                fuzz=3\n",
    "            \n",
    "            matches = find_near_matches(p, self.text_tidy, max_l_dist=fuzz)\n",
    "            \n",
    "            if len(matches) > 0:\n",
    "                match_strings = [self.text_tidy[m.start:m.end] for m in matches]\n",
    "                for i in match_strings:\n",
    "                    try:\n",
    "                        self.publisher_candidates[p] += 1\n",
    "                    except:\n",
    "                        self.publisher_candidates[p] = 1\n",
    "                        \n",
    "        if self.publisher_candidates == {}:\n",
    "            publisher_candidates = [list(),]\n",
    "            for token in self.tokens_tidy:\n",
    "                if token[0].isupper() or token in ['and', '&'] or token in string.punctuation:\n",
    "                    if len(publisher_candidates[-1]) > 0:\n",
    "                        if token not in string.punctuation:\n",
    "                            publisher_candidates[-1].append(token) \n",
    "                    else:\n",
    "                        if token.istitle():\n",
    "                            publisher_candidates[-1].append(token)\n",
    "                else:\n",
    "                    if len(publisher_candidates[-1]) > 0:\n",
    "                        publisher_candidates.append(list())\n",
    "    \n",
    "            matches = []\n",
    "            for sequence in publisher_candidates:\n",
    "                for token in sequence:\n",
    "                    normed_token = token.lower().translate(str.maketrans('', '', string.punctuation))\n",
    "        \n",
    "                    if normed_token in pub_ends:\n",
    "                        matches.append(\" \".join(sequence))\n",
    "                        break\n",
    "                        \n",
    "            self.publisher_candidates = Counter(matches)\n",
    "\n",
    "    def map_candidates_to_entities(self):\n",
    "        \"\"\"\n",
    "        1. Set keys with no values if no candidates \n",
    "        2. Map and score publisher matches\n",
    "        3. Map and score author matches\n",
    "        4. Map and score title matches\n",
    "        5. Map and score whole book matches\n",
    "        \n",
    "        \"\"\"\n",
    "        pass\n",
    "    \n",
    "    def select_top_matches(self):\n",
    "        \"\"\"\n",
    "        Return one publisher, one title, and one or more authors thought to be the correct matches \n",
    "        \"\"\"\n",
    "\n",
    "    def __repr__(self):\n",
    "        return \"Review Object titled '%s' with the following instance variables: %s \" % (self.title, \"'\"+\"', '\".join(self.__dict__.keys())+\"'\")\n",
    "    \n",
    "        "
   ]
  },
  {
   "cell_type": "code",
   "execution_count": 2,
   "metadata": {},
   "outputs": [
    {
     "name": "stdout",
     "output_type": "stream",
     "text": [
      "Pretty printing has been turned OFF\n"
     ]
    }
   ],
   "source": [
    "import sys\n",
    "sys.path.append('../')\n",
    "\n",
    "from application.name_obj_classes import PubName, PersonName, remove_punct\n",
    "\n",
    "from application.review_obj_class import ReviewObj\n",
    "\n",
    "from application.text_preprocessing import preprocess_text\n",
    "\n",
    "import os\n",
    "import pandas as pd\n",
    "import re\n",
    "from collections import Counter\n",
    "import numpy as np\n",
    "import pickle\n",
    "from nltk.metrics import edit_distance\n",
    "%pprint"
   ]
  },
  {
   "cell_type": "code",
   "execution_count": 34,
   "metadata": {},
   "outputs": [],
   "source": [
    "review_objects = []\n",
    "for i in aps_details_single:\n",
    "    r = ReviewObject(title=i.reviewed_book_title, full_text=i.full_text, record_title=i.record_title)\n",
    "    review_objects.append(r)"
   ]
  },
  {
   "cell_type": "code",
   "execution_count": 4,
   "metadata": {},
   "outputs": [],
   "source": [
    "#titles[0], authors[0], author_viafs[0], years[0], publishers[0], publisher_viafs[0]"
   ]
  },
  {
   "cell_type": "code",
   "execution_count": 22,
   "metadata": {},
   "outputs": [],
   "source": [
    "# vector = every title word, every author name token, every publisher name token \n",
    "# ground truth will be a list of token lists, one for each book\n",
    "ground_truth_lists = []\n",
    "for e,i in enumerate(titles):\n",
    "    this_list = []\n",
    "    for z in [titles, authors, publishers]:\n",
    "        tokens = word_tokenize(z[e].lower())\n",
    "        tokens = [j.replace(\"&\", \"and\") for j in tokens]\n",
    "        tokens = [j for j in tokens if j not in string.punctuation]\n",
    "        this_list.extend(tokens)\n",
    "    ground_truth_lists.append(this_list)\n",
    "#title = titles[0], authors[0], author_viafs[0], years[0], publishers[0], publisher_viafs[0]"
   ]
  },
  {
   "cell_type": "code",
   "execution_count": 40,
   "metadata": {},
   "outputs": [
    {
     "data": {
      "text/plain": [
       "['the', 'confessions', 'of', 'lord', 'byron', 'lord', 'byron', 'w.', 'a.', 'lewis', 'bettany', 'john', 'murray', 'charles', 'scribner', \"'s\", 'sons']"
      ]
     },
     "execution_count": 40,
     "metadata": {},
     "output_type": "execute_result"
    }
   ],
   "source": [
    "ground_truth_lists[1]"
   ]
  },
  {
   "cell_type": "code",
   "execution_count": 46,
   "metadata": {},
   "outputs": [],
   "source": [
    "from sklearn.metrics.pairwise import cosine_similarity\n",
    "from sklearn.feature_extraction import DictVectorizer"
   ]
  },
  {
   "cell_type": "code",
   "execution_count": 110,
   "metadata": {},
   "outputs": [],
   "source": [
    "all_scores = []\n",
    "all_text_merged = []\n",
    "\n",
    "# loop candidate data\n",
    "for e,t in enumerate(review_objects):\n",
    "    # true label is titles[e]\n",
    "    # get text from various attributes (title, publisher, author) \n",
    "    # tokenize\n",
    "    # remove function words and punctuation? \n",
    "    text_merged = [] \n",
    "    for z in [t.title_candidates, t.author_candidates, t.publisher_candidates]:\n",
    "        this_list = []\n",
    "        #z is a dictionary or Counter\n",
    "        for k,v in z.items():\n",
    "            #screen out 'review no title'\n",
    "            tokens = word_tokenize(k.lower())\n",
    "            tokens = [j.replace(\"&\", \"and\") for j in tokens]\n",
    "            tokens = [j for j in tokens if j not in string.punctuation]\n",
    "            #for r in range(v):\n",
    "            this_list.extend(tokens)\n",
    "        match_indices = []\n",
    "        for n,t in enumerate(this_list):\n",
    "            if t == 'review':\n",
    "                try:\n",
    "                    if this_list[n+1] == 'no':\n",
    "\n",
    "                        try:\n",
    "                            if this_list[n+2] == 'title':\n",
    "                                match_index = n\n",
    "                                match_indices.append(n)\n",
    "                        except:\n",
    "                            pass\n",
    "                except:\n",
    "                    pass\n",
    "        for m in match_indices:\n",
    "            this_list[m] = ''\n",
    "            this_list[m+1] = ''\n",
    "            this_list[m+2] = ''\n",
    "        this_list = [j for j in this_list if j !='']\n",
    "        text_merged.extend(this_list)\n",
    "    all_text_merged.append(text_merged)\n",
    "    # the true vector becomes comparison_set[-1]\n",
    "    comparison_set = [Counter(u) for u in ground_truth_lists] + [Counter(text_merged)]\n",
    "    \n",
    "    # compare \n",
    "    vectorizer = DictVectorizer()\n",
    "    X = vectorizer.fit_transform(comparison_set)\n",
    "    vectors = X.toarray()\n",
    "    # loop all, get similarity, last one is always 1.0\n",
    "    scores = []\n",
    "    for v in vectors:\n",
    "        score = cosine_similarity([v], [vectors[-1]])\n",
    "        scores.append(score)\n",
    "    all_scores.append(scores)"
   ]
  },
  {
   "cell_type": "code",
   "execution_count": 111,
   "metadata": {},
   "outputs": [
    {
     "data": {
      "text/plain": [
       "['carnival', 'd.', 'appleton', 'and', 'company', 'd.', 'appleton', 'and', 'company', 'appleton']"
      ]
     },
     "execution_count": 111,
     "metadata": {},
     "output_type": "execute_result"
    }
   ],
   "source": [
    "all_text_merged[2]"
   ]
  },
  {
   "cell_type": "code",
   "execution_count": 112,
   "metadata": {},
   "outputs": [],
   "source": [
    "# how often is the right answer the top answer? how often is the correct match in the top 5?\n",
    "output = []\n",
    "for e, score_grid in enumerate(all_scores):\n",
    "    df = pd.DataFrame()\n",
    "    df['score'] = [i[0][0] for i in score_grid][:-1]\n",
    "    df['title'] = titles\n",
    "    match = []\n",
    "    for i in range(len(titles)):\n",
    "        if e == i:\n",
    "            match.append('yes')\n",
    "        else:\n",
    "            match.append('no')\n",
    "    df['match'] = match\n",
    "    output.append(df.sort_values(by=\"score\", ascending=False).reset_index(drop=False))"
   ]
  },
  {
   "cell_type": "code",
   "execution_count": 158,
   "metadata": {},
   "outputs": [],
   "source": [
    "top_n = []\n",
    "accuracy = []\n",
    "\n",
    "for r in range(1, 562):\n",
    "    results = []\n",
    "    for i in output:\n",
    "        df_n = i.iloc[:r]\n",
    "        # check if 'yes' is in df_n\n",
    "        result = len(df_n.loc[df_n['match'] == 'yes']) > 0\n",
    "        results.append(result)\n",
    "    acc = len([i for i in results if i])/len(results) \n",
    "    top_n.append(r)\n",
    "    accuracy.append(acc)"
   ]
  },
  {
   "cell_type": "code",
   "execution_count": 159,
   "metadata": {},
   "outputs": [
    {
     "data": {
      "text/plain": [
       "<matplotlib.axes._subplots.AxesSubplot object at 0x12ec82f28>"
      ]
     },
     "execution_count": 159,
     "metadata": {},
     "output_type": "execute_result"
    },
    {
     "data": {
      "image/png": "[encoded data removed]",
      "text/plain": [
       "<Figure size 432x288 with 1 Axes>"
      ]
     },
     "metadata": {
      "needs_background": "light"
     },
     "output_type": "display_data"
    }
   ],
   "source": [
    "%matplotlib inline\n",
    "import seaborn as sns\n",
    "sns.lineplot(x=top_n, y=accuracy)"
   ]
  },
  {
   "cell_type": "code",
   "execution_count": 138,
   "metadata": {},
   "outputs": [],
   "source": [
    "top_match = []\n",
    "top_five = []\n",
    "top_ten = []\n",
    "top_25 = []\n",
    "top_50 = []\n",
    "top_100 = []\n",
    "top_200 = []\n",
    "for i in output:\n",
    "    df_five = i.iloc[:5]\n",
    "    df_ten = i.iloc[:10]\n",
    "    df_25 = i.iloc[:25]\n",
    "    df_50 = i.iloc[:50]\n",
    "    df_100 = i.iloc[:100]\n",
    "    df_200 =i.iloc[:200]\n",
    "    top_match.append(i.iloc[0]['match'] == 'yes')\n",
    "    top_five.append(len(df_five.loc[df_five['match'] == 'yes']) > 0)\n",
    "    top_ten.append(len(df_ten.loc[df_ten['match'] == 'yes']) > 0)\n",
    "    top_25.append(len(df_25.loc[df_25['match'] == 'yes']) > 0)\n",
    "    top_50.append(len(df_50.loc[df_50['match'] == 'yes']) > 0)\n",
    "    top_100.append(len(df_100.loc[df_100['match'] == 'yes']) > 0)\n",
    "    top_200.append(len(df_200.loc[df_200['match'] == 'yes']) > 0)"
   ]
  },
  {
   "cell_type": "code",
   "execution_count": 139,
   "metadata": {},
   "outputs": [
    {
     "data": {
      "text/plain": [
       "0.5597147950089126"
      ]
     },
     "execution_count": 139,
     "metadata": {},
     "output_type": "execute_result"
    }
   ],
   "source": [
    "# 55.97% whole vector\n",
    "len([i for i in top_match if i])/len(top_match)"
   ]
  },
  {
   "cell_type": "code",
   "execution_count": 140,
   "metadata": {},
   "outputs": [
    {
     "data": {
      "text/plain": [
       "0.7308377896613191"
      ]
     },
     "execution_count": 140,
     "metadata": {},
     "output_type": "execute_result"
    }
   ],
   "source": [
    "# 73% in top five\n",
    "len([i for i in top_five if i])/len(top_five)"
   ]
  },
  {
   "cell_type": "code",
   "execution_count": 141,
   "metadata": {},
   "outputs": [
    {
     "data": {
      "text/plain": [
       "0.8003565062388592"
      ]
     },
     "execution_count": 141,
     "metadata": {},
     "output_type": "execute_result"
    }
   ],
   "source": [
    "# 80% in top ten\n",
    "len([i for i in top_ten if i])/len(top_ten)"
   ]
  },
  {
   "cell_type": "code",
   "execution_count": 142,
   "metadata": {},
   "outputs": [
    {
     "data": {
      "text/plain": [
       "0.875222816399287"
      ]
     },
     "execution_count": 142,
     "metadata": {},
     "output_type": "execute_result"
    }
   ],
   "source": [
    "#87.5% in top 25\n",
    "len([i for i in top_25 if i])/len(top_25)"
   ]
  },
  {
   "cell_type": "code",
   "execution_count": 143,
   "metadata": {},
   "outputs": [
    {
     "data": {
      "text/plain": [
       "0.9197860962566845"
      ]
     },
     "execution_count": 143,
     "metadata": {},
     "output_type": "execute_result"
    }
   ],
   "source": [
    "#91% in top 50\n",
    "len([i for i in top_50 if i])/len(top_50)"
   ]
  },
  {
   "cell_type": "code",
   "execution_count": 145,
   "metadata": {},
   "outputs": [
    {
     "data": {
      "text/plain": [
       "0.9536541889483066"
      ]
     },
     "execution_count": 145,
     "metadata": {},
     "output_type": "execute_result"
    }
   ],
   "source": [
    "len([i for i in top_200 if i])/len(top_200)"
   ]
  },
  {
   "cell_type": "code",
   "execution_count": 126,
   "metadata": {},
   "outputs": [
    {
     "data": {
      "text/plain": [
       "'Animal Artisans; and Other Studies of Beasts and Birds'"
      ]
     },
     "execution_count": 126,
     "metadata": {},
     "output_type": "execute_result"
    }
   ],
   "source": [
    "mismatches = []\n",
    "mismatch_candidate_tokens = []\n",
    "for e, df in enumerate(output):\n",
    "    if df.iloc[0]['match'] != 'yes':\n",
    "        mismatches.append(df)\n",
    "        mismatch_candidate_tokens.append(all_text_merged[e])\n",
    "mismatches[2].iloc[0]['title'], mismatches[2].loc[mismatches[2]['match'] == 'yes'].iloc[0]['title'], mismatch_candidate_tokens[2]\n",
    "mismatches[2].iloc[24]['title']"
   ]
  },
  {
   "cell_type": "code",
   "execution_count": null,
   "metadata": {},
   "outputs": [],
   "source": [
    "import requests\n",
    "from bs4 import BeautifulSoup\n",
    "#r = requests.get(\"https://www.worldcat.org/search?q=ti%3Ahuckleberry+finn&fq=yr%3A1865..1925+%3E+%3E+x0%3Abook&qt=advanced&dblist=638\")\n",
    "# page 2 ... \"https://www.worldcat.org/search?q=ti%3Ahuckleberry+finn&fq=yr%3A1865..1925+%3E+%3E+x0%3Abook&dblist=638&start=11&qt=page_number_link\"\n",
    "bs = BeautifulSoup(r.text)\n",
    "bs.find_all(\"span\", {\"class\":\"itemPublisher\"})"
   ]
  }
 ],
 "metadata": {
  "kernelspec": {
   "display_name": "Python 3",
   "language": "python",
   "name": "python3"
  },
  "language_info": {
   "codemirror_mode": {
    "name": "ipython",
    "version": 3
   },
   "file_extension": ".py",
   "mimetype": "text/x-python",
   "name": "python",
   "nbconvert_exporter": "python",
   "pygments_lexer": "ipython3",
   "version": "3.6.5"
  }
 },
 "nbformat": 4,
 "nbformat_minor": 2
}
