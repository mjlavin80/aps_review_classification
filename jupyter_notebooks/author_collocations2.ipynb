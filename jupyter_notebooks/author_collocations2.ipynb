{
 "cells": [
  {
   "cell_type": "markdown",
   "metadata": {},
   "source": [
    "+ up to 7 words away in both directions\n",
    "+ omitting stopwords - articles, prep, punct?\n",
    "+ lowercase everything\n",
    "+ phrase2vec"
   ]
  },
  {
   "cell_type": "code",
   "execution_count": 1,
   "metadata": {},
   "outputs": [],
   "source": [
    "import sys\n",
    "sys.path.append('../')\n",
    "import os"
   ]
  },
  {
   "cell_type": "code",
   "execution_count": 2,
   "metadata": {},
   "outputs": [
    {
     "name": "stdout",
     "output_type": "stream",
     "text": [
      "Pretty printing has been turned OFF\n"
     ]
    }
   ],
   "source": [
    "from application.review_obj_class import ReviewObj\n",
    "from application.namespan_class import NameSpanGenerator\n",
    "import pandas as pd\n",
    "import numpy as np\n",
    "%pprint"
   ]
  },
  {
   "cell_type": "code",
   "execution_count": 3,
   "metadata": {},
   "outputs": [],
   "source": [
    "directory = \"../../aps_reviews_1000/\"\n",
    "filenames = os.listdir(directory)\n",
    "reviews = ((file.split('.')[0], open(directory + file).read()) for file in filenames)"
   ]
  },
  {
   "cell_type": "code",
   "execution_count": 4,
   "metadata": {},
   "outputs": [],
   "source": [
    "review_list = [ReviewObj(file, txt) for (file, txt) in reviews]"
   ]
  },
  {
   "cell_type": "code",
   "execution_count": 5,
   "metadata": {},
   "outputs": [],
   "source": [
    "ex = NameSpanGenerator.generate(review_list[20])"
   ]
  },
  {
   "cell_type": "code",
   "execution_count": 6,
   "metadata": {},
   "outputs": [
    {
     "data": {
      "text/plain": [
       "[['.', 'In', 'paying', 'a', 'hearty', 'tribute', 'to', 'Dr._Gladden', \"'s\", 'zealous', 'philanthropy', 'and', 'evident', 'kindness', ','], ['Competition', 'is', 'the', 'bugbear', 'of', 'writers', 'of', 'Dr._Gladden', \"'s\", 'school', '.', 'One', 'would', 'imagine', 'it'], ['competition', '.', 'All', 'this', 'is', 'probably', 'what', 'Dr._Gladden', 'means', ',', 'but', 'something', 'far', 'more', 'revolutionary'], ['of', 'the', 'capital', 'of', 'the', 'country', '.', 'Dr._Gladden', 'is', 'not', 'consistent', 'upon', 'the', 'all-important', 'question']]"
      ]
     },
     "execution_count": 6,
     "metadata": {},
     "output_type": "execute_result"
    }
   ],
   "source": [
    "[x.collocates for x in ex.spans]"
   ]
  },
  {
   "cell_type": "code",
   "execution_count": 7,
   "metadata": {},
   "outputs": [
    {
     "data": {
      "text/plain": [
       "['New', 'Rl']"
      ]
     },
     "execution_count": 7,
     "metadata": {},
     "output_type": "execute_result"
    }
   ],
   "source": [
    "list(set((x for x in review_list[0].cleaned_text[:50].split() if x.isalnum())))"
   ]
  },
  {
   "cell_type": "code",
   "execution_count": 8,
   "metadata": {},
   "outputs": [
    {
     "data": {
      "text/plain": [
       "[Dr. Gladden, Dr. Gladden, Dr. Gladden, Dr. Gladden]"
      ]
     },
     "execution_count": 8,
     "metadata": {},
     "output_type": "execute_result"
    }
   ],
   "source": [
    "[x.name for x in ex.spans]"
   ]
  },
  {
   "cell_type": "code",
   "execution_count": 9,
   "metadata": {},
   "outputs": [],
   "source": [
    "for x in review_list:\n",
    "    x = NameSpanGenerator.generate(x)"
   ]
  },
  {
   "cell_type": "code",
   "execution_count": 10,
   "metadata": {},
   "outputs": [],
   "source": [
    "example_reviews = [x for x in review_list if (len(x.person_names) > 3) and (len(x.pub_names) > 1)]"
   ]
  },
  {
   "cell_type": "code",
   "execution_count": 11,
   "metadata": {},
   "outputs": [
    {
     "data": {
      "text/plain": [
       "77"
      ]
     },
     "execution_count": 11,
     "metadata": {},
     "output_type": "execute_result"
    }
   ],
   "source": [
    "len(example_reviews)"
   ]
  },
  {
   "cell_type": "code",
   "execution_count": 12,
   "metadata": {},
   "outputs": [
    {
     "data": {
      "text/plain": [
       "[Dr. Leopold Damrosch, Mr. Andrew Carnegie, Dr. LeopOld Damrosch, Prof. Horatio W. Parker, Mr. Parker, Lord. The, Oratorio Society, Oratorio Society, Mendelssohn Society, Symphony Society]"
      ]
     },
     "execution_count": 12,
     "metadata": {},
     "output_type": "execute_result"
    }
   ],
   "source": [
    "[x.name for x in example_reviews[0].spans]"
   ]
  },
  {
   "cell_type": "code",
   "execution_count": 13,
   "metadata": {},
   "outputs": [],
   "source": [
    "# # revs w front probs\n",
    "# for e, rev in enumerate(example_reviews):\n",
    "#     for num in [x.name.review_loc_toks for x in rev.spans]:\n",
    "#         if num < 3:\n",
    "#             print(e, [x.name.review_loc_toks for x in rev.spans])"
   ]
  },
  {
   "cell_type": "code",
   "execution_count": 14,
   "metadata": {},
   "outputs": [],
   "source": [
    "# # revs w back probs\n",
    "# for e, rev in enumerate(example_reviews):\n",
    "#     for num in [x.name.review_loc_toks for x in rev.spans]:\n",
    "#         if num > (len(rev.coll_toks_ind)-8):\n",
    "#             print(e, [x.name.review_loc_toks for x in rev.spans])"
   ]
  },
  {
   "cell_type": "code",
   "execution_count": 15,
   "metadata": {},
   "outputs": [],
   "source": [
    "# name_indices = [x.name.review_loc_toks for x in example_reviews[8].spans]"
   ]
  },
  {
   "cell_type": "code",
   "execution_count": 16,
   "metadata": {},
   "outputs": [],
   "source": [
    "# name_indices2 = [x.name.review_loc_toks for x in example_reviews[27].spans]"
   ]
  },
  {
   "cell_type": "code",
   "execution_count": 17,
   "metadata": {},
   "outputs": [],
   "source": [
    "# name_indices"
   ]
  },
  {
   "cell_type": "code",
   "execution_count": 18,
   "metadata": {},
   "outputs": [],
   "source": [
    "# spans = example_reviews[8].spans"
   ]
  },
  {
   "cell_type": "code",
   "execution_count": 19,
   "metadata": {},
   "outputs": [],
   "source": [
    "# spans2 = example_reviews[27].spans"
   ]
  },
  {
   "cell_type": "code",
   "execution_count": 20,
   "metadata": {},
   "outputs": [],
   "source": [
    "# spans"
   ]
  },
  {
   "cell_type": "code",
   "execution_count": 21,
   "metadata": {},
   "outputs": [],
   "source": [
    "import copy"
   ]
  },
  {
   "cell_type": "code",
   "execution_count": 22,
   "metadata": {},
   "outputs": [],
   "source": [
    "# toks = copy.deepcopy(example_reviews[8].coll_toks_ind)"
   ]
  },
  {
   "cell_type": "code",
   "execution_count": 23,
   "metadata": {},
   "outputs": [],
   "source": [
    "# toks2 = copy.deepcopy(example_reviews[27].coll_toks_ind)"
   ]
  },
  {
   "cell_type": "code",
   "execution_count": 24,
   "metadata": {},
   "outputs": [],
   "source": [
    "# name_indices"
   ]
  },
  {
   "cell_type": "code",
   "execution_count": 25,
   "metadata": {},
   "outputs": [],
   "source": [
    "# toks[(9-7):(9+8)]"
   ]
  },
  {
   "cell_type": "code",
   "execution_count": 26,
   "metadata": {},
   "outputs": [],
   "source": [
    "# for e, span in enumerate(spans):\n",
    "#     #print(e, span)\n",
    "#     #print(name_indices[e] < 3)\n",
    "#     if (name_indices[e] < 7):\n",
    "#         #print(e)\n",
    "#         ftoks = list((7-name_indices[e])*\"^\")\n",
    "#         ftoks.extend((toks))\n",
    "#         print(ftoks[0:(name_indices[e]+8+(7-name_indices[e]))])"
   ]
  },
  {
   "cell_type": "code",
   "execution_count": 27,
   "metadata": {},
   "outputs": [],
   "source": [
    "# for e, span in enumerate(spans2):\n",
    "#     if (name_indices2[e] > (len(toks2)-8)):\n",
    "#         btoks = toks2\n",
    "#         btoks.extend(list((name_indices2[e]-(len(toks2)-8)) * \"$\") )\n",
    "#         print(btoks[(name_indices2[e]-7):])"
   ]
  },
  {
   "cell_type": "markdown",
   "metadata": {},
   "source": [
    "## Looking through the collocations"
   ]
  },
  {
   "cell_type": "code",
   "execution_count": 28,
   "metadata": {},
   "outputs": [
    {
     "data": {
      "text/plain": [
       "[<application.namespan_class.NameSpan object at 0x1a3fc4c090>, <application.namespan_class.NameSpan object at 0x1a3fc4c250>, <application.namespan_class.NameSpan object at 0x1a3fc4c510>, <application.namespan_class.NameSpan object at 0x1a3fc4c150>]"
      ]
     },
     "execution_count": 28,
     "metadata": {},
     "output_type": "execute_result"
    }
   ],
   "source": [
    "review_list[20].spans"
   ]
  },
  {
   "cell_type": "code",
   "execution_count": 29,
   "metadata": {},
   "outputs": [
    {
     "data": {
      "text/plain": [
       "[<application.namespan_class.NameSpan object at 0x1a3fc4e850>, <application.namespan_class.NameSpan object at 0x1a3fc4e110>, <application.namespan_class.NameSpan object at 0x1a3fc4e4d0>, <application.namespan_class.NameSpan object at 0x1a3fc4ecd0>, <application.namespan_class.NameSpan object at 0x1a3fc4ed10>, <application.namespan_class.NameSpan object at 0x1a3fc4eb50>, <application.namespan_class.NameSpan object at 0x1a3fc4e7d0>, <application.namespan_class.NameSpan object at 0x1a3fc4ec90>, <application.namespan_class.NameSpan object at 0x1a3fc4ed50>, <application.namespan_class.NameSpan object at 0x1a3fc4ed90>, <application.namespan_class.NameSpan object at 0x1a3fc4ea90>, <application.namespan_class.NameSpan object at 0x1a3fc4ec50>, <application.namespan_class.NameSpan object at 0x1a3fc4ee10>, <application.namespan_class.NameSpan object at 0x1a3fc4ee50>, <application.namespan_class.NameSpan object at 0x1a3fc4ee90>, <application.namespan_class.NameSpan object at 0x1a3fc4eed0>, <application.namespan_class.NameSpan object at 0x1a3fc4ef10>, <application.namespan_class.NameSpan object at 0x1a3fc4ef50>, <application.namespan_class.NameSpan object at 0x1a3fc4ef90>, <application.namespan_class.NameSpan object at 0x1a3fc4efd0>, <application.namespan_class.NameSpan object at 0x1a3fc4edd0>, <application.namespan_class.NameSpan object at 0x1a3fc5f090>, <application.namespan_class.NameSpan object at 0x1a3fc5f0d0>, <application.namespan_class.NameSpan object at 0x1a3fc5f110>, <application.namespan_class.NameSpan object at 0x1a3fc5f150>, <application.namespan_class.NameSpan object at 0x1a3fc5f190>, <application.namespan_class.NameSpan object at 0x1a3fc5f1d0>, <application.namespan_class.NameSpan object at 0x1a3fc5f210>, <application.namespan_class.NameSpan object at 0x1a3fc5f250>, <application.namespan_class.NameSpan object at 0x1a3fc5f290>, <application.namespan_class.NameSpan object at 0x1a3fc5f2d0>, <application.namespan_class.NameSpan object at 0x1a3fc5f310>, <application.namespan_class.NameSpan object at 0x1a3fc5f350>, <application.namespan_class.NameSpan object at 0x1a3fc5f390>, <application.namespan_class.NameSpan object at 0x1a3fc5f3d0>, <application.namespan_class.NameSpan object at 0x1a3fc5f410>, <application.namespan_class.NameSpan object at 0x1a3fc5f450>, <application.namespan_class.NameSpan object at 0x1a3fc5f490>, <application.namespan_class.NameSpan object at 0x1a3fc5f4d0>, <application.namespan_class.NameSpan object at 0x1a3fc5f510>, <application.namespan_class.NameSpan object at 0x1a3fc5f550>, <application.namespan_class.NameSpan object at 0x1a3fc5f590>, <application.namespan_class.NameSpan object at 0x1a3fc5f5d0>, <application.namespan_class.NameSpan object at 0x1a3fc5f610>, <application.namespan_class.NameSpan object at 0x1a3fc5f650>]"
      ]
     },
     "execution_count": 29,
     "metadata": {},
     "output_type": "execute_result"
    }
   ],
   "source": [
    "[span for spans in (rev.spans for rev in review_list[:2]) for span in spans]"
   ]
  },
  {
   "cell_type": "code",
   "execution_count": 30,
   "metadata": {},
   "outputs": [],
   "source": [
    "spans = [span for spans in (rev.spans for rev in review_list) for span in spans]"
   ]
  },
  {
   "cell_type": "code",
   "execution_count": 31,
   "metadata": {},
   "outputs": [
    {
     "data": {
      "text/plain": [
       "5839"
      ]
     },
     "execution_count": 31,
     "metadata": {},
     "output_type": "execute_result"
    }
   ],
   "source": [
    "len(spans)"
   ]
  },
  {
   "cell_type": "code",
   "execution_count": 32,
   "metadata": {},
   "outputs": [],
   "source": [
    "person_spans = [span for span in spans if span.label == 'person']"
   ]
  },
  {
   "cell_type": "markdown",
   "metadata": {},
   "source": [
    "### Problem situations:\n",
    "    \n",
    "+ Okay: 0 1 name(2) 3 4\n",
    "    + 2 !< 2\n",
    "+ Bad: X 0 name(1) 2 3\n",
    "    + 1 < 2\n",
    "    + **2 - 1 = 1**\n",
    "+ Bad: X X name(0) 2 3\n",
    "    + 0 < 2\n",
    "    + **2 - 0 = 2**\n",
    "\n",
    "**Pattern: span.name.review_loc_toks < 2**\n",
    "\n",
    "+ Okay: -5 -4 name(-3) -2 -1\n",
    "    + 0 1 name(2) 3 4\n",
    "    + 5 toks, 5 - 3 = 2\n",
    "    + 2 !> 2\n",
    "+ Bad: -4 -3 name(-2) -1 X\n",
    "    + 0 1 name(2) 3\n",
    "    + 4 toks, 4 - 3 = 1\n",
    "    + 2 > 1\n",
    "    + **2 - 1 = 1**\n",
    "+ Bad: -3 -2 name(-1) X X\n",
    "    + 0 1 name(2)\n",
    "    + 3 toks, 3 - 3 = 0\n",
    "    + 2 > 0\n",
    "    + **2 - 0 = 2**\n",
    "+ Bad: -4 -3 name(-2) -1 X\n",
    "    + 300 301 302(name) 303 X\n",
    "    + 304 toks, 304 - 3 = 301\n",
    "    + 302 > 301\n",
    "    + **302 - 301 = 1**\n",
    "+ Bad: -3 -2 name(-1) X X\n",
    "    + 302 303(name) X X\n",
    "    + 304 toks, 304 - 3 = 301\n",
    "    + 303 > 301\n",
    "    + **303 - 301 = 2**\n",
    "\n",
    "**Pattern: span.name.review_loc_toks > (len(toks)-3)**"
   ]
  },
  {
   "cell_type": "code",
   "execution_count": 33,
   "metadata": {},
   "outputs": [],
   "source": [
    "# len([span.collocates for span in person_spans if len(span.collocates) < 5])"
   ]
  },
  {
   "cell_type": "code",
   "execution_count": 34,
   "metadata": {},
   "outputs": [],
   "source": [
    "# [span.collocates for span in person_spans if len(span.collocates) < 5]"
   ]
  },
  {
   "cell_type": "code",
   "execution_count": 35,
   "metadata": {},
   "outputs": [],
   "source": [
    "# problem_ids = [span.review_id for span in person_spans if len(span.collocates) < 5]"
   ]
  },
  {
   "cell_type": "code",
   "execution_count": 36,
   "metadata": {},
   "outputs": [],
   "source": [
    "# problem_revs = [rev for rev in review_list if rev.review_id in problem_ids]"
   ]
  },
  {
   "cell_type": "code",
   "execution_count": 37,
   "metadata": {},
   "outputs": [],
   "source": [
    "# len(problem_revs)"
   ]
  },
  {
   "cell_type": "code",
   "execution_count": 38,
   "metadata": {},
   "outputs": [],
   "source": [
    "# import copy"
   ]
  },
  {
   "cell_type": "code",
   "execution_count": 39,
   "metadata": {},
   "outputs": [],
   "source": [
    "# for review in problem_revs:\n",
    "#     for span in review.spans:\n",
    "#         toks = copy.deepcopy(review.coll_toks_ind)\n",
    "#         ni = span.name.review_loc_toks\n",
    "#         if (ni < 2):\n",
    "#             print(\"front:\")\n",
    "#             ftoks = list((2-ni)*\"^\")\n",
    "#             ftoks.extend((toks))\n",
    "#             print(ftoks[0:(ni+3+(2-ni))])\n",
    "#             print()\n",
    "#         if (ni > (len(toks)-3)):\n",
    "#             print(\"back:\")\n",
    "#             btoks = toks\n",
    "#             btoks.extend(list((ni-(len(toks)-3)) * \"$\"))\n",
    "#             print(btoks[(ni-2):])\n",
    "#             print()"
   ]
  },
  {
   "cell_type": "code",
   "execution_count": 40,
   "metadata": {},
   "outputs": [
    {
     "data": {
      "text/plain": [
       "5192"
      ]
     },
     "execution_count": 40,
     "metadata": {},
     "output_type": "execute_result"
    }
   ],
   "source": [
    "len(person_spans)"
   ]
  },
  {
   "cell_type": "code",
   "execution_count": 41,
   "metadata": {},
   "outputs": [],
   "source": [
    "coll_df = pd.DataFrame()"
   ]
  },
  {
   "cell_type": "code",
   "execution_count": 42,
   "metadata": {},
   "outputs": [],
   "source": [
    "coll_df['review_id'] = list(map((lambda x: x.review_id), person_spans))\n",
    "coll_df['review_group'] = list(map((lambda x: x.group), person_spans))"
   ]
  },
  {
   "cell_type": "code",
   "execution_count": 43,
   "metadata": {},
   "outputs": [
    {
     "data": {
      "text/plain": [
       "[\"'s\", 'Putt', 'Yourself', 'in', 'His', 'Place', 'and', 'Mrs._Canfield', \"'s\", 'The', 'Squirrel', 'Cage', '.', 'And', 'it']"
      ]
     },
     "execution_count": 43,
     "metadata": {},
     "output_type": "execute_result"
    }
   ],
   "source": [
    "person_spans[0].collocates"
   ]
  },
  {
   "cell_type": "code",
   "execution_count": 44,
   "metadata": {},
   "outputs": [
    {
     "data": {
      "text/plain": [
       "{15}"
      ]
     },
     "execution_count": 44,
     "metadata": {},
     "output_type": "execute_result"
    }
   ],
   "source": [
    "# problem fixed\n",
    "set([len(span.collocates) for span in person_spans])"
   ]
  },
  {
   "cell_type": "code",
   "execution_count": 45,
   "metadata": {},
   "outputs": [],
   "source": [
    "coll_df['preceding_collocates'] = list(map((lambda x: x.collocates[:7]), person_spans))\n",
    "coll_df['following_collocates'] = list(map((lambda x: x.collocates[8:]), person_spans))\n",
    "\n",
    "coll_df['coll-7'] = list(map((lambda x: x.collocates[0]), person_spans))\n",
    "coll_df['coll-6'] = list(map((lambda x: x.collocates[1]), person_spans))\n",
    "coll_df['coll-5'] = list(map((lambda x: x.collocates[2]), person_spans))\n",
    "coll_df['coll-4'] = list(map((lambda x: x.collocates[3]), person_spans))\n",
    "coll_df['coll-3'] = list(map((lambda x: x.collocates[4]), person_spans))\n",
    "coll_df['coll-2'] = list(map((lambda x: x.collocates[5]), person_spans))\n",
    "coll_df['coll-1'] = list(map((lambda x: x.collocates[6]), person_spans))\n",
    "coll_df['name_target'] = list(map((lambda x: x.name), person_spans))\n",
    "coll_df['coll+1'] = list(map((lambda x: x.collocates[8]), person_spans))\n",
    "coll_df['coll+2'] = list(map((lambda x: x.collocates[9]), person_spans))\n",
    "coll_df['coll+3'] = list(map((lambda x: x.collocates[10]), person_spans))\n",
    "coll_df['coll+4'] = list(map((lambda x: x.collocates[11]), person_spans))\n",
    "coll_df['coll+5'] = list(map((lambda x: x.collocates[12]), person_spans))\n",
    "coll_df['coll+6'] = list(map((lambda x: x.collocates[13]), person_spans))\n",
    "coll_df['coll+7'] = list(map((lambda x: x.collocates[14]), person_spans))"
   ]
  },
  {
   "cell_type": "code",
   "execution_count": 46,
   "metadata": {},
   "outputs": [],
   "source": [
    "coll_df['all_coll'] = coll_df.preceding_collocates + coll_df.following_collocates"
   ]
  },
  {
   "cell_type": "code",
   "execution_count": 47,
   "metadata": {},
   "outputs": [
    {
     "data": {
      "text/html": [
       "<div>\n",
       "<style scoped>\n",
       "    .dataframe tbody tr th:only-of-type {\n",
       "        vertical-align: middle;\n",
       "    }\n",
       "\n",
       "    .dataframe tbody tr th {\n",
       "        vertical-align: top;\n",
       "    }\n",
       "\n",
       "    .dataframe thead th {\n",
       "        text-align: right;\n",
       "    }\n",
       "</style>\n",
       "<table border=\"1\" class=\"dataframe\">\n",
       "  <thead>\n",
       "    <tr style=\"text-align: right;\">\n",
       "      <th></th>\n",
       "      <th>review_id</th>\n",
       "      <th>review_group</th>\n",
       "      <th>preceding_collocates</th>\n",
       "      <th>following_collocates</th>\n",
       "      <th>coll-7</th>\n",
       "      <th>coll-6</th>\n",
       "      <th>coll-5</th>\n",
       "      <th>coll-4</th>\n",
       "      <th>coll-3</th>\n",
       "      <th>coll-2</th>\n",
       "      <th>coll-1</th>\n",
       "      <th>name_target</th>\n",
       "      <th>coll+1</th>\n",
       "      <th>coll+2</th>\n",
       "      <th>coll+3</th>\n",
       "      <th>coll+4</th>\n",
       "      <th>coll+5</th>\n",
       "      <th>coll+6</th>\n",
       "      <th>coll+7</th>\n",
       "      <th>all_coll</th>\n",
       "    </tr>\n",
       "  </thead>\n",
       "  <tbody>\n",
       "    <tr>\n",
       "      <td>0</td>\n",
       "      <td>137197814</td>\n",
       "      <td>21</td>\n",
       "      <td>['s, Putt, Yourself, in, His, Place, and]</td>\n",
       "      <td>['s, The, Squirrel, Cage, ., And, it]</td>\n",
       "      <td>'s</td>\n",
       "      <td>Putt</td>\n",
       "      <td>Yourself</td>\n",
       "      <td>in</td>\n",
       "      <td>His</td>\n",
       "      <td>Place</td>\n",
       "      <td>and</td>\n",
       "      <td>Mrs. Canfield</td>\n",
       "      <td>'s</td>\n",
       "      <td>The</td>\n",
       "      <td>Squirrel</td>\n",
       "      <td>Cage</td>\n",
       "      <td>.</td>\n",
       "      <td>And</td>\n",
       "      <td>it</td>\n",
       "      <td>['s, Putt, Yourself, in, His, Place, and, 's, ...</td>\n",
       "    </tr>\n",
       "    <tr>\n",
       "      <td>1</td>\n",
       "      <td>137197814</td>\n",
       "      <td>22</td>\n",
       "      <td>[The, Squirrel, Cage, ., And, it, is]</td>\n",
       "      <td>['s, own, fault, if, the, critics, have]</td>\n",
       "      <td>The</td>\n",
       "      <td>Squirrel</td>\n",
       "      <td>Cage</td>\n",
       "      <td>.</td>\n",
       "      <td>And</td>\n",
       "      <td>it</td>\n",
       "      <td>is</td>\n",
       "      <td>Mr. Anderson</td>\n",
       "      <td>'s</td>\n",
       "      <td>own</td>\n",
       "      <td>fault</td>\n",
       "      <td>if</td>\n",
       "      <td>the</td>\n",
       "      <td>critics</td>\n",
       "      <td>have</td>\n",
       "      <td>[The, Squirrel, Cage, ., And, it, is, 's, own,...</td>\n",
       "    </tr>\n",
       "    <tr>\n",
       "      <td>2</td>\n",
       "      <td>137197814</td>\n",
       "      <td>1</td>\n",
       "      <td>[as, its, sister, arts, ., Years, ago]</td>\n",
       "      <td>[,, writing, of, an, earlier, ``, revolution]</td>\n",
       "      <td>as</td>\n",
       "      <td>its</td>\n",
       "      <td>sister</td>\n",
       "      <td>arts</td>\n",
       "      <td>.</td>\n",
       "      <td>Years</td>\n",
       "      <td>ago</td>\n",
       "      <td>Mr. George Moore</td>\n",
       "      <td>,</td>\n",
       "      <td>writing</td>\n",
       "      <td>of</td>\n",
       "      <td>an</td>\n",
       "      <td>earlier</td>\n",
       "      <td>``</td>\n",
       "      <td>revolution</td>\n",
       "      <td>[as, its, sister, arts, ., Years, ago, ,, writ...</td>\n",
       "    </tr>\n",
       "    <tr>\n",
       "      <td>3</td>\n",
       "      <td>137197814</td>\n",
       "      <td>26</td>\n",
       "      <td>[of, a, Gauguin, or, a, Matisse, .]</td>\n",
       "      <td>[is, a, story-teller, given, to, free, experim...</td>\n",
       "      <td>of</td>\n",
       "      <td>a</td>\n",
       "      <td>Gauguin</td>\n",
       "      <td>or</td>\n",
       "      <td>a</td>\n",
       "      <td>Matisse</td>\n",
       "      <td>.</td>\n",
       "      <td>Mr. Swinnerton</td>\n",
       "      <td>is</td>\n",
       "      <td>a</td>\n",
       "      <td>story-teller</td>\n",
       "      <td>given</td>\n",
       "      <td>to</td>\n",
       "      <td>free</td>\n",
       "      <td>experimentation</td>\n",
       "      <td>[of, a, Gauguin, or, a, Matisse, ., is, a, sto...</td>\n",
       "    </tr>\n",
       "    <tr>\n",
       "      <td>4</td>\n",
       "      <td>137197814</td>\n",
       "      <td>33</td>\n",
       "      <td>[is, one, of, our, own, house, .]</td>\n",
       "      <td>[seems, to, have, been, aware, from, the]</td>\n",
       "      <td>is</td>\n",
       "      <td>one</td>\n",
       "      <td>of</td>\n",
       "      <td>our</td>\n",
       "      <td>own</td>\n",
       "      <td>house</td>\n",
       "      <td>.</td>\n",
       "      <td>Mr. Hergesheimer</td>\n",
       "      <td>seems</td>\n",
       "      <td>to</td>\n",
       "      <td>have</td>\n",
       "      <td>been</td>\n",
       "      <td>aware</td>\n",
       "      <td>from</td>\n",
       "      <td>the</td>\n",
       "      <td>[is, one, of, our, own, house, ., seems, to, h...</td>\n",
       "    </tr>\n",
       "  </tbody>\n",
       "</table>\n",
       "</div>"
      ],
      "text/plain": [
       "   review_id  review_group                       preceding_collocates  \\\n",
       "0  137197814            21  ['s, Putt, Yourself, in, His, Place, and]   \n",
       "1  137197814            22      [The, Squirrel, Cage, ., And, it, is]   \n",
       "2  137197814             1     [as, its, sister, arts, ., Years, ago]   \n",
       "3  137197814            26        [of, a, Gauguin, or, a, Matisse, .]   \n",
       "4  137197814            33          [is, one, of, our, own, house, .]   \n",
       "\n",
       "                                following_collocates coll-7    coll-6  \\\n",
       "0              ['s, The, Squirrel, Cage, ., And, it]     's      Putt   \n",
       "1           ['s, own, fault, if, the, critics, have]    The  Squirrel   \n",
       "2      [,, writing, of, an, earlier, ``, revolution]     as       its   \n",
       "3  [is, a, story-teller, given, to, free, experim...     of         a   \n",
       "4          [seems, to, have, been, aware, from, the]     is       one   \n",
       "\n",
       "     coll-5 coll-4 coll-3   coll-2 coll-1       name_target coll+1   coll+2  \\\n",
       "0  Yourself     in    His    Place    and     Mrs. Canfield     's      The   \n",
       "1      Cage      .    And       it     is      Mr. Anderson     's      own   \n",
       "2    sister   arts      .    Years    ago  Mr. George Moore      ,  writing   \n",
       "3   Gauguin     or      a  Matisse      .    Mr. Swinnerton     is        a   \n",
       "4        of    our    own    house      .  Mr. Hergesheimer  seems       to   \n",
       "\n",
       "         coll+3 coll+4   coll+5   coll+6           coll+7  \\\n",
       "0      Squirrel   Cage        .      And               it   \n",
       "1         fault     if      the  critics             have   \n",
       "2            of     an  earlier       ``       revolution   \n",
       "3  story-teller  given       to     free  experimentation   \n",
       "4          have   been    aware     from              the   \n",
       "\n",
       "                                            all_coll  \n",
       "0  ['s, Putt, Yourself, in, His, Place, and, 's, ...  \n",
       "1  [The, Squirrel, Cage, ., And, it, is, 's, own,...  \n",
       "2  [as, its, sister, arts, ., Years, ago, ,, writ...  \n",
       "3  [of, a, Gauguin, or, a, Matisse, ., is, a, sto...  \n",
       "4  [is, one, of, our, own, house, ., seems, to, h...  "
      ]
     },
     "execution_count": 47,
     "metadata": {},
     "output_type": "execute_result"
    }
   ],
   "source": [
    "coll_df.head()"
   ]
  },
  {
   "cell_type": "code",
   "execution_count": 48,
   "metadata": {},
   "outputs": [
    {
     "data": {
      "text/plain": [
       "[^, ^, ^, ^, ^, ^, ^]                                   14\n",
       "[,, in, two, volumes, ,, edited, by]                     3\n",
       "[^, ^, ^, ^, ^, MISCELLANEOUS, .]                        2\n",
       "[the, New, Testament, ,, ``, edited, by]                 2\n",
       "['s, Sons, ,, New, York, ., )]                           2\n",
       "[myself, with, all, that, I, need, .]                    1\n",
       "[the, exposition, Is, mainly, historical, ,, though]     1\n",
       "[experiences, in, Europe, Uf, ., B, ,]                   1\n",
       "[and, details, of, errors, and, their, corrections]      1\n",
       "[as, the, inal, criteria, of, genius, by]                1\n",
       "Name: preceding_collocates, dtype: int64"
      ]
     },
     "execution_count": 48,
     "metadata": {},
     "output_type": "execute_result"
    }
   ],
   "source": [
    "coll_df.preceding_collocates.value_counts()[:10]"
   ]
  },
  {
   "cell_type": "code",
   "execution_count": 49,
   "metadata": {},
   "outputs": [
    {
     "data": {
      "text/plain": [
       "[., $, $, $, $, $, $]                                                   7\n",
       "[can, find, in, it, abundant, material, for]                            2\n",
       "['s, book, will, help, on, the, good]                                   2\n",
       "[,, M., D., 8vo, ,, pp, .]                                              2\n",
       "[Jews, ,, Professor_Errera, produces, some, interesting, statistics]    1\n",
       "[the, influence, of, her, husband, ., Less]                             1\n",
       "[seems, to, be, much, more, proud, of]                                  1\n",
       "[``, Apropos, of, constitutions, ,, few, Americans]                     1\n",
       "[., Professor_Allen, holds, the, chair, of, Church]                     1\n",
       "['s, position, in, reference, to, nullification, ,]                     1\n",
       "Name: following_collocates, dtype: int64"
      ]
     },
     "execution_count": 49,
     "metadata": {},
     "output_type": "execute_result"
    }
   ],
   "source": [
    "coll_df.following_collocates.value_counts()[:10]"
   ]
  },
  {
   "cell_type": "code",
   "execution_count": 50,
   "metadata": {},
   "outputs": [
    {
     "data": {
      "text/plain": [
       "[said, of, ``, I, ', he, Gay, ', was, true, ,, ought, to, be]                                      1\n",
       "['s, New, York, Harper, Brothers, Chicago, McOlurg, 8, ., Morris, has, made, of, sea-songs]        1\n",
       "[even, among, his, own, countrymen, ., He, ,, insists, Dr._Brandt, ,, the, pioneer, in]            1\n",
       "[., We, more, than, half, suspect, that, meant, to, be, unsatisfactory, ;, that, he]               1\n",
       "[of, the, modes, provided, by, itself, ., 's, position, in, reference, to, nullification, ,]       1\n",
       "[In, the, commonest, ramble, are, transformed, by, 's, pen, into, something, new, strange, and]    1\n",
       "[is, a, careful, and, pains-taking, essay, by, ,, on, the, Pathological, Histology, of, the]       1\n",
       "[has, been, largely, psycho-logical., ``, His, chef, ,, ``, Dr._Brandt, tells, us, ,, ``]          1\n",
       "[and, living, openly, with, another, man, ,, ., Just, why, we, are, introduced, to]                1\n",
       "[as, long, as, ten, years, ago, by, in, the, first, two, volumes, of, his]                         1\n",
       "Name: all_coll, dtype: int64"
      ]
     },
     "execution_count": 50,
     "metadata": {},
     "output_type": "execute_result"
    }
   ],
   "source": [
    "coll_df.all_coll.value_counts()[:10]"
   ]
  },
  {
   "cell_type": "code",
   "execution_count": 51,
   "metadata": {},
   "outputs": [],
   "source": [
    "temp = coll_df[['review_id' , 'review_group' , 'name_target' , 'all_coll']]"
   ]
  },
  {
   "cell_type": "code",
   "execution_count": 52,
   "metadata": {},
   "outputs": [
    {
     "data": {
      "text/html": [
       "<div>\n",
       "<style scoped>\n",
       "    .dataframe tbody tr th:only-of-type {\n",
       "        vertical-align: middle;\n",
       "    }\n",
       "\n",
       "    .dataframe tbody tr th {\n",
       "        vertical-align: top;\n",
       "    }\n",
       "\n",
       "    .dataframe thead th {\n",
       "        text-align: right;\n",
       "    }\n",
       "</style>\n",
       "<table border=\"1\" class=\"dataframe\">\n",
       "  <thead>\n",
       "    <tr style=\"text-align: right;\">\n",
       "      <th></th>\n",
       "      <th>review_id</th>\n",
       "      <th>review_group</th>\n",
       "      <th>name_target</th>\n",
       "      <th>all_coll</th>\n",
       "    </tr>\n",
       "  </thead>\n",
       "  <tbody>\n",
       "    <tr>\n",
       "      <td>0</td>\n",
       "      <td>137197814</td>\n",
       "      <td>21</td>\n",
       "      <td>Mrs. Canfield</td>\n",
       "      <td>['s, Putt, Yourself, in, His, Place, and, 's, ...</td>\n",
       "    </tr>\n",
       "    <tr>\n",
       "      <td>1</td>\n",
       "      <td>137197814</td>\n",
       "      <td>22</td>\n",
       "      <td>Mr. Anderson</td>\n",
       "      <td>[The, Squirrel, Cage, ., And, it, is, 's, own,...</td>\n",
       "    </tr>\n",
       "    <tr>\n",
       "      <td>2</td>\n",
       "      <td>137197814</td>\n",
       "      <td>1</td>\n",
       "      <td>Mr. George Moore</td>\n",
       "      <td>[as, its, sister, arts, ., Years, ago, ,, writ...</td>\n",
       "    </tr>\n",
       "    <tr>\n",
       "      <td>3</td>\n",
       "      <td>137197814</td>\n",
       "      <td>26</td>\n",
       "      <td>Mr. Swinnerton</td>\n",
       "      <td>[of, a, Gauguin, or, a, Matisse, ., is, a, sto...</td>\n",
       "    </tr>\n",
       "    <tr>\n",
       "      <td>4</td>\n",
       "      <td>137197814</td>\n",
       "      <td>33</td>\n",
       "      <td>Mr. Hergesheimer</td>\n",
       "      <td>[is, one, of, our, own, house, ., seems, to, h...</td>\n",
       "    </tr>\n",
       "  </tbody>\n",
       "</table>\n",
       "</div>"
      ],
      "text/plain": [
       "   review_id  review_group       name_target  \\\n",
       "0  137197814            21     Mrs. Canfield   \n",
       "1  137197814            22      Mr. Anderson   \n",
       "2  137197814             1  Mr. George Moore   \n",
       "3  137197814            26    Mr. Swinnerton   \n",
       "4  137197814            33  Mr. Hergesheimer   \n",
       "\n",
       "                                            all_coll  \n",
       "0  ['s, Putt, Yourself, in, His, Place, and, 's, ...  \n",
       "1  [The, Squirrel, Cage, ., And, it, is, 's, own,...  \n",
       "2  [as, its, sister, arts, ., Years, ago, ,, writ...  \n",
       "3  [of, a, Gauguin, or, a, Matisse, ., is, a, sto...  \n",
       "4  [is, one, of, our, own, house, ., seems, to, h...  "
      ]
     },
     "execution_count": 52,
     "metadata": {},
     "output_type": "execute_result"
    }
   ],
   "source": [
    "temp.head()"
   ]
  },
  {
   "cell_type": "markdown",
   "metadata": {},
   "source": [
    "following code adapted from here: https://stackoverflow.com/questions/27263805/pandas-column-of-lists-create-a-row-for-each-list-element"
   ]
  },
  {
   "cell_type": "code",
   "execution_count": 53,
   "metadata": {},
   "outputs": [],
   "source": [
    "lst_col = 'all_coll'"
   ]
  },
  {
   "cell_type": "code",
   "execution_count": 54,
   "metadata": {},
   "outputs": [],
   "source": [
    "split_colls_df = pd.DataFrame({\n",
    "      col:np.repeat(temp[col].values, temp[lst_col].str.len())\n",
    "      for col in temp.columns.drop(lst_col)})"
   ]
  },
  {
   "cell_type": "code",
   "execution_count": 55,
   "metadata": {},
   "outputs": [
    {
     "data": {
      "text/html": [
       "<div>\n",
       "<style scoped>\n",
       "    .dataframe tbody tr th:only-of-type {\n",
       "        vertical-align: middle;\n",
       "    }\n",
       "\n",
       "    .dataframe tbody tr th {\n",
       "        vertical-align: top;\n",
       "    }\n",
       "\n",
       "    .dataframe thead th {\n",
       "        text-align: right;\n",
       "    }\n",
       "</style>\n",
       "<table border=\"1\" class=\"dataframe\">\n",
       "  <thead>\n",
       "    <tr style=\"text-align: right;\">\n",
       "      <th></th>\n",
       "      <th>review_id</th>\n",
       "      <th>review_group</th>\n",
       "      <th>name_target</th>\n",
       "    </tr>\n",
       "  </thead>\n",
       "  <tbody>\n",
       "    <tr>\n",
       "      <td>0</td>\n",
       "      <td>137197814</td>\n",
       "      <td>21</td>\n",
       "      <td>Mrs. Canfield</td>\n",
       "    </tr>\n",
       "    <tr>\n",
       "      <td>1</td>\n",
       "      <td>137197814</td>\n",
       "      <td>21</td>\n",
       "      <td>Mrs. Canfield</td>\n",
       "    </tr>\n",
       "    <tr>\n",
       "      <td>2</td>\n",
       "      <td>137197814</td>\n",
       "      <td>21</td>\n",
       "      <td>Mrs. Canfield</td>\n",
       "    </tr>\n",
       "    <tr>\n",
       "      <td>3</td>\n",
       "      <td>137197814</td>\n",
       "      <td>21</td>\n",
       "      <td>Mrs. Canfield</td>\n",
       "    </tr>\n",
       "    <tr>\n",
       "      <td>4</td>\n",
       "      <td>137197814</td>\n",
       "      <td>21</td>\n",
       "      <td>Mrs. Canfield</td>\n",
       "    </tr>\n",
       "  </tbody>\n",
       "</table>\n",
       "</div>"
      ],
      "text/plain": [
       "   review_id  review_group    name_target\n",
       "0  137197814            21  Mrs. Canfield\n",
       "1  137197814            21  Mrs. Canfield\n",
       "2  137197814            21  Mrs. Canfield\n",
       "3  137197814            21  Mrs. Canfield\n",
       "4  137197814            21  Mrs. Canfield"
      ]
     },
     "execution_count": 55,
     "metadata": {},
     "output_type": "execute_result"
    }
   ],
   "source": [
    "split_colls_df.head()"
   ]
  },
  {
   "cell_type": "code",
   "execution_count": 56,
   "metadata": {},
   "outputs": [],
   "source": [
    "person_colls = [coll for colls in (rev.collocates for rev in person_spans) for coll in enumerate(colls)]"
   ]
  },
  {
   "cell_type": "code",
   "execution_count": 57,
   "metadata": {},
   "outputs": [],
   "source": [
    "person_colls = [x for x in person_colls if x[0] != 7]"
   ]
  },
  {
   "cell_type": "code",
   "execution_count": 58,
   "metadata": {},
   "outputs": [
    {
     "data": {
      "text/plain": [
       "[(0, \"'s\"), (1, 'Putt'), (2, 'Yourself'), (3, 'in'), (4, 'His'), (5, 'Place'), (6, 'and'), (8, \"'s\"), (9, 'The'), (10, 'Squirrel')]"
      ]
     },
     "execution_count": 58,
     "metadata": {},
     "output_type": "execute_result"
    }
   ],
   "source": [
    "person_colls[:10]"
   ]
  },
  {
   "cell_type": "code",
   "execution_count": 59,
   "metadata": {},
   "outputs": [
    {
     "data": {
      "text/plain": [
       "72688"
      ]
     },
     "execution_count": 59,
     "metadata": {},
     "output_type": "execute_result"
    }
   ],
   "source": [
    "len(person_colls)"
   ]
  },
  {
   "cell_type": "code",
   "execution_count": 60,
   "metadata": {},
   "outputs": [],
   "source": [
    "coll_nums = [x[0] for x in person_colls]\n",
    "coll_item = [x[1] for x in person_colls]"
   ]
  },
  {
   "cell_type": "code",
   "execution_count": 61,
   "metadata": {},
   "outputs": [
    {
     "data": {
      "text/plain": [
       "[0, 1, 2, 3, 4]"
      ]
     },
     "execution_count": 61,
     "metadata": {},
     "output_type": "execute_result"
    }
   ],
   "source": [
    "coll_nums[:5]"
   ]
  },
  {
   "cell_type": "code",
   "execution_count": 62,
   "metadata": {},
   "outputs": [
    {
     "data": {
      "text/plain": [
       "{0, 1, 2, 3, 4, 5, 6, 8, 9, 10, 11, 12, 13, 14}"
      ]
     },
     "execution_count": 62,
     "metadata": {},
     "output_type": "execute_result"
    }
   ],
   "source": [
    "set(coll_nums)"
   ]
  },
  {
   "cell_type": "code",
   "execution_count": 63,
   "metadata": {},
   "outputs": [],
   "source": [
    "mapper = {0:-7, 1:-6, 2:-5, 3:-4, 4:-3, 5:-2, 6:-1, 8:1, 9:2, 10:3, 11:4, 12:5, 13:6, 14:7}"
   ]
  },
  {
   "cell_type": "code",
   "execution_count": 64,
   "metadata": {},
   "outputs": [
    {
     "data": {
      "text/plain": [
       "[-7, -6, -5, -4, -3, -2, -1, 1, 2, 3, 4, 5, 6, 7, -7, -6, -5, -4, -3, -2]"
      ]
     },
     "execution_count": 64,
     "metadata": {},
     "output_type": "execute_result"
    }
   ],
   "source": [
    "[mapper[x] for x in coll_nums[:20]]"
   ]
  },
  {
   "cell_type": "code",
   "execution_count": 65,
   "metadata": {},
   "outputs": [
    {
     "data": {
      "text/plain": [
       "[\"'s\", 'Putt', 'Yourself', 'in', 'His']"
      ]
     },
     "execution_count": 65,
     "metadata": {},
     "output_type": "execute_result"
    }
   ],
   "source": [
    "coll_item[:5]"
   ]
  },
  {
   "cell_type": "code",
   "execution_count": 66,
   "metadata": {},
   "outputs": [],
   "source": [
    "split_colls_df['collocate'] = coll_item\n",
    "split_colls_df['coll_position'] = [mapper[x] for x in coll_nums]"
   ]
  },
  {
   "cell_type": "code",
   "execution_count": 67,
   "metadata": {},
   "outputs": [
    {
     "data": {
      "text/html": [
       "<div>\n",
       "<style scoped>\n",
       "    .dataframe tbody tr th:only-of-type {\n",
       "        vertical-align: middle;\n",
       "    }\n",
       "\n",
       "    .dataframe tbody tr th {\n",
       "        vertical-align: top;\n",
       "    }\n",
       "\n",
       "    .dataframe thead th {\n",
       "        text-align: right;\n",
       "    }\n",
       "</style>\n",
       "<table border=\"1\" class=\"dataframe\">\n",
       "  <thead>\n",
       "    <tr style=\"text-align: right;\">\n",
       "      <th></th>\n",
       "      <th>review_id</th>\n",
       "      <th>review_group</th>\n",
       "      <th>name_target</th>\n",
       "      <th>collocate</th>\n",
       "      <th>coll_position</th>\n",
       "    </tr>\n",
       "  </thead>\n",
       "  <tbody>\n",
       "    <tr>\n",
       "      <td>0</td>\n",
       "      <td>137197814</td>\n",
       "      <td>21</td>\n",
       "      <td>Mrs. Canfield</td>\n",
       "      <td>'s</td>\n",
       "      <td>-7</td>\n",
       "    </tr>\n",
       "    <tr>\n",
       "      <td>1</td>\n",
       "      <td>137197814</td>\n",
       "      <td>21</td>\n",
       "      <td>Mrs. Canfield</td>\n",
       "      <td>Putt</td>\n",
       "      <td>-6</td>\n",
       "    </tr>\n",
       "    <tr>\n",
       "      <td>2</td>\n",
       "      <td>137197814</td>\n",
       "      <td>21</td>\n",
       "      <td>Mrs. Canfield</td>\n",
       "      <td>Yourself</td>\n",
       "      <td>-5</td>\n",
       "    </tr>\n",
       "    <tr>\n",
       "      <td>3</td>\n",
       "      <td>137197814</td>\n",
       "      <td>21</td>\n",
       "      <td>Mrs. Canfield</td>\n",
       "      <td>in</td>\n",
       "      <td>-4</td>\n",
       "    </tr>\n",
       "    <tr>\n",
       "      <td>4</td>\n",
       "      <td>137197814</td>\n",
       "      <td>21</td>\n",
       "      <td>Mrs. Canfield</td>\n",
       "      <td>His</td>\n",
       "      <td>-3</td>\n",
       "    </tr>\n",
       "  </tbody>\n",
       "</table>\n",
       "</div>"
      ],
      "text/plain": [
       "   review_id  review_group    name_target collocate  coll_position\n",
       "0  137197814            21  Mrs. Canfield        's             -7\n",
       "1  137197814            21  Mrs. Canfield      Putt             -6\n",
       "2  137197814            21  Mrs. Canfield  Yourself             -5\n",
       "3  137197814            21  Mrs. Canfield        in             -4\n",
       "4  137197814            21  Mrs. Canfield       His             -3"
      ]
     },
     "execution_count": 67,
     "metadata": {},
     "output_type": "execute_result"
    }
   ],
   "source": [
    "split_colls_df.head()"
   ]
  },
  {
   "cell_type": "code",
   "execution_count": 68,
   "metadata": {},
   "outputs": [
    {
     "data": {
      "text/plain": [
       ",       4412\n",
       "the     3550\n",
       "of      3467\n",
       ".       2985\n",
       "and     1861\n",
       "to      1286\n",
       "in      1279\n",
       "'s      1275\n",
       "is      1077\n",
       "``      1058\n",
       "a        979\n",
       "by       893\n",
       "that     626\n",
       "as       572\n",
       "has      571\n",
       "his      524\n",
       "The      523\n",
       "with     401\n",
       "on       376\n",
       "for      372\n",
       "Name: collocate, dtype: int64"
      ]
     },
     "execution_count": 68,
     "metadata": {},
     "output_type": "execute_result"
    }
   ],
   "source": [
    "split_colls_df.collocate.value_counts()[:20]"
   ]
  },
  {
   "cell_type": "markdown",
   "metadata": {},
   "source": [
    "### Cleaning the collocations: lowercasing, removing stopwords, punctuation"
   ]
  },
  {
   "cell_type": "code",
   "execution_count": 69,
   "metadata": {},
   "outputs": [],
   "source": [
    "from nltk.corpus import stopwords"
   ]
  },
  {
   "cell_type": "code",
   "execution_count": 70,
   "metadata": {},
   "outputs": [],
   "source": [
    "sw = stopwords.words('english')"
   ]
  },
  {
   "cell_type": "code",
   "execution_count": 71,
   "metadata": {},
   "outputs": [
    {
     "data": {
      "text/plain": [
       "['i', 'me', 'my', 'myself', 'we', 'our', 'ours', 'ourselves', 'you', 'your', 'yours', 'yourself', 'yourselves', 'he', 'him', 'his', 'himself', 'she', 'her', 'hers', 'herself', 'it', 'its', 'itself', 'they', 'them', 'their', 'theirs', 'themselves', 'what', 'which', 'who', 'whom', 'this', 'that', 'these', 'those', 'am', 'is', 'are', 'was', 'were', 'be', 'been', 'being', 'have', 'has', 'had', 'having', 'do', 'does', 'did', 'doing', 'a', 'an', 'the', 'and', 'but', 'if', 'or', 'because', 'as', 'until', 'while', 'of', 'at', 'by', 'for', 'with', 'about', 'against', 'between', 'into', 'through', 'during', 'before', 'after', 'above', 'below', 'to', 'from', 'up', 'down', 'in', 'out', 'on', 'off', 'over', 'under', 'again', 'further', 'then', 'once', 'here', 'there', 'when', 'where', 'why', 'how', 'all', 'any', 'both', 'each', 'few', 'more', 'most', 'other', 'some', 'such', 'no', 'nor', 'not', 'only', 'own', 'same', 'so', 'than', 'too', 'very', 's', 't', 'can', 'will', 'just', 'don', 'should', 'now', 'd', 'll', 'm', 'o', 're', 've', 'y', 'ain', 'aren', 'couldn', 'didn', 'doesn', 'hadn', 'hasn', 'haven', 'isn', 'ma', 'mightn', 'mustn', 'needn', 'shan', 'shouldn', 'wasn', 'weren', 'won', 'wouldn']"
      ]
     },
     "execution_count": 71,
     "metadata": {},
     "output_type": "execute_result"
    }
   ],
   "source": [
    "sw"
   ]
  },
  {
   "cell_type": "code",
   "execution_count": 72,
   "metadata": {},
   "outputs": [
    {
     "data": {
      "text/plain": [
       "False"
      ]
     },
     "execution_count": 72,
     "metadata": {},
     "output_type": "execute_result"
    }
   ],
   "source": [
    "# see below\n",
    "\"us\" in sw"
   ]
  },
  {
   "cell_type": "code",
   "execution_count": 73,
   "metadata": {},
   "outputs": [],
   "source": [
    "sw.append(\"us\")"
   ]
  },
  {
   "cell_type": "code",
   "execution_count": 74,
   "metadata": {},
   "outputs": [],
   "source": [
    "from string import punctuation"
   ]
  },
  {
   "cell_type": "code",
   "execution_count": 75,
   "metadata": {},
   "outputs": [
    {
     "data": {
      "text/plain": [
       "['!', '\"', '#', '$', '%', '&', \"'\", '(', ')', '*', '+', ',', '-', '.', '/', ':', ';', '<', '=', '>', '?', '@', '[', '\\\\', ']', '^', '_', '`', '{', '|', '}', '~']"
      ]
     },
     "execution_count": 75,
     "metadata": {},
     "output_type": "execute_result"
    }
   ],
   "source": [
    "punct = list(punctuation)\n",
    "punct"
   ]
  },
  {
   "cell_type": "code",
   "execution_count": 76,
   "metadata": {},
   "outputs": [],
   "source": [
    "def clean_collocation(coll):\n",
    "    temp = coll.lower()\n",
    "    parts = temp.split('_')\n",
    "    if len(parts) > 1:\n",
    "        return \"name_obj\"\n",
    "    elif temp in sw:\n",
    "        return \"sw\"\n",
    "    elif all([x in punct for x in list(temp)]):\n",
    "        return \"punct\"\n",
    "    else:\n",
    "        return temp"
   ]
  },
  {
   "cell_type": "code",
   "execution_count": 77,
   "metadata": {},
   "outputs": [
    {
     "data": {
      "text/plain": [
       "True"
      ]
     },
     "execution_count": 77,
     "metadata": {},
     "output_type": "execute_result"
    }
   ],
   "source": [
    "all([x in punct for x in list(\"``\")])"
   ]
  },
  {
   "cell_type": "code",
   "execution_count": 78,
   "metadata": {},
   "outputs": [
    {
     "name": "stdout",
     "output_type": "stream",
     "text": [
      "'s\t's\n",
      "Putt\tputt\n",
      "Yourself\tsw\n",
      "in\tsw\n",
      "His\tsw\n",
      "Place\tplace\n",
      "and\tsw\n",
      "'s\t's\n",
      "The\tsw\n",
      "Squirrel\tsquirrel\n",
      "Cage\tcage\n",
      ".\tpunct\n",
      "And\tsw\n",
      "it\tsw\n",
      "The\tsw\n",
      "Squirrel\tsquirrel\n",
      "Cage\tcage\n",
      ".\tpunct\n",
      "And\tsw\n",
      "it\tsw\n"
     ]
    }
   ],
   "source": [
    "for x in split_colls_df.collocate[:20]:\n",
    "    print(x, clean_collocation(x), sep = '\\t')"
   ]
  },
  {
   "cell_type": "code",
   "execution_count": 79,
   "metadata": {},
   "outputs": [
    {
     "data": {
      "text/plain": [
       "['Mrs.', 'Canfield']"
      ]
     },
     "execution_count": 79,
     "metadata": {},
     "output_type": "execute_result"
    }
   ],
   "source": [
    "'Mrs._Canfield'.split('_')"
   ]
  },
  {
   "cell_type": "code",
   "execution_count": 80,
   "metadata": {},
   "outputs": [
    {
     "data": {
      "text/plain": [
       "['Canfield']"
      ]
     },
     "execution_count": 80,
     "metadata": {},
     "output_type": "execute_result"
    }
   ],
   "source": [
    "'Canfield'.split('_')"
   ]
  },
  {
   "cell_type": "code",
   "execution_count": 81,
   "metadata": {},
   "outputs": [
    {
     "name": "stdout",
     "output_type": "stream",
     "text": [
      "152\tMr._Hergesheimer\n",
      "155\tMr._Conrad\n",
      "400\tMr._Hergesheimer\n",
      "404\tMr._Cabell\n",
      "411\tMr._Conrad\n",
      "416\tMr._Cabell\n",
      "421\tMr._Conrad\n",
      "423\tMr._Hergesheimer\n",
      "474\tMr._James_Joyce\n",
      "477\tMiss_Richardson\n"
     ]
    }
   ],
   "source": [
    "for e, x in enumerate(split_colls_df.collocate[:500]):\n",
    "    parts = x.split('_')\n",
    "    if len(parts) > 1:\n",
    "        print(e, x, sep = '\\t')"
   ]
  },
  {
   "cell_type": "code",
   "execution_count": 82,
   "metadata": {},
   "outputs": [
    {
     "name": "stdout",
     "output_type": "stream",
     "text": [
      "work\twork\n",
      "of\tsw\n",
      "Mr._Hergesheimer\tname_obj\n",
      "suggests\tsuggests\n",
      "of\tsw\n",
      "Mr._Conrad\tname_obj\n",
      ".\tpunct\n",
      "The\tsw\n",
      "later\tlater\n",
      "work\twork\n"
     ]
    }
   ],
   "source": [
    "for x in split_colls_df.collocate[150:160]:\n",
    "    print(x, clean_collocation(x), sep = '\\t')"
   ]
  },
  {
   "cell_type": "code",
   "execution_count": 83,
   "metadata": {},
   "outputs": [],
   "source": [
    "split_colls_df['cleaned'] = split_colls_df.collocate.map(clean_collocation)"
   ]
  },
  {
   "cell_type": "markdown",
   "metadata": {},
   "source": [
    "## Exploring the cleaned collocates"
   ]
  },
  {
   "cell_type": "code",
   "execution_count": 84,
   "metadata": {},
   "outputs": [
    {
     "data": {
      "text/html": [
       "<div>\n",
       "<style scoped>\n",
       "    .dataframe tbody tr th:only-of-type {\n",
       "        vertical-align: middle;\n",
       "    }\n",
       "\n",
       "    .dataframe tbody tr th {\n",
       "        vertical-align: top;\n",
       "    }\n",
       "\n",
       "    .dataframe thead th {\n",
       "        text-align: right;\n",
       "    }\n",
       "</style>\n",
       "<table border=\"1\" class=\"dataframe\">\n",
       "  <thead>\n",
       "    <tr style=\"text-align: right;\">\n",
       "      <th></th>\n",
       "      <th>review_id</th>\n",
       "      <th>review_group</th>\n",
       "      <th>name_target</th>\n",
       "      <th>collocate</th>\n",
       "      <th>coll_position</th>\n",
       "      <th>cleaned</th>\n",
       "    </tr>\n",
       "  </thead>\n",
       "  <tbody>\n",
       "    <tr>\n",
       "      <td>0</td>\n",
       "      <td>137197814</td>\n",
       "      <td>21</td>\n",
       "      <td>Mrs. Canfield</td>\n",
       "      <td>'s</td>\n",
       "      <td>-7</td>\n",
       "      <td>'s</td>\n",
       "    </tr>\n",
       "    <tr>\n",
       "      <td>1</td>\n",
       "      <td>137197814</td>\n",
       "      <td>21</td>\n",
       "      <td>Mrs. Canfield</td>\n",
       "      <td>Putt</td>\n",
       "      <td>-6</td>\n",
       "      <td>putt</td>\n",
       "    </tr>\n",
       "    <tr>\n",
       "      <td>2</td>\n",
       "      <td>137197814</td>\n",
       "      <td>21</td>\n",
       "      <td>Mrs. Canfield</td>\n",
       "      <td>Yourself</td>\n",
       "      <td>-5</td>\n",
       "      <td>sw</td>\n",
       "    </tr>\n",
       "    <tr>\n",
       "      <td>3</td>\n",
       "      <td>137197814</td>\n",
       "      <td>21</td>\n",
       "      <td>Mrs. Canfield</td>\n",
       "      <td>in</td>\n",
       "      <td>-4</td>\n",
       "      <td>sw</td>\n",
       "    </tr>\n",
       "    <tr>\n",
       "      <td>4</td>\n",
       "      <td>137197814</td>\n",
       "      <td>21</td>\n",
       "      <td>Mrs. Canfield</td>\n",
       "      <td>His</td>\n",
       "      <td>-3</td>\n",
       "      <td>sw</td>\n",
       "    </tr>\n",
       "    <tr>\n",
       "      <td>5</td>\n",
       "      <td>137197814</td>\n",
       "      <td>21</td>\n",
       "      <td>Mrs. Canfield</td>\n",
       "      <td>Place</td>\n",
       "      <td>-2</td>\n",
       "      <td>place</td>\n",
       "    </tr>\n",
       "    <tr>\n",
       "      <td>6</td>\n",
       "      <td>137197814</td>\n",
       "      <td>21</td>\n",
       "      <td>Mrs. Canfield</td>\n",
       "      <td>and</td>\n",
       "      <td>-1</td>\n",
       "      <td>sw</td>\n",
       "    </tr>\n",
       "    <tr>\n",
       "      <td>7</td>\n",
       "      <td>137197814</td>\n",
       "      <td>21</td>\n",
       "      <td>Mrs. Canfield</td>\n",
       "      <td>'s</td>\n",
       "      <td>1</td>\n",
       "      <td>'s</td>\n",
       "    </tr>\n",
       "    <tr>\n",
       "      <td>8</td>\n",
       "      <td>137197814</td>\n",
       "      <td>21</td>\n",
       "      <td>Mrs. Canfield</td>\n",
       "      <td>The</td>\n",
       "      <td>2</td>\n",
       "      <td>sw</td>\n",
       "    </tr>\n",
       "    <tr>\n",
       "      <td>9</td>\n",
       "      <td>137197814</td>\n",
       "      <td>21</td>\n",
       "      <td>Mrs. Canfield</td>\n",
       "      <td>Squirrel</td>\n",
       "      <td>3</td>\n",
       "      <td>squirrel</td>\n",
       "    </tr>\n",
       "    <tr>\n",
       "      <td>10</td>\n",
       "      <td>137197814</td>\n",
       "      <td>21</td>\n",
       "      <td>Mrs. Canfield</td>\n",
       "      <td>Cage</td>\n",
       "      <td>4</td>\n",
       "      <td>cage</td>\n",
       "    </tr>\n",
       "    <tr>\n",
       "      <td>11</td>\n",
       "      <td>137197814</td>\n",
       "      <td>21</td>\n",
       "      <td>Mrs. Canfield</td>\n",
       "      <td>.</td>\n",
       "      <td>5</td>\n",
       "      <td>punct</td>\n",
       "    </tr>\n",
       "    <tr>\n",
       "      <td>12</td>\n",
       "      <td>137197814</td>\n",
       "      <td>21</td>\n",
       "      <td>Mrs. Canfield</td>\n",
       "      <td>And</td>\n",
       "      <td>6</td>\n",
       "      <td>sw</td>\n",
       "    </tr>\n",
       "    <tr>\n",
       "      <td>13</td>\n",
       "      <td>137197814</td>\n",
       "      <td>21</td>\n",
       "      <td>Mrs. Canfield</td>\n",
       "      <td>it</td>\n",
       "      <td>7</td>\n",
       "      <td>sw</td>\n",
       "    </tr>\n",
       "    <tr>\n",
       "      <td>14</td>\n",
       "      <td>137197814</td>\n",
       "      <td>22</td>\n",
       "      <td>Mr. Anderson</td>\n",
       "      <td>The</td>\n",
       "      <td>-7</td>\n",
       "      <td>sw</td>\n",
       "    </tr>\n",
       "    <tr>\n",
       "      <td>15</td>\n",
       "      <td>137197814</td>\n",
       "      <td>22</td>\n",
       "      <td>Mr. Anderson</td>\n",
       "      <td>Squirrel</td>\n",
       "      <td>-6</td>\n",
       "      <td>squirrel</td>\n",
       "    </tr>\n",
       "    <tr>\n",
       "      <td>16</td>\n",
       "      <td>137197814</td>\n",
       "      <td>22</td>\n",
       "      <td>Mr. Anderson</td>\n",
       "      <td>Cage</td>\n",
       "      <td>-5</td>\n",
       "      <td>cage</td>\n",
       "    </tr>\n",
       "    <tr>\n",
       "      <td>17</td>\n",
       "      <td>137197814</td>\n",
       "      <td>22</td>\n",
       "      <td>Mr. Anderson</td>\n",
       "      <td>.</td>\n",
       "      <td>-4</td>\n",
       "      <td>punct</td>\n",
       "    </tr>\n",
       "    <tr>\n",
       "      <td>18</td>\n",
       "      <td>137197814</td>\n",
       "      <td>22</td>\n",
       "      <td>Mr. Anderson</td>\n",
       "      <td>And</td>\n",
       "      <td>-3</td>\n",
       "      <td>sw</td>\n",
       "    </tr>\n",
       "    <tr>\n",
       "      <td>19</td>\n",
       "      <td>137197814</td>\n",
       "      <td>22</td>\n",
       "      <td>Mr. Anderson</td>\n",
       "      <td>it</td>\n",
       "      <td>-2</td>\n",
       "      <td>sw</td>\n",
       "    </tr>\n",
       "  </tbody>\n",
       "</table>\n",
       "</div>"
      ],
      "text/plain": [
       "    review_id  review_group    name_target collocate  coll_position   cleaned\n",
       "0   137197814            21  Mrs. Canfield        's             -7        's\n",
       "1   137197814            21  Mrs. Canfield      Putt             -6      putt\n",
       "2   137197814            21  Mrs. Canfield  Yourself             -5        sw\n",
       "3   137197814            21  Mrs. Canfield        in             -4        sw\n",
       "4   137197814            21  Mrs. Canfield       His             -3        sw\n",
       "5   137197814            21  Mrs. Canfield     Place             -2     place\n",
       "6   137197814            21  Mrs. Canfield       and             -1        sw\n",
       "7   137197814            21  Mrs. Canfield        's              1        's\n",
       "8   137197814            21  Mrs. Canfield       The              2        sw\n",
       "9   137197814            21  Mrs. Canfield  Squirrel              3  squirrel\n",
       "10  137197814            21  Mrs. Canfield      Cage              4      cage\n",
       "11  137197814            21  Mrs. Canfield         .              5     punct\n",
       "12  137197814            21  Mrs. Canfield       And              6        sw\n",
       "13  137197814            21  Mrs. Canfield        it              7        sw\n",
       "14  137197814            22   Mr. Anderson       The             -7        sw\n",
       "15  137197814            22   Mr. Anderson  Squirrel             -6  squirrel\n",
       "16  137197814            22   Mr. Anderson      Cage             -5      cage\n",
       "17  137197814            22   Mr. Anderson         .             -4     punct\n",
       "18  137197814            22   Mr. Anderson       And             -3        sw\n",
       "19  137197814            22   Mr. Anderson        it             -2        sw"
      ]
     },
     "execution_count": 84,
     "metadata": {},
     "output_type": "execute_result"
    }
   ],
   "source": [
    "split_colls_df.head(20)"
   ]
  },
  {
   "cell_type": "code",
   "execution_count": 85,
   "metadata": {},
   "outputs": [
    {
     "data": {
      "text/plain": [
       "sw          28272\n",
       "punct       10405\n",
       "name_obj     1940\n",
       "'s           1275\n",
       "book          230\n",
       "one           211\n",
       "work          196\n",
       "new           185\n",
       "volume        126\n",
       "life          111\n",
       "first          98\n",
       "made           93\n",
       "history        91\n",
       "well           84\n",
       "great          84\n",
       "upon           83\n",
       "little         83\n",
       "would          81\n",
       "written        81\n",
       "years          81\n",
       "Name: cleaned, dtype: int64"
      ]
     },
     "execution_count": 85,
     "metadata": {},
     "output_type": "execute_result"
    }
   ],
   "source": [
    "split_colls_df.cleaned.value_counts()[:20]"
   ]
  },
  {
   "cell_type": "markdown",
   "metadata": {},
   "source": [
    "Stopwords, punctuation, and name objects (could be person or pub name) appear far more frequently than anything else. Excluding those, \"'s\" and \"book\" seem like they could be good indicators. "
   ]
  },
  {
   "cell_type": "code",
   "execution_count": 86,
   "metadata": {},
   "outputs": [],
   "source": [
    "import matplotlib.pyplot as plt\n",
    "import seaborn as sns"
   ]
  },
  {
   "cell_type": "code",
   "execution_count": 87,
   "metadata": {},
   "outputs": [],
   "source": [
    "sns.set(font_scale = 1.5)"
   ]
  },
  {
   "cell_type": "code",
   "execution_count": 88,
   "metadata": {},
   "outputs": [
    {
     "data": {
      "text/plain": [
       "'s         1275\n",
       "book        230\n",
       "one         211\n",
       "work        196\n",
       "new         185\n",
       "volume      126\n",
       "life        111\n",
       "first        98\n",
       "made         93\n",
       "history      91\n",
       "well         84\n",
       "great        84\n",
       "upon         83\n",
       "little       83\n",
       "would        81\n",
       "written      81\n",
       "years        81\n",
       "two          79\n",
       "york         79\n",
       "much         76\n",
       "Name: cleaned, dtype: int64"
      ]
     },
     "execution_count": 88,
     "metadata": {},
     "output_type": "execute_result"
    }
   ],
   "source": [
    "top20colls = split_colls_df.cleaned.value_counts()[3:23]\n",
    "top20colls"
   ]
  },
  {
   "cell_type": "code",
   "execution_count": 89,
   "metadata": {},
   "outputs": [
    {
     "data": {
      "text/plain": [
       "<matplotlib.axes._subplots.AxesSubplot object at 0x1a4077c490>"
      ]
     },
     "execution_count": 89,
     "metadata": {},
     "output_type": "execute_result"
    },
    {
     "data": {
      "image/png": "[encoded data removed]",
      "text/plain": [
       "<Figure size 1080x576 with 1 Axes>"
      ]
     },
     "metadata": {},
     "output_type": "display_data"
    }
   ],
   "source": [
    "top20colls.plot(kind = \"bar\", figsize = (15, 8), title = \"Top 20 collocations, any position\")"
   ]
  },
  {
   "cell_type": "code",
   "execution_count": 90,
   "metadata": {},
   "outputs": [
    {
     "data": {
      "text/plain": [
       "False"
      ]
     },
     "execution_count": 90,
     "metadata": {},
     "output_type": "execute_result"
    }
   ],
   "source": [
    "split_colls_df.cleaned[30] in top20colls"
   ]
  },
  {
   "cell_type": "code",
   "execution_count": 91,
   "metadata": {},
   "outputs": [
    {
     "data": {
      "text/plain": [
       "True"
      ]
     },
     "execution_count": 91,
     "metadata": {},
     "output_type": "execute_result"
    }
   ],
   "source": [
    "\"'s\" in top20colls"
   ]
  },
  {
   "cell_type": "code",
   "execution_count": 92,
   "metadata": {},
   "outputs": [],
   "source": [
    "cleaned_colls_df = split_colls_df\n",
    "cleaned_colls_df = cleaned_colls_df[cleaned_colls_df.cleaned != \"sw\"]\n",
    "cleaned_colls_df = cleaned_colls_df[cleaned_colls_df.cleaned != \"punct\"]\n",
    "cleaned_colls_df = cleaned_colls_df[cleaned_colls_df.cleaned != \"name_obj\"]"
   ]
  },
  {
   "cell_type": "code",
   "execution_count": 93,
   "metadata": {},
   "outputs": [],
   "source": [
    "grouped = cleaned_colls_df.groupby('coll_position').cleaned.value_counts()"
   ]
  },
  {
   "cell_type": "code",
   "execution_count": 94,
   "metadata": {},
   "outputs": [
    {
     "name": "stdout",
     "output_type": "stream",
     "text": [
      "coll_position  cleaned  \n",
      "-7             's           29\n",
      "               one          19\n",
      "               new          17\n",
      "               book         15\n",
      "               little       12\n",
      "                            ..\n",
      " 7             wyolif        1\n",
      "               y.            1\n",
      "               yellow        1\n",
      "               york-more     1\n",
      "               zeilung       1\n",
      "Name: cleaned, Length: 21469, dtype: int64\n"
     ]
    }
   ],
   "source": [
    "print(grouped)"
   ]
  },
  {
   "cell_type": "code",
   "execution_count": 95,
   "metadata": {},
   "outputs": [
    {
     "data": {
      "text/html": [
       "<div>\n",
       "<style scoped>\n",
       "    .dataframe tbody tr th:only-of-type {\n",
       "        vertical-align: middle;\n",
       "    }\n",
       "\n",
       "    .dataframe tbody tr th {\n",
       "        vertical-align: top;\n",
       "    }\n",
       "\n",
       "    .dataframe thead th {\n",
       "        text-align: right;\n",
       "    }\n",
       "</style>\n",
       "<table border=\"1\" class=\"dataframe\">\n",
       "  <thead>\n",
       "    <tr style=\"text-align: right;\">\n",
       "      <th>cleaned</th>\n",
       "      <th>'s</th>\n",
       "      <th>'serious</th>\n",
       "      <th>'sher</th>\n",
       "      <th>*1.oo</th>\n",
       "      <th>*a</th>\n",
       "      <th>*h</th>\n",
       "      <th>*is</th>\n",
       "      <th>*made</th>\n",
       "      <th>*the</th>\n",
       "      <th>*thia</th>\n",
       "      <th>...</th>\n",
       "      <th>youth</th>\n",
       "      <th>youthful</th>\n",
       "      <th>yredlerick</th>\n",
       "      <th>z873</th>\n",
       "      <th>zealous</th>\n",
       "      <th>zeilung</th>\n",
       "      <th>zest</th>\n",
       "      <th>zola</th>\n",
       "      <th>zoology</th>\n",
       "      <th>zulus</th>\n",
       "    </tr>\n",
       "    <tr>\n",
       "      <th>coll_position</th>\n",
       "      <th></th>\n",
       "      <th></th>\n",
       "      <th></th>\n",
       "      <th></th>\n",
       "      <th></th>\n",
       "      <th></th>\n",
       "      <th></th>\n",
       "      <th></th>\n",
       "      <th></th>\n",
       "      <th></th>\n",
       "      <th></th>\n",
       "      <th></th>\n",
       "      <th></th>\n",
       "      <th></th>\n",
       "      <th></th>\n",
       "      <th></th>\n",
       "      <th></th>\n",
       "      <th></th>\n",
       "      <th></th>\n",
       "      <th></th>\n",
       "      <th></th>\n",
       "    </tr>\n",
       "  </thead>\n",
       "  <tbody>\n",
       "    <tr>\n",
       "      <td>-7</td>\n",
       "      <td>29.0</td>\n",
       "      <td>NaN</td>\n",
       "      <td>NaN</td>\n",
       "      <td>NaN</td>\n",
       "      <td>NaN</td>\n",
       "      <td>NaN</td>\n",
       "      <td>NaN</td>\n",
       "      <td>NaN</td>\n",
       "      <td>NaN</td>\n",
       "      <td>1.0</td>\n",
       "      <td>...</td>\n",
       "      <td>NaN</td>\n",
       "      <td>NaN</td>\n",
       "      <td>NaN</td>\n",
       "      <td>NaN</td>\n",
       "      <td>NaN</td>\n",
       "      <td>NaN</td>\n",
       "      <td>NaN</td>\n",
       "      <td>NaN</td>\n",
       "      <td>NaN</td>\n",
       "      <td>NaN</td>\n",
       "    </tr>\n",
       "    <tr>\n",
       "      <td>-6</td>\n",
       "      <td>25.0</td>\n",
       "      <td>NaN</td>\n",
       "      <td>NaN</td>\n",
       "      <td>1.0</td>\n",
       "      <td>NaN</td>\n",
       "      <td>NaN</td>\n",
       "      <td>NaN</td>\n",
       "      <td>NaN</td>\n",
       "      <td>NaN</td>\n",
       "      <td>NaN</td>\n",
       "      <td>...</td>\n",
       "      <td>1.0</td>\n",
       "      <td>1.0</td>\n",
       "      <td>NaN</td>\n",
       "      <td>NaN</td>\n",
       "      <td>NaN</td>\n",
       "      <td>NaN</td>\n",
       "      <td>NaN</td>\n",
       "      <td>NaN</td>\n",
       "      <td>NaN</td>\n",
       "      <td>NaN</td>\n",
       "    </tr>\n",
       "    <tr>\n",
       "      <td>-5</td>\n",
       "      <td>19.0</td>\n",
       "      <td>NaN</td>\n",
       "      <td>NaN</td>\n",
       "      <td>NaN</td>\n",
       "      <td>NaN</td>\n",
       "      <td>1.0</td>\n",
       "      <td>NaN</td>\n",
       "      <td>NaN</td>\n",
       "      <td>1.0</td>\n",
       "      <td>NaN</td>\n",
       "      <td>...</td>\n",
       "      <td>NaN</td>\n",
       "      <td>NaN</td>\n",
       "      <td>NaN</td>\n",
       "      <td>NaN</td>\n",
       "      <td>NaN</td>\n",
       "      <td>NaN</td>\n",
       "      <td>NaN</td>\n",
       "      <td>NaN</td>\n",
       "      <td>NaN</td>\n",
       "      <td>NaN</td>\n",
       "    </tr>\n",
       "    <tr>\n",
       "      <td>-4</td>\n",
       "      <td>22.0</td>\n",
       "      <td>NaN</td>\n",
       "      <td>NaN</td>\n",
       "      <td>NaN</td>\n",
       "      <td>NaN</td>\n",
       "      <td>NaN</td>\n",
       "      <td>NaN</td>\n",
       "      <td>NaN</td>\n",
       "      <td>NaN</td>\n",
       "      <td>NaN</td>\n",
       "      <td>...</td>\n",
       "      <td>NaN</td>\n",
       "      <td>NaN</td>\n",
       "      <td>NaN</td>\n",
       "      <td>NaN</td>\n",
       "      <td>NaN</td>\n",
       "      <td>NaN</td>\n",
       "      <td>NaN</td>\n",
       "      <td>NaN</td>\n",
       "      <td>NaN</td>\n",
       "      <td>NaN</td>\n",
       "    </tr>\n",
       "    <tr>\n",
       "      <td>-3</td>\n",
       "      <td>25.0</td>\n",
       "      <td>NaN</td>\n",
       "      <td>NaN</td>\n",
       "      <td>NaN</td>\n",
       "      <td>NaN</td>\n",
       "      <td>NaN</td>\n",
       "      <td>NaN</td>\n",
       "      <td>NaN</td>\n",
       "      <td>NaN</td>\n",
       "      <td>NaN</td>\n",
       "      <td>...</td>\n",
       "      <td>NaN</td>\n",
       "      <td>NaN</td>\n",
       "      <td>1.0</td>\n",
       "      <td>NaN</td>\n",
       "      <td>NaN</td>\n",
       "      <td>NaN</td>\n",
       "      <td>NaN</td>\n",
       "      <td>NaN</td>\n",
       "      <td>NaN</td>\n",
       "      <td>NaN</td>\n",
       "    </tr>\n",
       "  </tbody>\n",
       "</table>\n",
       "<p>5 rows × 9904 columns</p>\n",
       "</div>"
      ],
      "text/plain": [
       "cleaned          's  'serious  'sher  *1.oo  *a   *h  *is  *made  *the  *thia  \\\n",
       "coll_position                                                                   \n",
       "-7             29.0       NaN    NaN    NaN NaN  NaN  NaN    NaN   NaN    1.0   \n",
       "-6             25.0       NaN    NaN    1.0 NaN  NaN  NaN    NaN   NaN    NaN   \n",
       "-5             19.0       NaN    NaN    NaN NaN  1.0  NaN    NaN   1.0    NaN   \n",
       "-4             22.0       NaN    NaN    NaN NaN  NaN  NaN    NaN   NaN    NaN   \n",
       "-3             25.0       NaN    NaN    NaN NaN  NaN  NaN    NaN   NaN    NaN   \n",
       "\n",
       "cleaned        ...  youth  youthful  yredlerick  z873  zealous  zeilung  zest  \\\n",
       "coll_position  ...                                                              \n",
       "-7             ...    NaN       NaN         NaN   NaN      NaN      NaN   NaN   \n",
       "-6             ...    1.0       1.0         NaN   NaN      NaN      NaN   NaN   \n",
       "-5             ...    NaN       NaN         NaN   NaN      NaN      NaN   NaN   \n",
       "-4             ...    NaN       NaN         NaN   NaN      NaN      NaN   NaN   \n",
       "-3             ...    NaN       NaN         1.0   NaN      NaN      NaN   NaN   \n",
       "\n",
       "cleaned        zola  zoology  zulus  \n",
       "coll_position                        \n",
       "-7              NaN      NaN    NaN  \n",
       "-6              NaN      NaN    NaN  \n",
       "-5              NaN      NaN    NaN  \n",
       "-4              NaN      NaN    NaN  \n",
       "-3              NaN      NaN    NaN  \n",
       "\n",
       "[5 rows x 9904 columns]"
      ]
     },
     "execution_count": 95,
     "metadata": {},
     "output_type": "execute_result"
    }
   ],
   "source": [
    "grouped.unstack().head()"
   ]
  },
  {
   "cell_type": "code",
   "execution_count": 96,
   "metadata": {},
   "outputs": [
    {
     "data": {
      "text/html": [
       "<div>\n",
       "<style scoped>\n",
       "    .dataframe tbody tr th:only-of-type {\n",
       "        vertical-align: middle;\n",
       "    }\n",
       "\n",
       "    .dataframe tbody tr th {\n",
       "        vertical-align: top;\n",
       "    }\n",
       "\n",
       "    .dataframe thead th {\n",
       "        text-align: right;\n",
       "    }\n",
       "</style>\n",
       "<table border=\"1\" class=\"dataframe\">\n",
       "  <thead>\n",
       "    <tr style=\"text-align: right;\">\n",
       "      <th>cleaned</th>\n",
       "      <th>'s</th>\n",
       "      <th>zoology</th>\n",
       "    </tr>\n",
       "    <tr>\n",
       "      <th>coll_position</th>\n",
       "      <th></th>\n",
       "      <th></th>\n",
       "    </tr>\n",
       "  </thead>\n",
       "  <tbody>\n",
       "    <tr>\n",
       "      <td>-7</td>\n",
       "      <td>29.0</td>\n",
       "      <td>NaN</td>\n",
       "    </tr>\n",
       "    <tr>\n",
       "      <td>-6</td>\n",
       "      <td>25.0</td>\n",
       "      <td>NaN</td>\n",
       "    </tr>\n",
       "    <tr>\n",
       "      <td>-5</td>\n",
       "      <td>19.0</td>\n",
       "      <td>NaN</td>\n",
       "    </tr>\n",
       "    <tr>\n",
       "      <td>-4</td>\n",
       "      <td>22.0</td>\n",
       "      <td>NaN</td>\n",
       "    </tr>\n",
       "    <tr>\n",
       "      <td>-3</td>\n",
       "      <td>25.0</td>\n",
       "      <td>NaN</td>\n",
       "    </tr>\n",
       "    <tr>\n",
       "      <td>-2</td>\n",
       "      <td>14.0</td>\n",
       "      <td>1.0</td>\n",
       "    </tr>\n",
       "    <tr>\n",
       "      <td>-1</td>\n",
       "      <td>7.0</td>\n",
       "      <td>NaN</td>\n",
       "    </tr>\n",
       "    <tr>\n",
       "      <td>1</td>\n",
       "      <td>845.0</td>\n",
       "      <td>NaN</td>\n",
       "    </tr>\n",
       "    <tr>\n",
       "      <td>2</td>\n",
       "      <td>61.0</td>\n",
       "      <td>NaN</td>\n",
       "    </tr>\n",
       "    <tr>\n",
       "      <td>3</td>\n",
       "      <td>65.0</td>\n",
       "      <td>NaN</td>\n",
       "    </tr>\n",
       "    <tr>\n",
       "      <td>4</td>\n",
       "      <td>62.0</td>\n",
       "      <td>NaN</td>\n",
       "    </tr>\n",
       "    <tr>\n",
       "      <td>5</td>\n",
       "      <td>30.0</td>\n",
       "      <td>NaN</td>\n",
       "    </tr>\n",
       "    <tr>\n",
       "      <td>6</td>\n",
       "      <td>45.0</td>\n",
       "      <td>NaN</td>\n",
       "    </tr>\n",
       "    <tr>\n",
       "      <td>7</td>\n",
       "      <td>26.0</td>\n",
       "      <td>NaN</td>\n",
       "    </tr>\n",
       "  </tbody>\n",
       "</table>\n",
       "</div>"
      ],
      "text/plain": [
       "cleaned           's  zoology\n",
       "coll_position                \n",
       "-7              29.0      NaN\n",
       "-6              25.0      NaN\n",
       "-5              19.0      NaN\n",
       "-4              22.0      NaN\n",
       "-3              25.0      NaN\n",
       "-2              14.0      1.0\n",
       "-1               7.0      NaN\n",
       " 1             845.0      NaN\n",
       " 2              61.0      NaN\n",
       " 3              65.0      NaN\n",
       " 4              62.0      NaN\n",
       " 5              30.0      NaN\n",
       " 6              45.0      NaN\n",
       " 7              26.0      NaN"
      ]
     },
     "execution_count": 96,
     "metadata": {},
     "output_type": "execute_result"
    }
   ],
   "source": [
    "grouped.unstack()[[\"'s\", \"zoology\"]]"
   ]
  },
  {
   "cell_type": "code",
   "execution_count": 97,
   "metadata": {},
   "outputs": [
    {
     "data": {
      "text/plain": [
       "[\"'s\", 'book', 'one', 'work', 'new', 'volume', 'life', 'first', 'made', 'history', 'well', 'great', 'upon', 'little', 'would', 'written', 'years', 'two', 'york', 'much']"
      ]
     },
     "execution_count": 97,
     "metadata": {},
     "output_type": "execute_result"
    }
   ],
   "source": [
    "top20words = list(top20colls.index)\n",
    "top20words"
   ]
  },
  {
   "cell_type": "code",
   "execution_count": 98,
   "metadata": {},
   "outputs": [
    {
     "data": {
      "text/html": [
       "<div>\n",
       "<style scoped>\n",
       "    .dataframe tbody tr th:only-of-type {\n",
       "        vertical-align: middle;\n",
       "    }\n",
       "\n",
       "    .dataframe tbody tr th {\n",
       "        vertical-align: top;\n",
       "    }\n",
       "\n",
       "    .dataframe thead th {\n",
       "        text-align: right;\n",
       "    }\n",
       "</style>\n",
       "<table border=\"1\" class=\"dataframe\">\n",
       "  <thead>\n",
       "    <tr style=\"text-align: right;\">\n",
       "      <th>cleaned</th>\n",
       "      <th>'s</th>\n",
       "      <th>book</th>\n",
       "      <th>one</th>\n",
       "      <th>work</th>\n",
       "      <th>new</th>\n",
       "      <th>volume</th>\n",
       "      <th>life</th>\n",
       "      <th>first</th>\n",
       "      <th>made</th>\n",
       "      <th>history</th>\n",
       "      <th>well</th>\n",
       "      <th>great</th>\n",
       "      <th>upon</th>\n",
       "      <th>little</th>\n",
       "      <th>would</th>\n",
       "      <th>written</th>\n",
       "      <th>years</th>\n",
       "      <th>two</th>\n",
       "      <th>york</th>\n",
       "      <th>much</th>\n",
       "    </tr>\n",
       "    <tr>\n",
       "      <th>coll_position</th>\n",
       "      <th></th>\n",
       "      <th></th>\n",
       "      <th></th>\n",
       "      <th></th>\n",
       "      <th></th>\n",
       "      <th></th>\n",
       "      <th></th>\n",
       "      <th></th>\n",
       "      <th></th>\n",
       "      <th></th>\n",
       "      <th></th>\n",
       "      <th></th>\n",
       "      <th></th>\n",
       "      <th></th>\n",
       "      <th></th>\n",
       "      <th></th>\n",
       "      <th></th>\n",
       "      <th></th>\n",
       "      <th></th>\n",
       "      <th></th>\n",
       "    </tr>\n",
       "  </thead>\n",
       "  <tbody>\n",
       "    <tr>\n",
       "      <td>-7</td>\n",
       "      <td>29.0</td>\n",
       "      <td>15.0</td>\n",
       "      <td>19.0</td>\n",
       "      <td>10.0</td>\n",
       "      <td>17.0</td>\n",
       "      <td>6.0</td>\n",
       "      <td>3.0</td>\n",
       "      <td>4.0</td>\n",
       "      <td>5.0</td>\n",
       "      <td>4.0</td>\n",
       "      <td>6.0</td>\n",
       "      <td>8.0</td>\n",
       "      <td>7.0</td>\n",
       "      <td>12.0</td>\n",
       "      <td>3.0</td>\n",
       "      <td>6.0</td>\n",
       "      <td>7.0</td>\n",
       "      <td>6.0</td>\n",
       "      <td>6.0</td>\n",
       "      <td>3.0</td>\n",
       "    </tr>\n",
       "    <tr>\n",
       "      <td>-6</td>\n",
       "      <td>25.0</td>\n",
       "      <td>12.0</td>\n",
       "      <td>20.0</td>\n",
       "      <td>9.0</td>\n",
       "      <td>18.0</td>\n",
       "      <td>10.0</td>\n",
       "      <td>7.0</td>\n",
       "      <td>7.0</td>\n",
       "      <td>4.0</td>\n",
       "      <td>8.0</td>\n",
       "      <td>8.0</td>\n",
       "      <td>4.0</td>\n",
       "      <td>4.0</td>\n",
       "      <td>7.0</td>\n",
       "      <td>10.0</td>\n",
       "      <td>2.0</td>\n",
       "      <td>4.0</td>\n",
       "      <td>5.0</td>\n",
       "      <td>6.0</td>\n",
       "      <td>5.0</td>\n",
       "    </tr>\n",
       "    <tr>\n",
       "      <td>-5</td>\n",
       "      <td>19.0</td>\n",
       "      <td>11.0</td>\n",
       "      <td>10.0</td>\n",
       "      <td>8.0</td>\n",
       "      <td>13.0</td>\n",
       "      <td>14.0</td>\n",
       "      <td>13.0</td>\n",
       "      <td>4.0</td>\n",
       "      <td>9.0</td>\n",
       "      <td>8.0</td>\n",
       "      <td>4.0</td>\n",
       "      <td>3.0</td>\n",
       "      <td>4.0</td>\n",
       "      <td>3.0</td>\n",
       "      <td>9.0</td>\n",
       "      <td>3.0</td>\n",
       "      <td>8.0</td>\n",
       "      <td>8.0</td>\n",
       "      <td>11.0</td>\n",
       "      <td>6.0</td>\n",
       "    </tr>\n",
       "    <tr>\n",
       "      <td>-4</td>\n",
       "      <td>22.0</td>\n",
       "      <td>7.0</td>\n",
       "      <td>11.0</td>\n",
       "      <td>12.0</td>\n",
       "      <td>19.0</td>\n",
       "      <td>5.0</td>\n",
       "      <td>18.0</td>\n",
       "      <td>5.0</td>\n",
       "      <td>7.0</td>\n",
       "      <td>10.0</td>\n",
       "      <td>3.0</td>\n",
       "      <td>6.0</td>\n",
       "      <td>9.0</td>\n",
       "      <td>3.0</td>\n",
       "      <td>2.0</td>\n",
       "      <td>3.0</td>\n",
       "      <td>5.0</td>\n",
       "      <td>4.0</td>\n",
       "      <td>5.0</td>\n",
       "      <td>7.0</td>\n",
       "    </tr>\n",
       "    <tr>\n",
       "      <td>-3</td>\n",
       "      <td>25.0</td>\n",
       "      <td>11.0</td>\n",
       "      <td>21.0</td>\n",
       "      <td>10.0</td>\n",
       "      <td>12.0</td>\n",
       "      <td>9.0</td>\n",
       "      <td>9.0</td>\n",
       "      <td>11.0</td>\n",
       "      <td>5.0</td>\n",
       "      <td>6.0</td>\n",
       "      <td>7.0</td>\n",
       "      <td>8.0</td>\n",
       "      <td>4.0</td>\n",
       "      <td>5.0</td>\n",
       "      <td>7.0</td>\n",
       "      <td>4.0</td>\n",
       "      <td>15.0</td>\n",
       "      <td>8.0</td>\n",
       "      <td>8.0</td>\n",
       "      <td>7.0</td>\n",
       "    </tr>\n",
       "    <tr>\n",
       "      <td>-2</td>\n",
       "      <td>14.0</td>\n",
       "      <td>16.0</td>\n",
       "      <td>18.0</td>\n",
       "      <td>28.0</td>\n",
       "      <td>7.0</td>\n",
       "      <td>14.0</td>\n",
       "      <td>13.0</td>\n",
       "      <td>4.0</td>\n",
       "      <td>15.0</td>\n",
       "      <td>8.0</td>\n",
       "      <td>7.0</td>\n",
       "      <td>6.0</td>\n",
       "      <td>2.0</td>\n",
       "      <td>5.0</td>\n",
       "      <td>2.0</td>\n",
       "      <td>12.0</td>\n",
       "      <td>7.0</td>\n",
       "      <td>1.0</td>\n",
       "      <td>3.0</td>\n",
       "      <td>8.0</td>\n",
       "    </tr>\n",
       "    <tr>\n",
       "      <td>-1</td>\n",
       "      <td>7.0</td>\n",
       "      <td>7.0</td>\n",
       "      <td>6.0</td>\n",
       "      <td>11.0</td>\n",
       "      <td>5.0</td>\n",
       "      <td>12.0</td>\n",
       "      <td>5.0</td>\n",
       "      <td>4.0</td>\n",
       "      <td>4.0</td>\n",
       "      <td>2.0</td>\n",
       "      <td>NaN</td>\n",
       "      <td>2.0</td>\n",
       "      <td>9.0</td>\n",
       "      <td>2.0</td>\n",
       "      <td>2.0</td>\n",
       "      <td>7.0</td>\n",
       "      <td>4.0</td>\n",
       "      <td>NaN</td>\n",
       "      <td>3.0</td>\n",
       "      <td>2.0</td>\n",
       "    </tr>\n",
       "    <tr>\n",
       "      <td>1</td>\n",
       "      <td>845.0</td>\n",
       "      <td>8.0</td>\n",
       "      <td>2.0</td>\n",
       "      <td>3.0</td>\n",
       "      <td>3.0</td>\n",
       "      <td>3.0</td>\n",
       "      <td>NaN</td>\n",
       "      <td>3.0</td>\n",
       "      <td>5.0</td>\n",
       "      <td>2.0</td>\n",
       "      <td>1.0</td>\n",
       "      <td>1.0</td>\n",
       "      <td>8.0</td>\n",
       "      <td>2.0</td>\n",
       "      <td>13.0</td>\n",
       "      <td>3.0</td>\n",
       "      <td>NaN</td>\n",
       "      <td>1.0</td>\n",
       "      <td>NaN</td>\n",
       "      <td>NaN</td>\n",
       "    </tr>\n",
       "    <tr>\n",
       "      <td>2</td>\n",
       "      <td>61.0</td>\n",
       "      <td>67.0</td>\n",
       "      <td>19.0</td>\n",
       "      <td>40.0</td>\n",
       "      <td>19.0</td>\n",
       "      <td>13.0</td>\n",
       "      <td>6.0</td>\n",
       "      <td>5.0</td>\n",
       "      <td>10.0</td>\n",
       "      <td>9.0</td>\n",
       "      <td>11.0</td>\n",
       "      <td>3.0</td>\n",
       "      <td>5.0</td>\n",
       "      <td>17.0</td>\n",
       "      <td>4.0</td>\n",
       "      <td>23.0</td>\n",
       "      <td>1.0</td>\n",
       "      <td>12.0</td>\n",
       "      <td>NaN</td>\n",
       "      <td>5.0</td>\n",
       "    </tr>\n",
       "    <tr>\n",
       "      <td>3</td>\n",
       "      <td>65.0</td>\n",
       "      <td>23.0</td>\n",
       "      <td>17.0</td>\n",
       "      <td>14.0</td>\n",
       "      <td>14.0</td>\n",
       "      <td>10.0</td>\n",
       "      <td>5.0</td>\n",
       "      <td>13.0</td>\n",
       "      <td>10.0</td>\n",
       "      <td>4.0</td>\n",
       "      <td>4.0</td>\n",
       "      <td>9.0</td>\n",
       "      <td>10.0</td>\n",
       "      <td>6.0</td>\n",
       "      <td>6.0</td>\n",
       "      <td>5.0</td>\n",
       "      <td>4.0</td>\n",
       "      <td>6.0</td>\n",
       "      <td>8.0</td>\n",
       "      <td>7.0</td>\n",
       "    </tr>\n",
       "    <tr>\n",
       "      <td>4</td>\n",
       "      <td>62.0</td>\n",
       "      <td>20.0</td>\n",
       "      <td>17.0</td>\n",
       "      <td>12.0</td>\n",
       "      <td>8.0</td>\n",
       "      <td>7.0</td>\n",
       "      <td>3.0</td>\n",
       "      <td>10.0</td>\n",
       "      <td>3.0</td>\n",
       "      <td>6.0</td>\n",
       "      <td>8.0</td>\n",
       "      <td>14.0</td>\n",
       "      <td>4.0</td>\n",
       "      <td>6.0</td>\n",
       "      <td>7.0</td>\n",
       "      <td>6.0</td>\n",
       "      <td>3.0</td>\n",
       "      <td>8.0</td>\n",
       "      <td>9.0</td>\n",
       "      <td>12.0</td>\n",
       "    </tr>\n",
       "    <tr>\n",
       "      <td>5</td>\n",
       "      <td>30.0</td>\n",
       "      <td>13.0</td>\n",
       "      <td>20.0</td>\n",
       "      <td>15.0</td>\n",
       "      <td>14.0</td>\n",
       "      <td>6.0</td>\n",
       "      <td>10.0</td>\n",
       "      <td>12.0</td>\n",
       "      <td>7.0</td>\n",
       "      <td>9.0</td>\n",
       "      <td>11.0</td>\n",
       "      <td>9.0</td>\n",
       "      <td>2.0</td>\n",
       "      <td>6.0</td>\n",
       "      <td>5.0</td>\n",
       "      <td>6.0</td>\n",
       "      <td>10.0</td>\n",
       "      <td>8.0</td>\n",
       "      <td>6.0</td>\n",
       "      <td>3.0</td>\n",
       "    </tr>\n",
       "    <tr>\n",
       "      <td>6</td>\n",
       "      <td>45.0</td>\n",
       "      <td>8.0</td>\n",
       "      <td>11.0</td>\n",
       "      <td>10.0</td>\n",
       "      <td>19.0</td>\n",
       "      <td>12.0</td>\n",
       "      <td>4.0</td>\n",
       "      <td>9.0</td>\n",
       "      <td>4.0</td>\n",
       "      <td>9.0</td>\n",
       "      <td>9.0</td>\n",
       "      <td>3.0</td>\n",
       "      <td>9.0</td>\n",
       "      <td>4.0</td>\n",
       "      <td>3.0</td>\n",
       "      <td>1.0</td>\n",
       "      <td>6.0</td>\n",
       "      <td>5.0</td>\n",
       "      <td>9.0</td>\n",
       "      <td>8.0</td>\n",
       "    </tr>\n",
       "    <tr>\n",
       "      <td>7</td>\n",
       "      <td>26.0</td>\n",
       "      <td>12.0</td>\n",
       "      <td>20.0</td>\n",
       "      <td>14.0</td>\n",
       "      <td>17.0</td>\n",
       "      <td>5.0</td>\n",
       "      <td>15.0</td>\n",
       "      <td>7.0</td>\n",
       "      <td>5.0</td>\n",
       "      <td>6.0</td>\n",
       "      <td>5.0</td>\n",
       "      <td>8.0</td>\n",
       "      <td>6.0</td>\n",
       "      <td>5.0</td>\n",
       "      <td>8.0</td>\n",
       "      <td>NaN</td>\n",
       "      <td>7.0</td>\n",
       "      <td>7.0</td>\n",
       "      <td>5.0</td>\n",
       "      <td>3.0</td>\n",
       "    </tr>\n",
       "  </tbody>\n",
       "</table>\n",
       "</div>"
      ],
      "text/plain": [
       "cleaned           's  book   one  work   new  volume  life  first  made  \\\n",
       "coll_position                                                             \n",
       "-7              29.0  15.0  19.0  10.0  17.0     6.0   3.0    4.0   5.0   \n",
       "-6              25.0  12.0  20.0   9.0  18.0    10.0   7.0    7.0   4.0   \n",
       "-5              19.0  11.0  10.0   8.0  13.0    14.0  13.0    4.0   9.0   \n",
       "-4              22.0   7.0  11.0  12.0  19.0     5.0  18.0    5.0   7.0   \n",
       "-3              25.0  11.0  21.0  10.0  12.0     9.0   9.0   11.0   5.0   \n",
       "-2              14.0  16.0  18.0  28.0   7.0    14.0  13.0    4.0  15.0   \n",
       "-1               7.0   7.0   6.0  11.0   5.0    12.0   5.0    4.0   4.0   \n",
       " 1             845.0   8.0   2.0   3.0   3.0     3.0   NaN    3.0   5.0   \n",
       " 2              61.0  67.0  19.0  40.0  19.0    13.0   6.0    5.0  10.0   \n",
       " 3              65.0  23.0  17.0  14.0  14.0    10.0   5.0   13.0  10.0   \n",
       " 4              62.0  20.0  17.0  12.0   8.0     7.0   3.0   10.0   3.0   \n",
       " 5              30.0  13.0  20.0  15.0  14.0     6.0  10.0   12.0   7.0   \n",
       " 6              45.0   8.0  11.0  10.0  19.0    12.0   4.0    9.0   4.0   \n",
       " 7              26.0  12.0  20.0  14.0  17.0     5.0  15.0    7.0   5.0   \n",
       "\n",
       "cleaned        history  well  great  upon  little  would  written  years  \\\n",
       "coll_position                                                              \n",
       "-7                 4.0   6.0    8.0   7.0    12.0    3.0      6.0    7.0   \n",
       "-6                 8.0   8.0    4.0   4.0     7.0   10.0      2.0    4.0   \n",
       "-5                 8.0   4.0    3.0   4.0     3.0    9.0      3.0    8.0   \n",
       "-4                10.0   3.0    6.0   9.0     3.0    2.0      3.0    5.0   \n",
       "-3                 6.0   7.0    8.0   4.0     5.0    7.0      4.0   15.0   \n",
       "-2                 8.0   7.0    6.0   2.0     5.0    2.0     12.0    7.0   \n",
       "-1                 2.0   NaN    2.0   9.0     2.0    2.0      7.0    4.0   \n",
       " 1                 2.0   1.0    1.0   8.0     2.0   13.0      3.0    NaN   \n",
       " 2                 9.0  11.0    3.0   5.0    17.0    4.0     23.0    1.0   \n",
       " 3                 4.0   4.0    9.0  10.0     6.0    6.0      5.0    4.0   \n",
       " 4                 6.0   8.0   14.0   4.0     6.0    7.0      6.0    3.0   \n",
       " 5                 9.0  11.0    9.0   2.0     6.0    5.0      6.0   10.0   \n",
       " 6                 9.0   9.0    3.0   9.0     4.0    3.0      1.0    6.0   \n",
       " 7                 6.0   5.0    8.0   6.0     5.0    8.0      NaN    7.0   \n",
       "\n",
       "cleaned         two  york  much  \n",
       "coll_position                    \n",
       "-7              6.0   6.0   3.0  \n",
       "-6              5.0   6.0   5.0  \n",
       "-5              8.0  11.0   6.0  \n",
       "-4              4.0   5.0   7.0  \n",
       "-3              8.0   8.0   7.0  \n",
       "-2              1.0   3.0   8.0  \n",
       "-1              NaN   3.0   2.0  \n",
       " 1              1.0   NaN   NaN  \n",
       " 2             12.0   NaN   5.0  \n",
       " 3              6.0   8.0   7.0  \n",
       " 4              8.0   9.0  12.0  \n",
       " 5              8.0   6.0   3.0  \n",
       " 6              5.0   9.0   8.0  \n",
       " 7              7.0   5.0   3.0  "
      ]
     },
     "execution_count": 98,
     "metadata": {},
     "output_type": "execute_result"
    }
   ],
   "source": [
    "grouped.unstack()[top20words]"
   ]
  },
  {
   "cell_type": "markdown",
   "metadata": {},
   "source": [
    "I'm figuring the words with the highest standard deviation are only good indicators in a specific position. Like \"'s\". "
   ]
  },
  {
   "cell_type": "code",
   "execution_count": 99,
   "metadata": {},
   "outputs": [
    {
     "data": {
      "text/html": [
       "<div>\n",
       "<style scoped>\n",
       "    .dataframe tbody tr th:only-of-type {\n",
       "        vertical-align: middle;\n",
       "    }\n",
       "\n",
       "    .dataframe tbody tr th {\n",
       "        vertical-align: top;\n",
       "    }\n",
       "\n",
       "    .dataframe thead th {\n",
       "        text-align: right;\n",
       "    }\n",
       "</style>\n",
       "<table border=\"1\" class=\"dataframe\">\n",
       "  <thead>\n",
       "    <tr style=\"text-align: right;\">\n",
       "      <th>cleaned</th>\n",
       "      <th>'s</th>\n",
       "      <th>book</th>\n",
       "      <th>one</th>\n",
       "      <th>work</th>\n",
       "      <th>new</th>\n",
       "      <th>volume</th>\n",
       "      <th>life</th>\n",
       "      <th>first</th>\n",
       "      <th>made</th>\n",
       "      <th>history</th>\n",
       "      <th>well</th>\n",
       "      <th>great</th>\n",
       "      <th>upon</th>\n",
       "      <th>little</th>\n",
       "      <th>would</th>\n",
       "      <th>written</th>\n",
       "      <th>years</th>\n",
       "      <th>two</th>\n",
       "      <th>york</th>\n",
       "      <th>much</th>\n",
       "    </tr>\n",
       "  </thead>\n",
       "  <tbody>\n",
       "    <tr>\n",
       "      <td>count</td>\n",
       "      <td>14.000000</td>\n",
       "      <td>14.000000</td>\n",
       "      <td>14.000000</td>\n",
       "      <td>14.00000</td>\n",
       "      <td>14.000000</td>\n",
       "      <td>14.000000</td>\n",
       "      <td>13.000000</td>\n",
       "      <td>14.000000</td>\n",
       "      <td>14.000000</td>\n",
       "      <td>14.00000</td>\n",
       "      <td>13.000000</td>\n",
       "      <td>14.000000</td>\n",
       "      <td>14.000000</td>\n",
       "      <td>14.000000</td>\n",
       "      <td>14.000000</td>\n",
       "      <td>13.000000</td>\n",
       "      <td>13.000000</td>\n",
       "      <td>13.000000</td>\n",
       "      <td>12.000000</td>\n",
       "      <td>13.000000</td>\n",
       "    </tr>\n",
       "    <tr>\n",
       "      <td>mean</td>\n",
       "      <td>91.071429</td>\n",
       "      <td>16.428571</td>\n",
       "      <td>15.071429</td>\n",
       "      <td>14.00000</td>\n",
       "      <td>13.214286</td>\n",
       "      <td>9.000000</td>\n",
       "      <td>8.538462</td>\n",
       "      <td>7.000000</td>\n",
       "      <td>6.642857</td>\n",
       "      <td>6.50000</td>\n",
       "      <td>6.461538</td>\n",
       "      <td>6.000000</td>\n",
       "      <td>5.928571</td>\n",
       "      <td>5.928571</td>\n",
       "      <td>5.785714</td>\n",
       "      <td>6.230769</td>\n",
       "      <td>6.230769</td>\n",
       "      <td>6.076923</td>\n",
       "      <td>6.583333</td>\n",
       "      <td>5.846154</td>\n",
       "    </tr>\n",
       "    <tr>\n",
       "      <td>std</td>\n",
       "      <td>217.765034</td>\n",
       "      <td>15.305677</td>\n",
       "      <td>5.993128</td>\n",
       "      <td>9.28191</td>\n",
       "      <td>5.493753</td>\n",
       "      <td>3.679465</td>\n",
       "      <td>4.909436</td>\n",
       "      <td>3.396831</td>\n",
       "      <td>3.319109</td>\n",
       "      <td>2.65301</td>\n",
       "      <td>3.017046</td>\n",
       "      <td>3.573406</td>\n",
       "      <td>2.730576</td>\n",
       "      <td>4.066075</td>\n",
       "      <td>3.400873</td>\n",
       "      <td>5.761277</td>\n",
       "      <td>3.539158</td>\n",
       "      <td>3.012793</td>\n",
       "      <td>2.466441</td>\n",
       "      <td>2.764241</td>\n",
       "    </tr>\n",
       "    <tr>\n",
       "      <td>min</td>\n",
       "      <td>7.000000</td>\n",
       "      <td>7.000000</td>\n",
       "      <td>2.000000</td>\n",
       "      <td>3.00000</td>\n",
       "      <td>3.000000</td>\n",
       "      <td>3.000000</td>\n",
       "      <td>3.000000</td>\n",
       "      <td>3.000000</td>\n",
       "      <td>3.000000</td>\n",
       "      <td>2.00000</td>\n",
       "      <td>1.000000</td>\n",
       "      <td>1.000000</td>\n",
       "      <td>2.000000</td>\n",
       "      <td>2.000000</td>\n",
       "      <td>2.000000</td>\n",
       "      <td>1.000000</td>\n",
       "      <td>1.000000</td>\n",
       "      <td>1.000000</td>\n",
       "      <td>3.000000</td>\n",
       "      <td>2.000000</td>\n",
       "    </tr>\n",
       "    <tr>\n",
       "      <td>25%</td>\n",
       "      <td>22.750000</td>\n",
       "      <td>8.750000</td>\n",
       "      <td>11.000000</td>\n",
       "      <td>10.00000</td>\n",
       "      <td>9.000000</td>\n",
       "      <td>6.000000</td>\n",
       "      <td>5.000000</td>\n",
       "      <td>4.000000</td>\n",
       "      <td>4.250000</td>\n",
       "      <td>4.50000</td>\n",
       "      <td>4.000000</td>\n",
       "      <td>3.000000</td>\n",
       "      <td>4.000000</td>\n",
       "      <td>3.250000</td>\n",
       "      <td>3.000000</td>\n",
       "      <td>3.000000</td>\n",
       "      <td>4.000000</td>\n",
       "      <td>5.000000</td>\n",
       "      <td>5.000000</td>\n",
       "      <td>3.000000</td>\n",
       "    </tr>\n",
       "    <tr>\n",
       "      <td>50%</td>\n",
       "      <td>27.500000</td>\n",
       "      <td>12.000000</td>\n",
       "      <td>17.500000</td>\n",
       "      <td>11.50000</td>\n",
       "      <td>14.000000</td>\n",
       "      <td>9.500000</td>\n",
       "      <td>7.000000</td>\n",
       "      <td>6.000000</td>\n",
       "      <td>5.000000</td>\n",
       "      <td>7.00000</td>\n",
       "      <td>7.000000</td>\n",
       "      <td>6.000000</td>\n",
       "      <td>5.500000</td>\n",
       "      <td>5.000000</td>\n",
       "      <td>5.500000</td>\n",
       "      <td>5.000000</td>\n",
       "      <td>6.000000</td>\n",
       "      <td>6.000000</td>\n",
       "      <td>6.000000</td>\n",
       "      <td>6.000000</td>\n",
       "    </tr>\n",
       "    <tr>\n",
       "      <td>75%</td>\n",
       "      <td>57.000000</td>\n",
       "      <td>15.750000</td>\n",
       "      <td>19.750000</td>\n",
       "      <td>14.00000</td>\n",
       "      <td>17.750000</td>\n",
       "      <td>12.000000</td>\n",
       "      <td>13.000000</td>\n",
       "      <td>9.750000</td>\n",
       "      <td>8.500000</td>\n",
       "      <td>8.75000</td>\n",
       "      <td>8.000000</td>\n",
       "      <td>8.000000</td>\n",
       "      <td>8.750000</td>\n",
       "      <td>6.000000</td>\n",
       "      <td>7.750000</td>\n",
       "      <td>6.000000</td>\n",
       "      <td>7.000000</td>\n",
       "      <td>8.000000</td>\n",
       "      <td>8.250000</td>\n",
       "      <td>7.000000</td>\n",
       "    </tr>\n",
       "    <tr>\n",
       "      <td>max</td>\n",
       "      <td>845.000000</td>\n",
       "      <td>67.000000</td>\n",
       "      <td>21.000000</td>\n",
       "      <td>40.00000</td>\n",
       "      <td>19.000000</td>\n",
       "      <td>14.000000</td>\n",
       "      <td>18.000000</td>\n",
       "      <td>13.000000</td>\n",
       "      <td>15.000000</td>\n",
       "      <td>10.00000</td>\n",
       "      <td>11.000000</td>\n",
       "      <td>14.000000</td>\n",
       "      <td>10.000000</td>\n",
       "      <td>17.000000</td>\n",
       "      <td>13.000000</td>\n",
       "      <td>23.000000</td>\n",
       "      <td>15.000000</td>\n",
       "      <td>12.000000</td>\n",
       "      <td>11.000000</td>\n",
       "      <td>12.000000</td>\n",
       "    </tr>\n",
       "  </tbody>\n",
       "</table>\n",
       "</div>"
      ],
      "text/plain": [
       "cleaned          's       book        one      work        new     volume  \\\n",
       "count     14.000000  14.000000  14.000000  14.00000  14.000000  14.000000   \n",
       "mean      91.071429  16.428571  15.071429  14.00000  13.214286   9.000000   \n",
       "std      217.765034  15.305677   5.993128   9.28191   5.493753   3.679465   \n",
       "min        7.000000   7.000000   2.000000   3.00000   3.000000   3.000000   \n",
       "25%       22.750000   8.750000  11.000000  10.00000   9.000000   6.000000   \n",
       "50%       27.500000  12.000000  17.500000  11.50000  14.000000   9.500000   \n",
       "75%       57.000000  15.750000  19.750000  14.00000  17.750000  12.000000   \n",
       "max      845.000000  67.000000  21.000000  40.00000  19.000000  14.000000   \n",
       "\n",
       "cleaned       life      first       made   history       well      great  \\\n",
       "count    13.000000  14.000000  14.000000  14.00000  13.000000  14.000000   \n",
       "mean      8.538462   7.000000   6.642857   6.50000   6.461538   6.000000   \n",
       "std       4.909436   3.396831   3.319109   2.65301   3.017046   3.573406   \n",
       "min       3.000000   3.000000   3.000000   2.00000   1.000000   1.000000   \n",
       "25%       5.000000   4.000000   4.250000   4.50000   4.000000   3.000000   \n",
       "50%       7.000000   6.000000   5.000000   7.00000   7.000000   6.000000   \n",
       "75%      13.000000   9.750000   8.500000   8.75000   8.000000   8.000000   \n",
       "max      18.000000  13.000000  15.000000  10.00000  11.000000  14.000000   \n",
       "\n",
       "cleaned       upon     little      would    written      years        two  \\\n",
       "count    14.000000  14.000000  14.000000  13.000000  13.000000  13.000000   \n",
       "mean      5.928571   5.928571   5.785714   6.230769   6.230769   6.076923   \n",
       "std       2.730576   4.066075   3.400873   5.761277   3.539158   3.012793   \n",
       "min       2.000000   2.000000   2.000000   1.000000   1.000000   1.000000   \n",
       "25%       4.000000   3.250000   3.000000   3.000000   4.000000   5.000000   \n",
       "50%       5.500000   5.000000   5.500000   5.000000   6.000000   6.000000   \n",
       "75%       8.750000   6.000000   7.750000   6.000000   7.000000   8.000000   \n",
       "max      10.000000  17.000000  13.000000  23.000000  15.000000  12.000000   \n",
       "\n",
       "cleaned       york       much  \n",
       "count    12.000000  13.000000  \n",
       "mean      6.583333   5.846154  \n",
       "std       2.466441   2.764241  \n",
       "min       3.000000   2.000000  \n",
       "25%       5.000000   3.000000  \n",
       "50%       6.000000   6.000000  \n",
       "75%       8.250000   7.000000  \n",
       "max      11.000000  12.000000  "
      ]
     },
     "execution_count": 99,
     "metadata": {},
     "output_type": "execute_result"
    }
   ],
   "source": [
    "grouped.unstack()[top20words].describe()"
   ]
  },
  {
   "cell_type": "markdown",
   "metadata": {},
   "source": [
    "Yeah, \"'s\" has a huge std dev. \"Book\" is also fairly high. The rest all seem consistent-ish.\n",
    "\n",
    "Maybe lemmas will help group some similar words, e.g. book and books."
   ]
  },
  {
   "cell_type": "code",
   "execution_count": 100,
   "metadata": {},
   "outputs": [],
   "source": [
    "from nltk.stem import WordNetLemmatizer"
   ]
  },
  {
   "cell_type": "code",
   "execution_count": 101,
   "metadata": {},
   "outputs": [],
   "source": [
    "lemmatizer = WordNetLemmatizer()"
   ]
  },
  {
   "cell_type": "code",
   "execution_count": 102,
   "metadata": {},
   "outputs": [
    {
     "data": {
      "text/html": [
       "<div>\n",
       "<style scoped>\n",
       "    .dataframe tbody tr th:only-of-type {\n",
       "        vertical-align: middle;\n",
       "    }\n",
       "\n",
       "    .dataframe tbody tr th {\n",
       "        vertical-align: top;\n",
       "    }\n",
       "\n",
       "    .dataframe thead th {\n",
       "        text-align: right;\n",
       "    }\n",
       "</style>\n",
       "<table border=\"1\" class=\"dataframe\">\n",
       "  <thead>\n",
       "    <tr style=\"text-align: right;\">\n",
       "      <th></th>\n",
       "      <th>review_id</th>\n",
       "      <th>review_group</th>\n",
       "      <th>name_target</th>\n",
       "      <th>collocate</th>\n",
       "      <th>coll_position</th>\n",
       "      <th>cleaned</th>\n",
       "    </tr>\n",
       "  </thead>\n",
       "  <tbody>\n",
       "    <tr>\n",
       "      <td>0</td>\n",
       "      <td>137197814</td>\n",
       "      <td>21</td>\n",
       "      <td>Mrs. Canfield</td>\n",
       "      <td>'s</td>\n",
       "      <td>-7</td>\n",
       "      <td>'s</td>\n",
       "    </tr>\n",
       "    <tr>\n",
       "      <td>1</td>\n",
       "      <td>137197814</td>\n",
       "      <td>21</td>\n",
       "      <td>Mrs. Canfield</td>\n",
       "      <td>Putt</td>\n",
       "      <td>-6</td>\n",
       "      <td>putt</td>\n",
       "    </tr>\n",
       "    <tr>\n",
       "      <td>2</td>\n",
       "      <td>137197814</td>\n",
       "      <td>21</td>\n",
       "      <td>Mrs. Canfield</td>\n",
       "      <td>Yourself</td>\n",
       "      <td>-5</td>\n",
       "      <td>sw</td>\n",
       "    </tr>\n",
       "    <tr>\n",
       "      <td>3</td>\n",
       "      <td>137197814</td>\n",
       "      <td>21</td>\n",
       "      <td>Mrs. Canfield</td>\n",
       "      <td>in</td>\n",
       "      <td>-4</td>\n",
       "      <td>sw</td>\n",
       "    </tr>\n",
       "    <tr>\n",
       "      <td>4</td>\n",
       "      <td>137197814</td>\n",
       "      <td>21</td>\n",
       "      <td>Mrs. Canfield</td>\n",
       "      <td>His</td>\n",
       "      <td>-3</td>\n",
       "      <td>sw</td>\n",
       "    </tr>\n",
       "  </tbody>\n",
       "</table>\n",
       "</div>"
      ],
      "text/plain": [
       "   review_id  review_group    name_target collocate  coll_position cleaned\n",
       "0  137197814            21  Mrs. Canfield        's             -7      's\n",
       "1  137197814            21  Mrs. Canfield      Putt             -6    putt\n",
       "2  137197814            21  Mrs. Canfield  Yourself             -5      sw\n",
       "3  137197814            21  Mrs. Canfield        in             -4      sw\n",
       "4  137197814            21  Mrs. Canfield       His             -3      sw"
      ]
     },
     "execution_count": 102,
     "metadata": {},
     "output_type": "execute_result"
    }
   ],
   "source": [
    "split_colls_df.head()"
   ]
  },
  {
   "cell_type": "code",
   "execution_count": 103,
   "metadata": {},
   "outputs": [
    {
     "name": "stdout",
     "output_type": "stream",
     "text": [
      "'s 's\n",
      "putt putt\n",
      "sw sw\n",
      "sw sw\n",
      "sw sw\n",
      "place place\n",
      "sw sw\n",
      "'s 's\n",
      "sw sw\n",
      "squirrel squirrel\n",
      "cage cage\n",
      "punct punct\n",
      "sw sw\n",
      "sw sw\n",
      "sw sw\n",
      "squirrel squirrel\n",
      "cage cage\n",
      "punct punct\n",
      "sw sw\n",
      "sw sw\n",
      "sw sw\n",
      "'s 's\n",
      "sw sw\n",
      "fault fault\n",
      "sw sw\n",
      "sw sw\n",
      "critics critic\n",
      "sw sw\n",
      "sw sw\n",
      "sw sw\n"
     ]
    }
   ],
   "source": [
    "for x in split_colls_df.cleaned[:30]:\n",
    "    print(x, lemmatizer.lemmatize(x))"
   ]
  },
  {
   "cell_type": "code",
   "execution_count": 104,
   "metadata": {},
   "outputs": [],
   "source": [
    "split_colls_df['lemmas'] = split_colls_df.cleaned.map(lemmatizer.lemmatize)"
   ]
  },
  {
   "cell_type": "code",
   "execution_count": 105,
   "metadata": {},
   "outputs": [
    {
     "data": {
      "text/html": [
       "<div>\n",
       "<style scoped>\n",
       "    .dataframe tbody tr th:only-of-type {\n",
       "        vertical-align: middle;\n",
       "    }\n",
       "\n",
       "    .dataframe tbody tr th {\n",
       "        vertical-align: top;\n",
       "    }\n",
       "\n",
       "    .dataframe thead th {\n",
       "        text-align: right;\n",
       "    }\n",
       "</style>\n",
       "<table border=\"1\" class=\"dataframe\">\n",
       "  <thead>\n",
       "    <tr style=\"text-align: right;\">\n",
       "      <th></th>\n",
       "      <th>review_id</th>\n",
       "      <th>review_group</th>\n",
       "      <th>name_target</th>\n",
       "      <th>collocate</th>\n",
       "      <th>coll_position</th>\n",
       "      <th>cleaned</th>\n",
       "      <th>lemmas</th>\n",
       "    </tr>\n",
       "  </thead>\n",
       "  <tbody>\n",
       "    <tr>\n",
       "      <td>0</td>\n",
       "      <td>137197814</td>\n",
       "      <td>21</td>\n",
       "      <td>Mrs. Canfield</td>\n",
       "      <td>'s</td>\n",
       "      <td>-7</td>\n",
       "      <td>'s</td>\n",
       "      <td>'s</td>\n",
       "    </tr>\n",
       "    <tr>\n",
       "      <td>1</td>\n",
       "      <td>137197814</td>\n",
       "      <td>21</td>\n",
       "      <td>Mrs. Canfield</td>\n",
       "      <td>Putt</td>\n",
       "      <td>-6</td>\n",
       "      <td>putt</td>\n",
       "      <td>putt</td>\n",
       "    </tr>\n",
       "    <tr>\n",
       "      <td>2</td>\n",
       "      <td>137197814</td>\n",
       "      <td>21</td>\n",
       "      <td>Mrs. Canfield</td>\n",
       "      <td>Yourself</td>\n",
       "      <td>-5</td>\n",
       "      <td>sw</td>\n",
       "      <td>sw</td>\n",
       "    </tr>\n",
       "    <tr>\n",
       "      <td>3</td>\n",
       "      <td>137197814</td>\n",
       "      <td>21</td>\n",
       "      <td>Mrs. Canfield</td>\n",
       "      <td>in</td>\n",
       "      <td>-4</td>\n",
       "      <td>sw</td>\n",
       "      <td>sw</td>\n",
       "    </tr>\n",
       "    <tr>\n",
       "      <td>4</td>\n",
       "      <td>137197814</td>\n",
       "      <td>21</td>\n",
       "      <td>Mrs. Canfield</td>\n",
       "      <td>His</td>\n",
       "      <td>-3</td>\n",
       "      <td>sw</td>\n",
       "      <td>sw</td>\n",
       "    </tr>\n",
       "  </tbody>\n",
       "</table>\n",
       "</div>"
      ],
      "text/plain": [
       "   review_id  review_group    name_target collocate  coll_position cleaned  \\\n",
       "0  137197814            21  Mrs. Canfield        's             -7      's   \n",
       "1  137197814            21  Mrs. Canfield      Putt             -6    putt   \n",
       "2  137197814            21  Mrs. Canfield  Yourself             -5      sw   \n",
       "3  137197814            21  Mrs. Canfield        in             -4      sw   \n",
       "4  137197814            21  Mrs. Canfield       His             -3      sw   \n",
       "\n",
       "  lemmas  \n",
       "0     's  \n",
       "1   putt  \n",
       "2     sw  \n",
       "3     sw  \n",
       "4     sw  "
      ]
     },
     "execution_count": 105,
     "metadata": {},
     "output_type": "execute_result"
    }
   ],
   "source": [
    "split_colls_df.head()"
   ]
  },
  {
   "cell_type": "code",
   "execution_count": 106,
   "metadata": {},
   "outputs": [
    {
     "data": {
      "text/plain": [
       "'s         1275\n",
       "book        230\n",
       "one         211\n",
       "work        196\n",
       "new         185\n",
       "volume      126\n",
       "life        111\n",
       "first        98\n",
       "made         93\n",
       "history      91\n",
       "well         84\n",
       "great        84\n",
       "upon         83\n",
       "little       83\n",
       "would        81\n",
       "written      81\n",
       "years        81\n",
       "two          79\n",
       "york         79\n",
       "much         76\n",
       "Name: cleaned, dtype: int64"
      ]
     },
     "execution_count": 106,
     "metadata": {},
     "output_type": "execute_result"
    }
   ],
   "source": [
    "top20colls"
   ]
  },
  {
   "cell_type": "code",
   "execution_count": 107,
   "metadata": {},
   "outputs": [
    {
     "data": {
      "text/plain": [
       "'s         1275\n",
       "book        263\n",
       "work        221\n",
       "one         212\n",
       "new         185\n",
       "volume      161\n",
       "life        119\n",
       "say         118\n",
       "year        106\n",
       "first        98\n",
       "made         93\n",
       "history      91\n",
       "story        86\n",
       "well         84\n",
       "great        84\n",
       "author       84\n",
       "upon         83\n",
       "little       83\n",
       "give         82\n",
       "would        81\n",
       "Name: lemmas, dtype: int64"
      ]
     },
     "execution_count": 107,
     "metadata": {},
     "output_type": "execute_result"
    }
   ],
   "source": [
    "top20lemmas = split_colls_df.lemmas.value_counts()[3:23]\n",
    "top20lemmas"
   ]
  },
  {
   "cell_type": "code",
   "execution_count": 108,
   "metadata": {},
   "outputs": [
    {
     "name": "stdout",
     "output_type": "stream",
     "text": [
      "'s \t 's\n",
      "book \t book\n",
      "one \t work\n",
      "work \t one\n",
      "new \t new\n",
      "volume \t volume\n",
      "life \t life\n",
      "first \t say\n",
      "made \t year\n",
      "history \t first\n",
      "well \t made\n",
      "great \t history\n",
      "upon \t story\n",
      "little \t well\n",
      "would \t great\n",
      "written \t author\n",
      "years \t upon\n",
      "two \t little\n",
      "york \t give\n",
      "much \t would\n"
     ]
    }
   ],
   "source": [
    "for e, x in enumerate(top20colls):\n",
    "    # print(top20colls.index[e], '\\t', x, '\\t\\t',\n",
    "          # top20lemmas.index[e], '\\t', top20lemmas[e])\n",
    "    print(top20colls.index[e], '\\t', top20lemmas.index[e])"
   ]
  },
  {
   "cell_type": "code",
   "execution_count": 109,
   "metadata": {},
   "outputs": [
    {
     "data": {
      "text/plain": [
       "<matplotlib.axes._subplots.AxesSubplot object at 0x1a477bf110>"
      ]
     },
     "execution_count": 109,
     "metadata": {},
     "output_type": "execute_result"
    },
    {
     "data": {
      "image/png": "[encoded data removed]",
      "text/plain": [
       "<Figure size 1080x576 with 1 Axes>"
      ]
     },
     "metadata": {},
     "output_type": "display_data"
    }
   ],
   "source": [
    "top20lemmas.plot(kind = \"bar\", figsize = (15, 8), title = \"Top 20 collocation lemmas, any position\")"
   ]
  },
  {
   "cell_type": "code",
   "execution_count": 110,
   "metadata": {},
   "outputs": [],
   "source": [
    "cleaned_colls_df = split_colls_df\n",
    "cleaned_colls_df = cleaned_colls_df[cleaned_colls_df.cleaned != \"sw\"]\n",
    "cleaned_colls_df = cleaned_colls_df[cleaned_colls_df.cleaned != \"punct\"]\n",
    "cleaned_colls_df = cleaned_colls_df[cleaned_colls_df.cleaned != \"name_obj\"]"
   ]
  },
  {
   "cell_type": "code",
   "execution_count": 111,
   "metadata": {},
   "outputs": [],
   "source": [
    "grouped2 = cleaned_colls_df.groupby('coll_position').lemmas.value_counts()"
   ]
  },
  {
   "cell_type": "code",
   "execution_count": 112,
   "metadata": {},
   "outputs": [
    {
     "data": {
      "text/html": [
       "<div>\n",
       "<style scoped>\n",
       "    .dataframe tbody tr th:only-of-type {\n",
       "        vertical-align: middle;\n",
       "    }\n",
       "\n",
       "    .dataframe tbody tr th {\n",
       "        vertical-align: top;\n",
       "    }\n",
       "\n",
       "    .dataframe thead th {\n",
       "        text-align: right;\n",
       "    }\n",
       "</style>\n",
       "<table border=\"1\" class=\"dataframe\">\n",
       "  <thead>\n",
       "    <tr style=\"text-align: right;\">\n",
       "      <th>lemmas</th>\n",
       "      <th>'s</th>\n",
       "      <th>book</th>\n",
       "      <th>work</th>\n",
       "      <th>one</th>\n",
       "      <th>new</th>\n",
       "      <th>volume</th>\n",
       "      <th>life</th>\n",
       "      <th>say</th>\n",
       "      <th>year</th>\n",
       "      <th>first</th>\n",
       "      <th>made</th>\n",
       "      <th>history</th>\n",
       "      <th>story</th>\n",
       "      <th>well</th>\n",
       "      <th>great</th>\n",
       "      <th>author</th>\n",
       "      <th>upon</th>\n",
       "      <th>little</th>\n",
       "      <th>give</th>\n",
       "      <th>would</th>\n",
       "    </tr>\n",
       "    <tr>\n",
       "      <th>coll_position</th>\n",
       "      <th></th>\n",
       "      <th></th>\n",
       "      <th></th>\n",
       "      <th></th>\n",
       "      <th></th>\n",
       "      <th></th>\n",
       "      <th></th>\n",
       "      <th></th>\n",
       "      <th></th>\n",
       "      <th></th>\n",
       "      <th></th>\n",
       "      <th></th>\n",
       "      <th></th>\n",
       "      <th></th>\n",
       "      <th></th>\n",
       "      <th></th>\n",
       "      <th></th>\n",
       "      <th></th>\n",
       "      <th></th>\n",
       "      <th></th>\n",
       "    </tr>\n",
       "  </thead>\n",
       "  <tbody>\n",
       "    <tr>\n",
       "      <td>-7</td>\n",
       "      <td>29.0</td>\n",
       "      <td>15.0</td>\n",
       "      <td>12.0</td>\n",
       "      <td>19.0</td>\n",
       "      <td>17.0</td>\n",
       "      <td>10.0</td>\n",
       "      <td>3.0</td>\n",
       "      <td>2.0</td>\n",
       "      <td>11.0</td>\n",
       "      <td>4.0</td>\n",
       "      <td>5.0</td>\n",
       "      <td>4.0</td>\n",
       "      <td>3.0</td>\n",
       "      <td>6.0</td>\n",
       "      <td>8.0</td>\n",
       "      <td>7.0</td>\n",
       "      <td>7.0</td>\n",
       "      <td>12.0</td>\n",
       "      <td>4.0</td>\n",
       "      <td>3.0</td>\n",
       "    </tr>\n",
       "    <tr>\n",
       "      <td>-6</td>\n",
       "      <td>25.0</td>\n",
       "      <td>15.0</td>\n",
       "      <td>12.0</td>\n",
       "      <td>20.0</td>\n",
       "      <td>18.0</td>\n",
       "      <td>10.0</td>\n",
       "      <td>9.0</td>\n",
       "      <td>5.0</td>\n",
       "      <td>4.0</td>\n",
       "      <td>7.0</td>\n",
       "      <td>4.0</td>\n",
       "      <td>8.0</td>\n",
       "      <td>1.0</td>\n",
       "      <td>8.0</td>\n",
       "      <td>4.0</td>\n",
       "      <td>7.0</td>\n",
       "      <td>4.0</td>\n",
       "      <td>7.0</td>\n",
       "      <td>4.0</td>\n",
       "      <td>10.0</td>\n",
       "    </tr>\n",
       "    <tr>\n",
       "      <td>-5</td>\n",
       "      <td>19.0</td>\n",
       "      <td>14.0</td>\n",
       "      <td>11.0</td>\n",
       "      <td>10.0</td>\n",
       "      <td>13.0</td>\n",
       "      <td>15.0</td>\n",
       "      <td>15.0</td>\n",
       "      <td>2.0</td>\n",
       "      <td>10.0</td>\n",
       "      <td>4.0</td>\n",
       "      <td>9.0</td>\n",
       "      <td>8.0</td>\n",
       "      <td>6.0</td>\n",
       "      <td>4.0</td>\n",
       "      <td>3.0</td>\n",
       "      <td>6.0</td>\n",
       "      <td>4.0</td>\n",
       "      <td>3.0</td>\n",
       "      <td>3.0</td>\n",
       "      <td>9.0</td>\n",
       "    </tr>\n",
       "    <tr>\n",
       "      <td>-4</td>\n",
       "      <td>22.0</td>\n",
       "      <td>8.0</td>\n",
       "      <td>13.0</td>\n",
       "      <td>11.0</td>\n",
       "      <td>19.0</td>\n",
       "      <td>12.0</td>\n",
       "      <td>18.0</td>\n",
       "      <td>3.0</td>\n",
       "      <td>8.0</td>\n",
       "      <td>5.0</td>\n",
       "      <td>7.0</td>\n",
       "      <td>10.0</td>\n",
       "      <td>6.0</td>\n",
       "      <td>3.0</td>\n",
       "      <td>6.0</td>\n",
       "      <td>5.0</td>\n",
       "      <td>9.0</td>\n",
       "      <td>3.0</td>\n",
       "      <td>1.0</td>\n",
       "      <td>2.0</td>\n",
       "    </tr>\n",
       "    <tr>\n",
       "      <td>-3</td>\n",
       "      <td>25.0</td>\n",
       "      <td>11.0</td>\n",
       "      <td>10.0</td>\n",
       "      <td>21.0</td>\n",
       "      <td>12.0</td>\n",
       "      <td>9.0</td>\n",
       "      <td>9.0</td>\n",
       "      <td>1.0</td>\n",
       "      <td>16.0</td>\n",
       "      <td>11.0</td>\n",
       "      <td>5.0</td>\n",
       "      <td>6.0</td>\n",
       "      <td>4.0</td>\n",
       "      <td>7.0</td>\n",
       "      <td>8.0</td>\n",
       "      <td>3.0</td>\n",
       "      <td>4.0</td>\n",
       "      <td>5.0</td>\n",
       "      <td>2.0</td>\n",
       "      <td>7.0</td>\n",
       "    </tr>\n",
       "    <tr>\n",
       "      <td>-2</td>\n",
       "      <td>14.0</td>\n",
       "      <td>22.0</td>\n",
       "      <td>32.0</td>\n",
       "      <td>19.0</td>\n",
       "      <td>7.0</td>\n",
       "      <td>19.0</td>\n",
       "      <td>14.0</td>\n",
       "      <td>12.0</td>\n",
       "      <td>11.0</td>\n",
       "      <td>4.0</td>\n",
       "      <td>15.0</td>\n",
       "      <td>8.0</td>\n",
       "      <td>12.0</td>\n",
       "      <td>7.0</td>\n",
       "      <td>6.0</td>\n",
       "      <td>11.0</td>\n",
       "      <td>2.0</td>\n",
       "      <td>5.0</td>\n",
       "      <td>NaN</td>\n",
       "      <td>2.0</td>\n",
       "    </tr>\n",
       "    <tr>\n",
       "      <td>-1</td>\n",
       "      <td>7.0</td>\n",
       "      <td>12.0</td>\n",
       "      <td>11.0</td>\n",
       "      <td>6.0</td>\n",
       "      <td>5.0</td>\n",
       "      <td>14.0</td>\n",
       "      <td>6.0</td>\n",
       "      <td>16.0</td>\n",
       "      <td>6.0</td>\n",
       "      <td>4.0</td>\n",
       "      <td>4.0</td>\n",
       "      <td>2.0</td>\n",
       "      <td>2.0</td>\n",
       "      <td>NaN</td>\n",
       "      <td>2.0</td>\n",
       "      <td>6.0</td>\n",
       "      <td>9.0</td>\n",
       "      <td>2.0</td>\n",
       "      <td>2.0</td>\n",
       "      <td>2.0</td>\n",
       "    </tr>\n",
       "    <tr>\n",
       "      <td>1</td>\n",
       "      <td>845.0</td>\n",
       "      <td>8.0</td>\n",
       "      <td>4.0</td>\n",
       "      <td>2.0</td>\n",
       "      <td>3.0</td>\n",
       "      <td>3.0</td>\n",
       "      <td>NaN</td>\n",
       "      <td>24.0</td>\n",
       "      <td>NaN</td>\n",
       "      <td>3.0</td>\n",
       "      <td>5.0</td>\n",
       "      <td>2.0</td>\n",
       "      <td>1.0</td>\n",
       "      <td>1.0</td>\n",
       "      <td>1.0</td>\n",
       "      <td>2.0</td>\n",
       "      <td>8.0</td>\n",
       "      <td>2.0</td>\n",
       "      <td>26.0</td>\n",
       "      <td>13.0</td>\n",
       "    </tr>\n",
       "    <tr>\n",
       "      <td>2</td>\n",
       "      <td>61.0</td>\n",
       "      <td>73.0</td>\n",
       "      <td>43.0</td>\n",
       "      <td>19.0</td>\n",
       "      <td>19.0</td>\n",
       "      <td>13.0</td>\n",
       "      <td>6.0</td>\n",
       "      <td>12.0</td>\n",
       "      <td>2.0</td>\n",
       "      <td>5.0</td>\n",
       "      <td>10.0</td>\n",
       "      <td>9.0</td>\n",
       "      <td>9.0</td>\n",
       "      <td>11.0</td>\n",
       "      <td>3.0</td>\n",
       "      <td>3.0</td>\n",
       "      <td>5.0</td>\n",
       "      <td>17.0</td>\n",
       "      <td>6.0</td>\n",
       "      <td>4.0</td>\n",
       "    </tr>\n",
       "    <tr>\n",
       "      <td>3</td>\n",
       "      <td>65.0</td>\n",
       "      <td>24.0</td>\n",
       "      <td>17.0</td>\n",
       "      <td>17.0</td>\n",
       "      <td>14.0</td>\n",
       "      <td>14.0</td>\n",
       "      <td>5.0</td>\n",
       "      <td>4.0</td>\n",
       "      <td>6.0</td>\n",
       "      <td>13.0</td>\n",
       "      <td>10.0</td>\n",
       "      <td>4.0</td>\n",
       "      <td>10.0</td>\n",
       "      <td>4.0</td>\n",
       "      <td>9.0</td>\n",
       "      <td>7.0</td>\n",
       "      <td>10.0</td>\n",
       "      <td>6.0</td>\n",
       "      <td>8.0</td>\n",
       "      <td>6.0</td>\n",
       "    </tr>\n",
       "    <tr>\n",
       "      <td>4</td>\n",
       "      <td>62.0</td>\n",
       "      <td>20.0</td>\n",
       "      <td>14.0</td>\n",
       "      <td>17.0</td>\n",
       "      <td>8.0</td>\n",
       "      <td>9.0</td>\n",
       "      <td>4.0</td>\n",
       "      <td>12.0</td>\n",
       "      <td>4.0</td>\n",
       "      <td>10.0</td>\n",
       "      <td>3.0</td>\n",
       "      <td>6.0</td>\n",
       "      <td>7.0</td>\n",
       "      <td>8.0</td>\n",
       "      <td>14.0</td>\n",
       "      <td>5.0</td>\n",
       "      <td>4.0</td>\n",
       "      <td>6.0</td>\n",
       "      <td>6.0</td>\n",
       "      <td>7.0</td>\n",
       "    </tr>\n",
       "    <tr>\n",
       "      <td>5</td>\n",
       "      <td>30.0</td>\n",
       "      <td>14.0</td>\n",
       "      <td>16.0</td>\n",
       "      <td>20.0</td>\n",
       "      <td>14.0</td>\n",
       "      <td>8.0</td>\n",
       "      <td>10.0</td>\n",
       "      <td>5.0</td>\n",
       "      <td>12.0</td>\n",
       "      <td>12.0</td>\n",
       "      <td>7.0</td>\n",
       "      <td>9.0</td>\n",
       "      <td>7.0</td>\n",
       "      <td>11.0</td>\n",
       "      <td>9.0</td>\n",
       "      <td>6.0</td>\n",
       "      <td>2.0</td>\n",
       "      <td>6.0</td>\n",
       "      <td>5.0</td>\n",
       "      <td>5.0</td>\n",
       "    </tr>\n",
       "    <tr>\n",
       "      <td>6</td>\n",
       "      <td>45.0</td>\n",
       "      <td>12.0</td>\n",
       "      <td>12.0</td>\n",
       "      <td>11.0</td>\n",
       "      <td>19.0</td>\n",
       "      <td>15.0</td>\n",
       "      <td>5.0</td>\n",
       "      <td>10.0</td>\n",
       "      <td>7.0</td>\n",
       "      <td>9.0</td>\n",
       "      <td>4.0</td>\n",
       "      <td>9.0</td>\n",
       "      <td>10.0</td>\n",
       "      <td>9.0</td>\n",
       "      <td>3.0</td>\n",
       "      <td>8.0</td>\n",
       "      <td>9.0</td>\n",
       "      <td>4.0</td>\n",
       "      <td>9.0</td>\n",
       "      <td>3.0</td>\n",
       "    </tr>\n",
       "    <tr>\n",
       "      <td>7</td>\n",
       "      <td>26.0</td>\n",
       "      <td>15.0</td>\n",
       "      <td>14.0</td>\n",
       "      <td>20.0</td>\n",
       "      <td>17.0</td>\n",
       "      <td>10.0</td>\n",
       "      <td>15.0</td>\n",
       "      <td>10.0</td>\n",
       "      <td>9.0</td>\n",
       "      <td>7.0</td>\n",
       "      <td>5.0</td>\n",
       "      <td>6.0</td>\n",
       "      <td>8.0</td>\n",
       "      <td>5.0</td>\n",
       "      <td>8.0</td>\n",
       "      <td>8.0</td>\n",
       "      <td>6.0</td>\n",
       "      <td>5.0</td>\n",
       "      <td>6.0</td>\n",
       "      <td>8.0</td>\n",
       "    </tr>\n",
       "  </tbody>\n",
       "</table>\n",
       "</div>"
      ],
      "text/plain": [
       "lemmas            's  book  work   one   new  volume  life   say  year  first  \\\n",
       "coll_position                                                                   \n",
       "-7              29.0  15.0  12.0  19.0  17.0    10.0   3.0   2.0  11.0    4.0   \n",
       "-6              25.0  15.0  12.0  20.0  18.0    10.0   9.0   5.0   4.0    7.0   \n",
       "-5              19.0  14.0  11.0  10.0  13.0    15.0  15.0   2.0  10.0    4.0   \n",
       "-4              22.0   8.0  13.0  11.0  19.0    12.0  18.0   3.0   8.0    5.0   \n",
       "-3              25.0  11.0  10.0  21.0  12.0     9.0   9.0   1.0  16.0   11.0   \n",
       "-2              14.0  22.0  32.0  19.0   7.0    19.0  14.0  12.0  11.0    4.0   \n",
       "-1               7.0  12.0  11.0   6.0   5.0    14.0   6.0  16.0   6.0    4.0   \n",
       " 1             845.0   8.0   4.0   2.0   3.0     3.0   NaN  24.0   NaN    3.0   \n",
       " 2              61.0  73.0  43.0  19.0  19.0    13.0   6.0  12.0   2.0    5.0   \n",
       " 3              65.0  24.0  17.0  17.0  14.0    14.0   5.0   4.0   6.0   13.0   \n",
       " 4              62.0  20.0  14.0  17.0   8.0     9.0   4.0  12.0   4.0   10.0   \n",
       " 5              30.0  14.0  16.0  20.0  14.0     8.0  10.0   5.0  12.0   12.0   \n",
       " 6              45.0  12.0  12.0  11.0  19.0    15.0   5.0  10.0   7.0    9.0   \n",
       " 7              26.0  15.0  14.0  20.0  17.0    10.0  15.0  10.0   9.0    7.0   \n",
       "\n",
       "lemmas         made  history  story  well  great  author  upon  little  give  \\\n",
       "coll_position                                                                  \n",
       "-7              5.0      4.0    3.0   6.0    8.0     7.0   7.0    12.0   4.0   \n",
       "-6              4.0      8.0    1.0   8.0    4.0     7.0   4.0     7.0   4.0   \n",
       "-5              9.0      8.0    6.0   4.0    3.0     6.0   4.0     3.0   3.0   \n",
       "-4              7.0     10.0    6.0   3.0    6.0     5.0   9.0     3.0   1.0   \n",
       "-3              5.0      6.0    4.0   7.0    8.0     3.0   4.0     5.0   2.0   \n",
       "-2             15.0      8.0   12.0   7.0    6.0    11.0   2.0     5.0   NaN   \n",
       "-1              4.0      2.0    2.0   NaN    2.0     6.0   9.0     2.0   2.0   \n",
       " 1              5.0      2.0    1.0   1.0    1.0     2.0   8.0     2.0  26.0   \n",
       " 2             10.0      9.0    9.0  11.0    3.0     3.0   5.0    17.0   6.0   \n",
       " 3             10.0      4.0   10.0   4.0    9.0     7.0  10.0     6.0   8.0   \n",
       " 4              3.0      6.0    7.0   8.0   14.0     5.0   4.0     6.0   6.0   \n",
       " 5              7.0      9.0    7.0  11.0    9.0     6.0   2.0     6.0   5.0   \n",
       " 6              4.0      9.0   10.0   9.0    3.0     8.0   9.0     4.0   9.0   \n",
       " 7              5.0      6.0    8.0   5.0    8.0     8.0   6.0     5.0   6.0   \n",
       "\n",
       "lemmas         would  \n",
       "coll_position         \n",
       "-7               3.0  \n",
       "-6              10.0  \n",
       "-5               9.0  \n",
       "-4               2.0  \n",
       "-3               7.0  \n",
       "-2               2.0  \n",
       "-1               2.0  \n",
       " 1              13.0  \n",
       " 2               4.0  \n",
       " 3               6.0  \n",
       " 4               7.0  \n",
       " 5               5.0  \n",
       " 6               3.0  \n",
       " 7               8.0  "
      ]
     },
     "execution_count": 112,
     "metadata": {},
     "output_type": "execute_result"
    }
   ],
   "source": [
    "grouped2.unstack()[list(top20lemmas.index)]"
   ]
  },
  {
   "cell_type": "code",
   "execution_count": 113,
   "metadata": {
    "scrolled": false
   },
   "outputs": [
    {
     "data": {
      "text/html": [
       "<div>\n",
       "<style scoped>\n",
       "    .dataframe tbody tr th:only-of-type {\n",
       "        vertical-align: middle;\n",
       "    }\n",
       "\n",
       "    .dataframe tbody tr th {\n",
       "        vertical-align: top;\n",
       "    }\n",
       "\n",
       "    .dataframe thead th {\n",
       "        text-align: right;\n",
       "    }\n",
       "</style>\n",
       "<table border=\"1\" class=\"dataframe\">\n",
       "  <thead>\n",
       "    <tr style=\"text-align: right;\">\n",
       "      <th>lemmas</th>\n",
       "      <th>'s</th>\n",
       "      <th>book</th>\n",
       "      <th>work</th>\n",
       "      <th>one</th>\n",
       "      <th>new</th>\n",
       "      <th>volume</th>\n",
       "      <th>life</th>\n",
       "      <th>say</th>\n",
       "      <th>year</th>\n",
       "      <th>first</th>\n",
       "      <th>made</th>\n",
       "      <th>history</th>\n",
       "      <th>story</th>\n",
       "      <th>well</th>\n",
       "      <th>great</th>\n",
       "      <th>author</th>\n",
       "      <th>upon</th>\n",
       "      <th>little</th>\n",
       "      <th>give</th>\n",
       "      <th>would</th>\n",
       "    </tr>\n",
       "  </thead>\n",
       "  <tbody>\n",
       "    <tr>\n",
       "      <td>count</td>\n",
       "      <td>14.000000</td>\n",
       "      <td>14.000000</td>\n",
       "      <td>14.000000</td>\n",
       "      <td>14.000000</td>\n",
       "      <td>14.000000</td>\n",
       "      <td>14.000000</td>\n",
       "      <td>13.000000</td>\n",
       "      <td>14.000000</td>\n",
       "      <td>13.000000</td>\n",
       "      <td>14.000000</td>\n",
       "      <td>14.000000</td>\n",
       "      <td>14.00000</td>\n",
       "      <td>14.000000</td>\n",
       "      <td>13.000000</td>\n",
       "      <td>14.000000</td>\n",
       "      <td>14.000000</td>\n",
       "      <td>14.000000</td>\n",
       "      <td>14.000000</td>\n",
       "      <td>13.000000</td>\n",
       "      <td>14.000000</td>\n",
       "    </tr>\n",
       "    <tr>\n",
       "      <td>mean</td>\n",
       "      <td>91.071429</td>\n",
       "      <td>18.785714</td>\n",
       "      <td>15.785714</td>\n",
       "      <td>15.142857</td>\n",
       "      <td>13.214286</td>\n",
       "      <td>11.500000</td>\n",
       "      <td>9.153846</td>\n",
       "      <td>8.428571</td>\n",
       "      <td>8.153846</td>\n",
       "      <td>7.000000</td>\n",
       "      <td>6.642857</td>\n",
       "      <td>6.50000</td>\n",
       "      <td>6.142857</td>\n",
       "      <td>6.461538</td>\n",
       "      <td>6.000000</td>\n",
       "      <td>6.000000</td>\n",
       "      <td>5.928571</td>\n",
       "      <td>5.928571</td>\n",
       "      <td>6.307692</td>\n",
       "      <td>5.785714</td>\n",
       "    </tr>\n",
       "    <tr>\n",
       "      <td>std</td>\n",
       "      <td>217.765034</td>\n",
       "      <td>16.296194</td>\n",
       "      <td>9.924163</td>\n",
       "      <td>6.036519</td>\n",
       "      <td>5.493753</td>\n",
       "      <td>3.917417</td>\n",
       "      <td>4.913352</td>\n",
       "      <td>6.524678</td>\n",
       "      <td>3.869672</td>\n",
       "      <td>3.396831</td>\n",
       "      <td>3.319109</td>\n",
       "      <td>2.65301</td>\n",
       "      <td>3.526976</td>\n",
       "      <td>3.017046</td>\n",
       "      <td>3.573406</td>\n",
       "      <td>2.353394</td>\n",
       "      <td>2.730576</td>\n",
       "      <td>4.066075</td>\n",
       "      <td>6.368995</td>\n",
       "      <td>3.400873</td>\n",
       "    </tr>\n",
       "    <tr>\n",
       "      <td>min</td>\n",
       "      <td>7.000000</td>\n",
       "      <td>8.000000</td>\n",
       "      <td>4.000000</td>\n",
       "      <td>2.000000</td>\n",
       "      <td>3.000000</td>\n",
       "      <td>3.000000</td>\n",
       "      <td>3.000000</td>\n",
       "      <td>1.000000</td>\n",
       "      <td>2.000000</td>\n",
       "      <td>3.000000</td>\n",
       "      <td>3.000000</td>\n",
       "      <td>2.00000</td>\n",
       "      <td>1.000000</td>\n",
       "      <td>1.000000</td>\n",
       "      <td>1.000000</td>\n",
       "      <td>2.000000</td>\n",
       "      <td>2.000000</td>\n",
       "      <td>2.000000</td>\n",
       "      <td>1.000000</td>\n",
       "      <td>2.000000</td>\n",
       "    </tr>\n",
       "    <tr>\n",
       "      <td>25%</td>\n",
       "      <td>22.750000</td>\n",
       "      <td>12.000000</td>\n",
       "      <td>11.250000</td>\n",
       "      <td>11.000000</td>\n",
       "      <td>9.000000</td>\n",
       "      <td>9.250000</td>\n",
       "      <td>5.000000</td>\n",
       "      <td>3.250000</td>\n",
       "      <td>6.000000</td>\n",
       "      <td>4.000000</td>\n",
       "      <td>4.250000</td>\n",
       "      <td>4.50000</td>\n",
       "      <td>3.250000</td>\n",
       "      <td>4.000000</td>\n",
       "      <td>3.000000</td>\n",
       "      <td>5.000000</td>\n",
       "      <td>4.000000</td>\n",
       "      <td>3.250000</td>\n",
       "      <td>3.000000</td>\n",
       "      <td>3.000000</td>\n",
       "    </tr>\n",
       "    <tr>\n",
       "      <td>50%</td>\n",
       "      <td>27.500000</td>\n",
       "      <td>14.500000</td>\n",
       "      <td>12.500000</td>\n",
       "      <td>18.000000</td>\n",
       "      <td>14.000000</td>\n",
       "      <td>11.000000</td>\n",
       "      <td>9.000000</td>\n",
       "      <td>7.500000</td>\n",
       "      <td>8.000000</td>\n",
       "      <td>6.000000</td>\n",
       "      <td>5.000000</td>\n",
       "      <td>7.00000</td>\n",
       "      <td>6.500000</td>\n",
       "      <td>7.000000</td>\n",
       "      <td>6.000000</td>\n",
       "      <td>6.000000</td>\n",
       "      <td>5.500000</td>\n",
       "      <td>5.000000</td>\n",
       "      <td>5.000000</td>\n",
       "      <td>5.500000</td>\n",
       "    </tr>\n",
       "    <tr>\n",
       "      <td>75%</td>\n",
       "      <td>57.000000</td>\n",
       "      <td>18.750000</td>\n",
       "      <td>15.500000</td>\n",
       "      <td>19.750000</td>\n",
       "      <td>17.750000</td>\n",
       "      <td>14.000000</td>\n",
       "      <td>14.000000</td>\n",
       "      <td>12.000000</td>\n",
       "      <td>11.000000</td>\n",
       "      <td>9.750000</td>\n",
       "      <td>8.500000</td>\n",
       "      <td>8.75000</td>\n",
       "      <td>8.750000</td>\n",
       "      <td>8.000000</td>\n",
       "      <td>8.000000</td>\n",
       "      <td>7.000000</td>\n",
       "      <td>8.750000</td>\n",
       "      <td>6.000000</td>\n",
       "      <td>6.000000</td>\n",
       "      <td>7.750000</td>\n",
       "    </tr>\n",
       "    <tr>\n",
       "      <td>max</td>\n",
       "      <td>845.000000</td>\n",
       "      <td>73.000000</td>\n",
       "      <td>43.000000</td>\n",
       "      <td>21.000000</td>\n",
       "      <td>19.000000</td>\n",
       "      <td>19.000000</td>\n",
       "      <td>18.000000</td>\n",
       "      <td>24.000000</td>\n",
       "      <td>16.000000</td>\n",
       "      <td>13.000000</td>\n",
       "      <td>15.000000</td>\n",
       "      <td>10.00000</td>\n",
       "      <td>12.000000</td>\n",
       "      <td>11.000000</td>\n",
       "      <td>14.000000</td>\n",
       "      <td>11.000000</td>\n",
       "      <td>10.000000</td>\n",
       "      <td>17.000000</td>\n",
       "      <td>26.000000</td>\n",
       "      <td>13.000000</td>\n",
       "    </tr>\n",
       "  </tbody>\n",
       "</table>\n",
       "</div>"
      ],
      "text/plain": [
       "lemmas          's       book       work        one        new     volume  \\\n",
       "count    14.000000  14.000000  14.000000  14.000000  14.000000  14.000000   \n",
       "mean     91.071429  18.785714  15.785714  15.142857  13.214286  11.500000   \n",
       "std     217.765034  16.296194   9.924163   6.036519   5.493753   3.917417   \n",
       "min       7.000000   8.000000   4.000000   2.000000   3.000000   3.000000   \n",
       "25%      22.750000  12.000000  11.250000  11.000000   9.000000   9.250000   \n",
       "50%      27.500000  14.500000  12.500000  18.000000  14.000000  11.000000   \n",
       "75%      57.000000  18.750000  15.500000  19.750000  17.750000  14.000000   \n",
       "max     845.000000  73.000000  43.000000  21.000000  19.000000  19.000000   \n",
       "\n",
       "lemmas       life        say       year      first       made   history  \\\n",
       "count   13.000000  14.000000  13.000000  14.000000  14.000000  14.00000   \n",
       "mean     9.153846   8.428571   8.153846   7.000000   6.642857   6.50000   \n",
       "std      4.913352   6.524678   3.869672   3.396831   3.319109   2.65301   \n",
       "min      3.000000   1.000000   2.000000   3.000000   3.000000   2.00000   \n",
       "25%      5.000000   3.250000   6.000000   4.000000   4.250000   4.50000   \n",
       "50%      9.000000   7.500000   8.000000   6.000000   5.000000   7.00000   \n",
       "75%     14.000000  12.000000  11.000000   9.750000   8.500000   8.75000   \n",
       "max     18.000000  24.000000  16.000000  13.000000  15.000000  10.00000   \n",
       "\n",
       "lemmas      story       well      great     author       upon     little  \\\n",
       "count   14.000000  13.000000  14.000000  14.000000  14.000000  14.000000   \n",
       "mean     6.142857   6.461538   6.000000   6.000000   5.928571   5.928571   \n",
       "std      3.526976   3.017046   3.573406   2.353394   2.730576   4.066075   \n",
       "min      1.000000   1.000000   1.000000   2.000000   2.000000   2.000000   \n",
       "25%      3.250000   4.000000   3.000000   5.000000   4.000000   3.250000   \n",
       "50%      6.500000   7.000000   6.000000   6.000000   5.500000   5.000000   \n",
       "75%      8.750000   8.000000   8.000000   7.000000   8.750000   6.000000   \n",
       "max     12.000000  11.000000  14.000000  11.000000  10.000000  17.000000   \n",
       "\n",
       "lemmas       give      would  \n",
       "count   13.000000  14.000000  \n",
       "mean     6.307692   5.785714  \n",
       "std      6.368995   3.400873  \n",
       "min      1.000000   2.000000  \n",
       "25%      3.000000   3.000000  \n",
       "50%      5.000000   5.500000  \n",
       "75%      6.000000   7.750000  \n",
       "max     26.000000  13.000000  "
      ]
     },
     "execution_count": 113,
     "metadata": {},
     "output_type": "execute_result"
    }
   ],
   "source": [
    "grouped2.unstack()[list(top20lemmas.index)].describe()"
   ]
  },
  {
   "cell_type": "markdown",
   "metadata": {},
   "source": [
    "### NOTE TO SELF: DON'T RERUN THIS PART"
   ]
  },
  {
   "cell_type": "code",
   "execution_count": 108,
   "metadata": {},
   "outputs": [
    {
     "data": {
      "text/html": [
       "<div>\n",
       "<style scoped>\n",
       "    .dataframe tbody tr th:only-of-type {\n",
       "        vertical-align: middle;\n",
       "    }\n",
       "\n",
       "    .dataframe tbody tr th {\n",
       "        vertical-align: top;\n",
       "    }\n",
       "\n",
       "    .dataframe thead th {\n",
       "        text-align: right;\n",
       "    }\n",
       "</style>\n",
       "<table border=\"1\" class=\"dataframe\">\n",
       "  <thead>\n",
       "    <tr style=\"text-align: right;\">\n",
       "      <th></th>\n",
       "      <th>review_id</th>\n",
       "      <th>review_group</th>\n",
       "      <th>name_target</th>\n",
       "      <th>collocate</th>\n",
       "      <th>coll_position</th>\n",
       "      <th>cleaned</th>\n",
       "      <th>lemmas</th>\n",
       "    </tr>\n",
       "  </thead>\n",
       "  <tbody>\n",
       "    <tr>\n",
       "      <td>1059</td>\n",
       "      <td>124764143</td>\n",
       "      <td>0</td>\n",
       "      <td>Mr. H. G. Wells</td>\n",
       "      <td>us</td>\n",
       "      <td>3</td>\n",
       "      <td>us</td>\n",
       "      <td>u</td>\n",
       "    </tr>\n",
       "    <tr>\n",
       "      <td>2045</td>\n",
       "      <td>90167733</td>\n",
       "      <td>7</td>\n",
       "      <td>Mr. Boutwvell</td>\n",
       "      <td>us</td>\n",
       "      <td>-6</td>\n",
       "      <td>us</td>\n",
       "      <td>u</td>\n",
       "    </tr>\n",
       "    <tr>\n",
       "      <td>2082</td>\n",
       "      <td>90167733</td>\n",
       "      <td>7</td>\n",
       "      <td>Mr. Boutwell</td>\n",
       "      <td>us</td>\n",
       "      <td>4</td>\n",
       "      <td>us</td>\n",
       "      <td>u</td>\n",
       "    </tr>\n",
       "    <tr>\n",
       "      <td>2930</td>\n",
       "      <td>89669022</td>\n",
       "      <td>0</td>\n",
       "      <td>Mr. Lawton</td>\n",
       "      <td>us</td>\n",
       "      <td>-3</td>\n",
       "      <td>us</td>\n",
       "      <td>u</td>\n",
       "    </tr>\n",
       "    <tr>\n",
       "      <td>3163</td>\n",
       "      <td>128143842</td>\n",
       "      <td>6</td>\n",
       "      <td>Mr Abbey</td>\n",
       "      <td>us</td>\n",
       "      <td>7</td>\n",
       "      <td>us</td>\n",
       "      <td>u</td>\n",
       "    </tr>\n",
       "    <tr>\n",
       "      <td>...</td>\n",
       "      <td>...</td>\n",
       "      <td>...</td>\n",
       "      <td>...</td>\n",
       "      <td>...</td>\n",
       "      <td>...</td>\n",
       "      <td>...</td>\n",
       "      <td>...</td>\n",
       "    </tr>\n",
       "    <tr>\n",
       "      <td>70445</td>\n",
       "      <td>757746240</td>\n",
       "      <td>9</td>\n",
       "      <td>Madame Recamier</td>\n",
       "      <td>us</td>\n",
       "      <td>5</td>\n",
       "      <td>us</td>\n",
       "      <td>u</td>\n",
       "    </tr>\n",
       "    <tr>\n",
       "      <td>71078</td>\n",
       "      <td>137653744</td>\n",
       "      <td>1</td>\n",
       "      <td>Mr. Julian Hawthorne</td>\n",
       "      <td>us</td>\n",
       "      <td>-7</td>\n",
       "      <td>us</td>\n",
       "      <td>u</td>\n",
       "    </tr>\n",
       "    <tr>\n",
       "      <td>71457</td>\n",
       "      <td>137077872</td>\n",
       "      <td>0</td>\n",
       "      <td>Dr. Royce</td>\n",
       "      <td>us</td>\n",
       "      <td>-6</td>\n",
       "      <td>us</td>\n",
       "      <td>u</td>\n",
       "    </tr>\n",
       "    <tr>\n",
       "      <td>72089</td>\n",
       "      <td>124737516</td>\n",
       "      <td>0</td>\n",
       "      <td>Lord Ten</td>\n",
       "      <td>us</td>\n",
       "      <td>-4</td>\n",
       "      <td>us</td>\n",
       "      <td>u</td>\n",
       "    </tr>\n",
       "    <tr>\n",
       "      <td>72154</td>\n",
       "      <td>137096911</td>\n",
       "      <td>2</td>\n",
       "      <td>Rev. Charles Anderson Scott</td>\n",
       "      <td>us</td>\n",
       "      <td>6</td>\n",
       "      <td>us</td>\n",
       "      <td>u</td>\n",
       "    </tr>\n",
       "  </tbody>\n",
       "</table>\n",
       "<p>108 rows × 7 columns</p>\n",
       "</div>"
      ],
      "text/plain": [
       "       review_id  review_group                  name_target collocate  \\\n",
       "1059   124764143             0              Mr. H. G. Wells        us   \n",
       "2045    90167733             7                Mr. Boutwvell        us   \n",
       "2082    90167733             7                 Mr. Boutwell        us   \n",
       "2930    89669022             0                   Mr. Lawton        us   \n",
       "3163   128143842             6                     Mr Abbey        us   \n",
       "...          ...           ...                          ...       ...   \n",
       "70445  757746240             9              Madame Recamier        us   \n",
       "71078  137653744             1         Mr. Julian Hawthorne        us   \n",
       "71457  137077872             0                    Dr. Royce        us   \n",
       "72089  124737516             0                     Lord Ten        us   \n",
       "72154  137096911             2  Rev. Charles Anderson Scott        us   \n",
       "\n",
       "       coll_position cleaned lemmas  \n",
       "1059               3      us      u  \n",
       "2045              -6      us      u  \n",
       "2082               4      us      u  \n",
       "2930              -3      us      u  \n",
       "3163               7      us      u  \n",
       "...              ...     ...    ...  \n",
       "70445              5      us      u  \n",
       "71078             -7      us      u  \n",
       "71457             -6      us      u  \n",
       "72089             -4      us      u  \n",
       "72154              6      us      u  \n",
       "\n",
       "[108 rows x 7 columns]"
      ]
     },
     "execution_count": 108,
     "metadata": {},
     "output_type": "execute_result"
    }
   ],
   "source": [
    "split_colls_df[split_colls_df.lemmas == 'u']"
   ]
  },
  {
   "cell_type": "markdown",
   "metadata": {},
   "source": [
    "__nltk WHY__"
   ]
  },
  {
   "cell_type": "code",
   "execution_count": 109,
   "metadata": {},
   "outputs": [
    {
     "data": {
      "text/plain": [
       "{'u', 'us'}"
      ]
     },
     "execution_count": 109,
     "metadata": {},
     "output_type": "execute_result"
    }
   ],
   "source": [
    "set(list(split_colls_df[split_colls_df.lemmas == 'u'].cleaned))"
   ]
  },
  {
   "cell_type": "code",
   "execution_count": 110,
   "metadata": {},
   "outputs": [
    {
     "data": {
      "text/html": [
       "<div>\n",
       "<style scoped>\n",
       "    .dataframe tbody tr th:only-of-type {\n",
       "        vertical-align: middle;\n",
       "    }\n",
       "\n",
       "    .dataframe tbody tr th {\n",
       "        vertical-align: top;\n",
       "    }\n",
       "\n",
       "    .dataframe thead th {\n",
       "        text-align: right;\n",
       "    }\n",
       "</style>\n",
       "<table border=\"1\" class=\"dataframe\">\n",
       "  <thead>\n",
       "    <tr style=\"text-align: right;\">\n",
       "      <th></th>\n",
       "      <th>review_id</th>\n",
       "      <th>review_group</th>\n",
       "      <th>name_target</th>\n",
       "      <th>collocate</th>\n",
       "      <th>coll_position</th>\n",
       "      <th>cleaned</th>\n",
       "      <th>lemmas</th>\n",
       "    </tr>\n",
       "  </thead>\n",
       "  <tbody>\n",
       "    <tr>\n",
       "      <td>4671</td>\n",
       "      <td>90390665</td>\n",
       "      <td>3</td>\n",
       "      <td>Miss HowAiD</td>\n",
       "      <td>u</td>\n",
       "      <td>3</td>\n",
       "      <td>u</td>\n",
       "      <td>u</td>\n",
       "    </tr>\n",
       "    <tr>\n",
       "      <td>30850</td>\n",
       "      <td>127406065</td>\n",
       "      <td>0</td>\n",
       "      <td>Mr. D)</td>\n",
       "      <td>u</td>\n",
       "      <td>2</td>\n",
       "      <td>u</td>\n",
       "      <td>u</td>\n",
       "    </tr>\n",
       "    <tr>\n",
       "      <td>32113</td>\n",
       "      <td>136722216</td>\n",
       "      <td>1</td>\n",
       "      <td>Dr. James Beaty</td>\n",
       "      <td>u</td>\n",
       "      <td>5</td>\n",
       "      <td>u</td>\n",
       "      <td>u</td>\n",
       "    </tr>\n",
       "    <tr>\n",
       "      <td>32929</td>\n",
       "      <td>89675095</td>\n",
       "      <td>4</td>\n",
       "      <td>Mr. Billious</td>\n",
       "      <td>u</td>\n",
       "      <td>-6</td>\n",
       "      <td>u</td>\n",
       "      <td>u</td>\n",
       "    </tr>\n",
       "    <tr>\n",
       "      <td>59935</td>\n",
       "      <td>90536609</td>\n",
       "      <td>7</td>\n",
       "      <td>Dr. Gladden</td>\n",
       "      <td>u</td>\n",
       "      <td>-6</td>\n",
       "      <td>u</td>\n",
       "      <td>u</td>\n",
       "    </tr>\n",
       "  </tbody>\n",
       "</table>\n",
       "</div>"
      ],
      "text/plain": [
       "       review_id  review_group      name_target collocate  coll_position  \\\n",
       "4671    90390665             3      Miss HowAiD         u              3   \n",
       "30850  127406065             0           Mr. D)         u              2   \n",
       "32113  136722216             1  Dr. James Beaty         u              5   \n",
       "32929   89675095             4     Mr. Billious         u             -6   \n",
       "59935   90536609             7      Dr. Gladden         u             -6   \n",
       "\n",
       "      cleaned lemmas  \n",
       "4671        u      u  \n",
       "30850       u      u  \n",
       "32113       u      u  \n",
       "32929       u      u  \n",
       "59935       u      u  "
      ]
     },
     "execution_count": 110,
     "metadata": {},
     "output_type": "execute_result"
    }
   ],
   "source": [
    "split_colls_df[split_colls_df.cleaned == 'u']"
   ]
  },
  {
   "cell_type": "markdown",
   "metadata": {},
   "source": [
    "at least these 5 are just poorly OCR'ed."
   ]
  },
  {
   "cell_type": "code",
   "execution_count": 115,
   "metadata": {},
   "outputs": [],
   "source": [
    "from nltk import pos_tag"
   ]
  },
  {
   "cell_type": "code",
   "execution_count": 116,
   "metadata": {},
   "outputs": [
    {
     "name": "stdout",
     "output_type": "stream",
     "text": [
      "[(\"'\", 'POS'), ('s', 'NN')]\n",
      "[('p', 'NN'), ('u', 'JJ'), ('t', 'NN'), ('t', 'NN')]\n",
      "[('s', 'NN'), ('w', 'NN')]\n",
      "[('s', 'NN'), ('w', 'NN')]\n",
      "[('s', 'NN'), ('w', 'NN')]\n",
      "[('p', 'NN'), ('l', 'VBZ'), ('a', 'DT'), ('c', 'NN'), ('e', 'NN')]\n",
      "[('s', 'NN'), ('w', 'NN')]\n",
      "[(\"'\", 'POS'), ('s', 'NN')]\n",
      "[('s', 'NN'), ('w', 'NN')]\n",
      "[('s', 'NN'), ('q', 'NN'), ('u', 'NN'), ('i', 'NN'), ('r', 'VBP'), ('r', 'NN'), ('e', 'NN'), ('l', 'NN')]\n"
     ]
    }
   ],
   "source": [
    "for x in split_colls_df.cleaned[:10]:\n",
    "    print(pos_tag(x))\n",
    "    # print(x, lemmatizer.lemmatize(x))"
   ]
  },
  {
   "cell_type": "markdown",
   "metadata": {},
   "source": [
    "NLTK's lemmatization works much better with POS tagging - which NLTK does easily. However, it only POS tags documents, not individual words. I would need to go back and add POS tags to the review object text. Which I totally could, but I'll wait to see if Matt things it's worth it.\n",
    "\n",
    "I checked out spacy's lemmatizer, but it seems like it also requires an entire document. That might be worth trying too."
   ]
  },
  {
   "cell_type": "markdown",
   "metadata": {},
   "source": [
    "## Next up: collocate co-occurances?"
   ]
  },
  {
   "cell_type": "code",
   "execution_count": null,
   "metadata": {},
   "outputs": [],
   "source": []
  },
  {
   "cell_type": "markdown",
   "metadata": {},
   "source": [
    "## scikit-learn mutual information?\n",
    "\n",
    "not gonna bother with this anymore, analysis is now above"
   ]
  },
  {
   "cell_type": "code",
   "execution_count": 117,
   "metadata": {},
   "outputs": [],
   "source": [
    "# ex = [\"●\" if \"●\" in x else x for x in review_list[5].coll_toks_all]"
   ]
  },
  {
   "cell_type": "code",
   "execution_count": 118,
   "metadata": {},
   "outputs": [],
   "source": [
    "# ex = [\"^\",\"^\"] + ex + [\"$\",\"$\"]"
   ]
  },
  {
   "cell_type": "code",
   "execution_count": 119,
   "metadata": {},
   "outputs": [],
   "source": [
    "# ex[:10]"
   ]
  },
  {
   "cell_type": "code",
   "execution_count": 120,
   "metadata": {},
   "outputs": [],
   "source": [
    "# ex[-10:]"
   ]
  },
  {
   "cell_type": "code",
   "execution_count": 121,
   "metadata": {},
   "outputs": [],
   "source": [
    "# len(ex)-5"
   ]
  },
  {
   "cell_type": "code",
   "execution_count": 122,
   "metadata": {},
   "outputs": [],
   "source": [
    "# ex[12747]"
   ]
  },
  {
   "cell_type": "code",
   "execution_count": 123,
   "metadata": {},
   "outputs": [],
   "source": [
    "# for e, tok in enumerate(ex):\n",
    "#     if e <= len(ex)-5:\n",
    "#         coll = ex[e:e+5]\n",
    "#         if coll[2]==\"●\":\n",
    "#             print(coll[:2] + coll[3:], 1)\n",
    "#         else:\n",
    "#             print(coll[:2] + coll[3:], 0)\n",
    "#     #print(coll, coll[2]==\"●\")"
   ]
  },
  {
   "cell_type": "code",
   "execution_count": 124,
   "metadata": {},
   "outputs": [],
   "source": [
    "# def getColl(ReviewObj):\n",
    "#     features = []\n",
    "#     targets = []\n",
    "#     toks = [\"^\",\"^\"] + [\"●\" if \"●\" in x else x for x in ReviewObj.coll_toks_all] + [\"$\",\"$\"]\n",
    "#     for e, tok in enumerate(toks):\n",
    "#         if e <= len(ex)-5:\n",
    "#             coll = ex[e:e+5]\n",
    "#             if coll[2]==\"●\":\n",
    "#                 features.append(coll[:2] + coll[3:])\n",
    "#                 targets.append(1)\n",
    "#             else:\n",
    "#                 features.append(coll[:2] + coll[3:])\n",
    "#                 targets.append(0)\n",
    "#     return features, targets"
   ]
  },
  {
   "cell_type": "code",
   "execution_count": 125,
   "metadata": {},
   "outputs": [],
   "source": [
    "# features, targets = getColl(review_list[0])"
   ]
  },
  {
   "cell_type": "code",
   "execution_count": 127,
   "metadata": {},
   "outputs": [],
   "source": [
    "# features = []\n",
    "# targets = []\n",
    "# for rev in review_list:\n",
    "#     x, y = getColl(rev)\n",
    "#     features.extend(x)\n",
    "#     targets.extend(y)"
   ]
  },
  {
   "cell_type": "code",
   "execution_count": 128,
   "metadata": {},
   "outputs": [],
   "source": [
    "# targets[:10]"
   ]
  },
  {
   "cell_type": "code",
   "execution_count": 129,
   "metadata": {},
   "outputs": [],
   "source": [
    "# for x in features[:10]:\n",
    "#     print(x)"
   ]
  },
  {
   "cell_type": "code",
   "execution_count": 130,
   "metadata": {},
   "outputs": [],
   "source": [
    "# feature_df = pd.DataFrame(features)"
   ]
  },
  {
   "cell_type": "code",
   "execution_count": 131,
   "metadata": {},
   "outputs": [],
   "source": [
    "# feature_df.head()"
   ]
  },
  {
   "cell_type": "code",
   "execution_count": 132,
   "metadata": {},
   "outputs": [],
   "source": [
    "# this takes so long to load\n",
    "# just a warning\n",
    "# feature_df = pd.get_dummies(feature_df, drop_first=True)"
   ]
  },
  {
   "cell_type": "code",
   "execution_count": 133,
   "metadata": {},
   "outputs": [],
   "source": [
    "# feature_df.head()"
   ]
  },
  {
   "cell_type": "code",
   "execution_count": 134,
   "metadata": {},
   "outputs": [],
   "source": [
    "# len(feature_df)"
   ]
  },
  {
   "cell_type": "code",
   "execution_count": 135,
   "metadata": {},
   "outputs": [],
   "source": [
    "# target_df = pd.DataFrame(targets)"
   ]
  },
  {
   "cell_type": "code",
   "execution_count": 136,
   "metadata": {},
   "outputs": [],
   "source": [
    "# len(target_df)"
   ]
  },
  {
   "cell_type": "code",
   "execution_count": 137,
   "metadata": {},
   "outputs": [],
   "source": [
    "# from sklearn.feature_selection import mutual_info_classif"
   ]
  },
  {
   "cell_type": "code",
   "execution_count": 138,
   "metadata": {},
   "outputs": [],
   "source": [
    "# from numpy import ravel"
   ]
  },
  {
   "cell_type": "code",
   "execution_count": 139,
   "metadata": {},
   "outputs": [],
   "source": [
    "# targ_array = ravel(target_df)"
   ]
  },
  {
   "cell_type": "code",
   "execution_count": 140,
   "metadata": {},
   "outputs": [],
   "source": [
    "# targ_array[:10]"
   ]
  },
  {
   "cell_type": "code",
   "execution_count": 141,
   "metadata": {},
   "outputs": [],
   "source": [
    "# mi_array = mutual_info_classif(feature_df, targ_array)"
   ]
  },
  {
   "cell_type": "code",
   "execution_count": null,
   "metadata": {},
   "outputs": [],
   "source": []
  },
  {
   "cell_type": "code",
   "execution_count": null,
   "metadata": {},
   "outputs": [],
   "source": []
  }
 ],
 "metadata": {
  "kernelspec": {
   "display_name": "Python 3",
   "language": "python",
   "name": "python3"
  },
  "language_info": {
   "codemirror_mode": {
    "name": "ipython",
    "version": 3
   },
   "file_extension": ".py",
   "mimetype": "text/x-python",
   "name": "python",
   "nbconvert_exporter": "python",
   "pygments_lexer": "ipython3",
   "version": "3.7.4"
  }
 },
 "nbformat": 4,
 "nbformat_minor": 2
}
