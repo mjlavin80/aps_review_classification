{
 "cells": [
  {
   "cell_type": "code",
   "execution_count": 1,
   "metadata": {},
   "outputs": [],
   "source": [
    "import sys\n",
    "sys.path.append('../')\n",
    "import os"
   ]
  },
  {
   "cell_type": "code",
   "execution_count": 2,
   "metadata": {},
   "outputs": [
    {
     "name": "stdout",
     "output_type": "stream",
     "text": [
      "Pretty printing has been turned OFF\n"
     ]
    }
   ],
   "source": [
    "from application.review_obj_class import ReviewObj\n",
    "from application.namespan_class import NameSpanGenerator\n",
    "import pandas as pd\n",
    "%pprint"
   ]
  },
  {
   "cell_type": "code",
   "execution_count": 3,
   "metadata": {},
   "outputs": [],
   "source": [
    "directory = \"../../aps_reviews_1000/\"\n",
    "filenames = os.listdir(directory)\n",
    "reviews = ((file.split('.')[0], open(directory + file).read()) for file in filenames)"
   ]
  },
  {
   "cell_type": "code",
   "execution_count": 4,
   "metadata": {},
   "outputs": [],
   "source": [
    "review_list = [ReviewObj(file, txt) for (file, txt) in reviews]"
   ]
  },
  {
   "cell_type": "code",
   "execution_count": 5,
   "metadata": {},
   "outputs": [],
   "source": [
    "ex = NameSpanGenerator.generate(review_list[20])"
   ]
  },
  {
   "cell_type": "code",
   "execution_count": 6,
   "metadata": {},
   "outputs": [
    {
     "data": {
      "text/plain": [
       "[['tribute', 'to', 'Dr._Gladden', \"'s\", 'zealous'], ['writers', 'of', 'Dr._Gladden', \"'s\", 'school'], ['probably', 'what', 'Dr._Gladden', 'means', ','], ['country', '.', 'Dr._Gladden', 'is', 'not']]"
      ]
     },
     "execution_count": 6,
     "metadata": {},
     "output_type": "execute_result"
    }
   ],
   "source": [
    "[x.collocates for x in ex.spans]"
   ]
  },
  {
   "cell_type": "code",
   "execution_count": 7,
   "metadata": {},
   "outputs": [
    {
     "data": {
      "text/plain": [
       "['Rl', 'New']"
      ]
     },
     "execution_count": 7,
     "metadata": {},
     "output_type": "execute_result"
    }
   ],
   "source": [
    "list(set((x for x in review_list[0].cleaned_text[:50].split() if x.isalnum())))"
   ]
  },
  {
   "cell_type": "code",
   "execution_count": 8,
   "metadata": {},
   "outputs": [
    {
     "data": {
      "text/plain": [
       "[Dr. Gladden, Dr. Gladden, Dr. Gladden, Dr. Gladden]"
      ]
     },
     "execution_count": 8,
     "metadata": {},
     "output_type": "execute_result"
    }
   ],
   "source": [
    "[x.name for x in ex.spans]"
   ]
  },
  {
   "cell_type": "code",
   "execution_count": 9,
   "metadata": {},
   "outputs": [],
   "source": [
    "for x in review_list:\n",
    "    x = NameSpanGenerator.generate(x)"
   ]
  },
  {
   "cell_type": "code",
   "execution_count": 10,
   "metadata": {},
   "outputs": [],
   "source": [
    "example_reviews = [x for x in review_list if (len(x.person_names) > 3) and (len(x.pub_names) > 1)]"
   ]
  },
  {
   "cell_type": "code",
   "execution_count": 11,
   "metadata": {},
   "outputs": [
    {
     "data": {
      "text/plain": [
       "77"
      ]
     },
     "execution_count": 11,
     "metadata": {},
     "output_type": "execute_result"
    }
   ],
   "source": [
    "len(example_reviews)"
   ]
  },
  {
   "cell_type": "code",
   "execution_count": 12,
   "metadata": {},
   "outputs": [
    {
     "data": {
      "text/plain": [
       "[Dr. Leopold Damrosch, Mr. Andrew Carnegie, Dr. LeopOld Damrosch, Prof. Horatio W. Parker, Mr. Parker, Lord. The, Oratorio Society, Oratorio Society, Mendelssohn Society, Symphony Society]"
      ]
     },
     "execution_count": 12,
     "metadata": {},
     "output_type": "execute_result"
    }
   ],
   "source": [
    "[x.name for x in example_reviews[0].spans]"
   ]
  },
  {
   "cell_type": "code",
   "execution_count": 13,
   "metadata": {},
   "outputs": [],
   "source": [
    "name_indices = [x.name.review_loc_toks for x in example_reviews[0].spans]"
   ]
  },
  {
   "cell_type": "code",
   "execution_count": 14,
   "metadata": {},
   "outputs": [
    {
     "data": {
      "text/plain": [
       "[244, 423, 459, 493, 561, 731, 3, 64, 284, 433]"
      ]
     },
     "execution_count": 14,
     "metadata": {},
     "output_type": "execute_result"
    }
   ],
   "source": [
    "name_indices"
   ]
  },
  {
   "cell_type": "code",
   "execution_count": 15,
   "metadata": {},
   "outputs": [
    {
     "data": {
      "text/plain": [
       "['z873', 'that', 'Dr._Leopold_Damrosch', 'united', 'a']"
      ]
     },
     "execution_count": 15,
     "metadata": {},
     "output_type": "execute_result"
    }
   ],
   "source": [
    "example_reviews[0].coll_toks_ind[name_indices[0]-2:name_indices[0]+3]"
   ]
  },
  {
   "cell_type": "markdown",
   "metadata": {},
   "source": [
    "## Looking through the collocations"
   ]
  },
  {
   "cell_type": "code",
   "execution_count": 16,
   "metadata": {},
   "outputs": [
    {
     "data": {
      "text/plain": [
       "[<application.namespan_class.NameSpan object at 0x1a35880390>, <application.namespan_class.NameSpan object at 0x1a35880150>, <application.namespan_class.NameSpan object at 0x1a358802d0>, <application.namespan_class.NameSpan object at 0x1a358803d0>]"
      ]
     },
     "execution_count": 16,
     "metadata": {},
     "output_type": "execute_result"
    }
   ],
   "source": [
    "review_list[20].spans"
   ]
  },
  {
   "cell_type": "code",
   "execution_count": 17,
   "metadata": {},
   "outputs": [
    {
     "data": {
      "text/plain": [
       "[<application.namespan_class.NameSpan object at 0x1a35874310>, <application.namespan_class.NameSpan object at 0x1a358742d0>, <application.namespan_class.NameSpan object at 0x1a35874390>, <application.namespan_class.NameSpan object at 0x1a35874410>, <application.namespan_class.NameSpan object at 0x1a35874550>, <application.namespan_class.NameSpan object at 0x1a35874590>, <application.namespan_class.NameSpan object at 0x1a358743d0>, <application.namespan_class.NameSpan object at 0x1a358744d0>, <application.namespan_class.NameSpan object at 0x1a35874510>, <application.namespan_class.NameSpan object at 0x1a358745d0>, <application.namespan_class.NameSpan object at 0x1a35874450>, <application.namespan_class.NameSpan object at 0x1a35874490>, <application.namespan_class.NameSpan object at 0x1a35874650>, <application.namespan_class.NameSpan object at 0x1a35874690>, <application.namespan_class.NameSpan object at 0x1a358746d0>, <application.namespan_class.NameSpan object at 0x1a35874710>, <application.namespan_class.NameSpan object at 0x1a35874750>, <application.namespan_class.NameSpan object at 0x1a35874790>, <application.namespan_class.NameSpan object at 0x1a358747d0>, <application.namespan_class.NameSpan object at 0x1a35874810>, <application.namespan_class.NameSpan object at 0x1a35874850>, <application.namespan_class.NameSpan object at 0x1a35874890>, <application.namespan_class.NameSpan object at 0x1a358748d0>, <application.namespan_class.NameSpan object at 0x1a35874910>, <application.namespan_class.NameSpan object at 0x1a35874950>, <application.namespan_class.NameSpan object at 0x1a35874990>, <application.namespan_class.NameSpan object at 0x1a358749d0>, <application.namespan_class.NameSpan object at 0x1a35874a10>, <application.namespan_class.NameSpan object at 0x1a35874a50>, <application.namespan_class.NameSpan object at 0x1a35874a90>, <application.namespan_class.NameSpan object at 0x1a35874ad0>, <application.namespan_class.NameSpan object at 0x1a35874b10>, <application.namespan_class.NameSpan object at 0x1a35874b50>, <application.namespan_class.NameSpan object at 0x1a35874b90>, <application.namespan_class.NameSpan object at 0x1a35874bd0>, <application.namespan_class.NameSpan object at 0x1a35874c10>, <application.namespan_class.NameSpan object at 0x1a35874c50>, <application.namespan_class.NameSpan object at 0x1a35874c90>, <application.namespan_class.NameSpan object at 0x1a35874cd0>, <application.namespan_class.NameSpan object at 0x1a35874d10>, <application.namespan_class.NameSpan object at 0x1a35874d50>, <application.namespan_class.NameSpan object at 0x1a35874d90>, <application.namespan_class.NameSpan object at 0x1a35874dd0>, <application.namespan_class.NameSpan object at 0x1a35874e10>, <application.namespan_class.NameSpan object at 0x1a35874e50>]"
      ]
     },
     "execution_count": 17,
     "metadata": {},
     "output_type": "execute_result"
    }
   ],
   "source": [
    "[span for spans in (rev.spans for rev in review_list[:2]) for span in spans]"
   ]
  },
  {
   "cell_type": "code",
   "execution_count": 18,
   "metadata": {},
   "outputs": [],
   "source": [
    "spans = [span for spans in (rev.spans for rev in review_list) for span in spans]"
   ]
  },
  {
   "cell_type": "code",
   "execution_count": 19,
   "metadata": {},
   "outputs": [
    {
     "data": {
      "text/plain": [
       "5839"
      ]
     },
     "execution_count": 19,
     "metadata": {},
     "output_type": "execute_result"
    }
   ],
   "source": [
    "len(spans)"
   ]
  },
  {
   "cell_type": "code",
   "execution_count": 20,
   "metadata": {},
   "outputs": [],
   "source": [
    "person_spans = [span for span in spans if span.label == 'person']"
   ]
  },
  {
   "cell_type": "markdown",
   "metadata": {},
   "source": [
    "### Problem situations:\n",
    "    \n",
    "+ Okay: 0 1 name(2) 3 4\n",
    "    + 2 !< 2\n",
    "+ Bad: X 0 name(1) 2 3\n",
    "    + 1 < 2\n",
    "    + **2 - 1 = 1**\n",
    "+ Bad: X X name(0) 2 3\n",
    "    + 0 < 2\n",
    "    + **2 - 0 = 2**\n",
    "\n",
    "**Pattern: span.name.review_loc_toks < 2**\n",
    "\n",
    "+ Okay: -5 -4 name(-3) -2 -1\n",
    "    + 0 1 name(2) 3 4\n",
    "    + 5 toks, 5 - 3 = 2\n",
    "    + 2 !> 2\n",
    "+ Bad: -4 -3 name(-2) -1 X\n",
    "    + 0 1 name(2) 3\n",
    "    + 4 toks, 4 - 3 = 1\n",
    "    + 2 > 1\n",
    "    + **2 - 1 = 1**\n",
    "+ Bad: -3 -2 name(-1) X X\n",
    "    + 0 1 name(2)\n",
    "    + 3 toks, 3 - 3 = 0\n",
    "    + 2 > 0\n",
    "    + **2 - 0 = 2**\n",
    "+ Bad: -4 -3 name(-2) -1 X\n",
    "    + 300 301 302(name) 303 X\n",
    "    + 304 toks, 304 - 3 = 301\n",
    "    + 302 > 301\n",
    "    + **302 - 301 = 1**\n",
    "+ Bad: -3 -2 name(-1) X X\n",
    "    + 302 303(name) X X\n",
    "    + 304 toks, 304 - 3 = 301\n",
    "    + 303 > 301\n",
    "    + **303 - 301 = 2**\n",
    "\n",
    "**Pattern: span.name.review_loc_toks > (len(toks)-3)**"
   ]
  },
  {
   "cell_type": "code",
   "execution_count": 21,
   "metadata": {},
   "outputs": [],
   "source": [
    "# len([span.collocates for span in person_spans if len(span.collocates) < 5])"
   ]
  },
  {
   "cell_type": "code",
   "execution_count": 22,
   "metadata": {},
   "outputs": [],
   "source": [
    "# [span.collocates for span in person_spans if len(span.collocates) < 5]"
   ]
  },
  {
   "cell_type": "code",
   "execution_count": 23,
   "metadata": {},
   "outputs": [],
   "source": [
    "# problem_ids = [span.review_id for span in person_spans if len(span.collocates) < 5]"
   ]
  },
  {
   "cell_type": "code",
   "execution_count": 24,
   "metadata": {},
   "outputs": [],
   "source": [
    "# problem_revs = [rev for rev in review_list if rev.review_id in problem_ids]"
   ]
  },
  {
   "cell_type": "code",
   "execution_count": 25,
   "metadata": {},
   "outputs": [],
   "source": [
    "# len(problem_revs)"
   ]
  },
  {
   "cell_type": "code",
   "execution_count": 26,
   "metadata": {},
   "outputs": [],
   "source": [
    "# import copy"
   ]
  },
  {
   "cell_type": "code",
   "execution_count": 27,
   "metadata": {},
   "outputs": [],
   "source": [
    "# for review in problem_revs:\n",
    "#     for span in review.spans:\n",
    "#         toks = copy.deepcopy(review.coll_toks_ind)\n",
    "#         ni = span.name.review_loc_toks\n",
    "#         if (ni < 2):\n",
    "#             print(\"front:\")\n",
    "#             ftoks = list((2-ni)*\"^\")\n",
    "#             ftoks.extend((toks))\n",
    "#             print(ftoks[0:(ni+3+(2-ni))])\n",
    "#             print()\n",
    "#         if (ni > (len(toks)-3)):\n",
    "#             print(\"back:\")\n",
    "#             btoks = toks\n",
    "#             btoks.extend(list((ni-(len(toks)-3)) * \"$\"))\n",
    "#             print(btoks[(ni-2):])\n",
    "#             print()"
   ]
  },
  {
   "cell_type": "code",
   "execution_count": 28,
   "metadata": {},
   "outputs": [
    {
     "data": {
      "text/plain": [
       "5192"
      ]
     },
     "execution_count": 28,
     "metadata": {},
     "output_type": "execute_result"
    }
   ],
   "source": [
    "len(person_spans)"
   ]
  },
  {
   "cell_type": "code",
   "execution_count": 29,
   "metadata": {},
   "outputs": [],
   "source": [
    "coll_df = pd.DataFrame()"
   ]
  },
  {
   "cell_type": "code",
   "execution_count": 30,
   "metadata": {},
   "outputs": [],
   "source": [
    "coll_df['review_id'] = list(map((lambda x: x.review_id), person_spans))\n",
    "coll_df['review_group'] = list(map((lambda x: x.group), person_spans))"
   ]
  },
  {
   "cell_type": "code",
   "execution_count": 31,
   "metadata": {},
   "outputs": [
    {
     "data": {
      "text/plain": [
       "['Place', 'and', 'Mrs._Canfield', \"'s\", 'The']"
      ]
     },
     "execution_count": 31,
     "metadata": {},
     "output_type": "execute_result"
    }
   ],
   "source": [
    "person_spans[0].collocates"
   ]
  },
  {
   "cell_type": "code",
   "execution_count": 32,
   "metadata": {},
   "outputs": [
    {
     "data": {
      "text/plain": [
       "{5}"
      ]
     },
     "execution_count": 32,
     "metadata": {},
     "output_type": "execute_result"
    }
   ],
   "source": [
    "# problem fixed\n",
    "set([len(span.collocates) for span in person_spans])"
   ]
  },
  {
   "cell_type": "code",
   "execution_count": 33,
   "metadata": {},
   "outputs": [],
   "source": [
    "coll_df['preceding_collocates'] = list(map((lambda x: x.collocates[:2]), person_spans))\n",
    "coll_df['following_collocates'] = list(map((lambda x: x.collocates[3:]), person_spans))\n",
    "\n",
    "coll_df['coll-2'] = list(map((lambda x: x.collocates[0]), person_spans))\n",
    "coll_df['coll-1'] = list(map((lambda x: x.collocates[1]), person_spans))\n",
    "coll_df['name_target'] = list(map((lambda x: x.name), person_spans))\n",
    "coll_df['coll+1'] = list(map((lambda x: x.collocates[3]), person_spans))\n",
    "coll_df['coll+2'] = list(map((lambda x: x.collocates[4]), person_spans))"
   ]
  },
  {
   "cell_type": "code",
   "execution_count": 37,
   "metadata": {},
   "outputs": [],
   "source": [
    "coll_df['all_coll'] = coll_df.preceding_collocates + coll_df.following_collocates"
   ]
  },
  {
   "cell_type": "code",
   "execution_count": 38,
   "metadata": {},
   "outputs": [
    {
     "data": {
      "text/html": [
       "<div>\n",
       "<style scoped>\n",
       "    .dataframe tbody tr th:only-of-type {\n",
       "        vertical-align: middle;\n",
       "    }\n",
       "\n",
       "    .dataframe tbody tr th {\n",
       "        vertical-align: top;\n",
       "    }\n",
       "\n",
       "    .dataframe thead th {\n",
       "        text-align: right;\n",
       "    }\n",
       "</style>\n",
       "<table border=\"1\" class=\"dataframe\">\n",
       "  <thead>\n",
       "    <tr style=\"text-align: right;\">\n",
       "      <th></th>\n",
       "      <th>review_id</th>\n",
       "      <th>review_group</th>\n",
       "      <th>preceding_collocates</th>\n",
       "      <th>following_collocates</th>\n",
       "      <th>coll-2</th>\n",
       "      <th>coll-1</th>\n",
       "      <th>name_target</th>\n",
       "      <th>coll+1</th>\n",
       "      <th>coll+2</th>\n",
       "      <th>all_coll</th>\n",
       "    </tr>\n",
       "  </thead>\n",
       "  <tbody>\n",
       "    <tr>\n",
       "      <td>0</td>\n",
       "      <td>137197814</td>\n",
       "      <td>21</td>\n",
       "      <td>[Place, and]</td>\n",
       "      <td>['s, The]</td>\n",
       "      <td>Place</td>\n",
       "      <td>and</td>\n",
       "      <td>Mrs. Canfield</td>\n",
       "      <td>'s</td>\n",
       "      <td>The</td>\n",
       "      <td>[Place, and, 's, The]</td>\n",
       "    </tr>\n",
       "    <tr>\n",
       "      <td>1</td>\n",
       "      <td>137197814</td>\n",
       "      <td>22</td>\n",
       "      <td>[it, is]</td>\n",
       "      <td>['s, own]</td>\n",
       "      <td>it</td>\n",
       "      <td>is</td>\n",
       "      <td>Mr. Anderson</td>\n",
       "      <td>'s</td>\n",
       "      <td>own</td>\n",
       "      <td>[it, is, 's, own]</td>\n",
       "    </tr>\n",
       "    <tr>\n",
       "      <td>2</td>\n",
       "      <td>137197814</td>\n",
       "      <td>1</td>\n",
       "      <td>[Years, ago]</td>\n",
       "      <td>[,, writing]</td>\n",
       "      <td>Years</td>\n",
       "      <td>ago</td>\n",
       "      <td>Mr. George Moore</td>\n",
       "      <td>,</td>\n",
       "      <td>writing</td>\n",
       "      <td>[Years, ago, ,, writing]</td>\n",
       "    </tr>\n",
       "    <tr>\n",
       "      <td>3</td>\n",
       "      <td>137197814</td>\n",
       "      <td>26</td>\n",
       "      <td>[Matisse, .]</td>\n",
       "      <td>[is, a]</td>\n",
       "      <td>Matisse</td>\n",
       "      <td>.</td>\n",
       "      <td>Mr. Swinnerton</td>\n",
       "      <td>is</td>\n",
       "      <td>a</td>\n",
       "      <td>[Matisse, ., is, a]</td>\n",
       "    </tr>\n",
       "    <tr>\n",
       "      <td>4</td>\n",
       "      <td>137197814</td>\n",
       "      <td>33</td>\n",
       "      <td>[house, .]</td>\n",
       "      <td>[seems, to]</td>\n",
       "      <td>house</td>\n",
       "      <td>.</td>\n",
       "      <td>Mr. Hergesheimer</td>\n",
       "      <td>seems</td>\n",
       "      <td>to</td>\n",
       "      <td>[house, ., seems, to]</td>\n",
       "    </tr>\n",
       "  </tbody>\n",
       "</table>\n",
       "</div>"
      ],
      "text/plain": [
       "   review_id  review_group preceding_collocates following_collocates   coll-2  \\\n",
       "0  137197814            21         [Place, and]            ['s, The]    Place   \n",
       "1  137197814            22             [it, is]            ['s, own]       it   \n",
       "2  137197814             1         [Years, ago]         [,, writing]    Years   \n",
       "3  137197814            26         [Matisse, .]              [is, a]  Matisse   \n",
       "4  137197814            33           [house, .]          [seems, to]    house   \n",
       "\n",
       "  coll-1       name_target coll+1   coll+2                  all_coll  \n",
       "0    and     Mrs. Canfield     's      The     [Place, and, 's, The]  \n",
       "1     is      Mr. Anderson     's      own         [it, is, 's, own]  \n",
       "2    ago  Mr. George Moore      ,  writing  [Years, ago, ,, writing]  \n",
       "3      .    Mr. Swinnerton     is        a       [Matisse, ., is, a]  \n",
       "4      .  Mr. Hergesheimer  seems       to     [house, ., seems, to]  "
      ]
     },
     "execution_count": 38,
     "metadata": {},
     "output_type": "execute_result"
    }
   ],
   "source": [
    "coll_df.head()"
   ]
  },
  {
   "cell_type": "code",
   "execution_count": 39,
   "metadata": {},
   "outputs": [
    {
     "data": {
      "text/plain": [
       "[., By]         43\n",
       "[,, and]        39\n",
       "[,, by]         33\n",
       "[,, as]         29\n",
       "[of, the]       25\n",
       "[,, ``]         24\n",
       "[edited, by]    21\n",
       "[by, the]       19\n",
       "[,, that]       18\n",
       "[., But]        18\n",
       "Name: preceding_collocates, dtype: int64"
      ]
     },
     "execution_count": 39,
     "metadata": {},
     "output_type": "execute_result"
    }
   ],
   "source": [
    "coll_df.preceding_collocates.value_counts()[:10]"
   ]
  },
  {
   "cell_type": "code",
   "execution_count": 40,
   "metadata": {},
   "outputs": [
    {
     "data": {
      "text/plain": [
       "['s, book]    63\n",
       "[,, of]       50\n",
       "[,, who]      49\n",
       "[,, and]      46\n",
       "[of, the]     39\n",
       "['s, ``]      39\n",
       "['s, work]    36\n",
       "[,, the]      33\n",
       "[,, in]       32\n",
       "[,, ``]       30\n",
       "Name: following_collocates, dtype: int64"
      ]
     },
     "execution_count": 40,
     "metadata": {},
     "output_type": "execute_result"
    }
   ],
   "source": [
    "coll_df.following_collocates.value_counts()[:10]"
   ]
  },
  {
   "cell_type": "code",
   "execution_count": 41,
   "metadata": {},
   "outputs": [
    {
     "data": {
      "text/plain": [
       "[``, says, ,, ``]        6\n",
       "[., By, ,, M.]           5\n",
       "[,, by, ,, of]           4\n",
       "[., By, ., New]          3\n",
       "[,, by, ,, is]           3\n",
       "[of, ``, ,, ``]          3\n",
       "[edited, by, ,, D.D.]    2\n",
       "[,, by, ., (]            2\n",
       "[Rev, ., ,, who]         2\n",
       "[,, of, 's, ``]          2\n",
       "Name: all_coll, dtype: int64"
      ]
     },
     "execution_count": 41,
     "metadata": {},
     "output_type": "execute_result"
    }
   ],
   "source": [
    "coll_df.all_coll.value_counts()[:10]"
   ]
  },
  {
   "cell_type": "code",
   "execution_count": null,
   "metadata": {},
   "outputs": [],
   "source": []
  }
 ],
 "metadata": {
  "kernelspec": {
   "display_name": "Python 3",
   "language": "python",
   "name": "python3"
  },
  "language_info": {
   "codemirror_mode": {
    "name": "ipython",
    "version": 3
   },
   "file_extension": ".py",
   "mimetype": "text/x-python",
   "name": "python",
   "nbconvert_exporter": "python",
   "pygments_lexer": "ipython3",
   "version": "3.7.4"
  }
 },
 "nbformat": 4,
 "nbformat_minor": 2
}
