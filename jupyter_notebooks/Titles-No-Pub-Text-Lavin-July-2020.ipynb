{
 "cells": [
  {
   "cell_type": "markdown",
   "metadata": {},
   "source": [
    "# Initial Setup\n",
    "\n",
    "- import various helpers, load data, select reviews by status and category"
   ]
  },
  {
   "cell_type": "code",
   "execution_count": 1,
   "metadata": {},
   "outputs": [
    {
     "name": "stdout",
     "output_type": "stream",
     "text": [
      "Pretty printing has been turned OFF\n"
     ]
    }
   ],
   "source": [
    "import sys\n",
    "sys.path.append('../')\n",
    "\n",
    "from application.name_obj_classes import PubName, PersonName, remove_punct\n",
    "\n",
    "from application.review_obj_class import ReviewObj\n",
    "\n",
    "from application.text_preprocessing import preprocess_text\n",
    "\n",
    "import os\n",
    "import pandas as pd\n",
    "import re\n",
    "from collections import Counter\n",
    "import numpy as np\n",
    "import pickle\n",
    "from nltk.metrics import edit_distance\n",
    "%pprint"
   ]
  },
  {
   "cell_type": "code",
   "execution_count": 2,
   "metadata": {},
   "outputs": [
    {
     "data": {
      "text/plain": [
       "561"
      ]
     },
     "execution_count": 2,
     "metadata": {},
     "output_type": "execute_result"
    }
   ],
   "source": [
    "from database import *\n",
    "import database.models as models\n",
    "\n",
    "# load full text from db\n",
    "aps_details_single = models.Review().query.filter(models.Review.status.in_(('needs_crosscheck', 'done'))).filter(models.Review.review_type == 'single_focus').all()\n",
    "\n",
    "len(aps_details_single)"
   ]
  },
  {
   "cell_type": "code",
   "execution_count": 27,
   "metadata": {},
   "outputs": [
    {
     "data": {
      "text/plain": [
       "558"
      ]
     },
     "execution_count": 27,
     "metadata": {},
     "output_type": "execute_result"
    }
   ],
   "source": [
    "titles = [i.reviewed_book_title for i in aps_details_single if i.reviewed_book_title != '' and i.reviewed_book_title is not None]\n",
    "len(titles)"
   ]
  },
  {
   "cell_type": "code",
   "execution_count": 28,
   "metadata": {},
   "outputs": [
    {
     "data": {
      "text/plain": [
       "558"
      ]
     },
     "execution_count": 28,
     "metadata": {},
     "output_type": "execute_result"
    }
   ],
   "source": [
    "reviews_parsed = [ReviewObj(i.record_id, i.full_text) for i in aps_details_single if i.reviewed_book_title != '' and i.reviewed_book_title is not None]\n",
    "#reviews_parsed[0].cleaned_text\n",
    "#reviews_parsed[0].cleaned_toks[:10]\n",
    "len(reviews_parsed)"
   ]
  },
  {
   "cell_type": "code",
   "execution_count": 6,
   "metadata": {},
   "outputs": [],
   "source": [
    "import string\n",
    "from nltk.util import ngrams\n",
    "from collections import Counter\n",
    "from nltk.corpus import stopwords\n",
    "\n",
    "def remove_function_tail(sequence):\n",
    "    if sequence[-1].lower() in stopwords.words('english'):\n",
    "        sequence.pop()\n",
    "        return remove_function_tail(sequence)\n",
    "    else:\n",
    "        return sequence"
   ]
  },
  {
   "cell_type": "code",
   "execution_count": 42,
   "metadata": {},
   "outputs": [],
   "source": [
    "from fuzzysearch import find_near_matches\n",
    "\n",
    "def match_title_candidates(text, known_titles):\n",
    "    all_matches = {}\n",
    "    for t in known_titles:\n",
    "        #base fuzziness on length of pubname\n",
    "        if len(t) < 10:\n",
    "            fuzz=0\n",
    "        elif len(t) > 9 and len(t) < 20:\n",
    "            fuzz=1\n",
    "        else:\n",
    "            fuzz=3\n",
    "        matches = find_near_matches(t, text, max_l_dist=fuzz)\n",
    "        if len(matches) > 0:\n",
    "            match_strings = [text[m.start:m.end] for m in matches]\n",
    "            for i in match_strings:\n",
    "                try:\n",
    "                    all_matches[t].append(i)\n",
    "                except:\n",
    "                    all_matches[t] = [i,]\n",
    "    for k,v in all_matches.items():\n",
    "        if len(v) == 1 and k == v[0]:  \n",
    "            return (\"found\", [k,])\n",
    "        \n",
    "    result = list(all_matches.keys())\n",
    "    if len(result) > 0:\n",
    "        return (\"found\", result)\n",
    "    else:\n",
    "        return (\"not found\", result)\n"
   ]
  },
  {
   "cell_type": "code",
   "execution_count": 43,
   "metadata": {},
   "outputs": [
    {
     "data": {
      "text/plain": [
       "('not found', [])"
      ]
     },
     "execution_count": 43,
     "metadata": {},
     "output_type": "execute_result"
    }
   ],
   "source": [
    "match_title_candidates(reviews_parsed[3].no_pubs_text, titles)"
   ]
  },
  {
   "cell_type": "code",
   "execution_count": 44,
   "metadata": {},
   "outputs": [],
   "source": [
    "from collections import Counter \n",
    "\n",
    "all_title_matches = {}\n",
    "\n",
    "# run on all reviews, return matches, novel, or no match\n",
    "for review in reviews_parsed:\n",
    "    \n",
    "    result, title_candidates = match_title_candidates(review.cleaned_text, titles)\n",
    "    \n",
    "    if len(title_candidates) > 0:\n",
    "        top_title_candidate = title_candidates[0]\n",
    "    else:\n",
    "        result = \"not found\"\n",
    "        top_title_candidate = ''\n",
    "    try:\n",
    "        all_title_matches[\"type\"].append(result) \n",
    "    except:\n",
    "        all_title_matches[\"type\"] = [result,]\n",
    "    try:\n",
    "        all_title_matches[\"results\"].append(top_title_candidate)\n",
    "    except:\n",
    "        all_title_matches[\"results\"] = [top_title_candidate,]\n",
    "    try:\n",
    "        all_title_matches[\"match_number\"].append(len(title_candidates))\n",
    "    except:\n",
    "        all_title_matches[\"match_number\"] = [len(title_candidates),]"
   ]
  },
  {
   "cell_type": "code",
   "execution_count": 51,
   "metadata": {},
   "outputs": [
    {
     "data": {
      "text/plain": [
       "0.33691756272401435"
      ]
     },
     "execution_count": 51,
     "metadata": {},
     "output_type": "execute_result"
    }
   ],
   "source": [
    "import pandas as pd\n",
    "df = pd.DataFrame(all_title_matches)\n",
    "df['recorded_title'] = titles\n",
    "len(df.loc[df['match_number'] == 0])/len(df)\n",
    "#188 not found"
   ]
  },
  {
   "cell_type": "code",
   "execution_count": 50,
   "metadata": {},
   "outputs": [
    {
     "data": {
      "text/plain": [
       "0.8498583569405099"
      ]
     },
     "execution_count": 50,
     "metadata": {},
     "output_type": "execute_result"
    }
   ],
   "source": [
    "len(df.loc[df['results'] == df['recorded_title']])/len(df.loc[df['match_number'] == 1])"
   ]
  },
  {
   "cell_type": "code",
   "execution_count": null,
   "metadata": {},
   "outputs": [],
   "source": [
    "# 0.5376344086021505 of total identified\n",
    "# 0.8498583569405099 of matches are correct and 0.33691756272401435 of total are unmatched\n"
   ]
  }
 ],
 "metadata": {
  "kernelspec": {
   "display_name": "Python 3",
   "language": "python",
   "name": "python3"
  },
  "language_info": {
   "codemirror_mode": {
    "name": "ipython",
    "version": 3
   },
   "file_extension": ".py",
   "mimetype": "text/x-python",
   "name": "python",
   "nbconvert_exporter": "python",
   "pygments_lexer": "ipython3",
   "version": "3.6.5"
  }
 },
 "nbformat": 4,
 "nbformat_minor": 2
}
