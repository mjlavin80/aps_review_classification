{
 "cells": [
  {
   "cell_type": "code",
   "execution_count": 1,
   "metadata": {},
   "outputs": [],
   "source": [
    "import sys\n",
    "sys.path.append('../')"
   ]
  },
  {
   "cell_type": "code",
   "execution_count": 2,
   "metadata": {},
   "outputs": [],
   "source": [
    "from application.name_obj_classes import PubName, PersonName"
   ]
  },
  {
   "cell_type": "code",
   "execution_count": 3,
   "metadata": {},
   "outputs": [],
   "source": [
    "from application.review_obj_class import ReviewObj"
   ]
  },
  {
   "cell_type": "code",
   "execution_count": 4,
   "metadata": {},
   "outputs": [],
   "source": [
    "import pandas as pd\n",
    "import os"
   ]
  },
  {
   "cell_type": "code",
   "execution_count": 5,
   "metadata": {},
   "outputs": [],
   "source": [
    "# loading in files\n",
    "directory = \"../../aps_reviews_50/aps_reviews/\"\n",
    "filenames = os.listdir(directory)\n",
    "txts = []\n",
    "for file in filenames:\n",
    "    with open(directory + file) as f:\n",
    "        txts.append(f.read())"
   ]
  },
  {
   "cell_type": "code",
   "execution_count": 6,
   "metadata": {},
   "outputs": [],
   "source": [
    "review_list = []\n",
    "for filename, txt in zip([x.split('.')[0] for x in filenames], txts):\n",
    "    review_list.append(ReviewObj(filename, txt))"
   ]
  },
  {
   "cell_type": "code",
   "execution_count": 7,
   "metadata": {},
   "outputs": [
    {
     "name": "stdout",
     "output_type": "stream",
     "text": [
      "['Cassell & Co.', 'E. P. Dutton & Co.', 'Thomas Y. Crowell & Co.', 'American Historical Society', 'Dunlap Society']\n",
      "[]\n",
      "[]\n",
      "[]\n",
      "[]\n",
      "['Filtlh Co']\n",
      "['KnRR & Co', 'PUBLrISHIING Co', 'American Geographical Society', 'B. LIPizxcoTr & Co', 'B. LpnIrrcorr & Co.']\n",
      "[]\n",
      "[]\n",
      "[]\n",
      "[]\n",
      "[]\n",
      "[]\n",
      "[]\n",
      "['Blakiston Co', 'Robert Clarke Co', 'Graphic Company']\n",
      "['Century Co.', 'Slead & Co.', 'B. Lippincott Co.', 'Macmillan Co.', 'Maemillall Co.']\n",
      "['Sou & Co.']\n",
      "['Macmillan & Co.', 'Mifflin & Co.']\n",
      "[]\n",
      "[]\n",
      "[]\n",
      "[]\n",
      "[]\n",
      "['B. Lippincott Co.', 'Macmillan & Co.', 'Friend Society']\n",
      "['Master House', 'Master House']\n",
      "[]\n",
      "[]\n",
      "['Funk and Wagnails Company', 'Outing Publishing', 'Outing Publishing Company', 'Open Court Pubpishing Co', 'Sheet Metal Publishing', 'Sheet Metal Publishing Company']\n",
      "['Macmillan & Co.']\n",
      "[]\n",
      "[]\n",
      "['Shakespearean Society.', 'E. P. Dutton & Co.', 'Maynard & Co.']\n",
      "['Macmillan & Co.']\n",
      "[]\n",
      "['William Wood Company', 'Treat Co', 'Lea Brothers Co']\n",
      "['Wm Wood Co', 'Wm Wood Co Publishers']\n",
      "[]\n",
      "[]\n",
      "[]\n",
      "['The Macmillan Co.', 'E. P. Dutton & Co.']\n",
      "[]\n",
      "['CroweU & Co.', 'Browning Society']\n",
      "[]\n",
      "[]\n",
      "[]\n",
      "['The Macmillan Company']\n",
      "['Senate and House']\n",
      "[]\n",
      "[]\n",
      "['AtiSlin & Co.']\n"
     ]
    }
   ],
   "source": [
    "for x in review_list:\n",
    "    print(x.pub_names)"
   ]
  },
  {
   "cell_type": "code",
   "execution_count": 8,
   "metadata": {},
   "outputs": [],
   "source": [
    "review_df = pd.DataFrame()"
   ]
  },
  {
   "cell_type": "code",
   "execution_count": 9,
   "metadata": {},
   "outputs": [],
   "source": [
    "review_df['aps_id'] = [x.review_id for x in review_list]"
   ]
  },
  {
   "cell_type": "code",
   "execution_count": 10,
   "metadata": {},
   "outputs": [],
   "source": [
    "review_df['cleaned_text'] = [x.cleaned_text for x in review_list]"
   ]
  },
  {
   "cell_type": "code",
   "execution_count": 11,
   "metadata": {},
   "outputs": [],
   "source": [
    "review_df['cleaned_toks'] = [x.cleaned_toks for x in review_list]"
   ]
  },
  {
   "cell_type": "code",
   "execution_count": 12,
   "metadata": {},
   "outputs": [],
   "source": [
    "review_df['pubs'] = [x.pub_names for x in review_list]"
   ]
  },
  {
   "cell_type": "code",
   "execution_count": 13,
   "metadata": {},
   "outputs": [],
   "source": [
    "review_df['people'] = [x.person_names for x in review_list]"
   ]
  },
  {
   "cell_type": "code",
   "execution_count": 14,
   "metadata": {},
   "outputs": [
    {
     "data": {
      "text/html": [
       "<div>\n",
       "<style scoped>\n",
       "    .dataframe tbody tr th:only-of-type {\n",
       "        vertical-align: middle;\n",
       "    }\n",
       "\n",
       "    .dataframe tbody tr th {\n",
       "        vertical-align: top;\n",
       "    }\n",
       "\n",
       "    .dataframe thead th {\n",
       "        text-align: right;\n",
       "    }\n",
       "</style>\n",
       "<table border=\"1\" class=\"dataframe\">\n",
       "  <thead>\n",
       "    <tr style=\"text-align: right;\">\n",
       "      <th></th>\n",
       "      <th>aps_id</th>\n",
       "      <th>cleaned_text</th>\n",
       "      <th>cleaned_toks</th>\n",
       "      <th>pubs</th>\n",
       "      <th>people</th>\n",
       "    </tr>\n",
       "  </thead>\n",
       "  <tbody>\n",
       "    <tr>\n",
       "      <td>0</td>\n",
       "      <td>136726613</td>\n",
       "      <td>LITERARY NOTES.  - The Chautauqua department o...</td>\n",
       "      <td>[LITERARY, NOTES, ., -, The, Chautauqua, depar...</td>\n",
       "      <td>[Cassell &amp; Co., E. P. Dutton &amp; Co., Thomas Y. ...</td>\n",
       "      <td>[Mr. Charles Dudley Warner, Mr. Vedder, Profes...</td>\n",
       "    </tr>\n",
       "    <tr>\n",
       "      <td>1</td>\n",
       "      <td>90142613</td>\n",
       "      <td>THE GADFLY.* DEARTH of good novels has been fe...</td>\n",
       "      <td>[THE, GADFLY, ., *, DEARTH, of, good, novels, ...</td>\n",
       "      <td>[]</td>\n",
       "      <td>[Mr. E. L. Voynich]</td>\n",
       "    </tr>\n",
       "    <tr>\n",
       "      <td>2</td>\n",
       "      <td>90390665</td>\n",
       "      <td>TWO READABLE NOVELS.* Miss HowAiD ' Is u' W st...</td>\n",
       "      <td>[TWO, READABLE, NOVELS, ., *, Miss, HowAiD, ',...</td>\n",
       "      <td>[]</td>\n",
       "      <td>[Miss HowAiD, Mrs. A. L. Wister, Princess Merc...</td>\n",
       "    </tr>\n",
       "    <tr>\n",
       "      <td>3</td>\n",
       "      <td>124486140</td>\n",
       "      <td>Tinl OF OF ISlPAIHAiN have long enjoyed a as o...</td>\n",
       "      <td>[Tinl, OF, OF, ISlPAIHAiN, have, long, enjoyed...</td>\n",
       "      <td>[]</td>\n",
       "      <td>[Dr. Atwood]</td>\n",
       "    </tr>\n",
       "    <tr>\n",
       "      <td>4</td>\n",
       "      <td>126315326</td>\n",
       "      <td>Cadet's HIa(ldbook. A Manual for Military Stud...</td>\n",
       "      <td>[Cadet, 's, HIa, (, ldbook, ., A, Manual, for,...</td>\n",
       "      <td>[]</td>\n",
       "      <td>[]</td>\n",
       "    </tr>\n",
       "  </tbody>\n",
       "</table>\n",
       "</div>"
      ],
      "text/plain": [
       "      aps_id                                       cleaned_text  \\\n",
       "0  136726613  LITERARY NOTES.  - The Chautauqua department o...   \n",
       "1   90142613  THE GADFLY.* DEARTH of good novels has been fe...   \n",
       "2   90390665  TWO READABLE NOVELS.* Miss HowAiD ' Is u' W st...   \n",
       "3  124486140  Tinl OF OF ISlPAIHAiN have long enjoyed a as o...   \n",
       "4  126315326  Cadet's HIa(ldbook. A Manual for Military Stud...   \n",
       "\n",
       "                                        cleaned_toks  \\\n",
       "0  [LITERARY, NOTES, ., -, The, Chautauqua, depar...   \n",
       "1  [THE, GADFLY, ., *, DEARTH, of, good, novels, ...   \n",
       "2  [TWO, READABLE, NOVELS, ., *, Miss, HowAiD, ',...   \n",
       "3  [Tinl, OF, OF, ISlPAIHAiN, have, long, enjoyed...   \n",
       "4  [Cadet, 's, HIa, (, ldbook, ., A, Manual, for,...   \n",
       "\n",
       "                                                pubs  \\\n",
       "0  [Cassell & Co., E. P. Dutton & Co., Thomas Y. ...   \n",
       "1                                                 []   \n",
       "2                                                 []   \n",
       "3                                                 []   \n",
       "4                                                 []   \n",
       "\n",
       "                                              people  \n",
       "0  [Mr. Charles Dudley Warner, Mr. Vedder, Profes...  \n",
       "1                                [Mr. E. L. Voynich]  \n",
       "2  [Miss HowAiD, Mrs. A. L. Wister, Princess Merc...  \n",
       "3                                       [Dr. Atwood]  \n",
       "4                                                 []  "
      ]
     },
     "execution_count": 14,
     "metadata": {},
     "output_type": "execute_result"
    }
   ],
   "source": [
    "review_df.head()"
   ]
  },
  {
   "cell_type": "code",
   "execution_count": null,
   "metadata": {},
   "outputs": [],
   "source": []
  }
 ],
 "metadata": {
  "kernelspec": {
   "display_name": "Python 3",
   "language": "python",
   "name": "python3"
  },
  "language_info": {
   "codemirror_mode": {
    "name": "ipython",
    "version": 3
   },
   "file_extension": ".py",
   "mimetype": "text/x-python",
   "name": "python",
   "nbconvert_exporter": "python",
   "pygments_lexer": "ipython3",
   "version": "3.7.4"
  }
 },
 "nbformat": 4,
 "nbformat_minor": 2
}
