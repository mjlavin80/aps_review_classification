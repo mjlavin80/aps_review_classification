{
 "cells": [
  {
   "cell_type": "code",
   "execution_count": 1,
   "metadata": {},
   "outputs": [],
   "source": [
    "import sys\n",
    "sys.path.append('../')"
   ]
  },
  {
   "cell_type": "code",
   "execution_count": 2,
   "metadata": {},
   "outputs": [],
   "source": [
    "from application.name_obj_classes import PubName, PersonName"
   ]
  },
  {
   "cell_type": "code",
   "execution_count": 3,
   "metadata": {},
   "outputs": [],
   "source": [
    "from application.review_obj_class import ReviewObj"
   ]
  },
  {
   "cell_type": "code",
   "execution_count": 6,
   "metadata": {},
   "outputs": [],
   "source": [
    "import pandas as pd\n",
    "import os"
   ]
  },
  {
   "cell_type": "code",
   "execution_count": 7,
   "metadata": {},
   "outputs": [],
   "source": [
    "# loading in files\n",
    "directory = \"../../aps_reviews_50/aps_reviews/\"\n",
    "filenames = os.listdir(directory)\n",
    "txts = []\n",
    "for file in filenames:\n",
    "    with open(directory + file) as f:\n",
    "        txts.append(f.read())"
   ]
  },
  {
   "cell_type": "code",
   "execution_count": 11,
   "metadata": {},
   "outputs": [],
   "source": [
    "review_list = []\n",
    "for filename, txt in zip([x.split('.')[0] for x in filenames], txts):\n",
    "    review_list.append(ReviewObj(filename, txt))"
   ]
  },
  {
   "cell_type": "code",
   "execution_count": 26,
   "metadata": {},
   "outputs": [
    {
     "name": "stdout",
     "output_type": "stream",
     "text": [
      "['E. P. Dutton & Co.', 'A. S. Barnes & Co.', 'Ginn, Heath & Co.', 'E. P. Dutton & Cov', 'Thomas Y. Crowell & Co.', 'American Historical Society', 'American Historical Society', 'Dunlap Society']\n",
      "['The Gadfly. By E. L. VWynich. Henry Holt & Co.']\n",
      "[]\n",
      "[]\n",
      "[]\n",
      "['Filtlh Co']\n",
      "['BOSTON: GINN & Co.', 'CAGO: CHAS. 1I. KnRR & Co.', 'American Geographical Society', 'BosTON: Gl1N & Co.', 'Messrs. Ginn & Co.', 'A. S. BARNES & Co.', 'BOSTON AND LONDON GINN & Co.', 'BOSTON: GINN & Co.', 'CAGO: CHAS. 1I. KnRR & Co.', 'BosTON: Gl1N & Co.', 'Messrs. Ginn & Co.', 'A. S. BARNES & Co.']\n",
      "[]\n",
      "[]\n",
      "[]\n",
      "[]\n",
      "[]\n",
      "[]\n",
      "['Publishers']\n",
      "['Robert Clarke Co', 'Graphic Company']\n",
      "['259. J. B. Lippincott Co.', '05. Macmillan Co.', '259. J. B. Lippincott Co.', '05. Macmillan Co.', '404. Maemillall Co.']\n",
      "[]\n",
      "['Mead & Co.', '& Co.', 'Mead & Co.', '& Co.', 'Houghton, Mifflin & Co.']\n",
      "[]\n",
      "[]\n",
      "[]\n",
      "[]\n",
      "[]\n",
      "['J. B. Lippincott Co.', 'American Book Co.', 'Macmillan & Co.', 'Arena Company']\n",
      "['Master House', 'Master House']\n",
      "[]\n",
      "[]\n",
      "['Wagnails Company', 'Intensive Farming By Corbett New York Outing Publishing', 'Science By Federigo Enriques Chicago Open Court Pubpishing Co', 'Progressive Furnace Heating By Alfred King New York Sheet Metal Publishing', 'Company', 'Wagnails Company', 'Intensive Farming By Corbett New York Outing Publishing Company', 'Progressive Furnace Heating By Alfred King New York Sheet Metal Publishing Company']\n",
      "[]\n",
      "[]\n",
      "[]\n",
      "['New Shakespearean Society.', 'E. P. Dutton & Co.', 'Dodd, Mead & Co.', 'E. P. Dutton & Co.', 'Small, Maynard & Co.']\n",
      "[]\n",
      "[]\n",
      "['New York Treat Co', 'New York Treat Co', 'New York Lea Brothers Co']\n",
      "[]\n",
      "[]\n",
      "[]\n",
      "[]\n",
      "[]\n",
      "[]\n",
      "['A Group', 'Browning Society']\n",
      "['Bibliography. The Grafton Press']\n",
      "[]\n",
      "[]\n",
      "[]\n",
      "['House']\n",
      "['Present. Biy T. T. Timayenis.JI. Appleton & Co.']\n",
      "[]\n",
      "['Riverside Press']\n"
     ]
    }
   ],
   "source": [
    "for x in review_list:\n",
    "    print(x.pub_names)"
   ]
  },
  {
   "cell_type": "code",
   "execution_count": 13,
   "metadata": {},
   "outputs": [],
   "source": [
    "review_df = pd.DataFrame()"
   ]
  },
  {
   "cell_type": "code",
   "execution_count": 16,
   "metadata": {},
   "outputs": [],
   "source": [
    "review_df['review_obj'] = review_list"
   ]
  },
  {
   "cell_type": "code",
   "execution_count": 21,
   "metadata": {},
   "outputs": [],
   "source": [
    "review_df['aps_id'] = [x.review_id for x in review_list]"
   ]
  },
  {
   "cell_type": "code",
   "execution_count": 22,
   "metadata": {},
   "outputs": [],
   "source": [
    "review_df['cleaned_text'] = [x.cleaned_text for x in review_list]"
   ]
  },
  {
   "cell_type": "code",
   "execution_count": 23,
   "metadata": {},
   "outputs": [],
   "source": [
    "review_df['pubs'] = [x.pub_names for x in review_list]"
   ]
  },
  {
   "cell_type": "code",
   "execution_count": 24,
   "metadata": {},
   "outputs": [],
   "source": [
    "review_df['people'] = [x.person_names for x in review_list]"
   ]
  },
  {
   "cell_type": "code",
   "execution_count": 25,
   "metadata": {},
   "outputs": [
    {
     "data": {
      "text/html": [
       "<div>\n",
       "<style scoped>\n",
       "    .dataframe tbody tr th:only-of-type {\n",
       "        vertical-align: middle;\n",
       "    }\n",
       "\n",
       "    .dataframe tbody tr th {\n",
       "        vertical-align: top;\n",
       "    }\n",
       "\n",
       "    .dataframe thead th {\n",
       "        text-align: right;\n",
       "    }\n",
       "</style>\n",
       "<table border=\"1\" class=\"dataframe\">\n",
       "  <thead>\n",
       "    <tr style=\"text-align: right;\">\n",
       "      <th></th>\n",
       "      <th>review_obj</th>\n",
       "      <th>aps_id</th>\n",
       "      <th>cleaned_text</th>\n",
       "      <th>pubs</th>\n",
       "      <th>people</th>\n",
       "    </tr>\n",
       "  </thead>\n",
       "  <tbody>\n",
       "    <tr>\n",
       "      <td>0</td>\n",
       "      <td>&lt;application.review_obj_class.ReviewObj object...</td>\n",
       "      <td>136726613</td>\n",
       "      <td>LITERARY NOTES. -The Chautauqua department of ...</td>\n",
       "      <td>[E. P. Dutton &amp; Co., A. S. Barnes &amp; Co., Ginn,...</td>\n",
       "      <td>[Mr. Charles Dudley Warner, Mr. Vedder, Profes...</td>\n",
       "    </tr>\n",
       "    <tr>\n",
       "      <td>1</td>\n",
       "      <td>&lt;application.review_obj_class.ReviewObj object...</td>\n",
       "      <td>90142613</td>\n",
       "      <td>THE GADFLY.* DEARTH of good novels has been fe...</td>\n",
       "      <td>[The Gadfly. By E. L. VWynich. Henry Holt &amp; Co.]</td>\n",
       "      <td>[Mr. E. L. Voynich]</td>\n",
       "    </tr>\n",
       "    <tr>\n",
       "      <td>2</td>\n",
       "      <td>&lt;application.review_obj_class.ReviewObj object...</td>\n",
       "      <td>90390665</td>\n",
       "      <td>TWO READABLE NOVELS.* Miss HowAiD ' Is u' W st...</td>\n",
       "      <td>[]</td>\n",
       "      <td>[Miss HowAiD, Mrs. A. L. Wister, Princess Merc...</td>\n",
       "    </tr>\n",
       "    <tr>\n",
       "      <td>3</td>\n",
       "      <td>&lt;application.review_obj_class.ReviewObj object...</td>\n",
       "      <td>124486140</td>\n",
       "      <td>Tinl OF OF ISlPAIHAiN have long enjoyed a as o...</td>\n",
       "      <td>[]</td>\n",
       "      <td>[Dr. Atwood]</td>\n",
       "    </tr>\n",
       "    <tr>\n",
       "      <td>4</td>\n",
       "      <td>&lt;application.review_obj_class.ReviewObj object...</td>\n",
       "      <td>126315326</td>\n",
       "      <td>Cadet's HIa(ldbook. A Manual for Military Stud...</td>\n",
       "      <td>[]</td>\n",
       "      <td>[]</td>\n",
       "    </tr>\n",
       "  </tbody>\n",
       "</table>\n",
       "</div>"
      ],
      "text/plain": [
       "                                          review_obj     aps_id  \\\n",
       "0  <application.review_obj_class.ReviewObj object...  136726613   \n",
       "1  <application.review_obj_class.ReviewObj object...   90142613   \n",
       "2  <application.review_obj_class.ReviewObj object...   90390665   \n",
       "3  <application.review_obj_class.ReviewObj object...  124486140   \n",
       "4  <application.review_obj_class.ReviewObj object...  126315326   \n",
       "\n",
       "                                        cleaned_text  \\\n",
       "0  LITERARY NOTES. -The Chautauqua department of ...   \n",
       "1  THE GADFLY.* DEARTH of good novels has been fe...   \n",
       "2  TWO READABLE NOVELS.* Miss HowAiD ' Is u' W st...   \n",
       "3  Tinl OF OF ISlPAIHAiN have long enjoyed a as o...   \n",
       "4  Cadet's HIa(ldbook. A Manual for Military Stud...   \n",
       "\n",
       "                                                pubs  \\\n",
       "0  [E. P. Dutton & Co., A. S. Barnes & Co., Ginn,...   \n",
       "1   [The Gadfly. By E. L. VWynich. Henry Holt & Co.]   \n",
       "2                                                 []   \n",
       "3                                                 []   \n",
       "4                                                 []   \n",
       "\n",
       "                                              people  \n",
       "0  [Mr. Charles Dudley Warner, Mr. Vedder, Profes...  \n",
       "1                                [Mr. E. L. Voynich]  \n",
       "2  [Miss HowAiD, Mrs. A. L. Wister, Princess Merc...  \n",
       "3                                       [Dr. Atwood]  \n",
       "4                                                 []  "
      ]
     },
     "execution_count": 25,
     "metadata": {},
     "output_type": "execute_result"
    }
   ],
   "source": [
    "review_df.head()"
   ]
  },
  {
   "cell_type": "code",
   "execution_count": null,
   "metadata": {},
   "outputs": [],
   "source": []
  }
 ],
 "metadata": {
  "kernelspec": {
   "display_name": "Python 3",
   "language": "python",
   "name": "python3"
  },
  "language_info": {
   "codemirror_mode": {
    "name": "ipython",
    "version": 3
   },
   "file_extension": ".py",
   "mimetype": "text/x-python",
   "name": "python",
   "nbconvert_exporter": "python",
   "pygments_lexer": "ipython3",
   "version": "3.7.4"
  }
 },
 "nbformat": 4,
 "nbformat_minor": 2
}
