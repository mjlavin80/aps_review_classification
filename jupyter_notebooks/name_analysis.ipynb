{
 "cells": [
  {
   "cell_type": "markdown",
   "metadata": {},
   "source": [
    "# Name analysis\n",
    "### Contents:\n",
    "+ Looking through extracted PubName and PersonName objects from the sample of 50 reviews\n",
    "+ Experimenting with spaCy's NER model"
   ]
  },
  {
   "cell_type": "code",
   "execution_count": 1,
   "metadata": {},
   "outputs": [],
   "source": [
    "import sys\n",
    "sys.path.append('../')"
   ]
  },
  {
   "cell_type": "code",
   "execution_count": 2,
   "metadata": {},
   "outputs": [],
   "source": [
    "from application.name_obj_classes import PubName, PersonName"
   ]
  },
  {
   "cell_type": "code",
   "execution_count": 3,
   "metadata": {},
   "outputs": [],
   "source": [
    "from application.review_obj_class import ReviewObj"
   ]
  },
  {
   "cell_type": "code",
   "execution_count": 4,
   "metadata": {},
   "outputs": [],
   "source": [
    "import pandas as pd\n",
    "import os"
   ]
  },
  {
   "cell_type": "code",
   "execution_count": 5,
   "metadata": {},
   "outputs": [],
   "source": [
    "# loading in files\n",
    "directory = \"../../aps_reviews_50/aps_reviews/\"\n",
    "filenames = os.listdir(directory)\n",
    "txts = []\n",
    "for file in filenames:\n",
    "    with open(directory + file) as f:\n",
    "        txts.append(f.read())"
   ]
  },
  {
   "cell_type": "code",
   "execution_count": 6,
   "metadata": {},
   "outputs": [],
   "source": [
    "review_list = []\n",
    "for filename, txt in zip([x.split('.')[0] for x in filenames], txts):\n",
    "    review_list.append(ReviewObj(filename, txt))"
   ]
  },
  {
   "cell_type": "code",
   "execution_count": 8,
   "metadata": {},
   "outputs": [
    {
     "name": "stdout",
     "output_type": "stream",
     "text": [
      "['Cassell & Co.', 'E. P. Dutton & Co.', 'Thomas Y. Crowell & Co.', 'American Historical Society', 'Dunlap Society']\n",
      "[]\n",
      "[]\n",
      "[]\n",
      "[]\n",
      "['Filtlh Co']\n",
      "['KnRR & Co', 'PUBLrISHIING Co', 'American Geographical Society', 'B. LIPizxcoTr & Co', 'B. LpnIrrcorr & Co.']\n",
      "[]\n",
      "[]\n",
      "[]\n",
      "[]\n",
      "[]\n",
      "[]\n",
      "[]\n",
      "['Blakiston Co', 'Robert Clarke Co', 'Graphic Company']\n",
      "['Century Co.', 'Slead & Co.', 'B. Lippincott Co.', 'Macmillan Co.', 'Maemillall Co.']\n",
      "['Sou & Co.']\n",
      "['Macmillan & Co.', 'Mifflin & Co.']\n",
      "[]\n",
      "[]\n",
      "[]\n",
      "[]\n",
      "[]\n",
      "['B. Lippincott Co.', 'Macmillan & Co.', 'Friend Society']\n",
      "['Master House', 'Master House']\n",
      "[]\n",
      "[]\n",
      "['Funk and Wagnails Company', 'Outing Publishing Company', 'Open Court Pubpishing Co', 'Sheet Metal Publishing Company']\n",
      "['Macmillan & Co.']\n",
      "[]\n",
      "[]\n",
      "['Shakespearean Society.', 'E. P. Dutton & Co.', 'Maynard & Co.']\n",
      "['Macmillan & Co.']\n",
      "[]\n",
      "['William Wood Company', 'Treat Co', 'Lea Brothers Co']\n",
      "['Wm Wood Co Publishers']\n",
      "[]\n",
      "[]\n",
      "[]\n",
      "['The Macmillan Co.', 'E. P. Dutton & Co.']\n",
      "[]\n",
      "['CroweU & Co.', 'Browning Society']\n",
      "[]\n",
      "[]\n",
      "[]\n",
      "['The Macmillan Company']\n",
      "['Senate and House']\n",
      "[]\n",
      "[]\n",
      "['AtiSlin & Co.']\n"
     ]
    }
   ],
   "source": [
    "for x in review_list:\n",
    "    print(x.pub_names)"
   ]
  },
  {
   "cell_type": "code",
   "execution_count": 9,
   "metadata": {},
   "outputs": [],
   "source": [
    "review_df = pd.DataFrame()"
   ]
  },
  {
   "cell_type": "code",
   "execution_count": 10,
   "metadata": {},
   "outputs": [],
   "source": [
    "review_df['aps_id'] = [x.review_id for x in review_list]"
   ]
  },
  {
   "cell_type": "code",
   "execution_count": 11,
   "metadata": {},
   "outputs": [],
   "source": [
    "review_df['cleaned_text'] = [x.cleaned_text for x in review_list]"
   ]
  },
  {
   "cell_type": "code",
   "execution_count": 12,
   "metadata": {},
   "outputs": [],
   "source": [
    "review_df['cleaned_toks'] = [x.cleaned_toks for x in review_list]"
   ]
  },
  {
   "cell_type": "code",
   "execution_count": 13,
   "metadata": {},
   "outputs": [],
   "source": [
    "review_df['pubs'] = [x.pub_names for x in review_list]"
   ]
  },
  {
   "cell_type": "code",
   "execution_count": 14,
   "metadata": {},
   "outputs": [],
   "source": [
    "review_df['people'] = [x.person_names for x in review_list]"
   ]
  },
  {
   "cell_type": "code",
   "execution_count": 15,
   "metadata": {},
   "outputs": [
    {
     "data": {
      "text/html": [
       "<div>\n",
       "<style scoped>\n",
       "    .dataframe tbody tr th:only-of-type {\n",
       "        vertical-align: middle;\n",
       "    }\n",
       "\n",
       "    .dataframe tbody tr th {\n",
       "        vertical-align: top;\n",
       "    }\n",
       "\n",
       "    .dataframe thead th {\n",
       "        text-align: right;\n",
       "    }\n",
       "</style>\n",
       "<table border=\"1\" class=\"dataframe\">\n",
       "  <thead>\n",
       "    <tr style=\"text-align: right;\">\n",
       "      <th></th>\n",
       "      <th>aps_id</th>\n",
       "      <th>cleaned_text</th>\n",
       "      <th>cleaned_toks</th>\n",
       "      <th>pubs</th>\n",
       "      <th>people</th>\n",
       "    </tr>\n",
       "  </thead>\n",
       "  <tbody>\n",
       "    <tr>\n",
       "      <td>0</td>\n",
       "      <td>136726613</td>\n",
       "      <td>LITERARY NOTES.  - The Chautauqua department o...</td>\n",
       "      <td>[LITERARY, NOTES, ., -, The, Chautauqua, depar...</td>\n",
       "      <td>[Cassell &amp; Co., E. P. Dutton &amp; Co., Thomas Y. ...</td>\n",
       "      <td>[Mr. Charles Dudley Warner, Mr. Vedder, Profes...</td>\n",
       "    </tr>\n",
       "    <tr>\n",
       "      <td>1</td>\n",
       "      <td>90142613</td>\n",
       "      <td>THE GADFLY.* DEARTH of good novels has been fe...</td>\n",
       "      <td>[THE, GADFLY, ., *, DEARTH, of, good, novels, ...</td>\n",
       "      <td>[]</td>\n",
       "      <td>[Mr. E. L. Voynich]</td>\n",
       "    </tr>\n",
       "    <tr>\n",
       "      <td>2</td>\n",
       "      <td>90390665</td>\n",
       "      <td>TWO READABLE NOVELS.* Miss HowAiD ' Is u' W st...</td>\n",
       "      <td>[TWO, READABLE, NOVELS, ., *, Miss, HowAiD, ',...</td>\n",
       "      <td>[]</td>\n",
       "      <td>[Miss HowAiD, Mrs. A. L. Wister, Princess Merc...</td>\n",
       "    </tr>\n",
       "    <tr>\n",
       "      <td>3</td>\n",
       "      <td>124486140</td>\n",
       "      <td>Tinl OF OF ISlPAIHAiN have long enjoyed a as o...</td>\n",
       "      <td>[Tinl, OF, OF, ISlPAIHAiN, have, long, enjoyed...</td>\n",
       "      <td>[]</td>\n",
       "      <td>[Dr. Atwood]</td>\n",
       "    </tr>\n",
       "    <tr>\n",
       "      <td>4</td>\n",
       "      <td>126315326</td>\n",
       "      <td>Cadet's HIa(ldbook. A Manual for Military Stud...</td>\n",
       "      <td>[Cadet, 's, HIa, (, ldbook, ., A, Manual, for,...</td>\n",
       "      <td>[]</td>\n",
       "      <td>[]</td>\n",
       "    </tr>\n",
       "  </tbody>\n",
       "</table>\n",
       "</div>"
      ],
      "text/plain": [
       "      aps_id                                       cleaned_text  \\\n",
       "0  136726613  LITERARY NOTES.  - The Chautauqua department o...   \n",
       "1   90142613  THE GADFLY.* DEARTH of good novels has been fe...   \n",
       "2   90390665  TWO READABLE NOVELS.* Miss HowAiD ' Is u' W st...   \n",
       "3  124486140  Tinl OF OF ISlPAIHAiN have long enjoyed a as o...   \n",
       "4  126315326  Cadet's HIa(ldbook. A Manual for Military Stud...   \n",
       "\n",
       "                                        cleaned_toks  \\\n",
       "0  [LITERARY, NOTES, ., -, The, Chautauqua, depar...   \n",
       "1  [THE, GADFLY, ., *, DEARTH, of, good, novels, ...   \n",
       "2  [TWO, READABLE, NOVELS, ., *, Miss, HowAiD, ',...   \n",
       "3  [Tinl, OF, OF, ISlPAIHAiN, have, long, enjoyed...   \n",
       "4  [Cadet, 's, HIa, (, ldbook, ., A, Manual, for,...   \n",
       "\n",
       "                                                pubs  \\\n",
       "0  [Cassell & Co., E. P. Dutton & Co., Thomas Y. ...   \n",
       "1                                                 []   \n",
       "2                                                 []   \n",
       "3                                                 []   \n",
       "4                                                 []   \n",
       "\n",
       "                                              people  \n",
       "0  [Mr. Charles Dudley Warner, Mr. Vedder, Profes...  \n",
       "1                                [Mr. E. L. Voynich]  \n",
       "2  [Miss HowAiD, Mrs. A. L. Wister, Princess Merc...  \n",
       "3                                       [Dr. Atwood]  \n",
       "4                                                 []  "
      ]
     },
     "execution_count": 15,
     "metadata": {},
     "output_type": "execute_result"
    }
   ],
   "source": [
    "review_df.head()"
   ]
  },
  {
   "cell_type": "markdown",
   "metadata": {},
   "source": [
    "## Graphing the data"
   ]
  },
  {
   "cell_type": "code",
   "execution_count": 16,
   "metadata": {},
   "outputs": [],
   "source": [
    "import matplotlib.pyplot as plt"
   ]
  },
  {
   "cell_type": "code",
   "execution_count": 17,
   "metadata": {},
   "outputs": [
    {
     "data": {
      "text/plain": [
       "5"
      ]
     },
     "execution_count": 17,
     "metadata": {},
     "output_type": "execute_result"
    }
   ],
   "source": [
    "len(review_df.pubs[0])"
   ]
  },
  {
   "cell_type": "code",
   "execution_count": 18,
   "metadata": {},
   "outputs": [],
   "source": [
    "review_df['pub_count'] = review_df.pubs.map(len)\n",
    "review_df['person_count'] = review_df.people.map(len)"
   ]
  },
  {
   "cell_type": "code",
   "execution_count": 19,
   "metadata": {},
   "outputs": [
    {
     "data": {
      "text/html": [
       "<div>\n",
       "<style scoped>\n",
       "    .dataframe tbody tr th:only-of-type {\n",
       "        vertical-align: middle;\n",
       "    }\n",
       "\n",
       "    .dataframe tbody tr th {\n",
       "        vertical-align: top;\n",
       "    }\n",
       "\n",
       "    .dataframe thead th {\n",
       "        text-align: right;\n",
       "    }\n",
       "</style>\n",
       "<table border=\"1\" class=\"dataframe\">\n",
       "  <thead>\n",
       "    <tr style=\"text-align: right;\">\n",
       "      <th></th>\n",
       "      <th>aps_id</th>\n",
       "      <th>cleaned_text</th>\n",
       "      <th>cleaned_toks</th>\n",
       "      <th>pubs</th>\n",
       "      <th>people</th>\n",
       "      <th>pub_count</th>\n",
       "      <th>person_count</th>\n",
       "    </tr>\n",
       "  </thead>\n",
       "  <tbody>\n",
       "    <tr>\n",
       "      <td>0</td>\n",
       "      <td>136726613</td>\n",
       "      <td>LITERARY NOTES.  - The Chautauqua department o...</td>\n",
       "      <td>[LITERARY, NOTES, ., -, The, Chautauqua, depar...</td>\n",
       "      <td>[Cassell &amp; Co., E. P. Dutton &amp; Co., Thomas Y. ...</td>\n",
       "      <td>[Mr. Charles Dudley Warner, Mr. Vedder, Profes...</td>\n",
       "      <td>5</td>\n",
       "      <td>17</td>\n",
       "    </tr>\n",
       "    <tr>\n",
       "      <td>1</td>\n",
       "      <td>90142613</td>\n",
       "      <td>THE GADFLY.* DEARTH of good novels has been fe...</td>\n",
       "      <td>[THE, GADFLY, ., *, DEARTH, of, good, novels, ...</td>\n",
       "      <td>[]</td>\n",
       "      <td>[Mr. E. L. Voynich]</td>\n",
       "      <td>0</td>\n",
       "      <td>1</td>\n",
       "    </tr>\n",
       "    <tr>\n",
       "      <td>2</td>\n",
       "      <td>90390665</td>\n",
       "      <td>TWO READABLE NOVELS.* Miss HowAiD ' Is u' W st...</td>\n",
       "      <td>[TWO, READABLE, NOVELS, ., *, Miss, HowAiD, ',...</td>\n",
       "      <td>[]</td>\n",
       "      <td>[Miss HowAiD, Mrs. A. L. Wister, Princess Merc...</td>\n",
       "      <td>0</td>\n",
       "      <td>8</td>\n",
       "    </tr>\n",
       "    <tr>\n",
       "      <td>3</td>\n",
       "      <td>124486140</td>\n",
       "      <td>Tinl OF OF ISlPAIHAiN have long enjoyed a as o...</td>\n",
       "      <td>[Tinl, OF, OF, ISlPAIHAiN, have, long, enjoyed...</td>\n",
       "      <td>[]</td>\n",
       "      <td>[Dr. Atwood]</td>\n",
       "      <td>0</td>\n",
       "      <td>1</td>\n",
       "    </tr>\n",
       "    <tr>\n",
       "      <td>4</td>\n",
       "      <td>126315326</td>\n",
       "      <td>Cadet's HIa(ldbook. A Manual for Military Stud...</td>\n",
       "      <td>[Cadet, 's, HIa, (, ldbook, ., A, Manual, for,...</td>\n",
       "      <td>[]</td>\n",
       "      <td>[]</td>\n",
       "      <td>0</td>\n",
       "      <td>0</td>\n",
       "    </tr>\n",
       "  </tbody>\n",
       "</table>\n",
       "</div>"
      ],
      "text/plain": [
       "      aps_id                                       cleaned_text  \\\n",
       "0  136726613  LITERARY NOTES.  - The Chautauqua department o...   \n",
       "1   90142613  THE GADFLY.* DEARTH of good novels has been fe...   \n",
       "2   90390665  TWO READABLE NOVELS.* Miss HowAiD ' Is u' W st...   \n",
       "3  124486140  Tinl OF OF ISlPAIHAiN have long enjoyed a as o...   \n",
       "4  126315326  Cadet's HIa(ldbook. A Manual for Military Stud...   \n",
       "\n",
       "                                        cleaned_toks  \\\n",
       "0  [LITERARY, NOTES, ., -, The, Chautauqua, depar...   \n",
       "1  [THE, GADFLY, ., *, DEARTH, of, good, novels, ...   \n",
       "2  [TWO, READABLE, NOVELS, ., *, Miss, HowAiD, ',...   \n",
       "3  [Tinl, OF, OF, ISlPAIHAiN, have, long, enjoyed...   \n",
       "4  [Cadet, 's, HIa, (, ldbook, ., A, Manual, for,...   \n",
       "\n",
       "                                                pubs  \\\n",
       "0  [Cassell & Co., E. P. Dutton & Co., Thomas Y. ...   \n",
       "1                                                 []   \n",
       "2                                                 []   \n",
       "3                                                 []   \n",
       "4                                                 []   \n",
       "\n",
       "                                              people  pub_count  person_count  \n",
       "0  [Mr. Charles Dudley Warner, Mr. Vedder, Profes...          5            17  \n",
       "1                                [Mr. E. L. Voynich]          0             1  \n",
       "2  [Miss HowAiD, Mrs. A. L. Wister, Princess Merc...          0             8  \n",
       "3                                       [Dr. Atwood]          0             1  \n",
       "4                                                 []          0             0  "
      ]
     },
     "execution_count": 19,
     "metadata": {},
     "output_type": "execute_result"
    }
   ],
   "source": [
    "review_df.head()"
   ]
  },
  {
   "cell_type": "code",
   "execution_count": 20,
   "metadata": {},
   "outputs": [
    {
     "data": {
      "text/plain": [
       "<matplotlib.axes._subplots.AxesSubplot at 0x1a2727ce90>"
      ]
     },
     "execution_count": 20,
     "metadata": {},
     "output_type": "execute_result"
    },
    {
     "data": {
      "image/png": "[encoded data removed]",
      "text/plain": [
       "<Figure size 432x288 with 1 Axes>"
      ]
     },
     "metadata": {
      "needs_background": "light"
     },
     "output_type": "display_data"
    }
   ],
   "source": [
    "review_df.pub_count.plot(kind='hist', title='Number of publishers per text')"
   ]
  },
  {
   "cell_type": "code",
   "execution_count": 21,
   "metadata": {},
   "outputs": [
    {
     "data": {
      "text/plain": [
       "<matplotlib.axes._subplots.AxesSubplot at 0x1a28033fd0>"
      ]
     },
     "execution_count": 21,
     "metadata": {},
     "output_type": "execute_result"
    },
    {
     "data": {
      "image/png": "[encoded data removed]",
      "text/plain": [
       "<Figure size 432x288 with 1 Axes>"
      ]
     },
     "metadata": {
      "needs_background": "light"
     },
     "output_type": "display_data"
    }
   ],
   "source": [
    "review_df.person_count.plot(kind='hist', title='Number of people per text')"
   ]
  },
  {
   "cell_type": "code",
   "execution_count": 22,
   "metadata": {},
   "outputs": [
    {
     "data": {
      "text/plain": [
       "0     17\n",
       "6     15\n",
       "9     12\n",
       "17    12\n",
       "23    15\n",
       "31    18\n",
       "41    12\n",
       "46    40\n",
       "49    19\n",
       "Name: person_count, dtype: int64"
      ]
     },
     "execution_count": 22,
     "metadata": {},
     "output_type": "execute_result"
    }
   ],
   "source": [
    "review_df[review_df.person_count > 10].person_count"
   ]
  },
  {
   "cell_type": "code",
   "execution_count": 23,
   "metadata": {},
   "outputs": [
    {
     "data": {
      "text/plain": [
       "0     17\n",
       "6     13\n",
       "9     12\n",
       "17     9\n",
       "23    14\n",
       "31    12\n",
       "41     7\n",
       "46    11\n",
       "49    15\n",
       "Name: people, dtype: int64"
      ]
     },
     "execution_count": 23,
     "metadata": {},
     "output_type": "execute_result"
    }
   ],
   "source": [
    "review_df[review_df.person_count > 10].people.map(set).map(list).map(len)"
   ]
  },
  {
   "cell_type": "code",
   "execution_count": 24,
   "metadata": {},
   "outputs": [],
   "source": [
    "entity_df = pd.DataFrame()"
   ]
  },
  {
   "cell_type": "code",
   "execution_count": 25,
   "metadata": {},
   "outputs": [],
   "source": [
    "ents = []\n",
    "types = []\n",
    "aps_ids = []\n",
    "\n",
    "for e, l in enumerate(review_df.pubs):\n",
    "    for item in l:\n",
    "        ents.append(item)\n",
    "        types.append('pub')\n",
    "        aps_ids.append(review_df.aps_id[e])\n",
    "        \n",
    "for e, l in enumerate(review_df.people):\n",
    "    for item in l:\n",
    "        ents.append(item)\n",
    "        types.append('person')\n",
    "        aps_ids.append(review_df.aps_id[e])"
   ]
  },
  {
   "cell_type": "code",
   "execution_count": 26,
   "metadata": {},
   "outputs": [],
   "source": [
    "entity_df['entity'] = ents\n",
    "entity_df['type'] = types\n",
    "entity_df['aps_id'] = aps_ids"
   ]
  },
  {
   "cell_type": "code",
   "execution_count": 27,
   "metadata": {},
   "outputs": [
    {
     "data": {
      "text/html": [
       "<div>\n",
       "<style scoped>\n",
       "    .dataframe tbody tr th:only-of-type {\n",
       "        vertical-align: middle;\n",
       "    }\n",
       "\n",
       "    .dataframe tbody tr th {\n",
       "        vertical-align: top;\n",
       "    }\n",
       "\n",
       "    .dataframe thead th {\n",
       "        text-align: right;\n",
       "    }\n",
       "</style>\n",
       "<table border=\"1\" class=\"dataframe\">\n",
       "  <thead>\n",
       "    <tr style=\"text-align: right;\">\n",
       "      <th></th>\n",
       "      <th>entity</th>\n",
       "      <th>type</th>\n",
       "      <th>aps_id</th>\n",
       "    </tr>\n",
       "  </thead>\n",
       "  <tbody>\n",
       "    <tr>\n",
       "      <td>0</td>\n",
       "      <td>Cassell &amp; Co.</td>\n",
       "      <td>pub</td>\n",
       "      <td>136726613</td>\n",
       "    </tr>\n",
       "    <tr>\n",
       "      <td>1</td>\n",
       "      <td>E. P. Dutton &amp; Co.</td>\n",
       "      <td>pub</td>\n",
       "      <td>136726613</td>\n",
       "    </tr>\n",
       "    <tr>\n",
       "      <td>2</td>\n",
       "      <td>Thomas Y. Crowell &amp; Co.</td>\n",
       "      <td>pub</td>\n",
       "      <td>136726613</td>\n",
       "    </tr>\n",
       "    <tr>\n",
       "      <td>3</td>\n",
       "      <td>American Historical Society</td>\n",
       "      <td>pub</td>\n",
       "      <td>136726613</td>\n",
       "    </tr>\n",
       "    <tr>\n",
       "      <td>4</td>\n",
       "      <td>Dunlap Society</td>\n",
       "      <td>pub</td>\n",
       "      <td>136726613</td>\n",
       "    </tr>\n",
       "  </tbody>\n",
       "</table>\n",
       "</div>"
      ],
      "text/plain": [
       "                        entity type     aps_id\n",
       "0                Cassell & Co.  pub  136726613\n",
       "1           E. P. Dutton & Co.  pub  136726613\n",
       "2      Thomas Y. Crowell & Co.  pub  136726613\n",
       "3  American Historical Society  pub  136726613\n",
       "4               Dunlap Society  pub  136726613"
      ]
     },
     "execution_count": 27,
     "metadata": {},
     "output_type": "execute_result"
    }
   ],
   "source": [
    "entity_df.head()"
   ]
  },
  {
   "cell_type": "code",
   "execution_count": 28,
   "metadata": {},
   "outputs": [],
   "source": [
    "grouped1 = entity_df.groupby('aps_id').type.value_counts()"
   ]
  },
  {
   "cell_type": "code",
   "execution_count": 29,
   "metadata": {},
   "outputs": [
    {
     "data": {
      "text/plain": [
       "aps_id     type  \n",
       "124189638  person     4\n",
       "124190789  person     5\n",
       "           pub        5\n",
       "124196531  person     7\n",
       "124217248  person    15\n",
       "                     ..\n",
       "90313218   person    12\n",
       "90390665   person     8\n",
       "90554411   person     2\n",
       "           pub        2\n",
       "90967694   person     2\n",
       "Name: type, Length: 61, dtype: int64"
      ]
     },
     "execution_count": 29,
     "metadata": {},
     "output_type": "execute_result"
    }
   ],
   "source": [
    "grouped1"
   ]
  },
  {
   "cell_type": "code",
   "execution_count": 30,
   "metadata": {},
   "outputs": [
    {
     "data": {
      "text/plain": [
       "person    281\n",
       "pub        47\n",
       "Name: type, dtype: int64"
      ]
     },
     "execution_count": 30,
     "metadata": {},
     "output_type": "execute_result"
    }
   ],
   "source": [
    "entity_df.type.value_counts()"
   ]
  },
  {
   "cell_type": "code",
   "execution_count": 31,
   "metadata": {},
   "outputs": [],
   "source": [
    "grouped2 = entity_df.groupby('type').entity.value_counts()"
   ]
  },
  {
   "cell_type": "code",
   "execution_count": 32,
   "metadata": {},
   "outputs": [
    {
     "data": {
      "text/plain": [
       "type    entity                 \n",
       "person  Miss Barton                29\n",
       "        Dr Heitzmann                7\n",
       "        Mr. Rees                    5\n",
       "        Dean Farrar                 4\n",
       "        Dr. Lemoine                 4\n",
       "                                   ..\n",
       "pub     The Macmillan Company       1\n",
       "        Thomas Y. Crowell & Co.     1\n",
       "        Treat Co                    1\n",
       "        William Wood Company        1\n",
       "        Wm Wood Co Publishers       1\n",
       "Name: entity, Length: 239, dtype: int64"
      ]
     },
     "execution_count": 32,
     "metadata": {},
     "output_type": "execute_result"
    }
   ],
   "source": [
    "grouped2"
   ]
  },
  {
   "cell_type": "code",
   "execution_count": 33,
   "metadata": {},
   "outputs": [
    {
     "data": {
      "text/plain": [
       "<matplotlib.axes._subplots.AxesSubplot at 0x1a2816c3d0>"
      ]
     },
     "execution_count": 33,
     "metadata": {},
     "output_type": "execute_result"
    },
    {
     "data": {
      "image/png": "[encoded data removed]",
      "text/plain": [
       "<Figure size 432x288 with 1 Axes>"
      ]
     },
     "metadata": {
      "needs_background": "light"
     },
     "output_type": "display_data"
    }
   ],
   "source": [
    "entity_df[entity_df.type == 'pub'].entity.value_counts()[:10].plot(kind='bar', title='Most frequent publishers')"
   ]
  },
  {
   "cell_type": "code",
   "execution_count": null,
   "metadata": {},
   "outputs": [],
   "source": []
  },
  {
   "cell_type": "markdown",
   "metadata": {},
   "source": [
    "## Training spaCy's NER Model?\n",
    "### Refer to:\n",
    "+ https://spacy.io/usage/training#annotations\n",
    "+ https://spacy.io/usage/training#example-train-ner"
   ]
  },
  {
   "cell_type": "code",
   "execution_count": 34,
   "metadata": {},
   "outputs": [],
   "source": [
    "# here's the example training data from spacy's site\n",
    "# i'm adding this here so i can compare formatting\n",
    "TRAIN_DATA = [\n",
    "        (\"Uber blew through $1 million a week\", {\"entities\": [(0, 4, \"ORG\")]}),\n",
    "        (\"Google rebrands its business apps\", {\"entities\": [(0, 6, \"ORG\")]})]"
   ]
  },
  {
   "cell_type": "code",
   "execution_count": 35,
   "metadata": {},
   "outputs": [],
   "source": [
    "def get_entities(ReviewObj):\n",
    "    entities = []\n",
    "    for per in ReviewObj.person_names:\n",
    "        entities.append((per.review_loc[0], per.review_loc[1], \"PER_NAME\"))\n",
    "    for pub in ReviewObj.pub_names:\n",
    "        entities.append((pub.review_loc[0], pub.review_loc[1], \"PUB_NAME\"))\n",
    "    return entities"
   ]
  },
  {
   "cell_type": "code",
   "execution_count": 36,
   "metadata": {},
   "outputs": [
    {
     "name": "stdout",
     "output_type": "stream",
     "text": [
      "[(95, 120, 'PER_NAME'), (190, 200, 'PER_NAME'), (395, 419, 'PER_NAME'), (660, 673, 'PER_NAME'), (819, 832, 'PER_NAME'), (837, 848, 'PER_NAME'), (1348, 1363, 'PER_NAME'), (1620, 1640, 'PER_NAME'), (1766, 1785, 'PER_NAME'), (3707, 3718, 'PER_NAME'), (4010, 4029, 'PER_NAME'), (4149, 4174, 'PER_NAME'), (4958, 4978, 'PER_NAME'), (5237, 5280, 'PER_NAME'), (5306, 5326, 'PER_NAME'), (5416, 5427, 'PER_NAME'), (5429, 5439, 'PER_NAME'), (292, 305, 'PUB_NAME'), (578, 596, 'PUB_NAME'), (3467, 3490, 'PUB_NAME'), (3850, 3877, 'PUB_NAME'), (4875, 4889, 'PUB_NAME')]\n",
      "[(111, 128, 'PER_NAME')]\n",
      "[(22, 33, 'PER_NAME'), (689, 706, 'PER_NAME'), (3171, 3188, 'PER_NAME'), (4054, 4064, 'PER_NAME'), (4449, 4459, 'PER_NAME'), (4643, 4657, 'PER_NAME'), (6441, 6451, 'PER_NAME'), (6496, 6515, 'PER_NAME')]\n",
      "[(1320, 1330, 'PER_NAME')]\n",
      "[]\n"
     ]
    }
   ],
   "source": [
    "for x in review_list[:5]:\n",
    "    ents = get_entities(x)\n",
    "    print(ents)"
   ]
  },
  {
   "cell_type": "code",
   "execution_count": 37,
   "metadata": {},
   "outputs": [],
   "source": [
    "def make_train_data(review_obj_list):\n",
    "    train_data = []\n",
    "    for rev in review_obj_list:\n",
    "        train_data.append((rev.cleaned_text, {\"entities\": get_entities(rev)}))\n",
    "    return train_data"
   ]
  },
  {
   "cell_type": "code",
   "execution_count": 38,
   "metadata": {},
   "outputs": [],
   "source": [
    "train_data = make_train_data(review_list)"
   ]
  },
  {
   "cell_type": "code",
   "execution_count": 39,
   "metadata": {},
   "outputs": [
    {
     "name": "stderr",
     "output_type": "stream",
     "text": [
      "usage: ipykernel_launcher.py [-h] [-m None] [-o None] [-n 100]\n",
      "ipykernel_launcher.py: error: unrecognized arguments: -f /Users/eva/Library/Jupyter/runtime/kernel-e4ff99af-550b-4a93-ab70-4a8690c3b6ff.json\n"
     ]
    },
    {
     "ename": "SystemExit",
     "evalue": "2",
     "output_type": "error",
     "traceback": [
      "An exception has occurred, use %tb to see the full traceback.\n",
      "\u001b[0;31mSystemExit\u001b[0m\u001b[0;31m:\u001b[0m 2\n"
     ]
    },
    {
     "name": "stderr",
     "output_type": "stream",
     "text": [
      "/Users/eva/opt/anaconda3/lib/python3.7/site-packages/IPython/core/interactiveshell.py:3334: UserWarning: To exit: use 'exit', 'quit', or Ctrl-D.\n",
      "  warn(\"To exit: use 'exit', 'quit', or Ctrl-D.\", stacklevel=1)\n"
     ]
    }
   ],
   "source": [
    "# stealing spacy's example\n",
    "\n",
    "from __future__ import unicode_literals, print_function\n",
    "\n",
    "import plac\n",
    "import random\n",
    "from pathlib import Path\n",
    "import spacy\n",
    "from spacy.util import minibatch, compounding\n",
    "\n",
    "\n",
    "@plac.annotations(\n",
    "    model=(\"Model name. Defaults to blank 'en' model.\", \"option\", \"m\", str),\n",
    "    output_dir=(\"Optional output directory\", \"option\", \"o\", Path),\n",
    "    n_iter=(\"Number of training iterations\", \"option\", \"n\", int),\n",
    ")\n",
    "\n",
    "def main(model=None, output_dir=None, n_iter=100):\n",
    "    \"\"\"Load the model, set up the pipeline and train the entity recognizer.\"\"\"\n",
    "    if model is not None:\n",
    "        nlp = spacy.load(model)  # load existing spaCy model\n",
    "        print(\"Loaded model '%s'\" % model)\n",
    "    else:\n",
    "        nlp = spacy.blank(\"en\")  # create blank Language class\n",
    "        print(\"Created blank 'en' model\")\n",
    "\n",
    "    # create the built-in pipeline components and add them to the pipeline\n",
    "    # nlp.create_pipe works for built-ins that are registered with spaCy\n",
    "    if \"ner\" not in nlp.pipe_names:\n",
    "        ner = nlp.create_pipe(\"ner\")\n",
    "        nlp.add_pipe(ner, last=True)\n",
    "    # otherwise, get it so we can add labels\n",
    "    else:\n",
    "        ner = nlp.get_pipe(\"ner\")\n",
    "\n",
    "    # add labels\n",
    "    for _, annotations in TRAIN_DATA:\n",
    "        for ent in annotations.get(\"entities\"):\n",
    "            ner.add_label(ent[2])\n",
    "\n",
    "    # get names of other pipes to disable them during training\n",
    "    pipe_exceptions = [\"ner\", \"trf_wordpiecer\", \"trf_tok2vec\"]\n",
    "    other_pipes = [pipe for pipe in nlp.pipe_names if pipe not in pipe_exceptions]\n",
    "    with nlp.disable_pipes(*other_pipes):  # only train NER\n",
    "        # reset and initialize the weights randomly – but only if we're\n",
    "        # training a new model\n",
    "        if model is None:\n",
    "            nlp.begin_training()\n",
    "        for itn in range(n_iter):\n",
    "            random.shuffle(TRAIN_DATA)\n",
    "            losses = {}\n",
    "            # batch up the examples using spaCy's minibatch\n",
    "            batches = minibatch(train_data, size=compounding(4.0, 32.0, 1.001))\n",
    "            for batch in batches:\n",
    "                texts, annotations = zip(*batch)\n",
    "                nlp.update(\n",
    "                    texts,  # batch of texts\n",
    "                    annotations,  # batch of annotations\n",
    "                    drop=0.5,  # dropout - make it harder to memorise data\n",
    "                    losses=losses,\n",
    "                )\n",
    "            print(\"Losses\", losses)\n",
    "\n",
    "    # test the trained model\n",
    "    for text, _ in TRAIN_DATA:\n",
    "        doc = nlp(text)\n",
    "        print(\"Entities\", [(ent.text, ent.label_) for ent in doc.ents])\n",
    "        print(\"Tokens\", [(t.text, t.ent_type_, t.ent_iob) for t in doc])\n",
    "\n",
    "    # save model to output directory\n",
    "    if output_dir is not None:\n",
    "        output_dir = Path(output_dir)\n",
    "        if not output_dir.exists():\n",
    "            output_dir.mkdir()\n",
    "        nlp.to_disk(output_dir)\n",
    "        print(\"Saved model to\", output_dir)\n",
    "\n",
    "        # test the saved model\n",
    "        print(\"Loading from\", output_dir)\n",
    "        nlp2 = spacy.load(output_dir)\n",
    "        for text, _ in train_data:\n",
    "            doc = nlp2(text)\n",
    "            print(\"Entities\", [(ent.text, ent.label_) for ent in doc.ents])\n",
    "            print(\"Tokens\", [(t.text, t.ent_type_, t.ent_iob) for t in doc])\n",
    "\n",
    "\n",
    "if __name__ == \"__main__\":\n",
    "    plac.call(main)"
   ]
  },
  {
   "cell_type": "code",
   "execution_count": 40,
   "metadata": {},
   "outputs": [
    {
     "ename": "SystemExit",
     "evalue": "2",
     "output_type": "error",
     "traceback": [
      "\u001b[0;31m---------------------------------------------------------------------------\u001b[0m",
      "\u001b[0;31mSystemExit\u001b[0m                                Traceback (most recent call last)",
      "\u001b[0;32m<ipython-input-39-8b03082bdb74>\u001b[0m in \u001b[0;36m<module>\u001b[0;34m\u001b[0m\n\u001b[1;32m     86\u001b[0m \u001b[0;34m\u001b[0m\u001b[0m\n\u001b[1;32m     87\u001b[0m \u001b[0;32mif\u001b[0m \u001b[0m__name__\u001b[0m \u001b[0;34m==\u001b[0m \u001b[0;34m\"__main__\"\u001b[0m\u001b[0;34m:\u001b[0m\u001b[0;34m\u001b[0m\u001b[0;34m\u001b[0m\u001b[0m\n\u001b[0;32m---> 88\u001b[0;31m     \u001b[0mplac\u001b[0m\u001b[0;34m.\u001b[0m\u001b[0mcall\u001b[0m\u001b[0;34m(\u001b[0m\u001b[0mmain\u001b[0m\u001b[0;34m)\u001b[0m\u001b[0;34m\u001b[0m\u001b[0;34m\u001b[0m\u001b[0m\n\u001b[0m",
      "\u001b[0;32m~/opt/anaconda3/lib/python3.7/site-packages/plac_core.py\u001b[0m in \u001b[0;36mcall\u001b[0;34m(obj, arglist, eager, version)\u001b[0m\n\u001b[1;32m    365\u001b[0m         parser.add_argument(\n\u001b[1;32m    366\u001b[0m             '--version', '-v', action='version', version=version)\n\u001b[0;32m--> 367\u001b[0;31m     \u001b[0mcmd\u001b[0m\u001b[0;34m,\u001b[0m \u001b[0mresult\u001b[0m \u001b[0;34m=\u001b[0m \u001b[0mparser\u001b[0m\u001b[0;34m.\u001b[0m\u001b[0mconsume\u001b[0m\u001b[0;34m(\u001b[0m\u001b[0marglist\u001b[0m\u001b[0;34m)\u001b[0m\u001b[0;34m\u001b[0m\u001b[0;34m\u001b[0m\u001b[0m\n\u001b[0m\u001b[1;32m    368\u001b[0m     \u001b[0;32mif\u001b[0m \u001b[0miterable\u001b[0m\u001b[0;34m(\u001b[0m\u001b[0mresult\u001b[0m\u001b[0;34m)\u001b[0m \u001b[0;32mand\u001b[0m \u001b[0meager\u001b[0m\u001b[0;34m:\u001b[0m  \u001b[0;31m# listify the result\u001b[0m\u001b[0;34m\u001b[0m\u001b[0;34m\u001b[0m\u001b[0m\n\u001b[1;32m    369\u001b[0m         \u001b[0;32mreturn\u001b[0m \u001b[0mlist\u001b[0m\u001b[0;34m(\u001b[0m\u001b[0mresult\u001b[0m\u001b[0;34m)\u001b[0m\u001b[0;34m\u001b[0m\u001b[0;34m\u001b[0m\u001b[0m\n",
      "\u001b[0;32m~/opt/anaconda3/lib/python3.7/site-packages/plac_core.py\u001b[0m in \u001b[0;36mconsume\u001b[0;34m(self, args)\u001b[0m\n\u001b[1;32m    206\u001b[0m             \u001b[0mns\u001b[0m\u001b[0;34m,\u001b[0m \u001b[0mextraopts\u001b[0m \u001b[0;34m=\u001b[0m \u001b[0mself\u001b[0m\u001b[0;34m.\u001b[0m\u001b[0mparse_known_args\u001b[0m\u001b[0;34m(\u001b[0m\u001b[0marglist\u001b[0m\u001b[0;34m)\u001b[0m\u001b[0;34m\u001b[0m\u001b[0;34m\u001b[0m\u001b[0m\n\u001b[1;32m    207\u001b[0m         \u001b[0;32melse\u001b[0m\u001b[0;34m:\u001b[0m\u001b[0;34m\u001b[0m\u001b[0;34m\u001b[0m\u001b[0m\n\u001b[0;32m--> 208\u001b[0;31m             \u001b[0mns\u001b[0m\u001b[0;34m,\u001b[0m \u001b[0mextraopts\u001b[0m \u001b[0;34m=\u001b[0m \u001b[0mself\u001b[0m\u001b[0;34m.\u001b[0m\u001b[0mparse_args\u001b[0m\u001b[0;34m(\u001b[0m\u001b[0marglist\u001b[0m\u001b[0;34m)\u001b[0m\u001b[0;34m,\u001b[0m \u001b[0;34m[\u001b[0m\u001b[0;34m]\u001b[0m  \u001b[0;31m# may raise an exit\u001b[0m\u001b[0;34m\u001b[0m\u001b[0;34m\u001b[0m\u001b[0m\n\u001b[0m\u001b[1;32m    209\u001b[0m         \u001b[0;32mif\u001b[0m \u001b[0;32mnot\u001b[0m \u001b[0mhasattr\u001b[0m\u001b[0;34m(\u001b[0m\u001b[0mself\u001b[0m\u001b[0;34m,\u001b[0m \u001b[0;34m'argspec'\u001b[0m\u001b[0;34m)\u001b[0m\u001b[0;34m:\u001b[0m\u001b[0;34m\u001b[0m\u001b[0;34m\u001b[0m\u001b[0m\n\u001b[1;32m    210\u001b[0m             \u001b[0;32mraise\u001b[0m \u001b[0mSystemExit\u001b[0m\u001b[0;34m\u001b[0m\u001b[0;34m\u001b[0m\u001b[0m\n",
      "\u001b[0;32m~/opt/anaconda3/lib/python3.7/argparse.py\u001b[0m in \u001b[0;36mparse_args\u001b[0;34m(self, args, namespace)\u001b[0m\n\u001b[1;32m   1750\u001b[0m         \u001b[0;32mif\u001b[0m \u001b[0margv\u001b[0m\u001b[0;34m:\u001b[0m\u001b[0;34m\u001b[0m\u001b[0;34m\u001b[0m\u001b[0m\n\u001b[1;32m   1751\u001b[0m             \u001b[0mmsg\u001b[0m \u001b[0;34m=\u001b[0m \u001b[0m_\u001b[0m\u001b[0;34m(\u001b[0m\u001b[0;34m'unrecognized arguments: %s'\u001b[0m\u001b[0;34m)\u001b[0m\u001b[0;34m\u001b[0m\u001b[0;34m\u001b[0m\u001b[0m\n\u001b[0;32m-> 1752\u001b[0;31m             \u001b[0mself\u001b[0m\u001b[0;34m.\u001b[0m\u001b[0merror\u001b[0m\u001b[0;34m(\u001b[0m\u001b[0mmsg\u001b[0m \u001b[0;34m%\u001b[0m \u001b[0;34m' '\u001b[0m\u001b[0;34m.\u001b[0m\u001b[0mjoin\u001b[0m\u001b[0;34m(\u001b[0m\u001b[0margv\u001b[0m\u001b[0;34m)\u001b[0m\u001b[0;34m)\u001b[0m\u001b[0;34m\u001b[0m\u001b[0;34m\u001b[0m\u001b[0m\n\u001b[0m\u001b[1;32m   1753\u001b[0m         \u001b[0;32mreturn\u001b[0m \u001b[0margs\u001b[0m\u001b[0;34m\u001b[0m\u001b[0;34m\u001b[0m\u001b[0m\n\u001b[1;32m   1754\u001b[0m \u001b[0;34m\u001b[0m\u001b[0m\n",
      "\u001b[0;32m~/opt/anaconda3/lib/python3.7/argparse.py\u001b[0m in \u001b[0;36merror\u001b[0;34m(self, message)\u001b[0m\n\u001b[1;32m   2499\u001b[0m         \u001b[0mself\u001b[0m\u001b[0;34m.\u001b[0m\u001b[0mprint_usage\u001b[0m\u001b[0;34m(\u001b[0m\u001b[0m_sys\u001b[0m\u001b[0;34m.\u001b[0m\u001b[0mstderr\u001b[0m\u001b[0;34m)\u001b[0m\u001b[0;34m\u001b[0m\u001b[0;34m\u001b[0m\u001b[0m\n\u001b[1;32m   2500\u001b[0m         \u001b[0margs\u001b[0m \u001b[0;34m=\u001b[0m \u001b[0;34m{\u001b[0m\u001b[0;34m'prog'\u001b[0m\u001b[0;34m:\u001b[0m \u001b[0mself\u001b[0m\u001b[0;34m.\u001b[0m\u001b[0mprog\u001b[0m\u001b[0;34m,\u001b[0m \u001b[0;34m'message'\u001b[0m\u001b[0;34m:\u001b[0m \u001b[0mmessage\u001b[0m\u001b[0;34m}\u001b[0m\u001b[0;34m\u001b[0m\u001b[0;34m\u001b[0m\u001b[0m\n\u001b[0;32m-> 2501\u001b[0;31m         \u001b[0mself\u001b[0m\u001b[0;34m.\u001b[0m\u001b[0mexit\u001b[0m\u001b[0;34m(\u001b[0m\u001b[0;36m2\u001b[0m\u001b[0;34m,\u001b[0m \u001b[0m_\u001b[0m\u001b[0;34m(\u001b[0m\u001b[0;34m'%(prog)s: error: %(message)s\\n'\u001b[0m\u001b[0;34m)\u001b[0m \u001b[0;34m%\u001b[0m \u001b[0margs\u001b[0m\u001b[0;34m)\u001b[0m\u001b[0;34m\u001b[0m\u001b[0;34m\u001b[0m\u001b[0m\n\u001b[0m",
      "\u001b[0;32m~/opt/anaconda3/lib/python3.7/argparse.py\u001b[0m in \u001b[0;36mexit\u001b[0;34m(self, status, message)\u001b[0m\n\u001b[1;32m   2486\u001b[0m         \u001b[0;32mif\u001b[0m \u001b[0mmessage\u001b[0m\u001b[0;34m:\u001b[0m\u001b[0;34m\u001b[0m\u001b[0;34m\u001b[0m\u001b[0m\n\u001b[1;32m   2487\u001b[0m             \u001b[0mself\u001b[0m\u001b[0;34m.\u001b[0m\u001b[0m_print_message\u001b[0m\u001b[0;34m(\u001b[0m\u001b[0mmessage\u001b[0m\u001b[0;34m,\u001b[0m \u001b[0m_sys\u001b[0m\u001b[0;34m.\u001b[0m\u001b[0mstderr\u001b[0m\u001b[0;34m)\u001b[0m\u001b[0;34m\u001b[0m\u001b[0;34m\u001b[0m\u001b[0m\n\u001b[0;32m-> 2488\u001b[0;31m         \u001b[0m_sys\u001b[0m\u001b[0;34m.\u001b[0m\u001b[0mexit\u001b[0m\u001b[0;34m(\u001b[0m\u001b[0mstatus\u001b[0m\u001b[0;34m)\u001b[0m\u001b[0;34m\u001b[0m\u001b[0;34m\u001b[0m\u001b[0m\n\u001b[0m\u001b[1;32m   2489\u001b[0m \u001b[0;34m\u001b[0m\u001b[0m\n\u001b[1;32m   2490\u001b[0m     \u001b[0;32mdef\u001b[0m \u001b[0merror\u001b[0m\u001b[0;34m(\u001b[0m\u001b[0mself\u001b[0m\u001b[0;34m,\u001b[0m \u001b[0mmessage\u001b[0m\u001b[0;34m)\u001b[0m\u001b[0;34m:\u001b[0m\u001b[0;34m\u001b[0m\u001b[0;34m\u001b[0m\u001b[0m\n",
      "\u001b[0;31mSystemExit\u001b[0m: 2"
     ]
    }
   ],
   "source": [
    "%tb"
   ]
  },
  {
   "cell_type": "code",
   "execution_count": 41,
   "metadata": {},
   "outputs": [],
   "source": [
    "# ok, that didn't work. trying their simpler example for all NLP\n",
    "nlp = spacy.blank(\"en\")\n",
    "optimizer = nlp.begin_training()\n",
    "for i in range(20):\n",
    "    random.shuffle(train_data)\n",
    "    for text, annotations in train_data:\n",
    "        nlp.update([text], [annotations], sgd=optimizer)"
   ]
  },
  {
   "cell_type": "code",
   "execution_count": 44,
   "metadata": {},
   "outputs": [
    {
     "data": {
      "text/plain": [
       "('Bericht die neuere Literatur zur deutschen Landeskunde. (Bd. III, 1902 Und 1903). Von Prof. Dr. Alfred Hirchhoffund Prof. Dr. Willi Ule. v and 230 pp., Ferdinand Hirt, Breslau, i9o6. (, M. 7.50.) Bibliographies of German geographical literature and map products are of especial value to geographers, because Germany has still so much to teach the rest of the world as to the content of geography and the methods of using geographical data in books and maps. For these reasons the third volume of this report on German geographical literature in r1o2-x9O3 will be as heartily as the earlier volumes. The contents are so classified that every literary and cartographic reference is easily found. Under nearly all the titles are a few lines of descriptive or critical matter.',\n",
       " {'entities': [(92, 115, 'PER_NAME'), (122, 135, 'PER_NAME')]})"
      ]
     },
     "execution_count": 44,
     "metadata": {},
     "output_type": "execute_result"
    }
   ],
   "source": [
    "train_data[10]"
   ]
  },
  {
   "cell_type": "code",
   "execution_count": 46,
   "metadata": {},
   "outputs": [
    {
     "name": "stdout",
     "output_type": "stream",
     "text": [
      "Entities []\n",
      "Tokens [('Bericht', '', 0), ('die', '', 0), ('neuere', '', 0), ('Literatur', '', 0), ('zur', '', 0), ('deutschen', '', 0), ('Landeskunde', '', 0), ('.', '', 0), ('(', '', 0), ('Bd', '', 0), ('.', '', 0), ('III', '', 0), (',', '', 0), ('1902', '', 0), ('Und', '', 0), ('1903', '', 0), (')', '', 0), ('.', '', 0), ('Von', '', 0), ('Prof.', '', 0), ('Dr.', '', 0), ('Alfred', '', 0), ('Hirchhoffund', '', 0), ('Prof.', '', 0), ('Dr.', '', 0), ('Willi', '', 0), ('Ule', '', 0), ('.', '', 0), ('v', '', 0), ('and', '', 0), ('230', '', 0), ('pp', '', 0), ('.', '', 0), (',', '', 0), ('Ferdinand', '', 0), ('Hirt', '', 0), (',', '', 0), ('Breslau', '', 0), (',', '', 0), ('i9o6', '', 0), ('.', '', 0), ('(', '', 0), (',', '', 0), ('M.', '', 0), ('7.50', '', 0), ('.', '', 0), (')', '', 0), ('Bibliographies', '', 0), ('of', '', 0), ('German', '', 0), ('geographical', '', 0), ('literature', '', 0), ('and', '', 0), ('map', '', 0), ('products', '', 0), ('are', '', 0), ('of', '', 0), ('especial', '', 0), ('value', '', 0), ('to', '', 0), ('geographers', '', 0), (',', '', 0), ('because', '', 0), ('Germany', '', 0), ('has', '', 0), ('still', '', 0), ('so', '', 0), ('much', '', 0), ('to', '', 0), ('teach', '', 0), ('the', '', 0), ('rest', '', 0), ('of', '', 0), ('the', '', 0), ('world', '', 0), ('as', '', 0), ('to', '', 0), ('the', '', 0), ('content', '', 0), ('of', '', 0), ('geography', '', 0), ('and', '', 0), ('the', '', 0), ('methods', '', 0), ('of', '', 0), ('using', '', 0), ('geographical', '', 0), ('data', '', 0), ('in', '', 0), ('books', '', 0), ('and', '', 0), ('maps', '', 0), ('.', '', 0), ('For', '', 0), ('these', '', 0), ('reasons', '', 0), ('the', '', 0), ('third', '', 0), ('volume', '', 0), ('of', '', 0), ('this', '', 0), ('report', '', 0), ('on', '', 0), ('German', '', 0), ('geographical', '', 0), ('literature', '', 0), ('in', '', 0), ('r1o2-x9O3', '', 0), ('will', '', 0), ('be', '', 0), ('as', '', 0), ('heartily', '', 0), ('as', '', 0), ('the', '', 0), ('earlier', '', 0), ('volumes', '', 0), ('.', '', 0), ('The', '', 0), ('contents', '', 0), ('are', '', 0), ('so', '', 0), ('classified', '', 0), ('that', '', 0), ('every', '', 0), ('literary', '', 0), ('and', '', 0), ('cartographic', '', 0), ('reference', '', 0), ('is', '', 0), ('easily', '', 0), ('found', '', 0), ('.', '', 0), ('Under', '', 0), ('nearly', '', 0), ('all', '', 0), ('the', '', 0), ('titles', '', 0), ('are', '', 0), ('a', '', 0), ('few', '', 0), ('lines', '', 0), ('of', '', 0), ('descriptive', '', 0), ('or', '', 0), ('critical', '', 0), ('matter', '', 0), ('.', '', 0)]\n"
     ]
    }
   ],
   "source": [
    "for text, _ in train_data[10:11]:\n",
    "    doc = nlp(text)\n",
    "    print(\"Entities\", [(ent.text, ent.label_) for ent in doc.ents])\n",
    "    print(\"Tokens\", [(t.text, t.ent_type_, t.ent_iob) for t in doc])"
   ]
  },
  {
   "cell_type": "code",
   "execution_count": null,
   "metadata": {},
   "outputs": [],
   "source": []
  }
 ],
 "metadata": {
  "kernelspec": {
   "display_name": "Python 3",
   "language": "python",
   "name": "python3"
  },
  "language_info": {
   "codemirror_mode": {
    "name": "ipython",
    "version": 3
   },
   "file_extension": ".py",
   "mimetype": "text/x-python",
   "name": "python",
   "nbconvert_exporter": "python",
   "pygments_lexer": "ipython3",
   "version": "3.7.4"
  }
 },
 "nbformat": 4,
 "nbformat_minor": 2
}
