{
 "cells": [
  {
   "cell_type": "markdown",
   "metadata": {},
   "source": [
    "# Name analysis\n",
    "### Contents:\n",
    "+ Looking through extracted PubName and PersonName objects from the sample of 50 reviews\n",
    "+ Experimenting with spaCy's NER model"
   ]
  },
  {
   "cell_type": "code",
   "execution_count": 1,
   "metadata": {},
   "outputs": [],
   "source": [
    "import sys\n",
    "sys.path.append('../')"
   ]
  },
  {
   "cell_type": "code",
   "execution_count": 2,
   "metadata": {},
   "outputs": [],
   "source": [
    "from application.name_obj_classes import PubName, PersonName"
   ]
  },
  {
   "cell_type": "code",
   "execution_count": 3,
   "metadata": {},
   "outputs": [],
   "source": [
    "from application.review_obj_class import ReviewObj"
   ]
  },
  {
   "cell_type": "code",
   "execution_count": 4,
   "metadata": {},
   "outputs": [],
   "source": [
    "import pandas as pd\n",
    "import os"
   ]
  },
  {
   "cell_type": "code",
   "execution_count": 5,
   "metadata": {},
   "outputs": [],
   "source": [
    "# loading in files\n",
    "directory = \"../../aps_reviews_50/aps_reviews/\"\n",
    "filenames = os.listdir(directory)\n",
    "txts = []\n",
    "for file in filenames:\n",
    "    with open(directory + file) as f:\n",
    "        txts.append(f.read())"
   ]
  },
  {
   "cell_type": "code",
   "execution_count": 6,
   "metadata": {},
   "outputs": [],
   "source": [
    "review_list = []\n",
    "for filename, txt in zip([x.split('.')[0] for x in filenames], txts):\n",
    "    review_list.append(ReviewObj(filename, txt))"
   ]
  },
  {
   "cell_type": "code",
   "execution_count": 7,
   "metadata": {},
   "outputs": [
    {
     "name": "stdout",
     "output_type": "stream",
     "text": [
      "['Cassell & Co.', 'E. P. Dutton & Co.', 'Thomas Y. Crowell & Co.', 'American Historical Society', 'Dunlap Society']\n",
      "[]\n",
      "[]\n",
      "[]\n",
      "[]\n",
      "['Filtlh Co']\n",
      "['KnRR & Co', 'PUBLrISHIING Co', 'American Geographical Society', 'B. LIPizxcoTr & Co', 'B. LpnIrrcorr & Co.']\n",
      "[]\n",
      "[]\n",
      "[]\n",
      "[]\n",
      "[]\n",
      "[]\n",
      "[]\n",
      "['Blakiston Co', 'Robert Clarke Co', 'Graphic Company']\n",
      "['Century Co.', 'Slead & Co.', 'B. Lippincott Co.', 'Macmillan Co.', 'Maemillall Co.']\n",
      "['Sou & Co.']\n",
      "['Macmillan & Co.', 'Mifflin & Co.']\n",
      "[]\n",
      "[]\n",
      "[]\n",
      "[]\n",
      "[]\n",
      "['B. Lippincott Co.', 'Macmillan & Co.', 'Friend Society']\n",
      "['Master House', 'Master House']\n",
      "[]\n",
      "[]\n",
      "['Funk and Wagnails Company', 'Outing Publishing', 'Outing Publishing Company', 'Open Court Pubpishing Co', 'Sheet Metal Publishing', 'Sheet Metal Publishing Company']\n",
      "['Macmillan & Co.']\n",
      "[]\n",
      "[]\n",
      "['Shakespearean Society.', 'E. P. Dutton & Co.', 'Maynard & Co.']\n",
      "['Macmillan & Co.']\n",
      "[]\n",
      "['William Wood Company', 'Treat Co', 'Lea Brothers Co']\n",
      "['Wm Wood Co', 'Wm Wood Co Publishers']\n",
      "[]\n",
      "[]\n",
      "[]\n",
      "['The Macmillan Co.', 'E. P. Dutton & Co.']\n",
      "[]\n",
      "['CroweU & Co.', 'Browning Society']\n",
      "[]\n",
      "[]\n",
      "[]\n",
      "['The Macmillan Company']\n",
      "['Senate and House']\n",
      "[]\n",
      "[]\n",
      "['AtiSlin & Co.']\n"
     ]
    }
   ],
   "source": [
    "for x in review_list:\n",
    "    print(x.pub_names)"
   ]
  },
  {
   "cell_type": "code",
   "execution_count": 8,
   "metadata": {},
   "outputs": [],
   "source": [
    "review_df = pd.DataFrame()"
   ]
  },
  {
   "cell_type": "code",
   "execution_count": 9,
   "metadata": {},
   "outputs": [],
   "source": [
    "review_df['aps_id'] = [x.review_id for x in review_list]"
   ]
  },
  {
   "cell_type": "code",
   "execution_count": 10,
   "metadata": {},
   "outputs": [],
   "source": [
    "review_df['cleaned_text'] = [x.cleaned_text for x in review_list]"
   ]
  },
  {
   "cell_type": "code",
   "execution_count": 11,
   "metadata": {},
   "outputs": [],
   "source": [
    "review_df['cleaned_toks'] = [x.cleaned_toks for x in review_list]"
   ]
  },
  {
   "cell_type": "code",
   "execution_count": 12,
   "metadata": {},
   "outputs": [],
   "source": [
    "review_df['pubs'] = [x.pub_names for x in review_list]"
   ]
  },
  {
   "cell_type": "code",
   "execution_count": 13,
   "metadata": {},
   "outputs": [],
   "source": [
    "review_df['people'] = [x.person_names for x in review_list]"
   ]
  },
  {
   "cell_type": "code",
   "execution_count": 14,
   "metadata": {},
   "outputs": [
    {
     "data": {
      "text/html": [
       "<div>\n",
       "<style scoped>\n",
       "    .dataframe tbody tr th:only-of-type {\n",
       "        vertical-align: middle;\n",
       "    }\n",
       "\n",
       "    .dataframe tbody tr th {\n",
       "        vertical-align: top;\n",
       "    }\n",
       "\n",
       "    .dataframe thead th {\n",
       "        text-align: right;\n",
       "    }\n",
       "</style>\n",
       "<table border=\"1\" class=\"dataframe\">\n",
       "  <thead>\n",
       "    <tr style=\"text-align: right;\">\n",
       "      <th></th>\n",
       "      <th>aps_id</th>\n",
       "      <th>cleaned_text</th>\n",
       "      <th>cleaned_toks</th>\n",
       "      <th>pubs</th>\n",
       "      <th>people</th>\n",
       "    </tr>\n",
       "  </thead>\n",
       "  <tbody>\n",
       "    <tr>\n",
       "      <td>0</td>\n",
       "      <td>136726613</td>\n",
       "      <td>LITERARY NOTES.  - The Chautauqua department o...</td>\n",
       "      <td>[LITERARY, NOTES, ., -, The, Chautauqua, depar...</td>\n",
       "      <td>[Cassell &amp; Co., E. P. Dutton &amp; Co., Thomas Y. ...</td>\n",
       "      <td>[Mr. Charles Dudley Warner, Mr. Vedder, Profes...</td>\n",
       "    </tr>\n",
       "    <tr>\n",
       "      <td>1</td>\n",
       "      <td>90142613</td>\n",
       "      <td>THE GADFLY.* DEARTH of good novels has been fe...</td>\n",
       "      <td>[THE, GADFLY, ., *, DEARTH, of, good, novels, ...</td>\n",
       "      <td>[]</td>\n",
       "      <td>[Mr. E. L. Voynich]</td>\n",
       "    </tr>\n",
       "    <tr>\n",
       "      <td>2</td>\n",
       "      <td>90390665</td>\n",
       "      <td>TWO READABLE NOVELS.* Miss HowAiD ' Is u' W st...</td>\n",
       "      <td>[TWO, READABLE, NOVELS, ., *, Miss, HowAiD, ',...</td>\n",
       "      <td>[]</td>\n",
       "      <td>[Miss HowAiD, Mrs. A. L. Wister, Princess Merc...</td>\n",
       "    </tr>\n",
       "    <tr>\n",
       "      <td>3</td>\n",
       "      <td>124486140</td>\n",
       "      <td>Tinl OF OF ISlPAIHAiN have long enjoyed a as o...</td>\n",
       "      <td>[Tinl, OF, OF, ISlPAIHAiN, have, long, enjoyed...</td>\n",
       "      <td>[]</td>\n",
       "      <td>[Dr. Atwood]</td>\n",
       "    </tr>\n",
       "    <tr>\n",
       "      <td>4</td>\n",
       "      <td>126315326</td>\n",
       "      <td>Cadet's HIa(ldbook. A Manual for Military Stud...</td>\n",
       "      <td>[Cadet, 's, HIa, (, ldbook, ., A, Manual, for,...</td>\n",
       "      <td>[]</td>\n",
       "      <td>[]</td>\n",
       "    </tr>\n",
       "  </tbody>\n",
       "</table>\n",
       "</div>"
      ],
      "text/plain": [
       "      aps_id                                       cleaned_text  \\\n",
       "0  136726613  LITERARY NOTES.  - The Chautauqua department o...   \n",
       "1   90142613  THE GADFLY.* DEARTH of good novels has been fe...   \n",
       "2   90390665  TWO READABLE NOVELS.* Miss HowAiD ' Is u' W st...   \n",
       "3  124486140  Tinl OF OF ISlPAIHAiN have long enjoyed a as o...   \n",
       "4  126315326  Cadet's HIa(ldbook. A Manual for Military Stud...   \n",
       "\n",
       "                                        cleaned_toks  \\\n",
       "0  [LITERARY, NOTES, ., -, The, Chautauqua, depar...   \n",
       "1  [THE, GADFLY, ., *, DEARTH, of, good, novels, ...   \n",
       "2  [TWO, READABLE, NOVELS, ., *, Miss, HowAiD, ',...   \n",
       "3  [Tinl, OF, OF, ISlPAIHAiN, have, long, enjoyed...   \n",
       "4  [Cadet, 's, HIa, (, ldbook, ., A, Manual, for,...   \n",
       "\n",
       "                                                pubs  \\\n",
       "0  [Cassell & Co., E. P. Dutton & Co., Thomas Y. ...   \n",
       "1                                                 []   \n",
       "2                                                 []   \n",
       "3                                                 []   \n",
       "4                                                 []   \n",
       "\n",
       "                                              people  \n",
       "0  [Mr. Charles Dudley Warner, Mr. Vedder, Profes...  \n",
       "1                                [Mr. E. L. Voynich]  \n",
       "2  [Miss HowAiD, Mrs. A. L. Wister, Princess Merc...  \n",
       "3                                       [Dr. Atwood]  \n",
       "4                                                 []  "
      ]
     },
     "execution_count": 14,
     "metadata": {},
     "output_type": "execute_result"
    }
   ],
   "source": [
    "review_df.head()"
   ]
  },
  {
   "cell_type": "markdown",
   "metadata": {},
   "source": [
    "## Graphing the data"
   ]
  },
  {
   "cell_type": "code",
   "execution_count": 15,
   "metadata": {},
   "outputs": [],
   "source": [
    "import matplotlib.pyplot as plt"
   ]
  },
  {
   "cell_type": "code",
   "execution_count": 16,
   "metadata": {},
   "outputs": [
    {
     "data": {
      "text/plain": [
       "5"
      ]
     },
     "execution_count": 16,
     "metadata": {},
     "output_type": "execute_result"
    }
   ],
   "source": [
    "len(review_df.pubs[0])"
   ]
  },
  {
   "cell_type": "code",
   "execution_count": 17,
   "metadata": {},
   "outputs": [],
   "source": [
    "review_df['pub_count'] = review_df.pubs.map(len)\n",
    "review_df['person_count'] = review_df.people.map(len)"
   ]
  },
  {
   "cell_type": "code",
   "execution_count": 18,
   "metadata": {},
   "outputs": [
    {
     "data": {
      "text/html": [
       "<div>\n",
       "<style scoped>\n",
       "    .dataframe tbody tr th:only-of-type {\n",
       "        vertical-align: middle;\n",
       "    }\n",
       "\n",
       "    .dataframe tbody tr th {\n",
       "        vertical-align: top;\n",
       "    }\n",
       "\n",
       "    .dataframe thead th {\n",
       "        text-align: right;\n",
       "    }\n",
       "</style>\n",
       "<table border=\"1\" class=\"dataframe\">\n",
       "  <thead>\n",
       "    <tr style=\"text-align: right;\">\n",
       "      <th></th>\n",
       "      <th>aps_id</th>\n",
       "      <th>cleaned_text</th>\n",
       "      <th>cleaned_toks</th>\n",
       "      <th>pubs</th>\n",
       "      <th>people</th>\n",
       "      <th>pub_count</th>\n",
       "      <th>person_count</th>\n",
       "    </tr>\n",
       "  </thead>\n",
       "  <tbody>\n",
       "    <tr>\n",
       "      <td>0</td>\n",
       "      <td>136726613</td>\n",
       "      <td>LITERARY NOTES.  - The Chautauqua department o...</td>\n",
       "      <td>[LITERARY, NOTES, ., -, The, Chautauqua, depar...</td>\n",
       "      <td>[Cassell &amp; Co., E. P. Dutton &amp; Co., Thomas Y. ...</td>\n",
       "      <td>[Mr. Charles Dudley Warner, Mr. Vedder, Profes...</td>\n",
       "      <td>5</td>\n",
       "      <td>17</td>\n",
       "    </tr>\n",
       "    <tr>\n",
       "      <td>1</td>\n",
       "      <td>90142613</td>\n",
       "      <td>THE GADFLY.* DEARTH of good novels has been fe...</td>\n",
       "      <td>[THE, GADFLY, ., *, DEARTH, of, good, novels, ...</td>\n",
       "      <td>[]</td>\n",
       "      <td>[Mr. E. L. Voynich]</td>\n",
       "      <td>0</td>\n",
       "      <td>1</td>\n",
       "    </tr>\n",
       "    <tr>\n",
       "      <td>2</td>\n",
       "      <td>90390665</td>\n",
       "      <td>TWO READABLE NOVELS.* Miss HowAiD ' Is u' W st...</td>\n",
       "      <td>[TWO, READABLE, NOVELS, ., *, Miss, HowAiD, ',...</td>\n",
       "      <td>[]</td>\n",
       "      <td>[Miss HowAiD, Mrs. A. L. Wister, Princess Merc...</td>\n",
       "      <td>0</td>\n",
       "      <td>8</td>\n",
       "    </tr>\n",
       "    <tr>\n",
       "      <td>3</td>\n",
       "      <td>124486140</td>\n",
       "      <td>Tinl OF OF ISlPAIHAiN have long enjoyed a as o...</td>\n",
       "      <td>[Tinl, OF, OF, ISlPAIHAiN, have, long, enjoyed...</td>\n",
       "      <td>[]</td>\n",
       "      <td>[Dr. Atwood]</td>\n",
       "      <td>0</td>\n",
       "      <td>1</td>\n",
       "    </tr>\n",
       "    <tr>\n",
       "      <td>4</td>\n",
       "      <td>126315326</td>\n",
       "      <td>Cadet's HIa(ldbook. A Manual for Military Stud...</td>\n",
       "      <td>[Cadet, 's, HIa, (, ldbook, ., A, Manual, for,...</td>\n",
       "      <td>[]</td>\n",
       "      <td>[]</td>\n",
       "      <td>0</td>\n",
       "      <td>0</td>\n",
       "    </tr>\n",
       "  </tbody>\n",
       "</table>\n",
       "</div>"
      ],
      "text/plain": [
       "      aps_id                                       cleaned_text  \\\n",
       "0  136726613  LITERARY NOTES.  - The Chautauqua department o...   \n",
       "1   90142613  THE GADFLY.* DEARTH of good novels has been fe...   \n",
       "2   90390665  TWO READABLE NOVELS.* Miss HowAiD ' Is u' W st...   \n",
       "3  124486140  Tinl OF OF ISlPAIHAiN have long enjoyed a as o...   \n",
       "4  126315326  Cadet's HIa(ldbook. A Manual for Military Stud...   \n",
       "\n",
       "                                        cleaned_toks  \\\n",
       "0  [LITERARY, NOTES, ., -, The, Chautauqua, depar...   \n",
       "1  [THE, GADFLY, ., *, DEARTH, of, good, novels, ...   \n",
       "2  [TWO, READABLE, NOVELS, ., *, Miss, HowAiD, ',...   \n",
       "3  [Tinl, OF, OF, ISlPAIHAiN, have, long, enjoyed...   \n",
       "4  [Cadet, 's, HIa, (, ldbook, ., A, Manual, for,...   \n",
       "\n",
       "                                                pubs  \\\n",
       "0  [Cassell & Co., E. P. Dutton & Co., Thomas Y. ...   \n",
       "1                                                 []   \n",
       "2                                                 []   \n",
       "3                                                 []   \n",
       "4                                                 []   \n",
       "\n",
       "                                              people  pub_count  person_count  \n",
       "0  [Mr. Charles Dudley Warner, Mr. Vedder, Profes...          5            17  \n",
       "1                                [Mr. E. L. Voynich]          0             1  \n",
       "2  [Miss HowAiD, Mrs. A. L. Wister, Princess Merc...          0             8  \n",
       "3                                       [Dr. Atwood]          0             1  \n",
       "4                                                 []          0             0  "
      ]
     },
     "execution_count": 18,
     "metadata": {},
     "output_type": "execute_result"
    }
   ],
   "source": [
    "review_df.head()"
   ]
  },
  {
   "cell_type": "code",
   "execution_count": 19,
   "metadata": {},
   "outputs": [
    {
     "data": {
      "text/plain": [
       "<matplotlib.axes._subplots.AxesSubplot at 0x1a363589d0>"
      ]
     },
     "execution_count": 19,
     "metadata": {},
     "output_type": "execute_result"
    },
    {
     "data": {
      "image/png": "[encoded data removed]",
      "text/plain": [
       "<Figure size 432x288 with 1 Axes>"
      ]
     },
     "metadata": {
      "needs_background": "light"
     },
     "output_type": "display_data"
    }
   ],
   "source": [
    "review_df.pub_count.plot(kind='hist', title='Number of publishers per text')"
   ]
  },
  {
   "cell_type": "code",
   "execution_count": 20,
   "metadata": {},
   "outputs": [
    {
     "data": {
      "text/plain": [
       "<matplotlib.axes._subplots.AxesSubplot at 0x1a36ae5550>"
      ]
     },
     "execution_count": 20,
     "metadata": {},
     "output_type": "execute_result"
    },
    {
     "data": {
      "image/png": "[encoded data removed]",
      "text/plain": [
       "<Figure size 432x288 with 1 Axes>"
      ]
     },
     "metadata": {
      "needs_background": "light"
     },
     "output_type": "display_data"
    }
   ],
   "source": [
    "review_df.person_count.plot(kind='hist', title='Number of people per text')"
   ]
  },
  {
   "cell_type": "code",
   "execution_count": 21,
   "metadata": {},
   "outputs": [
    {
     "data": {
      "text/plain": [
       "0     17\n",
       "6     15\n",
       "9     12\n",
       "17    12\n",
       "23    15\n",
       "31    18\n",
       "41    12\n",
       "46    40\n",
       "49    19\n",
       "Name: person_count, dtype: int64"
      ]
     },
     "execution_count": 21,
     "metadata": {},
     "output_type": "execute_result"
    }
   ],
   "source": [
    "review_df[review_df.person_count > 10].person_count"
   ]
  },
  {
   "cell_type": "code",
   "execution_count": 22,
   "metadata": {},
   "outputs": [
    {
     "data": {
      "text/plain": [
       "0     17\n",
       "6     13\n",
       "9     12\n",
       "17     9\n",
       "23    14\n",
       "31    12\n",
       "41     7\n",
       "46    11\n",
       "49    15\n",
       "Name: people, dtype: int64"
      ]
     },
     "execution_count": 22,
     "metadata": {},
     "output_type": "execute_result"
    }
   ],
   "source": [
    "review_df[review_df.person_count > 10].people.map(set).map(list).map(len)"
   ]
  },
  {
   "cell_type": "code",
   "execution_count": 23,
   "metadata": {},
   "outputs": [],
   "source": [
    "entity_df = pd.DataFrame()"
   ]
  },
  {
   "cell_type": "code",
   "execution_count": 24,
   "metadata": {},
   "outputs": [],
   "source": [
    "ents = []\n",
    "types = []\n",
    "aps_ids = []\n",
    "\n",
    "for e, l in enumerate(review_df.pubs):\n",
    "    for item in l:\n",
    "        ents.append(item)\n",
    "        types.append('pub')\n",
    "        aps_ids.append(review_df.aps_id[e])\n",
    "        \n",
    "for e, l in enumerate(review_df.people):\n",
    "    for item in l:\n",
    "        ents.append(item)\n",
    "        types.append('person')\n",
    "        aps_ids.append(review_df.aps_id[e])"
   ]
  },
  {
   "cell_type": "code",
   "execution_count": 25,
   "metadata": {},
   "outputs": [],
   "source": [
    "entity_df['entity'] = ents\n",
    "entity_df['type'] = types\n",
    "entity_df['aps_id'] = aps_ids"
   ]
  },
  {
   "cell_type": "code",
   "execution_count": 26,
   "metadata": {},
   "outputs": [
    {
     "data": {
      "text/html": [
       "<div>\n",
       "<style scoped>\n",
       "    .dataframe tbody tr th:only-of-type {\n",
       "        vertical-align: middle;\n",
       "    }\n",
       "\n",
       "    .dataframe tbody tr th {\n",
       "        vertical-align: top;\n",
       "    }\n",
       "\n",
       "    .dataframe thead th {\n",
       "        text-align: right;\n",
       "    }\n",
       "</style>\n",
       "<table border=\"1\" class=\"dataframe\">\n",
       "  <thead>\n",
       "    <tr style=\"text-align: right;\">\n",
       "      <th></th>\n",
       "      <th>entity</th>\n",
       "      <th>type</th>\n",
       "      <th>aps_id</th>\n",
       "    </tr>\n",
       "  </thead>\n",
       "  <tbody>\n",
       "    <tr>\n",
       "      <td>0</td>\n",
       "      <td>Cassell &amp; Co.</td>\n",
       "      <td>pub</td>\n",
       "      <td>136726613</td>\n",
       "    </tr>\n",
       "    <tr>\n",
       "      <td>1</td>\n",
       "      <td>E. P. Dutton &amp; Co.</td>\n",
       "      <td>pub</td>\n",
       "      <td>136726613</td>\n",
       "    </tr>\n",
       "    <tr>\n",
       "      <td>2</td>\n",
       "      <td>Thomas Y. Crowell &amp; Co.</td>\n",
       "      <td>pub</td>\n",
       "      <td>136726613</td>\n",
       "    </tr>\n",
       "    <tr>\n",
       "      <td>3</td>\n",
       "      <td>American Historical Society</td>\n",
       "      <td>pub</td>\n",
       "      <td>136726613</td>\n",
       "    </tr>\n",
       "    <tr>\n",
       "      <td>4</td>\n",
       "      <td>Dunlap Society</td>\n",
       "      <td>pub</td>\n",
       "      <td>136726613</td>\n",
       "    </tr>\n",
       "  </tbody>\n",
       "</table>\n",
       "</div>"
      ],
      "text/plain": [
       "                        entity type     aps_id\n",
       "0                Cassell & Co.  pub  136726613\n",
       "1           E. P. Dutton & Co.  pub  136726613\n",
       "2      Thomas Y. Crowell & Co.  pub  136726613\n",
       "3  American Historical Society  pub  136726613\n",
       "4               Dunlap Society  pub  136726613"
      ]
     },
     "execution_count": 26,
     "metadata": {},
     "output_type": "execute_result"
    }
   ],
   "source": [
    "entity_df.head()"
   ]
  },
  {
   "cell_type": "code",
   "execution_count": 27,
   "metadata": {},
   "outputs": [],
   "source": [
    "grouped1 = entity_df.groupby('aps_id').type.value_counts()"
   ]
  },
  {
   "cell_type": "code",
   "execution_count": 28,
   "metadata": {},
   "outputs": [
    {
     "data": {
      "text/plain": [
       "aps_id     type  \n",
       "124189638  person     4\n",
       "124190789  person     5\n",
       "           pub        5\n",
       "124196531  person     7\n",
       "124217248  person    15\n",
       "                     ..\n",
       "90313218   person    12\n",
       "90390665   person     8\n",
       "90554411   person     2\n",
       "           pub        2\n",
       "90967694   person     2\n",
       "Name: type, Length: 62, dtype: int64"
      ]
     },
     "execution_count": 28,
     "metadata": {},
     "output_type": "execute_result"
    }
   ],
   "source": [
    "grouped1"
   ]
  },
  {
   "cell_type": "code",
   "execution_count": 29,
   "metadata": {},
   "outputs": [
    {
     "data": {
      "text/plain": [
       "person    283\n",
       "pub        50\n",
       "Name: type, dtype: int64"
      ]
     },
     "execution_count": 29,
     "metadata": {},
     "output_type": "execute_result"
    }
   ],
   "source": [
    "entity_df.type.value_counts()"
   ]
  },
  {
   "cell_type": "code",
   "execution_count": 30,
   "metadata": {},
   "outputs": [],
   "source": [
    "grouped2 = entity_df.groupby('type').entity.value_counts()"
   ]
  },
  {
   "cell_type": "code",
   "execution_count": 31,
   "metadata": {},
   "outputs": [
    {
     "data": {
      "text/plain": [
       "type    entity                 \n",
       "person  Miss Barton                29\n",
       "        Dr Heitzmann                7\n",
       "        Mr. Rees                    5\n",
       "        Dean Farrar                 4\n",
       "        Dr. Lemoine                 4\n",
       "                                   ..\n",
       "pub     Thomas Y. Crowell & Co.     1\n",
       "        Treat Co                    1\n",
       "        William Wood Company        1\n",
       "        Wm Wood Co                  1\n",
       "        Wm Wood Co Publishers       1\n",
       "Name: entity, Length: 243, dtype: int64"
      ]
     },
     "execution_count": 31,
     "metadata": {},
     "output_type": "execute_result"
    }
   ],
   "source": [
    "grouped2"
   ]
  },
  {
   "cell_type": "code",
   "execution_count": 32,
   "metadata": {},
   "outputs": [
    {
     "data": {
      "text/plain": [
       "<matplotlib.axes._subplots.AxesSubplot at 0x1a36b0b710>"
      ]
     },
     "execution_count": 32,
     "metadata": {},
     "output_type": "execute_result"
    },
    {
     "data": {
      "image/png": "[encoded data removed]",
      "text/plain": [
       "<Figure size 432x288 with 1 Axes>"
      ]
     },
     "metadata": {
      "needs_background": "light"
     },
     "output_type": "display_data"
    }
   ],
   "source": [
    "entity_df[entity_df.type == 'pub'].entity.value_counts()[:10].plot(kind='bar', title='Most frequent publishers')"
   ]
  },
  {
   "cell_type": "code",
   "execution_count": null,
   "metadata": {},
   "outputs": [],
   "source": []
  },
  {
   "cell_type": "markdown",
   "metadata": {},
   "source": [
    "## Training spaCy's NER Model?\n",
    "### Refer to:\n",
    "+ https://spacy.io/usage/training#annotations\n",
    "+ https://spacy.io/usage/training#example-train-ner"
   ]
  },
  {
   "cell_type": "code",
   "execution_count": 33,
   "metadata": {},
   "outputs": [],
   "source": [
    "# here's the example training data from spacy's site\n",
    "# i'm adding this here so i can compare formatting\n",
    "TRAIN_DATA = [\n",
    "        (\"Uber blew through $1 million a week\", {\"entities\": [(0, 4, \"ORG\")]}),\n",
    "        (\"Google rebrands its business apps\", {\"entities\": [(0, 6, \"ORG\")]})]"
   ]
  },
  {
   "cell_type": "code",
   "execution_count": 43,
   "metadata": {},
   "outputs": [],
   "source": [
    "def get_entities(ReviewObj):\n",
    "    entities = []\n",
    "    for per in ReviewObj.person_names:\n",
    "        entities.append((per.review_loc[0], per.review_loc[1], \"PER_NAME\"))\n",
    "    for pub in ReviewObj.pub_names:\n",
    "        entities.append((pub.review_loc[0], pub.review_loc[1], \"PUB_NAME\"))\n",
    "    return entities"
   ]
  },
  {
   "cell_type": "code",
   "execution_count": 45,
   "metadata": {},
   "outputs": [
    {
     "name": "stdout",
     "output_type": "stream",
     "text": [
      "[(95, 120, 'PER_NAME'), (190, 200, 'PER_NAME'), (395, 419, 'PER_NAME'), (660, 673, 'PER_NAME'), (819, 832, 'PER_NAME'), (837, 848, 'PER_NAME'), (1348, 1363, 'PER_NAME'), (1620, 1640, 'PER_NAME'), (1766, 1785, 'PER_NAME'), (3707, 3718, 'PER_NAME'), (4010, 4029, 'PER_NAME'), (4149, 4174, 'PER_NAME'), (4958, 4978, 'PER_NAME'), (5237, 5280, 'PER_NAME'), (5306, 5326, 'PER_NAME'), (5416, 5427, 'PER_NAME'), (5429, 5439, 'PER_NAME'), (292, 305, 'PUB_NAME'), (578, 596, 'PUB_NAME'), (3467, 3490, 'PUB_NAME'), (3850, 3877, 'PUB_NAME'), (4875, 4889, 'PUB_NAME')]\n",
      "[(111, 128, 'PER_NAME')]\n",
      "[(22, 33, 'PER_NAME'), (689, 706, 'PER_NAME'), (3171, 3188, 'PER_NAME'), (4054, 4064, 'PER_NAME'), (4449, 4459, 'PER_NAME'), (4643, 4657, 'PER_NAME'), (6441, 6451, 'PER_NAME'), (6496, 6515, 'PER_NAME')]\n",
      "[(1320, 1330, 'PER_NAME')]\n",
      "[]\n"
     ]
    }
   ],
   "source": [
    "for x in review_list[:5]:\n",
    "    ents = get_entities(x)\n",
    "    print(ents)"
   ]
  },
  {
   "cell_type": "code",
   "execution_count": 48,
   "metadata": {},
   "outputs": [],
   "source": [
    "def make_train_data(review_obj_list):\n",
    "    train_data = []\n",
    "    for rev in review_obj_list:\n",
    "        train_data.append((rev.cleaned_text, {\"entities\": get_entities(rev)}))\n",
    "    return train_data"
   ]
  },
  {
   "cell_type": "code",
   "execution_count": 50,
   "metadata": {},
   "outputs": [],
   "source": [
    "train_data = make_train_data(review_list)"
   ]
  },
  {
   "cell_type": "code",
   "execution_count": 51,
   "metadata": {},
   "outputs": [
    {
     "name": "stderr",
     "output_type": "stream",
     "text": [
      "usage: ipykernel_launcher.py [-h] [-m None] [-o None] [-n 100]\n",
      "ipykernel_launcher.py: error: unrecognized arguments: -f /Users/eva/Library/Jupyter/runtime/kernel-e4ff99af-550b-4a93-ab70-4a8690c3b6ff.json\n"
     ]
    },
    {
     "ename": "SystemExit",
     "evalue": "2",
     "output_type": "error",
     "traceback": [
      "An exception has occurred, use %tb to see the full traceback.\n",
      "\u001b[0;31mSystemExit\u001b[0m\u001b[0;31m:\u001b[0m 2\n"
     ]
    },
    {
     "name": "stderr",
     "output_type": "stream",
     "text": [
      "/Users/eva/opt/anaconda3/lib/python3.7/site-packages/IPython/core/interactiveshell.py:3334: UserWarning: To exit: use 'exit', 'quit', or Ctrl-D.\n",
      "  warn(\"To exit: use 'exit', 'quit', or Ctrl-D.\", stacklevel=1)\n"
     ]
    }
   ],
   "source": [
    "# stealing spacy's example\n",
    "\n",
    "from __future__ import unicode_literals, print_function\n",
    "\n",
    "import plac\n",
    "import random\n",
    "from pathlib import Path\n",
    "import spacy\n",
    "from spacy.util import minibatch, compounding\n",
    "\n",
    "\n",
    "@plac.annotations(\n",
    "    model=(\"Model name. Defaults to blank 'en' model.\", \"option\", \"m\", str),\n",
    "    output_dir=(\"Optional output directory\", \"option\", \"o\", Path),\n",
    "    n_iter=(\"Number of training iterations\", \"option\", \"n\", int),\n",
    ")\n",
    "\n",
    "def main(model=None, output_dir=None, n_iter=100):\n",
    "    \"\"\"Load the model, set up the pipeline and train the entity recognizer.\"\"\"\n",
    "    if model is not None:\n",
    "        nlp = spacy.load(model)  # load existing spaCy model\n",
    "        print(\"Loaded model '%s'\" % model)\n",
    "    else:\n",
    "        nlp = spacy.blank(\"en\")  # create blank Language class\n",
    "        print(\"Created blank 'en' model\")\n",
    "\n",
    "    # create the built-in pipeline components and add them to the pipeline\n",
    "    # nlp.create_pipe works for built-ins that are registered with spaCy\n",
    "    if \"ner\" not in nlp.pipe_names:\n",
    "        ner = nlp.create_pipe(\"ner\")\n",
    "        nlp.add_pipe(ner, last=True)\n",
    "    # otherwise, get it so we can add labels\n",
    "    else:\n",
    "        ner = nlp.get_pipe(\"ner\")\n",
    "\n",
    "    # add labels\n",
    "    for _, annotations in TRAIN_DATA:\n",
    "        for ent in annotations.get(\"entities\"):\n",
    "            ner.add_label(ent[2])\n",
    "\n",
    "    # get names of other pipes to disable them during training\n",
    "    pipe_exceptions = [\"ner\", \"trf_wordpiecer\", \"trf_tok2vec\"]\n",
    "    other_pipes = [pipe for pipe in nlp.pipe_names if pipe not in pipe_exceptions]\n",
    "    with nlp.disable_pipes(*other_pipes):  # only train NER\n",
    "        # reset and initialize the weights randomly – but only if we're\n",
    "        # training a new model\n",
    "        if model is None:\n",
    "            nlp.begin_training()\n",
    "        for itn in range(n_iter):\n",
    "            random.shuffle(TRAIN_DATA)\n",
    "            losses = {}\n",
    "            # batch up the examples using spaCy's minibatch\n",
    "            batches = minibatch(train_data, size=compounding(4.0, 32.0, 1.001))\n",
    "            for batch in batches:\n",
    "                texts, annotations = zip(*batch)\n",
    "                nlp.update(\n",
    "                    texts,  # batch of texts\n",
    "                    annotations,  # batch of annotations\n",
    "                    drop=0.5,  # dropout - make it harder to memorise data\n",
    "                    losses=losses,\n",
    "                )\n",
    "            print(\"Losses\", losses)\n",
    "\n",
    "    # test the trained model\n",
    "    for text, _ in TRAIN_DATA:\n",
    "        doc = nlp(text)\n",
    "        print(\"Entities\", [(ent.text, ent.label_) for ent in doc.ents])\n",
    "        print(\"Tokens\", [(t.text, t.ent_type_, t.ent_iob) for t in doc])\n",
    "\n",
    "    # save model to output directory\n",
    "    if output_dir is not None:\n",
    "        output_dir = Path(output_dir)\n",
    "        if not output_dir.exists():\n",
    "            output_dir.mkdir()\n",
    "        nlp.to_disk(output_dir)\n",
    "        print(\"Saved model to\", output_dir)\n",
    "\n",
    "        # test the saved model\n",
    "        print(\"Loading from\", output_dir)\n",
    "        nlp2 = spacy.load(output_dir)\n",
    "        for text, _ in train_data:\n",
    "            doc = nlp2(text)\n",
    "            print(\"Entities\", [(ent.text, ent.label_) for ent in doc.ents])\n",
    "            print(\"Tokens\", [(t.text, t.ent_type_, t.ent_iob) for t in doc])\n",
    "\n",
    "\n",
    "if __name__ == \"__main__\":\n",
    "    plac.call(main)"
   ]
  },
  {
   "cell_type": "code",
   "execution_count": 52,
   "metadata": {},
   "outputs": [
    {
     "ename": "SystemExit",
     "evalue": "2",
     "output_type": "error",
     "traceback": [
      "\u001b[0;31m---------------------------------------------------------------------------\u001b[0m",
      "\u001b[0;31mSystemExit\u001b[0m                                Traceback (most recent call last)",
      "\u001b[0;32m<ipython-input-51-8b03082bdb74>\u001b[0m in \u001b[0;36m<module>\u001b[0;34m\u001b[0m\n\u001b[1;32m     86\u001b[0m \u001b[0;34m\u001b[0m\u001b[0m\n\u001b[1;32m     87\u001b[0m \u001b[0;32mif\u001b[0m \u001b[0m__name__\u001b[0m \u001b[0;34m==\u001b[0m \u001b[0;34m\"__main__\"\u001b[0m\u001b[0;34m:\u001b[0m\u001b[0;34m\u001b[0m\u001b[0;34m\u001b[0m\u001b[0m\n\u001b[0;32m---> 88\u001b[0;31m     \u001b[0mplac\u001b[0m\u001b[0;34m.\u001b[0m\u001b[0mcall\u001b[0m\u001b[0;34m(\u001b[0m\u001b[0mmain\u001b[0m\u001b[0;34m)\u001b[0m\u001b[0;34m\u001b[0m\u001b[0;34m\u001b[0m\u001b[0m\n\u001b[0m",
      "\u001b[0;32m~/opt/anaconda3/lib/python3.7/site-packages/plac_core.py\u001b[0m in \u001b[0;36mcall\u001b[0;34m(obj, arglist, eager, version)\u001b[0m\n\u001b[1;32m    365\u001b[0m         parser.add_argument(\n\u001b[1;32m    366\u001b[0m             '--version', '-v', action='version', version=version)\n\u001b[0;32m--> 367\u001b[0;31m     \u001b[0mcmd\u001b[0m\u001b[0;34m,\u001b[0m \u001b[0mresult\u001b[0m \u001b[0;34m=\u001b[0m \u001b[0mparser\u001b[0m\u001b[0;34m.\u001b[0m\u001b[0mconsume\u001b[0m\u001b[0;34m(\u001b[0m\u001b[0marglist\u001b[0m\u001b[0;34m)\u001b[0m\u001b[0;34m\u001b[0m\u001b[0;34m\u001b[0m\u001b[0m\n\u001b[0m\u001b[1;32m    368\u001b[0m     \u001b[0;32mif\u001b[0m \u001b[0miterable\u001b[0m\u001b[0;34m(\u001b[0m\u001b[0mresult\u001b[0m\u001b[0;34m)\u001b[0m \u001b[0;32mand\u001b[0m \u001b[0meager\u001b[0m\u001b[0;34m:\u001b[0m  \u001b[0;31m# listify the result\u001b[0m\u001b[0;34m\u001b[0m\u001b[0;34m\u001b[0m\u001b[0m\n\u001b[1;32m    369\u001b[0m         \u001b[0;32mreturn\u001b[0m \u001b[0mlist\u001b[0m\u001b[0;34m(\u001b[0m\u001b[0mresult\u001b[0m\u001b[0;34m)\u001b[0m\u001b[0;34m\u001b[0m\u001b[0;34m\u001b[0m\u001b[0m\n",
      "\u001b[0;32m~/opt/anaconda3/lib/python3.7/site-packages/plac_core.py\u001b[0m in \u001b[0;36mconsume\u001b[0;34m(self, args)\u001b[0m\n\u001b[1;32m    206\u001b[0m             \u001b[0mns\u001b[0m\u001b[0;34m,\u001b[0m \u001b[0mextraopts\u001b[0m \u001b[0;34m=\u001b[0m \u001b[0mself\u001b[0m\u001b[0;34m.\u001b[0m\u001b[0mparse_known_args\u001b[0m\u001b[0;34m(\u001b[0m\u001b[0marglist\u001b[0m\u001b[0;34m)\u001b[0m\u001b[0;34m\u001b[0m\u001b[0;34m\u001b[0m\u001b[0m\n\u001b[1;32m    207\u001b[0m         \u001b[0;32melse\u001b[0m\u001b[0;34m:\u001b[0m\u001b[0;34m\u001b[0m\u001b[0;34m\u001b[0m\u001b[0m\n\u001b[0;32m--> 208\u001b[0;31m             \u001b[0mns\u001b[0m\u001b[0;34m,\u001b[0m \u001b[0mextraopts\u001b[0m \u001b[0;34m=\u001b[0m \u001b[0mself\u001b[0m\u001b[0;34m.\u001b[0m\u001b[0mparse_args\u001b[0m\u001b[0;34m(\u001b[0m\u001b[0marglist\u001b[0m\u001b[0;34m)\u001b[0m\u001b[0;34m,\u001b[0m \u001b[0;34m[\u001b[0m\u001b[0;34m]\u001b[0m  \u001b[0;31m# may raise an exit\u001b[0m\u001b[0;34m\u001b[0m\u001b[0;34m\u001b[0m\u001b[0m\n\u001b[0m\u001b[1;32m    209\u001b[0m         \u001b[0;32mif\u001b[0m \u001b[0;32mnot\u001b[0m \u001b[0mhasattr\u001b[0m\u001b[0;34m(\u001b[0m\u001b[0mself\u001b[0m\u001b[0;34m,\u001b[0m \u001b[0;34m'argspec'\u001b[0m\u001b[0;34m)\u001b[0m\u001b[0;34m:\u001b[0m\u001b[0;34m\u001b[0m\u001b[0;34m\u001b[0m\u001b[0m\n\u001b[1;32m    210\u001b[0m             \u001b[0;32mraise\u001b[0m \u001b[0mSystemExit\u001b[0m\u001b[0;34m\u001b[0m\u001b[0;34m\u001b[0m\u001b[0m\n",
      "\u001b[0;32m~/opt/anaconda3/lib/python3.7/argparse.py\u001b[0m in \u001b[0;36mparse_args\u001b[0;34m(self, args, namespace)\u001b[0m\n\u001b[1;32m   1750\u001b[0m         \u001b[0;32mif\u001b[0m \u001b[0margv\u001b[0m\u001b[0;34m:\u001b[0m\u001b[0;34m\u001b[0m\u001b[0;34m\u001b[0m\u001b[0m\n\u001b[1;32m   1751\u001b[0m             \u001b[0mmsg\u001b[0m \u001b[0;34m=\u001b[0m \u001b[0m_\u001b[0m\u001b[0;34m(\u001b[0m\u001b[0;34m'unrecognized arguments: %s'\u001b[0m\u001b[0;34m)\u001b[0m\u001b[0;34m\u001b[0m\u001b[0;34m\u001b[0m\u001b[0m\n\u001b[0;32m-> 1752\u001b[0;31m             \u001b[0mself\u001b[0m\u001b[0;34m.\u001b[0m\u001b[0merror\u001b[0m\u001b[0;34m(\u001b[0m\u001b[0mmsg\u001b[0m \u001b[0;34m%\u001b[0m \u001b[0;34m' '\u001b[0m\u001b[0;34m.\u001b[0m\u001b[0mjoin\u001b[0m\u001b[0;34m(\u001b[0m\u001b[0margv\u001b[0m\u001b[0;34m)\u001b[0m\u001b[0;34m)\u001b[0m\u001b[0;34m\u001b[0m\u001b[0;34m\u001b[0m\u001b[0m\n\u001b[0m\u001b[1;32m   1753\u001b[0m         \u001b[0;32mreturn\u001b[0m \u001b[0margs\u001b[0m\u001b[0;34m\u001b[0m\u001b[0;34m\u001b[0m\u001b[0m\n\u001b[1;32m   1754\u001b[0m \u001b[0;34m\u001b[0m\u001b[0m\n",
      "\u001b[0;32m~/opt/anaconda3/lib/python3.7/argparse.py\u001b[0m in \u001b[0;36merror\u001b[0;34m(self, message)\u001b[0m\n\u001b[1;32m   2499\u001b[0m         \u001b[0mself\u001b[0m\u001b[0;34m.\u001b[0m\u001b[0mprint_usage\u001b[0m\u001b[0;34m(\u001b[0m\u001b[0m_sys\u001b[0m\u001b[0;34m.\u001b[0m\u001b[0mstderr\u001b[0m\u001b[0;34m)\u001b[0m\u001b[0;34m\u001b[0m\u001b[0;34m\u001b[0m\u001b[0m\n\u001b[1;32m   2500\u001b[0m         \u001b[0margs\u001b[0m \u001b[0;34m=\u001b[0m \u001b[0;34m{\u001b[0m\u001b[0;34m'prog'\u001b[0m\u001b[0;34m:\u001b[0m \u001b[0mself\u001b[0m\u001b[0;34m.\u001b[0m\u001b[0mprog\u001b[0m\u001b[0;34m,\u001b[0m \u001b[0;34m'message'\u001b[0m\u001b[0;34m:\u001b[0m \u001b[0mmessage\u001b[0m\u001b[0;34m}\u001b[0m\u001b[0;34m\u001b[0m\u001b[0;34m\u001b[0m\u001b[0m\n\u001b[0;32m-> 2501\u001b[0;31m         \u001b[0mself\u001b[0m\u001b[0;34m.\u001b[0m\u001b[0mexit\u001b[0m\u001b[0;34m(\u001b[0m\u001b[0;36m2\u001b[0m\u001b[0;34m,\u001b[0m \u001b[0m_\u001b[0m\u001b[0;34m(\u001b[0m\u001b[0;34m'%(prog)s: error: %(message)s\\n'\u001b[0m\u001b[0;34m)\u001b[0m \u001b[0;34m%\u001b[0m \u001b[0margs\u001b[0m\u001b[0;34m)\u001b[0m\u001b[0;34m\u001b[0m\u001b[0;34m\u001b[0m\u001b[0m\n\u001b[0m",
      "\u001b[0;32m~/opt/anaconda3/lib/python3.7/argparse.py\u001b[0m in \u001b[0;36mexit\u001b[0;34m(self, status, message)\u001b[0m\n\u001b[1;32m   2486\u001b[0m         \u001b[0;32mif\u001b[0m \u001b[0mmessage\u001b[0m\u001b[0;34m:\u001b[0m\u001b[0;34m\u001b[0m\u001b[0;34m\u001b[0m\u001b[0m\n\u001b[1;32m   2487\u001b[0m             \u001b[0mself\u001b[0m\u001b[0;34m.\u001b[0m\u001b[0m_print_message\u001b[0m\u001b[0;34m(\u001b[0m\u001b[0mmessage\u001b[0m\u001b[0;34m,\u001b[0m \u001b[0m_sys\u001b[0m\u001b[0;34m.\u001b[0m\u001b[0mstderr\u001b[0m\u001b[0;34m)\u001b[0m\u001b[0;34m\u001b[0m\u001b[0;34m\u001b[0m\u001b[0m\n\u001b[0;32m-> 2488\u001b[0;31m         \u001b[0m_sys\u001b[0m\u001b[0;34m.\u001b[0m\u001b[0mexit\u001b[0m\u001b[0;34m(\u001b[0m\u001b[0mstatus\u001b[0m\u001b[0;34m)\u001b[0m\u001b[0;34m\u001b[0m\u001b[0;34m\u001b[0m\u001b[0m\n\u001b[0m\u001b[1;32m   2489\u001b[0m \u001b[0;34m\u001b[0m\u001b[0m\n\u001b[1;32m   2490\u001b[0m     \u001b[0;32mdef\u001b[0m \u001b[0merror\u001b[0m\u001b[0;34m(\u001b[0m\u001b[0mself\u001b[0m\u001b[0;34m,\u001b[0m \u001b[0mmessage\u001b[0m\u001b[0;34m)\u001b[0m\u001b[0;34m:\u001b[0m\u001b[0;34m\u001b[0m\u001b[0;34m\u001b[0m\u001b[0m\n",
      "\u001b[0;31mSystemExit\u001b[0m: 2"
     ]
    }
   ],
   "source": [
    "%tb"
   ]
  },
  {
   "cell_type": "code",
   "execution_count": 54,
   "metadata": {},
   "outputs": [
    {
     "ename": "ValueError",
     "evalue": "[E103] Trying to set conflicting doc.ents: '(424, 434, 'PUB_NAME')' and '(424, 445, 'PUB_NAME')'. A token can only be part of one entity, so make sure the entities you're setting don't overlap.",
     "output_type": "error",
     "traceback": [
      "\u001b[0;31m---------------------------------------------------------------------------\u001b[0m",
      "\u001b[0;31mValueError\u001b[0m                                Traceback (most recent call last)",
      "\u001b[0;32m<ipython-input-54-5b513d1c475e>\u001b[0m in \u001b[0;36m<module>\u001b[0;34m\u001b[0m\n\u001b[1;32m      5\u001b[0m     \u001b[0mrandom\u001b[0m\u001b[0;34m.\u001b[0m\u001b[0mshuffle\u001b[0m\u001b[0;34m(\u001b[0m\u001b[0mtrain_data\u001b[0m\u001b[0;34m)\u001b[0m\u001b[0;34m\u001b[0m\u001b[0;34m\u001b[0m\u001b[0m\n\u001b[1;32m      6\u001b[0m     \u001b[0;32mfor\u001b[0m \u001b[0mtext\u001b[0m\u001b[0;34m,\u001b[0m \u001b[0mannotations\u001b[0m \u001b[0;32min\u001b[0m \u001b[0mtrain_data\u001b[0m\u001b[0;34m:\u001b[0m\u001b[0;34m\u001b[0m\u001b[0;34m\u001b[0m\u001b[0m\n\u001b[0;32m----> 7\u001b[0;31m         \u001b[0mnlp\u001b[0m\u001b[0;34m.\u001b[0m\u001b[0mupdate\u001b[0m\u001b[0;34m(\u001b[0m\u001b[0;34m[\u001b[0m\u001b[0mtext\u001b[0m\u001b[0;34m]\u001b[0m\u001b[0;34m,\u001b[0m \u001b[0;34m[\u001b[0m\u001b[0mannotations\u001b[0m\u001b[0;34m]\u001b[0m\u001b[0;34m,\u001b[0m \u001b[0msgd\u001b[0m\u001b[0;34m=\u001b[0m\u001b[0moptimizer\u001b[0m\u001b[0;34m)\u001b[0m\u001b[0;34m\u001b[0m\u001b[0;34m\u001b[0m\u001b[0m\n\u001b[0m",
      "\u001b[0;32m~/opt/anaconda3/lib/python3.7/site-packages/spacy/language.py\u001b[0m in \u001b[0;36mupdate\u001b[0;34m(self, docs, golds, drop, sgd, losses, component_cfg)\u001b[0m\n\u001b[1;32m    494\u001b[0m             \u001b[0msgd\u001b[0m \u001b[0;34m=\u001b[0m \u001b[0mself\u001b[0m\u001b[0;34m.\u001b[0m\u001b[0m_optimizer\u001b[0m\u001b[0;34m\u001b[0m\u001b[0;34m\u001b[0m\u001b[0m\n\u001b[1;32m    495\u001b[0m         \u001b[0;31m# Allow dict of args to GoldParse, instead of GoldParse objects.\u001b[0m\u001b[0;34m\u001b[0m\u001b[0;34m\u001b[0m\u001b[0;34m\u001b[0m\u001b[0m\n\u001b[0;32m--> 496\u001b[0;31m         \u001b[0mdocs\u001b[0m\u001b[0;34m,\u001b[0m \u001b[0mgolds\u001b[0m \u001b[0;34m=\u001b[0m \u001b[0mself\u001b[0m\u001b[0;34m.\u001b[0m\u001b[0m_format_docs_and_golds\u001b[0m\u001b[0;34m(\u001b[0m\u001b[0mdocs\u001b[0m\u001b[0;34m,\u001b[0m \u001b[0mgolds\u001b[0m\u001b[0;34m)\u001b[0m\u001b[0;34m\u001b[0m\u001b[0;34m\u001b[0m\u001b[0m\n\u001b[0m\u001b[1;32m    497\u001b[0m         \u001b[0mgrads\u001b[0m \u001b[0;34m=\u001b[0m \u001b[0;34m{\u001b[0m\u001b[0;34m}\u001b[0m\u001b[0;34m\u001b[0m\u001b[0;34m\u001b[0m\u001b[0m\n\u001b[1;32m    498\u001b[0m \u001b[0;34m\u001b[0m\u001b[0m\n",
      "\u001b[0;32m~/opt/anaconda3/lib/python3.7/site-packages/spacy/language.py\u001b[0m in \u001b[0;36m_format_docs_and_golds\u001b[0;34m(self, docs, golds)\u001b[0m\n\u001b[1;32m    466\u001b[0m                     \u001b[0merr\u001b[0m \u001b[0;34m=\u001b[0m \u001b[0mErrors\u001b[0m\u001b[0;34m.\u001b[0m\u001b[0mE151\u001b[0m\u001b[0;34m.\u001b[0m\u001b[0mformat\u001b[0m\u001b[0;34m(\u001b[0m\u001b[0munexp\u001b[0m\u001b[0;34m=\u001b[0m\u001b[0munexpected\u001b[0m\u001b[0;34m,\u001b[0m \u001b[0mexp\u001b[0m\u001b[0;34m=\u001b[0m\u001b[0mexpected_keys\u001b[0m\u001b[0;34m)\u001b[0m\u001b[0;34m\u001b[0m\u001b[0;34m\u001b[0m\u001b[0m\n\u001b[1;32m    467\u001b[0m                     \u001b[0;32mraise\u001b[0m \u001b[0mValueError\u001b[0m\u001b[0;34m(\u001b[0m\u001b[0merr\u001b[0m\u001b[0;34m)\u001b[0m\u001b[0;34m\u001b[0m\u001b[0;34m\u001b[0m\u001b[0m\n\u001b[0;32m--> 468\u001b[0;31m                 \u001b[0mgold\u001b[0m \u001b[0;34m=\u001b[0m \u001b[0mGoldParse\u001b[0m\u001b[0;34m(\u001b[0m\u001b[0mdoc\u001b[0m\u001b[0;34m,\u001b[0m \u001b[0;34m**\u001b[0m\u001b[0mgold\u001b[0m\u001b[0;34m)\u001b[0m\u001b[0;34m\u001b[0m\u001b[0;34m\u001b[0m\u001b[0m\n\u001b[0m\u001b[1;32m    469\u001b[0m             \u001b[0mdoc_objs\u001b[0m\u001b[0;34m.\u001b[0m\u001b[0mappend\u001b[0m\u001b[0;34m(\u001b[0m\u001b[0mdoc\u001b[0m\u001b[0;34m)\u001b[0m\u001b[0;34m\u001b[0m\u001b[0;34m\u001b[0m\u001b[0m\n\u001b[1;32m    470\u001b[0m             \u001b[0mgold_objs\u001b[0m\u001b[0;34m.\u001b[0m\u001b[0mappend\u001b[0m\u001b[0;34m(\u001b[0m\u001b[0mgold\u001b[0m\u001b[0;34m)\u001b[0m\u001b[0;34m\u001b[0m\u001b[0;34m\u001b[0m\u001b[0m\n",
      "\u001b[0;32mgold.pyx\u001b[0m in \u001b[0;36mspacy.gold.GoldParse.__init__\u001b[0;34m()\u001b[0m\n",
      "\u001b[0;32mgold.pyx\u001b[0m in \u001b[0;36mspacy.gold.biluo_tags_from_offsets\u001b[0;34m()\u001b[0m\n",
      "\u001b[0;31mValueError\u001b[0m: [E103] Trying to set conflicting doc.ents: '(424, 434, 'PUB_NAME')' and '(424, 445, 'PUB_NAME')'. A token can only be part of one entity, so make sure the entities you're setting don't overlap."
     ]
    }
   ],
   "source": [
    "# ok, that didn't work. trying their simpler example for all NLP\n",
    "nlp = spacy.blank(\"en\")\n",
    "optimizer = nlp.begin_training()\n",
    "for i in range(20):\n",
    "    random.shuffle(train_data)\n",
    "    for text, annotations in train_data:\n",
    "        nlp.update([text], [annotations], sgd=optimizer)"
   ]
  },
  {
   "cell_type": "code",
   "execution_count": 65,
   "metadata": {},
   "outputs": [
    {
     "name": "stdout",
     "output_type": "stream",
     "text": [
      "35 88477095\n"
     ]
    }
   ],
   "source": [
    "for e, x in enumerate(review_list):\n",
    "    if x.cleaned_text.startswith('Book Reviews Tuberculosis'):\n",
    "        print(e, x.review_id)"
   ]
  },
  {
   "cell_type": "code",
   "execution_count": 68,
   "metadata": {},
   "outputs": [
    {
     "data": {
      "text/plain": [
       "'Wm Wood Co'"
      ]
     },
     "execution_count": 68,
     "metadata": {},
     "output_type": "execute_result"
    }
   ],
   "source": [
    "review_list[35].cleaned_text[424:434]"
   ]
  },
  {
   "cell_type": "code",
   "execution_count": 69,
   "metadata": {},
   "outputs": [
    {
     "data": {
      "text/plain": [
       "'Wm Wood Co Publishers'"
      ]
     },
     "execution_count": 69,
     "metadata": {},
     "output_type": "execute_result"
    }
   ],
   "source": [
    "review_list[35].cleaned_text[424:445]"
   ]
  },
  {
   "cell_type": "code",
   "execution_count": 63,
   "metadata": {},
   "outputs": [
    {
     "data": {
      "text/plain": [
       "(\"Book Reviews Tuberculosis or Consumption By Spiers Oberlin Price The subject-matter of this monograph has appeared mainly in the pages of the Lancet-Clinic The author looks upon the disease as one dependent upon the evils of civilization and is in accord with atmospheric environments which may be from within or from without and cause depraved tissue or dyscrasia The Medical Record Visiting ListPhysician's Diary New York Wm Wood Co Publishers This is an excellent list in fact one of the best of the class of publications that is absolutely necessary for the physician s use being revised and made into modern up-to-date list in every particular The Physicians ' Pocket Account-Book Issued by the Medical Council of Philadelphia This is very practical book little larger and little more complete than the ordinary visiting-list of the past and is intended to answer the purposes of ledger as well as visiting list\",\n",
       " {'entities': [(424, 434, 'PUB_NAME'), (424, 445, 'PUB_NAME')]})"
      ]
     },
     "execution_count": 63,
     "metadata": {},
     "output_type": "execute_result"
    }
   ],
   "source": [
    "train_data[0]"
   ]
  },
  {
   "cell_type": "code",
   "execution_count": 62,
   "metadata": {},
   "outputs": [
    {
     "data": {
      "text/plain": [
       "True"
      ]
     },
     "execution_count": 62,
     "metadata": {},
     "output_type": "execute_result"
    }
   ],
   "source": [
    "train_data[0][0].startswith('Book Reviews Tuberculosis')"
   ]
  },
  {
   "cell_type": "code",
   "execution_count": 55,
   "metadata": {},
   "outputs": [
    {
     "name": "stdout",
     "output_type": "stream",
     "text": [
      "Book Reviews Tuberculosis or C {'entities': [(424, 434, 'PUB_NAME'), (424, 445, 'PUB_NAME')]}\n",
      "Tales of the Far east, . Chun  {'entities': [(371, 379, 'PER_NAME'), (2929, 2937, 'PER_NAME'), (3344, 3353, 'PER_NAME'), (3508, 3521, 'PER_NAME'), (4461, 4469, 'PER_NAME'), (4748, 4756, 'PER_NAME'), (6320, 6328, 'PER_NAME'), (6534, 6542, 'PER_NAME'), (7908, 7916, 'PER_NAME'), (9172, 9180, 'PER_NAME')]}\n",
      "ELIowS GENRnAL PnAcTioE.A Trea {'entities': [(593, 601, 'PER_NAME'), (5286, 5298, 'PER_NAME')]}\n",
      "Fisher's Church History. Ziisi {'entities': [(431, 443, 'PER_NAME'), (852, 864, 'PER_NAME'), (1739, 1749, 'PER_NAME')]}\n",
      "Literature The Minimum of Doct {'entities': [(35, 52, 'PER_NAME'), (1333, 1342, 'PER_NAME'), (1967, 1978, 'PER_NAME'), (4717, 4728, 'PER_NAME')]}\n",
      "RumLmllages it several Ziterat {'entities': [(107, 130, 'PER_NAME'), (661, 675, 'PER_NAME'), (1011, 1025, 'PER_NAME'), (1594, 1608, 'PER_NAME'), (2020, 2034, 'PER_NAME'), (2109, 2131, 'PER_NAME'), (2439, 2456, 'PER_NAME'), (3685, 3702, 'PER_NAME'), (4080, 4094, 'PER_NAME'), (4316, 4330, 'PER_NAME'), (4881, 4895, 'PER_NAME'), (5071, 5091, 'PER_NAME'), (5206, 5220, 'PER_NAME'), (6041, 6051, 'PER_NAME'), (6996, 7006, 'PER_NAME'), (8210, 8231, 'PER_NAME'), (9429, 9438, 'PER_NAME'), (11166, 11186, 'PER_NAME'), (2961, 2983, 'PUB_NAME'), (8371, 8389, 'PUB_NAME'), (11215, 11228, 'PUB_NAME')]}\n",
      "EARL PERCY AND HIS DmNEnC-GUES {'entities': [(68, 79, 'PER_NAME'), (322, 338, 'PER_NAME'), (1266, 1277, 'PER_NAME'), (2325, 2338, 'PER_NAME'), (2340, 2358, 'PER_NAME'), (4007, 4016, 'PER_NAME'), (4452, 4473, 'PER_NAME'), (4690, 4700, 'PER_NAME'), (5025, 5037, 'PER_NAME'), (5224, 5233, 'PER_NAME'), (5261, 5274, 'PER_NAME'), (5293, 5302, 'PER_NAME'), (5445, 5453, 'PER_NAME'), (5544, 5556, 'PER_NAME'), (5749, 5762, 'PER_NAME'), (6267, 6278, 'PER_NAME'), (6394, 6404, 'PER_NAME'), (6766, 6777, 'PER_NAME'), (7247, 7258, 'PER_NAME'), (622, 635, 'PUB_NAME')]}\n",
      "Art Music and Literature The W {'entities': []}\n",
      "A History of Painting. The obj {'entities': [(37, 57, 'PER_NAME'), (246, 258, 'PER_NAME'), (469, 478, 'PER_NAME'), (903, 924, 'PER_NAME'), (1098, 1107, 'PER_NAME'), (1795, 1804, 'PER_NAME'), (2025, 2050, 'PER_NAME'), (2439, 2453, 'PER_NAME'), (2714, 2728, 'PER_NAME'), (2974, 2989, 'PER_NAME'), (3292, 3301, 'PER_NAME'), (3528, 3537, 'PER_NAME'), (3649, 3664, 'PUB_NAME'), (5354, 5367, 'PUB_NAME')]}\n",
      "STRESSES IN FRAMED STRUCTURES  {'entities': []}\n",
      "A SHELF OF RECENT BOOKS YOUNG  {'entities': [(2328, 2341, 'PER_NAME'), (3112, 3122, 'PER_NAME')]}\n",
      "Shdeds  - 1 th, 11, , Ie, ,, . {'entities': [(86, 95, 'PUB_NAME')]}\n",
      "WAnD's POETS.* There is infini {'entities': [(2508, 2518, 'PER_NAME'), (504, 519, 'PUB_NAME')]}\n",
      "MISCELLANEOUS. Mr. Richard Hov {'entities': [(15, 32, 'PER_NAME'), (313, 322, 'PER_NAME'), (793, 805, 'PER_NAME'), (868, 880, 'PER_NAME'), (983, 994, 'PER_NAME'), (1580, 1597, 'PER_NAME'), (1628, 1651, 'PER_NAME'), (1750, 1768, 'PER_NAME'), (1816, 1834, 'PER_NAME'), (2012, 2028, 'PER_NAME'), (2371, 2379, 'PER_NAME'), (2939, 2957, 'PER_NAME'), (3574, 3588, 'PER_NAME'), (4209, 4226, 'PER_NAME'), (4803, 4821, 'PER_NAME'), (2995, 3012, 'PUB_NAME'), (4334, 4349, 'PUB_NAME'), (5273, 5287, 'PUB_NAME')]}\n",
      "THE INTELLECTUAL DEVELOPMNENT  {'entities': [(1777, 1796, 'PER_NAME'), (1079, 1100, 'PUB_NAME')]}\n",
      "GLIMPSES OF ) Collections and  {'entities': [(144, 164, 'PER_NAME'), (470, 486, 'PER_NAME'), (506, 519, 'PER_NAME'), (524, 541, 'PER_NAME'), (2043, 2060, 'PER_NAME'), (2082, 2095, 'PER_NAME'), (2402, 2428, 'PER_NAME')]}\n",
      "TAX MJODnN PULPIT. By 0. Brast {'entities': [(898, 915, 'PER_NAME')]}\n",
      "Bericht die neuere Literatur z {'entities': [(92, 115, 'PER_NAME'), (122, 135, 'PER_NAME')]}\n",
      "Book Notices. Ol ANATOMY AND M {'entities': [(1452, 1468, 'PER_NAME'), (1577, 1597, 'PER_NAME'), (988, 997, 'PUB_NAME')]}\n",
      "THE BOOK OF THE MONTH TIlE ROY {'entities': [(945, 957, 'PER_NAME'), (962, 990, 'PER_NAME'), (995, 1011, 'PER_NAME'), (11770, 11788, 'PER_NAME'), (12398, 12409, 'PER_NAME')]}\n",
      "Treatise on Concrete Plain and {'entities': [(1860, 1868, 'PER_NAME')]}\n",
      "Mr. Kenneth Grahame's classic  {'entities': [(0, 19, 'PER_NAME'), (138, 158, 'PER_NAME'), (367, 378, 'PER_NAME'), (946, 959, 'PER_NAME'), (998, 1015, 'PER_NAME'), (1033, 1051, 'PER_NAME'), (1072, 1092, 'PER_NAME'), (1132, 1153, 'PER_NAME')]}\n",
      "VI. A NEW ENGLAND IDYLL. ALTHO {'entities': [(205, 216, 'PER_NAME'), (1295, 1306, 'PER_NAME'), (1616, 1627, 'PER_NAME'), (1829, 1841, 'PER_NAME'), (2196, 2207, 'PER_NAME'), (2772, 2784, 'PER_NAME'), (2915, 2926, 'PER_NAME')]}\n",
      "Les Differents Systemes d Irri {'entities': [(672, 688, 'PER_NAME'), (3272, 3285, 'PER_NAME'), (5278, 5289, 'PER_NAME'), (5590, 5601, 'PER_NAME'), (6171, 6182, 'PER_NAME'), (7122, 7133, 'PER_NAME'), (11328, 11339, 'PER_NAME'), (14160, 14171, 'PER_NAME')]}\n",
      "\" NONE NAME THEE BUT TO PRAISE {'entities': [(950, 968, 'PER_NAME'), (1117, 1127, 'PER_NAME'), (1209, 1220, 'PER_NAME'), (1529, 1546, 'PER_NAME'), (1655, 1665, 'PER_NAME'), (1799, 1811, 'PER_NAME'), (1821, 1831, 'PER_NAME'), (2183, 2194, 'PER_NAME'), (2631, 2642, 'PER_NAME'), (3860, 3869, 'PER_NAME'), (4192, 4203, 'PER_NAME'), (4834, 4844, 'PER_NAME'), (114, 126, 'PUB_NAME'), (1297, 1313, 'PUB_NAME')]}\n",
      "A Little Old World The Fogazza {'entities': []}\n",
      "INTERCOLLEGIATE DEBATING. FoR  {'entities': [(1091, 1109, 'PER_NAME'), (15359, 15378, 'PER_NAME')]}\n",
      "STUDI E INTORNO A 8. GIOVANNI; {'entities': []}\n",
      "Cadet's HIa(ldbook. A Manual f {'entities': []}\n",
      "Bibliography MEDICAL LITERATUR {'entities': [(409, 427, 'PER_NAME'), (722, 731, 'PER_NAME'), (1176, 1184, 'PER_NAME'), (260, 272, 'PUB_NAME'), (285, 301, 'PUB_NAME'), (1918, 1933, 'PUB_NAME')]}\n",
      "The, and aime of great . From  {'entities': [(68, 89, 'PER_NAME'), (891, 907, 'PER_NAME'), (1685, 1705, 'PER_NAME'), (2250, 2266, 'PER_NAME'), (2470, 2479, 'PER_NAME'), (2777, 2794, 'PER_NAME')]}\n",
      "TWO READABLE NOVELS.* Miss How {'entities': [(22, 33, 'PER_NAME'), (689, 706, 'PER_NAME'), (3171, 3188, 'PER_NAME'), (4054, 4064, 'PER_NAME'), (4449, 4459, 'PER_NAME'), (4643, 4657, 'PER_NAME'), (6441, 6451, 'PER_NAME'), (6496, 6515, 'PER_NAME')]}\n",
      "REVIEWS Lehrbuch dee Geburtshi {'entities': [(3293, 3305, 'PER_NAME'), (6474, 6486, 'PER_NAME'), (6920, 6932, 'PER_NAME'), (7276, 7288, 'PER_NAME'), (7741, 7753, 'PER_NAME'), (7945, 7964, 'PER_NAME'), (8310, 8322, 'PER_NAME'), (9015, 9027, 'PER_NAME'), (3136, 3156, 'PUB_NAME'), (10518, 10526, 'PUB_NAME'), (11492, 11507, 'PUB_NAME')]}\n",
      "ONE WAY TO PRAISE A POET, a ch {'entities': [(608, 632, 'PER_NAME'), (682, 709, 'PER_NAME'), (739, 750, 'PER_NAME'), (1215, 1226, 'PER_NAME'), (2334, 2347, 'PER_NAME'), (2416, 2428, 'PER_NAME'), (3518, 3549, 'PER_NAME')]}\n",
      "LITERARY System of Measurments {'entities': [(70, 91, 'PER_NAME'), (726, 747, 'PER_NAME'), (70, 82, 'PUB_NAME'), (70, 82, 'PUB_NAME')]}\n",
      "THE VrOICE A-ND SPIRITUAL EDUC {'entities': [(135, 157, 'PER_NAME'), (977, 993, 'PER_NAME'), (3734, 3750, 'PER_NAME'), (97, 112, 'PUB_NAME')]}\n",
      "NEW BOOKS Play and Recreation  {'entities': [(1999, 2021, 'PER_NAME'), (833, 858, 'PUB_NAME'), (1259, 1276, 'PUB_NAME'), (1259, 1284, 'PUB_NAME'), (1650, 1674, 'PUB_NAME'), (2388, 2410, 'PUB_NAME'), (2388, 2418, 'PUB_NAME')]}\n",
      "BOOK REVIEWS. MACAULAY S ESSAY {'entities': [(815, 825, 'PER_NAME'), (2435, 2444, 'PER_NAME'), (3161, 3170, 'PER_NAME'), (3962, 3971, 'PER_NAME'), (9898, 9906, 'PER_NAME'), (10413, 10421, 'PER_NAME'), (10568, 10581, 'PER_NAME'), (11465, 11485, 'PER_NAME'), (13141, 13153, 'PER_NAME'), (13742, 13753, 'PER_NAME'), (14830, 14848, 'PER_NAME'), (15055, 15066, 'PER_NAME'), (16310, 16327, 'PER_NAME'), (16612, 16629, 'PER_NAME'), (16691, 16701, 'PER_NAME'), (2893, 2902, 'PUB_NAME'), (7871, 7886, 'PUB_NAME'), (8513, 8542, 'PUB_NAME'), (10504, 10522, 'PUB_NAME'), (15577, 15596, 'PUB_NAME')]}\n",
      "THE GADFLY.* DEARTH of good no {'entities': [(111, 128, 'PER_NAME')]}\n",
      "....The interest newly awakene {'entities': [(127, 142, 'PER_NAME'), (184, 193, 'PER_NAME'), (235, 244, 'PER_NAME'), (351, 363, 'PER_NAME'), (1173, 1184, 'PER_NAME'), (1259, 1268, 'PER_NAME'), (1329, 1341, 'PER_NAME'), (1459, 1471, 'PER_NAME'), (1898, 1909, 'PER_NAME'), (1920, 1935, 'PER_NAME'), (2030, 2043, 'PER_NAME'), (2408, 2420, 'PER_NAME')]}\n",
      "THE LIFE AND WORK OF CLARA BAR {'entities': [(1763, 1774, 'PER_NAME'), (2094, 2105, 'PER_NAME'), (2741, 2752, 'PER_NAME'), (2911, 2929, 'PER_NAME'), (3035, 3046, 'PER_NAME'), (4732, 4743, 'PER_NAME'), (5078, 5089, 'PER_NAME'), (5379, 5390, 'PER_NAME'), (5413, 5430, 'PER_NAME'), (5764, 5775, 'PER_NAME'), (6519, 6530, 'PER_NAME'), (6877, 6888, 'PER_NAME'), (7112, 7123, 'PER_NAME'), (7892, 7903, 'PER_NAME'), (8651, 8662, 'PER_NAME'), (8981, 8992, 'PER_NAME'), (9083, 9094, 'PER_NAME'), (9540, 9554, 'PER_NAME'), (9556, 9568, 'PER_NAME'), (9730, 9741, 'PER_NAME'), (13552, 13570, 'PER_NAME'), (15334, 15345, 'PER_NAME'), (15584, 15599, 'PER_NAME'), (15624, 15641, 'PER_NAME'), (15997, 16015, 'PER_NAME'), (16415, 16426, 'PER_NAME'), (16454, 16470, 'PER_NAME'), (16597, 16614, 'PER_NAME'), (16629, 16640, 'PER_NAME'), (17022, 17033, 'PER_NAME'), (19159, 19170, 'PER_NAME'), (19513, 19524, 'PER_NAME'), (20213, 20224, 'PER_NAME'), (21919, 21930, 'PER_NAME'), (22799, 22810, 'PER_NAME'), (24244, 24255, 'PER_NAME'), (25243, 25254, 'PER_NAME'), (25923, 25934, 'PER_NAME'), (26302, 26314, 'PER_NAME'), (27120, 27131, 'PER_NAME'), (8561, 8577, 'PUB_NAME')]}\n",
      "\" I Inmalls alitr AItfljars. z {'entities': [(860, 871, 'PER_NAME'), (1261, 1274, 'PER_NAME'), (2165, 2178, 'PER_NAME'), (3878, 3891, 'PER_NAME'), (5398, 5411, 'PER_NAME')]}\n",
      "Tinl OF OF ISlPAIHAiN have lon {'entities': [(1320, 1330, 'PER_NAME')]}\n",
      "Tn t relations between authors {'entities': [(917, 929, 'PER_NAME'), (3327, 3341, 'PER_NAME')]}\n",
      "LITERARY NOTES.  - The Chautau {'entities': [(95, 120, 'PER_NAME'), (190, 200, 'PER_NAME'), (395, 419, 'PER_NAME'), (660, 673, 'PER_NAME'), (819, 832, 'PER_NAME'), (837, 848, 'PER_NAME'), (1348, 1363, 'PER_NAME'), (1620, 1640, 'PER_NAME'), (1766, 1785, 'PER_NAME'), (3707, 3718, 'PER_NAME'), (4010, 4029, 'PER_NAME'), (4149, 4174, 'PER_NAME'), (4958, 4978, 'PER_NAME'), (5237, 5280, 'PER_NAME'), (5306, 5326, 'PER_NAME'), (5416, 5427, 'PER_NAME'), (5429, 5439, 'PER_NAME'), (292, 305, 'PUB_NAME'), (578, 596, 'PUB_NAME'), (3467, 3490, 'PUB_NAME'), (3850, 3877, 'PUB_NAME'), (4875, 4889, 'PUB_NAME')]}\n",
      "OR COMMISSIONlS; 9 OF FISH AND {'entities': [(754, 774, 'PER_NAME')]}\n",
      "REVIEWS AND BOOK NOTICES. DISE {'entities': [(600, 612, 'PER_NAME'), (2311, 2327, 'PER_NAME')]}\n",
      "Reviews Religious Moral Muscle {'entities': []}\n",
      "FICTION Her Mountain Lover. BY {'entities': [(1774, 1789, 'PER_NAME'), (2095, 2110, 'PER_NAME'), (2238, 2250, 'PER_NAME'), (2931, 2940, 'PER_NAME'), (2944, 2956, 'PER_NAME'), (54, 65, 'PUB_NAME'), (1018, 1029, 'PUB_NAME'), (1392, 1409, 'PUB_NAME'), (2366, 2379, 'PUB_NAME'), (2793, 2807, 'PUB_NAME')]}\n",
      "The Hour-Glass and Other Plays {'entities': [(336, 345, 'PER_NAME'), (582, 591, 'PER_NAME'), (105, 122, 'PUB_NAME'), (864, 882, 'PUB_NAME')]}\n"
     ]
    }
   ],
   "source": [
    "for text, annotations in train_data:\n",
    "    print(text[:30], annotations)"
   ]
  },
  {
   "cell_type": "code",
   "execution_count": null,
   "metadata": {},
   "outputs": [],
   "source": [
    "for text, _ in train_data:\n",
    "            doc = nlp2(text)\n",
    "            print(\"Entities\", [(ent.text, ent.label_) for ent in doc.ents])\n",
    "            print(\"Tokens\", [(t.text, t.ent_type_, t.ent_iob) for t in doc])"
   ]
  }
 ],
 "metadata": {
  "kernelspec": {
   "display_name": "Python 3",
   "language": "python",
   "name": "python3"
  },
  "language_info": {
   "codemirror_mode": {
    "name": "ipython",
    "version": 3
   },
   "file_extension": ".py",
   "mimetype": "text/x-python",
   "name": "python",
   "nbconvert_exporter": "python",
   "pygments_lexer": "ipython3",
   "version": "3.7.4"
  }
 },
 "nbformat": 4,
 "nbformat_minor": 2
}
