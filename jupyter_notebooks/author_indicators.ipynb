{
 "cells": [
  {
   "cell_type": "code",
   "execution_count": 1,
   "metadata": {},
   "outputs": [],
   "source": [
    "import sys\n",
    "sys.path.append('../')"
   ]
  },
  {
   "cell_type": "code",
   "execution_count": 2,
   "metadata": {},
   "outputs": [
    {
     "name": "stdout",
     "output_type": "stream",
     "text": [
      "Pretty printing has been turned OFF\n"
     ]
    }
   ],
   "source": [
    "from application.review_obj_class import ReviewObj\n",
    "from application.namespan_class import NameSpanGenerator\n",
    "import pandas as pd\n",
    "import os\n",
    "%pprint"
   ]
  },
  {
   "cell_type": "code",
   "execution_count": 3,
   "metadata": {},
   "outputs": [],
   "source": [
    "directory = \"../../aps_reviews_1000/\"\n",
    "filenames = os.listdir(directory)\n",
    "reviews = ((file.split('.')[0], open(directory + file).read()) for file in filenames)"
   ]
  },
  {
   "cell_type": "code",
   "execution_count": 4,
   "metadata": {},
   "outputs": [],
   "source": [
    "review_list = [ReviewObj(file, txt) for (file, txt) in reviews]"
   ]
  },
  {
   "cell_type": "code",
   "execution_count": 5,
   "metadata": {},
   "outputs": [],
   "source": [
    "spans = NameSpanGenerator.generate(review_list[0])"
   ]
  },
  {
   "cell_type": "code",
   "execution_count": 6,
   "metadata": {},
   "outputs": [
    {
     "data": {
      "text/plain": [
       "'125720170'"
      ]
     },
     "execution_count": 6,
     "metadata": {},
     "output_type": "execute_result"
    }
   ],
   "source": [
    "review_list[0].review_id"
   ]
  },
  {
   "cell_type": "code",
   "execution_count": 7,
   "metadata": {},
   "outputs": [
    {
     "data": {
      "text/plain": [
       "'Co-operativo PFblishing Company'"
      ]
     },
     "execution_count": 7,
     "metadata": {},
     "output_type": "execute_result"
    }
   ],
   "source": [
    "spans[0].name"
   ]
  },
  {
   "cell_type": "code",
   "execution_count": 10,
   "metadata": {},
   "outputs": [],
   "source": [
    "# for e, x in enumerate(review_list):\n",
    "#     try:\n",
    "#         NameSpanGenerator.generate(x)\n",
    "#     except:\n",
    "#         print(e, x.review_id)\n",
    "#         raise\n",
    "#         print()"
   ]
  },
  {
   "cell_type": "code",
   "execution_count": 11,
   "metadata": {},
   "outputs": [],
   "source": [
    "spans = [NameSpanGenerator.generate(x) for x in review_list]"
   ]
  },
  {
   "cell_type": "code",
   "execution_count": 12,
   "metadata": {},
   "outputs": [
    {
     "data": {
      "text/plain": [
       "1003"
      ]
     },
     "execution_count": 12,
     "metadata": {},
     "output_type": "execute_result"
    }
   ],
   "source": [
    "len(spans)"
   ]
  },
  {
   "cell_type": "code",
   "execution_count": null,
   "metadata": {},
   "outputs": [],
   "source": []
  },
  {
   "cell_type": "code",
   "execution_count": null,
   "metadata": {},
   "outputs": [],
   "source": []
  },
  {
   "cell_type": "code",
   "execution_count": null,
   "metadata": {},
   "outputs": [],
   "source": []
  },
  {
   "cell_type": "code",
   "execution_count": null,
   "metadata": {},
   "outputs": [],
   "source": []
  },
  {
   "cell_type": "code",
   "execution_count": null,
   "metadata": {},
   "outputs": [],
   "source": []
  },
  {
   "cell_type": "code",
   "execution_count": 20,
   "metadata": {},
   "outputs": [
    {
     "data": {
      "text/plain": [
       "['Mr.', 'Kenneth', 'Grahame', \"'s\", 'classic', 'of', ',', '``', '1', 'The', 'Golden', 'Age', ',', '``', 'appeared', 'some', 'three', 'or', 'four', 'years', 'ago', 'in', 'a', 'holiday', 'edition', ',', 'with', 'illustrations', 'by', 'Mr.', 'Maxfield', 'Parrish', '.', 'A', 'happier', 'combination', 'of', 'author', 'and', 'illustrator', 'could', 'hardly', 'have', 'been', 'hit', 'upon', ',', 'but', 'it', 'was', 'quite', 'evident', 'that', 'the', 'half-tone', 'process', 'employed', 'in', 'repro', '.', 'ducing', 'the', 'pictures', 'did', 'scant', 'justice', 'to', 'the', 'beauty', 'of', 'Mr.', 'Parrish', \"'s\", 'originals', '.', 'We', 'are', 'glad', 'to', 'note', 'that', 'the', 'publisher', '(', 'John', 'Lane', ')', 'has', 'now', 'brought', 'out', 'a', 'new', 'edition', 'of', 'the', 'book', ',', 'with', 'the', 'illustrations', 'reproduced', 'in', 'photogravure', '.', 'The', 'result', 'is', 'a', 'great', 'improvement', 'in', 'every', 'way', 'over', 'the', 'original', 'edition', ',', 'the', 'volume', 'being', 'hardly', 'less', 'charming', 'from', 'the', 'artistic', 'than', 'the', 'literary', 'standpoint', '.', 'The', 'volumes', 'of', 'the', '``', 'Mermaid', 'Series', '``', 'of', 'English', 'dramatists', ',', 'in', 'their', 'neat', 'new', 'issue', ',', 'are', 'coming', 'to', 'us', 'thick', 'and', 'fast', '.', 'The', 'latest', 'publications', 'are', 'Webster', 'and', 'Tourneur', 'in', 'one', 'volume', ',', 'edited', 'by', 'J', '.', 'A.', 'Symonds', ';', 'Middleton', ',', 'in', 'two', 'volumes', ',', 'edited', 'by', 'Mr.', 'Swinburne', ';', 'Massinger', ',', 'in', 'two', 'volumes', ',', 'edited', 'by', 'Mr.', 'Arthur', 'Symons', ';', 'Ford', ',', 'edited', 'by', 'Mr.', 'Havelock', 'Ellis', ';', 'Heywood', ',', 'edited', 'by', 'Mr.', 'A.', 'Wilson', 'Verity', ';', 'and', 'Dryden', ',', 'in', 'two', 'volumes', ',', 'edited', 'by', 'Mr.', 'George', 'Saintsbury', '.', 'The', 'Dryden', 'is', 'a', 'new', 'work', ',', 'having', 'never', 'before', 'been', 'in', '-', 'eluded', 'in', 'the', 'series', '.', 'These', 'books', 'are', 'imported', 'by', 'the', 'Messrs.', 'Scribner', '.', 'It', 'is', 'with', 'much', 'satisfaction', 'that', 'we', 'record', 'the', 'publication', ',', 'by', 'Messrs.', 'Dodd', ',', 'Mead', '&', 'Co.', ',', 'of', 'Volumes', 'XV', '.', 'to', 'XVII', '.', 'of', 'their', '``', 'New', 'International', 'Encyclo.', '``', 'These', 'volumes', 'complete', 'a', 'work', 'of', 'which', 'we', 'have', 'frequently', 'had', 'occasion', 'to', 'speak', 'in', 'terms', 'of', 'praise', ',', 'and', 'we', 'only', 'now', 'add', 'that', 'such', 'use', 'as', 'we', 'have', 'thus', 'far', 'made', 'of', 'it', 'for', 'purposes', 'of', 'reference', 'has', 'more', 'than', 'borne', 'out', 'our', 'first', 'favorable', 'impressions', '.', 'There', 'is', 'certainly', 'no', 'better', 'work', 'of', 'the', 'kind', 'for', 'general', 'and', 'popular', 'reference', 'now', 'upon', 'the', 'market', ',', 'and', 'it', 'has', 'the', 'additional', 'advantage', 'over', 'all', 'its', 'competitors', 'of', 'being', 'the', 'most', 'strictly', 'up-to-date', '.', 'It', 'is', 'equally', 'satisfactory', 'from', 'the', 'three', 'standpoints', 'of', 'conciseness', ',', 'readability', ',', 'and', 'attractiveness', 'of', 'dress', 'and', 'illustration', '.', 'It', 'comes', 'near', 'to', 'being', 'an', 'ideal', 'work', 'for', 'the', 'family', 'and', 'the', 'school', '.']"
      ]
     },
     "execution_count": 20,
     "metadata": {},
     "output_type": "execute_result"
    }
   ],
   "source": [
    "ex_review.cleaned_toks"
   ]
  },
  {
   "cell_type": "code",
   "execution_count": 28,
   "metadata": {},
   "outputs": [],
   "source": [
    "# this code is stolen from Ben Naismith, Ling PhD student, who in turn adapted it from Dr. Na-Rae Han\n",
    "\n",
    "# Finding word in a tokenized text\n",
    "def concord_toks(text, word, num):\n",
    "    padding = [('')] * num             # non-word padding, in the specified size\n",
    "    padded = padding + text + padding   # pad in front and back\n",
    "    outlist = []\n",
    "    for i in range(len(padded)):\n",
    "        if padded[i] == word:\n",
    "            outlist.append((padded[i-num:i], padded[i], padded[i+1:i+1+num]))\n",
    "    return outlist\n",
    "\n",
    "def flatten(outlist):\n",
    "    flatlist = []\n",
    "    for x in outlist:\n",
    "        flatlist.append((' '.join(x[0]), x[1], ' '.join(x[2])))\n",
    "    return flatlist\n",
    "\n",
    "def concordance(text, word, num):\n",
    "    return flatten(concord_toks(text, word, num))"
   ]
  },
  {
   "cell_type": "code",
   "execution_count": 29,
   "metadata": {},
   "outputs": [
    {
     "data": {
      "text/plain": [
       "[(' Mr. Kenneth', 'Grahame', \"'s classic of\")]"
      ]
     },
     "execution_count": 29,
     "metadata": {},
     "output_type": "execute_result"
    }
   ],
   "source": [
    "concordance(ex_review.cleaned_toks, 'Grahame', 3)"
   ]
  },
  {
   "cell_type": "code",
   "execution_count": 35,
   "metadata": {},
   "outputs": [
    {
     "data": {
      "text/plain": [
       "['mr.', 'kenneth', 'grahame']"
      ]
     },
     "execution_count": 35,
     "metadata": {},
     "output_type": "execute_result"
    }
   ],
   "source": [
    "ex_people[0].name_parts"
   ]
  },
  {
   "cell_type": "code",
   "execution_count": 36,
   "metadata": {},
   "outputs": [
    {
     "data": {
      "text/plain": [
       "3"
      ]
     },
     "execution_count": 36,
     "metadata": {},
     "output_type": "execute_result"
    }
   ],
   "source": [
    "ex_people[0].name_part_count"
   ]
  },
  {
   "cell_type": "code",
   "execution_count": 38,
   "metadata": {},
   "outputs": [
    {
     "data": {
      "text/plain": [
       "'Mr. Kenneth Grahame'"
      ]
     },
     "execution_count": 38,
     "metadata": {},
     "output_type": "execute_result"
    }
   ],
   "source": [
    "ex_people[0].full_name"
   ]
  },
  {
   "cell_type": "code",
   "execution_count": 47,
   "metadata": {},
   "outputs": [],
   "source": [
    "toks = []\n",
    "for person in ex_people:\n",
    "    num_toks = person.name_part_count\n",
    "    for e, x in enumerate(ex_review.cleaned_toks):\n",
    "        if x.lower() == person.name_parts[0]:\n",
    "            if person.full_name.split() == ex_review.cleaned_toks[e:e + num_toks]:\n",
    "                toks.append((e, e+num_toks))"
   ]
  },
  {
   "cell_type": "code",
   "execution_count": 48,
   "metadata": {},
   "outputs": [
    {
     "data": {
      "text/plain": [
       "[(0, 3), (29, 32), (70, 72), (185, 187), (196, 199), (204, 207), (212, 216), (226, 229)]"
      ]
     },
     "execution_count": 48,
     "metadata": {},
     "output_type": "execute_result"
    }
   ],
   "source": [
    "toks"
   ]
  },
  {
   "cell_type": "code",
   "execution_count": 50,
   "metadata": {},
   "outputs": [],
   "source": [
    "def get_toks_for_people(ReviewObj):\n",
    "    for person in ReviewObj.person_names:\n",
    "        num_toks = person.name_part_count\n",
    "        for e, x in enumerate(ReviewObj.cleaned_toks):\n",
    "            if x.lower() == person.name_parts[0]:\n",
    "                if person.full_name.split() == ReviewObj.cleaned_toks[e:e + num_toks]:\n",
    "                    person.review_loc_toks = (e, e+num_toks)\n",
    "    return ReviewObj"
   ]
  },
  {
   "cell_type": "code",
   "execution_count": 52,
   "metadata": {},
   "outputs": [],
   "source": [
    "ex_review_2 = get_toks_for_people(ex_review)"
   ]
  },
  {
   "cell_type": "code",
   "execution_count": 55,
   "metadata": {},
   "outputs": [
    {
     "name": "stdout",
     "output_type": "stream",
     "text": [
      "(0, 3)\n",
      "['Mr.', 'Kenneth', 'Grahame']\n",
      "(29, 32)\n",
      "['Mr.', 'Maxfield', 'Parrish']\n",
      "(70, 72)\n",
      "['Mr.', 'Parrish']\n",
      "(185, 187)\n",
      "['Mr.', 'Swinburne']\n",
      "(196, 199)\n",
      "['Mr.', 'Arthur', 'Symons']\n",
      "(204, 207)\n",
      "['Mr.', 'Havelock', 'Ellis']\n",
      "(212, 216)\n",
      "['Mr.', 'A.', 'Wilson', 'Verity']\n",
      "(226, 229)\n",
      "['Mr.', 'George', 'Saintsbury']\n"
     ]
    }
   ],
   "source": [
    "for x in ex_review_2.person_names:\n",
    "    print(x.review_loc_toks)\n",
    "    print(ex_review_2.cleaned_toks[x.review_loc_toks[0]:x.review_loc_toks[1]])"
   ]
  },
  {
   "cell_type": "code",
   "execution_count": 56,
   "metadata": {},
   "outputs": [],
   "source": [
    "for e, x in enumerate(review_list):\n",
    "    review_list[e] = get_toks_for_people(x)"
   ]
  },
  {
   "cell_type": "code",
   "execution_count": 58,
   "metadata": {},
   "outputs": [
    {
     "name": "stdout",
     "output_type": "stream",
     "text": [
      "LITERARY NOTES.  - The Chautauqua department of \" Wide Awake \" is now published separately.  - Mr. Charles Dudley Warner has written for \" The North American Review \" a paper on prison .  - Mr. Vedder's illustrations of the \" Rubfilyfit \" have found a great admirer in the Queen of Italy.  - Cassell & Co. sill shortly publish a \" Dictionary of English, \" by Sidney J. Low and F. S. Pulling.  - Professor Thorold Rogers is writing a worL on the \" of the Privileges of British Citizenship. \"   -   \" Mollie Carew \" is the title of a pleasant story by A. M. W., just published by E. P. Dutton & Co., New Yor ' .   -  . - rs. (MISS i ) nas written tne article on Mrs. Browning for the new \" Biograpbical Dictionary. \"  - Chatto & Windus, the Engllsh publishers, will issue during the coming season the collected essays of Mr. Swinburne.  - Dr. William ' M. Taylor's \" Life of John Knox \" is announced for early by A. C. Armstrong & Sons, New York.  - The \" Athenmum \" reports that Mark Twain will vis t England In Mfay, for the purpose of giving readings from bis own writings.  - The \" X1 of Paris \" and \" Daiid Conperfeld, \" I1lustrated and sold in penny numbers, are running neck and neck in Erance.  - The Appletons ' new twenty-five-cent series of Popular Stories has proved a decided success, and has certainly included Eome striking novels.  - Dr. Geor6 Ebers ' latest romance, '   -   Serapls, \" has been translated into English by Clara Bell, and published by W. S. Gottaberger, of this city.  - The \" Springlield Republican \" has arranged for a of short stories by EngUsb, tobe published In its Sunday edition. s-Mr. Julian Hawthorne has written a new story, entitled \" The Trial of Gideon, \" which Is to be by Funk & Wagnalls some time during the spring.  - Mr. Julius Chambers, a Philadelphia journalist, is the author of the novel \" On a Margin, \" published by.Forda, Howard &, and which is having a large tale.  - The \" Works of Virgil, \" with nores by Edward Searing, will shortly be ' by A. S. Barnes & Co., New York, In a single illustrated volume of 719 pages.  - A new department is to be added to the \" North American Review, \" including letters commenting upon articles which have appeared in the \" R Review. \"  - The third series of the Johns Hopkins Studies in Histor. ical and Political Science begi: a with the publication of Dr. i. B. Adams's paper on \" Maryland's Influence upon Cessions to the United Statts. \"  - Ginn, Heath & Co. will publish at once Pestalozi ' a \" Leonard and Gertrude, \" translated and abridged by Eva Channing, with an introduction by G. Stanley Ifail. This is the second volume of the series of \" Educational Classics. \"  - A posthumous study. of Victor Hugo by the eminent French critic, Paul de St. Victor, has been recently announced. It at length the decay ot Victor Hugo ' e influence and the rise of the or realistic school in France.  - E. P. Dutton & Cov will Issue, in season for Easter gifts, several little books with . Awougthese will be an edition of Bryant's poem, \" The Unknown Way, \" illustrated; \" The Celestial Country. \" and a little book of selections called \"   -   Friend to Friend. \"  - The Boston \" Literary World \" of February 21 contains a long and careful y prepared article on Amiel. Amid was the subject of a recent article In the \" Atlantic Monthly, \" and his two volumes of \" fragments, \" which have now reached a third edition, are beginning to attract on this side of the Atlantic.  - Thomas Y. Crowell & Co., New York, have Issued the prospectus of a work of great value to literary workers and to all interested in literary themes, \" Initials and Pseudonyms: a Dictionary of LiteraryDisguises, \" edited by William Cuawing. Mr. Cushing was formerly in the Harvard Lbrary, and has done some admirable work as an indexer.  - The first publications in the papers of the American Historical Society (New York: (G. P. PutnaWs ' dons) ate the report of the  - I Organization and Proceedings at Saratoga \" last September, prepared by Dr. Herbert B. Adam. as Secretary, and the address on \" Studies in General History and the History of Civilization, \" delivered on that by President Andrew D. White.  - In addition to the articles on the engagement between the \" Monitor \" and the  - Merrimac, \" written by officers of both vessels, which appear in the March number of \" The Century, \" CaptainEriceson be printed in an early number of the same magazine, making record of the circumstances attending the invention of the \" Mionitor, \" and treating ao of the engagement in Hampton Roads.  - A society in the interest of dramatic history has been organized in this city, and proposes to study and publish books concerning the stage, to collect portraits of American actors. play-bills. manuscripts, autographs, and other mattems of interest to the student of the American drama. It Is to be called the Dunlap Society, In recognition of the student and historian of the American stage. Mr. Brander Matthews, of this city, is to he Secretary.  - The February number of \" The Pulpit of To-Day \" sermons by Canon Liddon on \" Mysteries in Religion, \" CanonFarrar on \" Spirituality, \" Henry Ward Beecher on \" The Natural and the Spiritual, \" and \" The Use and Abnse . \" Dr. Joseph Parktercontinueshiseipositionuin the Book of Genesis, and Professor E. Johnsou contributes one of his characteristic studies. Among the framework there are outlines by Dr. Malaren, Dr. Parker, a . Spurga and   -  \n"
     ]
    }
   ],
   "source": [
    "print(review_list[0].cleaned_text)"
   ]
  },
  {
   "cell_type": "code",
   "execution_count": 59,
   "metadata": {},
   "outputs": [
    {
     "name": "stdout",
     "output_type": "stream",
     "text": [
      "Mr. Charles Dudley Warner\n",
      "(18, 22)\n",
      "['Mr.', 'Charles', 'Dudley', 'Warner']\n",
      "Mr. Vedder\n",
      "(37, 39)\n",
      "['Mr.', 'Vedder']\n",
      "Professor Thorold Rogers\n",
      "(82, 85)\n",
      "['Professor', 'Thorold', 'Rogers']\n",
      "Mrs. Browning\n",
      "(143, 145)\n",
      "['Mrs.', 'Browning']\n",
      "Mr. Swinburne\n",
      "(171, 173)\n",
      "['Mr.', 'Swinburne']\n",
      "Dr. William\n",
      "(175, 177)\n",
      "['Dr.', 'William']\n",
      "Dr. Geor6 Ebers\n",
      "(281, 284)\n",
      "['Dr.', 'Geor6', 'Ebers']\n",
      "Mr. Julian Hawthorne\n"
     ]
    },
    {
     "ename": "AttributeError",
     "evalue": "'PersonName' object has no attribute 'review_loc_toks'",
     "output_type": "error",
     "traceback": [
      "\u001b[0;31m---------------------------------------------------------------------------\u001b[0m",
      "\u001b[0;31mAttributeError\u001b[0m                            Traceback (most recent call last)",
      "\u001b[0;32m<ipython-input-59-26495ec14667>\u001b[0m in \u001b[0;36m<module>\u001b[0;34m\u001b[0m\n\u001b[1;32m      1\u001b[0m \u001b[0;32mfor\u001b[0m \u001b[0mx\u001b[0m \u001b[0;32min\u001b[0m \u001b[0mreview_list\u001b[0m\u001b[0;34m[\u001b[0m\u001b[0;36m0\u001b[0m\u001b[0;34m]\u001b[0m\u001b[0;34m.\u001b[0m\u001b[0mperson_names\u001b[0m\u001b[0;34m:\u001b[0m\u001b[0;34m\u001b[0m\u001b[0;34m\u001b[0m\u001b[0m\n\u001b[1;32m      2\u001b[0m     \u001b[0mprint\u001b[0m\u001b[0;34m(\u001b[0m\u001b[0mx\u001b[0m\u001b[0;34m)\u001b[0m\u001b[0;34m\u001b[0m\u001b[0;34m\u001b[0m\u001b[0m\n\u001b[0;32m----> 3\u001b[0;31m     \u001b[0mprint\u001b[0m\u001b[0;34m(\u001b[0m\u001b[0mx\u001b[0m\u001b[0;34m.\u001b[0m\u001b[0mreview_loc_toks\u001b[0m\u001b[0;34m)\u001b[0m\u001b[0;34m\u001b[0m\u001b[0;34m\u001b[0m\u001b[0m\n\u001b[0m\u001b[1;32m      4\u001b[0m     \u001b[0mprint\u001b[0m\u001b[0;34m(\u001b[0m\u001b[0mreview_list\u001b[0m\u001b[0;34m[\u001b[0m\u001b[0;36m0\u001b[0m\u001b[0;34m]\u001b[0m\u001b[0;34m.\u001b[0m\u001b[0mcleaned_toks\u001b[0m\u001b[0;34m[\u001b[0m\u001b[0mx\u001b[0m\u001b[0;34m.\u001b[0m\u001b[0mreview_loc_toks\u001b[0m\u001b[0;34m[\u001b[0m\u001b[0;36m0\u001b[0m\u001b[0;34m]\u001b[0m\u001b[0;34m:\u001b[0m\u001b[0mx\u001b[0m\u001b[0;34m.\u001b[0m\u001b[0mreview_loc_toks\u001b[0m\u001b[0;34m[\u001b[0m\u001b[0;36m1\u001b[0m\u001b[0;34m]\u001b[0m\u001b[0;34m]\u001b[0m\u001b[0;34m)\u001b[0m\u001b[0;34m\u001b[0m\u001b[0;34m\u001b[0m\u001b[0m\n",
      "\u001b[0;31mAttributeError\u001b[0m: 'PersonName' object has no attribute 'review_loc_toks'"
     ]
    }
   ],
   "source": [
    "for x in review_list[0].person_names:\n",
    "    print(x)\n",
    "    print(x.review_loc_toks)\n",
    "    print(review_list[0].cleaned_toks[x.review_loc_toks[0]:x.review_loc_toks[1]])"
   ]
  },
  {
   "cell_type": "code",
   "execution_count": null,
   "metadata": {},
   "outputs": [],
   "source": []
  }
 ],
 "metadata": {
  "kernelspec": {
   "display_name": "Python 3",
   "language": "python",
   "name": "python3"
  },
  "language_info": {
   "codemirror_mode": {
    "name": "ipython",
    "version": 3
   },
   "file_extension": ".py",
   "mimetype": "text/x-python",
   "name": "python",
   "nbconvert_exporter": "python",
   "pygments_lexer": "ipython3",
   "version": "3.7.4"
  }
 },
 "nbformat": 4,
 "nbformat_minor": 2
}
