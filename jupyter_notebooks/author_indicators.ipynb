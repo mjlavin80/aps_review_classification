{
 "cells": [
  {
   "cell_type": "code",
   "execution_count": 1,
   "metadata": {},
   "outputs": [],
   "source": [
    "import sys\n",
    "sys.path.append('../')"
   ]
  },
  {
   "cell_type": "code",
   "execution_count": 15,
   "metadata": {},
   "outputs": [
    {
     "name": "stdout",
     "output_type": "stream",
     "text": [
      "Pretty printing has been turned OFF\n"
     ]
    }
   ],
   "source": [
    "from application.name_obj_classes import PubName, PersonName\n",
    "from application.review_obj_class import ReviewObj\n",
    "import pandas as pd\n",
    "import os\n",
    "%pprint"
   ]
  },
  {
   "cell_type": "code",
   "execution_count": 3,
   "metadata": {},
   "outputs": [],
   "source": [
    "# loading in files\n",
    "directory = \"../../aps_reviews_50/aps_reviews/\"\n",
    "filenames = os.listdir(directory)\n",
    "txts = []\n",
    "for file in filenames:\n",
    "    with open(directory + file) as f:\n",
    "        txts.append(f.read())"
   ]
  },
  {
   "cell_type": "code",
   "execution_count": 4,
   "metadata": {},
   "outputs": [],
   "source": [
    "review_list = []\n",
    "for filename, txt in zip([x.split('.')[0] for x in filenames], txts):\n",
    "    review_list.append(ReviewObj(filename, txt))"
   ]
  },
  {
   "cell_type": "code",
   "execution_count": 17,
   "metadata": {},
   "outputs": [],
   "source": [
    "ex_review = review_list[7]"
   ]
  },
  {
   "cell_type": "code",
   "execution_count": 18,
   "metadata": {},
   "outputs": [],
   "source": [
    "ex_people = ex_review.person_names"
   ]
  },
  {
   "cell_type": "code",
   "execution_count": 19,
   "metadata": {},
   "outputs": [
    {
     "name": "stdout",
     "output_type": "stream",
     "text": [
      "(0, 19)\n",
      "Mr. Kenneth Grahame\n",
      "(138, 158)\n",
      "Mr. Maxfield Parrish\n",
      "(367, 378)\n",
      "Mr. Parrish\n",
      "(946, 959)\n",
      "Mr. Swinburne\n",
      "(998, 1015)\n",
      "Mr. Arthur Symons\n",
      "(1033, 1051)\n",
      "Mr. Havelock Ellis\n",
      "(1072, 1092)\n",
      "Mr. A. Wilson Verity\n",
      "(1132, 1153)\n",
      "Mr. George Saintsbury\n"
     ]
    }
   ],
   "source": [
    "for x in ex_people:\n",
    "    print(x.review_loc_chars)\n",
    "    print(ex_review.cleaned_text[x.review_loc_chars[0]:x.review_loc_chars[1]])"
   ]
  },
  {
   "cell_type": "code",
   "execution_count": 20,
   "metadata": {},
   "outputs": [
    {
     "data": {
      "text/plain": [
       "['Mr.', 'Kenneth', 'Grahame', \"'s\", 'classic', 'of', ',', '``', '1', 'The', 'Golden', 'Age', ',', '``', 'appeared', 'some', 'three', 'or', 'four', 'years', 'ago', 'in', 'a', 'holiday', 'edition', ',', 'with', 'illustrations', 'by', 'Mr.', 'Maxfield', 'Parrish', '.', 'A', 'happier', 'combination', 'of', 'author', 'and', 'illustrator', 'could', 'hardly', 'have', 'been', 'hit', 'upon', ',', 'but', 'it', 'was', 'quite', 'evident', 'that', 'the', 'half-tone', 'process', 'employed', 'in', 'repro', '.', 'ducing', 'the', 'pictures', 'did', 'scant', 'justice', 'to', 'the', 'beauty', 'of', 'Mr.', 'Parrish', \"'s\", 'originals', '.', 'We', 'are', 'glad', 'to', 'note', 'that', 'the', 'publisher', '(', 'John', 'Lane', ')', 'has', 'now', 'brought', 'out', 'a', 'new', 'edition', 'of', 'the', 'book', ',', 'with', 'the', 'illustrations', 'reproduced', 'in', 'photogravure', '.', 'The', 'result', 'is', 'a', 'great', 'improvement', 'in', 'every', 'way', 'over', 'the', 'original', 'edition', ',', 'the', 'volume', 'being', 'hardly', 'less', 'charming', 'from', 'the', 'artistic', 'than', 'the', 'literary', 'standpoint', '.', 'The', 'volumes', 'of', 'the', '``', 'Mermaid', 'Series', '``', 'of', 'English', 'dramatists', ',', 'in', 'their', 'neat', 'new', 'issue', ',', 'are', 'coming', 'to', 'us', 'thick', 'and', 'fast', '.', 'The', 'latest', 'publications', 'are', 'Webster', 'and', 'Tourneur', 'in', 'one', 'volume', ',', 'edited', 'by', 'J', '.', 'A.', 'Symonds', ';', 'Middleton', ',', 'in', 'two', 'volumes', ',', 'edited', 'by', 'Mr.', 'Swinburne', ';', 'Massinger', ',', 'in', 'two', 'volumes', ',', 'edited', 'by', 'Mr.', 'Arthur', 'Symons', ';', 'Ford', ',', 'edited', 'by', 'Mr.', 'Havelock', 'Ellis', ';', 'Heywood', ',', 'edited', 'by', 'Mr.', 'A.', 'Wilson', 'Verity', ';', 'and', 'Dryden', ',', 'in', 'two', 'volumes', ',', 'edited', 'by', 'Mr.', 'George', 'Saintsbury', '.', 'The', 'Dryden', 'is', 'a', 'new', 'work', ',', 'having', 'never', 'before', 'been', 'in', '-', 'eluded', 'in', 'the', 'series', '.', 'These', 'books', 'are', 'imported', 'by', 'the', 'Messrs.', 'Scribner', '.', 'It', 'is', 'with', 'much', 'satisfaction', 'that', 'we', 'record', 'the', 'publication', ',', 'by', 'Messrs.', 'Dodd', ',', 'Mead', '&', 'Co.', ',', 'of', 'Volumes', 'XV', '.', 'to', 'XVII', '.', 'of', 'their', '``', 'New', 'International', 'Encyclo.', '``', 'These', 'volumes', 'complete', 'a', 'work', 'of', 'which', 'we', 'have', 'frequently', 'had', 'occasion', 'to', 'speak', 'in', 'terms', 'of', 'praise', ',', 'and', 'we', 'only', 'now', 'add', 'that', 'such', 'use', 'as', 'we', 'have', 'thus', 'far', 'made', 'of', 'it', 'for', 'purposes', 'of', 'reference', 'has', 'more', 'than', 'borne', 'out', 'our', 'first', 'favorable', 'impressions', '.', 'There', 'is', 'certainly', 'no', 'better', 'work', 'of', 'the', 'kind', 'for', 'general', 'and', 'popular', 'reference', 'now', 'upon', 'the', 'market', ',', 'and', 'it', 'has', 'the', 'additional', 'advantage', 'over', 'all', 'its', 'competitors', 'of', 'being', 'the', 'most', 'strictly', 'up-to-date', '.', 'It', 'is', 'equally', 'satisfactory', 'from', 'the', 'three', 'standpoints', 'of', 'conciseness', ',', 'readability', ',', 'and', 'attractiveness', 'of', 'dress', 'and', 'illustration', '.', 'It', 'comes', 'near', 'to', 'being', 'an', 'ideal', 'work', 'for', 'the', 'family', 'and', 'the', 'school', '.']"
      ]
     },
     "execution_count": 20,
     "metadata": {},
     "output_type": "execute_result"
    }
   ],
   "source": [
    "ex_review.cleaned_toks"
   ]
  },
  {
   "cell_type": "code",
   "execution_count": 28,
   "metadata": {},
   "outputs": [],
   "source": [
    "# this code is stolen from Ben Naismith, Ling PhD student, who in turn adapted it from Dr. Na-Rae Han\n",
    "\n",
    "# Finding word in a tokenized text\n",
    "def concord_toks(text, word, num):\n",
    "    padding = [('')] * num             # non-word padding, in the specified size\n",
    "    padded = padding + text + padding   # pad in front and back\n",
    "    outlist = []\n",
    "    for i in range(len(padded)):\n",
    "        if padded[i] == word:\n",
    "            outlist.append((padded[i-num:i], padded[i], padded[i+1:i+1+num]))\n",
    "    return outlist\n",
    "\n",
    "def flatten(outlist):\n",
    "    flatlist = []\n",
    "    for x in outlist:\n",
    "        flatlist.append((' '.join(x[0]), x[1], ' '.join(x[2])))\n",
    "    return flatlist\n",
    "\n",
    "def concordance(text, word, num):\n",
    "    return flatten(concord_toks(text, word, num))"
   ]
  },
  {
   "cell_type": "code",
   "execution_count": 29,
   "metadata": {},
   "outputs": [
    {
     "data": {
      "text/plain": [
       "[(' Mr. Kenneth', 'Grahame', \"'s classic of\")]"
      ]
     },
     "execution_count": 29,
     "metadata": {},
     "output_type": "execute_result"
    }
   ],
   "source": [
    "concordance(ex_review.cleaned_toks, 'Grahame', 3)"
   ]
  },
  {
   "cell_type": "code",
   "execution_count": null,
   "metadata": {},
   "outputs": [],
   "source": []
  }
 ],
 "metadata": {
  "kernelspec": {
   "display_name": "Python 3",
   "language": "python",
   "name": "python3"
  },
  "language_info": {
   "codemirror_mode": {
    "name": "ipython",
    "version": 3
   },
   "file_extension": ".py",
   "mimetype": "text/x-python",
   "name": "python",
   "nbconvert_exporter": "python",
   "pygments_lexer": "ipython3",
   "version": "3.7.4"
  }
 },
 "nbformat": 4,
 "nbformat_minor": 2
}
