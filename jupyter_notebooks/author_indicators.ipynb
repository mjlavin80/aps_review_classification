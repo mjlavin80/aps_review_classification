{
 "cells": [
  {
   "cell_type": "markdown",
   "metadata": {},
   "source": [
    "# Looking for author name collocations\n",
    "## Reading in the documents"
   ]
  },
  {
   "cell_type": "code",
   "execution_count": 1,
   "metadata": {},
   "outputs": [],
   "source": [
    "import sys\n",
    "sys.path.append('../')"
   ]
  },
  {
   "cell_type": "code",
   "execution_count": 2,
   "metadata": {},
   "outputs": [
    {
     "name": "stdout",
     "output_type": "stream",
     "text": [
      "Pretty printing has been turned OFF\n"
     ]
    }
   ],
   "source": [
    "from application.review_obj_class import ReviewObj\n",
    "from application.namespan_class import NameSpanGenerator\n",
    "import pandas as pd\n",
    "import os\n",
    "%pprint"
   ]
  },
  {
   "cell_type": "code",
   "execution_count": 3,
   "metadata": {},
   "outputs": [],
   "source": [
    "directory = \"../../aps_reviews_1000/\"\n",
    "filenames = os.listdir(directory)\n",
    "reviews = ((file.split('.')[0], open(directory + file).read()) for file in filenames)"
   ]
  },
  {
   "cell_type": "code",
   "execution_count": 4,
   "metadata": {},
   "outputs": [],
   "source": [
    "review_list = [ReviewObj(file, txt) for (file, txt) in reviews]"
   ]
  },
  {
   "cell_type": "code",
   "execution_count": 5,
   "metadata": {},
   "outputs": [],
   "source": [
    "spans = NameSpanGenerator.generate(review_list[0])"
   ]
  },
  {
   "cell_type": "code",
   "execution_count": 6,
   "metadata": {},
   "outputs": [
    {
     "data": {
      "text/plain": [
       "'125720170'"
      ]
     },
     "execution_count": 6,
     "metadata": {},
     "output_type": "execute_result"
    }
   ],
   "source": [
    "review_list[0].review_id"
   ]
  },
  {
   "cell_type": "code",
   "execution_count": 7,
   "metadata": {},
   "outputs": [
    {
     "data": {
      "text/plain": [
       "'Co-operativo PFblishing Company'"
      ]
     },
     "execution_count": 7,
     "metadata": {},
     "output_type": "execute_result"
    }
   ],
   "source": [
    "spans[0].name"
   ]
  },
  {
   "cell_type": "code",
   "execution_count": 8,
   "metadata": {},
   "outputs": [],
   "source": [
    "# for e, x in enumerate(review_list):\n",
    "#     try:\n",
    "#         NameSpanGenerator.generate(x)\n",
    "#     except:\n",
    "#         print(e, x.review_id)\n",
    "#         raise\n",
    "#         print()"
   ]
  },
  {
   "cell_type": "code",
   "execution_count": 9,
   "metadata": {},
   "outputs": [],
   "source": [
    "spans = [NameSpanGenerator.generate(x) for x in review_list]"
   ]
  },
  {
   "cell_type": "code",
   "execution_count": 10,
   "metadata": {},
   "outputs": [
    {
     "data": {
      "text/plain": [
       "1003"
      ]
     },
     "execution_count": 10,
     "metadata": {},
     "output_type": "execute_result"
    }
   ],
   "source": [
    "len(spans)"
   ]
  },
  {
   "cell_type": "markdown",
   "metadata": {},
   "source": [
    "## How to reformat the author names?\n",
    "#### Option 1: underscores instead of spaces\n",
    "+ Perks: Can look by individual document\n",
    "+ Pretty impossible to look across the whole dataset tho"
   ]
  },
  {
   "cell_type": "code",
   "execution_count": 11,
   "metadata": {
    "scrolled": true
   },
   "outputs": [
    {
     "data": {
      "text/plain": [
       "['GESTA', '.', '*', 'stands', 'with', 'a', 'perpetual', 'Cui', 'upon', 'its', 'lips', '.', 'It', 'insists', 'that', 'all', 'ethical', 'systems', 'shall', 'be', 'tested', 'by', 'results', '.', 'It', 'insists', 'upon', 'feeling', ',', 'seeing', ',', 'and', 'knowing', 'about', 'the', 'fruit', 'of', 'anything', 'that', 'claims', 'its', 'attention', 'in', 'the', 'broad', 'world', '-', 'garden', 'of', 'apologetics', '.', 'By', 'the', 'test', 'of', 'fruits', 'many', 'a', 'system', 'of', 'ethics', 'is', 'doomed', 'to', 'die', ';', 'ny', 'tne', 'test', 'or', 'shines', 'perennially', 'with', 'new', 'luster', 'and', 'life', '.', 'Never', 'in', 'the', 'history', 'of', 'Christian', 'apolohas', 'this', 'fact', 'been', 'more', 'clearly', 'set', 'forth', 'than', 'in', 'Gesta', 'Christi', ',', '``', 'A', 'History', 'of', 'Humane', 'Progress', 'under', 'Christianity', ',', '``', 'by', 'Charles', 'Loring', 'Brace', '.', 'As', 'calmly', 'as', 'a', 'man', 'can', 'write', 'of', 'the', 'great', 'moving', 'force', 'of', 'civ', ',', 'he', 'sits', 'down', 'before', 'the', 'world', 's', 'record', ',', 'and', 'gathers', 'the', 'data', 'of', 'Christian', 'influence', '.', 'He', 'records', 'a', 'series', 'of', 'triumphs', 'for', 'humanity', '.', 'It', 'is', 'a', 'book', 'that', 'says', 'Voila', '!', 'to', 'Voltaire', '.', 'In', 'his', 'preface', 'Mr._Brace', 'draws', 'a', 'line', 'that', 'saves', 'him', 'from', 'all', 'confusion', 'in', 'statement', '.', 'He', 'makes', 'the', 'important', 'distinction', 'between', 'the', 'subtle', ',', 'all-pervading', 'spirit', 'of', 'Christian', 'influence', 'and', 'the', 'humanly', 'developed', 'organization', 'of']"
      ]
     },
     "execution_count": 11,
     "metadata": {},
     "output_type": "execute_result"
    }
   ],
   "source": [
    "review_list[450].coll_toks_ind[:200]"
   ]
  },
  {
   "cell_type": "markdown",
   "metadata": {},
   "source": [
    "#### Option 1: blocking out author and pub names\n",
    "+ Perks: Can look by the whole dataset\n",
    "+ Differences between individual author names are obscured, as well as the potential influence of gender"
   ]
  },
  {
   "cell_type": "code",
   "execution_count": 12,
   "metadata": {},
   "outputs": [
    {
     "data": {
      "text/plain": [
       "['GESTA', '.', '*', 'stands', 'with', 'a', 'perpetual', 'Cui', 'upon', 'its', 'lips', '.', 'It', 'insists', 'that', 'all', 'ethical', 'systems', 'shall', 'be', 'tested', 'by', 'results', '.', 'It', 'insists', 'upon', 'feeling', ',', 'seeing', ',', 'and', 'knowing', 'about', 'the', 'fruit', 'of', 'anything', 'that', 'claims', 'its', 'attention', 'in', 'the', 'broad', 'world', '-', 'garden', 'of', 'apologetics', '.', 'By', 'the', 'test', 'of', 'fruits', 'many', 'a', 'system', 'of', 'ethics', 'is', 'doomed', 'to', 'die', ';', 'ny', 'tne', 'test', 'or', 'shines', 'perennially', 'with', 'new', 'luster', 'and', 'life', '.', 'Never', 'in', 'the', 'history', 'of', 'Christian', 'apolohas', 'this', 'fact', 'been', 'more', 'clearly', 'set', 'forth', 'than', 'in', 'Gesta', 'Christi', ',', '``', 'A', 'History', 'of', 'Humane', 'Progress', 'under', 'Christianity', ',', '``', 'by', 'Charles', 'Loring', 'Brace', '.', 'As', 'calmly', 'as', 'a', 'man', 'can', 'write', 'of', 'the', 'great', 'moving', 'force', 'of', 'civ', ',', 'he', 'sits', 'down', 'before', 'the', 'world', 's', 'record', ',', 'and', 'gathers', 'the', 'data', 'of', 'Christian', 'influence', '.', 'He', 'records', 'a', 'series', 'of', 'triumphs', 'for', 'humanity', '.', 'It', 'is', 'a', 'book', 'that', 'says', 'Voila', '!', 'to', 'Voltaire', '.', 'In', 'his', 'preface', '●●●●●●●●●', 'draws', 'a', 'line', 'that', 'saves', 'him', 'from', 'all', 'confusion', 'in', 'statement', '.', 'He', 'makes', 'the', 'important', 'distinction', 'between', 'the', 'subtle', ',', 'all-pervading', 'spirit', 'of', 'Christian', 'influence', 'and', 'the', 'humanly', 'developed', 'organization', 'of']"
      ]
     },
     "execution_count": 12,
     "metadata": {},
     "output_type": "execute_result"
    }
   ],
   "source": [
    "review_list[450].coll_toks_all[:200]"
   ]
  },
  {
   "cell_type": "markdown",
   "metadata": {},
   "source": [
    "## Trying out NLTK collocations"
   ]
  },
  {
   "cell_type": "code",
   "execution_count": 13,
   "metadata": {},
   "outputs": [],
   "source": [
    "import nltk\n",
    "from nltk.collocations import *\n",
    "bigram_measures = nltk.collocations.BigramAssocMeasures()"
   ]
  },
  {
   "cell_type": "code",
   "execution_count": 14,
   "metadata": {},
   "outputs": [],
   "source": [
    "finder = BigramCollocationFinder.from_words(review_list[450].coll_toks_all)"
   ]
  },
  {
   "cell_type": "code",
   "execution_count": 15,
   "metadata": {},
   "outputs": [
    {
     "data": {
      "text/plain": [
       "[('$', '2.50'), ('*', 'stands'), ('A.', 'C.'), ('Arabian', 'philosophers'), ('Armstrong', 'Son'), ('C.', 'Armstrong'), ('Christendom', \"'\"), ('Divine', 'revelation'), ('Non-Christian', 'Peoples.'), ('Voila', '!')]"
      ]
     },
     "execution_count": 15,
     "metadata": {},
     "output_type": "execute_result"
    }
   ],
   "source": [
    "finder.nbest(bigram_measures.pmi, 10)"
   ]
  },
  {
   "cell_type": "code",
   "execution_count": 16,
   "metadata": {},
   "outputs": [],
   "source": [
    "finder_all = BigramCollocationFinder.from_documents([x.coll_toks_all for x in review_list])"
   ]
  },
  {
   "cell_type": "code",
   "execution_count": 17,
   "metadata": {},
   "outputs": [
    {
     "data": {
      "text/plain": [
       "[(\"'sba\", 'Iliw'), (\"'season\", 'Jenovieve'), ('*1..S.', 'bilities'), ('*Es8IMo', 'LIF'), ('*GXNzAL', 'McCaEnLAw'), ('*Mesic', 'mN'), ('*Old', 'Fdendi'), ('*TEE', 'VOICE'), ('*TIIE', 'ExPoSIToWcS'), ('*TIe', 'Soil')]"
      ]
     },
     "execution_count": 17,
     "metadata": {},
     "output_type": "execute_result"
    }
   ],
   "source": [
    "finder_all.nbest(bigram_measures.pmi, 10)"
   ]
  },
  {
   "cell_type": "code",
   "execution_count": 18,
   "metadata": {},
   "outputs": [],
   "source": [
    "# hmm... not what i wanted"
   ]
  },
  {
   "cell_type": "code",
   "execution_count": 19,
   "metadata": {},
   "outputs": [],
   "source": [
    "trigram_measures = nltk.collocations.TrigramAssocMeasures()"
   ]
  },
  {
   "cell_type": "code",
   "execution_count": 20,
   "metadata": {},
   "outputs": [],
   "source": [
    "tri_finder = TrigramCollocationFinder.from_documents([x.coll_toks_all for x in review_list])"
   ]
  },
  {
   "cell_type": "code",
   "execution_count": 21,
   "metadata": {},
   "outputs": [],
   "source": [
    "# only trigrams that occur more than 3 times\n",
    "tri_finder.apply_freq_filter(3)"
   ]
  },
  {
   "cell_type": "code",
   "execution_count": 22,
   "metadata": {},
   "outputs": [],
   "source": [
    "# it seems that word_filter and ngram_filter only get rid of the filtered statement\n",
    "tri_finder.apply_ngram_filter(lambda w1, w2, w3: '●' not in w2)"
   ]
  },
  {
   "cell_type": "code",
   "execution_count": 23,
   "metadata": {},
   "outputs": [
    {
     "data": {
      "text/plain": [
       "[('Prof.', '●●●●●●●●●●●●●', '.'), ('which', '●●●●●●●●●', 'gives'), ('.', '●●●●●●●●●●', 'believes'), ('By', '●●●●●●●●●●●●●●●●●●●●●●●', '.'), ('.', '●●●●●●●●●●●●', 'writes')]"
      ]
     },
     "execution_count": 23,
     "metadata": {},
     "output_type": "execute_result"
    }
   ],
   "source": [
    "tri_finder.nbest(bigram_measures.pmi, 5)"
   ]
  },
  {
   "cell_type": "code",
   "execution_count": 24,
   "metadata": {},
   "outputs": [],
   "source": [
    "scored = tri_finder.score_ngrams(trigram_measures.pmi)"
   ]
  },
  {
   "cell_type": "code",
   "execution_count": 25,
   "metadata": {},
   "outputs": [
    {
     "data": {
      "text/plain": [
       "[(('Prof.', '●●●●●●●●●●●●●', '.'), 14.596982942555456), (('which', '●●●●●●●●●', 'gives'), 11.482847260336335), (('.', '●●●●●●●●●●', 'believes'), 11.219230284824388), (('By', '●●●●●●●●●●●●●●●●●●●●●●●', '.'), 11.08940912415336), (('.', '●●●●●●●●●●●●', 'writes'), 10.54064884491875), (('But', '●●●●●●●●●●', 'has'), 10.366818209472527), (('.', '●●●●●●●●●', 'writes'), 10.16213722166502), (('.', '●●●●●●●●●●●', 'writes'), 10.03701742237092), (('.', '●●●●●●●●●●●●●●●●●', 'gives'), 9.98517630428326), (('By', '●●●●●●●●●●●●●●●●●●', '.'), 9.904984553015922)]"
      ]
     },
     "execution_count": 25,
     "metadata": {},
     "output_type": "execute_result"
    }
   ],
   "source": [
    "scored[:10]"
   ]
  },
  {
   "cell_type": "code",
   "execution_count": 26,
   "metadata": {},
   "outputs": [
    {
     "data": {
      "text/plain": [
       "280"
      ]
     },
     "execution_count": 26,
     "metadata": {},
     "output_type": "execute_result"
    }
   ],
   "source": [
    "len(scored)"
   ]
  },
  {
   "cell_type": "code",
   "execution_count": 27,
   "metadata": {},
   "outputs": [],
   "source": [
    "# testing something - will the filter be different if I apply after scoring using PMI?"
   ]
  },
  {
   "cell_type": "code",
   "execution_count": 28,
   "metadata": {},
   "outputs": [],
   "source": [
    "tri_finder2 = TrigramCollocationFinder.from_documents([x.coll_toks_all for x in review_list])\n",
    "tri_finder2.apply_freq_filter(3)\n",
    "scored2 = tri_finder.score_ngrams(trigram_measures.pmi)"
   ]
  },
  {
   "cell_type": "code",
   "execution_count": 29,
   "metadata": {},
   "outputs": [],
   "source": [
    "scored2 = [(trigram,pmi) for (trigram,pmi) in scored if '●' in trigram[1]]"
   ]
  },
  {
   "cell_type": "code",
   "execution_count": 30,
   "metadata": {},
   "outputs": [
    {
     "data": {
      "text/plain": [
       "280"
      ]
     },
     "execution_count": 30,
     "metadata": {},
     "output_type": "execute_result"
    }
   ],
   "source": [
    "len(scored2)"
   ]
  },
  {
   "cell_type": "code",
   "execution_count": 31,
   "metadata": {},
   "outputs": [
    {
     "data": {
      "text/plain": [
       "True"
      ]
     },
     "execution_count": 31,
     "metadata": {},
     "output_type": "execute_result"
    }
   ],
   "source": [
    "scored == scored2"
   ]
  },
  {
   "cell_type": "code",
   "execution_count": 32,
   "metadata": {},
   "outputs": [],
   "source": [
    "# nope"
   ]
  },
  {
   "cell_type": "markdown",
   "metadata": {},
   "source": [
    "## It's graph time 😈"
   ]
  },
  {
   "cell_type": "code",
   "execution_count": 33,
   "metadata": {},
   "outputs": [],
   "source": [
    "import matplotlib.pyplot as plt\n",
    "import seaborn as sns\n",
    "sns.set()"
   ]
  },
  {
   "cell_type": "code",
   "execution_count": 34,
   "metadata": {},
   "outputs": [],
   "source": [
    "pmi_df = pd.DataFrame()"
   ]
  },
  {
   "cell_type": "code",
   "execution_count": 35,
   "metadata": {},
   "outputs": [],
   "source": [
    "pmi_df['trigram'] = [x[0] for x in scored]\n",
    "pmi_df['pmi'] = [x[1] for x in scored]"
   ]
  },
  {
   "cell_type": "code",
   "execution_count": 36,
   "metadata": {},
   "outputs": [
    {
     "data": {
      "text/html": [
       "<div>\n",
       "<style scoped>\n",
       "    .dataframe tbody tr th:only-of-type {\n",
       "        vertical-align: middle;\n",
       "    }\n",
       "\n",
       "    .dataframe tbody tr th {\n",
       "        vertical-align: top;\n",
       "    }\n",
       "\n",
       "    .dataframe thead th {\n",
       "        text-align: right;\n",
       "    }\n",
       "</style>\n",
       "<table border=\"1\" class=\"dataframe\">\n",
       "  <thead>\n",
       "    <tr style=\"text-align: right;\">\n",
       "      <th></th>\n",
       "      <th>trigram</th>\n",
       "      <th>pmi</th>\n",
       "    </tr>\n",
       "  </thead>\n",
       "  <tbody>\n",
       "    <tr>\n",
       "      <td>0</td>\n",
       "      <td>(Prof., ●●●●●●●●●●●●●, .)</td>\n",
       "      <td>14.596983</td>\n",
       "    </tr>\n",
       "    <tr>\n",
       "      <td>1</td>\n",
       "      <td>(which, ●●●●●●●●●, gives)</td>\n",
       "      <td>11.482847</td>\n",
       "    </tr>\n",
       "    <tr>\n",
       "      <td>2</td>\n",
       "      <td>(., ●●●●●●●●●●, believes)</td>\n",
       "      <td>11.219230</td>\n",
       "    </tr>\n",
       "    <tr>\n",
       "      <td>3</td>\n",
       "      <td>(By, ●●●●●●●●●●●●●●●●●●●●●●●, .)</td>\n",
       "      <td>11.089409</td>\n",
       "    </tr>\n",
       "    <tr>\n",
       "      <td>4</td>\n",
       "      <td>(., ●●●●●●●●●●●●, writes)</td>\n",
       "      <td>10.540649</td>\n",
       "    </tr>\n",
       "  </tbody>\n",
       "</table>\n",
       "</div>"
      ],
      "text/plain": [
       "                            trigram        pmi\n",
       "0         (Prof., ●●●●●●●●●●●●●, .)  14.596983\n",
       "1         (which, ●●●●●●●●●, gives)  11.482847\n",
       "2         (., ●●●●●●●●●●, believes)  11.219230\n",
       "3  (By, ●●●●●●●●●●●●●●●●●●●●●●●, .)  11.089409\n",
       "4         (., ●●●●●●●●●●●●, writes)  10.540649"
      ]
     },
     "execution_count": 36,
     "metadata": {},
     "output_type": "execute_result"
    }
   ],
   "source": [
    "pmi_df.head()"
   ]
  },
  {
   "cell_type": "code",
   "execution_count": 37,
   "metadata": {},
   "outputs": [],
   "source": [
    "pmi_df['preceding_word'] = pmi_df.trigram.map(lambda x: x[0])\n",
    "pmi_df['person_name'] = pmi_df.trigram.map(lambda x: x[1])\n",
    "pmi_df['following_word'] = pmi_df.trigram.map(lambda x: x[2])"
   ]
  },
  {
   "cell_type": "code",
   "execution_count": 38,
   "metadata": {},
   "outputs": [
    {
     "data": {
      "text/html": [
       "<div>\n",
       "<style scoped>\n",
       "    .dataframe tbody tr th:only-of-type {\n",
       "        vertical-align: middle;\n",
       "    }\n",
       "\n",
       "    .dataframe tbody tr th {\n",
       "        vertical-align: top;\n",
       "    }\n",
       "\n",
       "    .dataframe thead th {\n",
       "        text-align: right;\n",
       "    }\n",
       "</style>\n",
       "<table border=\"1\" class=\"dataframe\">\n",
       "  <thead>\n",
       "    <tr style=\"text-align: right;\">\n",
       "      <th></th>\n",
       "      <th>trigram</th>\n",
       "      <th>pmi</th>\n",
       "      <th>preceding_word</th>\n",
       "      <th>person_name</th>\n",
       "      <th>following_word</th>\n",
       "    </tr>\n",
       "  </thead>\n",
       "  <tbody>\n",
       "    <tr>\n",
       "      <td>0</td>\n",
       "      <td>(Prof., ●●●●●●●●●●●●●, .)</td>\n",
       "      <td>14.596983</td>\n",
       "      <td>Prof.</td>\n",
       "      <td>●●●●●●●●●●●●●</td>\n",
       "      <td>.</td>\n",
       "    </tr>\n",
       "    <tr>\n",
       "      <td>1</td>\n",
       "      <td>(which, ●●●●●●●●●, gives)</td>\n",
       "      <td>11.482847</td>\n",
       "      <td>which</td>\n",
       "      <td>●●●●●●●●●</td>\n",
       "      <td>gives</td>\n",
       "    </tr>\n",
       "    <tr>\n",
       "      <td>2</td>\n",
       "      <td>(., ●●●●●●●●●●, believes)</td>\n",
       "      <td>11.219230</td>\n",
       "      <td>.</td>\n",
       "      <td>●●●●●●●●●●</td>\n",
       "      <td>believes</td>\n",
       "    </tr>\n",
       "    <tr>\n",
       "      <td>3</td>\n",
       "      <td>(By, ●●●●●●●●●●●●●●●●●●●●●●●, .)</td>\n",
       "      <td>11.089409</td>\n",
       "      <td>By</td>\n",
       "      <td>●●●●●●●●●●●●●●●●●●●●●●●</td>\n",
       "      <td>.</td>\n",
       "    </tr>\n",
       "    <tr>\n",
       "      <td>4</td>\n",
       "      <td>(., ●●●●●●●●●●●●, writes)</td>\n",
       "      <td>10.540649</td>\n",
       "      <td>.</td>\n",
       "      <td>●●●●●●●●●●●●</td>\n",
       "      <td>writes</td>\n",
       "    </tr>\n",
       "  </tbody>\n",
       "</table>\n",
       "</div>"
      ],
      "text/plain": [
       "                            trigram        pmi preceding_word  \\\n",
       "0         (Prof., ●●●●●●●●●●●●●, .)  14.596983          Prof.   \n",
       "1         (which, ●●●●●●●●●, gives)  11.482847          which   \n",
       "2         (., ●●●●●●●●●●, believes)  11.219230              .   \n",
       "3  (By, ●●●●●●●●●●●●●●●●●●●●●●●, .)  11.089409             By   \n",
       "4         (., ●●●●●●●●●●●●, writes)  10.540649              .   \n",
       "\n",
       "               person_name following_word  \n",
       "0            ●●●●●●●●●●●●●              .  \n",
       "1                ●●●●●●●●●          gives  \n",
       "2               ●●●●●●●●●●       believes  \n",
       "3  ●●●●●●●●●●●●●●●●●●●●●●●              .  \n",
       "4             ●●●●●●●●●●●●         writes  "
      ]
     },
     "execution_count": 38,
     "metadata": {},
     "output_type": "execute_result"
    }
   ],
   "source": [
    "pmi_df.head()"
   ]
  },
  {
   "cell_type": "code",
   "execution_count": 39,
   "metadata": {},
   "outputs": [
    {
     "data": {
      "text/plain": [
       "0      14.596983\n",
       "1      11.482847\n",
       "2      11.219230\n",
       "3      11.089409\n",
       "4      10.540649\n",
       "         ...    \n",
       "275     1.696906\n",
       "276     1.462755\n",
       "277     1.366912\n",
       "278     1.021641\n",
       "279     0.744606\n",
       "Name: pmi, Length: 280, dtype: float64"
      ]
     },
     "execution_count": 39,
     "metadata": {},
     "output_type": "execute_result"
    }
   ],
   "source": [
    "pmi_df.pmi"
   ]
  },
  {
   "cell_type": "code",
   "execution_count": 40,
   "metadata": {},
   "outputs": [
    {
     "data": {
      "text/plain": [
       ".       63\n",
       "by      51\n",
       "of      43\n",
       ",       35\n",
       "that    12\n",
       "and     10\n",
       "in       9\n",
       "to       9\n",
       "``       8\n",
       "the      8\n",
       "Name: preceding_word, dtype: int64"
      ]
     },
     "execution_count": 40,
     "metadata": {},
     "output_type": "execute_result"
    }
   ],
   "source": [
    "pmi_df.preceding_word.value_counts()[:10]"
   ]
  },
  {
   "cell_type": "code",
   "execution_count": 41,
   "metadata": {},
   "outputs": [
    {
     "data": {
      "text/plain": [
       "preceding_word  following_word\n",
       "'               's                 1\n",
       ",               ,                 17\n",
       "                's                 6\n",
       "                has                3\n",
       "                is                 3\n",
       "                                  ..\n",
       "to              .                  1\n",
       "                for                1\n",
       "which           has                4\n",
       "                gives              1\n",
       "with            's                 2\n",
       "Name: following_word, Length: 70, dtype: int64"
      ]
     },
     "execution_count": 41,
     "metadata": {},
     "output_type": "execute_result"
    }
   ],
   "source": [
    "pmi_df.groupby(['preceding_word']).following_word.value_counts()"
   ]
  },
  {
   "cell_type": "code",
   "execution_count": 42,
   "metadata": {},
   "outputs": [
    {
     "data": {
      "text/html": [
       "<div>\n",
       "<style scoped>\n",
       "    .dataframe tbody tr th:only-of-type {\n",
       "        vertical-align: middle;\n",
       "    }\n",
       "\n",
       "    .dataframe tbody tr th {\n",
       "        vertical-align: top;\n",
       "    }\n",
       "\n",
       "    .dataframe thead th {\n",
       "        text-align: right;\n",
       "    }\n",
       "</style>\n",
       "<table border=\"1\" class=\"dataframe\">\n",
       "  <thead>\n",
       "    <tr style=\"text-align: right;\">\n",
       "      <th>following_word</th>\n",
       "      <th>'</th>\n",
       "      <th>'s</th>\n",
       "      <th>,</th>\n",
       "      <th>.</th>\n",
       "      <th>;</th>\n",
       "      <th>and</th>\n",
       "      <th>believes</th>\n",
       "      <th>does</th>\n",
       "      <th>for</th>\n",
       "      <th>gives</th>\n",
       "      <th>has</th>\n",
       "      <th>in</th>\n",
       "      <th>is</th>\n",
       "      <th>of</th>\n",
       "      <th>shows</th>\n",
       "      <th>was</th>\n",
       "      <th>who</th>\n",
       "      <th>writes</th>\n",
       "    </tr>\n",
       "    <tr>\n",
       "      <th>preceding_word</th>\n",
       "      <th></th>\n",
       "      <th></th>\n",
       "      <th></th>\n",
       "      <th></th>\n",
       "      <th></th>\n",
       "      <th></th>\n",
       "      <th></th>\n",
       "      <th></th>\n",
       "      <th></th>\n",
       "      <th></th>\n",
       "      <th></th>\n",
       "      <th></th>\n",
       "      <th></th>\n",
       "      <th></th>\n",
       "      <th></th>\n",
       "      <th></th>\n",
       "      <th></th>\n",
       "      <th></th>\n",
       "    </tr>\n",
       "  </thead>\n",
       "  <tbody>\n",
       "    <tr>\n",
       "      <td>'</td>\n",
       "      <td>NaN</td>\n",
       "      <td>8.093056</td>\n",
       "      <td>NaN</td>\n",
       "      <td>NaN</td>\n",
       "      <td>NaN</td>\n",
       "      <td>NaN</td>\n",
       "      <td>NaN</td>\n",
       "      <td>NaN</td>\n",
       "      <td>NaN</td>\n",
       "      <td>NaN</td>\n",
       "      <td>NaN</td>\n",
       "      <td>NaN</td>\n",
       "      <td>NaN</td>\n",
       "      <td>NaN</td>\n",
       "      <td>NaN</td>\n",
       "      <td>NaN</td>\n",
       "      <td>NaN</td>\n",
       "      <td>NaN</td>\n",
       "    </tr>\n",
       "    <tr>\n",
       "      <td>,</td>\n",
       "      <td>NaN</td>\n",
       "      <td>5.663834</td>\n",
       "      <td>3.408622</td>\n",
       "      <td>2.637720</td>\n",
       "      <td>NaN</td>\n",
       "      <td>NaN</td>\n",
       "      <td>NaN</td>\n",
       "      <td>NaN</td>\n",
       "      <td>NaN</td>\n",
       "      <td>NaN</td>\n",
       "      <td>5.244155</td>\n",
       "      <td>NaN</td>\n",
       "      <td>2.929618</td>\n",
       "      <td>2.167661</td>\n",
       "      <td>8.479621</td>\n",
       "      <td>4.814724</td>\n",
       "      <td>NaN</td>\n",
       "      <td>NaN</td>\n",
       "    </tr>\n",
       "    <tr>\n",
       "      <td>.</td>\n",
       "      <td>NaN</td>\n",
       "      <td>8.011240</td>\n",
       "      <td>3.625919</td>\n",
       "      <td>5.877724</td>\n",
       "      <td>NaN</td>\n",
       "      <td>2.531267</td>\n",
       "      <td>11.21923</td>\n",
       "      <td>7.831828</td>\n",
       "      <td>NaN</td>\n",
       "      <td>9.985176</td>\n",
       "      <td>7.358731</td>\n",
       "      <td>NaN</td>\n",
       "      <td>5.182107</td>\n",
       "      <td>NaN</td>\n",
       "      <td>NaN</td>\n",
       "      <td>5.801826</td>\n",
       "      <td>NaN</td>\n",
       "      <td>10.144141</td>\n",
       "    </tr>\n",
       "    <tr>\n",
       "      <td>But</td>\n",
       "      <td>NaN</td>\n",
       "      <td>NaN</td>\n",
       "      <td>NaN</td>\n",
       "      <td>NaN</td>\n",
       "      <td>NaN</td>\n",
       "      <td>NaN</td>\n",
       "      <td>NaN</td>\n",
       "      <td>NaN</td>\n",
       "      <td>NaN</td>\n",
       "      <td>NaN</td>\n",
       "      <td>10.366818</td>\n",
       "      <td>NaN</td>\n",
       "      <td>NaN</td>\n",
       "      <td>NaN</td>\n",
       "      <td>NaN</td>\n",
       "      <td>NaN</td>\n",
       "      <td>NaN</td>\n",
       "      <td>NaN</td>\n",
       "    </tr>\n",
       "    <tr>\n",
       "      <td>By</td>\n",
       "      <td>NaN</td>\n",
       "      <td>NaN</td>\n",
       "      <td>8.960031</td>\n",
       "      <td>9.441673</td>\n",
       "      <td>NaN</td>\n",
       "      <td>NaN</td>\n",
       "      <td>NaN</td>\n",
       "      <td>NaN</td>\n",
       "      <td>NaN</td>\n",
       "      <td>NaN</td>\n",
       "      <td>NaN</td>\n",
       "      <td>NaN</td>\n",
       "      <td>NaN</td>\n",
       "      <td>NaN</td>\n",
       "      <td>NaN</td>\n",
       "      <td>NaN</td>\n",
       "      <td>NaN</td>\n",
       "      <td>NaN</td>\n",
       "    </tr>\n",
       "    <tr>\n",
       "      <td>In</td>\n",
       "      <td>NaN</td>\n",
       "      <td>9.176462</td>\n",
       "      <td>NaN</td>\n",
       "      <td>NaN</td>\n",
       "      <td>NaN</td>\n",
       "      <td>NaN</td>\n",
       "      <td>NaN</td>\n",
       "      <td>NaN</td>\n",
       "      <td>NaN</td>\n",
       "      <td>NaN</td>\n",
       "      <td>NaN</td>\n",
       "      <td>NaN</td>\n",
       "      <td>NaN</td>\n",
       "      <td>NaN</td>\n",
       "      <td>NaN</td>\n",
       "      <td>NaN</td>\n",
       "      <td>NaN</td>\n",
       "      <td>NaN</td>\n",
       "    </tr>\n",
       "    <tr>\n",
       "      <td>Prof.</td>\n",
       "      <td>NaN</td>\n",
       "      <td>NaN</td>\n",
       "      <td>NaN</td>\n",
       "      <td>14.596983</td>\n",
       "      <td>NaN</td>\n",
       "      <td>NaN</td>\n",
       "      <td>NaN</td>\n",
       "      <td>NaN</td>\n",
       "      <td>NaN</td>\n",
       "      <td>NaN</td>\n",
       "      <td>NaN</td>\n",
       "      <td>NaN</td>\n",
       "      <td>NaN</td>\n",
       "      <td>NaN</td>\n",
       "      <td>NaN</td>\n",
       "      <td>NaN</td>\n",
       "      <td>NaN</td>\n",
       "      <td>NaN</td>\n",
       "    </tr>\n",
       "    <tr>\n",
       "      <td>``</td>\n",
       "      <td>NaN</td>\n",
       "      <td>7.148468</td>\n",
       "      <td>3.390998</td>\n",
       "      <td>NaN</td>\n",
       "      <td>NaN</td>\n",
       "      <td>NaN</td>\n",
       "      <td>NaN</td>\n",
       "      <td>NaN</td>\n",
       "      <td>NaN</td>\n",
       "      <td>NaN</td>\n",
       "      <td>7.155815</td>\n",
       "      <td>NaN</td>\n",
       "      <td>5.225133</td>\n",
       "      <td>NaN</td>\n",
       "      <td>NaN</td>\n",
       "      <td>NaN</td>\n",
       "      <td>NaN</td>\n",
       "      <td>NaN</td>\n",
       "    </tr>\n",
       "    <tr>\n",
       "      <td>and</td>\n",
       "      <td>NaN</td>\n",
       "      <td>6.109938</td>\n",
       "      <td>2.929353</td>\n",
       "      <td>3.752410</td>\n",
       "      <td>NaN</td>\n",
       "      <td>NaN</td>\n",
       "      <td>NaN</td>\n",
       "      <td>NaN</td>\n",
       "      <td>NaN</td>\n",
       "      <td>NaN</td>\n",
       "      <td>NaN</td>\n",
       "      <td>NaN</td>\n",
       "      <td>NaN</td>\n",
       "      <td>NaN</td>\n",
       "      <td>NaN</td>\n",
       "      <td>NaN</td>\n",
       "      <td>NaN</td>\n",
       "      <td>NaN</td>\n",
       "    </tr>\n",
       "    <tr>\n",
       "      <td>as</td>\n",
       "      <td>NaN</td>\n",
       "      <td>NaN</td>\n",
       "      <td>3.751671</td>\n",
       "      <td>NaN</td>\n",
       "      <td>NaN</td>\n",
       "      <td>5.077865</td>\n",
       "      <td>NaN</td>\n",
       "      <td>NaN</td>\n",
       "      <td>NaN</td>\n",
       "      <td>NaN</td>\n",
       "      <td>7.690987</td>\n",
       "      <td>NaN</td>\n",
       "      <td>NaN</td>\n",
       "      <td>NaN</td>\n",
       "      <td>NaN</td>\n",
       "      <td>NaN</td>\n",
       "      <td>NaN</td>\n",
       "      <td>NaN</td>\n",
       "    </tr>\n",
       "    <tr>\n",
       "      <td>but</td>\n",
       "      <td>NaN</td>\n",
       "      <td>NaN</td>\n",
       "      <td>NaN</td>\n",
       "      <td>NaN</td>\n",
       "      <td>NaN</td>\n",
       "      <td>NaN</td>\n",
       "      <td>NaN</td>\n",
       "      <td>NaN</td>\n",
       "      <td>NaN</td>\n",
       "      <td>NaN</td>\n",
       "      <td>8.706995</td>\n",
       "      <td>NaN</td>\n",
       "      <td>NaN</td>\n",
       "      <td>NaN</td>\n",
       "      <td>NaN</td>\n",
       "      <td>NaN</td>\n",
       "      <td>NaN</td>\n",
       "      <td>NaN</td>\n",
       "    </tr>\n",
       "    <tr>\n",
       "      <td>by</td>\n",
       "      <td>NaN</td>\n",
       "      <td>8.246965</td>\n",
       "      <td>6.742236</td>\n",
       "      <td>6.872763</td>\n",
       "      <td>8.970174</td>\n",
       "      <td>5.529962</td>\n",
       "      <td>NaN</td>\n",
       "      <td>NaN</td>\n",
       "      <td>NaN</td>\n",
       "      <td>NaN</td>\n",
       "      <td>NaN</td>\n",
       "      <td>6.171813</td>\n",
       "      <td>5.958451</td>\n",
       "      <td>6.613466</td>\n",
       "      <td>NaN</td>\n",
       "      <td>NaN</td>\n",
       "      <td>9.888521</td>\n",
       "      <td>NaN</td>\n",
       "    </tr>\n",
       "    <tr>\n",
       "      <td>from</td>\n",
       "      <td>NaN</td>\n",
       "      <td>8.784729</td>\n",
       "      <td>NaN</td>\n",
       "      <td>NaN</td>\n",
       "      <td>NaN</td>\n",
       "      <td>NaN</td>\n",
       "      <td>NaN</td>\n",
       "      <td>NaN</td>\n",
       "      <td>NaN</td>\n",
       "      <td>NaN</td>\n",
       "      <td>NaN</td>\n",
       "      <td>NaN</td>\n",
       "      <td>NaN</td>\n",
       "      <td>NaN</td>\n",
       "      <td>NaN</td>\n",
       "      <td>NaN</td>\n",
       "      <td>NaN</td>\n",
       "      <td>NaN</td>\n",
       "    </tr>\n",
       "    <tr>\n",
       "      <td>in</td>\n",
       "      <td>NaN</td>\n",
       "      <td>8.065675</td>\n",
       "      <td>NaN</td>\n",
       "      <td>NaN</td>\n",
       "      <td>NaN</td>\n",
       "      <td>NaN</td>\n",
       "      <td>NaN</td>\n",
       "      <td>NaN</td>\n",
       "      <td>NaN</td>\n",
       "      <td>NaN</td>\n",
       "      <td>NaN</td>\n",
       "      <td>NaN</td>\n",
       "      <td>NaN</td>\n",
       "      <td>NaN</td>\n",
       "      <td>NaN</td>\n",
       "      <td>NaN</td>\n",
       "      <td>NaN</td>\n",
       "      <td>NaN</td>\n",
       "    </tr>\n",
       "    <tr>\n",
       "      <td>is</td>\n",
       "      <td>NaN</td>\n",
       "      <td>7.736567</td>\n",
       "      <td>NaN</td>\n",
       "      <td>NaN</td>\n",
       "      <td>NaN</td>\n",
       "      <td>NaN</td>\n",
       "      <td>NaN</td>\n",
       "      <td>NaN</td>\n",
       "      <td>NaN</td>\n",
       "      <td>NaN</td>\n",
       "      <td>NaN</td>\n",
       "      <td>NaN</td>\n",
       "      <td>NaN</td>\n",
       "      <td>NaN</td>\n",
       "      <td>NaN</td>\n",
       "      <td>NaN</td>\n",
       "      <td>NaN</td>\n",
       "      <td>NaN</td>\n",
       "    </tr>\n",
       "    <tr>\n",
       "      <td>like</td>\n",
       "      <td>NaN</td>\n",
       "      <td>NaN</td>\n",
       "      <td>7.123457</td>\n",
       "      <td>NaN</td>\n",
       "      <td>NaN</td>\n",
       "      <td>NaN</td>\n",
       "      <td>NaN</td>\n",
       "      <td>NaN</td>\n",
       "      <td>NaN</td>\n",
       "      <td>NaN</td>\n",
       "      <td>NaN</td>\n",
       "      <td>NaN</td>\n",
       "      <td>NaN</td>\n",
       "      <td>NaN</td>\n",
       "      <td>NaN</td>\n",
       "      <td>NaN</td>\n",
       "      <td>NaN</td>\n",
       "      <td>NaN</td>\n",
       "    </tr>\n",
       "    <tr>\n",
       "      <td>of</td>\n",
       "      <td>5.049062</td>\n",
       "      <td>7.979267</td>\n",
       "      <td>3.452023</td>\n",
       "      <td>2.903177</td>\n",
       "      <td>NaN</td>\n",
       "      <td>4.081431</td>\n",
       "      <td>NaN</td>\n",
       "      <td>NaN</td>\n",
       "      <td>NaN</td>\n",
       "      <td>NaN</td>\n",
       "      <td>NaN</td>\n",
       "      <td>NaN</td>\n",
       "      <td>3.408045</td>\n",
       "      <td>NaN</td>\n",
       "      <td>NaN</td>\n",
       "      <td>NaN</td>\n",
       "      <td>NaN</td>\n",
       "      <td>NaN</td>\n",
       "    </tr>\n",
       "    <tr>\n",
       "      <td>on</td>\n",
       "      <td>NaN</td>\n",
       "      <td>8.243631</td>\n",
       "      <td>NaN</td>\n",
       "      <td>NaN</td>\n",
       "      <td>NaN</td>\n",
       "      <td>NaN</td>\n",
       "      <td>NaN</td>\n",
       "      <td>NaN</td>\n",
       "      <td>NaN</td>\n",
       "      <td>NaN</td>\n",
       "      <td>NaN</td>\n",
       "      <td>NaN</td>\n",
       "      <td>NaN</td>\n",
       "      <td>NaN</td>\n",
       "      <td>NaN</td>\n",
       "      <td>NaN</td>\n",
       "      <td>NaN</td>\n",
       "      <td>NaN</td>\n",
       "    </tr>\n",
       "    <tr>\n",
       "      <td>says</td>\n",
       "      <td>NaN</td>\n",
       "      <td>NaN</td>\n",
       "      <td>8.244498</td>\n",
       "      <td>NaN</td>\n",
       "      <td>NaN</td>\n",
       "      <td>NaN</td>\n",
       "      <td>NaN</td>\n",
       "      <td>NaN</td>\n",
       "      <td>NaN</td>\n",
       "      <td>NaN</td>\n",
       "      <td>NaN</td>\n",
       "      <td>NaN</td>\n",
       "      <td>NaN</td>\n",
       "      <td>NaN</td>\n",
       "      <td>NaN</td>\n",
       "      <td>NaN</td>\n",
       "      <td>NaN</td>\n",
       "      <td>NaN</td>\n",
       "    </tr>\n",
       "    <tr>\n",
       "      <td>that</td>\n",
       "      <td>NaN</td>\n",
       "      <td>7.509813</td>\n",
       "      <td>3.848100</td>\n",
       "      <td>NaN</td>\n",
       "      <td>NaN</td>\n",
       "      <td>NaN</td>\n",
       "      <td>NaN</td>\n",
       "      <td>NaN</td>\n",
       "      <td>NaN</td>\n",
       "      <td>NaN</td>\n",
       "      <td>8.147719</td>\n",
       "      <td>NaN</td>\n",
       "      <td>6.410431</td>\n",
       "      <td>NaN</td>\n",
       "      <td>NaN</td>\n",
       "      <td>NaN</td>\n",
       "      <td>NaN</td>\n",
       "      <td>NaN</td>\n",
       "    </tr>\n",
       "    <tr>\n",
       "      <td>the</td>\n",
       "      <td>NaN</td>\n",
       "      <td>NaN</td>\n",
       "      <td>3.503231</td>\n",
       "      <td>1.615017</td>\n",
       "      <td>NaN</td>\n",
       "      <td>NaN</td>\n",
       "      <td>NaN</td>\n",
       "      <td>NaN</td>\n",
       "      <td>NaN</td>\n",
       "      <td>NaN</td>\n",
       "      <td>NaN</td>\n",
       "      <td>NaN</td>\n",
       "      <td>NaN</td>\n",
       "      <td>NaN</td>\n",
       "      <td>NaN</td>\n",
       "      <td>NaN</td>\n",
       "      <td>NaN</td>\n",
       "      <td>NaN</td>\n",
       "    </tr>\n",
       "    <tr>\n",
       "      <td>to</td>\n",
       "      <td>NaN</td>\n",
       "      <td>7.659438</td>\n",
       "      <td>3.569835</td>\n",
       "      <td>2.862114</td>\n",
       "      <td>NaN</td>\n",
       "      <td>NaN</td>\n",
       "      <td>NaN</td>\n",
       "      <td>NaN</td>\n",
       "      <td>5.511932</td>\n",
       "      <td>NaN</td>\n",
       "      <td>NaN</td>\n",
       "      <td>NaN</td>\n",
       "      <td>NaN</td>\n",
       "      <td>NaN</td>\n",
       "      <td>NaN</td>\n",
       "      <td>NaN</td>\n",
       "      <td>NaN</td>\n",
       "      <td>NaN</td>\n",
       "    </tr>\n",
       "    <tr>\n",
       "      <td>which</td>\n",
       "      <td>NaN</td>\n",
       "      <td>NaN</td>\n",
       "      <td>NaN</td>\n",
       "      <td>NaN</td>\n",
       "      <td>NaN</td>\n",
       "      <td>NaN</td>\n",
       "      <td>NaN</td>\n",
       "      <td>NaN</td>\n",
       "      <td>NaN</td>\n",
       "      <td>11.482847</td>\n",
       "      <td>8.638922</td>\n",
       "      <td>NaN</td>\n",
       "      <td>NaN</td>\n",
       "      <td>NaN</td>\n",
       "      <td>NaN</td>\n",
       "      <td>NaN</td>\n",
       "      <td>NaN</td>\n",
       "      <td>NaN</td>\n",
       "    </tr>\n",
       "    <tr>\n",
       "      <td>with</td>\n",
       "      <td>NaN</td>\n",
       "      <td>8.437483</td>\n",
       "      <td>NaN</td>\n",
       "      <td>NaN</td>\n",
       "      <td>NaN</td>\n",
       "      <td>NaN</td>\n",
       "      <td>NaN</td>\n",
       "      <td>NaN</td>\n",
       "      <td>NaN</td>\n",
       "      <td>NaN</td>\n",
       "      <td>NaN</td>\n",
       "      <td>NaN</td>\n",
       "      <td>NaN</td>\n",
       "      <td>NaN</td>\n",
       "      <td>NaN</td>\n",
       "      <td>NaN</td>\n",
       "      <td>NaN</td>\n",
       "      <td>NaN</td>\n",
       "    </tr>\n",
       "  </tbody>\n",
       "</table>\n",
       "</div>"
      ],
      "text/plain": [
       "following_word         '        's         ,          .         ;       and  \\\n",
       "preceding_word                                                                \n",
       "'                    NaN  8.093056       NaN        NaN       NaN       NaN   \n",
       ",                    NaN  5.663834  3.408622   2.637720       NaN       NaN   \n",
       ".                    NaN  8.011240  3.625919   5.877724       NaN  2.531267   \n",
       "But                  NaN       NaN       NaN        NaN       NaN       NaN   \n",
       "By                   NaN       NaN  8.960031   9.441673       NaN       NaN   \n",
       "In                   NaN  9.176462       NaN        NaN       NaN       NaN   \n",
       "Prof.                NaN       NaN       NaN  14.596983       NaN       NaN   \n",
       "``                   NaN  7.148468  3.390998        NaN       NaN       NaN   \n",
       "and                  NaN  6.109938  2.929353   3.752410       NaN       NaN   \n",
       "as                   NaN       NaN  3.751671        NaN       NaN  5.077865   \n",
       "but                  NaN       NaN       NaN        NaN       NaN       NaN   \n",
       "by                   NaN  8.246965  6.742236   6.872763  8.970174  5.529962   \n",
       "from                 NaN  8.784729       NaN        NaN       NaN       NaN   \n",
       "in                   NaN  8.065675       NaN        NaN       NaN       NaN   \n",
       "is                   NaN  7.736567       NaN        NaN       NaN       NaN   \n",
       "like                 NaN       NaN  7.123457        NaN       NaN       NaN   \n",
       "of              5.049062  7.979267  3.452023   2.903177       NaN  4.081431   \n",
       "on                   NaN  8.243631       NaN        NaN       NaN       NaN   \n",
       "says                 NaN       NaN  8.244498        NaN       NaN       NaN   \n",
       "that                 NaN  7.509813  3.848100        NaN       NaN       NaN   \n",
       "the                  NaN       NaN  3.503231   1.615017       NaN       NaN   \n",
       "to                   NaN  7.659438  3.569835   2.862114       NaN       NaN   \n",
       "which                NaN       NaN       NaN        NaN       NaN       NaN   \n",
       "with                 NaN  8.437483       NaN        NaN       NaN       NaN   \n",
       "\n",
       "following_word  believes      does       for      gives        has        in  \\\n",
       "preceding_word                                                                 \n",
       "'                    NaN       NaN       NaN        NaN        NaN       NaN   \n",
       ",                    NaN       NaN       NaN        NaN   5.244155       NaN   \n",
       ".               11.21923  7.831828       NaN   9.985176   7.358731       NaN   \n",
       "But                  NaN       NaN       NaN        NaN  10.366818       NaN   \n",
       "By                   NaN       NaN       NaN        NaN        NaN       NaN   \n",
       "In                   NaN       NaN       NaN        NaN        NaN       NaN   \n",
       "Prof.                NaN       NaN       NaN        NaN        NaN       NaN   \n",
       "``                   NaN       NaN       NaN        NaN   7.155815       NaN   \n",
       "and                  NaN       NaN       NaN        NaN        NaN       NaN   \n",
       "as                   NaN       NaN       NaN        NaN   7.690987       NaN   \n",
       "but                  NaN       NaN       NaN        NaN   8.706995       NaN   \n",
       "by                   NaN       NaN       NaN        NaN        NaN  6.171813   \n",
       "from                 NaN       NaN       NaN        NaN        NaN       NaN   \n",
       "in                   NaN       NaN       NaN        NaN        NaN       NaN   \n",
       "is                   NaN       NaN       NaN        NaN        NaN       NaN   \n",
       "like                 NaN       NaN       NaN        NaN        NaN       NaN   \n",
       "of                   NaN       NaN       NaN        NaN        NaN       NaN   \n",
       "on                   NaN       NaN       NaN        NaN        NaN       NaN   \n",
       "says                 NaN       NaN       NaN        NaN        NaN       NaN   \n",
       "that                 NaN       NaN       NaN        NaN   8.147719       NaN   \n",
       "the                  NaN       NaN       NaN        NaN        NaN       NaN   \n",
       "to                   NaN       NaN  5.511932        NaN        NaN       NaN   \n",
       "which                NaN       NaN       NaN  11.482847   8.638922       NaN   \n",
       "with                 NaN       NaN       NaN        NaN        NaN       NaN   \n",
       "\n",
       "following_word        is        of     shows       was       who     writes  \n",
       "preceding_word                                                               \n",
       "'                    NaN       NaN       NaN       NaN       NaN        NaN  \n",
       ",               2.929618  2.167661  8.479621  4.814724       NaN        NaN  \n",
       ".               5.182107       NaN       NaN  5.801826       NaN  10.144141  \n",
       "But                  NaN       NaN       NaN       NaN       NaN        NaN  \n",
       "By                   NaN       NaN       NaN       NaN       NaN        NaN  \n",
       "In                   NaN       NaN       NaN       NaN       NaN        NaN  \n",
       "Prof.                NaN       NaN       NaN       NaN       NaN        NaN  \n",
       "``              5.225133       NaN       NaN       NaN       NaN        NaN  \n",
       "and                  NaN       NaN       NaN       NaN       NaN        NaN  \n",
       "as                   NaN       NaN       NaN       NaN       NaN        NaN  \n",
       "but                  NaN       NaN       NaN       NaN       NaN        NaN  \n",
       "by              5.958451  6.613466       NaN       NaN  9.888521        NaN  \n",
       "from                 NaN       NaN       NaN       NaN       NaN        NaN  \n",
       "in                   NaN       NaN       NaN       NaN       NaN        NaN  \n",
       "is                   NaN       NaN       NaN       NaN       NaN        NaN  \n",
       "like                 NaN       NaN       NaN       NaN       NaN        NaN  \n",
       "of              3.408045       NaN       NaN       NaN       NaN        NaN  \n",
       "on                   NaN       NaN       NaN       NaN       NaN        NaN  \n",
       "says                 NaN       NaN       NaN       NaN       NaN        NaN  \n",
       "that            6.410431       NaN       NaN       NaN       NaN        NaN  \n",
       "the                  NaN       NaN       NaN       NaN       NaN        NaN  \n",
       "to                   NaN       NaN       NaN       NaN       NaN        NaN  \n",
       "which                NaN       NaN       NaN       NaN       NaN        NaN  \n",
       "with                 NaN       NaN       NaN       NaN       NaN        NaN  "
      ]
     },
     "execution_count": 42,
     "metadata": {},
     "output_type": "execute_result"
    }
   ],
   "source": [
    "pmi_df.pivot_table('pmi', index='preceding_word',columns='following_word')\n",
    "# this does the same thing\n",
    "# pmi_df.groupby(['preceding_word','following_word'])['pmi'].aggregate('mean').unstack()"
   ]
  },
  {
   "cell_type": "code",
   "execution_count": 43,
   "metadata": {},
   "outputs": [
    {
     "data": {
      "text/plain": [
       "<matplotlib.axes._subplots.AxesSubplot object at 0x1a42a72090>"
      ]
     },
     "execution_count": 43,
     "metadata": {},
     "output_type": "execute_result"
    },
    {
     "data": {
      "image/png": "[encoded data removed]",
      "text/plain": [
       "<Figure size 792x720 with 2 Axes>"
      ]
     },
     "metadata": {
      "needs_background": "light"
     },
     "output_type": "display_data"
    }
   ],
   "source": [
    "pivot_data = pmi_df.groupby(['preceding_word','following_word'])['pmi'].aggregate('mean').unstack()\n",
    "\n",
    "f, ax = plt.subplots(figsize=(11, 10))\n",
    "sns.heatmap(pivot_data, annot=True, linewidths=.5, ax=ax)"
   ]
  },
  {
   "cell_type": "markdown",
   "metadata": {},
   "source": [
    "## More collocations, more power?"
   ]
  },
  {
   "cell_type": "code",
   "execution_count": 44,
   "metadata": {},
   "outputs": [],
   "source": [
    "from nltk.collocations import *"
   ]
  },
  {
   "cell_type": "code",
   "execution_count": 45,
   "metadata": {},
   "outputs": [
    {
     "data": {
      "text/plain": [
       "['AbstractCollocationFinder', 'BigramAssocMeasures', 'BigramCollocationFinder', 'ContingencyMeasures', 'FreqDist', 'QuadgramAssocMeasures', 'QuadgramCollocationFinder', 'TrigramAssocMeasures', 'TrigramCollocationFinder', '__all__', '__builtins__', '__cached__', '__doc__', '__file__', '__loader__', '__name__', '__package__', '__spec__', '_itertools', 'demo', 'iteritems', 'ngrams', 'print_function', 'ranks_from_scores', 'spearman_correlation']"
      ]
     },
     "execution_count": 45,
     "metadata": {},
     "output_type": "execute_result"
    }
   ],
   "source": [
    "dir(nltk.collocations)"
   ]
  },
  {
   "cell_type": "code",
   "execution_count": 46,
   "metadata": {},
   "outputs": [
    {
     "ename": "TypeError",
     "evalue": "__init__() missing 2 required positional arguments: 'word_fd' and 'ngram_fd'",
     "output_type": "error",
     "traceback": [
      "\u001b[0;31m---------------------------------------------------------------\u001b[0m",
      "\u001b[0;31mTypeError\u001b[0m                     Traceback (most recent call last)",
      "\u001b[0;32m<ipython-input-46-beeab49b5dfb>\u001b[0m in \u001b[0;36m<module>\u001b[0;34m\u001b[0m\n\u001b[0;32m----> 1\u001b[0;31m \u001b[0mafinder\u001b[0m \u001b[0;34m=\u001b[0m \u001b[0mnltk\u001b[0m\u001b[0;34m.\u001b[0m\u001b[0mcollocations\u001b[0m\u001b[0;34m.\u001b[0m\u001b[0mAbstractCollocationFinder\u001b[0m\u001b[0;34m(\u001b[0m\u001b[0;34m)\u001b[0m\u001b[0;34m\u001b[0m\u001b[0;34m\u001b[0m\u001b[0m\n\u001b[0m",
      "\u001b[0;31mTypeError\u001b[0m: __init__() missing 2 required positional arguments: 'word_fd' and 'ngram_fd'"
     ]
    }
   ],
   "source": [
    "afinder = nltk.collocations.AbstractCollocationFinder()"
   ]
  },
  {
   "cell_type": "code",
   "execution_count": 47,
   "metadata": {
    "collapsed": true
   },
   "outputs": [
    {
     "name": "stdout",
     "output_type": "stream",
     "text": [
      "Help on module nltk.collocations in nltk:\n",
      "\n",
      "NAME\n",
      "    nltk.collocations\n",
      "\n",
      "DESCRIPTION\n",
      "    Tools to identify collocations --- words that often appear consecutively\n",
      "    --- within corpora. They may also be used to find other associations between\n",
      "    word occurrences.\n",
      "    See Manning and Schutze ch. 5 at http://nlp.stanford.edu/fsnlp/promo/colloc.pdf\n",
      "    and the Text::NSP Perl package at http://ngram.sourceforge.net\n",
      "    \n",
      "    Finding collocations requires first calculating the frequencies of words and\n",
      "    their appearance in the context of other words. Often the collection of words\n",
      "    will then requiring filtering to only retain useful content terms. Each ngram\n",
      "    of words may then be scored according to some association measure, in order\n",
      "    to determine the relative likelihood of each ngram being a collocation.\n",
      "    \n",
      "    The ``BigramCollocationFinder`` and ``TrigramCollocationFinder`` classes provide\n",
      "    these functionalities, dependent on being provided a function which scores a\n",
      "    ngram given appropriate frequency counts. A number of standard association\n",
      "    measures are provided in bigram_measures and trigram_measures.\n",
      "\n",
      "CLASSES\n",
      "    AbstractCollocationFinder(builtins.object)\n",
      "        BigramCollocationFinder\n",
      "        QuadgramCollocationFinder\n",
      "        TrigramCollocationFinder\n",
      "    \n",
      "    class BigramCollocationFinder(AbstractCollocationFinder)\n",
      "     |  BigramCollocationFinder(word_fd, bigram_fd, window_size=2)\n",
      "     |  \n",
      "     |  A tool for the finding and ranking of bigram collocations or other\n",
      "     |  association measures. It is often useful to use from_words() rather than\n",
      "     |  constructing an instance directly.\n",
      "     |  \n",
      "     |  Method resolution order:\n",
      "     |      BigramCollocationFinder\n",
      "     |      AbstractCollocationFinder\n",
      "     |      builtins.object\n",
      "     |  \n",
      "     |  Methods defined here:\n",
      "     |  \n",
      "     |  __init__(self, word_fd, bigram_fd, window_size=2)\n",
      "     |      Construct a BigramCollocationFinder, given FreqDists for\n",
      "     |      appearances of words and (possibly non-contiguous) bigrams.\n",
      "     |  \n",
      "     |  score_ngram(self, score_fn, w1, w2)\n",
      "     |      Returns the score for a given bigram using the given scoring\n",
      "     |      function.  Following Church and Hanks (1990), counts are scaled by\n",
      "     |      a factor of 1/(window_size - 1).\n",
      "     |  \n",
      "     |  ----------------------------------------------------------------------\n",
      "     |  Class methods defined here:\n",
      "     |  \n",
      "     |  from_words(words, window_size=2) from builtins.type\n",
      "     |      Construct a BigramCollocationFinder for all bigrams in the given\n",
      "     |      sequence.  When window_size > 2, count non-contiguous bigrams, in the\n",
      "     |      style of Church and Hanks's (1990) association ratio.\n",
      "     |  \n",
      "     |  ----------------------------------------------------------------------\n",
      "     |  Data and other attributes defined here:\n",
      "     |  \n",
      "     |  default_ws = 2\n",
      "     |  \n",
      "     |  ----------------------------------------------------------------------\n",
      "     |  Methods inherited from AbstractCollocationFinder:\n",
      "     |  \n",
      "     |  above_score(self, score_fn, min_score)\n",
      "     |      Returns a sequence of ngrams, ordered by decreasing score, whose\n",
      "     |      scores each exceed the given minimum score.\n",
      "     |  \n",
      "     |  apply_freq_filter(self, min_freq)\n",
      "     |      Removes candidate ngrams which have frequency less than min_freq.\n",
      "     |  \n",
      "     |  apply_ngram_filter(self, fn)\n",
      "     |      Removes candidate ngrams (w1, w2, ...) where fn(w1, w2, ...)\n",
      "     |      evaluates to True.\n",
      "     |  \n",
      "     |  apply_word_filter(self, fn)\n",
      "     |      Removes candidate ngrams (w1, w2, ...) where any of (fn(w1), fn(w2),\n",
      "     |      ...) evaluates to True.\n",
      "     |  \n",
      "     |  nbest(self, score_fn, n)\n",
      "     |      Returns the top n ngrams when scored by the given function.\n",
      "     |  \n",
      "     |  score_ngrams(self, score_fn)\n",
      "     |      Returns a sequence of (ngram, score) pairs ordered from highest to\n",
      "     |      lowest score, as determined by the scoring function provided.\n",
      "     |  \n",
      "     |  ----------------------------------------------------------------------\n",
      "     |  Class methods inherited from AbstractCollocationFinder:\n",
      "     |  \n",
      "     |  from_documents(documents) from builtins.type\n",
      "     |      Constructs a collocation finder given a collection of documents,\n",
      "     |      each of which is a list (or iterable) of tokens.\n",
      "     |  \n",
      "     |  ----------------------------------------------------------------------\n",
      "     |  Data descriptors inherited from AbstractCollocationFinder:\n",
      "     |  \n",
      "     |  __dict__\n",
      "     |      dictionary for instance variables (if defined)\n",
      "     |  \n",
      "     |  __weakref__\n",
      "     |      list of weak references to the object (if defined)\n",
      "    \n",
      "    class QuadgramCollocationFinder(AbstractCollocationFinder)\n",
      "     |  QuadgramCollocationFinder(word_fd, quadgram_fd, ii, iii, ixi, ixxi, iixi, ixii)\n",
      "     |  \n",
      "     |  A tool for the finding and ranking of quadgram collocations or other association measures.\n",
      "     |  It is often useful to use from_words() rather than constructing an instance directly.\n",
      "     |  \n",
      "     |  Method resolution order:\n",
      "     |      QuadgramCollocationFinder\n",
      "     |      AbstractCollocationFinder\n",
      "     |      builtins.object\n",
      "     |  \n",
      "     |  Methods defined here:\n",
      "     |  \n",
      "     |  __init__(self, word_fd, quadgram_fd, ii, iii, ixi, ixxi, iixi, ixii)\n",
      "     |      Construct a QuadgramCollocationFinder, given FreqDists for appearances of words,\n",
      "     |      bigrams, trigrams, two words with one word and two words between them, three words\n",
      "     |      with a word between them in both variations.\n",
      "     |  \n",
      "     |  score_ngram(self, score_fn, w1, w2, w3, w4)\n",
      "     |  \n",
      "     |  ----------------------------------------------------------------------\n",
      "     |  Class methods defined here:\n",
      "     |  \n",
      "     |  from_words(words, window_size=4) from builtins.type\n",
      "     |  \n",
      "     |  ----------------------------------------------------------------------\n",
      "     |  Data and other attributes defined here:\n",
      "     |  \n",
      "     |  default_ws = 4\n",
      "     |  \n",
      "     |  ----------------------------------------------------------------------\n",
      "     |  Methods inherited from AbstractCollocationFinder:\n",
      "     |  \n",
      "     |  above_score(self, score_fn, min_score)\n",
      "     |      Returns a sequence of ngrams, ordered by decreasing score, whose\n",
      "     |      scores each exceed the given minimum score.\n",
      "     |  \n",
      "     |  apply_freq_filter(self, min_freq)\n",
      "     |      Removes candidate ngrams which have frequency less than min_freq.\n",
      "     |  \n",
      "     |  apply_ngram_filter(self, fn)\n",
      "     |      Removes candidate ngrams (w1, w2, ...) where fn(w1, w2, ...)\n",
      "     |      evaluates to True.\n",
      "     |  \n",
      "     |  apply_word_filter(self, fn)\n",
      "     |      Removes candidate ngrams (w1, w2, ...) where any of (fn(w1), fn(w2),\n",
      "     |      ...) evaluates to True.\n",
      "     |  \n",
      "     |  nbest(self, score_fn, n)\n",
      "     |      Returns the top n ngrams when scored by the given function.\n",
      "     |  \n",
      "     |  score_ngrams(self, score_fn)\n",
      "     |      Returns a sequence of (ngram, score) pairs ordered from highest to\n",
      "     |      lowest score, as determined by the scoring function provided.\n",
      "     |  \n",
      "     |  ----------------------------------------------------------------------\n",
      "     |  Class methods inherited from AbstractCollocationFinder:\n",
      "     |  \n",
      "     |  from_documents(documents) from builtins.type\n",
      "     |      Constructs a collocation finder given a collection of documents,\n",
      "     |      each of which is a list (or iterable) of tokens.\n",
      "     |  \n",
      "     |  ----------------------------------------------------------------------\n",
      "     |  Data descriptors inherited from AbstractCollocationFinder:\n",
      "     |  \n",
      "     |  __dict__\n",
      "     |      dictionary for instance variables (if defined)\n",
      "     |  \n",
      "     |  __weakref__\n",
      "     |      list of weak references to the object (if defined)\n",
      "    \n",
      "    class TrigramCollocationFinder(AbstractCollocationFinder)\n",
      "     |  TrigramCollocationFinder(word_fd, bigram_fd, wildcard_fd, trigram_fd)\n",
      "     |  \n",
      "     |  A tool for the finding and ranking of trigram collocations or other\n",
      "     |  association measures. It is often useful to use from_words() rather than\n",
      "     |  constructing an instance directly.\n",
      "     |  \n",
      "     |  Method resolution order:\n",
      "     |      TrigramCollocationFinder\n",
      "     |      AbstractCollocationFinder\n",
      "     |      builtins.object\n",
      "     |  \n",
      "     |  Methods defined here:\n",
      "     |  \n",
      "     |  __init__(self, word_fd, bigram_fd, wildcard_fd, trigram_fd)\n",
      "     |      Construct a TrigramCollocationFinder, given FreqDists for\n",
      "     |      appearances of words, bigrams, two words with any word between them,\n",
      "     |      and trigrams.\n",
      "     |  \n",
      "     |  bigram_finder(self)\n",
      "     |      Constructs a bigram collocation finder with the bigram and unigram\n",
      "     |      data from this finder. Note that this does not include any filtering\n",
      "     |      applied to this finder.\n",
      "     |  \n",
      "     |  score_ngram(self, score_fn, w1, w2, w3)\n",
      "     |      Returns the score for a given trigram using the given scoring\n",
      "     |      function.\n",
      "     |  \n",
      "     |  ----------------------------------------------------------------------\n",
      "     |  Class methods defined here:\n",
      "     |  \n",
      "     |  from_words(words, window_size=3) from builtins.type\n",
      "     |      Construct a TrigramCollocationFinder for all trigrams in the given\n",
      "     |      sequence.\n",
      "     |  \n",
      "     |  ----------------------------------------------------------------------\n",
      "     |  Data and other attributes defined here:\n",
      "     |  \n",
      "     |  default_ws = 3\n",
      "     |  \n",
      "     |  ----------------------------------------------------------------------\n",
      "     |  Methods inherited from AbstractCollocationFinder:\n",
      "     |  \n",
      "     |  above_score(self, score_fn, min_score)\n",
      "     |      Returns a sequence of ngrams, ordered by decreasing score, whose\n",
      "     |      scores each exceed the given minimum score.\n",
      "     |  \n",
      "     |  apply_freq_filter(self, min_freq)\n",
      "     |      Removes candidate ngrams which have frequency less than min_freq.\n",
      "     |  \n",
      "     |  apply_ngram_filter(self, fn)\n",
      "     |      Removes candidate ngrams (w1, w2, ...) where fn(w1, w2, ...)\n",
      "     |      evaluates to True.\n",
      "     |  \n",
      "     |  apply_word_filter(self, fn)\n",
      "     |      Removes candidate ngrams (w1, w2, ...) where any of (fn(w1), fn(w2),\n",
      "     |      ...) evaluates to True.\n",
      "     |  \n",
      "     |  nbest(self, score_fn, n)\n",
      "     |      Returns the top n ngrams when scored by the given function.\n",
      "     |  \n",
      "     |  score_ngrams(self, score_fn)\n",
      "     |      Returns a sequence of (ngram, score) pairs ordered from highest to\n",
      "     |      lowest score, as determined by the scoring function provided.\n",
      "     |  \n",
      "     |  ----------------------------------------------------------------------\n",
      "     |  Class methods inherited from AbstractCollocationFinder:\n",
      "     |  \n",
      "     |  from_documents(documents) from builtins.type\n",
      "     |      Constructs a collocation finder given a collection of documents,\n",
      "     |      each of which is a list (or iterable) of tokens.\n",
      "     |  \n",
      "     |  ----------------------------------------------------------------------\n",
      "     |  Data descriptors inherited from AbstractCollocationFinder:\n",
      "     |  \n",
      "     |  __dict__\n",
      "     |      dictionary for instance variables (if defined)\n",
      "     |  \n",
      "     |  __weakref__\n",
      "     |      list of weak references to the object (if defined)\n",
      "\n",
      "DATA\n",
      "    __all__ = ['BigramCollocationFinder', 'TrigramCollocationFinder', 'Qua...\n",
      "\n",
      "FILE\n",
      "    /Users/eva/opt/anaconda3/lib/python3.7/site-packages/nltk/collocations.py\n",
      "\n",
      "\n"
     ]
    }
   ],
   "source": [
    "help(nltk.collocations)"
   ]
  },
  {
   "cell_type": "markdown",
   "metadata": {},
   "source": [
    "NLTK doesn't seem super adaptable in terms of collocation finders. I'm gonna try using other packages and see how that goes.\n",
    "\n",
    "### Other stuff I've found online:\n",
    "+ https://github.com/emmajbrown/word-embeddings/blob/master/HW_3.ipynb\n",
    "   + but I kinda don't understand what this is doing\n",
    "+ http://www.pitt.edu/~naraehan/presentation/Movie%20Reviews%20sentiment%20analysis%20with%20Scikit-Learn.html#A-detour:-try-out-CountVectorizer-&-TF-IDF \n",
    "   + plus a bunch of other stuff from my data science class that i can't share bc the repo got deleted\n",
    "\n",
    "## Word2Vec?"
   ]
  },
  {
   "cell_type": "code",
   "execution_count": 48,
   "metadata": {},
   "outputs": [],
   "source": [
    "from gensim.models import Word2Vec"
   ]
  },
  {
   "cell_type": "code",
   "execution_count": 53,
   "metadata": {
    "collapsed": true
   },
   "outputs": [
    {
     "data": {
      "text/plain": [
       "['Z*e', 'IFamiIW', 'in', 'Uomaun', 'LaW', '.', 'x', '.', 'The', 'History', 'and', 'Prineciples', 'of', 'the', 'Civil', 'Law', 'of', 'Rome', '.', 'By', 'SHELDON', 'Amos', ',', 'M.', 'A.', 'London', '.', 'i883', '.', '2', '.', 'Outlines', 'of', 'Roman', 'Law', '.', 'By', 'WILLIAM', 'C.', 'MOREY', ',', 'Ph', '.', 'D.', 'New', 'York', '.', '1889', '.', '3', '.', 'Gallus', ',', 'or', 'Roman', 'Scenes', 'of', 'the', 'Time', 'of', 'Augustus', '.', 'By', '●', '.', 'Translated', 'by', 'the', '●', '.', 'London', '.', '1888', '.', '4', '.', 'The', 'Ancient', 'City', '.', 'By', 'FUSTEL', 'DE', 'COULANGE', '.', 'Translated', 'by', 'WILLARD', 'SMALL', '.', 'Boston', '.', 'I889', '.', 'N', 'attempting', 'an', 'exhaustive', 'study', 'of', 'the', 'great', 'social', 'institutions', 'of', 'the', 'family', 'and', 'marriage', 'in', 'Roman', 'Civil', 'Law', ',', 'it', 'is', 'necessary', 'at', 'the', 'very', 'outset', 'to', 'understand', 'certain', 'fundamental', 'conceptions', '.', 'Neither', 'the', 'institution', 'of', 'the', 'family', ',', 'nor', 'that', 'of', 'marriage', ',', 'nor', 'indeed', 'the', 'Roman', 'Civil', 'Law', 'was', '``', 'an', 'abiding', 'entity', 'knowing', 'no', 'change.', '``', 'The', 'Roman', 'Law', ',', 'for', 'instance', ',', 'was', 'in', 'process', 'of', 'constant', 'change', 'from', 'age', 'to', 'age', '.', 'It', 'was', 'the', 'resultant', 'of', 'many', 'influences', ',', 'social', ',', 'political', ',', 'and', 'religious', '.', 'At', 'no', 'time', 'can', 'one', 'understand', 'the', 'changes', 'in', 'such', 'law', ',', 'unless', 'he', 'understands', 'the', 'social', 'and', 'religious', 'movements', 'which', 'went', 'on', 'contemporaneously.', '``', 'What', 'can', 'be', 'made', 'of', 'the', 'repeated', 'agrarian', 'laws', ',', 'the', 'criminal', 'legislation', 'of', 'Sulla', ',', 'the', 'Julian', 'laws', ',', 'the', 'laws', 'in', 'prevention', 'of', 'celibacy', ',', 'and', 'the', 'rest', 'of', 'the', 'Augustan', 'reforms', ',', 'apart', 'from', 'all', 'reference', 'to', 'current', 'social', 'facts', ',', 'wants', ',', 'and', 'conditions', '?', '``', '[', 'Sheldon', 'Amos', ',', 'Romnan', 'Civil', 'Law', ',', 'p', '.', '5', '.', ']', 'The', 'Institutes', 'of', 'Gaius', ',', 'in', 'the', 'time', 'of', 'the', 'undivided', 'empire', ',', 'present', 'to', 'us', 'one', 'phase', 'of', 'ancient', 'law', 'and', 'custom', ';', 'an', 'entirely', 'newv', 'conception', 'arises', 'in', 'the', 'empire', 'of', 'the', 'East', ',', 'when', 'Justinian', 'attempted', 'to', 'reduce', 'to', 'a', 'code', 'the', 'heterogeneous', 'legal', 'theories', 'and', 'practices', 'of', 'the', 'past', '.', 'And', 'yet', 'the', 'history', 'of', 'general', 'legal', 'development', 'can', 'be', 'quite', 'minutely', 'traced', 'from', 'remotest', 'an.', '``', 'Thus', 'there', 'are', 'preserved', ',', 'in', 'the', 'writings', 'of', 'the', 'Roman', 'historians', 'and', 'on', 'the', 'older', 'monuments', ',', 'clear', 'indications', 'of-the', 'state', 'and', 'working', 'of', 'the', 'law', 'in', 'the', 'early', 'days', 'of', 'the', 'Reoublic', '.', 'and', 'also', 'at', 'everv', 'chief', 'epoch', 'in', 'the', 'development', 'of', 'its', 'history', ',', '-', 'such', 'as', 'those', 'of', 'the', 'several', 'successions', 'of', 'the', 'Plebs', ',', 'of', 'the', 'Punic', 'wars', ',', 'of', 'the', 'reforms', 'of', 'the', 'Gracchi', ',', 'of', 'the', 'revolutions', 'of', 'Marius', ',', 'Sulla', ',', 'Pompey', ',', 'and', 'Caesar', '.', 'The', 'law', 'at', 'the', 'close', 'of', 'the', 'Republic', 'is', 'repeatedly', 'alluded', 'to', 'in', 'Cicero', \"'s\", 'speeches', ',', 'his', 'essays', ',', 'and', 'his', 'letters', '.', 'The', 'writers', 'of', 'the', 'early', 'empire', '-', 'such', 'as', 'Tacitus', ',', 'Suetonius', ',', 'Plutarch', ',', 'Aulus', 'Gellius', ',', 'and', 'others', 'less', 'well', 'known', '-', 'give', 'abundant', 'testimony', 'to', 'the', 'state', 'of', 'the', 'law', 'at', 'the', 'beginning', 'of', 'the', 'Empire', 'and', 'up', 'to', 'the', 'time', 'of', 'the', 'writings', 'of', 'the', 'great', 'jurists', 'of', 'the', 'Antonine', 'period', '``', '[', 'Sheldon', 'Amos', ',', 'Roman', 'Civil', 'Law', ',', 'p.', '4', ']', '.', 'From', 'this', 'time', 'on', ',', 'the', 'stream', 'of', 'development', 'is', 'easily', 'traced', '.', 'The', 'writings', 'of', 'the', 'great', 'jurisconsults', ',', 'Gaius', ',', 'Ulpian', ',', 'and', 'Paul', ',', 'early', 'in', 'the', 'third', 'century', ',', 'indicate', 'clearly', 'the', 'legal', 'conceptions', 'of', 'their', 'times', '.', 'Then', 'came', 'the', 'epoch', 'of', 'the', 'Codes', '-', 'Gregorian', ',', 'Hermogenian', ',', 'and', 'Theodosian', ',', '-', 'until', 'finally', ',', 'at', 'the', 'beginning', 'of', 'the', 'sixth', 'century', ',', 'the', 'attempt', 'vas', 'made', 'by', 'Justinian', 'to', 'crystallize', 'all', 'law', 'into', 'the', 'Code', 'and', 'Pandects', '.', 'This', 'Corpus', 'Juris', 'Civilis', 'represents', 'the', 'culminating', 'point', 'of', 'Roman', 'Civil', 'Law', ',', 'and', 'is', 'of', 'special', 'interest', 'to', 'the', 'student', 'because', 'it', 'is', 'the', 'most', 'successful', 'codification', 'in', 'the', 'world', ',', 'and', 'has', 'furnished', 'the', 'foundation', 'for', 'all', 'European', 'codes', 'and', 'for', 'canon', 'law', ',', 'and', 'is', 'said', 'to', 'furnish', 'an', 'ideal', 'basis', 'toward', 'which', 'English', 'and', 'American', 'law', 'will', 'ultimately', 'move', '.', 'Again', ',', 'in', 'studying', 'the', 'family', 'in', 'Roman', 'life', ',', 'the', 'most', 'noticeable', 'fact', 'is', 'that', 'one', 'conception', 'of', 'this', 'institution', 'prevailed', 'in', 'primitive', 'times', ',', 'and', 'an', 'entirely', 'different', 'one', 'from', 'the', 'time', 'of', 'Gaius', 'on', 'to', 'Justinian', '.', 'In', 'an', 'early', 'day', 'the', 'family', ',', 'and', 'not', 'the', 'individual', ',', 'was', 'the', 'unit', 'of', 'society', '.', 'This', 'anomaly', 'of', 'an', 'ill', 'imperia', 'arose', ',', 'as', 'we', 'shall', 'see', ',', 'from', 'the', 'peculiar', 'power', 'given', 'to', 'the', 'head', 'of', 'the', 'household', 'over', 'his', 'subordinates', ',', 'and', 'also', 'the', ',', 'to', 'us', ',', 'strange', 'relationship', 'which', 'existed', 'between', 'this', 'ruler', 'of', 'the', 'family', 'and', 'the', 'rest', 'of', 'society', '.', 'To', 'understand', 'fully', 'how', 'it', 'came', 'to', 'pass', 'that', 'the', 'patriarch', 'of', 'the', 'old', 'family', 'was', 'given', 'such', 'exceptional', 'power', ',', 'it', 'will', 'be', 'necessary', 'to', 'tarry', 'by', 'the', 'way', 'and', 'discuss', 'in', 'a', 'cursory', 'manner', 'the', 'primitive', 'religious', 'conceptions', 'of', 'the', 'Roman', 'people', '.', 'The', 'picture', 'would', 'of', 'necessity', 'be', 'indistinct', 'and', 'incomplete', 'were', 'it', 'not', 'for', 'the', 'fact', 'that', 'the', 'primitive', 'Roman', 'religion', 'is', 'essentially', 'the', 'same', 'as', 'that', 'which', 'obtained', 'among', 'the', 'Greeks', 'and', 'the', 'Hindoos', '.', 'In', 'other', 'words', ',', 'this', 'type', 'of', 'religion', 'appears', 'to', 'have', 'been', 'generally', 'received', 'by', 'the', 'races', 'which', 'sprang', 'from', 'a', 'common', 'Aryan', 'stock', 'and', 'which', 'then', 'dispersed', 'themselves', 'to', 'their', 'final', 'abiding-places', '.', 'TImE', 'PRIMITIVE', 'ROMAN', 'RELIGION', '.', '-', 'Nothing', 'is', 'more', 'persistent', 'in', 'the', 'life', 'of', 'a', 'nation', 'than', 'the', 'ceremonies', 'which', 'spring', 'from', 'religious', 'belief', '.', 'Long', 'after', 'any', 'form', 'of', 'religion', 'has', 'disappeared', ',', 'its', 'rites', 'and', 'customs', 'continue', '.', 'So', 'even', 'in', 'the', 'Augustan', 'age', 'in', 'Rome', 'there', 'may', 'be', 'traced', 'the', 'remains', 'of', 'a', 'primitive', 'faith', '.', 'The', 'worship', 'of', 'Indra', ',', 'Zeus', ',', 'or', 'Jupiter', 'was', 'an', 'after-development', 'in', 'the', 'Indo-European', 'life', '.', 'Another', 'widely', 'divergent', 'form', 'of', 'religion', 'preceded', 'this', ';', 'and', 'even', 'Cicero', 'practised', 'some', 'of', 'its', 'earlier', 'rites', ',', 'although', 'their', 'meaning', 'was', 'either', 'wholly', 'or', 'in', 'part', 'forgotten', '.', 'The', 'belief', 'in', 'the', 'immortality', 'of', 'the', 'soul', 'seems', 'to', 'be', 'as', 'old', 'as', 'the', 'Aryan', 'race', ';', 'but', 'the', 'departed', ',', 'according', 'to', 'the', 'notion', 'of', 'the', 'early', 'Greeks', 'and', 'Romans', ',', 'did', 'not', 'ascend', 'to', 'celestial', 'abodes', ',', 'nor', 'did', 'they', 'experience', 'rewards', 'and', 'punishments', 'according', 'to', 'their', 'temporal', 'life', '.', 'Tartarus', 'and', 'the', 'Elysian', 'fields', 'were', 'a', 'later', 'development', 'of', 'religious', 'thought', '.', 'The', 'prevailing', 'conception', 'seems', 'to', 'have', 'been', 'that', 'the', 'soul', 'and', 'body', 'remained', 'together', 'in', 'the', 'grave', '.', 'Cicero', 'says', ',', '``', 'Sub', 'terra', 'censebant', 'vita', ',', ',', 'z', 'agi', 'mortuorum', '``', '[', 'Tuscu', 'i', '.', '16', ']', '.', 'The', 'description', 'by', 'Virgil', 'of', 'the', 'burial', 'of', 'Polydorus', 'shows', 'that', 'the', 'participants', 'thought', 'they', 'were', 'burying', 'something', 'that', 'was', 'living', ':', '``', 'We', 'enclose', 'the', 'soul', 'in', 'the', 'grave.', '``', 'In', 'the', 'rites', 'which', 'took', 'place', 'at', 'any', 'well-regulated', 'funeral', ',', 'the', 'friends', 'were', 'accustomed', 'to', 'call', 'the', 'deceased', 'three', 'times', 'by', 'name', '.', 'They', 'wished', 'that', 'he', 'might', 'be', 'happy', 'underground', '.', 'Three', 'times', 'they', 'said', ',', '``', 'Fare', 'thee', 'well', ';', '``', 'and', 'finally', 'they', 'added', ',', '``', 'May', 'the', 'earth', 'rest', 'lightly', 'upon', 'thee', '!', '``', 'Thus', 'carefully', 'was', 'the', 'whole', 'ceremony', 'elaborated', ';', 'and', 'much', 'depended', 'on', 'the', 'scrupulous', 'performance', 'of', 'all', 'the', 'required', 'rites', ',', 'for', 'without', 'burial', ',', 'or', 'at', 'least', 'without', 'the', 'proper', 'funeral', 'ceremony', ',', 'the', 'soul', 'wandered', ',', 'a', 'restless', ',', 'hostile', 'spirit', ',', 'troubling', 'its', 'former', 'friends', 'until', 'they', 'attended', 'to', 'all', 'the', 'requirements', 'of', 'their', 'religion', '.', 'Thus', 'it', 'happened', 'that', 'all', 'men', 'were', 'exceedingly', 'anxious', 'to', 'procure', 'for', 'themselves', 'proper', 'burial', '.', 'Even', 'when', 'the', 'body', 'had', 'been', 'put', 'in', 'the', 'tomb', 'and', 'all', 'the', 'religious', 'customs', 'fulfilled', ',', 'then', 'there', 'was', 'required', 'the', 'yearly', 'funeral', 'feast', 'called', 'Feralia', 'or', 'Parentalia', '.', 'At', 'their', 'Fer', ';', 'alia', 'victims', 'were', 'sacrificed', 'and', 'food', 'placed', 'on', 'the', 'grave', '.', 'The', 'tomb', 'was', 'crowned', 'with', 'garlands', 'and', 'sprinkled', 'with', 'essences', 'and', 'also', 'with', 'milk', ',', 'oil', ',', 'and', 'honey', '[', 'Becker', \"'s\", 'Ga/lus', ',', 'p.', '521', ']', '.', 'Out', 'of', 'this', 'conception', 'of', 'the', 'condition', 'of', 'the', 'dead', 'sprang', 'other', 'related', 'ideas', '.', 'The', 'dead', ',', 'irrespective', 'of', 'their', 'former', 'life', ',', 'were', 'counted', 'happy', 'and', 'holy', '.', 'With', 'this', 'there', 'grew', 'up', 'the', 'other', 'notion', ',', 'that', 'the', 'departed', 'were', 'divine', '.', 'The', 'unburied', 'or', 'improperly', 'buried', 'souls', ',', 'which', 'wandered', 'restlessly', 'to', 'and', 'fro', ',', 'were', 'called', 'Larvae', ';', 'those', 'who', 'were', 'properly', 'buried', 'and', 'happy', 'were', 'called', 'Lares', 'or', 'Genii', '.', 'All', 'the', 'departed', 'souls', 'were', 'called', 'the', 'Manes', ',', 'subterranean', 'deities', ';', 'and', 'Cicero', 'says', ':', '``', 'Render', 'to', 'the', 'Manes', 'what', 'is', 'due', 'them', ':', 'they', 'are', 'men', 'who', 'have', 'quitted', 'this', 'life', ';', 'consider', 'them', 'as', 'divine', 'beings', '``', '[', 'De', 'Legg', '.', 'i', '.', '9', ']', '.', 'The', 'tombs', 'were', 'considered', 'the', 'temples', 'of', 'these', 'divinities', ',', 'and', 'were', 'inscribed', ',', '``', 'Dis', 'Manibus.', '``', 'If', 'the', 'Larvae', 'were', 'looked', 'upon', 'as', 'malignant', 'spirits', ',', 'the', 'Lares', 'were', 'considered', 'tutelary', 'deities', 'and', 'were', 'invoked', 'as', 'such', '.', 'Electra', 'thus', 'addresses', 'the', 'Manes', 'of', 'her', 'father', ':', '``', 's', 'Take', 'pity', 'on', 'me', 'and', 'on', 'my', 'brother', ',', 'Orestes', ':', 'make', 'him', 'return', 'to', 'this', 'country', ';', 'hear', 'my', 'prayer', ',', '0', 'my', 'father', ';', 'grant', 'my', 'wishes', ';', 'receive', 'my', 'libation.', '``', 'And', 'to', 'show', 'that', 'the', 'Lares', 'had', 'control', 'of', 'something', 'beyond', 'the', 'mere', 'material', 'circumstances', 'of', 'life', ',', 'she', 'adds', ',', '``', 'Give', 'me', 'a', 'heart', 'more', 'chaste', 'than', 'my', 'mother', 's', ',', 'and', 'purer', 'hands', '``', '[', 'Aesch', '.', 'Choeph', '.', '122-155', ']', '.', 'A', 'striking', 'illustration', 'of', 'the', 'growth', 'of', 'this', 'custom', 'is', 'found', 'in', 'the', 'Apocryphal', 'Book', 'of', 'Wisdom', ':', '``', 'For', 'a', 'father', 'afflicted', 'with', 'untimely', 'mourning', 'when', 'he', 'hath', 'made', 'an', 'image', 'of', 'his', 'child', 'soon', 'taken', 'away', ',', 'now', 'honored', 'him', 'as', 'a', 'god', 'which', 'was', 'then', 'a', 'dead', 'man', ',', 'and', 'delivered', 'to', 'those', 'that', 'were', 'under', 'him', 'ceremonies', 'and', 'sacrifices', '.', 'Thus', 'in', 'process', 'of', 'time', 'an', 'ungodly', 'custom', 'grown', 'strong', 'was', 'kept', 'as', 'a', 'law', ',', 'and', 'graven', 'images', 'were', 'worshipped', 'by', 'the', 'commandments', 'of', 'kings', '``', '[', 'chap', '.', 'xiv', '.', '15', ',', 'i6', ']', '.', 'Another', 'primitive', 'custom', 'claims', 'our', 'attention', '.', 'In', 'each', 'household', 'was', 'a', 'sacred', 'fire', 'on', 'the', 'private', 'altar', '.', 'This', 'was', 'kept', 'at', 'first', 'in', 'the', 'main', 'atrium', 'of', 'the', 'house', ';', 'but', 'later', ',', 'when', 'the', 'privacy', 'of', 'the', 'household', 'was', 'much', 'invaded', ',', 'as', 'at', 'the', 'sumptuous', 'banquets', ',', 'this', 'altar', 'and', 'sacred', 'fire', 'were', 'removed', 'to', 'some', 'private', 'room', ',', '-', 'the', 'or', 'sacrarium', '.', 'This', 'sacred', 'fire', 'was', 'looked', 'upon', 'as', 'a', 'god', '.', 'The', 'utmost', 'care', 'was', 'given', 'lest', 'by', 'any', 'chance', 'it', 'might', 'be', 'extinguished', '.', 'If', 'ever', 'this', 'fire', 'died', 'out', ',', 'it', 'was', 'supposed', 'at', 'the', 'same', 'time', 'a', 'god', 'expired', '.', 'Prayers', 'were', 'made', 'and', 'hymns', 'were', 'sung', 'to', 'this', 'deity', '.', 'If', 'misfortune', 'came', ',', 'then', 'execrations', 'were', 'heaped', 'upon', 'the', 'sacred', 'fire', ';', 'but', 'if', 'fortune', 'smiled', ',', 'thanksgivings', 'were', 'promptly', 'rendered', 'at', 'the', 'hearth-fires', ',', 'and', 'the', 'firstfruits', 'of', 'all', 'gains', 'were', 'offered', '.', 'Many', 'special', 'rites', 'and', 'ceremonies', 'clustered', 'about', 'this', 'ancient', 'type', 'of', 'worship', '.', 'The', 'fire', 'was', 'looked', 'upon', 'as', 'pure', 'and', 'chaste', ';', 'hence', 'no', 'unclean', 'thing', 'could', 'be', 'cast', 'into', 'it', ',', 'and', 'no', 'impure', 'or', 'immodest', 'act', 'could', 'be', 'done', 'in', 'its', 'presence', '.', 'Certain', 'kinds', 'of', 'wood', 'were', 'prescribed', 'for', 'fuel', '.', 'On', 'the', 'first', 'day', 'of', 'March', 'each', 'year', 'this', 'sacred', 'fire', 'was', 'allowed', 'to', 'burn', 'out', ',', 'and', 'then', 'with', 'certain', 'forms', 'it', 'was', 'again', 'lighted', '.', 'But', 'no', 'other', 'fire', 'could', 'be', 'used', ';', 'the', 'new', 'fire', 'must', 'be', 'started', 'either', 'by', 'the', 'sun', 's', 'rays', 'with', 'a', 'lens', 'or', 'else', 'by', 'rubbing', 'two', 'sticks', 'together', '.', 'Thus', 'was', 'symbolized', 'the', 'idea', 'of', 'the', 'purity', 'and', 'spirituality', 'of', 'this', 'flame', '.', 'Each', 'time', 'on', 'leaving', 'the', 'house', 'the', 'housemaster', 'invoked', 'this', 'domestic', 'god', '.', 'Each', 'time', 'on', 'returning', 'after', 'any', 'absence', ',', 'before', 'saluting', 'the', 'members', 'of', 'his', 'own', 'household', 'and', 'even', 'before', 'giving', 'his', 'worship', 'to', 'Jupiter', 'or', 'any', 'of', 'the', 'greater', 'gods', ',', 'his', 'first', 'care', 'was', 'to', 'adore', 'the', 'hearth-fire', '.', 'The', 'firstfruits', 'of', 'the', 'harvests', 'appear', 'to', 'have', 'been', 'offered', ';', 'and', 'certainly', 'at', 'the', 'meals', 'a', 'portion', 'of', 'the', 'food', 'and', 'wine', 'were', 'presented', 'on', 'the', 'altar', '.', 'The', 'primitive', 'form', 'of', 'marriage', 'shows', 'what', 'an', 'intimate', 'place', 'the', 'sacred', 'fire', 'held', 'in', 'the', 'early', 'Roman', 'household', '.', 'In', 'later', 'times', ',', 'by', 'a', 'gradual', 'development', 'of', 'the', 'idea', ',', 'this', 'sacred', 'fire', 'was', 'named', 'Vesta', ';', 'and', 'so', 'persistent', 'was', 'the', 'hold', 'that', 'this', 'ancient', 'faith', 'had', 'on', 'the', 'Romans', 'that', 'though', 'Jupiter', 'was', 'accounted', 'the', 'superior', 'god', ',', 'yet', 'the', 'worship', 'of', 'Vesta', 'always', 'took', 'the', 'pre', '.', 'Even', '``', 'Horace', ',', 'Ovid', ',', 'and', 'Petronius', 'still', 'supped', 'before', 'their', 'fires', 'and', 'poured', 'out', 'libations', 'and', 'addressed', 'prayers', 'to', 'them', '``', '[', 'Horace', 'Sat', '.', 'i', '.', '6', ',', '66', ';', 'Ovid', 'Fast', '.', 'i', '.', '631', ';', 'Pet', '.', '60', ']', '.', 'Though', 'this', 'fire-spirit', 'was', 'early', 'personified', 'and', 'added', 'to', 'the', 'great', 'pantheon', 'of', 'the', 'Romans', ',', 'yet', 'the', 'primitive', 'belief', 'was', 'never', 'entirely', 'effaced', '.', 'Vesta', 'might', 'be', 'called', 'a', 'goddess', '.', 'She', 'was', 'a', 'virgin', ',', 'and', 'represented', 'neither', 'fecundity', 'nor', 'power', ',', 'but', 'only', 'moral', 'order', ';', 'yet', 'there', 'continued', 'the', 'belief', 'which', 'Ovid', 'himself', 'confesses', ',', 'that', 'Vesta', 'was', 'after', 'all', 'nothing', 'more', 'or', 'less', 'than', 'a', '``', 'living', 'flame', '``', '[', 'Ovid', 'Fast', '.', 'vi', '.', '291', ']', '.', 'Numerous', 'prayers', 'are', 'found', ',', 'which', 'the', 'ancients', 'were', 'accustomed', 'to', 'offer', 'to', 'this', 'sacred', 'flame', '.', 'One', 'of', 'these', 'prayers', 'is', 'preserved', 'in', 'an', 'Orphic', 'hymn', ':', '``', 'Render', 'us', 'always', 'prosperous', ',', 'always', 'happy', ',', '0', 'fire', ',', '-', 'thou', 'who', 'art', 'eternal', ',', 'beautiful', ',', 'ever', 'young', ';', 'thou', 'who', ',', 'thou', 'who', 'art', 'not', 'rich', ',', 'receive', 'favorably', 'these', 'our', 'offerings', ',', 'and', 'in', 'return', 'give', 'us', 'happiness', 'and', 'sweet', 'health', '``', '[', 'Orphic', 'Hymns', ',', '84', ']', '.', 'Or', 'again', ',', 'when', 'Troy', 'has', 'been', 'taken', ',', 'and', 'the', 'palace', 'destroyed', ',', 'Hecuba', 'thus', 'exhorts', 'Priam', ':', '``', 'Thy', 'arms', 'can', 'not', 'protect', 'thee', ';', 'but', 'this', 'altar', 'will', 'protect', 'us', 'all', '``', '[', 'Virg', '.', 'i', '.', '523', ']', '.', 'So', 'Alcestis', ',', 'dying', 'to', 'save', 'her', 'husband', ',', 'invokes', 'the', 'sacred', 'fire', ',', 'begging', 'happiness', 'and', 'a', 'long', 'life', 'for', 'her', 'children', 'LEurip', '.', 'Aices', '.', '162', ',', 'i68', ']', '.', 'Another', 'Orphic', 'hymn', 'shows', 'both', 'the', 'material', 'and', 'spiritual', 'power', 'of', 'this', 'deity', ':', '``', 'Render', 'us', 'rich', 'and', 'flourishing', ';', 'make', 'us', 'also', 'wise', 'and', 'chaste.', '``', 'If', 'now', 'we', 'compare', 'the', 'worship', 'of', 'the', 'dead', 'and', 'this', 'worship', 'of', 'the', 'sacred', 'fire', ',', 'we', 'shall', 'find', 'that', 'after', 'all', 'they', 'shade', 'one', 'into', 'the', 'other', '.', 'Either', 'they', 'were', 'two', 'distinct', 'primitive', 'beliefs', 'which', 'were', 'merged', 'into', 'one', ',', 'or', ',', 'more', 'likely', ',', 'they', 'were', 'two', 'phases', 'of', 'the', 'same', 'faith', '.', 'There', 'are', 'certain', 'indications', 'that', 'in', 'most', 'primitive', 'times', 'the', 'dead', 'were', 'not', 'put', 'away', 'by', 'themselves', 'in', 'tombs', ',', 'but', 'were', 'buried', 'in', 'the', 'houses', '.', 'The', 'altars', 'then', 'in', 'the', 'early', 'atra', 'served', 'no', 'other', 'purpose', 'than', 'to', 'mark', 'the', 'place', 'where', 'some', 'ancestor', 'of', 'the', 'family', 'was', 'buried', '.', 'The', 'flame', 'therefore', 'represented', 'the', 'provident', ',', 'tutelary', 'spirit', 'of', 'some', 'head', 'of', 'the', 'family', 'long', 'since', 'dead', ';', 'and', 'the', 'worship', 'was', 'only', 'the', 'an-worship', 'which', 'afterward', 'took', 'on', 'a', 'somewhat', 'different', 'form', '.', 'In', 'all', 'ways', 'these', 'two', 'worships', 'conform', 'to', 'each', 'other', ',', 'and', 'in', 'the', 'pages', 'of', 'classical', 'writers', 'abundant', 'proof', 'can', 'be', 'found', 'that', 'they', 'identified', 'the', 'two', 'sets', 'of', 'ceremonies', 'as', 'essentially', 'one', '.', 'In', 'Servius', 'we', 'read', ':', '``', 'By', 'hearth', 'the', 'ancients', 'understood', 'the', 'Lares', '``', '[', 'Serv', '.', 'in', 'Aen', '.', 'iii', '.', '134', ']', '.', 'Passages', 'in', 'Plautus', ',', 'Columella', ',', 'and', 'Cicero', 'bear', 'out', 'the', 'same', 'idea', '.', 'In', 'the', 'Aeneid', ',', 'when', 'Hector', 'says', 'he', 'is', 'about', 'to', 'commit', 'to', 'Aeneas', 'the', 'Trojan', 'Penates', ',', 'he', 'gives', 'him', 'only', 'the', 'hearth-fire', '.', 'Servius', 'was', 'a', 'learned', 'anti', ',', 'and', 'he', 'speaks', 'of', 'the', 'ancient', 'custom', 'of', 'burying', 'the', 'dead', 'in', 'the', 'houses', 'and', 'says', ',', '``', 'As', 'a', 'result', 'of', 'this', 'custom', 'they', 'honor', 'the', 'Lares', 'and', 'Penates', 'in', 'their', 'houses', '``', '[', 'In', 'Aen', '.', 'v.', '84', ';', 'Vi', '.', '152', ']', '.', 'There', 'is', 'no', 'absolute', 'proof', 'that', 'these', 'two', 'ancient', 'forms', 'of', 'worship', 'were', 'one', 'and', 'the', 'same', ';', 'but', 'this', 'much', 'we', 'do', 'know', ',', '-', 'that', 'the', 'worship', 'of', 'the', 'dead', 'and', 'the', 'worship', 'of', 'the', 'hearth-fire', 'did', 'have', 'a', 'profound', 'influence', 'on', 'social', 'and', 'political', 'institutions', 'in', 'Rome', ';', 'and', ',', 'most', 'of', 'all', ',', 'they', 'gave', 'peculiar', 'form', 'to', 'the', 'family', ',', 'and', 'consequently', 'to', 'marriage', ',', 'which', 'without', 'this', 'precedent', 'consideration', 'it', 'would', 'be', 'difficult', 'to', 'understand', '.', 'This', 'domestic', 'religion', 'was', 'essentially', 'a', 'separative', 'influence', '.', 'It', 'offered', 'no', 'one', 'god', 'for', 'the', 'worship', 'of', 'a', 'nation', ';', 'it', 'gave', 'different', 'gods', 'to', 'different', 'families', '.', 'The', 'ceremonies', 'were', 'a', 'sacred', 'trust', 'which', 'were', 'in', 'no', 'case', 'to', 'be', 'published', 'to', 'the', 'rest', 'of', 'the', 'world', '.', 'The', 'stranger', 'was', 'forbidden', 'to', 'be', 'present', 'or', 'to', 'participate', 'in', 'the', 'domestic', 'worship', '.', 'Even', 'the', 'child', 'who', 'was', 'born', 'into', 'the', 'family', 'only', 'became', 'a', 'participant', 'in', 'the', 'family', 'rites', 'after', 'a', 'sort', 'of', 'initiation', 'on', 'the', 'ninth', 'day', 'after', 'birth', ';', 'and', 'the', 'wife', 'was', 'received', 'under', 'a', 'solemn', 'form', 'in', 'which', 'she', 'renounced', 'the', 'worship', 'of', 'her', 'fathers', '.', 'To', 'the', 'head', 'of', 'the', 'family', 'was', 'intrusted', 'all', 'the', 'secret', 'work', 'of', 'this', 'domestic', 'worship', '.', 'He', 'alone', 'knew', 'the', 'prayers', 'and', 'chants', '.', 'Even', 'the', 'Pontifex', 'Maximus', 'had', 'no', 'right', 'to', 'interfere', 'any', 'further', 'than', 'to', 'discover', 'whether', 'the', 'father', 'performed', 'all', 'the', 'rites', 'of', 'his', 'religion', '.', 'The', 'absolute', 'rule', 'was', ':', '``', 'Suo', '``', '[', 'Varro', 'De', 'Ling', '.', 'Lat', '.', 'vi', '.', '88', ']', '.', 'The', 'father', 'thus', 'became', 'sole', 'interpreter', ',', 'sole', 'priest', '.', 'He', 'alone', 'could', 'teach', 'his', 'child', 'to', 'take', 'his', 'place', '.', 'The', 'priestly', 'office', 'was', 'always', 'handed', 'down', 'in', 'the', 'male', 'line', ',', 'probably', 'because', 'the', 'ancients', 'thought', 'the', 'power', 'of', 'generation', 'rested', 'exclusively', 'with', 'the', 'male', '.', 'This', 'necessarily', 'placed', 'the', 'wife', 'and', 'daughter', 'in', 'a', 'different', 'position', 'from', 'that', 'which', 'the', 'father', 'and', 'son', 'always', 'occupied', ',', 'and', 'also', 'put', 'unlimited', 'power', 'into', 'the', 'hands', 'of', 'the', 'head', 'of', 'the', 'family', '.', 'We', 'can', 'thus', 'present', 'to', 'ourselves', 'a', 'picture', 'of', 'the', 'ancient', 'family', '.', 'In', 'every', 'house', 'was', 'an', 'altar', ';', 'here', 'the', 'first', 'thing', 'in', 'the', 'morning', 'and', 'the', 'last', 'at', 'night', 'all', 'the', 'members', 'of', 'the', 'household', 'gather', 'for', 'the', 'most', 'important', 'duty', 'of', 'the', 'day', ',', '-', 'the', 'domestic', 'worship', '.', 'The', 'father', 'acts', 'as', 'priest', ';', 'the', 'family', 'join', 'in', 'chanting', 'the', 'hymns', 'of', 'their', 'ancestors', '.', 'Each', 'meal', 'occurs', 'near', 'this', 'altar', ',', 'and', 'begins', 'with', 'certain', 'prayers', ',', 'offerings', ',', 'and', 'libations', 'to', 'the', 'sacred', 'fire', '.', 'Here', 'again', 'the', 'father', 'is', 'leader', ',', 'the', 'rest', 'only', 'participants', '.', 'Then', 'near', 'the', 'house', 'is', 'the', 'tomb', 'in', 'which', 'all', 'the', 'ancestors', 'lie', 'buried', ',', 'and', 'at', 'which', 'is', 'enacted', 'the', 'second', 'scene', 'of', 'this', 'domestic', 'worship', '.', 'At', 'stated', 'seasons', 'the', 'family', 'gather', 'to', 'bring', 'the', 'needed', 'oblations', 'to', 'their', 'departed', 'ancestors', '.', 'Here', 'the', 'father', 'is', 'priest', ',', 'and', 'all', 'strangers', 'are', 'excluded', '.', 'In', 'all', 'this', 'we', 'find', 'the', 'bond', 'which', 'made', 'the', 'family', 'such', 'a', 'firm', 'institution', '.', 'In', 'this', 'too', 'we', 'find', 'the', 'potential', 'influences', 'which', 'gave', 'the', 'peculiar', 'forms', 'and', 'laws', 'to', 'the', 'ancient', 'Roman', 'family', '.', 'One', 'can', 'not', 'discover', 'the', 'foundation', 'of', 'the', 'Roman', 'family', 'in', 'birth', ',', 'natural', 'affection', ',', 'or', 'mere', 'brute', 'force', '.', 'Birth', 'did', 'not', 'give', 'such', 'foundation', ',', 'else', 'an', 'emancipated', 'son', 'would', 'have', 'still', 'inherited', 'the', 'place', 'of', 'priest', 'from', 'his', 'father', '.', 'Natural', 'affection', 'did', 'not', 'furnish', 'it', ',', 'else', 'the', 'daughter', 'would', 'have', 'stood', 'on', 'an', 'equal', 'footing', 'with', 'the', 'son', '.', 'As', 'it', 'was', ',', 'she', 'was', 'never', 'his', 'equal', 'in', 'the', 'domestic', 'rites', ',', 'and', 'could', 'never', 'be', 'priest', ';', 'and', ',', 'furthermore', ',', 'at', 'first', 'she', 'could', 'not', 'inherit', 'property', 'from', 'the', 'parental', 'estate', '.', 'It', 'is', 'not', 'necessary', 'to', 'refer', 'the', 'precedence', 'of', 'the', 'head', 'of', 'the', 'family', 'to', 'force', ',', 'since', 'the', 'unvarying', 'custom', 'of', 'primogeniture', 'must', 'then', 'sometimes', 'have', 'been', 'overturned', 'and', 'set', 'aside', '.', 'The', 'domestic', 'religion', 'gave', 'ample', 'sanction', 'for', 'the', 'authority', 'of', 'the', 'father', ',', 'and', 'placed', 'every', 'member', 'of', 'the', 'family', 'in', 'exactly', 'that', 'condition', 'which', 'he', 'occupied', 'in', 'early', 'historic', 'times', '.', 'The', 'ancient', 'Greek', 'has', 'a', 'very', 'notable', 'word', 'to', 'designate', 'the', 'family', ',', '-', '1ri-Ttov', ',', '``', 'that', 'which', 'is', 'near', 'the', 'hearth.', '``', 'Hence', 'that', 'onlv', 'which', 'could', 'come', 'near', 'the', 'hearth', 'was', 'an', 'essential', 'part', 'of', 'the', 'ancient', 'family', '.', 'THE', 'ROMAN', 'FAMItLY', '.', '-', 'The', 'word', '``', 'family', '``', 'has', 'a', 'variable', 'use', 'both', 'in', 'modern', 'speech', 'and', 'in', 'the', 'ancient', 'Latin', '.', 'The', 'word', 'is', 'from', 'the', 'Oscanfamel', '[', 'Becker', \"'s\", 'Gallus', ',', '157', ']', ',', 'and', 'thus', 'signifies', 'everything', 'which', 'an', 'independent', 'man', 'has', 'by', 'his', 'own', 'right', 'in', 'potestate', '.', 'It', 'therefore', 'includes', 'property', 'and', 'all', 'persons', 'under', 'his', 'control', ',', 'free', 'and', 'slave', '.', 'In', 'another', 'sense', 'familia', 'in', 'the', 'Latin', 'includes', 'all', 'the', 'persons', 'of', 'any', 'one', 'household', ',', 'both', 'free', 'and', 'slave', '.', 'Again', ',', 'familia', 'may', 'signify', 'only', 'the', 'free', 'persons', 'of', 'a', 'house', 'who', 'are', 'under', 'one', ';', 'this', 'idea', 'is', 'so', 'extended', 'as', 'to', 'include', 'all', 'those', 'who', 'are', 'descended', 'from', 'a', 'common', 'ancestor', ',', '-', 'the', 'agnati', 'and', 'the', 'gens', '.', 'The', 'agnati', 'comprised', 'all', 'those', 'who', 'traced', 'their', 'descent', 'through', 'the', 'male', 'line', '.', 'From', 'the', 'agnati', 'were', 'excluded', 'all', 'women', 'who', 'married', 'into', 'other', 'families', 'and', 'all', 'sons', 'who', 'left', 'the', 'family', 'through', 'adoption', '.', 'The', 'gents', 'was', 'an', 'aristocratic', 'institution', 'which', 'at', 'a', 'later', 'period', 'disappeared', 'from', 'Roman', 'life', '.', 'It', 'seems', 'to', 'have', 'been', 'essentially', 'the', 'family', 'on', 'a', 'large', 'scale', '.', 'There', 'were', 'the', 'Dii', 'gentiles', ',', 'corresponding', 'to', 'the', 'domestic', 'divinities', '.', 'The', 'gens', 'had', 'its', 'special', 'form', 'of', 'worship', ',', 'and', 'also', 'an', 'accredited', 'priest', 'or', 'chief', 'to', 'conduct', 'its', 'religious', 'ceremonies', '.', 'Apparently', 'all', 'the', 'members', 'of', 'the', 'gens', 'were', 'at', 'least', 'theoretically', 'descendants', 'of', 'a', 'common', 'ancestor', '.', 'Or', ',', 'further', ',', 'familia', 'is', 'sometimes', 'limited', 'in', 'its', 'idea', 'to', 'the', 'slaves', 'of', 'a', 'household', '.', 'And', ',', 'often', 'signifies', 'simply', 'property', ',', 'especially', 'the', 'property', 'of', 'a', 'deceased', 'person', ';', 'as', '``', '``', '[', 'Liv', '.', 'ii', '.', '41', ']', '.', 'Every', 'free', 'man', 'not', 'in', 'the', 'power', 'of', 'another', ',', 'even', 'though', 'he', 'had', 'no', 'children', ',', 'was', 'yet', 'called', '.', '``', 'Paterfamilias', ',', 'qui', 'in', 'domo', 'habet', ',', 'hoc', 'nom', 'ins', 'non', '``', '[', 'Ulp', '.', 'Dig', '.', '5o', 'etc.', ']', '.', 'It', 'is', 'our', 'intention', 'to', 'consider', 'the', 'Roman', 'family', 'in', 'that', 'sense', 'which', 'includes', 'simply', 'the', 'persons', 'of', 'any', 'household', ',', 'but', 'embracing', 'both', 'the', 'slaves', 'and', 'those', 'who', 'were', 'free', '.', 'It', 'has', 'been', 'said', 'that', 'the', 'ancient', 'unit', 'of', 'Roman', 'social', 'life', 'was', 'the', 'family', '.', 'This', 'was', 'rather', 'contrary', 'to', 'the', 'natural', 'course', 'of', 'events', 'after', 'many', 'families', 'had', 'gathered', 'together', 'in', 'cities', ';', 'but', 'this', 'peculiar', 'unity', 'was', 'preserved', 'by', 'the', 'influence', 'of', 'the', 'separative', 'religion', 'which', 'taught', 'each', 'family', 'to', 'worship', 'its', 'own', 'Manes', 'and', 'its', 'own', 'hearth-fire', '.', 'The', 'form', 'of', 'this', 'primitive', 'family', 'was', 'destined', 'to', 'be', 'totally', 'disintegrated', ',', 'and', 'a', 'new', 'unit', 'was', 'constantly', 'sought', 'for', 'in', 'society', ';', 'and', 'that', 'unit', 'was', 'the', 'individual', '.', 'Every', 'revolution', 'and', 'every', 'emancipation', 'in', 'Roman', 'life', 'tended', 'to', 'bring', 'about', 'this', 'result', '.', 'The', 'jus', 'gentium', 'and', 'the', 'legal', 'innovations', 'and', 'fictions', 'of', 'the', 'Pretorian', 'edict', 'assisted', 'materially', 'in', 'this', 'progress', 'of', 'thought', 'Hence', 'we', 'are', 'to', 'study', 'the', 'family', 'under', 'two', 'distinct', 'phases', ':', 'in', 'the', 'one', 'the', 'paternal', 'power', 'is', 'a', 'pure', 'despotism', 'over', 'wife', ',', 'son', ',', 'daughter', ',', 'and', 'slave', ';', 'in', 'the', 'other', 'every', 'member', 'of', 'the', 'household', ',', 'even', 'to', 'the', 'slave', ',', 'has', 'his', 'rights', ',', 'and', 'the', 'father', 's', 'priestly', 'and', 'judicial', 'power', 'is', 'expressly', 'limited', 'by', 'law', '.', 'In', 'the', 'earlier', 'type', 'of', 'the', 'family', ',', 'we', 'see', 'one', 'man', 'exalted', 'by', 'religious', 'sanctions', 'to', 'the', 'position', 'of', 'despot', '.', 'He', 'is', 'sole', 'priest', 'and', 'judge', '.', 'Against', 'his', 'decision', 'there', 'is', 'no', 'appeal', ',', 'either', 'within', 'the', 'family', 'or', 'to', 'the', 'civil', 'power', '.', 'This', 'man', 'is', 'called', 'a', 'paterfamilias', '.', 'He', 'gathers', 'about', 'him', 'and', 'under', 'him', 'a', 'wife', ',', 'children', ',', 'slaves', ',', 'clients', ',', 'and', 'property', ',', 'over', 'which', 'he', 'is', 'absolute', 'master', '.', '●', 'thus', 'quotes', 'a', 'picture', 'of', 'primitive', 'life', 'from', 'the', 'Odyssey', 'of', 'Homer', ':', '``', 'They', 'have', 'neither', 'assemblies', 'for', 'consultation', 'nor', ';', 'but', 'every', 'one', 'exercises', 'jurisdiction', 'over', 'his', 'wives', 'and', 'his', 'children', ',', 'and', 'they', 'pay', 'no', 'regard', 'to', 'one', 'another.', '``', 'He', 'adds', 'these', 'remarks', ':', '``', 'These', 'lines', 'are', 'applied', 'to', 'the', 'Cyclops', ',', 'and', 'it', 'may', 'not', 'perhaps', 'be', 'an', 'altogether', 'fanciful', 'idea', 'when', 'I', 'suggest', 'that', 'the', 'Cyclops', 'is', 'Homer', \"'s\", 'type', 'of', 'an', 'alien', 'and', 'less', 'advanced', 'civilization', ';', 'for', 'the', 'almost', 'physical', 'loathing', 'which', 'a', 'primitive', 'community', 'feels', 'for', 'men', 'of', 'widely', 'different', 'manners', 'from', 'its', 'own', 'usually', 'expresses', 'itself', 'by', 'describing', 'them', 'as', 'monsters', ',', 'such', 'as', 'giants', ',', 'or', 'even', '(', 'which', 'is', 'almost', 'always', 'the', 'case', 'in', 'Oriental', 'mythology', ')', 'as', 'demons', '``', '[', 'Ancient', 'Law', ',', '120-2i', ']', '.', 'At', 'any', 'rate', ',', 'we', 'have', 'here', 'a', 'distinct', 'picture', 'of', 'the', 'family', 'as', 'it', 'arose', 'by', 'itself', ';', 'and', 'the', 'family', 'carries', 'with', 'it', 'these', 'same', 'characteristics', 'when', 'it', 'unites', 'with', 'others', 'and', 'forms', 'the', 'city', '.', 'The', 'more', 'developed', 'picture', 'is', 'given', 'us', 'by', 'Cicero', 'in', 'his', 'description', 'of', 'the', 'house', 'of', 'Appius', 'Caecus', ':', '``', 'Quatuor', ',', ',', 'tantam', ',', 'tantas', 'clientelas', 'Appius', 'et', 'senex', 'et', ',', '-', 'note', 'modo', ',', 'sed', 'imperium', 'in', 'suos', ';', 'cvi', ',', 'liberi', ',', 'omnes', ';', 'illa', 'in', 'domoe', 'mos', 'et', 'disciplina', '``', '[', 'De', 'Sen.', 'i', 'i', 'J', '.', 'It', 'be', 'most', 'convenient', 'to', 'describe', 'in', 'order', 'each', 'class', 'in', 'the', 'household', 'and', 'its', 'relation', 'to', 'the', ';', 'and', 'thus', 'we', 'may', 'have', 'a', 'complete', 'picture', 'of', 'the', 'Roman', 'family', ',', 'and', 'also', 'a', 'clearer', 'comprehension', 'of', 'the', 'shifting', 'provisions', 'of', 'the', 'Roman', 'law', 'for', 'these', 'various', 'classes', '.', 'These', 'may', 'be', 'considered', 'under', 'the', 'following', 'heads', ':', '(', 'i', ')', 'Slaves', ';', '(', '2', ')', 'Clients', ';', '(', '3', ')', 'Children', 'and', 'descendants', ';', 'and', '(', '4', ')', 'Wife', '.', 'If', 'a', 'person', 'was', 'not', 'subject', 'to', 'the', 'power', 'of', 'any', 'other', ',', 'he', 'said', 'to', 'be', '.', 'If', 'he', 'was', 'thus', 'subject', ',', 'he', 'was', 'said', 'to', 'be', ']', 'uris', '.', 'As', 'stated', 'above', ',', 'a', 'person', 'sni', 'iuris', 'was', 'called', 'a', '/ias', '.', 'All', 'others', 'were', 'subject', 'to', 'some', 'person', ',', '.', 'The', 'kind', 'of', 'subjection', 'differed', ',', 'and', 'each', 'kind', 'of', 'authority', 'had', 'its', 'peculiar', 'name', '.', 'The', 'word', 'potestas', 'was', 'used', 'in', 'the', 'largest', 'sense', 'to', 'indicate', 'all', 'the', 'power', 'of', 'a', 'paterfamilias', '.', 'By', 'some', 'it', 'is', 'supposed', 'to', 'be', 'the', 'ancient', 'term', 'for', 'power', 'of', 'every', 'sort', '.', 'In', 'a', 'fragment', 'of', 'the', 'XII', 'Tables', 'the', 'word', 'is', 'thus', 'used', ':', '``', 'Si', 'furiosus', 'est', ',', '-', '/', 'in', 'co', '*us', 'potestas', 'esto.', '``', 'This', 'implies', 'nothing', 'more', 'than', 'superintendence', ';', 'and', 'hence', 'potestas', 'could', 'not', 'be', 'the', 'archaic', 'word', 'which', 'included', 'all', 'the', 'authority', 'of', 'a', '.', '●', 'thinks', 'that', 'was', 'the', 'old', 'term', ';', 'but', 'be', 'that', 'as', 'it', 'may', ',', 'in', 'the', 'later', 'civil', 'writers', 'potestas', ',', 'in', 'its', 'largest', 'meaning', ',', 'includes', 'all', 'the', 'power', 'of', 'the', 'head', 'of', 'a', 'family', ';', 'in', 'its', 'narrower', 'acceptation', 'it', 'implies', 'the', 'authority', 'over', 'the', 'children', '.', 'Alanus', 'is', 'the', 'name', 'of', 'the', 'power', 'as', 'exerted', 'over', 'the', 'wife', '.', 'In', 'the', 'case', 'of', 'slaves', 'this', 'power', 'was', 'called', '.', 'When', 'a', 'son', 'was', 'emancipated', 'he', 'was', 'put', 'under', 'the', 'power', 'of', 'some', 'other', \"'\", ',', 'fami/ias', ',', 'and', 'this', 'second', 'sort', 'of', 'subjection', 'was', 'called', 'iun', '.', 'TILE', 'SLAVES', '.', '-', 'In', 'early', 'times', 'the', 'slaves', 'formed', 'an', 'important', 'part', 'of', 'Roman', 'society', ';', 'but', 'as', 'the', 'love', 'of', 'luxury', 'became', 'greater', ',', 'and', 'as', 'the', 'possessions', 'were', 'multiplied', ',', 'so', 'the', 'number', 'of', 'slaves', 'increased', '.', 'The', 'early', 'jurisprudence', 'did', 'not', 'deal', 'very', 'extensively', 'with', 'the', 'condition', 'of', 'the', 'slave', 'for', 'two', 'reasons', ':', 'first', ',', 'there', 'were', 'very', 'few', 'slaves', ';', 'and', 'second', ',', 'there', 'appears', 'to', 'have', 'been', 'a', 'half-latent', 'repugnance', 'to', 'consider', 'the', 'system', '.', 'Of', 'course', 'the', 'ancients', 'tried', 'to', 'excuse', 'slavery', '.', 'The', 'Greeks', 'laid', 'stress', 'on', 'the', 'mental', 'inferiority', 'of', 'their', 'slaves', '.', 'The', 'Romans', 'referred', 'back', 'to', 'some', 'supposed', 'compact', ',', 'wherein', 'the', 'victors', 'granted', 'life', 'to', 'the', 'vanquished', ',', 'in', 'return', 'for', 'which', 'the', 'con', '-', 'were', 'to', 'serve', 'their', 'conquerors', '.', 'But', 'this', 'was', 'manifestly', 'a', 'weak', 'subterfuge', ';', 'and', 'as', 'the', 'influence', 'of', 'the', 'increased', ',', 'the', 'condition', 'of', 'the', 'slave', 'was', 'steadily', 'ameliorated', '.', 'It', 'was', 'left', 'for', 'the', 'Christian', 'Church', 'to', 'improve', 'still', 'further', 'the', 'condition', 'of', 'the', 'slave', 'and', 'to', 'facilitate', 'his', 'emancipation', '.', 'Among', 'the', 'Greeks', 'the', 'slaves', 'were', 'treated', 'with', 'far', 'greater', 'consideration', 'than', 'among', 'the', 'Romans', ';', 'and', 'the', 'Greek', 'use', 'of', 'slaves', 'differed', 'diametrically', 'from', 'that', 'of', 'the', 'Roman', '.', 'The', 'Greek', 'looked', 'on', 'his', 'slave', 'as', 'a', 'source', 'of', 'revenue', '.', 'The', 'slave', 'must', 'work', ',', 'for', 'instance', ',', 'as', 'a', 'mechanic', ',', 'and', 'was', 'required', 'to', 'pay', 'to', 'his', 'master', 'a', 'certain', 'amount', 'per', 'day', ',', 'or', 'the', 'master', 'might', 'let', 'him', 'out', 'on', 'hire', 'to', 'others', '.', 'The', 'Roman', 'would', 'recognize', 'no', 'such', 'use', 'of', 'his', 'slaves', ';', 'they', 'were', 'simply', 'to', 'minister', 'to', 'his', 'wants', 'or', 'to', 'his', 'comfort', 'and', 'luxury', '.', 'The', 'early', 'civil', 'law', 'has', 'but', 'few', 'provisions', 'relating', 'to', 'slavery', ';', 'but', 'the', 'XII', 'Tables', 'take', 'cognizance', 'of', 'the', ',', 'or', 'method', 'of', 'manumission', ',', 'and', 'they', 'also', 'provide', 'a', 'remedy', 'against', 'a', 'master', 'whose', 'slave', 'has', 'committed', 'an', 'injury', 'against', 'another', 'person', '.', '(', '``', 'Si', 'servus', 'fait', 'it.', '``', ')', 'In', 'the', 'Institutes', 'of', 'Justinian', 'this', 'general', 'rule', 'is', 'laid', 'down', ':', '``', 'Servi', 'ant', 'aut', 'fiu', ';', 'nt', '[', 'i', '.', '3', ']', '.', 'The', 'antecedent', 'facts', 'which', 'determined', 'that', 'a', 'person', 'was', 'a', 'slave', 'had', 'reference', 'to', 'the', 'condition', 'of', 'birth', 'or', 'some', 'event', 'after', 'birth', '.', 'A', 'person', 'was', 'a', 'slave', 'whose', 'mother', 'was', 'a', 'slave', 'at', 'the', 'time', 'of', 'his', 'birth', '.', 'There', 'was', 'something', 'of', 'an', 'exception', 'made', 'to', 'this', 'regulation', ':', 'if', 'a', 'mother', 'had', 'been', 'free', 'at', 'any', 'time', 'during', 'the', 'period', 'of', 'gestation', ',', 'then', 'her', 'offspring', 'was', 'declared', 'to', 'be', 'free', '.', 'But', 'in', 'general', ',', 'the', 'rule', 'laid', 'down', 'was', '``', '.', '``', 'A', 'person', 'once', 'free', 'might', 'become', 'a', 'slave', 'either', '.', 'civili', '.', 'By', 'the', 'jus', 'gentium', 'he', 'would', 'become', 'a', 'slave', 'on', 'being', 'captured', 'in', 'war', ';', 'and', 'by', 'the', 'jus', 'civile', 'he', 'became', 'a', 'slave', 'on', 'being', 'condemned', 'to', 'certain', 'kinds', 'of', 'punishments', '.', 'It', 'was', 'the', 'rule', ',', 'quite', 'rigidly', 'adhered', 'to', ',', 'that', 'no', 'Roman', 'citizen', 'could', 'serve', 'another', '[', 'Plaut', '.', 'Trin', '.', 'ii', '.', '4', ',', '144', ']', '.', 'The', 'number', 'of', 'slaves', 'gathered', 'in', 'a', 'wealthy', 'home', 'in', 'Rome', 'became', 'almost', 'incredibly', 'large', '.', 'It', 'is', 'hard', 'to', 'understand', 'how', 'so', 'many', 'could', 'be', 'employed', 'until', 'it', 'is', 'realized', 'that', 'the', 'work', 'was', 'minutely', 'divided', ',', 'and', 'it', 'was', 'considered', 'disgraceful', 'not', 'to', 'have', 'a', 'slave', 'for', 'every', 'kind', 'of', 'labor', '.', 'Ulpian', 'thus', 'distinguishes', 'some', 'of', 'their', 'classes', ':', '``', 'M', 'Aulturn', 'interest', 'qualis', 'servus', 'sit', ';', 'bonae', ',', ',', ',', 'an', 'vero', ',', 'vel', ',', 'an', '[', 'Dig', '.', 'xlii', '.', '10', ',', '151', '.', 'In', 'Greece', 'the', 'master', 'respected', 'the', 'rights', 'of', 'his', 'slaves', '.', 'Gaius', 'is', 'wrong', 'when', 'he', 'says', ':', '``', 'Apud', 'omnes', ',', 'in', 'servos', 'vitae', 'esse', 'et', 'per', ',', 'id', '``', '[', 'Inst', '.', 'i', '.', '53', ']', '.', 'In', 'earlier', 'times', 'among', 'the', 'Romans', 'the', 'slave', 'was', 'looked', 'upon', 'as', 'a', 'mere', 'piece', 'of', 'property', 'which', 'the', 'master', 'could', 'use', 'as', 'he', 'chose', '.', 'As', 'the', 'number', 'of', 'slaves', 'increased', ',', 'they', 'really', 'became', 'a', 'dangerous', 'class', ',', 'and', 'so', 'the', 'masters', 'became', 'more', 'tyrannical', ';', 'and', 'it', 'was', 'sometimes', 'doubted', 'whether', 'the', 'servile', 'class', 'should', 'be', 'looked', 'upon', 'as', 'human', 'beings', 'at', 'all', '.', 'A', 'touching', 'saying', 'was', 'that', 'of', 'Trimalchio', '(', 'himself', 'a', 'slave', ')', 'to', 'his', 'guests', ':', '``', 'Amici', ',', 'et', 'servi', 'homines', 'stint', 'et', 'unum', '``', '[', 'Petron', '.', '7', '1', 'I', 'The', 'most', 'refined', 'punishments', 'were', 'invented', 'for', 'the', 'slaves', ',', 'and', 'they', 'were', 'tortured', 'to', 'extort', 'evidence', 'from', 'them', '.', 'Even', 'the', 'women', 'were', 'inhumanly', 'cruel', 'toward', 'their', 'attendants', '[', 'cf', '.', 'Wiseman', \"'s\", 'Fabiola', ',', 'p.', '22', ']', '.', 'Sometimes', 'the', 'slaves', 'would', 'turn', 'on', 'their', 'tormentors', 'even', 'in', 'the', 'face', 'of', 'punishment', 'and', 'death', '.', 'Pliny', 'relates', 'the', 'case', 'of', 'Largius', 'Macedo', ',', 'a', 'man', 'who', 'had', 'been', 'arrogant', 'and', 'cruel', 'to', 'his', 'slaves', '.', 'They', 'attacked', 'him', 'in', 'the', 'bath', 'and', 'left', 'him', 'only', 'when', 'they', 'thought', 'him', 'dead', '.', 'The', 'wretch', 'lived', 'long', 'enough', ',', 'as', 'Pliny', 'says', ',', 'to', 'experience', 'a', 'doubtful', 'so/', '.', 'In', 'the', 'days', 'of', 'the', 'emperors', 'the', 'learned', 'jurists', 'began', 'to', 'exert', 'some', 'influence', '.', 'They', 'showed', 'this', 'in', 'the', 'growing', 'tendency', 'to', 'protect', 'the', 'slave', 'against', 'his', 'master', '.', 'Augustus', 'allowed', 'the', 'prefect', 'of', 'the', 'city', 'to', 'interfere', 'and', 'prevent', 'certain', 'kinds', 'of', 'cruelty', 'on', 'the', 'part', 'of', 'masters', '.', 'Claudius', 'enacted', 'that', 'if', 'a', 'master', 'exposed', 'a', 'sick', 'or', 'infirm', 'slave', ',', 'he', 'forfeited', 'all', 'rights', 'over', 'him', '.', 'Hadrian', 'put', 'an', 'end', 'to', 'the', ',', 'or', 'workhouses', ',', 'and', 'forbade', 'a', 'master', 'to', 'sell', 'his', 'slave', 'for', 'gladiatorial', 'purposes', '.', 'Antoninus', 'Pius', 'declared', 'that', 'a', 'master', 'had', 'no', 'more', 'right', 'to', 'kill', 'his', 'own', 'slave', 'than', 'that', 'of', 'another', ',', 'and', 'further', ',', 'any', 'master', ',', 'on', 'proof', 'of', 'inhuman', 'treatment', ',', 'should', 'be', 'compelled', 'to', 'sell', 'his', 'slave', 'to', 'a', 'more', 'lenient', 'master.', '``', 'Both', 'ordinances', ',', '``', 'says', 'Gaius', ',', '``', 'are', 'just', ';', 'it', 'is', 'proper', 'that', 'the', 'abuse', 'of', 'legal', 'right', 'should', 'be', 'restrained', '``', '[', 'In1st', '.', 'i', '.', '53', ']', '.', 'It', 'was', 'left', 'to', 'the', 'Christian', 'empire', 'to', 'develop', 'the', 'greater', 'protections', 'of', 'the', 'rights', 'of', 'slaves', ',', 'and', 'these', 'appeared', 'in', 'the', 'code', 'of', 'Justinian', '[', 'cf', '.', 'Inst', '.', 'i', '.', '3-8', ';', 'ii', '.', '9', ';', 'iii', '.', '8', ',', '9', '.', 'Dig', '.', 'i', '.', '5', ',', '6', ';', 'xxxviii', '.', '1-4', '.', 'XL', 'Code', 'vi', '.', '4', ',', '5', ';', 'Vii', '.', '1-23', ']', '.', 'In', 'the', 'first', 'place', ',', 'the', 'slave', 'was', 'further', 'protected', 'from', 'the', 'cruelty', 'of', 'his', 'master', ',', 'and', 'then', 'much', 'encouragement', 'was', 'given', 'to', 'manumission.', '``', 'A', 'slave', 'could', 'be', 'freed', 'by', 'a', 'letter', 'from', 'his', 'master', '(', ')', ',', 'by', 'a', 'declaration', 'of', 'the', 'master', 'in', 'the', 'presence', 'of', 'witnesses', '(', 'inter', 'amicos', ')', ',', 'or', 'in', 'the', 'presence', 'of', 'the', 'congregation', '(', 'in', ')', '.', 'Many', 'legal', 'restraints', 'upon', 'manumission', 'were', 'also', 'removed', '``', '[', 'Morey', \"'s\", 'Roman', 'Law', ',', '149', ',', 'i5o', ']', '.', 'The', 'Church', 'further', 'encouraged', 'the', 'masters', 'to', 'manumit', 'their', 'slaves', 'as', 'a', 'token', 'of', 'their', 'Christian', 'benevolence', '.', 'Closely', 'allied', 'to', 'this', 'sort', 'of', 'slaves', 'were', 'the', 'and', 'coloni', '.', 'The', 'Adscriptitii', 'were', 'rural', 'slaves', 'who', 'could', 'not', 'be', 'removed', 'from', 'their', 'homes', '.', 'They', 'also', 'had', 'the', 'right', 'of', 'legal', 'marriage', 'without', 'the', 'master', 's', 'consent', '.', 'The', 'Coloni', 'were', 'more', 'like', 'freedmen', '.', 'They', 'had', 'a', 'right', 'to', 'the', 'fruit', 'of', 'the', 'soil', 'after', 'paying', 'a', 'fixed', 'rent', 'to', 'the', 'owner', '.', 'They', 'could', 'also', 'bring', 'an', 'action', 'against', 'their', 'master', 'for', 'injury', 'to', 'themselves', 'or', 'family', '.', 'It', 'was', 'a', 'general', 'principle', ',', '``', 'Quodcunque', 'ier', 'id', 'domino', '.', '``', 'And', 'yet', 'from', 'very', 'early', 'times', 'it', 'was', 'the', 'custom', 'for', 'the', 'master', 'to', 'give', 'a', 'certain', 'allowance', 'to', 'the', 'slave', '.', 'With', 'this', 'the', 'slave', 'might', 'trade', 'and', 'if', 'possible', 'purchase', 'his', 'freedom', '.', 'The', 'technical', 'name', 'for', 'the', 'slave', 's', 'property', 'was', '.', 'No', 'civil', 'or', 'religious', 'marriage', 'was', 'permitted', 'to', 'slaves', ';', 'but', 'a', 'kind', 'of', 'natural', 'marriage', ',', 'called', ',', 'was', 'practised', '.', 'The', 'master', 'alone', 'decided', 'which', 'slaves', 'should', 'enter', 'the', ';', 'but', 'it', 'was', 'usually', 'to', 'his', 'interest', 'to', 'see', 'that', 'only', 'such', 'should', 'marry', 'as', 'had', 'a', 'natural', 'attraction', 'toward', 'each', 'other', '.', 'THE', 'CLIENTS', '.', '-', 'In', 'the', 'household', 'of', 'the', 'wealthy', 'there', 'gradually', 'grew', 'up', 'another', 'class', 'who', 'were', 'not', 'slaves', 'and', 'yet', 'were', 'more', 'or', 'less', 'dependent', 'on', 'the', 'head', 'of', 'the', 'household', '.', 'These', 'were', 'the', 'clients', ',', 'or', 'as', 'a', 'body', 'were', 'called', 'the', '.', 'At', 'first', 'they', 'appear', 'to', 'have', 'been', 'composed', 'exclusively', 'of', 'the', 'freedmen', 'of', 'the', 'family', ';', 'that', 'is', ',', 'former', 'slaves', 'who', 'were', 'manumitted', '.', 'Poor', 'relatives', 'and', 'even', 'strangers', 'from', 'the', 'country', 'found', 'it', 'to', 'their', 'own', 'benefit', 'to', 'attach', 'themselves', 'to', 'some', 'wealthy', 'and', 'influential', 'person', '.', 'Thus', 'the', 'clientela', 'became', 'a', 'public', 'institution', '.', 'The', 'client', 'was', 'debarred', 'from', 'bringing', 'very', 'serious', 'actions', 'against', 'his', 'patron', ',', 'and', 'he', 'might', 'even', 'be', 'bound', 'by', 'oath', 'to', 'perform', 'certain', 'offices', 'for', 'the', 'patron', 'or', 'his', 'family', '.', 'In', 'return', 'for', 'all', 'this', 'the', 'patron', ',', 'at', 'least', 'in', 'the', 'later', 'days', 'of', 'the', 'Empire', ',', 'virtually', 'supported', 'his', 'clients', '.', 'They', 'had', 'then', 'lost', 'the', 'character', 'of', 'freedmen', ',', 'and', 'had', 'become', 'dependants', 'or', 'hangers-on', 'to', 'the', 'wealth', 'of', 'their', 'patrons', '.', 'THE', 'CHILDREN', '.', '-', 'If', 'the', 'condition', 'of', 'women', 'in', 'the', 'ancient', 'Roman', 'family', 'was', 'more', 'desirable', 'than', 'that', 'of', 'their', 'sisters', 'in', 'Greece', ',', 'there', 'can', 'be', 'no', 'question', 'but', 'that', 'the', 'condition', 'of', 'children', ',', 'owing', 'to', 'the', 'persistent', 'and', 'potestas', ',', 'was', 'more', 'burdensome', 'and', 'servile', '.', 'The', 'rightful', 'power', 'of', 'the', 'paterfamilias', ',', 'as', 'the', 'tutor', 'and', 'guardian', 'of', 'his', 'offspring', ',', 'was', 'so', 'extended', 'as', 'to', 'cover', 'the', 'life', 'of', 'the', 'child', 'until', 'the', 'death', 'of', 'such', '.', 'The', 'society', 'of', 'the', 'time', 'recognized', 'but', 'one', 'person', 'in', 'the', 'family', ',', 'and', 'he', 'was', 'the', 'oldest', 'male', 'ascendant', '.', 'Any', 'delict', '(', 'or', 'tort', ')', 'committed', 'by', 'wife', 'or', 'son', 'or', 'slave', 'must', 'be', 'answered', 'for', 'by', 'the', 'legally', 'responsible', 'father', '.', 'This', 'father', 'could', 'surrender', 'the', 'person', 'of', 'his', 'child', 'or', 'slave', 'as', 'full', 'restitution', 'for', 'any', 'injury', 'done', '.', 'Or', ',', 'again', ',', 'the', 'father', 'was', 'sole', 'judge', 'within', 'the', 'family', 'circle', ',', 'and', 'he', 'had', 'the', 'power', 'of', 'life', 'and', 'death', '(', 'jus', 'vitae', ')', '.', 'This', 'paternal', 'power', 'seems', 'to', 'have', 'been', 'established', 'by', 'Romulus', 'as', 'a', 'civil', 'measure', ',', 'though', 'the', 'power', 'doubtless', 'already', 'existed', ',', 'springing', 'forth', 'from', 'the', 'religious', 'position', 'which', 'the', 'father', 'of', 'the', 'family', 'early', 'occupied', '.', 'The', 'institution', 'of', 'Romulus', 'is', 'reiterated', 'and', 'confirmed', 'in', 'the', 'fourth', 'of', 'the', 'XII', 'Tables', '.', 'Thus', 'a', 'son', '(', 'for', 'the', 'expression', 'may', 'be', 'taken', 'to', 'include', 'son', 'and', 'daughter', ',', 'unless', 'otherwise', 'specified', ')', 'became', 'a', 'thing', 'rather', 'than', 'a', 'person', '.', 'The', 'son', 'was', 'confounded', 'with', 'property', ',', 'with', 'cattle', 'or', 'slaves', '.', 'An', 'avaricious', 'or', 'indigent', 'father', 'could', 'sell', 'his', 'sons', 'as', 'well', 'as', 'his', 'slaves', '.', 'Indeed', ',', 'the', 'position', 'of', 'the', 'slave', 'was', 'far', 'preferable', ';', 'for', 'if', 'he', 'were', 'freed', ',', 'he', 'need', 'not', 'return', 'to', 'his', 'former', 'master', ';', 'if', ',', 'however', ',', 'the', 'son', 'were', 'manumitted', ',', 'he', 'returned', 'into', 'the', 'control', 'of', 'his', 'father', '.', 'He', 'could', 'be', 'condemned', 'to', 'servitude', 'a', 'second', 'and', 'a', 'third', 'time', 'before', 'he', 'could', 'become', 'free', '.', 'A', 'father', 'in', 'punishment', 'could', 'send', 'his', 'son', 'to', 'the', 'or', 'out', 'into', 'the', 'country', ',', 'there', 'to', 'work', 'in', 'chains', 'like', 'a', 'disgraced', 'slave', '.', 'There', 'are', 'cases', 'on', 'record', 'where', 'the', 'father', 'has', 'sat', 'in', 'judgment', 'on', 'his', 'own', 'son', 'and', 'condemned', 'him', 'to', 'death', '.', 'There', 'were', 'certain', 'limitations', 'which', 'seem', 'to', 'have', 'worked', 'against', 'the', 'apparent', 'stringency', 'of', 'the', 'law', '.', 'If', 'the', 'father', 'was', 'given', 'large', 'rights', 'over', 'his', 'children', ',', 'he', 'was', 'likewise', 'burdened', 'with', 'certain', 'duties', ',', 'as', ',', 'for', 'instance', ',', 'of', 'supplying', 'the', 'wants', 'of', 'his', 'family', 'from', 'the', 'common', 'fund', 'and', 'of', 'being', 'responsible', 'for', 'their', 'welfare', 'on', 'all', 'occasions', '.', 'Again', ',', 'public', 'opinion', 'must', 'have', 'done', 'much', 'to', 'limit', 'the', 'boundless', 'possibilities', 'of', 'the', 'exercise', 'of', 'paternal', 'power', '.', 'And', 'though', 'the', 'XII', 'Tables', 'recognize', 'the', 'right', 'of', 'the', 'father', 'to', 'sell', 'his', 'child', ',', 'yet', 'practically', 'there', 'are', 'no', 'known', 'cases', ',', 'and', 'the', 'trina', 'was', 'really', 'used', 'to', 'free', 'the', 'child', 'from', 'all', 'control', '.', 'The', 'paternal', 'power', 'extended', 'to', 'a', 'complete', 'control', 'of', 'all', 'the', 'property', 'in', 'the', 'family', ',', 'so', 'that', 'primarily', 'neither', 'son', 'nor', 'slave', 'could', 'hold', 'property', 'in', 'his', 'own', 'right', ';', 'and', 'no', 'one', 'except', 'a', 'person', 'sdi', 'juris', 'could', 'make', 'a', 'will', ',', 'even', 'to', 'very', 'late', 'times', '.', 'Indeed', ',', 'in', 'earliest', 'times', 'the', 'property', 'seems', 'to', 'have', 'been', 'looked', 'upon', 'as', 'belonging', 'to', 'the', 'family', 'in', 'common', '.', 'The', 'was', 'simply', 'steward', ',', 'but', 'absolute', 'steward', '.', 'Without', 'the', 'for', '-', 'of', 'will', 'the', 'property', 'descended', 'by', 'natural', 'course', 'of', 'events', 'to', 'the', 'next', 'in', 'agnatic', 'succession', '.', 'Later', ',', 'through', 'certain', 'stages', 'of', 'development', ',', 'the', 'head', 'of', 'the', 'family', 'gained', 'the', 'right', 'to', 'make', 'testaments', ';', 'but', 'not', 'until', 'the', 'time', 'of', 'the', 'Empire', 'did', 'the', 'son', 'acquire', 'the', 'right', 'to', 'hold', 'and', 'will', 'property', 'independently', '.', 'The', 'term', 'patria', 'potestas', 'denotes', 'the', 'natural', 'relation', 'which', 'existed', 'the', 'head', 'of', 'the', 'family', 'and', 'certain', 'persons', 'under', 'him', '.', 'These', 'subordinates', 'range', 'themselves', 'into', 'three', 'classes', ':', '(', 'i', ')', 'All', 'the', 'descendants', 'through', 'the', 'male', 'line', 'from', 'the', '-', 'milias', ';', '(', '2', ')', 'Children', 'by', 'marriage', ',', 'or', 'the', 'wives', 'of', 'the', 'male', 'de', ';', '(', '3', ')', 'All', 'adopted', 'children', ',', '-', 'these', 'were', 'called', 'the', 'sons', 'and', 'daughters', 'of', 'the', 'paterfamilias', ',', 'the', 'and', '/ias', '.', 'According', 'to', 'Dionysius', 'the', 'XII', 'Tables', 'gave', 'the', 'father', '``', 'absolute', 'power', 'over', 'his', 'children', ',', 'the', 'right', 'existing', 'during', 'their', 'whole', 'life', ',', 'to', 'imprison', ',', 'to', 'scourge', ',', 'to', 'keep', 'in', 'rustic', 'labor', 'in', 'chains', ',', 'to', 'sell', 'them', ',', 'even', 'though', 'they', 'might', 'be', 'in', 'the', 'enjoyment', 'of', 'high', 'state', 'offices', '``', '[', 'Antiq', '.', 'Rom', '.', 'ii', '.', '26', ',', '27', ']', '.', 'Cicero', 'also', 'says', 'that', 'the', 'XII', 'Tables', 'authorized', 'the', 'immediate', 'destruction', 'of', 'monstrous', 'or', 'deformed', 'offspring', '[', 'De', 'Legg', '.', 'iii', '.', '8', ']', '.', 'In', 'all', 'probability', 'originally', 'this', 'of', 'the', 'father', 'was', 'terminated', 'at', 'his', 'death', ';', 'but', 'in', 'the', 'XII', 'Tables', 'there', 'is', 'a', 'provision', 'under', 'which', 'the', 'son', 'could', 'be', 'freed', 'by', 'the', 'trina', ',', 'or', 'three', 'successive', 'sales', 'per', 'aes', 'et', '.', 'This', 'was', 'what', 'was', 'known', 'as', 'emancipation', ',', 'and', 'was', 'the', 'first', 'recorded', 'attempt', 'of', 'the', 'State', 'to', 'interfere', 'with', 'and', 'end', 'the', 'tyranny', 'of', 'the', 'paternal', 'control', '.', 'It', 'is', 'indicative', ',', 'too', ',', 'of', 'a', 'growing', 'opposition', 'on', 'the', 'part', 'of', 'the', 'conscience', 'of', 'the', 'people', 'to', 'an', 'absurd', 'regulation', 'of', 'a', 'now', 'obsolete', 'religious', 'faith', '.', 'The', 'form', 'of', 'this', '-', 'tion', 'was', 'developed', 'with', 'great', 'minuteness', 'by', 'the', 'XII', 'Tables', '.', 'Gestures', 'and', 'forms', 'have', 'a', 'very', 'important', 'part', 'to', 'play', 'in', 'early', 'judicial', 'procedures', '.', 'Three', 'times', 'did', 'the', '/ias', 'sell', 'his', 'son', 'to', '.', ',', 'who', 'by', 'contract', 'manumitted', 'him', 'back', 'to', 'his', 'father', '.', 'Then', 'at', 'length', 'the', 'father', 'could', 'manumit', 'his', 'son', 'in', '.', 'Thus', 'Ulpian', ',', '``', 'Liberi', 'paren/tnz', 'p/', ',', 'i.', 'e.', 'si', 'sint', '.', 'Sed', 'fl/ins', 'ter', 'ter', 'fit', '.', 'Id', 'enim', 'lex', 'XII', 'his', 'verbis', ':', 'Sipaterfiliuwn', 'ter', 'duit', ',', 'flins', 'a', 'patre', 'liber', 'esto', '.', 'Ceteri', 'autem', '-', 'tam', 'guam', 'una', '-', '[', 'X', '.', 'i.', ']', '.', 'Othervise', 'the', 'power', 'of', 'the', 'father', 'only', 'ceased', 'at', 'his', 'death', ',', 'or', 'when', 'either', 'the', 'father', 'or', 'the', 'son', 'had', 'suffered', 'a', 'capitis', ',', 'or', 'when', 'the', 'father', 'was', 'taken', 'prisoner', 'of', 'war', ',', 'which', 'was', 'for', 'the', 'time', 'being', 'a', 'capitis', '.', 'The', 'son', 'was', 'also', 'freed', 'when', 'he', 'became', 'a', 'flamen', ',', 'and', 'the', 'daughter', 'when', 'she', 'entered', 'into', 'marriage', 'with', 'mants', ',', 'or', 'when', 'she', 'became', 'a', 'vestal', 'virgin.', '``', 'In', 'potestate', 'esse', 'et', 'hi', ',', 'qui', 'Flamines', 'Divales', ',', 'et', 'quae', 'virgines', 'Vestae', 'capi', \"''\", '[', 'Ulp', '.', 'x', '.', '5', ']', '.', 'Two', 'surprising', 'customs', 'may', 'be', 'noted', 'here', '.', 'It', 'was', 'not', 'an', 'uncommon', 'thing', 'among', 'many', 'nations', 'of', 'an', '-', 'to', 'kill', 'or', 'expose', 'new-born', 'children', '.', 'In', 'Rome', 'this', 'was', 'not', 'as', 'common', 'a', 'practice', 'as', 'elsewhere', 'in', 'the', 'ancient', 'world', ',', 'but', 'it', 'existed', 'even', 'there', '.', 'Romulus', 'seems', 'to', 'have', 'forbidden', 'the', 'killing', 'of', 'sons', 'and', 'first-born', 'daughters', '.', 'There', 'appears', 'to', 'have', 'been', 'a', 'very', 'prevalent', 'custom', 'of', 'killing', 'all', 'deformed', 'children', '[', 'Cicero', ',', 'De', 'Legg', '.', 'iii', '.', '9', ']', '.', 'Certain', 'it', 'is', 'that', 'the', 'exposure', 'and', 'killing', 'of', 'new-born', 'children', 'was', 'very', 'common', ',', 'even', 'among', 'leading', 'families', '.', 'Another', 'fact', 'to', 'be', 'noted', 'arose', 'from', 'the', 'priestly', 'anA', 'judicial', 'power', 'of', 'the', 'father', '.', 'He', 'alone', 'had', 'the', 'power', 'to', 'accept', 'a', 'new-born', 'child', 'into', 'the', 'family', 'circle', ',', 'or', 'finally', 'to', 'reject', 'it', '.', 'Probably', 'there', 'were', 'comparatively', 'few', 'rejections', ',', 'since', 'owing', 'to', 'the', 'desire', 'to', 'have', 'descendants', 'to', 'per', '-', 'the', 'worship', ',', 'the', 'father', 'would', 'wish', 'to', 'have', 'as', 'many', 'accepted', 'children', 'as', 'possible', ';', 'and', 'then', ',', 'later', ',', 'public', 'opinion', 'would', 'do', 'much', 'in', 'restraining', 'the', 'father', 'from', 'any', 'such', 'undue', 'manifestation', 'of', 'the', 'paternal', 'power', '.', 'The', 'jus', 'gentium', 'did', 'much', 'to', 'modify', 'Roman', 'law', 'in', 'all', 'its', 'departments', '.', 'This', 'modification', 'shows', 'itself', 'in', 'the', 'more', 'equitable', 'provisions', 'of', 'the', 'praetor', 's', '``', 'perpetual', 'edict', '``', 'Then', ',', 'further', ',', 'the', 'jus', 'gave', 'coloring', 'to', 'the', 'writings', 'and', 'opinions', 'of', 'the', 'great', 'of', 'the', 'time', 'of', 'the', 'Empire', '.', 'Those', 'learned', 'in', 'the', 'law', 'in', 'turn', 'gave', 'general', 'direction', 'to', 'the', 'constitutions', 'of', 'the', 'emperors', '.', 'Thus', ',', 'finally', ',', 'by', 'imperial', 'enactments', 'the', 'more', 'liberal', 'provisions', 'of', 'the', 'jus', 'began', 't6', 'work', 'themselves', 'out', 'against', 'the', 'unjust', 'and', 'tyrannical', 'patria', '[', 'Inst', '.', 'i', '.', '9', ';', 'Dig', '.', 'i', '.', '6', ',', '7', ';', 'Code', 'vii', '.', '47', ',', '48', ',', '491', '.', 'It', 'took', 'years', 'to', 'emancipate', 'the', 'son', 'from', 'the', 'absurd', 'trammels', 'of', 'his', 'father', 's', 'power', ';', 'and', 'vestiges', 'of', 'that', 'power', 'appear', 'even', 'in', 'the', 'Code', 'of', 'Justinian', '.', 'Public', 'opinion', 'must', 'long', 'have', 'been', 'at', 'work', 'limiting', 'the', 'exercise', 'of', 'the', 'paternal', 'power', ';', 'and', 'probably', 'in', 'general', 'that', 'power', 'had', 'been', ',', 'during', 'the', 'latter', 'days', 'of', 'the', 'Republic', ',', 'more', 'a', 'matter', 'of', 'the', 'letter', 'of', 'the', 'law', 'than', 'of', 'actual', 'practice', '.', 'Trajan', 'was', 'the', 'first', 'one', 'who', 'gave', 'voice', 'to', 'the', 'prevailing', 'idea', 'that', 'natural', 'rights', 'belonged', 'to', 'persons', 'of', 'every', 'class', '.', 'He', 'compelled', 'a', 'father', 'who', 'had', 'been', 'unduly', 'cruel', 'to', 'his', 'son', 'to', 'emancipate', 'him', ';', 'and', 'he', 'forbade', 'the', 'father', 'to', 'inherit', 'any', 'property', 'which', 'the', 'son', 'had', 'acquired', 'after', 'his', 'emancipation', '.', 'It', 'is', 'said', 'by', 'Papinian', 'that', 'Trajan', 'was', 'led', 'to', 'do', 'this', 'by', 'the', 'advice', 'of', 'the', 'jurists', ',', 'Neratius', 'and', 'Aristo', '[', 'D.', 'xxxvii', '.', '12', ',', '5', ']', '.', 'Alexander', 'Severus', 'began', 'to', 'treat', 'the', 'power', 'of', 'life', 'and', 'death', 'as', 'entirely', 'obsolete', ';', 'and', 'though', 'he', 'gave', 'the', 'father', 'full', 'power', 'in', 'the', 'matter', 'of', 'simple', 'punishments', ',', 'yet', 'all', 'graver', 'offences', 'were', 'referred', 'to', 'the', 'public', 'magistrate', '.', 'Valentinian', 'and', 'Valens', 'also', 'put', 'a', 'rather', 'indefinite', 'limit', 'on', 'the', 'father', 's', 'right', 'to', 'chastise', 'his', 'son', '.', 'Those', 'guilty', 'of', 'great', 'offence', '(', 'delicti', 'reos', ')', 'were', 'to', 'be', 'handed', 'over', 'to', 'public', 'justice', '.', 'Under', 'Diocletian', 'it', 'had', 'been', 'declared', 'that', 'no', 'title', 'could', 'be', 'given', 'in', 'the', 'sale', 'of', 'a', 'child', '.', 'But', 'Constantine', 'again', 'sanctioned', 'the', 'sale', 'of', 'newv-born', 'children', ',', 'if', 'sold', 'through', 'want', ';', 'but', 'even', 'then', 'the', 'vendor', ',', 'the', 'child', ',', 'or', 'any', 'one', 'could', 'purchase', 'his', 'freedom', ',', 'and', 'the', 'child', 'would', 'be', 'restored', 'to', 'all', 'previous', 'civil', 'rights', '.', 'Justinian', 'condemns', 'the', 'practice', 'as', 'flagrantly', 'inhuman', 'and', 'immoral', '.', 'The', 'degrees', 'of', 'offence', 'of', 'which', 'a', 'son', 'might', 'be', 'guilty', 'toward', 'his', 'father', 'and', 'the', 'corresponding', 'punishments', 'are', 'thus', 'laid', 'down', 'by', 'Justinian', ':', '``', 'If', 'your', 'son', 'is', 'in', 'your', 'power', ',', 'he', 'can', 'not', 'part', 'with', 'property', 'acquired', 'from', 'you', '.', 'If', 'he', 'does', 'not', 'recognize', 'the', 'dutiful', 'obligations', 'owing', 'to', 'his', 'father', ',', 'there', 'is', 'nothing', 'to', 'prevent', 'you', 'punishing', 'him', 'in', 'the', 'exercise', 'of', 'your', 'parental', 'power', '.', 'If', 'he', 'persists', 'in', 'the', 'same', 'contumacious', 'conduct', ',', 'you', 'can', 'resort', 'to', 'severer', 'remedial', 'measures', '.', 'You', 'may', 'further', 'take', 'him', 'before', 'the', 'president', 'of', 'the', 'district', ',', 'who', 'will', 'pronounce', 'a', 'sentence', 'such', 'as', 'will', 'meet', 'your', 'wishes', '``', '[', 'C.', 'iii', '.', '8', ',', '471', '.', 'It', 'was', 'provided', 'by', 'a', 'constitution', 'of', 'Diocletian', 'and', 'Maximian', 'that', 'the', 'governor', 'of', 'a', 'province', 'could', 'compel', 'a', 'son', 'to', 'show', 'his', 'father', 'due', 'reverence', ',', 'and', 'to', 'furnish', 'him', 'with', 'the', 'necessities', 'of', 'life', '.', 'It', 'was', 'also', 'decided', ',', 'if', 'a', 'son', 'occupied', 'a', 'higher', 'civil', 'position', 'than', 'his', 'father', ',', 'that', 'father', 'was', 'bound', 'to', 'waive', 'his', 'paternal', 'power', ',', 'and', 'show', 'reverence', 'to', 'his', 'son', 'as', 'his', 'political', 'superior', '[', 'Aul', '.', 'Gell', '.', 'N.', 'A.', 'ii', '.', '2', ']', '.', 'The', 'essential', 'unity', 'of', 'father', 'and', 'son', 'for', 'legal', 'purposes', 'appears', 'in', 'the', 'following', 'sentiment', 'of', 'Paulus', ',', 'embodied', 'in', 'the', 'Digest', ':', '``', 'That', 'a', 'father', 'can', 'not', 'sue', 'his', 'son', 'for', 'theft', 'is', 'not', 'so', 'much', 'the', 'result', 'of', 'legal', 'prohibition', 'as', 'of', 'essential', 'natural', 'impediments', ';', 'because', 'we', 'can', 'no', 'more', 'sue', 'those', 'who', 'are', 'in', 'our', 'power', 'than', 'we', 'can', 'sue', 'ourselves', '[', 'D.', 'xvi', '.', '47', ',', '2', ']', '.', 'Savigny', 'thus', 'summarizes', 'the', 'position', 'of', 'the', 'son', ':', '``', 'The', 'son', 'lacks', 'the', 'capacity', ',', 'in', 'matters', 'of', 'private', 'legal', 'relationship', ',', 'to', 'exercise', 'any', 'power', 'or', 'authority', ',', 'while', 'in', 'every', 'other', 'relationship', 'his', 'capacity', 'is', 'unrestricted', '.', 'Furthermore', ',', 'the', 'defective', 'capacity', 'is', 'not', 'to', 'be', 'treated', 'as', 'an', 'inherent', 'want', 'in', 'the', 'child', 'himself', ',', 'but', 'merely', 'as', 'a', 'consequence', 'of', 'the', 'rule', 'of', 'law', 'by', 'which', 'the', 'father', 'acquires', 'the', 'benefit', 'of', 'all', 'the', 'rights', 'which', 'spring', 'from', 'the', 'son', 's', 'acts', '[', 'Qtd', '.', 'in', 'Amos', \"'\", 'Roman', 'Civil', 'Law', ',', '270', ']', '.', 'The', 'influence', 'of', 'Christianity', 'simply', 'deepened', 'and', 'intensified', 'the', 'convictions', 'which', 'sprang', 'from', 'a', 'study', 'of', ',', 'that', 'certain', 'natural', 'rights', 'inhered', 'in', 'the', 'son', 'as', 'a', 'member', 'of', 'society', ',', 'and', 'that', 'those', 'rights', 'should', 'be', 'respected', '.', 'The', 'amelioration', 'of', 'the', 'condition', 'of', 'the', 'son', 'appears', 'nowhere', 'more', 'strikingly', 'than', 'in', 'the', 'matter', 'of', 'the', 'control', 'of', 'property', '.', 'Primarily', 'the', 'son', 'could', 'hold', 'no', 'property', 'and', 'could', 'make', 'no', 'will', ',', 'no', 'matter', 'what', 'his', 'age', 'might', 'be', ',', 'provided', 'his', 'father', 'still', 'lived', '.', 'In', 'the', 'course', 'of', 'time', 'a', 'certain', 'amount', 'of', 'property', 'was', 'intrusted', 'to', 'the', 'son', ',', 'called', '.', 'This', 'might', 'correspond', 'almost', 'exactly', 'to', 'a', 'slave', 's', ',', 'or', 'it', 'might', 'be', '``', 'a', '-', 'different', 'species', 'of', 'wealth', ',', 'over', 'which', 'the', 'son', 'could', 'exercise', 'greater', ';', 'or', 'less', 'power', 'of', 'independent', 'management', ',', 'free', 'from', 'his', 'father', 's', 'general', 'influence', ',', 'though', 'not', 'free', 'from', 'all', 'present', 'or', 'ulterior', 'rights', 'of', 'the', 'father', 'to', 'co-operation', 'in', 'legal', 'acts', ',', 'to', 'ownership', 'in', 'the', 'principal', ',', 'to', 'usufruct', 'of', 'the', 'proceeds', ',', 'or', 'to', 'hereditary', 'succession', '``', '[', 'Sheldon', 'Amos', ',', 'Romnan', 'Civil', 'LawV', ',', '27', '1', ']', '.', 'Under', 'Justinian', ',', 'property', 'in', 'the', 'possession', 'of', 'the', 'son', 'might', 'be', 'grouped', 'under', 'three', 'heads', ':', '(', 'i', ')', 'First', 'there', 'was', 'the', 'pecu', ',', 'or', 'property', 'which', 'the', 'father', 'intrusted', 'to', 'the', 'son', ',', 'and', 'of', 'which', 'the', 'father', 'alone', 'could', 'enjoy', 'the', 'permanent', 'increase', '.', '(', '2', ')', 'There', 'the', '-', '/ium', 'and', 'quasipecue', '-', 'Augustus', 'allowed', 'the', 'son', 'to', 'enjoy', 'whatever', 'he', 'acquired', 'in', 'military', 'service', '.', 'This', 'was', 'called', '/ium', 'castrense', ',', 'and', 'is', 'thus', 'defined', 'by', 'Macer', 'to', 'be', ',', '``', 'Whatever', 'the', 'son', 'receives', 'from', 'his', 'father', 'or', 'relatives', 'by', 'way', 'of', 'equipment', ',', 'or', 'whatever', 'he', 'himself', 'obtained', 'while', 'in', 'the', 'service', '``', '[', 'D.', 'xlix', '.', '17', ',', 'ii', ']', '.', 'The', '-', 'was', 'gradually', 'defined', 'by', 'the', 'emperors', ',', 'from', 'Constantine', 'up', 'to', 'and', 'including', 'Justinian', '.', 'It', 'was', 'thus', 'made', 'to', 'cover', 'whatever', 'was', 'derived', 'from', 'any', 'civil', 'office', '.', 'By', 'one', 'of', 'the', 'Novels', 'of', 'Justinian', 'the', 'service', 'of', 'the', 'Church', ',', 'so', 'far', 'as', 'it', 'was', 'carried', 'on', 'by', 'a', 'regularly', 'ordained', 'minister', ',', 'brought', 'within', 'this', 'category', '[', 'Nov.', 'cxxiii', '.', 'is', ']', '.', 'The', 'father', 'had', 'no', 'rights', 'over', 'the', 'property', 'under', 'the', 'second', 'head', 'except', 'to', 'enter', 'into', 'the', 'guardianship', 'if', 'his', 'son', 'became', 'insane', ',', 'or', 'to', 'inherit', 'if', 'his', 'son', 'died', 'intestate', 'and', 'without', 'children', '.', '(', '3', ')', 'Under', 'the', 'third', 'head', 'falls', 'that', 'part', 'of', 'the', 'son', 's', 'private', 'property', 'not', 'included', 'tinder', 'the', 'two', 'previous', 'heads', '.', 'It', 'was', 'also', 'called', ',', 'and', 'is', 'said', 'to', 'have', 'been', 'introduced', 'by', 'Constantine', '.', 'It', 'includes', 'all', 'property', '``', 'which', 'came', 'to', 'the', 'son', ',', 'as', 'it', 'was', 'said', ',', 'by', 'fortune', 's', 'favor', ',', 'or', 'by', 'his', 'own', 'exertion', '``', '[', 'C.', 'vi', '.', '6', ',', '6o0', '.', 'The', 'father', 'could', 'not', 'touch', 'the', 'principal', ',', 'but', 'had', 'the', 'usufruct', ';', 'and', 'in', 'certain', 'exceptional', 'cases', 'he', 'lost', 'all', 'rights', 'to', 'this', 'kind', 'of', 'umn', '.', 'In', 'earlier', 'times', 'it', 'was', 'often', 'the', 'custom', 'to', 'adopt', 'or', 'arrogate', 'a', 'son', ',', 'in', 'order', 'that', 'the', 'domestic', 'religion', 'might', 'not', 'cease', '.', 'This', 'reception', 'of', 'the', 'sonI', 'was', 'called', 'adoption', 'when', 'a', 'son', 'was', 'taken', 'from', 'some', 'other', 'prd-ia', 'po/estas', 'and', 'subjected', 'to', 'a', 'new', 'paternal', 'power', '.', 'The', 'process', 'was', 'called', 'arrogation', 'when', 'a', 'person', 'sui', 'juris', 'submitted', 'himself', 'to', 'the', 'patri-a', 'po0', 'of', 'another', '.', 'In', 'later', 'times', 'the', 'custom', 'of', 'adoption', 'was', 'sharply', 'limited', 'by', 'civil', ',', 'and', 'was', 'made', 'to', 'depend', 'on', 'consent', 'of', 'the', 'adopted', 'child', '.', 'As', 'a', 'regulated', 'system', 'of', 'concubinage', 'arose', ',', 'out', 'of', 'respect', 'to', 'the', 'ancient', 'form', 'of', 'marriage', ',', 'it', 'was', 'permitted', 'the', 'father', 'by', 'various', 'methods', 'to', 'legitimate', 'his', 'na/nral', 'children', '.', 'This', 'was', 'done', 'principally', 'by', 'the', 'subsequent', 'marriage', 'of', 'father', 'and', 'mother', ',', 'or', 'by', 'a', 'rescript', 'of', 'the', 'emperor', '.', 'The', 'consent', 'of', 'the', 'child', 'was', 'necessary', 'to', 'a', 'valid', 'legitimation', ',', 'and', 'the', 'legitimated', 'child', 'entered', 'into', 'all', 'the', 'rights', 'and', 'privileges', 'of', 'children', 'born', 'in', 'lawful', 'wedlock', '.', 'In', 'the', 'ancient', 'Roman', 'life', ',', 'when', 'the', 'father', 'died', 'and', 'the', 'children', 'were', 'under', 'the', 'age', 'of', 'puberty', ',', 'some', 'of', 'the', 'agnates', 'took', 'charge', 'of', 'them', 'as', 'guardians', '.', 'But', 'this', 'speedily', 'proved', 'to', 'be', 'an', 'irresponsible', 'guardianship', ',', 'and', 'the', 'State', 'took', 'the', 'management', 'of', 'such', 'matters', 'under', 'its', 'own', 'control', '.', 'The', 'age', 'of', 'puberty', 'was', 'rather', 'rashly', 'fixed', 'upon', 'as', 'the', 'age', 'of', 'legal', 'responsibility', '.', 'But', 'even', 'at', 'the', 'age', 'of', 'puberty', ',', 'it', 'was', 'found', 'that', 'the', 'child', 'was', 'not', 'competent', 'to', 'manage', 'his', 'property', ',', 'and', 'therefore', 'two', 'kinds', 'of', 'guardians', 'were', 'appointed', ';', 'namely', ',', 'tutors', 'and', 'curators', '.', 'The', 'office', 'of', 'tutor', 'is', 'thus', 'defined', 'by', 'Servius', ',', 'and', 'the', 'definition', 'is', 'incorporated', 'into', 'the', 'Institteles', ':', '``', 'Tutela', 'is', 'the', 'right', 'and', 'power', 'conferred', 'or', 'authorized', 'by', 'the', 'civil', 'law', 'for', 'the', 'protection', 'of', 'an', 'independent', 'person', 'who', 'is', ',', 'by', 'reason', 'of', 'age', ',', 'incapable', 'of', 'protecting', 'himself', '.', 'And', 'tutors', 'who', 'have', 'this', 'authority', 'are', 'so', 'called', 'from', 'the', 'nature', 'of', 'their', 'office', ',', 'in', 'that', 'they', 'act', 'as', 'protectors', '(', ')', 'and', 'defenders', '``', '[', 'Inst', '.', 'i', '.', '13', ',', 'I', ',', '2', ']', '.', 'Tutors', 'were', 'of', 'three', 'kinds', ',', '-', 'testamentary', ',', 'legal', ',', 'and', 'tutors-dative', '.', 'Testamentary', 'tutors', 'were', 'those', 'appointed', 'by', 'the', 'father', 'in', 'his', 'will', '.', 'Legal', 'tutors', ',', 'or', 'tutors-at-law', ',', 'were', 'those', 'who', ',', 'in', 'default', 'of', 'testamentary', 'tutors', ',', 'became', 'such', 'by', 'reason', 'of', 'their', 'relationship', '.', 'It', 'was', 'a', 'maxim', 'of', 'the', 'Roman', 'law', 'that', '``', 'he', 'who', 'has', 'the', 'benefit', 'of', 'the', 'succession', 'ought', 'also', 'to', 'have', 'the', 'burden', 'of', 'the', 'tutelage', '``', '[', 'Inst', '.', 'i.', 'I', '7', ']', '.', 'At', 'first', 'the', 'legal', 'tutor', 'was', 'sought', 'for', 'among', 'the', 'agnates', ',', 'or', 'in', 'the', 'gens', ';', 'but', 'as', 'soon', 'as', 'the', 'blood-relationship', 'of', 'cognates', 'was', 'recognized', ',', 'the', 'principle', 'obtained', 'that', 'the', 'nearest', 'heir', 'who', 'was', 'capable', 'of', 'undertaking', 'the', 'duty', 'was', 'bound', 'to', 'become', 'tutor', '.', 'Tutors-dative', 'were', 'those', 'appointed', 'by', 'the', 'public', 'magistrate', 'when', 'no', 'guardians', 'had', 'been', 'appointed', 'by', 'will', ',', 'and', 'when', 'there', 'were', 'no', 'relatives', '.', 'Tutors', 'had', 'anciently', 'been', 'appointed', 'for', 'women', 'whenever', 'they', 'became', 'freed', 'from', 'the', 'patria', 'potestas', 'of', 'father', 'and', 'husband', '.', 'But', 'as', 'soon', 'as', 'the', 'two', 'sexes', 'approached', 'a', 'substantial', 'equality', ',', 'this', 'office', 'fell', 'into', 'abeyance', '.', 'The', 'curator', 's', 'duties', 'were', 'limited', 'by', 'the', 'purpose', 'for', 'which', 'he', 'was', 'appointed', '.', 'He', 'could', 'in', 'no', 'case', 'transcend', 'this', 'limitation', '.', 'He', 'might', 'be', 'appointed', 'for', 'some', 'special', 'duty', ',', 'as', 'in', 'case', 'of', 'a', 'law-suit', ',', 'or', 'a', 'settlement', 'of', 'accounts', ';', 'or', 'he', 'might', 'be', 'a', 'general', 'curator', ',', 'in', 'which', 'case', 'his', 'duties', 'differed', 'but', 'slightly', 'from', 'those', 'of', 'a', 'tutor', '.', 'The', 'legal', 'regulations', 'governing', 'wives', ',', 'and', 'their', 'relation', 'to', 'the', 'paternal', 'authority', ',', 'can', 'be', 'best', 'discussed', 'under', 'the', 'general', 'subject', 'of', 'marriage', '.', 'MARRIAGE', '[', 'InIst', '.', 'i.', 'Io', ';', 'Dig', '.', 'xxiii.', ',', 'xxiv.', ',', 'xxv', '.', ';', 'Code', 'v.', ';', 'Ulp', '.', 'Frag', '.', 'Tit', '.', 'ix', '.', 'pp', '.', '590', ',', '591', ';', 'Serv', '.', 'in', 'Georg', '.', 'i.', ';', 'in', 'Aen', '.', 'iv', '.', ';', 'Gai', '.', 'i', '.', '59-64', ';', 'Becker', \"'s\", 'Gall', '.', '153', ']', '.', '-', 'In', 'the', 'eye', 'of', 'the', 'primitive', 'law', ',', 'the', 'wife', 'was', 'a', 'thing', 'rather', 'than', 'a', 'person', '.', 'She', 'passed', 'her', 'life', 'under', 'a', 'perpetual', 'guardianship', '.', 'At', 'first', 'she', 'was', 'under', 'the', 'patria', 'of', 'her', 'father', ';', 'thence', 'she', 'passed', 'under', 'to', 'her', 'husband', '.', 'And', 'should', 'it', 'ever', 'occur', 'that', 'her', 'father', 'and', 'her', 'husband', 'should', 'both', 'be', 'dead', ',', 'a', 'guardian', 'was', 'immediately', 'appointed', 'for', 'her', '.', 'Over', 'the', 'person', 'of', 'the', 'wife', 'the', 'husband', 'had', 'absolute', 'and', 'unlimited', 'sway', '.', 'He', 'might', 'sell', 'her', 'as', 'he', 'would', 'a', 'slave', ',', 'or', 'if', 'she', 'were', 'taken', 'in', 'the', 'act', 'of', 'committing', 'some', 'great', 'crime', ',', 'her', 'life', 'paid', 'the', 'forfeit', '.', 'The', 'wife', 'had', 'no', 'property', 'rights', 'whatever', ';', 'she', 'could', 'acquire', 'no', 'estate', ',', 'nor', 'could', 'she', 'manage', 'one', '.', 'Of', 'course', 'all', 'these', 'stringent', 'limitations', 'were', 'confined', 'to', 'the', 'very', 'earliest', 'day', '.', 'In', 'the', 'time', 'of', 'Justinian', 'it', 'was', 'still', 'true', 'that', '``', 'in', 'many', 'par', '-', 'the', 'legal', 'position', 'of', 'women', 'was', 'inferior', 'to', 'that', 'of', 'men.', '``', 'Several', 'causes', 'may', 'have', 'conspired', 'to', 'bring', 'about', 'this', 'result', '.', 'It', 'was', 'either', 'through', 'a', 'belief', 'in', 'the', 'comparative', 'inferiority', 'of', 'the', 'feminine', 'mind', ';', 'or', 'as', 'a', 'result', 'of', '``', 'the', 'deeply', 'seated', 'institution', 'of', 'the', 'paternal', 'power', ',', 'and', 'of', 'the', 'strict', 'idea', 'of', 'the', 'legal', 'family', 'which', 'sprang', 'from', 'it', ';', '``', 'or', ',', 'lastly', ',', 'through', 'a', 'repugnance', 'to', 'women', 'appearing', 'in', 'public', '.', 'For', 'a', 'long', 'period', 'women', 'were', 'included', ',', 'by', 'the', 'praetor', 's', 'edict', ',', 'in', 'that', 'class', 'who', 'were', 'exfor', 'being', 'ignorant', 'of', 'the', 'law', '.', 'Women', 'were', 'expressly', 'forbidden', 'to', 'perform', 'any', 'public', 'function', ',', 'especially', 'judicial', ',', 'magisterial', ',', 'or', 'religious', ';', 'they', 'were', 'also', 'excluded', 'from', 'such', 'quasi-public', 'offices', 'as', 'that', 'of', 'banker', '.', 'By', 'the', 'time', 'of', 'Justinian', 'many', 'of', 'the', 'old', 'restrictions', 'were', 'removed', '.', 'The', 'life-long', 'tutelage', 'had', 'disappeared', ';', 'Christian', 'legislation', 'against', 'divorce', 'had', 'put', 'women', 'upon', 'an', 'equality', 'with', 'men', ';', 'new', 'laws', 'of', 'inheritance', 'put', 'an', 'end', 'to', 'the', 'old', 'preference', 'of', 'male', 'heirs', 'to', 'the', 'manifest', 'injury', 'of', 'female', 'descendants', '[', 'Nov', '.', '.', ']', '.', '``', 'The', 'general', 'rule', 'of', 'interpretation', 'was', 'that', 'where', 'the', 'masculine', 'name', 'or', 'pronoun', 'was', 'used', ',', 'the', 'feminine', 'was', 'included', ',', 'but', 'not', 'vice', 'versa', '``', '[', 'Sheldon', 'Amos', ',', 'Roman', 'Civil', 'Law', ',', 'I', 'I', ']', '.', 'And', 'yet', 'the', 'Roman', 'matrons', 'appear', 'always', 'to', 'have', 'had', 'large', 'liberty', ',', 'and', 'to', 'have', 'been', 'treated', 'with', 'great', 'consideration', '.', 'They', 'were', 'never', 'relegated', 'to', 'the', ',', 'like', 'the', 'Athenian', 'women', ',', 'and', 'were', 'permitted', 'to', 'go', 'abroad', 'on', 'the', 'streets', ',', 'to', 'the', 'theatres', ',', 'to', 'the', 'circus', ',', 'and', 'to', 'the', 'banquets', '.', 'They', 'were', 'confined', 'to', 'no', 'part', 'of', 'the', 'house', ',', 'and', 'the', 'term', 'materfamilias', 'appears', 'to', 'have', 'been', 'one', 'of', 'great', 'honor', '.', 'Chastity', 'appears', 'to', 'have', 'been', 'one', 'of', 'the', 'notable', 'characteristics', 'of', 'Roman', 'matrons', 'for', 'centuries', '.', 'But', 'after', 'the', 'Punic', 'wars', ',', 'and', 'as', 'the', 'luxuries', 'of', 'life', 'increased', ',', 'the', 'Roman', 'women', 'became', 'more', 'and', 'more', 'profligate', '.', 'The', 'same', 'complaint', 'could', 'be', 'laid', 'against', 'many', 'women', 'that', 'Clitipho', 'made', 'of', 'his', 'Bacchis', ':', '``', 'Mea', 'est', ',', ',', ',', ',', 'nobilis', '``', '[', 'Tcr', '.', 'Heaut', '.', 'ii', '.', 'I', ',', '15', ']', '.', 'This', 'looseness', 'and', 'arrogance', 'led', 'the', 'men', 'to', 'prefer', 'celibacy', ',', 'and', 'Augustus', 'found', 'it', 'no', 'easy', 'matter', 'to', 'encourage', 'marriage', '.', 'Marriage', 'in', 'ancient', 'times', 'may', 'be', 'divided', 'into', 'two', 'classes', ':', 'and', 'non', '.', 'The', 'matrioccurred', 'when', 'both', 'parties', 'had', ';', 'that', 'is', ',', 'did', 'not', 'belong', 'to', 'classes', 'between', 'which', 'm', 'arriage', 'was', 'forbidden', '.', 'Zatrimnoniumn', 'non', 'occurred', 'persons', 'married', 'whom', 'the', 'law', 'forbade', 'to', 'marry', ',', 'as', 'plebeians', 'with', 'patricians', ',', 'or', 'with', 'the', 'Romans', '.', 'But', 'these', 'distinctions', 'gradually', 'wore', ',', 'so', 'that', 'servile', 'condition', 'was', 'the', 'sole', 'obstacle', 'to', 'legitimate', 'marriage', 'with', 'a', 'citizen', '.', 'By', 'the', 'Acx', 'Canul/ia', '(', '445', 'B.C', '.', ')', 'the', 'first', 'inroad', 'was', 'made', 'on', 'this', 'earlier', 'prohibition', 'when', 'plebeians', 'were', 'to', 'intermarry', 'with', 'patricians', '.', 'In', 'the', 'several', 'epochs', 'of', 'Roman', 'law', 'and', 'custom', 'four', 'different', 'forms', 'of', 'marriage', 'appear', 'to', 'have', 'been', 'used', ',', 'three', 'of', 'which', 'were', 'of', 'ancient', 'origin', 'and', 'gave', 'the', 'wife', 'into', ',', 'to', 'her', 'husband', ';', 'that', 'is', ',', 'placed', 'her', 'in', 'his', 'power', ',', 'much', 'the', 'same', 'as', 'though', 'she', 'had', 'been', 'his', 'daughter', '.', 'She', 'was', 'loco', '[', 'Gai', '.', 'i.', 'i', 'i', 'i', ']', '.', 'It', 'appears', ',', 'in', 'the', 'process', 'of', 'time', ',', 'that', 'before', 'a', 'husband', 'could', 'exercise', 'his', 'power', 'of', 'punishment', ',', 'he', 'was', 'compelled', 'to', 'call', 'a', 'family', 'council', 'and', 'seek', 'their', 'advice', '.', 'In', 'later', 'times', 'at', 'least', ',', 'this', 'family', 'gathering', ',', 'in', 'case', 'the', 'wife', 'was', 'in', ',', 'consisted', 'of', 'the', 'cog', 'nati', 'of', 'the', 'husband', ';', 'or', 'when', 'the', 'wife', 'was', 'not', 'in', 'mann', ',', 'then', 'this', 'council', 'composed', 'of', 'the', 'wife', 's', '[', 'Becker', \"'s\", 'Gall', '.', '156', ']', '.', 'The', 'husband', 'could', 'never', 'decide', 'by', 'himself', ',', 'except', 'only', 'when', 'he', 'took', 'his', 'wife', 'in', 'the', 'very', 'act', 'of', 'adultery', ',', 'and', 'then', 'he', 'might', 'put', 'her', 'to', 'death', '[', 'Gell', '.', 'x', '.', '23', ']', '.', 'The', 'essential', 'part', 'of', 'a', 'Roman', 'marriage', 'rested', 'in', 'the', 'mutual', 'consent', 'of', 'the', 'contracting', 'parties', ',', 'always', 'subject', ',', 'of', 'course', ',', 'to', 'the', 'approval', 'of', 'those', 'in', 'whose', 'power', 'they', 'might', 'at', 'the', 'time', 'be', '.', 'It', 'was', 'considered', 'an', 'infamous', 'crime', 'to', 'abduct', 'a', 'woman', 'without', 'the', 'consent', 'of', 'her', 'parent', 'or', 'guardian', '.', 'And', 'yet', 'we', 'are', 'surprised', 'to', 'find', 'that', 'due', 'attention', 'must', 'have', 'been', 'given', 'to', 'the', 'natural', 'inclination', 'of', 'the', 'contracting', 'parties', ';', 'for', 'it', 'is', 'a', 'maxim', 'of', 'the', 'civil', 'law', ',', '``', 'All', 'marriages', 'are', 'brought', 'about', 'by', 'affection', '``', '[', 'Code', 'v.', '5', ',', '41', '.', 'The', 'mutual', 'consent', 'on', 'either', 'side', 'was', 'indicated', 'in', 'the', 'act', 'of', 'cohabitation', 'ad', 'vitae', 'and', '-', 'causa', '.', 'And', 'no', 'marriage', 'ceremony', 'was', 'absolutely', 'necessary', ',', 'in', 'addition', 'to', 'this', 'mutual', 'consent', '.', 'In', 'a', 'marriage', 'with', 'manus', ',', 'certain', 'ceremonies', 'followed', 'on', 'the', 'consent', ',', 'and', 'these', 'ceremonies', 'became', 'rather', 'public', 'evidence', 'of', 'marriage', 'than', 'marriage', 'itself', '.', 'These', 'forms', 'were', 'three', 'in', 'number', ':', '.', ',', 'and', 'usus', '.', 'Oii', 'itaque', 'tribus', 'modis', 'manum', ';', 'usu', ',', ',', '[', 'Gai', '.', 'i.', 'iog', ',', '1', 'Io', ']', '.', 'The', 'first', 'was', 'essentially', 'a', 'religious', 'ceremony', ';', 'the', 'other', 'two', 'rested', 'on', 'the', 'sanctions', 'of', 'the', 'civil', 'law', ',', 'but', 'derived', 'many', 'of', 'their', 'rites', 'and', 'usages', 'from', 'the', 'first', '.', 'In', 'the', 'a', 'contract', ',', 'and', 'in', 'the', 'a', 'sort', 'of', 'prescription', 'brought', 'the', 'woman', 'in', 'manum', 'viri', '.', 'The', 'ceremony', 'of', 'appears', 'to', 'have', 'been', 'the', 'most', 'ancient', 'form', 'of', 'marriage', ',', 'and', 'was', 'of', 'Sabine', 'origin', '.', 'It', 'was', 'always', 'confined', 'to', 'the', 'patrician', 'order', ',', 'and', 'was', 'perpetuated', 'into', 'the', 'middle', 'empire', 'only', 'in', 'the', 'case', 'of', 'the', 'priests', '.', 'Essentially', 'the', 'ceremony', 'consisted', 'in', 'taking', 'the', 'wife', 'away', 'from', 'her', 'old', 'domestic', 'religion', 'and', 'adopting', 'her', 'into', 'that', 'of', 'her', 'husband', '.', 'This', 'form', 'of', 'marriage', 'comprised', 'three', 'acts', ':', 'traditio', ',', 'in', ',', '[', 'Gai', '.', 'i', '.', '112', ';', 'Ulp', '.', 'iX', '.', 'Dig', '.', 'xxiii', '.', '2', ',', 'I', ']', '.', 'The', 'traditio', 'consisted', 'in', 'the', 'yielding', 'up', 'of', 'the', 'daughter', 'by', 'her', 'father', ',', 'who', 'alone', 'had', 'the', 'authority', 'to', 'give', 'her', 'in', 'marriage', '.', 'The', 'comprised', 'the', 'carrying', 'of', 'the', 'bride', 'to', 'her', 'new', 'home', 'with', 'a', 'certain', 'customary', 'and', 'the', 'singing', 'of', 'time-honored', 'hymns', ',', 'in', 'which', 'was', 'always', 'a', 'sacramental', 'refrain', ',', 'Thalassie', ',', 'the', 'meaning', 'of', 'which', 'is', 'lost', 'in', 'an', '.', 'Before', 'the', 'house', 'the', 'procession', 'stopped', ',', 'and', 'fire', 'and', 'water', 'were', 'presented', 'to', 'the', 'bride', '.', 'The', 'fire', 'represented', 'the', 'domestic', 'divinity', ',', 'and', 'the', 'water', 'was', '``', 'the', 'lustral', 'water', 'that', 'served', 'the', 'family', 'for', 'all', 'religious', 'acts', '``', '[', 'De', 'Coulange', ',', 'Ancicnt', 'City', ',', '58', ']', '.', 'Then', 'the', 'husband', ',', 'simulating', 'violence', ',', 'carried', 'his', 'bride', 'over', 'the', 'threshold', '.', 'Within', 'the', 'house', 'the', 'took', 'place', 'at', 'the', 'hearth', ',', 'in', 'the', 'presence', 'of', 'the', 'Penates', 'and', 'all', 'the', 'domestic', 'gods', '.', 'The', 'husband', 'and', 'wife', 'offered', 'a', 'sacrifice', ',', 'poured', 'out', 'a', 'libation', '.', 'pronounced', 'set', 'prayers', ',', 'and', 'ate', 'together', 'a', 'cake', 'of', 'flour', ',', '-', '.', 'This', 'was', 'a', 'sacramental', 'act', ',', 'and', 'put', 'a', 'religious', 'sanction', 'on', 'the', 'marriage', ',', 'since', 'husband', 'and', 'wife', 'were', 'thenceforward', 'partakers', 'of', 'the', 'same', 'domestic', 'worship', '.', 'This', 'gave', 'rise', 'to', 'the', 'ancient', 'definition', 'of', 'the', 'jurists', ':', '``', 'A', 'stint', 'et', 'humani', 'communicatio.', '``', 'And', 'again', ':', '``', 'Uxor', 'socia', 'rei', 'atque', '``', '[', 'Dig', '.', 'xxiii', '.', '22', ';', 'Code', 'ix', '.', '32', ',', '4', ']', '.', 'There', 'remains', 'to', 'us', 'but', 'a', 'trace', 'of', 'the', 'mystical', 'forms', 'which', 'were', 'observed', 'in', 'the', 'house', '.', 'For', 'instance', ',', 'the', 'bride', 'greeted', 'the', 'groom', ',', '``', 'Ubi', 'tue', 'Caius', ',', 'ego', 'Caia', ';', '``', 'but', 'the', 'exact', 'purport', 'of', 'this', 'expression', 'is', 'lost', '.', 'For', 'centuries', 'there', 'appear', 'to', 'have', 'been', 'but', 'few', 'divorces', ',', 'but', 'finally', 'they', 'occurred', 'in', 'ever-increasing', 'numbers', '.', 'The', 'form', 'of', 'divorce', 'corresponding', 'to', 'the', 'sacramental', 'method', 'of', 'marriage', 'was', 'the', ',', 'in', 'which', 'the', 'husband', 'and', 'wife', 'met', 'again', 'at', 'the', 'domestic', 'hearth', '.', 'The', 'wheaten', 'cake', 'was', 'passed', 'to', 'each', 'and', 'refused', ';', 'and', 'then', 'the', 'wife', 'invoked', 'horrible', 'imprecations', 'on', 'the', 'domestic', 'gods', 'of', 'her', 'husband', '.', 'In', 'the', ',', 'a', 'civil', 'contract', 'took', 'the', 'place', 'of', 'the', 'religious', 'ceremony', ',', 'and', 'in', 'this', 'was', 'determined', 'the', 'proportion', 'of', 'dependence', 'of', 'the', 'woman', '.', 'It', 'was', 'a', 'symbolic', 'sale', 'per', 'acs', 'et', 'patre', 'vel', '[', 'Gai', '.', 'i', '.', '113', ';', 'Virg', '.', 'Aen', '.', 'iv', '.', 'x03', ';', 'Boethius', 'in', 'Cic', '.', 'Top', '.', 'iii', '.', 'p.', '269', ']', '.', 'Usuzs', 'was', 'the', 'third', 'form', 'of', 'marriage', ',', 'and', 'was', 'a', 'sort', 'of', 'prescription', ',', 'in', 'which', 'the', 'wife', 'was', 'looked', 'upon', 'as', 'a', 'piece', 'of', 'movable', 'property', ',', 'of', 'which', 'full', 'ownership', 'might', 'be', 'obtained', 'after', 'one', 'year', 's', 'possession', '.', 'When', 'a', 'woman', 'had', 'remained', 'with', 'a', 'man', 'a', 'full', 'year', 'without', 'any', 'absence', ',', 'she', 'passed', 'into', 'his', 'power', 'by', 'prescription', '.', 'An', 'absence', 'of', 'three', 'nights', '(', ')', ',', 'consecutively', ',', 'relieved', 'a', 'woman', 'from', 'the', 'burden', 'of', 'submitting', 'to', 'her', 'husband', 's', 'power', '[', 'Gai', '.', 'i.', 'iii', ']', '.', 'A', 'fourth', 'form', 'of', 'marriage', 'gradually', 'grew', 'up', 'in', 'later', 'times', 'which', 'probably', 'introduced', 'by', 'the', ',', 'or', 'the', 'Etruscans', '.', 'In', 'this', 'the', 'husband', 'and', 'stood', 'on', 'a', 'sort', 'of', 'equality', ',', 'and', 'the', 'wife', 'never', 'passed', 'into', 'the', 'power', 'of', 'her', 'husband', '.', 'Gradually', 'this', 'became', 'legalized', 'and', 'popular', ',', 'and', 'in', 'the', 'time', 'of', 'the', 'emperors', 'was', 'the', 'prevailing', 'form', 'of', 'marriage', '.', 'At', 'first', 'divorce', 'could', 'be', 'secured', 'only', 'with', 'the', 'consent', 'of', 'parents', 'and', 'friends', ',', 'but', 'after', 'the', 'Punic', 'wars', 'divorces', 'multiplied', 'rapidly', 'and', 'began', 'to', 'be', 'easily', 'obtained', '.', 'A', 'divorce', 'from', 'the', 'marriage', 'by', 'was', 'obtained', 'by', '.', 'Finally', 'divorces', 'were', 'obtained', 'by', 'mutual', 'consent', ',', 'the', 'only', 'necessary', 'formula', 'being', 'some', 'expression', 'like', 'the', 'following', ':', '``', 'Tuas', 'res', 'tibi', ';', '``', 'Itzas', 'r', 'es', 'agito.', '``', 'Augustus', 'in', 'the', 'dle', 'adu/', 'required', 'seven', 'witnesses', 'to', 'the', 'divorce', 'by', 'mutual', 'consent', 'The', 'Christian', 'emperors', 'constantly', 'wavered', 'between', 'the', 'dictates', 'of', 'Christianity', 'and', 'those', 'of', 'the', 'Pagan', '.', 'But', 'when', 'such', 'men', 'as', 'Sylla', ',', 'Caesar', ',', 'Pompey', ',', 'Cicero', ',', 'Antony', ',', 'Augustus', ',', 'and', 'his', 'successor', 'put', 'away', 'their', 'wives', ',', 'it', 'was', 'not', 'at', 'all', 'remarkable', 'that', 'the', 'custom', 'became', 'disgracefully', 'common', '.', 'The', 'poet', 'thus', 'sings', ':', '-', 't', 'i', 'Sic', 'octo', 'Quinque', 'per', '``', '[', 'Juven', '.', 'Sat', '.', 'vi', '.', '20', ']', '.', 'And', 'Seneca', ':', '``', 'Non', 'numero', 'sed', 'annos', 'solos', '``', '[', 'De', 'Ben', '.', 'iii', '.', 't6', ']', '.', 'Thus', 'it', 'was', 'fully', 'proven', 'that', 'freedom', 'in', 'the', 'matter', 'of', 'procuring', 'divorces', 'tends', 'to', 'weaken', 'public', 'morality', 'and', 'does', 'not', 'minister', 'to', 'the', 'sum', 'of', 'human', 'happiness', '.', 'It', 'was', 'finally', 'decided', 'by', 'Justinian', 'that', 'the', 'highest', 'officers', 'of', 'the', 'State', 'should', 'make', 'proof', 'of', 'their', 'marriage', 'in', 'certain', 'written', 'marriage', 'settlements', '.', 'Others', 'might', 'testify', 'to', 'their', 'marriage', 'before', 'three', 'or', 'four', 'of', 'the', 'clergy', ',', 'and', 'their', 'declaration', 'had', 'to', 'be', 'written', ',', 'signed', ',', 'and', 'registered', '[', 'AoV', '.', 'cvii', '.', '4', ']', '.', 'There', 'were', 'certain', 'conditions', 'laid', 'down', 'in', 'the', 'later', 'civil', 'law', 'which', 'were', 'absolute', 'prerequisites', 'to', 'marriage', '.', 'They', 'were', ':', '(', 'i', ')', 'Personal', 'capacity', ';', '(', '2', ')', 'The', 'consent', 'of', 'all', 'persons', 'holding', 'potestas', 'over', 'the', 'contracting', 'parties', ';', '(', '3', ')', 'Absence', 'of', 'all', 'restrictions', 'founded', 'on', 'relationship', 'or', 'custom', '.', 'i', '.', 'As', 'to', 'personal', 'capacity', ',', 'it', 'was', 'determined', 'by', 'Justinian', 'that', 'the', 'valid', 'age', 'should', 'be', 'fourteen', 'for', 'males', 'and', 'twelve', 'for', 'females', '.', 'Otherwise', 'the', 'marks', 'of', 'capacity', 'were', 'the', 'same', 'as', 'those', 'required', 'for', 'any', 'legal', 'act', '.', '2', '.', 'The', 'rule', 'was', 'that', 'the', 'consent', 'of', 'the', 'persons', 'in', 'whose', 'power', 'the', 'contracting', 'parties', 'were', 'was', 'indispensable', '.', 'A', 'daughter', 'was', 'required', 'to', 'have', 'her', 'father', 's', 'consent', 'up', 'to', 'the', 'age', 'of', '-', 'five', '.', 'In', 'case', 'of', 'the', 'death', 'of', 'the', 'father', ',', 'then', 'the', 'consent', 'of', 'the', 'mother', ',', 'or', 'friends', ',', 'or', 'guardian', 'must', 'be', 'had', '.', 'Sometimes', 'the', 'local', 'magistrate', 'could', 'interfere', 'and', 'dispense', 'with', 'the', 'father', 's', 'consent', ',', 'when', 'he', 'was', 'irrational', 'in', 'his', 'objections', '.', '3', '.', 'The', 'restrictions', 'which', 'were', 'gathered', 'under', 'this', 'head', 'pertained', 'to', 'some', 'prohibitions', 'of', 'the', 'civil', 'law', 'and', 'the', 'obstacles', 'which', 'were', 'presented', 'by', 'relationship', '.', 'Justinian', 'forbade', 'the', 'intermarriage', 'of', 'Christians', 'and', 'Jews', ',', 'but', 'he', 'did', 'away', 'with', 'the', 'most', 'of', 'the', 'previous', 'restrictions', '.', 'For', 'prudential', 'reasons', ',', 'a', 'governor', 'was', 'prohibited', 'from', 'taking', 'a', 'wife', 'from', 'his', 'province', ',', 'and', 'a', 'guardian', 'from', 'marrying', 'his', 'ward', '.', 'Gibbon', 'thus', 'fully', 'describes', 'the', 'impediments', 'to', 'marriage', ':', '``', 'An', 'instinct', 'almost', 'innate', 'and', 'universal', 'appears', 'to', 'prohibit', 'the', 'incestuous', 'commerce', 'of', 'parents', 'and', 'children', 'in', 'the', 'infinite', 'series', 'of', 'ascending', 'and', 'descending', 'generations', '.', 'Concerning', 'the', 'oblique', 'and', 'collateral', 'branches', ',', 'nature', 'is', 'indifferent', ',', 'reason', 'mute', ',', 'and', 'custom', 'various', 'and', 'ar', '.', '.', '.', '.', 'The', 'profane', 'law-givers', 'of', 'Rome', 'were', 'never', 'tempted', 'by-interest', 'or', 'superstition', 'to', 'multiply', 'the', 'forbidden', 'degrees', ';', 'but', 'they', 'inflexibly', 'condemned', 'the', 'marriage', 'of', 'sisters', 'and', 'brothers', ',', 'hesitated', 'whether', 'first', 'cousins', 'should', 'be', 'touched', 'by', 'the', 'same', 'interdict', ',', 'revered', 'the', 'paternal', 'character', 'of', 'aunts', 'and', 'uncles', ',', 'and', 'treated', 'affinity', 'and', 'adoption', 'as', 'a', 'just', 'imitation', 'of', 'the', 'ties', 'of', 'blood', '.', 'According', 'to', 'the', 'proud', 'maxims', 'of', 'the', 'republic', ',', 'a', 'legal', 'marriage', 'could', 'only', 'be', 'contracted', 'by', 'free', 'citizens', ';', 'an', 'honorable', ',', 'at', 'least', 'an', 'ingenuous', ',', 'birth', 'was', 'required', 'for', 'the', 'spouse', 'of', 'a', 'senator', ';', 'but', 'the', 'blood', 'of', 'kings', 'could', 'never', 'mingle', 'in', 'legitimate', 'nuptials', 'with', 'the', 'blood', 'of', 'a', 'Roman', ';', 'and', 'the', 'name', 'of', 'Stranger', 'degraded', 'Cleopatra', 'and', 'Berenice', 'to', 'live', 'the', 'concubines', 'of', 'Mark', 'Antony', 'and', 'Titus', '``', '[', 'Decline', 'and', 'Fall', 'of', 'The', 'Roman', 'Ewzpies', ',', 'iii', '.', '69', '1', ']', '.', 'In', 'the', 'primitive', 'marriage', 'the', 's', 'property', 'was', 'merged', 'in', 'that', 'of', 'her', 'husband', '.', 'In', 'the', 'more', 'liberal', 'form', 'of', 'marriage', 'in', 'vogue', 'in', 'the', 'time', 'of', 'the', 'Empire', ',', 'the', 'wife', 's', 'own', 'property', 'was', 'not', 'subject', 'in', 'any', 'way', 'to', 'her', 'husband', ';', 'but', 'still', 'certain', 'pro', '-', 'relations', 'arose', 'between', 'husband', 'and', 'wife', ',', 'owing', 'to', 'the', 'peculiar', 'character', 'of', 'the', 'Roman', 'dowry', 'and', 'marriage', 'settlement', '.', 'Under', 'the', 'new', 'conception', 'of', 'marriage', ',', 'the', 'husband', 'was', 'not', 'compelled', 'to', 'support', 'the', 'wife', ',', 'unless', 'some', 'provision', 'had', 'been', 'made', 'on', 'the', 'part', 'of', 'her', 'friends', '.', 'The', 'wife', 'still', 'belonged', 'to', 'the', 'father', 's', 'family', ',', 'and', 'he', 'was', 'compelled', 'finally', 'by', 'the', 'lex', '_7ulia', 'to', 'give', 'his', 'daughter', 'a', 'dos', ',', 'or', 'marriage', 'settlement', ',', 'when', 'he', 'was', 'able', '.', 'The', 'husband', 'could', 'manage', 'this', ',', 'but', 'could', 'not', 'mortgage', 'or', 'sell', 'it', '.', 'In', 'case', 'of', 'the', 'death', 'of', 'the', 'wife', ',', 'the', 'dos', 'reverted', 'to', 'her', 'father', 'or', 'his', 'heirs', '.', 'Sometimes', 'the', 'dos', 'was', 'furnished', 'by', 'friends', 'of', 'the', 'wife', ',', 'in', 'which', 'case', 'its', 'disposition', 'was', 'the', 'same', 'as', 'that', 'of', 'the', 'dos', 'furnished', 'by', 'the', 'father', ',', 'except', 'that', 'in', 'some', 'cases', 'when', 'the', 'wife', 'died', 'the', 'dos', 'reverted', 'to', 'such', 'friends', ',', 'or', 'else', 'became', 'the', 'property', 'of', 'the', 'husband', ',', 'or', 'of', 'the', 'wife', 's', 'heirs', '.', 'The', 'husband', ',', 'in', 'turn', ',', 'could', 'make', 'his', 'wife', 'a', 'conditional', 'gift', '(', 'propter', ')', ',', 'vhich', 'was', 'to', 'vest', 'in', 'her', ',', 'if', 'she', 'survived', 'him', '.', 'During', 'the', 'life', 'of', 'the', 'wife', 'this', 'gift', 'could', 'not', 'be', 'disposed', 'of', ',', 'even', 'with', 'her', 'consent', ';', 'but', 'in', 'case', 'the', 'husband', 'outlived', 'the', 'wife', ',', 'it', 'reverted', 'to', 'him', '.', 'The', ',', '-', 'nuptias', 'came', 'to', 'be', 'considered', 'a', 'necessary', 'correlative', 'to', 'the', 'dos', '.', 'The', 'wife', 'had', 'complete', 'liberty', 'in', 'the', 'management', 'of', 'her', 'own', 'property', '(', ')', '.', 'In', 'the', 'primitive', 'society', 'we', 'found', 'the', 'unit', 'to', 'be', 'the', 'family', ',', 'and', 'the', 'only', 'person', 'the', 'law', 'recognized', 'in', 'the', 'family', 'the', 'patriarchal', 'head', '.', 'Wife', ',', 'child', ',', 'and', 'slave', 'stood', 'on', 'a', 'plane', 'with', 'material', 'possessions', ',', 'and', 'absolutely', 'subject', 'to', 'a', 'sometimes', 'tyrannical', 'over-lord', '.', 'The', 'patriarch', 'was', 'likewise', 'sole', 'priest', 'and', 'interpreter', 'in', 'the', 'domestic', 'worship', '.', 'In', 'the', 'developed', 'society', 'all', 'this', 'is', 'changed', ':', 'the', 'patria', 'postas', 'is', 'a', 'mere', 'shadow', ';', 'the', 'primitive', 'religion', 'has', 'become', 'a', 'tradition', ',', 'and', 'the', 'individual', 'is', 'the', 'unit', 'of', 'the', 'new', 'society', '.', 'The', 'law', 'recognizes', 'all', 'classes', 'and', 'protects', 'them', 'in', 'their', 'several', 'rights', '.', 'In', 'fine', ',', 'a', 'long', 'step', 'has', 'been', 'taken', 'in', 'the', 'emancipation', 'of', 'man', ',', 'and', 'the', 'outline', 'of', 'the', 'future', 'course', 'of', 'development', 'is', 'broadly', 'indicated', 'to', 'those', 'social', 'reformers', 'whose', 'idea', 'is', 'to', 'grant', 'the', 'greatest', 'individual', 'liberty', 'consistent', 'with', 'the', 'welfare', 'of', 'society', 'as', 'a', 'whole', '.', 'ALBERT', 'W.', 'RYAN', '.']"
      ]
     },
     "execution_count": 53,
     "metadata": {},
     "output_type": "execute_result"
    }
   ],
   "source": [
    "[\"●\" if \"●\" in x else x for x in review_list[5].coll_toks_all]"
   ]
  },
  {
   "cell_type": "code",
   "execution_count": 55,
   "metadata": {},
   "outputs": [],
   "source": [
    "training_data = [[\"●\" if \"●\" in x else x for x in rev.coll_toks_all] for rev in review_list]"
   ]
  },
  {
   "cell_type": "code",
   "execution_count": null,
   "metadata": {},
   "outputs": [],
   "source": [
    "# CBOW\n",
    "model = Word2Vec(training_data, min_count=1)"
   ]
  },
  {
   "cell_type": "code",
   "execution_count": 59,
   "metadata": {},
   "outputs": [
    {
     "name": "stderr",
     "output_type": "stream",
     "text": [
      "/Users/eva/opt/anaconda3/lib/python3.7/site-packages/ipykernel_launcher.py:1: DeprecationWarning: Call to deprecated `most_similar` (Method will be removed in 4.0.0, use self.wv.most_similar() instead).\n",
      "  \"\"\"Entry point for launching an IPython kernel.\n"
     ]
    },
    {
     "data": {
      "text/plain": [
       "[('WVaterford', 0.8022407293319702), ('Hazlitt', 0.8014094829559326), ('author', 0.7951412796974182), ('Cozzen', 0.7878138422966003), ('Clough', 0.785640299320221), ('narrator', 0.7785385251045227), ('Frankenstein', 0.774620532989502), ('Wallack', 0.773840069770813), ('Walsden', 0.7710344791412354), ('Mulhall', 0.7706570625305176)]"
      ]
     },
     "execution_count": 59,
     "metadata": {},
     "output_type": "execute_result"
    }
   ],
   "source": [
    "model.most_similar(positive=\"●\")"
   ]
  },
  {
   "cell_type": "code",
   "execution_count": 60,
   "metadata": {},
   "outputs": [
    {
     "name": "stderr",
     "output_type": "stream",
     "text": [
      "/Users/eva/opt/anaconda3/lib/python3.7/site-packages/ipykernel_launcher.py:1: DeprecationWarning: Call to deprecated `most_similar` (Method will be removed in 4.0.0, use self.wv.most_similar() instead).\n",
      "  \"\"\"Entry point for launching an IPython kernel.\n"
     ]
    },
    {
     "data": {
      "text/plain": [
       "[('under.CELT', 0.5083080530166626), ('robably', 0.4612523317337036), ('neglectful', 0.4524801969528198), ('confide', 0.4476316571235657), ('blurt', 0.43642622232437134), ('egotist', 0.4187397062778473), ('colleges.', 0.3950512707233429), ('evangelicalism', 0.3909662365913391), ('floodtide', 0.39065444469451904), ('bav', 0.38543790578842163)]"
      ]
     },
     "execution_count": 60,
     "metadata": {},
     "output_type": "execute_result"
    }
   ],
   "source": [
    "model.most_similar(negative=\"●\")"
   ]
  },
  {
   "cell_type": "code",
   "execution_count": 64,
   "metadata": {},
   "outputs": [
    {
     "data": {
      "text/plain": [
       "array([0.6113893, 0.5196396, 0.7101275, ..., 1.0181108, 0.7943841,\n",
       "       0.5493039], dtype=float32)"
      ]
     },
     "execution_count": 64,
     "metadata": {},
     "output_type": "execute_result"
    }
   ],
   "source": [
    "model.wv.distances(\"●\")"
   ]
  },
  {
   "cell_type": "code",
   "execution_count": 65,
   "metadata": {},
   "outputs": [],
   "source": [
    "# skip-gram\n",
    "model = Word2Vec(training_data, min_count=1, sg=1)"
   ]
  },
  {
   "cell_type": "code",
   "execution_count": 66,
   "metadata": {},
   "outputs": [
    {
     "name": "stderr",
     "output_type": "stream",
     "text": [
      "/Users/eva/opt/anaconda3/lib/python3.7/site-packages/ipykernel_launcher.py:1: DeprecationWarning: Call to deprecated `most_similar` (Method will be removed in 4.0.0, use self.wv.most_similar() instead).\n",
      "  \"\"\"Entry point for launching an IPython kernel.\n"
     ]
    },
    {
     "data": {
      "text/plain": [
       "[('Whitman', 0.8136881589889526), ('editor', 0.8043989539146423), ('Milton', 0.8015763163566589), ('Gray', 0.7990477085113525), ('Shakespeare', 0.7977945804595947), ('Spencer', 0.7970021963119507), ('Emerson', 0.7959649562835693), ('Stevenson', 0.7938148379325867), ('Michie', 0.7919736504554749), ('Arnold', 0.7818419933319092)]"
      ]
     },
     "execution_count": 66,
     "metadata": {},
     "output_type": "execute_result"
    }
   ],
   "source": [
    "model.most_similar(positive=\"●\")"
   ]
  },
  {
   "cell_type": "code",
   "execution_count": 67,
   "metadata": {},
   "outputs": [
    {
     "name": "stderr",
     "output_type": "stream",
     "text": [
      "/Users/eva/opt/anaconda3/lib/python3.7/site-packages/ipykernel_launcher.py:1: DeprecationWarning: Call to deprecated `most_similar` (Method will be removed in 4.0.0, use self.wv.most_similar() instead).\n",
      "  \"\"\"Entry point for launching an IPython kernel.\n"
     ]
    },
    {
     "data": {
      "text/plain": [
       "[('AND', -0.08245109021663666), ('OF', -0.103915736079216), ('BY', -0.17446070909500122), ('TO', -0.1749747097492218), ('THE', -0.18793979287147522), ('und', -0.19661270081996918), ('pp', -0.20645122230052948), ('S', -0.214418426156044), ('Solo', -0.22175608575344086), ('By', -0.226176917552948)]"
      ]
     },
     "execution_count": 67,
     "metadata": {},
     "output_type": "execute_result"
    }
   ],
   "source": [
    "model.most_similar(negative=\"●\")"
   ]
  },
  {
   "cell_type": "code",
   "execution_count": 69,
   "metadata": {},
   "outputs": [
    {
     "ename": "AttributeError",
     "evalue": "'Word2VecKeyedVectors' object has no attribute 'buckets_word'",
     "output_type": "error",
     "traceback": [
      "\u001b[0;31m---------------------------------------------------------------\u001b[0m",
      "\u001b[0;31mAttributeError\u001b[0m                Traceback (most recent call last)",
      "\u001b[0;32m<ipython-input-69-8df8f51c01a5>\u001b[0m in \u001b[0;36m<module>\u001b[0;34m\u001b[0m\n\u001b[0;32m----> 1\u001b[0;31m \u001b[0mmodel\u001b[0m\u001b[0;34m.\u001b[0m\u001b[0mwv\u001b[0m\u001b[0;34m.\u001b[0m\u001b[0mbuckets_word\u001b[0m\u001b[0;34m(\u001b[0m\u001b[0;34m\"●\"\u001b[0m\u001b[0;34m)\u001b[0m\u001b[0;34m\u001b[0m\u001b[0;34m\u001b[0m\u001b[0m\n\u001b[0m",
      "\u001b[0;31mAttributeError\u001b[0m: 'Word2VecKeyedVectors' object has no attribute 'buckets_word'"
     ]
    }
   ],
   "source": [
    "model.wv.buckets_word(\"●\")"
   ]
  },
  {
   "cell_type": "markdown",
   "metadata": {},
   "source": [
    "## Stuff I was doing before"
   ]
  },
  {
   "cell_type": "code",
   "execution_count": 44,
   "metadata": {},
   "outputs": [],
   "source": [
    "# # this code is stolen from Ben Naismith, Ling PhD student, who in turn adapted it from Dr. Na-Rae Han\n",
    "\n",
    "# # Finding word in a tokenized text\n",
    "# def concord_toks(text, word, num):\n",
    "#     padding = [('')] * num             # non-word padding, in the specified size\n",
    "#     padded = padding + text + padding   # pad in front and back\n",
    "#     outlist = []\n",
    "#     for i in range(len(padded)):\n",
    "#         if padded[i] == word:\n",
    "#             outlist.append((padded[i-num:i], padded[i], padded[i+1:i+1+num]))\n",
    "#     return outlist\n",
    "\n",
    "# def flatten(outlist):\n",
    "#     flatlist = []\n",
    "#     for x in outlist:\n",
    "#         flatlist.append((' '.join(x[0]), x[1], ' '.join(x[2])))\n",
    "#     return flatlist\n",
    "\n",
    "# def concordance(text, word, num):\n",
    "#     return flatten(concord_toks(text, word, num))"
   ]
  },
  {
   "cell_type": "code",
   "execution_count": 45,
   "metadata": {},
   "outputs": [],
   "source": [
    "# concordance(ex_review.cleaned_toks, 'Grahame', 3)"
   ]
  },
  {
   "cell_type": "code",
   "execution_count": 46,
   "metadata": {},
   "outputs": [],
   "source": [
    "# ex_people[0].name_parts"
   ]
  },
  {
   "cell_type": "code",
   "execution_count": 47,
   "metadata": {},
   "outputs": [],
   "source": [
    "# ex_people[0].name_part_count"
   ]
  },
  {
   "cell_type": "code",
   "execution_count": 48,
   "metadata": {},
   "outputs": [],
   "source": [
    "# ex_people[0].full_name"
   ]
  },
  {
   "cell_type": "code",
   "execution_count": 49,
   "metadata": {},
   "outputs": [],
   "source": [
    "# toks = []\n",
    "# for person in ex_people:\n",
    "#     num_toks = person.name_part_count\n",
    "#     for e, x in enumerate(ex_review.cleaned_toks):\n",
    "#         if x.lower() == person.name_parts[0]:\n",
    "#             if person.full_name.split() == ex_review.cleaned_toks[e:e + num_toks]:\n",
    "#                 toks.append((e, e+num_toks))"
   ]
  },
  {
   "cell_type": "code",
   "execution_count": 50,
   "metadata": {},
   "outputs": [],
   "source": [
    "# def get_toks_for_people(ReviewObj):\n",
    "#     for person in ReviewObj.person_names:\n",
    "#         num_toks = person.name_part_count\n",
    "#         for e, x in enumerate(ReviewObj.cleaned_toks):\n",
    "#             if x.lower() == person.name_parts[0]:\n",
    "#                 if person.full_name.split() == ReviewObj.cleaned_toks[e:e + num_toks]:\n",
    "#                     person.review_loc_toks = (e, e+num_toks)\n",
    "#     return ReviewObj"
   ]
  },
  {
   "cell_type": "code",
   "execution_count": 51,
   "metadata": {},
   "outputs": [],
   "source": [
    "# ex_review_2 = get_toks_for_people(ex_review)"
   ]
  },
  {
   "cell_type": "code",
   "execution_count": 52,
   "metadata": {},
   "outputs": [],
   "source": [
    "# for x in ex_review_2.person_names:\n",
    "#     print(x.review_loc_toks)\n",
    "#     print(ex_review_2.cleaned_toks[x.review_loc_toks[0]:x.review_loc_toks[1]])"
   ]
  },
  {
   "cell_type": "code",
   "execution_count": 53,
   "metadata": {},
   "outputs": [],
   "source": [
    "# for e, x in enumerate(review_list):\n",
    "#     review_list[e] = get_toks_for_people(x)"
   ]
  },
  {
   "cell_type": "code",
   "execution_count": 54,
   "metadata": {},
   "outputs": [],
   "source": [
    "# print(review_list[0].cleaned_text)"
   ]
  },
  {
   "cell_type": "code",
   "execution_count": 55,
   "metadata": {},
   "outputs": [],
   "source": [
    "# for x in review_list[0].person_names:\n",
    "#     print(x)\n",
    "#     print(x.review_loc_toks)\n",
    "#     print(review_list[0].cleaned_toks[x.review_loc_toks[0]:x.review_loc_toks[1]])"
   ]
  },
  {
   "cell_type": "code",
   "execution_count": null,
   "metadata": {},
   "outputs": [],
   "source": []
  }
 ],
 "metadata": {
  "kernelspec": {
   "display_name": "Python 3",
   "language": "python",
   "name": "python3"
  },
  "language_info": {
   "codemirror_mode": {
    "name": "ipython",
    "version": 3
   },
   "file_extension": ".py",
   "mimetype": "text/x-python",
   "name": "python",
   "nbconvert_exporter": "python",
   "pygments_lexer": "ipython3",
   "version": "3.7.4"
  }
 },
 "nbformat": 4,
 "nbformat_minor": 2
}
