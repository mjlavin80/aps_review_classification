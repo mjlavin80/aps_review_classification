{
 "cells": [
  {
   "cell_type": "markdown",
   "metadata": {},
   "source": [
    "### Notes\n",
    "\n",
    "For Span obj:\n",
    "+ build off author and publisher names\n",
    "+ text\n",
    "+ start char end char\n",
    "+ label (author or publisher name)\n",
    "+ group (make sure authors and pubs don't overlap)\n",
    "+ as a group (this group's closeness to KB ids)\n",
    "    + dictionary of id and then its score\n",
    "    \n",
    "For ReviewObj:\n",
    "+ all author spans attribute\n",
    "+ all pub spans attribute\n",
    "\n",
    "Also refer to spaCy spans -> https://spacy.io/api/span\n",
    "+ doc (doc object)\n",
    "+ start (int)\n",
    "+ end (int)\n",
    "+ label (int/unicode)\n",
    "+ kb_id (int/unicode)\n",
    "+ vector (numpy.ndarray[ndim=1, dtype='float32'])"
   ]
  },
  {
   "cell_type": "code",
   "execution_count": 1,
   "metadata": {},
   "outputs": [],
   "source": [
    "import sys\n",
    "sys.path.append('../')"
   ]
  },
  {
   "cell_type": "code",
   "execution_count": 2,
   "metadata": {},
   "outputs": [
    {
     "name": "stdout",
     "output_type": "stream",
     "text": [
      "Pretty printing has been turned OFF\n"
     ]
    }
   ],
   "source": [
    "from application.name_obj_classes import PubName, PersonName\n",
    "from application.review_obj_class import ReviewObj\n",
    "import pandas as pd\n",
    "import numpy as np\n",
    "import os\n",
    "%pprint"
   ]
  },
  {
   "cell_type": "code",
   "execution_count": 3,
   "metadata": {},
   "outputs": [],
   "source": [
    "from nltk.metrics import edit_distance"
   ]
  },
  {
   "cell_type": "code",
   "execution_count": 4,
   "metadata": {},
   "outputs": [],
   "source": [
    "# loading in files\n",
    "# directory = \"../../aps_reviews_50/aps_reviews/\"\n",
    "directory = \"../../aps_reviews_1000/\"\n",
    "filenames = os.listdir(directory)"
   ]
  },
  {
   "cell_type": "code",
   "execution_count": 5,
   "metadata": {},
   "outputs": [],
   "source": [
    "reviews = ((file.split('.')[0], open(directory + file).read()) for file in filenames)\n",
    "# reviews = [(file.split('.')[0], open(directory + file).read()) for file in filenames]"
   ]
  },
  {
   "cell_type": "code",
   "execution_count": 6,
   "metadata": {},
   "outputs": [],
   "source": [
    "# problem_texts = []\n",
    "# for rev in reviews:\n",
    "#     try:\n",
    "#         ReviewObj(*rev)\n",
    "#     except:\n",
    "#         problem_texts.append(rev)"
   ]
  },
  {
   "cell_type": "code",
   "execution_count": 7,
   "metadata": {},
   "outputs": [],
   "source": [
    "review_list = [ReviewObj(file, txt) for (file, txt) in reviews]"
   ]
  },
  {
   "cell_type": "markdown",
   "metadata": {},
   "source": [
    "Span object will contain:\n",
    "+ Review ID (parent doc)\n",
    "+ Start char (int)\n",
    "+ End char (int)\n",
    "+ Label (person/publisher)\n",
    "+ Group (int)\n",
    "+ Name variations\n",
    "+ VIAF but not yet"
   ]
  },
  {
   "cell_type": "code",
   "execution_count": 8,
   "metadata": {},
   "outputs": [
    {
     "data": {
      "text/plain": [
       "'89810338'"
      ]
     },
     "execution_count": 8,
     "metadata": {},
     "output_type": "execute_result"
    }
   ],
   "source": [
    "# review id\n",
    "review_list[5].person_names[0].review_id"
   ]
  },
  {
   "cell_type": "code",
   "execution_count": 9,
   "metadata": {},
   "outputs": [
    {
     "data": {
      "text/plain": [
       "(246, 264)"
      ]
     },
     "execution_count": 9,
     "metadata": {},
     "output_type": "execute_result"
    }
   ],
   "source": [
    "# start and end char\n",
    "review_list[5].person_names[0].review_loc_chars"
   ]
  },
  {
   "cell_type": "code",
   "execution_count": 10,
   "metadata": {},
   "outputs": [
    {
     "data": {
      "text/plain": [
       "'person'"
      ]
     },
     "execution_count": 10,
     "metadata": {},
     "output_type": "execute_result"
    }
   ],
   "source": [
    "# label\n",
    "review_list[5].person_names[0].name_type"
   ]
  },
  {
   "cell_type": "code",
   "execution_count": 11,
   "metadata": {},
   "outputs": [
    {
     "data": {
      "text/plain": [
       "['w a becker', 'w becker', 'becker']"
      ]
     },
     "execution_count": 11,
     "metadata": {},
     "output_type": "execute_result"
    }
   ],
   "source": [
    "review_list[5].person_names[0].getNameVariants()"
   ]
  },
  {
   "cell_type": "code",
   "execution_count": 12,
   "metadata": {},
   "outputs": [],
   "source": [
    "class NameSpan():\n",
    "    \"\"\"\n",
    "    Object type for named entities. Currently contains both person names and publisher names.\n",
    "\n",
    "    Parameters\n",
    "    ----------\n",
    "    self.name = NameObj\n",
    "     - will contain either a PersonName or PubName object\n",
    "    self.review_id : aps_id\n",
    "    self.span : character span in review text\n",
    "    self.start_char : start character in review text\n",
    "    self.end_char : end character in review text\n",
    "    self.label : name type\n",
    "     - either \"person\" or \"publisher\"\n",
    "    self.name_id : unique id for span object (review_id plus the start_char)\n",
    "    self.group : grouping by similarity to other objects w the same label in review \n",
    "     - defaults to -1\n",
    "     \n",
    "    **things i'm planning on adding: self.collocates**\n",
    "\n",
    "    \"\"\"\n",
    "    def __init__(self, NameObj):\n",
    "        self.name = NameObj\n",
    "        self.review_id = NameObj.review_id\n",
    "        self.review_doc = '' # ReviewObj will go here?\n",
    "        self.span = NameObj.review_loc_chars\n",
    "        self.start_char = NameObj.review_loc_chars[0]\n",
    "        self.end_char = NameObj.review_loc_chars[1]\n",
    "        self.label = NameObj.name_type\n",
    "        self.name_id = int(self.review_id + str(self.start_char))\n",
    "        self.group = -1"
   ]
  },
  {
   "cell_type": "code",
   "execution_count": 13,
   "metadata": {},
   "outputs": [],
   "source": [
    "span_test = NameSpan(review_list[5].person_names[0])"
   ]
  },
  {
   "cell_type": "code",
   "execution_count": 14,
   "metadata": {},
   "outputs": [
    {
     "data": {
      "text/plain": [
       "'89810338'"
      ]
     },
     "execution_count": 14,
     "metadata": {},
     "output_type": "execute_result"
    }
   ],
   "source": [
    "span_test.review_id"
   ]
  },
  {
   "cell_type": "code",
   "execution_count": 15,
   "metadata": {},
   "outputs": [
    {
     "data": {
      "text/plain": [
       "89810338246"
      ]
     },
     "execution_count": 15,
     "metadata": {},
     "output_type": "execute_result"
    }
   ],
   "source": [
    "span_test.name_id"
   ]
  },
  {
   "cell_type": "code",
   "execution_count": 16,
   "metadata": {},
   "outputs": [
    {
     "data": {
      "text/plain": [
       "Prof. W. A. BECKER"
      ]
     },
     "execution_count": 16,
     "metadata": {},
     "output_type": "execute_result"
    }
   ],
   "source": [
    "span_test.name"
   ]
  },
  {
   "cell_type": "code",
   "execution_count": 17,
   "metadata": {},
   "outputs": [
    {
     "data": {
      "text/plain": [
       "'becker'"
      ]
     },
     "execution_count": 17,
     "metadata": {},
     "output_type": "execute_result"
    }
   ],
   "source": [
    "span_test.name.last_name"
   ]
  },
  {
   "cell_type": "code",
   "execution_count": 18,
   "metadata": {},
   "outputs": [],
   "source": [
    "spanlist = [NameSpan(x) for x in review_list[5].person_names]"
   ]
  },
  {
   "cell_type": "code",
   "execution_count": 19,
   "metadata": {},
   "outputs": [
    {
     "data": {
      "text/plain": [
       "[<__main__.NameSpan object at 0x1a31a23fd0>, <__main__.NameSpan object at 0x1a31a21090>, <__main__.NameSpan object at 0x1a31a21110>, <__main__.NameSpan object at 0x1a31a21190>]"
      ]
     },
     "execution_count": 19,
     "metadata": {},
     "output_type": "execute_result"
    }
   ],
   "source": [
    "spanlist"
   ]
  },
  {
   "cell_type": "code",
   "execution_count": 20,
   "metadata": {},
   "outputs": [],
   "source": [
    "names = sorted([(span.name, span.name_id) for span in spanlist], key=lambda x: len(x[0].last_name))"
   ]
  },
  {
   "cell_type": "code",
   "execution_count": 21,
   "metadata": {},
   "outputs": [
    {
     "data": {
      "text/plain": [
       "[(Sir Henry S. Maine, 8981033820764), (Sir Henry S. Maine, 8981033823059), (Prof. W. A. BECKER, 89810338246), (Rev. FREDRICK METCALF, 89810338284)]"
      ]
     },
     "execution_count": 21,
     "metadata": {},
     "output_type": "execute_result"
    }
   ],
   "source": [
    "names"
   ]
  },
  {
   "cell_type": "code",
   "execution_count": 22,
   "metadata": {},
   "outputs": [
    {
     "data": {
      "text/plain": [
       "'maine'"
      ]
     },
     "execution_count": 22,
     "metadata": {},
     "output_type": "execute_result"
    }
   ],
   "source": [
    "names[0][0].last_name"
   ]
  },
  {
   "cell_type": "code",
   "execution_count": 23,
   "metadata": {},
   "outputs": [],
   "source": [
    "group_dict = {}\n",
    "used_ids = []"
   ]
  },
  {
   "cell_type": "code",
   "execution_count": 24,
   "metadata": {},
   "outputs": [],
   "source": [
    "for e, (name, name_id) in enumerate(names):\n",
    "    if (name_id not in used_ids):\n",
    "        id_holder = [name_id]\n",
    "        for name2, name_id2 in names:\n",
    "            if (e < (len(name) - 1)) and (name_id!=name_id2):\n",
    "                if (edit_distance(name.last_name, name2.last_name[:len(name.last_name)+1]) < 2) and (name_id2 not in used_ids):\n",
    "                    if (name.first_initial==name2.first_initial and name.middle_initial==name2.middle_initial or name.title==name2.title) or (name.first_initial==name2.first_initial or name.middle_initial==name2.middle_initial and name.title==name2.title):\n",
    "                        id_holder.append(name_id2)\n",
    "                        used_ids.append(name_id2)\n",
    "        used_ids.append(name_id)\n",
    "        for x in id_holder:\n",
    "            group_dict[x] = e"
   ]
  },
  {
   "cell_type": "code",
   "execution_count": 25,
   "metadata": {},
   "outputs": [
    {
     "data": {
      "text/plain": [
       "{8981033820764: 0, 8981033823059: 0, 89810338246: 2, 89810338284: 3}"
      ]
     },
     "execution_count": 25,
     "metadata": {},
     "output_type": "execute_result"
    }
   ],
   "source": [
    "group_dict"
   ]
  },
  {
   "cell_type": "code",
   "execution_count": 26,
   "metadata": {},
   "outputs": [],
   "source": [
    "for span in spanlist:\n",
    "    span.group = group_dict[span.name_id]"
   ]
  },
  {
   "cell_type": "code",
   "execution_count": 27,
   "metadata": {},
   "outputs": [
    {
     "name": "stdout",
     "output_type": "stream",
     "text": [
      "Prof. W. A. BECKER 2\n",
      "Rev. FREDRICK METCALF 3\n",
      "Sir Henry S. Maine 0\n",
      "Sir Henry S. Maine 0\n"
     ]
    }
   ],
   "source": [
    "for span in spanlist:\n",
    "    print(span.name, span.group)"
   ]
  },
  {
   "cell_type": "code",
   "execution_count": 28,
   "metadata": {},
   "outputs": [],
   "source": [
    "def group_people(spanlist):\n",
    "    \n",
    "    names = sorted([(span.name, span.name_id) for span in spanlist], key=lambda x: len(x[0].last_name))\n",
    "    group_dict = {}\n",
    "    used_ids = []\n",
    "    for e, (name, name_id) in enumerate(names):\n",
    "        if (name_id not in used_ids):\n",
    "            id_holder = [name_id]\n",
    "            for name2, name_id2 in names:\n",
    "                if (e < (len(name) - 1)) and (name_id!=name_id2):\n",
    "                    if (edit_distance(name.last_name, name2.last_name[:len(name.last_name)+1]) < 2) and (name_id2 not in used_ids):\n",
    "                        if (name.first_initial==name2.first_initial and name.middle_initial==name2.middle_initial or name.title==name2.title) or (name.first_initial==name2.first_initial or name.middle_initial==name2.middle_initial and name.title==name2.title):\n",
    "                            id_holder.append(name_id2)\n",
    "                            used_ids.append(name_id2)\n",
    "            used_ids.append(name_id)\n",
    "            for x in id_holder:\n",
    "                group_dict[x] = e\n",
    "    \n",
    "    for span in spanlist:\n",
    "        span.group = group_dict[span.name_id]\n",
    "    \n",
    "    return spanlist"
   ]
  },
  {
   "cell_type": "code",
   "execution_count": 29,
   "metadata": {},
   "outputs": [],
   "source": [
    "spanlist = [NameSpan(x) for x in review_list[5].person_names]"
   ]
  },
  {
   "cell_type": "code",
   "execution_count": 30,
   "metadata": {},
   "outputs": [],
   "source": [
    "spanlist = group_people(spanlist)"
   ]
  },
  {
   "cell_type": "code",
   "execution_count": 31,
   "metadata": {},
   "outputs": [
    {
     "name": "stdout",
     "output_type": "stream",
     "text": [
      "Prof. W. A. BECKER 2\n",
      "Rev. FREDRICK METCALF 3\n",
      "Sir Henry S. Maine 0\n",
      "Sir Henry S. Maine 0\n"
     ]
    }
   ],
   "source": [
    "for span in spanlist:\n",
    "    print(span.name, span.group)"
   ]
  },
  {
   "cell_type": "markdown",
   "metadata": {},
   "source": [
    "+ change names to have underscores for tokenization\n",
    "+ sentence tokenize first?"
   ]
  },
  {
   "cell_type": "code",
   "execution_count": 32,
   "metadata": {},
   "outputs": [],
   "source": [
    "pub_sort = sorted(review_list, key=lambda x: len(x.pub_names))"
   ]
  },
  {
   "cell_type": "code",
   "execution_count": 33,
   "metadata": {},
   "outputs": [
    {
     "data": {
      "text/plain": [
       "['Crowvll & Co.', 'Stokes Co..', 'Lijpinicott Co', 'Century Co.', 'Lippincott Co.', 'McClurg & Co', 'Lippincott Co..', 'Lippincott Co.', 'Stokes Co.']"
      ]
     },
     "execution_count": 33,
     "metadata": {},
     "output_type": "execute_result"
    }
   ],
   "source": [
    "pub_sort[-5].pub_names"
   ]
  },
  {
   "cell_type": "code",
   "execution_count": 36,
   "metadata": {},
   "outputs": [
    {
     "data": {
      "text/plain": [
       "['Macmillan & Co.', 'Stokses Company', 'Century Company', 'Macmillan & Co.', 'Macmillan & Co.', 'Chiswvick House', 'Picture Books', 'Crowvell & Co', 'Macmillan & Co.', 'Stokes Company', 'Lippincott Company', 'Lippincott Company', 'Stokes Company', 'C. McClurg & Co.']"
      ]
     },
     "execution_count": 36,
     "metadata": {},
     "output_type": "execute_result"
    }
   ],
   "source": [
    "pub_sort[-3].pub_names"
   ]
  },
  {
   "cell_type": "code",
   "execution_count": 37,
   "metadata": {},
   "outputs": [
    {
     "name": "stdout",
     "output_type": "stream",
     "text": [
      "macmillan\n",
      "stokses\n",
      "century\n",
      "macmillan\n",
      "macmillan\n",
      "chiswvick\n",
      "picture\n",
      "crowvell\n",
      "macmillan\n",
      "stokes\n",
      "lippincott\n",
      "lippincott\n",
      "stokes\n",
      "c. mcclurg\n"
     ]
    }
   ],
   "source": [
    "for x in pub_sort[-3].pub_names:\n",
    "    print(x.pub_names)"
   ]
  },
  {
   "cell_type": "code",
   "execution_count": 38,
   "metadata": {},
   "outputs": [],
   "source": [
    "spanlist = [NameSpan(x) for x in pub_sort[-3].pub_names]"
   ]
  },
  {
   "cell_type": "code",
   "execution_count": 39,
   "metadata": {},
   "outputs": [],
   "source": [
    "pubs = sorted([(span.name, span.name_id) for span in spanlist], key=lambda x: x[0].pub_count)"
   ]
  },
  {
   "cell_type": "code",
   "execution_count": 40,
   "metadata": {},
   "outputs": [
    {
     "data": {
      "text/plain": [
       "[('Macmillan & Co.', 13711803711788), ('Stokses Company', 13711803715294), ('Century Company', 13711803720153), ('Macmillan & Co.', 13711803726241), ('Macmillan & Co.', 13711803736235), ('Chiswvick House', 13711803736949), ('Picture Books', 13711803740543), ('Crowvell & Co', 13711803743760), ('Macmillan & Co.', 13711803747854), ('Stokes Company', 13711803753326), ('Lippincott Company', 13711803754601), ('Lippincott Company', 13711803754825), ('Stokes Company', 13711803757632), ('C. McClurg & Co.', 13711803757679)]"
      ]
     },
     "execution_count": 40,
     "metadata": {},
     "output_type": "execute_result"
    }
   ],
   "source": [
    "pubs"
   ]
  },
  {
   "cell_type": "code",
   "execution_count": 41,
   "metadata": {
    "scrolled": false
   },
   "outputs": [
    {
     "name": "stdout",
     "output_type": "stream",
     "text": [
      "macmillan\n",
      "stokses\n",
      "century\n",
      "macmillan\n",
      "macmillan\n",
      "chiswvick\n",
      "picture\n",
      "crowvell\n",
      "macmillan\n",
      "stokes\n",
      "lippincott\n",
      "lippincott\n",
      "stokes\n",
      "mcclurg\n"
     ]
    }
   ],
   "source": [
    "for x in pubs:\n",
    "    print(x[0].pub_names.split()[-1])"
   ]
  },
  {
   "cell_type": "code",
   "execution_count": 42,
   "metadata": {},
   "outputs": [],
   "source": [
    "pub_ends = ['company','co','incorporated','inc','firm','press','group','publishers','publishing',\n",
    "                    'publications','pub','books','ltd','limited','society','house','associates']"
   ]
  },
  {
   "cell_type": "code",
   "execution_count": 43,
   "metadata": {},
   "outputs": [],
   "source": [
    "def get_fuzzy_pub_ends(pub_part):\n",
    "    \"\"\"\n",
    "    Fuzzy matches pub ends.\n",
    "    Returns pub ends closer than 2 edits away.\n",
    "    \"\"\"\n",
    "    pub_part = ''.join([x for x in list(pub_part) if x.isalpha()]).lower()\n",
    "    potential_matches = [x for x in pub_ends if (edit_distance(pub_part, x[:len(pub_part)+1]) < 2)]\n",
    "\n",
    "    return potential_matches"
   ]
  },
  {
   "cell_type": "code",
   "execution_count": 44,
   "metadata": {},
   "outputs": [
    {
     "data": {
      "text/plain": [
       "['company', 'co']"
      ]
     },
     "execution_count": 44,
     "metadata": {},
     "output_type": "execute_result"
    }
   ],
   "source": [
    "get_fuzzy_pub_ends('co')"
   ]
  },
  {
   "cell_type": "code",
   "execution_count": 45,
   "metadata": {},
   "outputs": [
    {
     "data": {
      "text/plain": [
       "0"
      ]
     },
     "execution_count": 45,
     "metadata": {},
     "output_type": "execute_result"
    }
   ],
   "source": [
    "min([0,1,2,3,4,5])"
   ]
  },
  {
   "cell_type": "code",
   "execution_count": 46,
   "metadata": {},
   "outputs": [],
   "source": [
    "def calc_edit_distances(plist,plist2):\n",
    "    eds = []\n",
    "    for x in plist[:-1]:\n",
    "        for y in plist2[:-1]:\n",
    "            eds.append(edit_distance(x,y))\n",
    "    fuzzypubs1 = get_fuzzy_pub_ends(plist[-1])\n",
    "    fuzzypubs2 = get_fuzzy_pub_ends(plist2[-1])\n",
    "    fuzz = []\n",
    "    for x in fuzzypubs1:\n",
    "        for y in fuzzypubs2:\n",
    "            fuzz.append(edit_distance(x,y))\n",
    "    eds.append(min(fuzz))\n",
    "    \n",
    "    return eds"
   ]
  },
  {
   "cell_type": "code",
   "execution_count": 47,
   "metadata": {},
   "outputs": [
    {
     "data": {
      "text/plain": [
       "['macmillan', 'co.']"
      ]
     },
     "execution_count": 47,
     "metadata": {},
     "output_type": "execute_result"
    }
   ],
   "source": [
    "pubs[0][0].name_parts"
   ]
  },
  {
   "cell_type": "code",
   "execution_count": 49,
   "metadata": {},
   "outputs": [
    {
     "data": {
      "text/plain": [
       "['stokses', 'company']"
      ]
     },
     "execution_count": 49,
     "metadata": {},
     "output_type": "execute_result"
    }
   ],
   "source": [
    "pubs[1][0].name_parts"
   ]
  },
  {
   "cell_type": "code",
   "execution_count": 51,
   "metadata": {},
   "outputs": [
    {
     "data": {
      "text/plain": [
       "[9, 0]"
      ]
     },
     "execution_count": 51,
     "metadata": {},
     "output_type": "execute_result"
    }
   ],
   "source": [
    "calc_edit_distances(pubs[0][0].name_parts, pubs[1][0].name_parts)"
   ]
  },
  {
   "cell_type": "code",
   "execution_count": 50,
   "metadata": {},
   "outputs": [
    {
     "data": {
      "text/plain": [
       "4.5"
      ]
     },
     "execution_count": 50,
     "metadata": {},
     "output_type": "execute_result"
    }
   ],
   "source": [
    "np.mean(calc_edit_distances(pubs[0][0].name_parts, pubs[1][0].name_parts))"
   ]
  },
  {
   "cell_type": "code",
   "execution_count": 78,
   "metadata": {},
   "outputs": [],
   "source": [
    "group_dict = {}\n",
    "used_ids = []"
   ]
  },
  {
   "cell_type": "code",
   "execution_count": 57,
   "metadata": {},
   "outputs": [],
   "source": [
    "for e, (pub, name_id) in enumerate(pubs):\n",
    "    if (name_id not in used_ids):\n",
    "        id_holder = [name_id]\n",
    "        for pub2, name_id2 in pubs:\n",
    "            if np.mean(calc_edit_distances(pub.name_parts, pub2.name_parts)) < 3:\n",
    "                id_holder.append(name_id2)\n",
    "                used_ids.append(name_id2)\n",
    "        used_ids.append(name_id)\n",
    "        for x in id_holder:\n",
    "            group_dict[x] = e"
   ]
  },
  {
   "cell_type": "code",
   "execution_count": 53,
   "metadata": {},
   "outputs": [
    {
     "data": {
      "text/plain": [
       "{8981033820764: 0, 8981033823059: 0, 89810338246: 2, 89810338284: 3, 13711803711788: 0, 13711803726241: 0, 13711803736235: 0, 13711803747854: 0, 13711803715294: 1, 13711803753326: 1, 13711803757632: 1, 13711803720153: 2, 13711803736949: 5, 13711803740543: 6, 13711803743760: 7, 13711803754601: 10, 13711803754825: 10, 13711803757679: 13}"
      ]
     },
     "execution_count": 53,
     "metadata": {},
     "output_type": "execute_result"
    }
   ],
   "source": [
    "group_dict"
   ]
  },
  {
   "cell_type": "code",
   "execution_count": 54,
   "metadata": {},
   "outputs": [],
   "source": [
    "for span in spanlist:\n",
    "    span.group = group_dict[span.name_id]"
   ]
  },
  {
   "cell_type": "code",
   "execution_count": 55,
   "metadata": {},
   "outputs": [
    {
     "name": "stdout",
     "output_type": "stream",
     "text": [
      "Macmillan & Co. 0\n",
      "Macmillan & Co. 0\n",
      "Macmillan & Co. 0\n",
      "Macmillan & Co. 0\n",
      "Stokses Company 1\n",
      "Stokes Company 1\n",
      "Stokes Company 1\n",
      "Century Company 2\n",
      "Chiswvick House 5\n",
      "Picture Books 6\n",
      "Crowvell & Co 7\n",
      "Lippincott Company 10\n",
      "Lippincott Company 10\n",
      "C. McClurg & Co. 13\n"
     ]
    }
   ],
   "source": [
    "for span in sorted(spanlist, key = lambda x: x.group):\n",
    "    print(span.name, span.group)"
   ]
  },
  {
   "cell_type": "code",
   "execution_count": 58,
   "metadata": {},
   "outputs": [],
   "source": [
    "def group_pubs(spanlist):\n",
    "    \n",
    "    pubs = sorted([(span.name, span.name_id) for span in spanlist], key=lambda x: x[0].pub_count)\n",
    "    group_dict = {}\n",
    "    used_ids = []\n",
    "    for e, (pub, name_id) in enumerate(pubs):\n",
    "        if (name_id not in used_ids):\n",
    "            id_holder = [name_id]\n",
    "            for pub2, name_id2 in pubs:\n",
    "                if np.mean(calc_edit_distances(pub.name_parts, pub2.name_parts)) < 3:\n",
    "                    id_holder.append(name_id2)\n",
    "                    used_ids.append(name_id2)\n",
    "            used_ids.append(name_id)\n",
    "            for x in id_holder:\n",
    "                group_dict[x] = e\n",
    "    \n",
    "    for span in spanlist:\n",
    "        span.group = group_dict[span.name_id]\n",
    "    \n",
    "    return spanlist"
   ]
  },
  {
   "cell_type": "code",
   "execution_count": 60,
   "metadata": {},
   "outputs": [],
   "source": [
    "spanlist = group_pubs(spanlist)"
   ]
  },
  {
   "cell_type": "code",
   "execution_count": 61,
   "metadata": {},
   "outputs": [
    {
     "name": "stdout",
     "output_type": "stream",
     "text": [
      "Macmillan & Co. 0\n",
      "Macmillan & Co. 0\n",
      "Macmillan & Co. 0\n",
      "Macmillan & Co. 0\n",
      "Stokses Company 1\n",
      "Stokes Company 1\n",
      "Stokes Company 1\n",
      "Century Company 2\n",
      "Chiswvick House 5\n",
      "Picture Books 6\n",
      "Crowvell & Co 7\n",
      "Lippincott Company 10\n",
      "Lippincott Company 10\n",
      "C. McClurg & Co. 13\n"
     ]
    }
   ],
   "source": [
    "for span in sorted(spanlist, key = lambda x: x.group):\n",
    "    print(span.name, span.group)"
   ]
  },
  {
   "cell_type": "code",
   "execution_count": 86,
   "metadata": {},
   "outputs": [],
   "source": [
    "class NameSpanGenerator:\n",
    "    \"\"\"\n",
    "    NameSpanGenerator.generate() takes a ReviewObj and returns all NameSpans. \n",
    "    \"\"\"\n",
    "    \n",
    "    def generate(self):\n",
    "        all_spans = []\n",
    "        if self.person_names:\n",
    "            per_spans = [NameSpan(x) for x in self.person_names]\n",
    "            all_spans.extend(group_people(per_spans))\n",
    "        if self.pub_names:\n",
    "            pub_spans = [NameSpan(x) for x in self.pub_names]\n",
    "            all_spans.extend(group_pubs(pub_spans))\n",
    "        return all_spans"
   ]
  },
  {
   "cell_type": "code",
   "execution_count": 87,
   "metadata": {},
   "outputs": [
    {
     "data": {
      "text/plain": [
       "<application.review_obj_class.ReviewObj object at 0x1a2e674dd0>"
      ]
     },
     "execution_count": 87,
     "metadata": {},
     "output_type": "execute_result"
    }
   ],
   "source": [
    "review_list[300]"
   ]
  },
  {
   "cell_type": "code",
   "execution_count": 88,
   "metadata": {},
   "outputs": [
    {
     "data": {
      "text/plain": [
       "[Dr Rhodes, Dr Rhodes, Dr Rhodes, Professor Lounsbury, Dame Quickly, Mr Burton, Dr Johnson, Professor Price, Mr Morse, Mr Morse, Mr Stickney, Mr Stickney, Miss Bowen, Mr Crockett, Mr Crockett, Dr Turner]"
      ]
     },
     "execution_count": 88,
     "metadata": {},
     "output_type": "execute_result"
    }
   ],
   "source": [
    "pub_sort[-10].person_names"
   ]
  },
  {
   "cell_type": "code",
   "execution_count": 89,
   "metadata": {},
   "outputs": [
    {
     "data": {
      "text/plain": [
       "['Macmillan Company', 'Macmillan Company', 'Lodging House', 'Macmillan Company', 'McClure Phillips and Company', 'Lippincott Company', 'Macmillan Company']"
      ]
     },
     "execution_count": 89,
     "metadata": {},
     "output_type": "execute_result"
    }
   ],
   "source": [
    "pub_sort[-10].pub_names"
   ]
  },
  {
   "cell_type": "code",
   "execution_count": 90,
   "metadata": {},
   "outputs": [],
   "source": [
    "spanex = NameSpanGenerator.generate(pub_sort[-10])"
   ]
  },
  {
   "cell_type": "code",
   "execution_count": 91,
   "metadata": {},
   "outputs": [
    {
     "data": {
      "text/plain": [
       "[<__main__.NameSpan object at 0x1a31ae5d50>, <__main__.NameSpan object at 0x1a31ae5c10>, <__main__.NameSpan object at 0x1a31ae5450>, <__main__.NameSpan object at 0x1a31ae5f10>, <__main__.NameSpan object at 0x1a31ae5250>, <__main__.NameSpan object at 0x1a31ae5e90>, <__main__.NameSpan object at 0x1a31ae5550>, <__main__.NameSpan object at 0x1a31ae5490>, <__main__.NameSpan object at 0x1a31ae5950>, <__main__.NameSpan object at 0x1a31ae5b50>, <__main__.NameSpan object at 0x1a31ae5650>, <__main__.NameSpan object at 0x1a31ae5bd0>, <__main__.NameSpan object at 0x1a31ae5290>, <__main__.NameSpan object at 0x1a31ae5710>, <__main__.NameSpan object at 0x1a31ae56d0>, <__main__.NameSpan object at 0x1a31ae5890>, <__main__.NameSpan object at 0x1a31ae5090>, <__main__.NameSpan object at 0x1a31ae5510>, <__main__.NameSpan object at 0x1a31ae5390>, <__main__.NameSpan object at 0x1a31ae5310>, <__main__.NameSpan object at 0x1a31ae5190>, <__main__.NameSpan object at 0x1a31ae50d0>, <__main__.NameSpan object at 0x1a31ae53d0>]"
      ]
     },
     "execution_count": 91,
     "metadata": {},
     "output_type": "execute_result"
    }
   ],
   "source": [
    "spanex"
   ]
  },
  {
   "cell_type": "code",
   "execution_count": 93,
   "metadata": {},
   "outputs": [
    {
     "name": "stdout",
     "output_type": "stream",
     "text": [
      "Professor Price 0\n",
      "Mr Morse 1\n",
      "Mr Morse 1\n",
      "Miss Bowen 3\n",
      "Dr Rhodes 4\n",
      "Dr Rhodes 4\n",
      "Dr Rhodes 4\n",
      "Mr Burton 7\n",
      "Dr Turner 8\n",
      "Dame Quickly 9\n",
      "Dr Johnson 10\n",
      "Mr Stickney 11\n",
      "Mr Stickney 12\n",
      "Mr Crockett 13\n",
      "Mr Crockett 14\n",
      "Professor Lounsbury 15\n",
      "Macmillan Company 0\n",
      "Macmillan Company 0\n",
      "Macmillan Company 0\n",
      "Macmillan Company 0\n",
      "Lodging House 2\n",
      "McClure Phillips and Company 4\n",
      "Lippincott Company 5\n"
     ]
    }
   ],
   "source": [
    "for span in sorted(spanex, key = lambda x: (x.label, x.group)):\n",
    "    print(span.name, span.group)"
   ]
  },
  {
   "cell_type": "code",
   "execution_count": null,
   "metadata": {},
   "outputs": [],
   "source": []
  }
 ],
 "metadata": {
  "kernelspec": {
   "display_name": "Python 3",
   "language": "python",
   "name": "python3"
  },
  "language_info": {
   "codemirror_mode": {
    "name": "ipython",
    "version": 3
   },
   "file_extension": ".py",
   "mimetype": "text/x-python",
   "name": "python",
   "nbconvert_exporter": "python",
   "pygments_lexer": "ipython3",
   "version": "3.7.4"
  }
 },
 "nbformat": 4,
 "nbformat_minor": 2
}
