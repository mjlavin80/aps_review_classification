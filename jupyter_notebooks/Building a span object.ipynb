{
 "cells": [
  {
   "cell_type": "markdown",
   "metadata": {},
   "source": [
    "### Notes\n",
    "\n",
    "For Span obj:\n",
    "+ build off author and publisher names\n",
    "+ text\n",
    "+ start char end char\n",
    "+ label (author or publisher name)\n",
    "+ group (make sure authors and pubs don't overlap)\n",
    "+ as a group (this group's closeness to KB ids)\n",
    "    + dictionary of id and then its score\n",
    "    \n",
    "For ReviewObj:\n",
    "+ all author spans attribute\n",
    "+ all pub spans attribute\n",
    "\n",
    "Also refer to spaCy spans -> https://spacy.io/api/span\n",
    "+ doc (doc object)\n",
    "+ start (int)\n",
    "+ end (int)\n",
    "+ label (int/unicode)\n",
    "+ kb_id (int/unicode)\n",
    "+ vector (numpy.ndarray[ndim=1, dtype='float32'])"
   ]
  },
  {
   "cell_type": "code",
   "execution_count": 1,
   "metadata": {},
   "outputs": [],
   "source": [
    "import sys\n",
    "sys.path.append('../')"
   ]
  },
  {
   "cell_type": "code",
   "execution_count": 2,
   "metadata": {},
   "outputs": [
    {
     "name": "stdout",
     "output_type": "stream",
     "text": [
      "Pretty printing has been turned OFF\n"
     ]
    }
   ],
   "source": [
    "from application.name_obj_classes import PubName, PersonName\n",
    "from application.review_obj_class import ReviewObj\n",
    "import pandas as pd\n",
    "import os\n",
    "%pprint"
   ]
  },
  {
   "cell_type": "code",
   "execution_count": 25,
   "metadata": {},
   "outputs": [],
   "source": [
    "from nltk.metrics import edit_distance"
   ]
  },
  {
   "cell_type": "code",
   "execution_count": 3,
   "metadata": {},
   "outputs": [],
   "source": [
    "# loading in files\n",
    "directory = \"../../aps_reviews_50/aps_reviews/\"\n",
    "filenames = os.listdir(directory)\n",
    "txts = []\n",
    "for file in filenames:\n",
    "    with open(directory + file) as f:\n",
    "        txts.append(f.read())"
   ]
  },
  {
   "cell_type": "code",
   "execution_count": 4,
   "metadata": {},
   "outputs": [],
   "source": [
    "review_list = []\n",
    "for filename, txt in zip([x.split('.')[0] for x in filenames], txts):\n",
    "    review_list.append(ReviewObj(filename, txt))"
   ]
  },
  {
   "cell_type": "markdown",
   "metadata": {},
   "source": [
    "Span object will contain:\n",
    "+ Review ID (parent doc)\n",
    "+ Start char (int)\n",
    "+ End char (int)\n",
    "+ Label (person/publisher)\n",
    "+ Group (int)\n",
    "+ Name variations\n",
    "+ VIAF but not yet"
   ]
  },
  {
   "cell_type": "code",
   "execution_count": 5,
   "metadata": {},
   "outputs": [
    {
     "data": {
      "text/plain": [
       "'136726613'"
      ]
     },
     "execution_count": 5,
     "metadata": {},
     "output_type": "execute_result"
    }
   ],
   "source": [
    "# review id\n",
    "review_list[0].person_names[0].review_id"
   ]
  },
  {
   "cell_type": "code",
   "execution_count": 6,
   "metadata": {},
   "outputs": [
    {
     "data": {
      "text/plain": [
       "(95, 120)"
      ]
     },
     "execution_count": 6,
     "metadata": {},
     "output_type": "execute_result"
    }
   ],
   "source": [
    "# start and end char\n",
    "review_list[0].person_names[0].review_loc_chars"
   ]
  },
  {
   "cell_type": "code",
   "execution_count": 7,
   "metadata": {},
   "outputs": [
    {
     "data": {
      "text/plain": [
       "'person'"
      ]
     },
     "execution_count": 7,
     "metadata": {},
     "output_type": "execute_result"
    }
   ],
   "source": [
    "# label\n",
    "review_list[0].person_names[0].name_type"
   ]
  },
  {
   "cell_type": "code",
   "execution_count": 8,
   "metadata": {},
   "outputs": [
    {
     "data": {
      "text/plain": [
       "['c dudley warner', 'charles warner', 'charles dudley warner', 'warner', 'c d warner', 'charles d warner', 'c warner']"
      ]
     },
     "execution_count": 8,
     "metadata": {},
     "output_type": "execute_result"
    }
   ],
   "source": [
    "review_list[0].person_names[0].getNameVariants()"
   ]
  },
  {
   "cell_type": "code",
   "execution_count": 84,
   "metadata": {},
   "outputs": [],
   "source": [
    "class NameSpan():\n",
    "    def __init__(self, NameObj):\n",
    "        self.name = NameObj\n",
    "        self.review_id = NameObj.review_id\n",
    "        self.span = NameObj.review_loc_chars\n",
    "        self.start_char = NameObj.review_loc_chars[0]\n",
    "        self.end_char = NameObj.review_loc_chars[1]\n",
    "        self.label = NameObj.name_type\n",
    "        self.name_id = int(span_test.review_id + str(self.start_char))\n",
    "        self.group = -1"
   ]
  },
  {
   "cell_type": "code",
   "execution_count": 85,
   "metadata": {},
   "outputs": [],
   "source": [
    "span_test = NameSpan(review_list[0].person_names[0])"
   ]
  },
  {
   "cell_type": "code",
   "execution_count": 86,
   "metadata": {},
   "outputs": [
    {
     "data": {
      "text/plain": [
       "'136726613'"
      ]
     },
     "execution_count": 86,
     "metadata": {},
     "output_type": "execute_result"
    }
   ],
   "source": [
    "span_test.review_id"
   ]
  },
  {
   "cell_type": "code",
   "execution_count": 87,
   "metadata": {},
   "outputs": [
    {
     "data": {
      "text/plain": [
       "13672661395"
      ]
     },
     "execution_count": 87,
     "metadata": {},
     "output_type": "execute_result"
    }
   ],
   "source": [
    "span_test.name_id"
   ]
  },
  {
   "cell_type": "code",
   "execution_count": 22,
   "metadata": {},
   "outputs": [
    {
     "data": {
      "text/plain": [
       "Mr. Charles Dudley Warner"
      ]
     },
     "execution_count": 22,
     "metadata": {},
     "output_type": "execute_result"
    }
   ],
   "source": [
    "span_test.name"
   ]
  },
  {
   "cell_type": "code",
   "execution_count": 21,
   "metadata": {},
   "outputs": [
    {
     "data": {
      "text/plain": [
       "'warner'"
      ]
     },
     "execution_count": 21,
     "metadata": {},
     "output_type": "execute_result"
    }
   ],
   "source": [
    "span_test.name.last_name"
   ]
  },
  {
   "cell_type": "code",
   "execution_count": 88,
   "metadata": {},
   "outputs": [],
   "source": [
    "spanlist = [NameSpan(x) for x in review_list[0].person_names]"
   ]
  },
  {
   "cell_type": "code",
   "execution_count": 89,
   "metadata": {},
   "outputs": [
    {
     "data": {
      "text/plain": [
       "[<__main__.NameSpan object at 0x1a2d379d90>, <__main__.NameSpan object at 0x1a2d379f50>, <__main__.NameSpan object at 0x1a2d379ad0>, <__main__.NameSpan object at 0x1a2d379650>, <__main__.NameSpan object at 0x1a2d379690>, <__main__.NameSpan object at 0x1a2d379610>, <__main__.NameSpan object at 0x1a2d379550>, <__main__.NameSpan object at 0x1a2d379fd0>, <__main__.NameSpan object at 0x1a2d3790d0>, <__main__.NameSpan object at 0x1a2d3797d0>, <__main__.NameSpan object at 0x1a2d379c90>, <__main__.NameSpan object at 0x1a2d379410>, <__main__.NameSpan object at 0x1a2d379e90>, <__main__.NameSpan object at 0x1a2d379d50>, <__main__.NameSpan object at 0x1a2d379090>, <__main__.NameSpan object at 0x1a2d379450>, <__main__.NameSpan object at 0x1a2d379a50>]"
      ]
     },
     "execution_count": 89,
     "metadata": {},
     "output_type": "execute_result"
    }
   ],
   "source": [
    "spanlist"
   ]
  },
  {
   "cell_type": "code",
   "execution_count": 90,
   "metadata": {},
   "outputs": [],
   "source": [
    "names = sorted([(span.name, span.name_id) for span in spanlist], key=lambda x: len(x[0].last_name))"
   ]
  },
  {
   "cell_type": "code",
   "execution_count": 91,
   "metadata": {},
   "outputs": [
    {
     "data": {
      "text/plain": [
       "[(Dr. Herbert B. Adam, 1367266134010), (Dr. Geor6 Ebers, 1367266131348), (President Andrew D. White, 1367266134149), (Mr. Charles Dudley Warner, 13672661395), (Mr. Vedder, 136726613190), (Professor Thorold Rogers, 136726613395), (Dr. Parker, 1367266135429), (Dr. William, 136726613837), (Mr. Cushing, 1367266133707), (Professor E. Johnsou, 1367266135306), (Dr. Malaren, 1367266135416), (Mrs. Browning, 136726613660), (Mr. Julius Chambers, 1367266131766), (Mr. Brander Matthews, 1367266134958), (Mr. Swinburne, 136726613819), (Mr. Julian Hawthorne, 1367266131620), (Dr. Joseph Parktercontinueshiseipositionuin, 1367266135237)]"
      ]
     },
     "execution_count": 91,
     "metadata": {},
     "output_type": "execute_result"
    }
   ],
   "source": [
    "names"
   ]
  },
  {
   "cell_type": "code",
   "execution_count": 55,
   "metadata": {},
   "outputs": [
    {
     "data": {
      "text/plain": [
       "'adam'"
      ]
     },
     "execution_count": 55,
     "metadata": {},
     "output_type": "execute_result"
    }
   ],
   "source": [
    "names[0].last_name"
   ]
  },
  {
   "cell_type": "code",
   "execution_count": 105,
   "metadata": {},
   "outputs": [],
   "source": [
    "group_dict = {}\n",
    "used_ids = []"
   ]
  },
  {
   "cell_type": "code",
   "execution_count": 106,
   "metadata": {},
   "outputs": [],
   "source": [
    "for e, (name, name_id) in enumerate(names):\n",
    "    if (name_id not in used_ids):\n",
    "        id_holder = [name_id]\n",
    "        for name2, name_id2 in names:\n",
    "            if (e < (len(name) - 1)) and (name_id!=name_id2):\n",
    "                if (edit_distance(name.last_name, name2.last_name[:len(name.last_name)+1]) < 2) and (name_id2 not in used_ids):\n",
    "                    if (name.first_initial==name2.first_initial and name.middle_initial==name2.middle_initial or name.title==name2.title) or (name.first_initial==name2.first_initial or name.middle_initial==name2.middle_initial and name.title==name2.title):\n",
    "                        id_holder.append(name_id2)\n",
    "                        used_ids.append(name_id2)\n",
    "        used_ids.append(name_id)\n",
    "        for x in id_holder:\n",
    "            group_dict[x] = e"
   ]
  },
  {
   "cell_type": "code",
   "execution_count": 107,
   "metadata": {},
   "outputs": [
    {
     "data": {
      "text/plain": [
       "{1367266134010: 0, 1367266131348: 1, 1367266134149: 2, 13672661395: 3, 136726613190: 4, 136726613395: 5, 1367266135429: 6, 1367266135237: 6, 136726613837: 7, 1367266133707: 8, 1367266135306: 9, 1367266135416: 10, 136726613660: 11, 1367266131766: 12, 1367266134958: 13, 136726613819: 14, 1367266131620: 15}"
      ]
     },
     "execution_count": 107,
     "metadata": {},
     "output_type": "execute_result"
    }
   ],
   "source": [
    "group_dict"
   ]
  },
  {
   "cell_type": "code",
   "execution_count": 111,
   "metadata": {},
   "outputs": [],
   "source": [
    "for span in spanlist:\n",
    "    span.group = group_dict[span.name_id]"
   ]
  },
  {
   "cell_type": "code",
   "execution_count": 112,
   "metadata": {},
   "outputs": [
    {
     "name": "stdout",
     "output_type": "stream",
     "text": [
      "Mr. Charles Dudley Warner 3\n",
      "Mr. Vedder 4\n",
      "Professor Thorold Rogers 5\n",
      "Mrs. Browning 11\n",
      "Mr. Swinburne 14\n",
      "Dr. William 7\n",
      "Dr. Geor6 Ebers 1\n",
      "Mr. Julian Hawthorne 15\n",
      "Mr. Julius Chambers 12\n",
      "Mr. Cushing 8\n",
      "Dr. Herbert B. Adam 0\n",
      "President Andrew D. White 2\n",
      "Mr. Brander Matthews 13\n",
      "Dr. Joseph Parktercontinueshiseipositionuin 6\n",
      "Professor E. Johnsou 9\n",
      "Dr. Malaren 10\n",
      "Dr. Parker 6\n"
     ]
    }
   ],
   "source": [
    "for span in spanlist:\n",
    "    print(span.name, span.group)"
   ]
  },
  {
   "cell_type": "code",
   "execution_count": 114,
   "metadata": {},
   "outputs": [],
   "source": [
    "def group_people(spanlist):\n",
    "    \n",
    "    names = sorted([(span.name, span.name_id) for span in spanlist], key=lambda x: len(x[0].last_name))\n",
    "    group_dict = {}\n",
    "    used_ids = []\n",
    "    for e, (name, name_id) in enumerate(names):\n",
    "        if (name_id not in used_ids):\n",
    "            id_holder = [name_id]\n",
    "            for name2, name_id2 in names:\n",
    "                if (e < (len(name) - 1)) and (name_id!=name_id2):\n",
    "                    if (edit_distance(name.last_name, name2.last_name[:len(name.last_name)+1]) < 2) and (name_id2 not in used_ids):\n",
    "                        if (name.first_initial==name2.first_initial and name.middle_initial==name2.middle_initial or name.title==name2.title) or (name.first_initial==name2.first_initial or name.middle_initial==name2.middle_initial and name.title==name2.title):\n",
    "                            id_holder.append(name_id2)\n",
    "                            used_ids.append(name_id2)\n",
    "            used_ids.append(name_id)\n",
    "            for x in id_holder:\n",
    "                group_dict[x] = e\n",
    "    \n",
    "    for span in spanlist:\n",
    "        span.group = group_dict[span.name_id]\n",
    "    \n",
    "    return spanlist"
   ]
  },
  {
   "cell_type": "code",
   "execution_count": 115,
   "metadata": {},
   "outputs": [],
   "source": [
    "spanlist = [NameSpan(x) for x in review_list[0].person_names]"
   ]
  },
  {
   "cell_type": "code",
   "execution_count": 116,
   "metadata": {},
   "outputs": [],
   "source": [
    "spanlist = group_people(spanlist)"
   ]
  },
  {
   "cell_type": "code",
   "execution_count": 117,
   "metadata": {},
   "outputs": [
    {
     "name": "stdout",
     "output_type": "stream",
     "text": [
      "Mr. Charles Dudley Warner 3\n",
      "Mr. Vedder 4\n",
      "Professor Thorold Rogers 5\n",
      "Mrs. Browning 11\n",
      "Mr. Swinburne 14\n",
      "Dr. William 7\n",
      "Dr. Geor6 Ebers 1\n",
      "Mr. Julian Hawthorne 15\n",
      "Mr. Julius Chambers 12\n",
      "Mr. Cushing 8\n",
      "Dr. Herbert B. Adam 0\n",
      "President Andrew D. White 2\n",
      "Mr. Brander Matthews 13\n",
      "Dr. Joseph Parktercontinueshiseipositionuin 6\n",
      "Professor E. Johnsou 9\n",
      "Dr. Malaren 10\n",
      "Dr. Parker 6\n"
     ]
    }
   ],
   "source": [
    "for span in spanlist:\n",
    "    print(span.name, span.group)"
   ]
  },
  {
   "cell_type": "code",
   "execution_count": null,
   "metadata": {},
   "outputs": [],
   "source": [
    "class NameSpanGenerator():\n",
    "    def _get_group:\n",
    "        \n",
    "    def _get_group_person"
   ]
  }
 ],
 "metadata": {
  "kernelspec": {
   "display_name": "Python 3",
   "language": "python",
   "name": "python3"
  },
  "language_info": {
   "codemirror_mode": {
    "name": "ipython",
    "version": 3
   },
   "file_extension": ".py",
   "mimetype": "text/x-python",
   "name": "python",
   "nbconvert_exporter": "python",
   "pygments_lexer": "ipython3",
   "version": "3.7.4"
  }
 },
 "nbformat": 4,
 "nbformat_minor": 2
}
