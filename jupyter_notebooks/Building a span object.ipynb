{
 "cells": [
  {
   "cell_type": "markdown",
   "metadata": {},
   "source": [
    "### Notes\n",
    "\n",
    "For Span obj:\n",
    "+ build off author and publisher names\n",
    "+ text\n",
    "+ start char end char\n",
    "+ label (author or publisher name)\n",
    "+ group (make sure authors and pubs don't overlap)\n",
    "+ as a group (this group's closeness to KB ids)\n",
    "    + dictionary of id and then its score\n",
    "    \n",
    "For ReviewObj:\n",
    "+ all author spans attribute\n",
    "+ all pub spans attribute\n",
    "\n",
    "Also refer to spaCy spans -> https://spacy.io/api/span\n",
    "+ doc (doc object)\n",
    "+ start (int)\n",
    "+ end (int)\n",
    "+ label (int/unicode)\n",
    "+ kb_id (int/unicode)\n",
    "+ vector (numpy.ndarray[ndim=1, dtype='float32'])"
   ]
  },
  {
   "cell_type": "code",
   "execution_count": 1,
   "metadata": {},
   "outputs": [],
   "source": [
    "import sys\n",
    "sys.path.append('../')"
   ]
  },
  {
   "cell_type": "code",
   "execution_count": 2,
   "metadata": {},
   "outputs": [
    {
     "name": "stdout",
     "output_type": "stream",
     "text": [
      "Pretty printing has been turned OFF\n"
     ]
    }
   ],
   "source": [
    "from application.name_obj_classes import PubName, PersonName\n",
    "from application.review_obj_class import ReviewObj\n",
    "import pandas as pd\n",
    "import os\n",
    "%pprint"
   ]
  },
  {
   "cell_type": "code",
   "execution_count": 3,
   "metadata": {},
   "outputs": [],
   "source": [
    "# loading in files\n",
    "directory = \"../../aps_reviews_50/aps_reviews/\"\n",
    "filenames = os.listdir(directory)\n",
    "txts = []\n",
    "for file in filenames:\n",
    "    with open(directory + file) as f:\n",
    "        txts.append(f.read())"
   ]
  },
  {
   "cell_type": "code",
   "execution_count": 4,
   "metadata": {},
   "outputs": [],
   "source": [
    "review_list = []\n",
    "for filename, txt in zip([x.split('.')[0] for x in filenames], txts):\n",
    "    review_list.append(ReviewObj(filename, txt))"
   ]
  },
  {
   "cell_type": "markdown",
   "metadata": {},
   "source": [
    "Span object will contain:\n",
    "+ Review ID (parent doc)\n",
    "+ Start char (int)\n",
    "+ End char (int)\n",
    "+ Label (person/publisher)\n",
    "+ Group (int)\n",
    "+ Name variations\n",
    "+ VIAF but not yet"
   ]
  },
  {
   "cell_type": "code",
   "execution_count": 9,
   "metadata": {},
   "outputs": [
    {
     "data": {
      "text/plain": [
       "'136726613'"
      ]
     },
     "execution_count": 9,
     "metadata": {},
     "output_type": "execute_result"
    }
   ],
   "source": [
    "# review id\n",
    "review_list[0].person_names[0].review_id"
   ]
  },
  {
   "cell_type": "code",
   "execution_count": 10,
   "metadata": {},
   "outputs": [
    {
     "data": {
      "text/plain": [
       "(95, 120)"
      ]
     },
     "execution_count": 10,
     "metadata": {},
     "output_type": "execute_result"
    }
   ],
   "source": [
    "# start and end char\n",
    "review_list[0].person_names[0].review_loc_chars"
   ]
  },
  {
   "cell_type": "code",
   "execution_count": 8,
   "metadata": {},
   "outputs": [
    {
     "data": {
      "text/plain": [
       "'person'"
      ]
     },
     "execution_count": 8,
     "metadata": {},
     "output_type": "execute_result"
    }
   ],
   "source": [
    "# label\n",
    "review_list[0].person_names[0].name_type"
   ]
  },
  {
   "cell_type": "code",
   "execution_count": 13,
   "metadata": {},
   "outputs": [
    {
     "data": {
      "text/plain": [
       "['c dudley warner', 'c warner', 'c d warner', 'charles dudley warner', 'warner', 'charles d warner', 'charles warner']"
      ]
     },
     "execution_count": 13,
     "metadata": {},
     "output_type": "execute_result"
    }
   ],
   "source": [
    "review_list[0].person_names[0].getNameVariants()"
   ]
  },
  {
   "cell_type": "code",
   "execution_count": null,
   "metadata": {},
   "outputs": [],
   "source": [
    "class NameSpan():\n",
    "    "
   ]
  },
  {
   "cell_type": "code",
   "execution_count": null,
   "metadata": {},
   "outputs": [],
   "source": [
    "def consolidatePersonNames(name_list):\n",
    "    \"\"\"\n",
    "    Takes list of NameSpan objects\n",
    "    \"\"\"\n",
    "    name_set = []\n",
    "    used_indices = []\n",
    "    last_names = sorted([name.last_name for name in name_list], key=len)\n",
    "    \n",
    "    for i, name in enumerate(last_names):\n",
    "        if i not in used_indices:\n",
    "            full_name = [x for x in name_list if x.last_name == name][0]\n",
    "            name_holder = [full_name]\n",
    "            for j, name2 in enumerate(last_names):\n",
    "                full_name2 = [x for x in name_list if x.last_name == name2][0]\n",
    "                if (i < (len(last_names) - 1)) and (i!=j):\n",
    "                    if (edit_distance(name, name2[:len(name)+1]) < 2) and (j not in used_indices):\n",
    "                        if (full_name.first_initial==full_name2.first_initial and full_name.middle_initial==full_name2.middle_initial or full_name.title==full_name2.title) or (full_name.first_initial==full_name2.first_initial or full_name.middle_initial==full_name2.middle_initial and full_name.title==full_name2.title):\n",
    "                            name_holder.append(full_name2)\n",
    "                            used_indices.append(j)\n",
    "            used_indices.append(i)\n",
    "            name_set.append(name_holder)\n",
    "    \n",
    "    return name_set  "
   ]
  }
 ],
 "metadata": {
  "kernelspec": {
   "display_name": "Python 3",
   "language": "python",
   "name": "python3"
  },
  "language_info": {
   "codemirror_mode": {
    "name": "ipython",
    "version": 3
   },
   "file_extension": ".py",
   "mimetype": "text/x-python",
   "name": "python",
   "nbconvert_exporter": "python",
   "pygments_lexer": "ipython3",
   "version": "3.7.4"
  }
 },
 "nbformat": 4,
 "nbformat_minor": 2
}
