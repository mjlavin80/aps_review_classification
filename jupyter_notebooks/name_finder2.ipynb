{
 "cells": [
  {
   "cell_type": "code",
   "execution_count": 1,
   "metadata": {},
   "outputs": [],
   "source": [
    "import sys\n",
    "sys.path.append('../')"
   ]
  },
  {
   "cell_type": "code",
   "execution_count": 2,
   "metadata": {
    "scrolled": true
   },
   "outputs": [],
   "source": [
    "from application.name_obj_classes import PubName, PersonName, remove_punct"
   ]
  },
  {
   "cell_type": "code",
   "execution_count": 3,
   "metadata": {},
   "outputs": [],
   "source": [
    "from application.review_obj_class import ReviewObj"
   ]
  },
  {
   "cell_type": "code",
   "execution_count": 4,
   "metadata": {},
   "outputs": [],
   "source": [
    "from application.text_preprocessing import preprocess_text"
   ]
  },
  {
   "cell_type": "code",
   "execution_count": 5,
   "metadata": {},
   "outputs": [
    {
     "name": "stdout",
     "output_type": "stream",
     "text": [
      "Pretty printing has been turned OFF\n"
     ]
    }
   ],
   "source": [
    "import os\n",
    "import pandas as pd\n",
    "import re\n",
    "from collections import Counter\n",
    "import numpy as np\n",
    "import pickle\n",
    "from nltk.metrics import edit_distance\n",
    "%pprint"
   ]
  },
  {
   "cell_type": "code",
   "execution_count": 6,
   "metadata": {},
   "outputs": [],
   "source": [
    "# loading in files\n",
    "directory = \"../../aps_reviews_50/aps_reviews/\"\n",
    "filenames = os.listdir(directory)\n",
    "txts = []\n",
    "for file in filenames:\n",
    "    with open(directory + file) as f:\n",
    "        txts.append(f.read())"
   ]
  },
  {
   "cell_type": "code",
   "execution_count": 7,
   "metadata": {},
   "outputs": [
    {
     "data": {
      "text/plain": [
       "['136726613', '90142613', '90390665', '124486140', '126315326', '136992742', '137651039', '89668273', '136971619', '90313218', '128376070', '124688361', '124882533', '89639059', '88461015', '124190789', '136902134', '90180084', '137244878', '88721263', '137412078', '89675095', '760950213', '124217248', '853770606', '137195890', '125727674', '88797650', '89649761', '90967694', '89672866', '89674750', '89635917', '124196531', '128176513', '88477095', '125715359', '124189638', '136887509', '90554411', '90186165', '125502663', '125724646', '124740955', '124707428', '89644579', '137072896', '136685639', '126788760', '89671107']"
      ]
     },
     "execution_count": 7,
     "metadata": {},
     "output_type": "execute_result"
    }
   ],
   "source": [
    "[x.split('.')[0] for x in filenames]"
   ]
  },
  {
   "cell_type": "markdown",
   "metadata": {},
   "source": [
    "## Part 1: Publisher Names"
   ]
  },
  {
   "cell_type": "code",
   "execution_count": 8,
   "metadata": {},
   "outputs": [],
   "source": [
    "def clean_pub_matches(match_list):\n",
    "    cleaned_matches = []\n",
    "    for match in match_list:\n",
    "        index_to_start = 0\n",
    "        for i, x in enumerate(match[1].split()):\n",
    "            if x[0].islower() and x[0]!='&':\n",
    "                index_to_start = i+1\n",
    "        cleaned_matches.append(' '.join(match[1].split()[index_to_start:]))\n",
    "    return cleaned_matches"
   ]
  },
  {
   "cell_type": "code",
   "execution_count": 9,
   "metadata": {},
   "outputs": [],
   "source": [
    "def remove_dash_for_pub(pub_match):\n",
    "    return re.sub(r'(?<!/w)-(?!/w)', '', pub_match)"
   ]
  },
  {
   "cell_type": "code",
   "execution_count": 10,
   "metadata": {},
   "outputs": [],
   "source": [
    "pub_ends = ['company','co','incorporated','inc','firm','press','group','publishers','publishing',\n",
    "                    'publications','pub','books','ltd','limited','society','house','associates']"
   ]
  },
  {
   "cell_type": "code",
   "execution_count": 11,
   "metadata": {},
   "outputs": [],
   "source": [
    "pub_ends_list = '|'.join([x.capitalize()+'\\.?(?!\\w)' for x in pub_ends])"
   ]
  },
  {
   "cell_type": "code",
   "execution_count": 12,
   "metadata": {},
   "outputs": [],
   "source": [
    "pub_ends = [x.capitalize() for x in pub_ends]"
   ]
  },
  {
   "cell_type": "code",
   "execution_count": 13,
   "metadata": {},
   "outputs": [
    {
     "data": {
      "text/plain": [
       "['Company', 'Co', 'Incorporated', 'Inc', 'Firm', 'Press', 'Group', 'Publishers', 'Publishing', 'Publications', 'Pub', 'Books', 'Ltd', 'Limited', 'Society', 'House', 'Associates']"
      ]
     },
     "execution_count": 13,
     "metadata": {},
     "output_type": "execute_result"
    }
   ],
   "source": [
    "pub_ends"
   ]
  },
  {
   "cell_type": "markdown",
   "metadata": {},
   "source": [
    "``` \n",
    "    for e, index in enumerate(indices):\n",
    "        \n",
    "        if (e==len(indices)-1):\n",
    "            end_index = -1\n",
    "        else:\n",
    "            end_index = indices[e+1][0]\n",
    "        \n",
    "        end_span = len(txt[indices[e][0]:end_index])   \n",
    "        get_match = re.finditer('[A-Z]\\w+[^A-Z]|[A-Z].[^A-Z]', txt[indices[e][0]:end_index])\n",
    "        matches = [(m.span(), m.group()) for m in get_match]\n",
    "        matches.reverse()\n",
    "        \n",
    "        for n, m in enumerate(matches):\n",
    "            if n<len(matches)-1:\n",
    "                if (m[0][1] != matches[n-1][0][0]):\n",
    "                    end_span = m[0][1]\n",
    "        \n",
    "        result = txt[indices[e][0]:(indices[e][0] + end_span - 1)]\n",
    "        \n",
    "        if len(result) > len(indices[e][1]):\n",
    "            names.append(txt[indices[e][0]:(indices[e][0] + end_span - 1)])\n",
    "            spans.append(indices[e][0])\n",
    "```"
   ]
  },
  {
   "cell_type": "markdown",
   "metadata": {},
   "source": [
    "+ split into tokens\n",
    "+ stop as soon \n",
    "+ stop as city names\n",
    "+ put word tokenizer in review obj"
   ]
  },
  {
   "cell_type": "code",
   "execution_count": 14,
   "metadata": {},
   "outputs": [],
   "source": [
    "known_publishers = [\"Charles Scribner's Sons\",\"Scribner\",\"Macmillan\",\"Funk & Wagnalls\",\"McClure, Philips\",\"Houghton Mifflin\",\"G.P. Putnam's Sons\", \"G.P. Putnam\",\n",
    " \"Harper & Brothers\",\"Harper\",\"J.B. Lippincott\",\"J. B. Lippincott\", \"Doubleday, Page\",\"Doubleday\",\"D. Appleton\",\"Longmans, Green\",\n",
    " \"Longman\",\"Henry Holt\",\"Holt\",\"Adam & Charles Black\"]"
   ]
  },
  {
   "cell_type": "code",
   "execution_count": 15,
   "metadata": {},
   "outputs": [],
   "source": [
    "review_list = []\n",
    "for filename, txt in zip([x.split('.')[0] for x in filenames], txts):\n",
    "    review_list.append(ReviewObj(filename, txt))"
   ]
  },
  {
   "cell_type": "code",
   "execution_count": 16,
   "metadata": {},
   "outputs": [],
   "source": [
    "toks = review_list[24].cleaned_toks"
   ]
  },
  {
   "cell_type": "code",
   "execution_count": 39,
   "metadata": {},
   "outputs": [],
   "source": [
    "temp_text = review_list[24].cleaned_text"
   ]
  },
  {
   "cell_type": "code",
   "execution_count": 55,
   "metadata": {},
   "outputs": [],
   "source": [
    "def obscure_single_match(text, x, y):\n",
    "    text_list = list(text)\n",
    "    text_list[x:y] = list(len(text[x:y]) * '@')\n",
    "    return ''.join(text_list)"
   ]
  },
  {
   "cell_type": "code",
   "execution_count": 57,
   "metadata": {},
   "outputs": [
    {
     "data": {
      "text/plain": [
       "\"LITERARY System of Measurments adopted by the National Association of @@@@@@@@@@@@ Painters and Decorators of the United States 9x12 in 60 pp price 00 The Painters ' Magazine This is timely book and one that should be in the hands of every builder and contractor as one of the aids to correct estimating for painting It is noted fact that heretofore two painters measuring off any given piece of work have been sure to arrive at different results owing to the fact that no uniform rules of measurements have been in vogue The work before us is an en deavor and successful one we think towards establishing an uniform method of measuring off work and as it has been prepared under the di rection of The National Association of Master House Painters and Decorators of the United States it carries with it the impress of authority and stands as an official guide for master and man in making measurments of work done or work contemplated The book is oblong 9x12 inches and is illustrated with six lithographed plates 16x20 inches showing the application of the sys tem to houses of various design and different in terior and exterior details There is no attempt to give prices but the work consists of very comprehensive system of rules for reducing all the various surfaces moldings balustrades and the like to an number of square yards of plain surface that will represent an equal cost to the painter of the same quantity of work re quired to be done It is therefore necessary only to measure the work in accordance with these rules and apply the local price per square yard of plain surface which is governed by cost of ma terial and labor to be able to correctly estimate the most complicated job of painting In addition to the rules there is an excellent glossary of architectural terms\""
      ]
     },
     "execution_count": 57,
     "metadata": {},
     "output_type": "execute_result"
    }
   ],
   "source": [
    "obscure_single_match(temp_text, *(70,82))"
   ]
  },
  {
   "cell_type": "code",
   "execution_count": 56,
   "metadata": {},
   "outputs": [
    {
     "name": "stdout",
     "output_type": "stream",
     "text": [
      "(70, 82)\n",
      "Master House\n",
      "@@@@@@@@@@@@\n",
      "(70, 82)\n",
      "Master House\n",
      "@@@@@@@@@@@@\n"
     ]
    }
   ],
   "source": [
    "for x in review_list[24].pub_names:\n",
    "    print(x.review_loc)\n",
    "    tbr = temp_text[x.review_loc[0]:x.review_loc[1]]\n",
    "    tr = len(tbr) * '@'\n",
    "    print(tbr)\n",
    "    print(tr)\n",
    "    temp_text.replace(tbr, tr, 1)"
   ]
  },
  {
   "cell_type": "code",
   "execution_count": 51,
   "metadata": {},
   "outputs": [
    {
     "data": {
      "text/plain": [
       "\"LITERARY System of Measurments adopted by the National Association of Master House Painters and Decorators of the United States 9x12 in 60 pp price 00 The Painters ' Magazine This is timely book and one that should be in the hands of every builder and contractor as one of the aids to correct estimating for painting It is noted fact that heretofore two painters measuring off any given piece of work have been sure to arrive at different results owing to the fact that no uniform rules of measurements have been in vogue The work before us is an en deavor and successful one we think towards establishing an uniform method of measuring off work and as it has been prepared under the di rection of The National Association of Master House Painters and Decorators of the United States it carries with it the impress of authority and stands as an official guide for master and man in making measurments of work done or work contemplated The book is oblong 9x12 inches and is illustrated with six lithographed plates 16x20 inches showing the application of the sys tem to houses of various design and different in terior and exterior details There is no attempt to give prices but the work consists of very comprehensive system of rules for reducing all the various surfaces moldings balustrades and the like to an number of square yards of plain surface that will represent an equal cost to the painter of the same quantity of work re quired to be done It is therefore necessary only to measure the work in accordance with these rules and apply the local price per square yard of plain surface which is governed by cost of ma terial and labor to be able to correctly estimate the most complicated job of painting In addition to the rules there is an excellent glossary of architectural terms\""
      ]
     },
     "execution_count": 51,
     "metadata": {},
     "output_type": "execute_result"
    }
   ],
   "source": [
    "temp_text"
   ]
  },
  {
   "cell_type": "markdown",
   "metadata": {},
   "source": [
    "```\n",
    "def __obscure_matches(self, name = 'ex'):\n",
    "    text_list = list(self.cleaned_text)\n",
    "    if name == 'pub':\n",
    "        for (x, y) in [pub.review_loc for pub in self.pub_names]:\n",
    "                text_list[x:y] = list(len(self.cleaned_text[x:y]) * '@')\n",
    "        if name == 'person':\n",
    "            for (x, y) in [pers.review_loc for pers in self.person_names]:\n",
    "                text_list[x:y] = list(len(self.cleaned_text[x:y]) * '@')\n",
    "        return ''.join(text_list)\n",
    "```"
   ]
  },
  {
   "cell_type": "code",
   "execution_count": 17,
   "metadata": {},
   "outputs": [
    {
     "data": {
      "text/plain": [
       "['LITERARY', 'System', 'of', 'Measurments', 'adopted', 'by', 'the', 'National', 'Association', 'of', 'Master', 'House', 'Painters', 'and', 'Decorators', 'of', 'the', 'United', 'States', '9x12', 'in', '60', 'pp', 'price', '00', 'The', 'Painters', \"'\", 'Magazine', 'This', 'is', 'timely', 'book', 'and', 'one', 'that', 'should', 'be', 'in', 'the', 'hands', 'of', 'every', 'builder', 'and', 'contractor', 'as', 'one', 'of', 'the', 'aids', 'to', 'correct', 'estimating', 'for', 'painting', 'It', 'is', 'noted', 'fact', 'that', 'heretofore', 'two', 'painters', 'measuring', 'off', 'any', 'given', 'piece', 'of', 'work', 'have', 'been', 'sure', 'to', 'arrive', 'at', 'different', 'results', 'owing', 'to', 'the', 'fact', 'that', 'no', 'uniform', 'rules', 'of', 'measurements', 'have', 'been', 'in', 'vogue', 'The', 'work', 'before', 'us', 'is', 'an', 'en', 'deavor', 'and', 'successful', 'one', 'we', 'think', 'towards', 'establishing', 'an', 'uniform', 'method', 'of', 'measuring', 'off', 'work', 'and', 'as', 'it', 'has', 'been', 'prepared', 'under', 'the', 'di', 'rection', 'of', 'The', 'National', 'Association', 'of', 'Master', 'House', 'Painters', 'and', 'Decorators', 'of', 'the', 'United', 'States', 'it', 'carries', 'with', 'it', 'the', 'impress', 'of', 'authority', 'and', 'stands', 'as', 'an', 'official', 'guide', 'for', 'master', 'and', 'man', 'in', 'making', 'measurments', 'of', 'work', 'done', 'or', 'work', 'contemplated', 'The', 'book', 'is', 'oblong', '9x12', 'inches', 'and', 'is', 'illustrated', 'with', 'six', 'lithographed', 'plates', '16x20', 'inches', 'showing', 'the', 'application', 'of', 'the', 'sys', 'tem', 'to', 'houses', 'of', 'various', 'design', 'and', 'different', 'in', 'terior', 'and', 'exterior', 'details', 'There', 'is', 'no', 'attempt', 'to', 'give', 'prices', 'but', 'the', 'work', 'consists', 'of', 'very', 'comprehensive', 'system', 'of', 'rules', 'for', 'reducing', 'all', 'the', 'various', 'surfaces', 'moldings', 'balustrades', 'and', 'the', 'like', 'to', 'an', 'number', 'of', 'square', 'yards', 'of', 'plain', 'surface', 'that', 'will', 'represent', 'an', 'equal', 'cost', 'to', 'the', 'painter', 'of', 'the', 'same', 'quantity', 'of', 'work', 're', 'quired', 'to', 'be', 'done', 'It', 'is', 'therefore', 'necessary', 'only', 'to', 'measure', 'the', 'work', 'in', 'accordance', 'with', 'these', 'rules', 'and', 'apply', 'the', 'local', 'price', 'per', 'square', 'yard', 'of', 'plain', 'surface', 'which', 'is', 'governed', 'by', 'cost', 'of', 'ma', 'terial', 'and', 'labor', 'to', 'be', 'able', 'to', 'correctly', 'estimate', 'the', 'most', 'complicated', 'job', 'of', 'painting', 'In', 'addition', 'to', 'the', 'rules', 'there', 'is', 'an', 'excellent', 'glossary', 'of', 'architectural', 'terms']"
      ]
     },
     "execution_count": 17,
     "metadata": {},
     "output_type": "execute_result"
    }
   ],
   "source": [
    "toks"
   ]
  },
  {
   "cell_type": "code",
   "execution_count": 18,
   "metadata": {},
   "outputs": [],
   "source": [
    "city_dict = pickle.load(open('../data/city_dict.pkl', 'rb'))"
   ]
  },
  {
   "cell_type": "code",
   "execution_count": 19,
   "metadata": {},
   "outputs": [],
   "source": [
    "from symspellpy.symspellpy import SymSpell, Verbosity"
   ]
  },
  {
   "cell_type": "code",
   "execution_count": 20,
   "metadata": {},
   "outputs": [],
   "source": [
    "def is_part_of_pub(pub_part):\n",
    "    if (pub_part == 'and') or (pub_part =='&'):\n",
    "        return True\n",
    "    elif city_dict.lookup(pub_part.lower(), Verbosity.CLOSEST, max_edit_distance=1):\n",
    "        return False\n",
    "    else:\n",
    "        return pub_part[0].isupper()"
   ]
  },
  {
   "cell_type": "code",
   "execution_count": 21,
   "metadata": {},
   "outputs": [
    {
     "data": {
      "text/plain": [
       "True"
      ]
     },
     "execution_count": 21,
     "metadata": {},
     "output_type": "execute_result"
    }
   ],
   "source": [
    "is_part_of_pub('Egg')"
   ]
  },
  {
   "cell_type": "code",
   "execution_count": 22,
   "metadata": {},
   "outputs": [],
   "source": [
    "pubnames = []\n",
    "for e, tok in enumerate(toks):\n",
    "    if tok.replace(\",\",\"\").replace(\".\",\"\").replace('-',\"\") in pub_ends:\n",
    "        if is_part_of_pub(toks[e-1]):\n",
    "            pub_name = [tok]\n",
    "            pub_span = []\n",
    "            for pos in range(e-1, e-6, -1):\n",
    "                if toks[pos] == '.':\n",
    "                    break\n",
    "                elif not is_part_of_pub(toks[pos]):\n",
    "                    break\n",
    "                pub_name.append(toks[pos])\n",
    "                pub_span.append(pos)   \n",
    "            pubnames.append((pub_span[-1], e+1))"
   ]
  },
  {
   "cell_type": "code",
   "execution_count": 23,
   "metadata": {},
   "outputs": [
    {
     "data": {
      "text/plain": [
       "[(10, 12), (130, 132)]"
      ]
     },
     "execution_count": 23,
     "metadata": {},
     "output_type": "execute_result"
    }
   ],
   "source": [
    "pubnames"
   ]
  },
  {
   "cell_type": "code",
   "execution_count": 24,
   "metadata": {},
   "outputs": [],
   "source": [
    "def remove_duplicate_pubnames(pnlist):\n",
    "    cleaned = []\n",
    "    for e, (x, y) in enumerate(pnlist):\n",
    "        starts = [a for (a,b) in pnlist[e+1:]]\n",
    "        if x in starts:\n",
    "            pass\n",
    "        else:\n",
    "            cleaned.append(pnlist[e])\n",
    "    return cleaned"
   ]
  },
  {
   "cell_type": "code",
   "execution_count": 25,
   "metadata": {},
   "outputs": [],
   "source": [
    "cleaned = []\n",
    "for e, (x, y) in enumerate(pubnames):\n",
    "    starts = [a for (a,b) in pubnames[e+1:]]\n",
    "    if x in starts:\n",
    "        pass\n",
    "    else:\n",
    "        cleaned.append(pubnames[e])"
   ]
  },
  {
   "cell_type": "code",
   "execution_count": 26,
   "metadata": {},
   "outputs": [
    {
     "data": {
      "text/plain": [
       "[(10, 12), (130, 132)]"
      ]
     },
     "execution_count": 26,
     "metadata": {},
     "output_type": "execute_result"
    }
   ],
   "source": [
    "remove_duplicate_pubnames(pubnames)"
   ]
  },
  {
   "cell_type": "code",
   "execution_count": null,
   "metadata": {},
   "outputs": [],
   "source": []
  },
  {
   "cell_type": "code",
   "execution_count": 27,
   "metadata": {},
   "outputs": [
    {
     "name": "stdout",
     "output_type": "stream",
     "text": [
      "Wm Wood Co\n"
     ]
    },
    {
     "ename": "AttributeError",
     "evalue": "'NoneType' object has no attribute 'span'",
     "output_type": "error",
     "traceback": [
      "\u001b[0;31m---------------------------------------------------------------------------\u001b[0m",
      "\u001b[0;31mAttributeError\u001b[0m                            Traceback (most recent call last)",
      "\u001b[0;32m<ipython-input-27-6d71dd9fb604>\u001b[0m in \u001b[0;36m<module>\u001b[0;34m\u001b[0m\n\u001b[1;32m      3\u001b[0m     \u001b[0mprint\u001b[0m\u001b[0;34m(\u001b[0m\u001b[0;34m' '\u001b[0m\u001b[0;34m.\u001b[0m\u001b[0mjoin\u001b[0m\u001b[0;34m(\u001b[0m\u001b[0mtoks\u001b[0m\u001b[0;34m[\u001b[0m\u001b[0mx\u001b[0m\u001b[0;34m:\u001b[0m\u001b[0my\u001b[0m\u001b[0;34m]\u001b[0m\u001b[0;34m)\u001b[0m\u001b[0;34m)\u001b[0m\u001b[0;34m\u001b[0m\u001b[0;34m\u001b[0m\u001b[0m\n\u001b[1;32m      4\u001b[0m     \u001b[0mmatch\u001b[0m \u001b[0;34m=\u001b[0m \u001b[0mre\u001b[0m\u001b[0;34m.\u001b[0m\u001b[0msearch\u001b[0m\u001b[0;34m(\u001b[0m\u001b[0mnewname\u001b[0m\u001b[0;34m,\u001b[0m \u001b[0mreview_list\u001b[0m\u001b[0;34m[\u001b[0m\u001b[0;36m0\u001b[0m\u001b[0;34m]\u001b[0m\u001b[0;34m.\u001b[0m\u001b[0mcleaned_text\u001b[0m\u001b[0;34m)\u001b[0m\u001b[0;34m\u001b[0m\u001b[0;34m\u001b[0m\u001b[0m\n\u001b[0;32m----> 5\u001b[0;31m     \u001b[0mprint\u001b[0m\u001b[0;34m(\u001b[0m\u001b[0mmatch\u001b[0m\u001b[0;34m.\u001b[0m\u001b[0mspan\u001b[0m\u001b[0;34m(\u001b[0m\u001b[0;34m)\u001b[0m\u001b[0;34m)\u001b[0m\u001b[0;34m\u001b[0m\u001b[0;34m\u001b[0m\u001b[0m\n\u001b[0m",
      "\u001b[0;31mAttributeError\u001b[0m: 'NoneType' object has no attribute 'span'"
     ]
    }
   ],
   "source": [
    "for (x, y) in pubnames:\n",
    "    newname = ' '.join(toks[x:y])\n",
    "    print(' '.join(toks[x:y]))\n",
    "    match = re.search(newname, review_list[0].cleaned_text)\n",
    "    print(match.span())"
   ]
  },
  {
   "cell_type": "code",
   "execution_count": null,
   "metadata": {},
   "outputs": [],
   "source": [
    "any([x.isalpha() for x in ['Cassel','&','Co.']])"
   ]
  },
  {
   "cell_type": "code",
   "execution_count": 28,
   "metadata": {},
   "outputs": [],
   "source": [
    "def get_publishers(review):\n",
    "    \"\"\"\n",
    "    Takes a ReviewObj. \n",
    "    Returns a list of potential publishers. Searches using pub_ends, capitalization, and associates.\n",
    "    \n",
    "    For reference:\n",
    "    -------------\n",
    "    pub_ends = ['co','company','inc','incorporated','firm','press','group', 'pub','publishers','publishing',\n",
    "                    'publications','books','ltd','limited','society','house','associates']\n",
    "                    \n",
    "    pub_associates = ['sons','son','brother','brothers']\n",
    "    \n",
    "    \"\"\"\n",
    "    \n",
    "    pubs = []\n",
    "    spans = []\n",
    "    \n",
    "    toks = review.cleaned_toks\n",
    "    txt = review.cleaned_text\n",
    "    \n",
    "    pubnames = []\n",
    "    \n",
    "    for e, tok in enumerate(toks):\n",
    "        if tok.replace(\",\",\"\").replace(\".\",\"\") in pub_ends:\n",
    "            if is_part_of_pub(toks[e-1]):\n",
    "                pub_name = []\n",
    "                pub_span = []\n",
    "                for pos in range(e-1, e-6, -1):\n",
    "                    if toks[pos] == '.':\n",
    "                        break\n",
    "                    if not is_part_of_pub(toks[pos]):\n",
    "                        break\n",
    "                    pub_name.append(toks[pos])\n",
    "                    pub_span.append(pos)\n",
    "                if any([x.isalpha() for x in [word for word in pub_name if word !='and']]) and any([len(x)>2 for x in [word for word in pub_name if word !='and']]):\n",
    "                    pubnames.append((pub_span[-1], e+1))\n",
    "    \n",
    "    if len(pubnames) > 0:\n",
    "        for (x, y) in pubnames:\n",
    "            newname = ' '.join(toks[x:y])\n",
    "            pubs.append(newname)\n",
    "            match = re.search(newname, txt)\n",
    "            spans.append(match.span())\n",
    "\n",
    "    pubs = [PubName(word) for word in pubs]\n",
    "    \n",
    "    for pub in pubs:\n",
    "        pub.review_id = review.review_id\n",
    "    \n",
    "    for e, pub in enumerate(pubs):\n",
    "        pub.review_id = review.review_id\n",
    "        pub.review_loc = spans[e]\n",
    "    \n",
    "    return pubs"
   ]
  },
  {
   "cell_type": "code",
   "execution_count": 29,
   "metadata": {},
   "outputs": [
    {
     "name": "stdout",
     "output_type": "stream",
     "text": [
      "136726613\n",
      "['Cassell & Co.', 'E. P. Dutton & Co.', 'Thomas Y. Crowell & Co.', 'American Historical Society', 'Dunlap Society']\n",
      "\n",
      "90142613\n",
      "[]\n",
      "\n",
      "90390665\n",
      "[]\n",
      "\n",
      "124486140\n",
      "[]\n",
      "\n",
      "126315326\n",
      "[]\n",
      "\n",
      "136992742\n",
      "['Filtlh Co']\n",
      "\n",
      "137651039\n",
      "['KnRR & Co', 'PUBLrISHIING Co', 'American Geographical Society', 'B. LIPizxcoTr & Co', 'B. LpnIrrcorr & Co.']\n",
      "\n",
      "89668273\n",
      "[]\n",
      "\n",
      "136971619\n",
      "[]\n",
      "\n",
      "90313218\n",
      "[]\n",
      "\n",
      "128376070\n",
      "[]\n",
      "\n",
      "124688361\n",
      "[]\n",
      "\n",
      "124882533\n",
      "[]\n",
      "\n",
      "89639059\n",
      "[]\n",
      "\n",
      "88461015\n",
      "['Blakiston Co', 'Robert Clarke Co', 'Graphic Company']\n",
      "\n",
      "124190789\n",
      "['Century Co.', 'Slead & Co.', 'B. Lippincott Co.', 'Macmillan Co.', 'Maemillall Co.']\n",
      "\n",
      "136902134\n",
      "['Sou & Co.']\n",
      "\n",
      "90180084\n",
      "['Macmillan & Co.', 'Mifflin & Co.']\n",
      "\n",
      "137244878\n",
      "[]\n",
      "\n",
      "88721263\n",
      "[]\n",
      "\n",
      "137412078\n",
      "[]\n",
      "\n",
      "89675095\n",
      "[]\n",
      "\n",
      "760950213\n",
      "[]\n",
      "\n",
      "124217248\n",
      "['B. Lippincott Co.', 'Macmillan & Co.', 'Friend Society']\n",
      "\n",
      "853770606\n",
      "['Master House', 'Master House']\n",
      "\n",
      "137195890\n",
      "[]\n",
      "\n",
      "125727674\n",
      "[]\n",
      "\n",
      "88797650\n",
      "['Funk and Wagnails Company', 'Outing Publishing', 'Outing Publishing Company', 'Open Court Pubpishing Co', 'Sheet Metal Publishing', 'Sheet Metal Publishing Company']\n",
      "\n",
      "89649761\n",
      "['Macmillan & Co.']\n",
      "\n",
      "90967694\n",
      "[]\n",
      "\n",
      "89672866\n",
      "[]\n",
      "\n",
      "89674750\n",
      "['Shakespearean Society.', 'E. P. Dutton & Co.', 'Maynard & Co.']\n",
      "\n",
      "89635917\n",
      "['Macmillan & Co.']\n",
      "\n",
      "124196531\n",
      "[]\n",
      "\n",
      "128176513\n",
      "['William Wood Company', 'Treat Co', 'Lea Brothers Co']\n",
      "\n",
      "88477095\n",
      "['Wm Wood Co', 'Wm Wood Co Publishers']\n",
      "\n",
      "125715359\n",
      "[]\n",
      "\n",
      "124189638\n",
      "[]\n",
      "\n",
      "136887509\n",
      "[]\n",
      "\n",
      "90554411\n",
      "['The Macmillan Co.', 'E. P. Dutton & Co.']\n",
      "\n",
      "90186165\n",
      "[]\n",
      "\n",
      "125502663\n",
      "['CroweU & Co.', 'Browning Society']\n",
      "\n",
      "125724646\n",
      "[]\n",
      "\n",
      "124740955\n",
      "[]\n",
      "\n",
      "124707428\n",
      "[]\n",
      "\n",
      "89644579\n",
      "['The Macmillan Company']\n",
      "\n",
      "137072896\n",
      "['Senate and House']\n",
      "\n",
      "136685639\n",
      "[]\n",
      "\n",
      "126788760\n",
      "[]\n",
      "\n",
      "89671107\n",
      "['AtiSlin & Co.']\n",
      "\n"
     ]
    }
   ],
   "source": [
    "for filename, txt in zip([x.split('.')[0] for x in filenames],txts):\n",
    "    rev = ReviewObj(filename, txt)\n",
    "    print(filename)\n",
    "    print(get_publishers(rev))\n",
    "    print()"
   ]
  },
  {
   "cell_type": "code",
   "execution_count": 30,
   "metadata": {},
   "outputs": [
    {
     "name": "stdout",
     "output_type": "stream",
     "text": [
      "136726613\n",
      "Cassell & Co.\n",
      "E. P. Dutton & Co.\n",
      "Thomas Y. Crowell & Co.\n",
      "American Historical Society\n",
      "Dunlap Society\n",
      "\n",
      "90142613\n",
      "\n",
      "90390665\n",
      "\n",
      "124486140\n",
      "\n",
      "126315326\n",
      "136992742\n",
      "137651039\n",
      "KnRR & Co\n",
      "PUBLrISHIING Co\n",
      "American Geographical Society\n",
      "B. LIPizxcoTr & Co\n",
      "B. LpnIrrcorr & Co.\n",
      "\n",
      "89668273\n",
      "\n",
      "136971619\n",
      "90313218\n",
      "\n",
      "128376070\n",
      "\n",
      "124688361\n",
      "124882533\n",
      "\n",
      "89639059\n",
      "\n",
      "88461015\n",
      "Blakiston Co\n",
      "Robert Clarke Co\n",
      "Graphic Company\n",
      "\n",
      "124190789\n",
      "Century Co.\n",
      "Slead & Co.\n",
      "B. Lippincott Co.\n",
      "Macmillan Co.\n",
      "Maemillall Co.\n",
      "\n",
      "136902134\n",
      "Sou & Co.\n",
      "\n",
      "90180084\n",
      "Macmillan & Co.\n",
      "Mifflin & Co.\n",
      "\n",
      "137244878\n",
      "\n",
      "88721263\n",
      "137412078\n",
      "\n",
      "89675095\n",
      "\n",
      "760950213\n",
      "124217248\n",
      "B. Lippincott Co.\n",
      "Macmillan & Co.\n",
      "Friend Society\n",
      "\n",
      "853770606\n",
      "Master House\n",
      "Master House\n",
      "\n",
      "137195890\n",
      "\n",
      "125727674\n",
      "\n",
      "88797650\n",
      "Funk and Wagnails Company\n",
      "Outing Publishing Company\n",
      "Open Court Pubpishing Co\n",
      "Sheet Metal Publishing Company\n",
      "\n",
      "89649761\n",
      "Macmillan & Co.\n",
      "\n",
      "90967694\n",
      "\n",
      "89672866\n",
      "\n",
      "89674750\n",
      "Shakespearean Society.\n",
      "E. P. Dutton & Co.\n",
      "Maynard & Co.\n",
      "\n",
      "89635917\n",
      "Macmillan & Co.\n",
      "\n",
      "124196531\n",
      "\n",
      "128176513\n",
      "William Wood Company\n",
      "Treat Co\n",
      "Lea Brothers Co\n",
      "\n",
      "88477095\n",
      "125715359\n",
      "\n",
      "124189638\n",
      "\n",
      "136887509\n",
      "\n",
      "90554411\n",
      "The Macmillan Co.\n",
      "E. P. Dutton & Co.\n",
      "\n",
      "90186165\n",
      "\n",
      "125502663\n",
      "CroweU & Co.\n",
      "Browning Society\n",
      "\n",
      "125724646\n",
      "\n",
      "124740955\n",
      "\n",
      "124707428\n",
      "89644579\n",
      "The Macmillan Company\n",
      "\n",
      "137072896\n",
      "Senate and House\n",
      "\n",
      "136685639\n",
      "\n",
      "126788760\n",
      "\n",
      "89671107\n",
      "AtiSlin & Co.\n",
      "\n"
     ]
    }
   ],
   "source": [
    "for filename, txt in zip([x.split('.')[0] for x in filenames],txts):\n",
    "    rev = ReviewObj(filename, txt)\n",
    "    print(filename)\n",
    "    if rev.person_names:\n",
    "        for x in rev.pub_names:\n",
    "            print(x)\n",
    "        print()"
   ]
  },
  {
   "cell_type": "markdown",
   "metadata": {},
   "source": [
    "## Part 1: Person Names"
   ]
  },
  {
   "cell_type": "code",
   "execution_count": 31,
   "metadata": {},
   "outputs": [],
   "source": [
    "titles = \"\"\"Doctor,Dr,Mr,Mrs,Miss,Msgr,Monsignor,Rev,Reverend,Hon,Honorable,Honourable,Prof,Professor,Madame,Madam,Lady,Lord,Sir,Dame,Master,Mistress,Princess,Prince,Duke,Duchess,Baron,Father,Chancellor,Principal,President,Pres,Warden,Dean,Regent,Rector,Provost,Director\n",
    "\"\"\""
   ]
  },
  {
   "cell_type": "code",
   "execution_count": 32,
   "metadata": {},
   "outputs": [],
   "source": [
    "titles = titles.rstrip().split(',')"
   ]
  },
  {
   "cell_type": "code",
   "execution_count": 33,
   "metadata": {},
   "outputs": [],
   "source": [
    "title_list = '\\.?\\s(?=[A-Z])|'.join(titles)"
   ]
  },
  {
   "cell_type": "code",
   "execution_count": 34,
   "metadata": {},
   "outputs": [],
   "source": [
    "def remove_punct_not_following_title_or_initial(name):\n",
    "    name_parts = name.split()\n",
    "    cleaned_name = []\n",
    "    for part in name_parts:\n",
    "        if part[-1] in '!\"#$%&\\'()*+,-./:;<=>?@[\\\\]^_`{|}~':\n",
    "            if (len(part)>2) and (part[:-1] not in titles):\n",
    "                cleaned_name.append(part[:-1])\n",
    "            else:\n",
    "                cleaned_name.append(part)\n",
    "        else:\n",
    "            cleaned_name.append(part)\n",
    "    return ' '.join(cleaned_name)"
   ]
  },
  {
   "cell_type": "code",
   "execution_count": 35,
   "metadata": {},
   "outputs": [],
   "source": [
    "def clean_name(name):\n",
    "    name = remove_punct_not_following_title_or_initial(name)\n",
    "    cleaned_name = []\n",
    "    return ' '.join([word for word in name.split() if (word[0].isalpha())])"
   ]
  },
  {
   "cell_type": "code",
   "execution_count": 36,
   "metadata": {},
   "outputs": [],
   "source": [
    "def getCapitalizedWords(txt):\n",
    "    \"\"\"\n",
    "    Returns strings of capitalized words up 3 words long. \n",
    "    Removes words/phrases containing stopwords and words found later in the text lowercased.\n",
    "    \"\"\"\n",
    "    #listen idk why it won't just let me put in an optional repeat either\n",
    "    all_words = []\n",
    "    \n",
    "    #three words\n",
    "    all_words.extend([match for match in re.findall('[A-Z]\\S* [A-Z]\\S* [A-Z]\\S+', txt) if \n",
    "                      all([(remove_punct(word).lower() not in stopword_list) for word in match.split()]) \n",
    "                      and all([(remove_punct(word).lower() not in txt) for word in match.split()])])\n",
    "    \n",
    "    #two words\n",
    "    two_words = [match for match in re.findall('[A-Z]\\S* [A-Z]\\S+', txt) if \n",
    "                      all([(remove_punct(word).lower() not in stopword_list) for word in match.split()]) \n",
    "                      and all([(remove_punct(word).lower() not in txt) for word in match.split()])\n",
    "                      and all([match not in x for x in all_words])]\n",
    "    \n",
    "    all_words.extend(two_words)\n",
    "    \n",
    "    #one word\n",
    "    one_words = [match for match in re.findall('[A-Z]\\S+', txt) if \n",
    "                      (remove_punct(match).lower() not in stopword_list) \n",
    "                      and (remove_punct(match).lower() not in txt)\n",
    "                      and all([match not in x for x in all_words])]\n",
    "    \n",
    "    all_words.extend(one_words)\n",
    "    \n",
    "    return [word for word in [' '.join([removePunct(y) for y in x.split() if remove_punct(y) not in titles]) \n",
    "                      for x in all_words] if (len(word)>1)]"
   ]
  },
  {
   "cell_type": "code",
   "execution_count": 37,
   "metadata": {},
   "outputs": [],
   "source": [
    "def consolidateNames(name_list):\n",
    "    \"\"\"\n",
    "    Takes list of AuthNames and returns list of lists, consolidating by likely identical authors.\n",
    "    \"\"\"\n",
    "    name_set = []\n",
    "    used_indices = []\n",
    "    last_names = sorted([name.last_name for name in name_list], key=len)\n",
    "    \n",
    "    for i, name in enumerate(last_names):\n",
    "        if i not in used_indices:\n",
    "            full_name = [x for x in name_list if x.last_name == name][0]\n",
    "            name_holder = [full_name]\n",
    "            for j, name2 in enumerate(last_names):\n",
    "                full_name2 = [x for x in name_list if x.last_name == name2][0]\n",
    "                if (i < (len(last_names) - 1)) and (i!=j):\n",
    "                    if (edit_distance(name, name2[:len(name)+1]) < 2) and (j not in used_indices):\n",
    "                        if (full_name.first_initial==full_name2.first_initial and full_name.middle_initial==full_name2.middle_initial or full_name.title==full_name2.title) or (full_name.first_initial==full_name2.first_initial or full_name.middle_initial==full_name2.middle_initial and full_name.title==full_name2.title):\n",
    "                            name_holder.append(full_name2)\n",
    "                            used_indices.append(j)\n",
    "            used_indices.append(i)\n",
    "            name_set.append(name_holder)\n",
    "    \n",
    "    return name_set                  "
   ]
  },
  {
   "cell_type": "code",
   "execution_count": 38,
   "metadata": {},
   "outputs": [],
   "source": [
    "def obscure_matches(self, name = 'ex'):\n",
    "    text_list = list(self.cleaned_text)\n",
    "    if name == 'pub':\n",
    "        for (x, y) in [pub.review_loc for pub in self.pub_names]:\n",
    "            text_list[x:y] = list(len(self.cleaned_text[x:y]) * '@')\n",
    "    if name == 'person':\n",
    "        for (x, y) in [pers.review_loc for pers in self.person_names]:\n",
    "            text_list[x:y] = list(len(self.cleaned_text[x:y]) * '@')\n",
    "    return ''.join(text_list)"
   ]
  },
  {
   "cell_type": "code",
   "execution_count": 39,
   "metadata": {},
   "outputs": [
    {
     "data": {
      "text/plain": [
       "\"Book Reviews Tuberculosis or Consumption By Spiers Oberlin Price The subject-matter of this monograph has appeared mainly in the pages of the Lancet-Clinic The author looks upon the disease as one dependent upon the evils of civilization and is in accord with atmospheric environments which may be from within or from without and cause depraved tissue or dyscrasia The Medical Record Visiting ListPhysician's Diary New York @@@@@@@@@@@@@@@@@@@@@ This is an excellent list in fact one of the best of the class of publications that is absolutely necessary for the physician s use being revised and made into modern up-to-date list in every particular The Physicians ' Pocket Account-Book Issued by the Medical Council of Philadelphia This is very practical book little larger and little more complete than the ordinary visiting-list of the past and is intended to answer the purposes of ledger as well as visiting list\""
      ]
     },
     "execution_count": 39,
     "metadata": {},
     "output_type": "execute_result"
    }
   ],
   "source": [
    "obscure_matches(review_list[35], name = 'pub')"
   ]
  },
  {
   "cell_type": "code",
   "execution_count": 40,
   "metadata": {},
   "outputs": [
    {
     "data": {
      "text/plain": [
       "'LITERARY NOTES.  - The Chautauqua department of \" Wide Awake \" is now published separately.  - Mr. Charles Dudley Warner has written for \" The North American Review \" a paper on prison .  - Mr. Vedder\\'s illustrations of the \" Rubfilyfit \" have found a great admirer in the Queen of Italy.  - @@@@@@@@@@@@@ sill shortly publish a \" Dictionary of English, \" by Sidney J. Low and F. S. Pulling.  - Professor Thorold Rogers is writing a worL on the \" of the Privileges of British Citizenship. \"   -   \" Mollie Carew \" is the title of a pleasant story by A. M. W., just published by @@@@@@@@@@@@@@@@@@, New Yor \\' .   -  . - rs. (MISS i ) nas written tne article on Mrs. Browning for the new \" Biograpbical Dictionary. \"  - Chatto & Windus, the Engllsh publishers, will issue during the coming season the collected essays of Mr. Swinburne.  - Dr. William \\' M. Taylor\\'s \" Life of John Knox \" is announced for early by A. C. Armstrong & Sons, New York.  - The \" Athenmum \" reports that Mark Twain will vis t England In Mfay, for the purpose of giving readings from bis own writings.  - The \" X1 of Paris \" and \" Daiid Conperfeld, \" I1lustrated and sold in penny numbers, are running neck and neck in Erance.  - The Appletons \\' new twenty-five-cent series of Popular Stories has proved a decided success, and has certainly included Eome striking novels.  - Dr. Geor6 Ebers \\' latest romance, \\'   -   Serapls, \" has been translated into English by Clara Bell, and published by W. S. Gottaberger, of this city.  - The \" Springlield Republican \" has arranged for a of short stories by EngUsb, tobe published In its Sunday edition. s-Mr. Julian Hawthorne has written a new story, entitled \" The Trial of Gideon, \" which Is to be by Funk & Wagnalls some time during the spring.  - Mr. Julius Chambers, a Philadelphia journalist, is the author of the novel \" On a Margin, \" published by.Forda, Howard &, and which is having a large tale.  - The \" Works of Virgil, \" with nores by Edward Searing, will shortly be \\' by A. S. Barnes & Co., New York, In a single illustrated volume of 719 pages.  - A new department is to be added to the \" North American Review, \" including letters commenting upon articles which have appeared in the \" R Review. \"  - The third series of the Johns Hopkins Studies in Histor. ical and Political Science begi: a with the publication of Dr. i. B. Adams\\'s paper on \" Maryland\\'s Influence upon Cessions to the United Statts. \"  - Ginn, Heath & Co. will publish at once Pestalozi \\' a \" Leonard and Gertrude, \" translated and abridged by Eva Channing, with an introduction by G. Stanley Ifail. This is the second volume of the series of \" Educational Classics. \"  - A posthumous study. of Victor Hugo by the eminent French critic, Paul de St. Victor, has been recently announced. It at length the decay ot Victor Hugo \\' e influence and the rise of the or realistic school in France.  - E. P. Dutton & Cov will Issue, in season for Easter gifts, several little books with . Awougthese will be an edition of Bryant\\'s poem, \" The Unknown Way, \" illustrated; \" The Celestial Country. \" and a little book of selections called \"   -   Friend to Friend. \"  - The Boston \" Literary World \" of February 21 contains a long and careful y prepared article on Amiel. Amid was the subject of a recent article In the \" Atlantic Monthly, \" and his two volumes of \" fragments, \" which have now reached a third edition, are beginning to attract on this side of the Atlantic.  - @@@@@@@@@@@@@@@@@@@@@@@, New York, have Issued the prospectus of a work of great value to literary workers and to all interested in literary themes, \" Initials and Pseudonyms: a Dictionary of LiteraryDisguises, \" edited by William Cuawing. Mr. Cushing was formerly in the Harvard Lbrary, and has done some admirable work as an indexer.  - The first publications in the papers of the @@@@@@@@@@@@@@@@@@@@@@@@@@@ (New York: (G. P. PutnaWs \\' dons) ate the report of the  - I Organization and Proceedings at Saratoga \" last September, prepared by Dr. Herbert B. Adam. as Secretary, and the address on \" Studies in General History and the History of Civilization, \" delivered on that by President Andrew D. White.  - In addition to the articles on the engagement between the \" Monitor \" and the  - Merrimac, \" written by officers of both vessels, which appear in the March number of \" The Century, \" CaptainEriceson be printed in an early number of the same magazine, making record of the circumstances attending the invention of the \" Mionitor, \" and treating ao of the engagement in Hampton Roads.  - A society in the interest of dramatic history has been organized in this city, and proposes to study and publish books concerning the stage, to collect portraits of American actors. play-bills. manuscripts, autographs, and other mattems of interest to the student of the American drama. It Is to be called the @@@@@@@@@@@@@@, In recognition of the student and historian of the American stage. Mr. Brander Matthews, of this city, is to he Secretary.  - The February number of \" The Pulpit of To-Day \" sermons by Canon Liddon on \" Mysteries in Religion, \" CanonFarrar on \" Spirituality, \" Henry Ward Beecher on \" The Natural and the Spiritual, \" and \" The Use and Abnse . \" Dr. Joseph Parktercontinueshiseipositionuin the Book of Genesis, and Professor E. Johnsou contributes one of his characteristic studies. Among the framework there are outlines by Dr. Malaren, Dr. Parker, a . Spurga and   -  '"
      ]
     },
     "execution_count": 40,
     "metadata": {},
     "output_type": "execute_result"
    }
   ],
   "source": [
    "review_list[0].no_pubs_text"
   ]
  },
  {
   "cell_type": "code",
   "execution_count": 57,
   "metadata": {},
   "outputs": [],
   "source": [
    "cleaned_text = review_list[0].cleaned_text"
   ]
  },
  {
   "cell_type": "code",
   "execution_count": 60,
   "metadata": {},
   "outputs": [],
   "source": [
    "text_list = list(cleaned_text)"
   ]
  },
  {
   "cell_type": "code",
   "execution_count": 62,
   "metadata": {},
   "outputs": [
    {
     "name": "stdout",
     "output_type": "stream",
     "text": [
      "['C', 'a', 's', 's', 'e', 'l', 'l', ' ', '&', ' ', 'C', 'o', '.']\n",
      "@@@@@@@@@@@@@\n",
      "['E', '.', ' ', 'P', '.', ' ', 'D', 'u', 't', 't', 'o', 'n', ' ', '&', ' ', 'C', 'o', '.']\n",
      "@@@@@@@@@@@@@@@@@@\n",
      "['T', 'h', 'o', 'm', 'a', 's', ' ', 'Y', '.', ' ', 'C', 'r', 'o', 'w', 'e', 'l', 'l', ' ', '&', ' ', 'C', 'o', '.']\n",
      "@@@@@@@@@@@@@@@@@@@@@@@\n",
      "['A', 'm', 'e', 'r', 'i', 'c', 'a', 'n', ' ', 'H', 'i', 's', 't', 'o', 'r', 'i', 'c', 'a', 'l', ' ', 'S', 'o', 'c', 'i', 'e', 't', 'y']\n",
      "@@@@@@@@@@@@@@@@@@@@@@@@@@@\n",
      "['D', 'u', 'n', 'l', 'a', 'p', ' ', 'S', 'o', 'c', 'i', 'e', 't', 'y']\n",
      "@@@@@@@@@@@@@@\n"
     ]
    }
   ],
   "source": [
    "for (x, y) in [x.review_loc for x in review_list[0].pub_names]:\n",
    "    print(text_list[x:y])\n",
    "    print(len(review_list[0].cleaned_text[x:y]) * '@')\n",
    "    text_list[x:y] = list(len(review_list[0].cleaned_text[x:y]) * '@')"
   ]
  },
  {
   "cell_type": "code",
   "execution_count": 64,
   "metadata": {},
   "outputs": [
    {
     "data": {
      "text/plain": [
       "'LITERARY NOTES.  - The Chautauqua department of \" Wide Awake \" is now published separately.  - Mr. Charles Dudley Warner has written for \" The North American Review \" a paper on prison .  - Mr. Vedder\\'s illustrations of the \" Rubfilyfit \" have found a great admirer in the Queen of Italy.  - @@@@@@@@@@@@@ sill shortly publish a \" Dictionary of English, \" by Sidney J. Low and F. S. Pulling.  - Professor Thorold Rogers is writing a worL on the \" of the Privileges of British Citizenship. \"   -   \" Mollie Carew \" is the title of a pleasant story by A. M. W., just published by @@@@@@@@@@@@@@@@@@, New Yor \\' .   -  . - rs. (MISS i ) nas written tne article on Mrs. Browning for the new \" Biograpbical Dictionary. \"  - Chatto & Windus, the Engllsh publishers, will issue during the coming season the collected essays of Mr. Swinburne.  - Dr. William \\' M. Taylor\\'s \" Life of John Knox \" is announced for early by A. C. Armstrong & Sons, New York.  - The \" Athenmum \" reports that Mark Twain will vis t England In Mfay, for the purpose of giving readings from bis own writings.  - The \" X1 of Paris \" and \" Daiid Conperfeld, \" I1lustrated and sold in penny numbers, are running neck and neck in Erance.  - The Appletons \\' new twenty-five-cent series of Popular Stories has proved a decided success, and has certainly included Eome striking novels.  - Dr. Geor6 Ebers \\' latest romance, \\'   -   Serapls, \" has been translated into English by Clara Bell, and published by W. S. Gottaberger, of this city.  - The \" Springlield Republican \" has arranged for a of short stories by EngUsb, tobe published In its Sunday edition. s-Mr. Julian Hawthorne has written a new story, entitled \" The Trial of Gideon, \" which Is to be by Funk & Wagnalls some time during the spring.  - Mr. Julius Chambers, a Philadelphia journalist, is the author of the novel \" On a Margin, \" published by.Forda, Howard &, and which is having a large tale.  - The \" Works of Virgil, \" with nores by Edward Searing, will shortly be \\' by A. S. Barnes & Co., New York, In a single illustrated volume of 719 pages.  - A new department is to be added to the \" North American Review, \" including letters commenting upon articles which have appeared in the \" R Review. \"  - The third series of the Johns Hopkins Studies in Histor. ical and Political Science begi: a with the publication of Dr. i. B. Adams\\'s paper on \" Maryland\\'s Influence upon Cessions to the United Statts. \"  - Ginn, Heath & Co. will publish at once Pestalozi \\' a \" Leonard and Gertrude, \" translated and abridged by Eva Channing, with an introduction by G. Stanley Ifail. This is the second volume of the series of \" Educational Classics. \"  - A posthumous study. of Victor Hugo by the eminent French critic, Paul de St. Victor, has been recently announced. It at length the decay ot Victor Hugo \\' e influence and the rise of the or realistic school in France.  - E. P. Dutton & Cov will Issue, in season for Easter gifts, several little books with . Awougthese will be an edition of Bryant\\'s poem, \" The Unknown Way, \" illustrated; \" The Celestial Country. \" and a little book of selections called \"   -   Friend to Friend. \"  - The Boston \" Literary World \" of February 21 contains a long and careful y prepared article on Amiel. Amid was the subject of a recent article In the \" Atlantic Monthly, \" and his two volumes of \" fragments, \" which have now reached a third edition, are beginning to attract on this side of the Atlantic.  - @@@@@@@@@@@@@@@@@@@@@@@, New York, have Issued the prospectus of a work of great value to literary workers and to all interested in literary themes, \" Initials and Pseudonyms: a Dictionary of LiteraryDisguises, \" edited by William Cuawing. Mr. Cushing was formerly in the Harvard Lbrary, and has done some admirable work as an indexer.  - The first publications in the papers of the @@@@@@@@@@@@@@@@@@@@@@@@@@@ (New York: (G. P. PutnaWs \\' dons) ate the report of the  - I Organization and Proceedings at Saratoga \" last September, prepared by Dr. Herbert B. Adam. as Secretary, and the address on \" Studies in General History and the History of Civilization, \" delivered on that by President Andrew D. White.  - In addition to the articles on the engagement between the \" Monitor \" and the  - Merrimac, \" written by officers of both vessels, which appear in the March number of \" The Century, \" CaptainEriceson be printed in an early number of the same magazine, making record of the circumstances attending the invention of the \" Mionitor, \" and treating ao of the engagement in Hampton Roads.  - A society in the interest of dramatic history has been organized in this city, and proposes to study and publish books concerning the stage, to collect portraits of American actors. play-bills. manuscripts, autographs, and other mattems of interest to the student of the American drama. It Is to be called the @@@@@@@@@@@@@@, In recognition of the student and historian of the American stage. Mr. Brander Matthews, of this city, is to he Secretary.  - The February number of \" The Pulpit of To-Day \" sermons by Canon Liddon on \" Mysteries in Religion, \" CanonFarrar on \" Spirituality, \" Henry Ward Beecher on \" The Natural and the Spiritual, \" and \" The Use and Abnse . \" Dr. Joseph Parktercontinueshiseipositionuin the Book of Genesis, and Professor E. Johnsou contributes one of his characteristic studies. Among the framework there are outlines by Dr. Malaren, Dr. Parker, a . Spurga and   -  '"
      ]
     },
     "execution_count": 64,
     "metadata": {},
     "output_type": "execute_result"
    }
   ],
   "source": [
    "''.join(text_list)"
   ]
  },
  {
   "cell_type": "code",
   "execution_count": 39,
   "metadata": {},
   "outputs": [],
   "source": [
    "def get_names_following_titles(review):\n",
    "    \"\"\"\n",
    "    Returns names following titles - specifically capitalized titles followed by capitalized names.\n",
    "    Names can be any number of words in length, and can include punctuation.\n",
    "    \n",
    "    \"\"\"\n",
    "    names = []\n",
    "    spans = []\n",
    "    \n",
    "    txt = review.cleaned_text\n",
    "\n",
    "    iterx = re.finditer(title_list, txt)\n",
    "    indices = [(m.start(), m.group()) for m in iterx]\n",
    "    \n",
    "    for e, index in enumerate(indices):\n",
    "        \n",
    "        if (e==len(indices)-1):\n",
    "            end_index = -1\n",
    "        else:\n",
    "            end_index = indices[e+1][0]\n",
    "        \n",
    "        end_span = len(txt[indices[e][0]:end_index])   \n",
    "        get_match = re.finditer('[A-Z]\\w+[^A-Z]|[A-Z].[^A-Z]', txt[indices[e][0]:end_index])\n",
    "        matches = [(m.span(), m.group()) for m in get_match]\n",
    "        matches.reverse()\n",
    "        \n",
    "        for n, m in enumerate(matches):\n",
    "            if n<len(matches)-1:\n",
    "                if (m[0][1] != matches[n-1][0][0]):\n",
    "                    end_span = m[0][1]\n",
    "        \n",
    "        result = txt[indices[e][0]:(indices[e][0] + end_span - 1)]\n",
    "        \n",
    "        if len(result) > len(indices[e][1]):\n",
    "            names.append(txt[indices[e][0]:(indices[e][0] + end_span - 1)])\n",
    "            spans.append(indices[e][0])\n",
    "        \n",
    "    names = [word.replace(\"'s\", \"\") for word in names]\n",
    "    names = [PersonName(clean_name(word)) for word in names]\n",
    "    \n",
    "    for e, name in enumerate(names):\n",
    "        name.review_id = review.review_id\n",
    "        name.review_loc = (spans[e], spans[e]+len(name))\n",
    "    \n",
    "    return names"
   ]
  },
  {
   "cell_type": "code",
   "execution_count": 46,
   "metadata": {},
   "outputs": [
    {
     "data": {
      "text/plain": [
       "[Professor Brastow]"
      ]
     },
     "execution_count": 46,
     "metadata": {},
     "output_type": "execute_result"
    }
   ],
   "source": [
    "get_names_following_titles(review_list[20])"
   ]
  },
  {
   "cell_type": "markdown",
   "metadata": {},
   "source": [
    "## ReviewObject"
   ]
  },
  {
   "cell_type": "code",
   "execution_count": null,
   "metadata": {},
   "outputs": [],
   "source": [
    "# class ReviewObj():\n",
    "    \n",
    "#     def __findnames(self):\n",
    "#         self.pub_names = get_publishers(self)\n",
    "#         self.person_names = get_names_following_titles(self)\n",
    "        \n",
    "#     def __init__(self, aps_id, txt):\n",
    "#         self.review_id = aps_id\n",
    "#         self.original_text = txt\n",
    "#         self.cleaned_text = preprocess_text(txt)\n",
    "        \n",
    "#         self.__findnames()"
   ]
  },
  {
   "cell_type": "code",
   "execution_count": null,
   "metadata": {},
   "outputs": [],
   "source": [
    "# review_ex = ReviewObj(136726613, txts[0])"
   ]
  },
  {
   "cell_type": "code",
   "execution_count": null,
   "metadata": {},
   "outputs": [],
   "source": [
    "# for x in review_ex.person_names:\n",
    "#     print(x)"
   ]
  },
  {
   "cell_type": "code",
   "execution_count": null,
   "metadata": {},
   "outputs": [],
   "source": [
    "# for filename, txt in zip([x.split('.')[0] for x in filenames],txts):\n",
    "#     rev = ReviewObj(filename, txt)\n",
    "#     print(filename)\n",
    "#     if rev.person_names:\n",
    "#         for x in rev.person_names:\n",
    "#             print(x)\n",
    "#         print()"
   ]
  },
  {
   "cell_type": "code",
   "execution_count": null,
   "metadata": {},
   "outputs": [],
   "source": [
    "# for x in review_ex.person_names:\n",
    "#     print(x)"
   ]
  },
  {
   "cell_type": "code",
   "execution_count": null,
   "metadata": {},
   "outputs": [],
   "source": []
  },
  {
   "cell_type": "markdown",
   "metadata": {},
   "source": [
    "spacy NLP object steal their code"
   ]
  },
  {
   "cell_type": "code",
   "execution_count": null,
   "metadata": {},
   "outputs": [],
   "source": [
    "# for txt, filename in zip(txts, [x.split('.')[0] for x in filenames]):\n",
    "#     print(filename)\n",
    "#     docnames = get_names_following_titles(txt, filename)\n",
    "#     for name in docnames:\n",
    "#         print(name, name.review_loc)\n",
    "#     print()"
   ]
  },
  {
   "cell_type": "markdown",
   "metadata": {},
   "source": [
    "## Goals\n",
    "Make each Person name aware of others and able to check for potential matches?"
   ]
  },
  {
   "cell_type": "code",
   "execution_count": null,
   "metadata": {},
   "outputs": [],
   "source": []
  }
 ],
 "metadata": {
  "kernelspec": {
   "display_name": "Python 3",
   "language": "python",
   "name": "python3"
  },
  "language_info": {
   "codemirror_mode": {
    "name": "ipython",
    "version": 3
   },
   "file_extension": ".py",
   "mimetype": "text/x-python",
   "name": "python",
   "nbconvert_exporter": "python",
   "pygments_lexer": "ipython3",
   "version": "3.6.5"
  }
 },
 "nbformat": 4,
 "nbformat_minor": 2
}
