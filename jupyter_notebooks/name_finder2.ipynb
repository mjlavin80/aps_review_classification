{
 "cells": [
  {
   "cell_type": "code",
   "execution_count": 1,
   "metadata": {},
   "outputs": [],
   "source": [
    "import sys\n",
    "sys.path.append('../')"
   ]
  },
  {
   "cell_type": "code",
   "execution_count": 2,
   "metadata": {
    "scrolled": true
   },
   "outputs": [],
   "source": [
    "from application.name_obj_classes import PubName, PersonName, remove_punct"
   ]
  },
  {
   "cell_type": "code",
   "execution_count": 3,
   "metadata": {},
   "outputs": [],
   "source": [
    "from application.text_preprocessing import preprocess_text"
   ]
  },
  {
   "cell_type": "code",
   "execution_count": 4,
   "metadata": {},
   "outputs": [
    {
     "name": "stdout",
     "output_type": "stream",
     "text": [
      "Pretty printing has been turned OFF\n"
     ]
    }
   ],
   "source": [
    "import os\n",
    "import pandas as pd\n",
    "import re\n",
    "from collections import Counter\n",
    "import numpy as np\n",
    "import pickle\n",
    "from nltk.metrics import edit_distance\n",
    "%pprint"
   ]
  },
  {
   "cell_type": "code",
   "execution_count": 5,
   "metadata": {},
   "outputs": [],
   "source": [
    "# loading in files\n",
    "directory = \"../../aps_reviews_50/aps_reviews/\"\n",
    "filenames = os.listdir(directory)\n",
    "txts = []\n",
    "for file in filenames:\n",
    "    with open(directory + file) as f:\n",
    "        txts.append(f.read())"
   ]
  },
  {
   "cell_type": "code",
   "execution_count": 6,
   "metadata": {},
   "outputs": [
    {
     "data": {
      "text/plain": [
       "['136726613', '90142613', '90390665', '124486140', '126315326', '136992742', '137651039', '89668273', '136971619', '90313218', '128376070', '124688361', '124882533', '89639059', '88461015', '124190789', '136902134', '90180084', '137244878', '88721263', '137412078', '89675095', '760950213', '124217248', '853770606', '137195890', '125727674', '88797650', '89649761', '90967694', '89672866', '89674750', '89635917', '124196531', '128176513', '88477095', '125715359', '124189638', '136887509', '90554411', '90186165', '125502663', '125724646', '124740955', '124707428', '89644579', '137072896', '136685639', '126788760', '89671107']"
      ]
     },
     "execution_count": 6,
     "metadata": {},
     "output_type": "execute_result"
    }
   ],
   "source": [
    "[x.split('.')[0] for x in filenames]"
   ]
  },
  {
   "cell_type": "markdown",
   "metadata": {},
   "source": [
    "## Part 1: Publisher Names"
   ]
  },
  {
   "cell_type": "code",
   "execution_count": 7,
   "metadata": {},
   "outputs": [],
   "source": [
    "def clean_pub_matches(match_list):\n",
    "    cleaned_matches = []\n",
    "    for match in match_list:\n",
    "        index_to_start = 0\n",
    "        for i, x in enumerate(match[1].split()):\n",
    "            if x[0].islower() and x[0]!='&':\n",
    "                index_to_start = i+1\n",
    "        cleaned_matches.append(' '.join(match[1].split()[index_to_start:]))\n",
    "    return cleaned_matches"
   ]
  },
  {
   "cell_type": "code",
   "execution_count": 8,
   "metadata": {},
   "outputs": [],
   "source": [
    "def remove_dash_for_pub(pub_match):\n",
    "    return re.sub(r'(?<!/w)-(?!/w)', '', pub_match)"
   ]
  },
  {
   "cell_type": "code",
   "execution_count": 9,
   "metadata": {},
   "outputs": [],
   "source": [
    "def get_publishers(text, aps_id):\n",
    "    \"\"\"\n",
    "    Takes a text and its aps_id. Both inputs are required.\n",
    "    Returns a list of potential publishers. Searches using pub_ends, capitalization, and associates.\n",
    "    \n",
    "    For reference:\n",
    "    -------------\n",
    "    pub_ends = ['co','company','inc','incorporated','firm','press','group', 'pub','publishers','publishing',\n",
    "                    'publications','books','ltd','limited','society','house','associates']\n",
    "                    \n",
    "    pub_associates = ['sons','son','brother','brothers']\n",
    "    \n",
    "    \"\"\"\n",
    "    \n",
    "    pubs = []\n",
    "    \n",
    "    # iter only works once before emptying\n",
    "    p_iter = re.finditer(pub_ends_list, txts[0])\n",
    "    p_indices = [(m.end(), m.group()) for m in p_iter]\n",
    "    \n",
    "    for i, index in enumerate(p_indices):\n",
    "        try:\n",
    "            if (i<len(p_indices)+1):\n",
    "                match = re.finditer(\"(?<= [^A-Z&\\.])[\\S]{,10} ?[A-Z][\\w&. ]*?\" + index[1] + '(?!\\w)', \n",
    "                                txts[0][p_indices[i-1][0]:(p_indices[i][0] + 1)])\n",
    "                all_matches = [(m.end(), remove_dash_for_pub(m.group())) for m in match]\n",
    "                if len(all_matches) > 0: \n",
    "                    pubs.extend(clean_pub_matches(all_matches))\n",
    "        except:\n",
    "            pass\n",
    "\n",
    "    pubs = [PubName(word) for word in pubs]\n",
    "    \n",
    "    for pub in pubs:\n",
    "        pub.review_id = aps_id\n",
    "    \n",
    "    return pubs"
   ]
  },
  {
   "cell_type": "code",
   "execution_count": null,
   "metadata": {},
   "outputs": [],
   "source": []
  },
  {
   "cell_type": "markdown",
   "metadata": {},
   "source": [
    "## Part 1: Person Names"
   ]
  },
  {
   "cell_type": "code",
   "execution_count": 10,
   "metadata": {},
   "outputs": [],
   "source": [
    "titles = \"\"\"Doctor,Dr,Mr,Mrs,Miss,Msgr,Monsignor,Rev,Reverend,Hon,Honorable,Honourable,Prof,Professor,Madame,Madam,Lady,Lord,Sir,Dame,Master,Mistress,Princess,Prince,Duke,Duchess,Baron,Father,Chancellor,Principal,President,Pres,Warden,Dean,Regent,Rector,Provost,Director\n",
    "\"\"\""
   ]
  },
  {
   "cell_type": "code",
   "execution_count": 11,
   "metadata": {},
   "outputs": [],
   "source": [
    "titles = titles.rstrip().split(',')"
   ]
  },
  {
   "cell_type": "code",
   "execution_count": 37,
   "metadata": {},
   "outputs": [],
   "source": [
    "title_list = '\\.?\\s(?=[A-Z])|'.join(titles)"
   ]
  },
  {
   "cell_type": "code",
   "execution_count": 13,
   "metadata": {},
   "outputs": [],
   "source": [
    "def remove_periods_not_following_title_or_initial(name):\n",
    "    name_parts = name.split()\n",
    "    cleaned_name = []\n",
    "    for part in name_parts:\n",
    "        if (len(part)>2) and (part.endswith('.')) and (part[:-1] not in titles):\n",
    "            cleaned_name.append(part[:-1])\n",
    "        else:\n",
    "            cleaned_name.append(part)\n",
    "    return ' '.join(cleaned_name)"
   ]
  },
  {
   "cell_type": "code",
   "execution_count": 14,
   "metadata": {},
   "outputs": [],
   "source": [
    "def clean_text_for_name_search(txt):\n",
    "    \"\"\"\n",
    "    Removes all non-newline whitespace and adds spaces around commas, semicolons, and colons.\n",
    "    \"\"\"\n",
    "    #delete extra whitespace\n",
    "    txt = re.sub(' +',' ',txt)\n",
    "    \n",
    "    #delete characters that should never be in this dataset (i think)\n",
    "    txt = re.sub(\"\\\\'\\(\\)\\*/<=>@\\[\\]^_`\\|~\",\"\",txt)\n",
    "    \n",
    "    #adding space around certain punctuation\n",
    "    txt = re.sub(',',' , ',txt)\n",
    "    txt = re.sub(';',' ; ',txt)\n",
    "    txt = re.sub(':',' : ',txt)\n",
    "    txt = re.sub('\"',' \" ',txt)\n",
    "    txt = re.sub(\"'(?!s)\",\" ' \" ,txt)\n",
    "    return txt"
   ]
  },
  {
   "cell_type": "code",
   "execution_count": 15,
   "metadata": {},
   "outputs": [],
   "source": [
    "def clean_name(name):\n",
    "    cleaned_name = []\n",
    "    return ' '.join([word for word in name.split() if (word[0].isalpha())])"
   ]
  },
  {
   "cell_type": "code",
   "execution_count": 16,
   "metadata": {},
   "outputs": [],
   "source": [
    "match = re.match('.', txts[0])"
   ]
  },
  {
   "cell_type": "code",
   "execution_count": 17,
   "metadata": {},
   "outputs": [
    {
     "data": {
      "text/plain": [
       "(0, 1)"
      ]
     },
     "execution_count": 17,
     "metadata": {},
     "output_type": "execute_result"
    }
   ],
   "source": [
    "match.span()"
   ]
  },
  {
   "cell_type": "code",
   "execution_count": 18,
   "metadata": {},
   "outputs": [],
   "source": [
    "def getCapitalizedWords(txt):\n",
    "    \"\"\"\n",
    "    Returns strings of capitalized words up 3 words long. \n",
    "    Removes words/phrases containing stopwords and words found later in the text lowercased.\n",
    "    \"\"\"\n",
    "    #listen idk why it won't just let me put in an optional repeat either\n",
    "    all_words = []\n",
    "    \n",
    "    #three words\n",
    "    all_words.extend([match for match in re.findall('[A-Z]\\S* [A-Z]\\S* [A-Z]\\S+', txt) if \n",
    "                      all([(remove_punct(word).lower() not in stopword_list) for word in match.split()]) \n",
    "                      and all([(remove_punct(word).lower() not in txt) for word in match.split()])])\n",
    "    \n",
    "    #two words\n",
    "    two_words = [match for match in re.findall('[A-Z]\\S* [A-Z]\\S+', txt) if \n",
    "                      all([(remove_punct(word).lower() not in stopword_list) for word in match.split()]) \n",
    "                      and all([(remove_punct(word).lower() not in txt) for word in match.split()])\n",
    "                      and all([match not in x for x in all_words])]\n",
    "    \n",
    "    all_words.extend(two_words)\n",
    "    \n",
    "    #one word\n",
    "    one_words = [match for match in re.findall('[A-Z]\\S+', txt) if \n",
    "                      (remove_punct(match).lower() not in stopword_list) \n",
    "                      and (remove_punct(match).lower() not in txt)\n",
    "                      and all([match not in x for x in all_words])]\n",
    "    \n",
    "    all_words.extend(one_words)\n",
    "    \n",
    "    return [word for word in [' '.join([removePunct(y) for y in x.split() if remove_punct(y) not in titles]) \n",
    "                      for x in all_words] if (len(word)>1)]"
   ]
  },
  {
   "cell_type": "code",
   "execution_count": 19,
   "metadata": {},
   "outputs": [],
   "source": [
    "def consolidateNames(name_list):\n",
    "    \"\"\"\n",
    "    Takes list of AuthNames and returns list of lists, consolidating by likely identical authors.\n",
    "    \"\"\"\n",
    "    name_set = []\n",
    "    used_indices = []\n",
    "    last_names = sorted([name.last_name for name in name_list], key=len)\n",
    "    \n",
    "    for i, name in enumerate(last_names):\n",
    "        if i not in used_indices:\n",
    "            full_name = [x for x in name_list if x.last_name == name][0]\n",
    "            name_holder = [full_name]\n",
    "            for j, name2 in enumerate(last_names):\n",
    "                full_name2 = [x for x in name_list if x.last_name == name2][0]\n",
    "                if (i < (len(last_names) - 1)) and (i!=j):\n",
    "                    if (edit_distance(name, name2[:len(name)+1]) < 2) and (j not in used_indices):\n",
    "                        if (full_name.first_initial==full_name2.first_initial and full_name.middle_initial==full_name2.middle_initial or full_name.title==full_name2.title) or (full_name.first_initial==full_name2.first_initial or full_name.middle_initial==full_name2.middle_initial and full_name.title==full_name2.title):\n",
    "                            name_holder.append(full_name2)\n",
    "                            used_indices.append(j)\n",
    "            used_indices.append(i)\n",
    "            name_set.append(name_holder)\n",
    "    \n",
    "    return name_set                  "
   ]
  },
  {
   "cell_type": "code",
   "execution_count": 27,
   "metadata": {},
   "outputs": [],
   "source": [
    "iterx = re.finditer(title_list, txts[0])\n",
    "indices = [(m.start(), m.group()) for m in iterx]"
   ]
  },
  {
   "cell_type": "code",
   "execution_count": 28,
   "metadata": {},
   "outputs": [
    {
     "data": {
      "text/plain": [
       "[(91, 'Mr. '), (184, 'Mr. '), (386, 'Professor '), (643, 'Mrs. '), (802, 'Mr. '), (818, 'Dr. '), (1326, 'Dr. '), (1597, 'Mr. '), (1743, 'Mr. '), (2329, 'Dr. '), (3692, 'Mr. '), (3994, 'Dr. '), (4135, 'President '), (4950, 'Mr. '), (5232, 'Dr. '), (5302, 'Professor '), (5412, 'Dr. '), (5426, 'Dr. ')]"
      ]
     },
     "execution_count": 28,
     "metadata": {},
     "output_type": "execute_result"
    }
   ],
   "source": [
    "indices"
   ]
  },
  {
   "cell_type": "code",
   "execution_count": 38,
   "metadata": {},
   "outputs": [],
   "source": [
    "def get_names_following_titles(txt, aps_id):\n",
    "    \"\"\"\n",
    "    Returns names following titles - specifically capitalized titles followed by capitalized names.\n",
    "    Names can be any number of words in length, and can include punctuation.\n",
    "    \n",
    "    object factory\n",
    "    potentially add index from original text in dict\n",
    "    \n",
    "    \"\"\"\n",
    "    #txt = clean_text_for_name_search(txt)\n",
    "    \n",
    "    names = []\n",
    "    spans = []\n",
    "    \n",
    "    # iter only works once before emptying\n",
    "    iterx = re.finditer(title_list, txt)\n",
    "    indices = [(m.start(), m.group()) for m in iterx]\n",
    "    \n",
    "    for i, index in enumerate(indices):\n",
    "        if (i<len(indices)-1):\n",
    "            try:\n",
    "                match = re.match(indices[i][1] + '[A-Z]\\w{1,}[.,;:!\\?\\'\\\"]', txt[indices[i][0]:indices[i+1][0]])\n",
    "                names.append(match.group()[:-1])\n",
    "                spans.append(indices[i][0])\n",
    "            except:\n",
    "                try:\n",
    "                    match = re.match(indices[i][1] + '.*? [a-z]|\\Z', \n",
    "                                     txt[indices[i][0]:indices[i+1][0]])\n",
    "                    names.append(match.group()[:-2])\n",
    "                    spans.append(indices[i][0])\n",
    "                except:\n",
    "                    pass\n",
    "        else:\n",
    "            try:\n",
    "                match = re.match(indices[i][1] + '[A-Z]\\w{1,}[.,;:!\\?\\'\\\"]', txt[indices[i][0]:])\n",
    "                names.append(match.group()[:-1])\n",
    "                spans.append(indices[i][0])\n",
    "            except:\n",
    "                try:\n",
    "                    match = re.match(indices[i][1] + '.*? [a-z]|\\Z', \n",
    "                                     txt[indices[i][0]:])\n",
    "                    names.append(match.group()[:-2])\n",
    "                    spans.append(indices[i][0])\n",
    "                except:\n",
    "                    pass\n",
    "    \n",
    "    names = [word.replace(\"'s\", \"\") for word in names]\n",
    "    names = [remove_periods_not_following_title_or_initial(word) for word in names]\n",
    "    names = [PersonName(clean_name(word)) for word in names]\n",
    "    \n",
    "    for i, name in enumerate(names):\n",
    "        name.review_id = aps_id\n",
    "        name.review_loc = (spans[i], spans[i]+len(name))\n",
    "    \n",
    "    return names"
   ]
  },
  {
   "cell_type": "code",
   "execution_count": 34,
   "metadata": {},
   "outputs": [],
   "source": [
    "txts = [preprocess_text(rev) for rev in txts]"
   ]
  },
  {
   "cell_type": "code",
   "execution_count": 35,
   "metadata": {},
   "outputs": [
    {
     "data": {
      "text/plain": [
       "'Mr. Charles Dudley Warner'"
      ]
     },
     "execution_count": 35,
     "metadata": {},
     "output_type": "execute_result"
    }
   ],
   "source": [
    "txts[0][91:116]"
   ]
  },
  {
   "cell_type": "code",
   "execution_count": 41,
   "metadata": {},
   "outputs": [
    {
     "data": {
      "text/plain": [
       "'Miss Edgeworth , Scribe , N. P. Willis , Dickens , etc. , and'"
      ]
     },
     "execution_count": 41,
     "metadata": {},
     "output_type": "execute_result"
    }
   ],
   "source": [
    "txts[23][3619:3680]"
   ]
  },
  {
   "cell_type": "markdown",
   "metadata": {},
   "source": [
    "spacy NLP object steal their code"
   ]
  },
  {
   "cell_type": "code",
   "execution_count": 39,
   "metadata": {},
   "outputs": [
    {
     "name": "stdout",
     "output_type": "stream",
     "text": [
      "136726613\n",
      "Mr. Charles Dudley Warner (91, 116)\n",
      "Mr. Vedder (184, 194)\n",
      "Professor Thorold Rogers (386, 410)\n",
      "Mrs. Browning (643, 656)\n",
      "Mr. Swinburne (802, 815)\n",
      "Dr. William M. Taylor Life (818, 844)\n",
      "Dr. Geor6 Ebers (1326, 1341)\n",
      "Mr. Julian Hawthorne (1597, 1617)\n",
      "Mr. Julius Chambers (1743, 1762)\n",
      "Mr. Cushing (3693, 3704)\n",
      "Dr. Herbert B. Adam (3995, 4014)\n",
      "President Andrew D. White (4136, 4161)\n",
      "Mr. Brander Matthews (4951, 4971)\n",
      "Dr. Joseph Parktercontinueshiseipositionuin (5233, 5276)\n",
      "Professor E. Johnsou (5303, 5323)\n",
      "Dr. Parker (5427, 5437)\n",
      "\n",
      "90142613\n",
      "Mr. E. L. Voynich (108, 125)\n",
      "\n",
      "90390665\n",
      "Miss HowAiD Is (22, 36)\n",
      "Mrs. A. L. Wister (700, 717)\n",
      "Princess Mercedes (3209, 3226)\n",
      "Miss Peard (4101, 4111)\n",
      "Miss Peard (4500, 4510)\n",
      "Lord Mttdhursm- Coming (4696, 4718)\n",
      "Miss Peard (6501, 6511)\n",
      "Sir Henry Lancaster (6556, 6575)\n",
      "\n",
      "124486140\n",
      "Dr. Atwood (1348, 1358)\n",
      "\n",
      "126315326\n",
      "\n",
      "136992742\n",
      "\n",
      "137651039\n",
      "Lord Clive (822, 832)\n",
      "Mr. Alden (2469, 2478)\n",
      "Mr. Bixby (3199, 3208)\n",
      "Mr. Crane (4005, 4014)\n",
      "Mr. Cook (9998, 10006)\n",
      "Mr. Cook (10517, 10525)\n",
      "Prof. Tillman (10674, 10687)\n",
      "Mr. Thomas A. Edison (11580, 11600)\n",
      "Mr. Tompkins (13275, 13287)\n",
      "Mr. Haggard (13885, 13896)\n",
      "Mr. Arthur Gillman First Steps (14990, 15020)\n",
      "Mr. Gillman (15219, 15230)\n",
      "Dr. Brown-Sequard (16494, 16511)\n",
      "Dr. Brown-Sequard (16799, 16816)\n",
      "Dr. Variot (16879, 16889)\n",
      "\n",
      "89668273\n",
      "Mr. Kenneth Grahame (0, 19)\n",
      "Mr. Maxfield Parrish A (141, 163)\n",
      "Mr. Parrish (371, 382)\n",
      "Mr. Swinburne Massinger (958, 981)\n",
      "Mr. Arthur Symons Ford (1013, 1035)\n",
      "Mr. Havelock Ellis Hey- (1050, 1073)\n",
      "Mr. A. Wilson Verity (1093, 1113)\n",
      "Mr. George Saintsbury The Dryden (1156, 1188)\n",
      "\n",
      "136971619\n",
      "\n",
      "90313218\n",
      "Mr. Cabot Lodge (127, 142)\n",
      "Mr. Adams (185, 194)\n",
      "Mr. Morse (237, 246)\n",
      "Mr. Oallatir (356, 368)\n",
      "Mr. Htevens (1188, 1199)\n",
      "Mr. Lodge (1275, 1284)\n",
      "Mr. Gallatin (1345, 1357)\n",
      "Mr. Gailatin (1479, 1491)\n",
      "Mr. Stevens (1922, 1933)\n",
      "Mr. Clallatiiis (1945, 1960)\n",
      "Mr. Jefferson (2055, 2068)\n",
      "Mr. Qallathi (2438, 2450)\n",
      "\n",
      "128376070\n",
      "Mr Heyny (1860, 1868)\n",
      "\n",
      "124688361\n",
      "\n",
      "124882533\n",
      "Mr. Rees (376, 384)\n",
      "Mr. Rees (2959, 2967)\n",
      "Mr. Ralph (3379, 3388)\n",
      "Miss Serjeant (3545, 3558)\n",
      "Mr. Rees (4511, 4519)\n",
      "Mr. Rees (4802, 4810)\n",
      "Mr. Rees (6392, 6400)\n",
      "Mr. Dawe (6609, 6617)\n",
      "Mr. Dawe (7997, 8005)\n",
      "Mr. Dawe (9273, 9281)\n",
      "\n",
      "89639059\n",
      "Mr. Ilowolls (920, 932)\n",
      "Mr. Ke- (3353, 3360)\n",
      "\n",
      "88461015\n",
      "Mrs Francis Reeves (409, 427)\n",
      "Dr Reeves (722, 731)\n",
      "Dr Reeve (1176, 1184)\n",
      "\n",
      "124190789\n",
      "Sir Christopher (1792, 1807)\n",
      "Sir Christopher (2118, 2133)\n",
      "Mrs. Goodwin (2263, 2275)\n",
      "Mr. James (2962, 2971)\n",
      "Mrs. Wharton (2975, 2987)\n",
      "\n",
      "136902134\n",
      "Dr. Paul Sollier Paris Rabies (1484, 1513)\n",
      "\n",
      "90180084\n",
      "Mr. John C. Van Dyke (37, 57)\n",
      "Mr. Van Dyke (249, 261)\n",
      "Mr. Chase (472, 481)\n",
      "Mr. Hamilton W. Mabie (906, 927)\n",
      "Mr. Mabie (1107, 1116)\n",
      "Mr. Mabie (1813, 1822)\n",
      "Miss Mary Thorn Carpenter (2046, 2071)\n",
      "Miss Carpenter (2463, 2477)\n",
      "Miss Carpenter (2741, 2755)\n",
      "Mr. W. H. Hadow (2999, 3014)\n",
      "Mr. Hadow (3318, 3327)\n",
      "Mr. Hadow (3552, 3561)\n",
      "\n",
      "137244878\n",
      "Mrs. Wharton (956, 968)\n",
      "Mrs. Schuyler Van Rensselaer (973, 1001)\n",
      "President Lowell (1006, 1022)\n",
      "Mr. Vachel Lindsay (11970, 11988)\n",
      "Mr. Kipling (12609, 12620)\n",
      "\n",
      "88721263\n",
      "\n",
      "137412078\n",
      "Professor Brastow (907, 924)\n",
      "\n",
      "89675095\n",
      "Mr. William Butler Yeats (617, 641)\n",
      "Mr. Nicholas Vachel Lindsay (693, 720)\n",
      "Mr. Lindsay (752, 763)\n",
      "Mr. Lindsay (1234, 1245)\n",
      "Mrs. Billious (2365, 2378)\n",
      "Mr. Billious (2448, 2460)\n",
      "Director (3560, 3568)\n",
      "\n",
      "760950213\n",
      "\n",
      "124217248\n",
      "Mr. Richard Hovey (15, 32)\n",
      "Mr. Hovey (315, 324)\n",
      "Prince Henry (802, 814)\n",
      "Prince Henry (879, 891)\n",
      "Mr. Beazley (995, 1006)\n",
      "Prof. E. D. Perry (1594, 1611)\n",
      "Prof. Friedrich Paulsen (1644, 1667)\n",
      "Prof. N. M. Butler (1769, 1787)\n",
      "Professor Patulsen (1835, 1853)\n",
      "Professor Butler (2032, 2048)\n",
      "Prof. A. (2392, 2400)\n",
      "Dr. William Pepper (2967, 2985)\n",
      "Miss Edgeworth Scribe N. P. Willis Dickens (3619, 3661)\n",
      "Dr. C. E. Stevens Sources (4262, 4287)\n",
      "Dr. F. S. Billings (4858, 4876)\n",
      "\n",
      "853770606\n",
      "Master House Painters (70, 91)\n",
      "Master House Painters (726, 747)\n",
      "\n",
      "137195890\n",
      "Miss Curtis (206, 217)\n",
      "Miss Curtis (1309, 1320)\n",
      "Miss Cultis (1636, 1647)\n",
      "Mr. Kimhleni (1850, 1862)\n",
      "Mr. Fordher (2223, 2234)\n",
      "Mr. Kiiiiein (2806, 2818)\n",
      "Miss Curtis (2950, 2961)\n",
      "\n",
      "125727674\n",
      "Dr. Willi Ule (123, 136)\n",
      "\n",
      "88797650\n",
      "Professor Josiah Royce (2000, 2022)\n",
      "\n",
      "89649761\n",
      "Professor Hiram Cor- (139, 159)\n",
      "Professor Corson (989, 1005)\n",
      "Professor Corson (3762, 3778)\n",
      "\n",
      "90967694\n",
      "President Cleveland (15564, 15583)\n",
      "\n",
      "89672866\n",
      "Professor Lane Cooper (70, 91)\n",
      "Professor Cooper (901, 917)\n",
      "Mr. Edward Carpenter (1705, 1725)\n",
      "Mr. Edward Lewis (2279, 2295)\n",
      "Mr. Lewis (2504, 2513)\n",
      "Professor Bergson (2817, 2834)\n",
      "\n",
      "89674750\n",
      "Mr. Harry Thurston Peck (107, 130)\n",
      "Professor Peck (669, 683)\n",
      "Professor Peck (1026, 1040)\n",
      "Professor Peck (1617, 1631)\n",
      "Professor Peck (2050, 2064)\n",
      "Dr. Charles F. Johnson Shakespeare (2143, 2177)\n",
      "Professor Johnson (2469, 2486)\n",
      "Professor Johnson (3725, 3742)\n",
      "Dr. J. B. Bury Regius Professor (4124, 4155)\n",
      "Professor Bury (4364, 4378)\n",
      "Professor Bury (4933, 4947)\n",
      "Mr. Gar- (5125, 5133)\n",
      "Professor Bury (5263, 5277)\n",
      "Mrs. Stowe (6113, 6123)\n",
      "Mrs. Brown (7082, 7092)\n",
      "Rev. P. H. Ditchfield (8292, 8313)\n",
      "Dr. South (9524, 9533)\n",
      "Mr. Winthrop Packard Wild Pastures Maynard Co.) (11272, 11319)\n",
      "\n",
      "89635917\n",
      "Mr. Arnold (2543, 2553)\n",
      "\n",
      "124196531\n",
      "Mr. G. W. E. Russell) He (144, 168)\n",
      "Lord Houghton (513, 526)\n",
      "Lord Beaconsfield (531, 548)\n",
      "Lord Beaconsfield (2072, 2089)\n",
      "Mr. Gladstone (2113, 2126)\n",
      "Professor Moses Colt Tyler (2438, 2464)\n",
      "\n",
      "128176513\n",
      "Dr Heitzmann (3286, 3298)\n",
      "Dr Heitzmann (6463, 6475)\n",
      "Dr Heitzmann (6909, 6921)\n",
      "Dr Heitzmann (7265, 7277)\n",
      "Dr Heitzmann (7730, 7742)\n",
      "Sir William Roberts (7934, 7953)\n",
      "Dr Heitzmann (8299, 8311)\n",
      "Dr Heitzmann (9004, 9016)\n",
      "\n",
      "88477095\n",
      "\n",
      "125715359\n",
      "Mr. Mill (601, 609)\n",
      "Dr. Campbell (5360, 5372)\n",
      "\n",
      "124189638\n",
      "Dr. Peroy Gardner (35, 52)\n",
      "Master In (1349, 1358)\n",
      "Mr. Gardner (1989, 2000)\n",
      "Dr. Gardner (4765, 4776)\n",
      "\n",
      "136887509\n",
      "Dr. Bramwell (607, 619)\n",
      "Mr. Herbert Page (2330, 2346)\n",
      "\n",
      "90554411\n",
      "Mr. Yeats (338, 347)\n",
      "Mr. Yeats (583, 592)\n",
      "\n",
      "90186165\n",
      "Prof. Fisher (431, 443)\n",
      "Prof. Fisher (860, 872)\n",
      "Dr. Fisher (1766, 1776)\n",
      "\n",
      "125502663\n",
      "Mr. Matthew Arnold Yet (959, 981)\n",
      "Dr. Farrar (1125, 1135)\n",
      "Dean Farrar (1218, 1229)\n",
      "Lord Beaconsfield (1534, 1551)\n",
      "Dr. Farrar I (1663, 1675)\n",
      "Dean Stanley (1808, 1820)\n",
      "Dr. Farrar (1830, 1840)\n",
      "Dean Farrar (2195, 2206)\n",
      "Dean Farrar (2650, 2661)\n",
      "Dr. Short Bishop (3896, 3912)\n",
      "Dean Farrar (4231, 4242)\n",
      "Dean Farrar (4873, 4884)\n",
      "\n",
      "125724646\n",
      "Sir Alfred Lyall (687, 703)\n",
      "Dr. W. Koppen Second (3309, 3329)\n",
      "Dr. Lemoine (5348, 5359)\n",
      "Dr. Lemoine (5663, 5674)\n",
      "Dr. Lemoine (6252, 6263)\n",
      "Dr. Lemoine (7211, 7222)\n",
      "Mr. Garnett (11474, 11485)\n",
      "Dr. Waither (14338, 14349)\n",
      "\n",
      "124740955\n",
      "Mrs. Brathers (2351, 2364)\n",
      "Mr. Jewell (3146, 3156)\n",
      "\n",
      "124707428\n",
      "\n",
      "89644579\n",
      "Miss Georgiana Hill (1803, 1822)\n",
      "\n",
      "137072896\n",
      "Miss Barton (1787, 1798)\n",
      "Miss Barton (2125, 2136)\n",
      "Miss Barton (2780, 2791)\n",
      "President Buchanan (2954, 2972)\n",
      "Miss Barton (3081, 3092)\n",
      "Miss Barton (4807, 4818)\n",
      "Miss Barton (5154, 5165)\n",
      "Miss Barton (5459, 5470)\n",
      "President Lincoln (5493, 5510)\n",
      "Miss Barton (5844, 5855)\n",
      "Miss Bar- (6608, 6617)\n",
      "Miss Barton (6973, 6984)\n",
      "Miss Barton (7211, 7222)\n",
      "Miss Barton (8007, 8018)\n",
      "Miss Barton (8775, 8786)\n",
      "Miss Barton (9109, 9120)\n",
      "Miss Barton (9212, 9223)\n",
      "Mrs. Stanton (9697, 9709)\n",
      "Miss Bar- (9874, 9883)\n",
      "Dr. HIenry Bellows (13750, 13768)\n",
      "Miss Barton (15550, 15561)\n",
      "President Hayes (15799, 15814)\n",
      "President Garfield (16218, 16236)\n",
      "Miss Barton (16641, 16652)\n",
      "President Arthur (16681, 16697)\n",
      "President Moynier (16827, 16844)\n",
      "Miss Barton You (16859, 16874)\n",
      "Miss Barton (17255, 17266)\n",
      "Miss Barton (19418, 19429)\n",
      "Miss Barton (19780, 19791)\n",
      "Miss Barton (20484, 20495)\n",
      "Miss Barton-our (22204, 22219)\n",
      "Miss Barton (23100, 23111)\n",
      "Miss Barton (24554, 24565)\n",
      "Miss Barton (25563, 25574)\n",
      "Miss Barton (26256, 26267)\n",
      "Miss Anthony (26642, 26654)\n",
      "Miss Barton (27472, 27483)\n",
      "\n",
      "136685639\n",
      "Mr. Symonds (870, 881)\n",
      "Mr. Timayenis (1277, 1290)\n",
      "Mr. Timayenis (2191, 2204)\n",
      "Mr. Timayenis (3918, 3931)\n",
      "Mr. Timayenis (5450, 5463)\n",
      "\n",
      "126788760\n",
      "Mr. Tennnnttheeditor (767, 787)\n",
      "\n",
      "89671107\n",
      "Mr. Murdock (68, 79)\n",
      "Mr Austin Dobson Eighteenth Century Vignettes A (319, 366)\n",
      "Mr. Murdock (1272, 1283)\n",
      "Lady Sarah Bunbury (2358, 2376)\n",
      "Dr. Cauer (4045, 4054)\n",
      "Reverend Mather Byles (4493, 4514)\n",
      "Lord Percy (4736, 4746)\n",
      "Doctor Byles (5074, 5086)\n",
      "Dr. Byles (5272, 5281)\n",
      "Dr. Goldsmith (5309, 5322)\n",
      "Dr. Byles (5342, 5351)\n",
      "Mr. Pope (5496, 5504)\n",
      "Lord Holland (5593, 5605)\n",
      "Lord Hollanid (5800, 5813)\n",
      "Mr. Murdock (6319, 6330)\n",
      "Mr. Stuart (6446, 6456)\n",
      "Mr. Vassall (6815, 6826)\n",
      "Mr. Murdock (7281, 7292)\n",
      "\n"
     ]
    }
   ],
   "source": [
    "for txt, filename in zip(txts, [x.split('.')[0] for x in filenames]):\n",
    "    print(filename)\n",
    "    docnames = get_names_following_titles(txt, filename)\n",
    "    for name in docnames:\n",
    "        print(name, name.review_loc)\n",
    "    print()"
   ]
  },
  {
   "cell_type": "markdown",
   "metadata": {},
   "source": [
    "## Goals\n",
    "Make each Person name aware of others and able to check for potential matches?"
   ]
  },
  {
   "cell_type": "code",
   "execution_count": null,
   "metadata": {},
   "outputs": [],
   "source": []
  }
 ],
 "metadata": {
  "kernelspec": {
   "display_name": "Python 3",
   "language": "python",
   "name": "python3"
  },
  "language_info": {
   "codemirror_mode": {
    "name": "ipython",
    "version": 3
   },
   "file_extension": ".py",
   "mimetype": "text/x-python",
   "name": "python",
   "nbconvert_exporter": "python",
   "pygments_lexer": "ipython3",
   "version": "3.7.4"
  }
 },
 "nbformat": 4,
 "nbformat_minor": 2
}
