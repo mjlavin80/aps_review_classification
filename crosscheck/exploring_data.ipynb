{
 "cells": [
  {
   "cell_type": "code",
   "execution_count": 1,
   "metadata": {},
   "outputs": [],
   "source": [
    "#import stuffz\n",
    "import nltk\n",
    "import numpy as np\n",
    "import pandas as pd"
   ]
  },
  {
   "cell_type": "code",
   "execution_count": 8,
   "metadata": {},
   "outputs": [],
   "source": [
    "from nltk.metrics import edit_distance"
   ]
  },
  {
   "cell_type": "code",
   "execution_count": 36,
   "metadata": {},
   "outputs": [],
   "source": [
    "import re"
   ]
  },
  {
   "cell_type": "code",
   "execution_count": 2,
   "metadata": {},
   "outputs": [],
   "source": [
    "crosscheck_df = pd.read_csv('cross_check_test.csv')"
   ]
  },
  {
   "cell_type": "code",
   "execution_count": 3,
   "metadata": {},
   "outputs": [
    {
     "data": {
      "text/html": [
       "<div>\n",
       "<style scoped>\n",
       "    .dataframe tbody tr th:only-of-type {\n",
       "        vertical-align: middle;\n",
       "    }\n",
       "\n",
       "    .dataframe tbody tr th {\n",
       "        vertical-align: top;\n",
       "    }\n",
       "\n",
       "    .dataframe thead th {\n",
       "        text-align: right;\n",
       "    }\n",
       "</style>\n",
       "<table border=\"1\" class=\"dataframe\">\n",
       "  <thead>\n",
       "    <tr style=\"text-align: right;\">\n",
       "      <th></th>\n",
       "      <th>id</th>\n",
       "      <th>status</th>\n",
       "      <th>record_id</th>\n",
       "      <th>source_type</th>\n",
       "      <th>source_gender</th>\n",
       "      <th>source_title</th>\n",
       "      <th>source_date</th>\n",
       "      <th>source_publisher</th>\n",
       "      <th>source_pub_viaf</th>\n",
       "      <th>source_genre</th>\n",
       "      <th>...</th>\n",
       "      <th>target_type</th>\n",
       "      <th>target_gender</th>\n",
       "      <th>target_title</th>\n",
       "      <th>target_date</th>\n",
       "      <th>target_publisher</th>\n",
       "      <th>target_pub_viaf</th>\n",
       "      <th>target_genre</th>\n",
       "      <th>target_price</th>\n",
       "      <th>target_author_viaf</th>\n",
       "      <th>target_author_name</th>\n",
       "    </tr>\n",
       "  </thead>\n",
       "  <tbody>\n",
       "    <tr>\n",
       "      <td>0</td>\n",
       "      <td>152</td>\n",
       "      <td>done</td>\n",
       "      <td>136129795</td>\n",
       "      <td>single_focus</td>\n",
       "      <td>m</td>\n",
       "      <td>Times Before the Reformation</td>\n",
       "      <td>1880.0</td>\n",
       "      <td>Robert Carter &amp; Brothers</td>\n",
       "      <td>NaN</td>\n",
       "      <td>historical nonfiction</td>\n",
       "      <td>...</td>\n",
       "      <td>single_focus</td>\n",
       "      <td>m</td>\n",
       "      <td>Times before the Reformation, with an account ...</td>\n",
       "      <td>1880.0</td>\n",
       "      <td>New York: Robert Carter &amp; Brothers</td>\n",
       "      <td>NaN</td>\n",
       "      <td>Nonfiction</td>\n",
       "      <td>NaN</td>\n",
       "      <td>http://viaf.org/viaf/93207229</td>\n",
       "      <td>William Dinwiddie</td>\n",
       "    </tr>\n",
       "    <tr>\n",
       "      <td>1</td>\n",
       "      <td>662</td>\n",
       "      <td>done</td>\n",
       "      <td>124766315</td>\n",
       "      <td>single_focus</td>\n",
       "      <td>f</td>\n",
       "      <td>One Man Who Was Content</td>\n",
       "      <td>1897.0</td>\n",
       "      <td>The Century Company</td>\n",
       "      <td>NaN</td>\n",
       "      <td>fiction</td>\n",
       "      <td>...</td>\n",
       "      <td>single_focus</td>\n",
       "      <td>f</td>\n",
       "      <td>One Man Who Was Content</td>\n",
       "      <td>1897.0</td>\n",
       "      <td>New York: The Century Company</td>\n",
       "      <td>NaN</td>\n",
       "      <td>Fiction</td>\n",
       "      <td>$1.00</td>\n",
       "      <td>http://viaf.org/viaf/44455381</td>\n",
       "      <td>Schuyler Van Rensselaer</td>\n",
       "    </tr>\n",
       "    <tr>\n",
       "      <td>2</td>\n",
       "      <td>236</td>\n",
       "      <td>done</td>\n",
       "      <td>124905465</td>\n",
       "      <td>multi</td>\n",
       "      <td>NaN</td>\n",
       "      <td>NaN</td>\n",
       "      <td>NaN</td>\n",
       "      <td>NaN</td>\n",
       "      <td>NaN</td>\n",
       "      <td>NaN</td>\n",
       "      <td>...</td>\n",
       "      <td>multi</td>\n",
       "      <td>NaN</td>\n",
       "      <td>NaN</td>\n",
       "      <td>NaN</td>\n",
       "      <td>NaN</td>\n",
       "      <td>NaN</td>\n",
       "      <td>NaN</td>\n",
       "      <td>NaN</td>\n",
       "      <td>NaN</td>\n",
       "      <td>NaN</td>\n",
       "    </tr>\n",
       "    <tr>\n",
       "      <td>3</td>\n",
       "      <td>660</td>\n",
       "      <td>done</td>\n",
       "      <td>136243777</td>\n",
       "      <td>multi</td>\n",
       "      <td>multi</td>\n",
       "      <td>NaN</td>\n",
       "      <td>NaN</td>\n",
       "      <td>NaN</td>\n",
       "      <td>NaN</td>\n",
       "      <td>NaN</td>\n",
       "      <td>...</td>\n",
       "      <td>cluster</td>\n",
       "      <td>NaN</td>\n",
       "      <td>NaN</td>\n",
       "      <td>NaN</td>\n",
       "      <td>NaN</td>\n",
       "      <td>NaN</td>\n",
       "      <td>NaN</td>\n",
       "      <td>NaN</td>\n",
       "      <td>NaN</td>\n",
       "      <td>NaN</td>\n",
       "    </tr>\n",
       "    <tr>\n",
       "      <td>4</td>\n",
       "      <td>250</td>\n",
       "      <td>done</td>\n",
       "      <td>136680305</td>\n",
       "      <td>not_review</td>\n",
       "      <td>NaN</td>\n",
       "      <td>NaN</td>\n",
       "      <td>NaN</td>\n",
       "      <td>NaN</td>\n",
       "      <td>NaN</td>\n",
       "      <td>NaN</td>\n",
       "      <td>...</td>\n",
       "      <td>not_review</td>\n",
       "      <td>NaN</td>\n",
       "      <td>NaN</td>\n",
       "      <td>NaN</td>\n",
       "      <td>NaN</td>\n",
       "      <td>NaN</td>\n",
       "      <td>NaN</td>\n",
       "      <td>NaN</td>\n",
       "      <td>NaN</td>\n",
       "      <td>NaN</td>\n",
       "    </tr>\n",
       "  </tbody>\n",
       "</table>\n",
       "<p>5 rows × 23 columns</p>\n",
       "</div>"
      ],
      "text/plain": [
       "    id status  record_id   source_type source_gender  \\\n",
       "0  152   done  136129795  single_focus             m   \n",
       "1  662   done  124766315  single_focus             f   \n",
       "2  236   done  124905465         multi           NaN   \n",
       "3  660   done  136243777         multi         multi   \n",
       "4  250   done  136680305    not_review           NaN   \n",
       "\n",
       "                   source_title  source_date          source_publisher  \\\n",
       "0  Times Before the Reformation       1880.0  Robert Carter & Brothers   \n",
       "1       One Man Who Was Content       1897.0       The Century Company   \n",
       "2                           NaN          NaN                       NaN   \n",
       "3                           NaN          NaN                       NaN   \n",
       "4                           NaN          NaN                       NaN   \n",
       "\n",
       "   source_pub_viaf           source_genre  ...   target_type target_gender  \\\n",
       "0              NaN  historical nonfiction  ...  single_focus             m   \n",
       "1              NaN                fiction  ...  single_focus             f   \n",
       "2              NaN                    NaN  ...         multi           NaN   \n",
       "3              NaN                    NaN  ...       cluster           NaN   \n",
       "4              NaN                    NaN  ...    not_review           NaN   \n",
       "\n",
       "                                        target_title target_date  \\\n",
       "0  Times before the Reformation, with an account ...      1880.0   \n",
       "1                           One Man Who Was Content       1897.0   \n",
       "2                                                NaN         NaN   \n",
       "3                                                NaN         NaN   \n",
       "4                                                NaN         NaN   \n",
       "\n",
       "                      target_publisher target_pub_viaf  target_genre  \\\n",
       "0  New York: Robert Carter & Brothers              NaN    Nonfiction   \n",
       "1        New York: The Century Company             NaN       Fiction   \n",
       "2                                  NaN             NaN           NaN   \n",
       "3                                  NaN             NaN           NaN   \n",
       "4                                  NaN             NaN           NaN   \n",
       "\n",
       "  target_price             target_author_viaf       target_author_name  \n",
       "0          NaN  http://viaf.org/viaf/93207229        William Dinwiddie  \n",
       "1        $1.00  http://viaf.org/viaf/44455381  Schuyler Van Rensselaer  \n",
       "2          NaN                            NaN                      NaN  \n",
       "3          NaN                            NaN                      NaN  \n",
       "4          NaN                            NaN                      NaN  \n",
       "\n",
       "[5 rows x 23 columns]"
      ]
     },
     "execution_count": 3,
     "metadata": {},
     "output_type": "execute_result"
    }
   ],
   "source": [
    "crosscheck_df.head()"
   ]
  },
  {
   "cell_type": "markdown",
   "metadata": {},
   "source": [
    "### Goals:\n",
    "+ Calculate interrater reliability\n",
    "+ Type: single_focus vs. not single_focus\n",
    "+ Title, author, & publisher: levenshtein distance, disregard punc and capitalization\n",
    "+ VIAF: just the number\n",
    "\n",
    "will add other stuff as i remember"
   ]
  },
  {
   "cell_type": "code",
   "execution_count": 7,
   "metadata": {
    "scrolled": true
   },
   "outputs": [
    {
     "name": "stdout",
     "output_type": "stream",
     "text": [
      "<class 'pandas.core.frame.DataFrame'>\n",
      "RangeIndex: 35 entries, 0 to 34\n",
      "Data columns (total 23 columns):\n",
      "id                    35 non-null int64\n",
      "status                35 non-null object\n",
      "record_id             35 non-null int64\n",
      "source_type           35 non-null object\n",
      "source_gender         18 non-null object\n",
      "source_title          17 non-null object\n",
      "source_date           17 non-null float64\n",
      "source_publisher      17 non-null object\n",
      "source_pub_viaf       0 non-null float64\n",
      "source_genre          17 non-null object\n",
      "source_price          10 non-null object\n",
      "source_author_viaf    15 non-null object\n",
      "source_author_name    17 non-null object\n",
      "target_type           35 non-null object\n",
      "target_gender         17 non-null object\n",
      "target_title          17 non-null object\n",
      "target_date           17 non-null float64\n",
      "target_publisher      17 non-null object\n",
      "target_pub_viaf       0 non-null float64\n",
      "target_genre          17 non-null object\n",
      "target_price          10 non-null object\n",
      "target_author_viaf    17 non-null object\n",
      "target_author_name    17 non-null object\n",
      "dtypes: float64(4), int64(2), object(17)\n",
      "memory usage: 6.4+ KB\n"
     ]
    }
   ],
   "source": [
    "crosscheck_df.info()"
   ]
  },
  {
   "cell_type": "code",
   "execution_count": 31,
   "metadata": {},
   "outputs": [],
   "source": [
    "source_ex = crosscheck_df.source_title[0]\n",
    "target_ex = crosscheck_df.target_title[0]"
   ]
  },
  {
   "cell_type": "code",
   "execution_count": 38,
   "metadata": {
    "scrolled": true
   },
   "outputs": [
    {
     "data": {
      "text/plain": [
       "'Times before the Reformation  with an account of fra Girolamo Savonarolam the Friar of Florence'"
      ]
     },
     "execution_count": 38,
     "metadata": {},
     "output_type": "execute_result"
    }
   ],
   "source": [
    "' '.join(re.split('[^a-zA-Z]', target_ex))"
   ]
  },
  {
   "cell_type": "code",
   "execution_count": 39,
   "metadata": {},
   "outputs": [],
   "source": [
    "source_ex = ' '.join([w.lower() for w in re.split('[^a-zA-Z]', source_ex) if w.isalpha()])\n",
    "target_ex = ' '.join([w.lower() for w in re.split('[^a-zA-Z]', target_ex) if w.isalpha()])"
   ]
  },
  {
   "cell_type": "code",
   "execution_count": 40,
   "metadata": {},
   "outputs": [
    {
     "data": {
      "text/plain": [
       "'times before the reformation'"
      ]
     },
     "execution_count": 40,
     "metadata": {},
     "output_type": "execute_result"
    }
   ],
   "source": [
    "source_ex"
   ]
  },
  {
   "cell_type": "code",
   "execution_count": 41,
   "metadata": {},
   "outputs": [
    {
     "data": {
      "text/plain": [
       "'times before the reformation with an account of fra girolamo savonarolam the friar of florence'"
      ]
     },
     "execution_count": 41,
     "metadata": {},
     "output_type": "execute_result"
    }
   ],
   "source": [
    "target_ex"
   ]
  },
  {
   "cell_type": "code",
   "execution_count": 43,
   "metadata": {},
   "outputs": [
    {
     "data": {
      "text/plain": [
       "True"
      ]
     },
     "execution_count": 43,
     "metadata": {},
     "output_type": "execute_result"
    }
   ],
   "source": [
    "(source_ex in target_ex) or (target_ex in source_ex)"
   ]
  },
  {
   "cell_type": "code",
   "execution_count": 46,
   "metadata": {},
   "outputs": [],
   "source": [
    "def flagSimilarity(source, target):\n",
    "    \"\"\"\n",
    "    Cleans punc and lowercases. If source/target are same but one includes extra text, returns a yellow flag.\n",
    "    Otherwise if source/target have edit_distance > 3, returns a red flag.\n",
    "    \"\"\"\n",
    "    source = ' '.join([w.lower() for w in re.split('[^a-zA-Z]', source) if w.isalpha()])\n",
    "    target = ' '.join([w.lower() for w in re.split('[^a-zA-Z]', target) if w.isalpha()])\n",
    "    if source == target:\n",
    "        return 'green'\n",
    "    elif (source_ex in target_ex) or (target_ex in source_ex):\n",
    "        return 'yellow'\n",
    "    elif edit_distance > 3:\n",
    "        return 'red'"
   ]
  },
  {
   "cell_type": "code",
   "execution_count": 47,
   "metadata": {},
   "outputs": [
    {
     "data": {
      "text/plain": [
       "'yellow'"
      ]
     },
     "execution_count": 47,
     "metadata": {},
     "output_type": "execute_result"
    }
   ],
   "source": [
    "flagSimilarity(crosscheck_df.source_title[0], crosscheck_df.target_title[0])"
   ]
  },
  {
   "cell_type": "code",
   "execution_count": 55,
   "metadata": {},
   "outputs": [],
   "source": [
    "def compReviewType(source_type, target_type):\n",
    "    if source_type == target_type:\n",
    "        return 'green'\n",
    "    elif ((source_type == 'not_review' and target_type != 'not_review') or \n",
    "          (target_type == 'not_review' and source_type != 'not_review')):\n",
    "        return 'red'\n",
    "    elif ((source_type == 'single_focus' and target_type != 'single_focus') or\n",
    "          (target_type == 'single_focus' and source_type != 'single_focus')):\n",
    "        return 'red'\n",
    "    else: return 'green'"
   ]
  },
  {
   "cell_type": "code",
   "execution_count": 56,
   "metadata": {},
   "outputs": [
    {
     "data": {
      "text/plain": [
       "'green'"
      ]
     },
     "execution_count": 56,
     "metadata": {},
     "output_type": "execute_result"
    }
   ],
   "source": [
    "compReviewType(crosscheck_df.source_type[0], crosscheck_df.target_type[0])"
   ]
  },
  {
   "cell_type": "code",
   "execution_count": null,
   "metadata": {},
   "outputs": [],
   "source": []
  }
 ],
 "metadata": {
  "kernelspec": {
   "display_name": "Python 3",
   "language": "python",
   "name": "python3"
  },
  "language_info": {
   "codemirror_mode": {
    "name": "ipython",
    "version": 3
   },
   "file_extension": ".py",
   "mimetype": "text/x-python",
   "name": "python",
   "nbconvert_exporter": "python",
   "pygments_lexer": "ipython3",
   "version": "3.7.4"
  }
 },
 "nbformat": 4,
 "nbformat_minor": 2
}
