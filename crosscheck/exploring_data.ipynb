{
 "cells": [
  {
   "cell_type": "code",
   "execution_count": 1,
   "metadata": {},
   "outputs": [],
   "source": [
    "#import stuffz\n",
    "import nltk\n",
    "import numpy as np\n",
    "import pandas as pd"
   ]
  },
  {
   "cell_type": "code",
   "execution_count": 2,
   "metadata": {},
   "outputs": [],
   "source": [
    "from nltk.metrics import edit_distance"
   ]
  },
  {
   "cell_type": "code",
   "execution_count": 3,
   "metadata": {},
   "outputs": [],
   "source": [
    "import re"
   ]
  },
  {
   "cell_type": "code",
   "execution_count": 4,
   "metadata": {},
   "outputs": [],
   "source": [
    "crosscheck_df = pd.read_csv('cross_check_test.csv')"
   ]
  },
  {
   "cell_type": "code",
   "execution_count": 5,
   "metadata": {},
   "outputs": [
    {
     "data": {
      "text/html": [
       "<div>\n",
       "<style scoped>\n",
       "    .dataframe tbody tr th:only-of-type {\n",
       "        vertical-align: middle;\n",
       "    }\n",
       "\n",
       "    .dataframe tbody tr th {\n",
       "        vertical-align: top;\n",
       "    }\n",
       "\n",
       "    .dataframe thead th {\n",
       "        text-align: right;\n",
       "    }\n",
       "</style>\n",
       "<table border=\"1\" class=\"dataframe\">\n",
       "  <thead>\n",
       "    <tr style=\"text-align: right;\">\n",
       "      <th></th>\n",
       "      <th>id</th>\n",
       "      <th>status</th>\n",
       "      <th>record_id</th>\n",
       "      <th>source_type</th>\n",
       "      <th>source_gender</th>\n",
       "      <th>source_title</th>\n",
       "      <th>source_date</th>\n",
       "      <th>source_publisher</th>\n",
       "      <th>source_pub_viaf</th>\n",
       "      <th>source_genre</th>\n",
       "      <th>...</th>\n",
       "      <th>target_type</th>\n",
       "      <th>target_gender</th>\n",
       "      <th>target_title</th>\n",
       "      <th>target_date</th>\n",
       "      <th>target_publisher</th>\n",
       "      <th>target_pub_viaf</th>\n",
       "      <th>target_genre</th>\n",
       "      <th>target_price</th>\n",
       "      <th>target_author_viaf</th>\n",
       "      <th>target_author_name</th>\n",
       "    </tr>\n",
       "  </thead>\n",
       "  <tbody>\n",
       "    <tr>\n",
       "      <td>0</td>\n",
       "      <td>152</td>\n",
       "      <td>done</td>\n",
       "      <td>136129795</td>\n",
       "      <td>single_focus</td>\n",
       "      <td>m</td>\n",
       "      <td>Times Before the Reformation</td>\n",
       "      <td>1880.0</td>\n",
       "      <td>Robert Carter &amp; Brothers</td>\n",
       "      <td>NaN</td>\n",
       "      <td>historical nonfiction</td>\n",
       "      <td>...</td>\n",
       "      <td>single_focus</td>\n",
       "      <td>m</td>\n",
       "      <td>Times before the Reformation, with an account ...</td>\n",
       "      <td>1880.0</td>\n",
       "      <td>New York: Robert Carter &amp; Brothers</td>\n",
       "      <td>NaN</td>\n",
       "      <td>Nonfiction</td>\n",
       "      <td>NaN</td>\n",
       "      <td>http://viaf.org/viaf/93207229</td>\n",
       "      <td>William Dinwiddie</td>\n",
       "    </tr>\n",
       "    <tr>\n",
       "      <td>1</td>\n",
       "      <td>662</td>\n",
       "      <td>done</td>\n",
       "      <td>124766315</td>\n",
       "      <td>single_focus</td>\n",
       "      <td>f</td>\n",
       "      <td>One Man Who Was Content</td>\n",
       "      <td>1897.0</td>\n",
       "      <td>The Century Company</td>\n",
       "      <td>NaN</td>\n",
       "      <td>fiction</td>\n",
       "      <td>...</td>\n",
       "      <td>single_focus</td>\n",
       "      <td>f</td>\n",
       "      <td>One Man Who Was Content</td>\n",
       "      <td>1897.0</td>\n",
       "      <td>New York: The Century Company</td>\n",
       "      <td>NaN</td>\n",
       "      <td>Fiction</td>\n",
       "      <td>$1.00</td>\n",
       "      <td>http://viaf.org/viaf/44455381</td>\n",
       "      <td>Schuyler Van Rensselaer</td>\n",
       "    </tr>\n",
       "    <tr>\n",
       "      <td>2</td>\n",
       "      <td>236</td>\n",
       "      <td>done</td>\n",
       "      <td>124905465</td>\n",
       "      <td>multi</td>\n",
       "      <td>NaN</td>\n",
       "      <td>NaN</td>\n",
       "      <td>NaN</td>\n",
       "      <td>NaN</td>\n",
       "      <td>NaN</td>\n",
       "      <td>NaN</td>\n",
       "      <td>...</td>\n",
       "      <td>multi</td>\n",
       "      <td>NaN</td>\n",
       "      <td>NaN</td>\n",
       "      <td>NaN</td>\n",
       "      <td>NaN</td>\n",
       "      <td>NaN</td>\n",
       "      <td>NaN</td>\n",
       "      <td>NaN</td>\n",
       "      <td>NaN</td>\n",
       "      <td>NaN</td>\n",
       "    </tr>\n",
       "    <tr>\n",
       "      <td>3</td>\n",
       "      <td>660</td>\n",
       "      <td>done</td>\n",
       "      <td>136243777</td>\n",
       "      <td>multi</td>\n",
       "      <td>multi</td>\n",
       "      <td>NaN</td>\n",
       "      <td>NaN</td>\n",
       "      <td>NaN</td>\n",
       "      <td>NaN</td>\n",
       "      <td>NaN</td>\n",
       "      <td>...</td>\n",
       "      <td>cluster</td>\n",
       "      <td>NaN</td>\n",
       "      <td>NaN</td>\n",
       "      <td>NaN</td>\n",
       "      <td>NaN</td>\n",
       "      <td>NaN</td>\n",
       "      <td>NaN</td>\n",
       "      <td>NaN</td>\n",
       "      <td>NaN</td>\n",
       "      <td>NaN</td>\n",
       "    </tr>\n",
       "    <tr>\n",
       "      <td>4</td>\n",
       "      <td>250</td>\n",
       "      <td>done</td>\n",
       "      <td>136680305</td>\n",
       "      <td>not_review</td>\n",
       "      <td>NaN</td>\n",
       "      <td>NaN</td>\n",
       "      <td>NaN</td>\n",
       "      <td>NaN</td>\n",
       "      <td>NaN</td>\n",
       "      <td>NaN</td>\n",
       "      <td>...</td>\n",
       "      <td>not_review</td>\n",
       "      <td>NaN</td>\n",
       "      <td>NaN</td>\n",
       "      <td>NaN</td>\n",
       "      <td>NaN</td>\n",
       "      <td>NaN</td>\n",
       "      <td>NaN</td>\n",
       "      <td>NaN</td>\n",
       "      <td>NaN</td>\n",
       "      <td>NaN</td>\n",
       "    </tr>\n",
       "  </tbody>\n",
       "</table>\n",
       "<p>5 rows × 23 columns</p>\n",
       "</div>"
      ],
      "text/plain": [
       "    id status  record_id   source_type source_gender  \\\n",
       "0  152   done  136129795  single_focus             m   \n",
       "1  662   done  124766315  single_focus             f   \n",
       "2  236   done  124905465         multi           NaN   \n",
       "3  660   done  136243777         multi         multi   \n",
       "4  250   done  136680305    not_review           NaN   \n",
       "\n",
       "                   source_title  source_date          source_publisher  \\\n",
       "0  Times Before the Reformation       1880.0  Robert Carter & Brothers   \n",
       "1       One Man Who Was Content       1897.0       The Century Company   \n",
       "2                           NaN          NaN                       NaN   \n",
       "3                           NaN          NaN                       NaN   \n",
       "4                           NaN          NaN                       NaN   \n",
       "\n",
       "   source_pub_viaf           source_genre  ...   target_type target_gender  \\\n",
       "0              NaN  historical nonfiction  ...  single_focus             m   \n",
       "1              NaN                fiction  ...  single_focus             f   \n",
       "2              NaN                    NaN  ...         multi           NaN   \n",
       "3              NaN                    NaN  ...       cluster           NaN   \n",
       "4              NaN                    NaN  ...    not_review           NaN   \n",
       "\n",
       "                                        target_title target_date  \\\n",
       "0  Times before the Reformation, with an account ...      1880.0   \n",
       "1                           One Man Who Was Content       1897.0   \n",
       "2                                                NaN         NaN   \n",
       "3                                                NaN         NaN   \n",
       "4                                                NaN         NaN   \n",
       "\n",
       "                      target_publisher target_pub_viaf  target_genre  \\\n",
       "0  New York: Robert Carter & Brothers              NaN    Nonfiction   \n",
       "1        New York: The Century Company             NaN       Fiction   \n",
       "2                                  NaN             NaN           NaN   \n",
       "3                                  NaN             NaN           NaN   \n",
       "4                                  NaN             NaN           NaN   \n",
       "\n",
       "  target_price             target_author_viaf       target_author_name  \n",
       "0          NaN  http://viaf.org/viaf/93207229        William Dinwiddie  \n",
       "1        $1.00  http://viaf.org/viaf/44455381  Schuyler Van Rensselaer  \n",
       "2          NaN                            NaN                      NaN  \n",
       "3          NaN                            NaN                      NaN  \n",
       "4          NaN                            NaN                      NaN  \n",
       "\n",
       "[5 rows x 23 columns]"
      ]
     },
     "execution_count": 5,
     "metadata": {},
     "output_type": "execute_result"
    }
   ],
   "source": [
    "crosscheck_df.head()"
   ]
  },
  {
   "cell_type": "code",
   "execution_count": 18,
   "metadata": {},
   "outputs": [
    {
     "data": {
      "text/plain": [
       "Timestamp('1970-01-01 00:00:00.000001880')"
      ]
     },
     "execution_count": 18,
     "metadata": {},
     "output_type": "execute_result"
    }
   ],
   "source": [
    "pd.Timestamp(1880)"
   ]
  },
  {
   "cell_type": "markdown",
   "metadata": {},
   "source": [
    "### Goals:\n",
    "+ Calculate interrater reliability\n",
    "+ Type: single_focus vs. not single_focus\n",
    "+ Title, author, & publisher: levenshtein distance, disregard punc and capitalization\n",
    "+ VIAF: just the number\n",
    "\n",
    "will add other stuff as i remember"
   ]
  },
  {
   "cell_type": "code",
   "execution_count": 6,
   "metadata": {
    "scrolled": true
   },
   "outputs": [
    {
     "name": "stdout",
     "output_type": "stream",
     "text": [
      "<class 'pandas.core.frame.DataFrame'>\n",
      "RangeIndex: 35 entries, 0 to 34\n",
      "Data columns (total 23 columns):\n",
      "id                    35 non-null int64\n",
      "status                35 non-null object\n",
      "record_id             35 non-null int64\n",
      "source_type           35 non-null object\n",
      "source_gender         18 non-null object\n",
      "source_title          17 non-null object\n",
      "source_date           17 non-null float64\n",
      "source_publisher      17 non-null object\n",
      "source_pub_viaf       0 non-null float64\n",
      "source_genre          17 non-null object\n",
      "source_price          10 non-null object\n",
      "source_author_viaf    15 non-null object\n",
      "source_author_name    17 non-null object\n",
      "target_type           35 non-null object\n",
      "target_gender         17 non-null object\n",
      "target_title          17 non-null object\n",
      "target_date           17 non-null float64\n",
      "target_publisher      17 non-null object\n",
      "target_pub_viaf       0 non-null float64\n",
      "target_genre          17 non-null object\n",
      "target_price          10 non-null object\n",
      "target_author_viaf    17 non-null object\n",
      "target_author_name    17 non-null object\n",
      "dtypes: float64(4), int64(2), object(17)\n",
      "memory usage: 6.4+ KB\n"
     ]
    }
   ],
   "source": [
    "crosscheck_df.info()"
   ]
  },
  {
   "cell_type": "code",
   "execution_count": 7,
   "metadata": {},
   "outputs": [],
   "source": [
    "source_ex = crosscheck_df.source_title[0]\n",
    "target_ex = crosscheck_df.target_title[0]"
   ]
  },
  {
   "cell_type": "code",
   "execution_count": 8,
   "metadata": {
    "scrolled": true
   },
   "outputs": [
    {
     "data": {
      "text/plain": [
       "'Times before the Reformation  with an account of fra Girolamo Savonarolam the Friar of Florence'"
      ]
     },
     "execution_count": 8,
     "metadata": {},
     "output_type": "execute_result"
    }
   ],
   "source": [
    "' '.join(re.split('[^a-zA-Z]', target_ex))"
   ]
  },
  {
   "cell_type": "code",
   "execution_count": 9,
   "metadata": {},
   "outputs": [],
   "source": [
    "source_ex = ' '.join([w.lower() for w in re.split('[^a-zA-Z]', source_ex) if w.isalpha()])\n",
    "target_ex = ' '.join([w.lower() for w in re.split('[^a-zA-Z]', target_ex) if w.isalpha()])"
   ]
  },
  {
   "cell_type": "code",
   "execution_count": 10,
   "metadata": {},
   "outputs": [
    {
     "data": {
      "text/plain": [
       "'times before the reformation'"
      ]
     },
     "execution_count": 10,
     "metadata": {},
     "output_type": "execute_result"
    }
   ],
   "source": [
    "source_ex"
   ]
  },
  {
   "cell_type": "code",
   "execution_count": 11,
   "metadata": {},
   "outputs": [
    {
     "data": {
      "text/plain": [
       "'times before the reformation with an account of fra girolamo savonarolam the friar of florence'"
      ]
     },
     "execution_count": 11,
     "metadata": {},
     "output_type": "execute_result"
    }
   ],
   "source": [
    "target_ex"
   ]
  },
  {
   "cell_type": "code",
   "execution_count": 12,
   "metadata": {},
   "outputs": [
    {
     "data": {
      "text/plain": [
       "True"
      ]
     },
     "execution_count": 12,
     "metadata": {},
     "output_type": "execute_result"
    }
   ],
   "source": [
    "(source_ex in target_ex) or (target_ex in source_ex)"
   ]
  },
  {
   "cell_type": "code",
   "execution_count": 47,
   "metadata": {},
   "outputs": [
    {
     "name": "stdout",
     "output_type": "stream",
     "text": [
      "0 William Allen White\n",
      "1  Helen Ogden Mahin\n"
     ]
    }
   ],
   "source": [
    "for x, y in enumerate(crosscheck_df.source_author_name[6].split(';')):\n",
    "    print(x, y)"
   ]
  },
  {
   "cell_type": "code",
   "execution_count": 42,
   "metadata": {},
   "outputs": [
    {
     "data": {
      "text/plain": [
       "['William Allen White']"
      ]
     },
     "execution_count": 42,
     "metadata": {},
     "output_type": "execute_result"
    }
   ],
   "source": [
    "crosscheck_df.target_author_name[6].split(';')"
   ]
  },
  {
   "cell_type": "code",
   "execution_count": 48,
   "metadata": {},
   "outputs": [],
   "source": [
    "def flagSimilarity(source, target):\n",
    "    \"\"\"\n",
    "    Cleans punc and lowercases. If source/target are same but one includes extra text, returns a yellow flag.\n",
    "    Otherwise if source/target have edit_distance > 3, returns a red flag.\n",
    "    \"\"\"\n",
    "    source = ' '.join([w.lower() for w in re.split('[^a-zA-Z]', source) if w.isalpha()])\n",
    "    target = ' '.join([w.lower() for w in re.split('[^a-zA-Z]', target) if w.isalpha()])\n",
    "    if source == target:\n",
    "        return 'green'\n",
    "    elif (source_ex in target_ex) or (target_ex in source_ex):\n",
    "        return 'yellow'\n",
    "    elif edit_distance(source_ex, target_ex) > 3:\n",
    "        return 'red'"
   ]
  },
  {
   "cell_type": "code",
   "execution_count": 43,
   "metadata": {},
   "outputs": [],
   "source": [
    "def cleanReviewInfo(text):\n",
    "    return ' '.join([w.lower() for w in re.split('[^a-zA-Z]', text) if w.isalpha()])"
   ]
  },
  {
   "cell_type": "code",
   "execution_count": 44,
   "metadata": {},
   "outputs": [
    {
     "data": {
      "text/plain": [
       "'william allen white'"
      ]
     },
     "execution_count": 44,
     "metadata": {},
     "output_type": "execute_result"
    }
   ],
   "source": [
    "cleanReviewInfo('William Allen White')"
   ]
  },
  {
   "cell_type": "code",
   "execution_count": 53,
   "metadata": {},
   "outputs": [],
   "source": [
    "def compNames(source, target):\n",
    "    source = source.split(';')\n",
    "    target = target.split(';')\n",
    "    if len(source) != len(target):\n",
    "        return 'inequal_author_count'\n",
    "    else:\n",
    "        edit_distances = []\n",
    "        source = [cleanReviewInfo(x) for x in source]\n",
    "        target = [cleanReviewInfo(x) for x in target]\n",
    "        for x, y in enumerate(source):\n",
    "            edit_distances.append(edit_distance(source[x], target[x]))\n",
    "        return edit_distances"
   ]
  },
  {
   "cell_type": "code",
   "execution_count": 14,
   "metadata": {},
   "outputs": [
    {
     "data": {
      "text/plain": [
       "'yellow'"
      ]
     },
     "execution_count": 14,
     "metadata": {},
     "output_type": "execute_result"
    }
   ],
   "source": [
    "flagSimilarity(crosscheck_df.source_title[0], crosscheck_df.target_title[0])"
   ]
  },
  {
   "cell_type": "code",
   "execution_count": 15,
   "metadata": {},
   "outputs": [],
   "source": [
    "def compReviewType(source_type, target_type):\n",
    "    if source_type == target_type:\n",
    "        return 'green'\n",
    "    elif ((source_type == 'not_review' and target_type != 'not_review') or \n",
    "          (target_type == 'not_review' and source_type != 'not_review')):\n",
    "        return 'red'\n",
    "    elif ((source_type == 'single_focus' and target_type != 'single_focus') or\n",
    "          (target_type == 'single_focus' and source_type != 'single_focus')):\n",
    "        return 'red'\n",
    "    else: return 'green'"
   ]
  },
  {
   "cell_type": "code",
   "execution_count": null,
   "metadata": {},
   "outputs": [],
   "source": [
    "def relabelReviewType(type):\n",
    "    if type == 'single_focus':\n",
    "        return \n",
    "    if type == 'not_review'\n",
    "        return type\n",
    "    else:\n",
    "        return 'not_single'"
   ]
  },
  {
   "cell_type": "code",
   "execution_count": 16,
   "metadata": {},
   "outputs": [
    {
     "data": {
      "text/plain": [
       "'green'"
      ]
     },
     "execution_count": 16,
     "metadata": {},
     "output_type": "execute_result"
    }
   ],
   "source": [
    "compReviewType(crosscheck_df.source_type[0], crosscheck_df.target_type[0])"
   ]
  },
  {
   "cell_type": "code",
   "execution_count": 19,
   "metadata": {},
   "outputs": [],
   "source": [
    "viaf_ex = 'http://viaf.org/viaf/93207229'"
   ]
  },
  {
   "cell_type": "code",
   "execution_count": 22,
   "metadata": {},
   "outputs": [
    {
     "data": {
      "text/plain": [
       "'93207229'"
      ]
     },
     "execution_count": 22,
     "metadata": {},
     "output_type": "execute_result"
    }
   ],
   "source": [
    "viaf_ex.split('/')[-1]"
   ]
  },
  {
   "cell_type": "code",
   "execution_count": 23,
   "metadata": {},
   "outputs": [],
   "source": [
    "def compVIAF(source_VIAF, target_VIAF):\n",
    "    return source_VIAF.split('/')[-1] == target_VIAF.split('/')[-1]"
   ]
  },
  {
   "cell_type": "code",
   "execution_count": 31,
   "metadata": {},
   "outputs": [
    {
     "name": "stdout",
     "output_type": "stream",
     "text": [
      "0 N/A\n",
      "1 True\n",
      "2 N/A\n",
      "3 N/A\n",
      "4 N/A\n",
      "5 N/A\n",
      "6 False\n",
      "7 N/A\n",
      "8 N/A\n",
      "9 N/A\n",
      "10 False\n",
      "11 True\n",
      "12 N/A\n",
      "13 N/A\n",
      "14 True\n",
      "15 False\n",
      "16 True\n",
      "17 N/A\n",
      "18 N/A\n",
      "19 N/A\n",
      "20 True\n",
      "21 N/A\n",
      "22 True\n",
      "23 N/A\n",
      "24 True\n",
      "25 N/A\n",
      "26 True\n",
      "27 True\n",
      "28 True\n",
      "29 True\n",
      "30 True\n",
      "31 N/A\n",
      "32 N/A\n",
      "33 N/A\n",
      "34 N/A\n"
     ]
    }
   ],
   "source": [
    "for id in crosscheck_df.index:\n",
    "    try:\n",
    "        print(id, compVIAF(crosscheck_df.source_author_viaf[id], crosscheck_df.target_author_viaf[id]))\n",
    "    except:\n",
    "        print(id, 'N/A')"
   ]
  },
  {
   "cell_type": "code",
   "execution_count": 38,
   "metadata": {
    "scrolled": true
   },
   "outputs": [
    {
     "name": "stdout",
     "output_type": "stream",
     "text": [
      "0 yellow \n",
      " Times Before the Reformation \n",
      " Times before the Reformation, with an account of fra Girolamo Savonarolam the Friar of Florence\n",
      "\n",
      "11 yellow \n",
      " Légendes Prophéties et Superstitions de la Guerre \n",
      " Legendes, Propheties, et Superstitions de la Guerre\n",
      "\n",
      "24 yellow \n",
      " The Goede Vrouw of Mana-ha-ta, at Home and in Society \n",
      " The Goede Vrouw of Manu-ha-ta At Home and in Society\n",
      "\n",
      "28 yellow \n",
      " Missouri \n",
      " Missouri: A Bone of Contention\n",
      "\n",
      "29 yellow \n",
      " The Goede Vrouw of Mana-ha-ta, at Home and in Society \n",
      " The Goede Vrouw of Manu-ha-ta At Home and in Society\n",
      "\n"
     ]
    }
   ],
   "source": [
    "for id in crosscheck_df.index:\n",
    "    try:\n",
    "        color = flagSimilarity(crosscheck_df.source_title[id], crosscheck_df.target_title[id])\n",
    "        if ((color == 'yellow') or (color == 'red')):\n",
    "            print(id, color, '\\n', crosscheck_df.source_title[id], '\\n', crosscheck_df.target_title[id])\n",
    "            print()\n",
    "    except:\n",
    "        pass"
   ]
  },
  {
   "cell_type": "code",
   "execution_count": 61,
   "metadata": {
    "scrolled": false
   },
   "outputs": [
    {
     "name": "stdout",
     "output_type": "stream",
     "text": [
      "0 \n",
      " William Didwiddie \n",
      " William Dinwiddie\n",
      " edit distance: 1\n",
      "\n",
      "6 inequal_author_count\n",
      "\n",
      "10 \n",
      " J. Estlin Carpenter \n",
      " William B Carpenter\n",
      " edit distance: 9\n",
      "\n",
      "15 inequal_author_count\n",
      "\n",
      "16 \n",
      " Lord Charles Beresford, M.P. \n",
      " Lord Charles Beresford\n",
      " edit distance: 4\n",
      "\n",
      "20 \n",
      " Madame Mary DuClaux \n",
      " Mary DuClaux\n",
      " edit distance: 7\n",
      "\n",
      "24 \n",
      " Mrs. John King Van Rensselaer \n",
      " John King Van Rensselaer\n",
      " edit distance: 4\n",
      "\n",
      "29 \n",
      " Mrs. John King Van Rensselaer \n",
      " John King Van Rensselaer\n",
      " edit distance: 4\n",
      "\n",
      "30 \n",
      " Arthur Twinning Hadley \n",
      " Arthur Twining Hadley\n",
      " edit distance: 1\n",
      "\n"
     ]
    }
   ],
   "source": [
    "for id in crosscheck_df.index:\n",
    "    try:\n",
    "        status = compNames(crosscheck_df.source_author_name[id], crosscheck_df.target_author_name[id])\n",
    "        if status == 'inequal_author_count':\n",
    "            print(id, status)\n",
    "            print()\n",
    "        if sum(status) == 0:\n",
    "            pass\n",
    "        else:\n",
    "            for x, y in enumerate(status):\n",
    "                print(id, '\\n', crosscheck_df.source_author_name[id], '\\n', crosscheck_df.target_author_name[id])\n",
    "                print(' edit distance:', y)\n",
    "                print()\n",
    "    except:\n",
    "        pass"
   ]
  },
  {
   "cell_type": "markdown",
   "metadata": {},
   "source": [
    "#### Notes:\n",
    "Should remove titles before analysis - the case of Mrs. John King Van Rensselaer is difficult though"
   ]
  },
  {
   "cell_type": "code",
   "execution_count": null,
   "metadata": {},
   "outputs": [],
   "source": []
  }
 ],
 "metadata": {
  "kernelspec": {
   "display_name": "Python 3",
   "language": "python",
   "name": "python3"
  },
  "language_info": {
   "codemirror_mode": {
    "name": "ipython",
    "version": 3
   },
   "file_extension": ".py",
   "mimetype": "text/x-python",
   "name": "python",
   "nbconvert_exporter": "python",
   "pygments_lexer": "ipython3",
   "version": "3.7.4"
  }
 },
 "nbformat": 4,
 "nbformat_minor": 2
}
